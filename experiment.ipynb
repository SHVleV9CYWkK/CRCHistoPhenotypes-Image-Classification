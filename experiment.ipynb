{
 "cells": [
  {
   "cell_type": "code",
   "execution_count": 2,
   "metadata": {
    "collapsed": true,
    "ExecuteTime": {
     "end_time": "2023-05-06T11:50:46.474210Z",
     "start_time": "2023-05-06T11:50:45.952075Z"
    }
   },
   "outputs": [],
   "source": [
    "import pandas as pd\n",
    "import matplotlib.pyplot as plt\n",
    "import matplotlib.image as mpimg"
   ]
  },
  {
   "cell_type": "code",
   "execution_count": 3,
   "outputs": [],
   "source": [
    "data = pd.read_csv('./Image_classification_data/data_labels_mainData.csv')\n",
    "data_extra = pd.read_csv('./Image_classification_data/data_labels_extraData.csv')"
   ],
   "metadata": {
    "collapsed": false,
    "ExecuteTime": {
     "end_time": "2023-05-06T11:50:47.115835Z",
     "start_time": "2023-05-06T11:50:47.104372Z"
    }
   }
  },
  {
   "cell_type": "code",
   "execution_count": 21,
   "outputs": [
    {
     "data": {
      "text/plain": "array([0, 1])"
     },
     "execution_count": 21,
     "metadata": {},
     "output_type": "execute_result"
    }
   ],
   "source": [
    "data['isCancerous'].unique()"
   ],
   "metadata": {
    "collapsed": false,
    "ExecuteTime": {
     "start_time": "2023-04-28T13:51:54.852339Z",
     "end_time": "2023-04-28T13:51:54.854821Z"
    }
   }
  },
  {
   "cell_type": "code",
   "execution_count": 22,
   "outputs": [
    {
     "data": {
      "text/plain": "array([0, 1])"
     },
     "execution_count": 22,
     "metadata": {},
     "output_type": "execute_result"
    }
   ],
   "source": [
    "data_extra['isCancerous'].unique()"
   ],
   "metadata": {
    "collapsed": false,
    "ExecuteTime": {
     "start_time": "2023-04-28T13:51:57.407297Z",
     "end_time": "2023-04-28T13:51:57.413092Z"
    }
   }
  },
  {
   "cell_type": "code",
   "execution_count": 4,
   "outputs": [
    {
     "data": {
      "text/plain": "(array([-0.2,  0. ,  0.2,  0.4,  0.6,  0.8,  1. ,  1.2]),\n [Text(-0.2, 0, '−0.2'),\n  Text(0.0, 0, '0.0'),\n  Text(0.2, 0, '0.2'),\n  Text(0.4000000000000001, 0, '0.4'),\n  Text(0.6000000000000001, 0, '0.6'),\n  Text(0.8, 0, '0.8'),\n  Text(1.0000000000000002, 0, '1.0'),\n  Text(1.2000000000000002, 0, '1.2')])"
     },
     "execution_count": 4,
     "metadata": {},
     "output_type": "execute_result"
    },
    {
     "data": {
      "text/plain": "<Figure size 432x288 with 1 Axes>",
      "image/png": "[encoded data removed]"
     },
     "metadata": {
      "needs_background": "light"
     },
     "output_type": "display_data"
    }
   ],
   "source": [
    "# plt.hist(data['isCancerous'], alpha=0.3, color='b', density=True)\n",
    "plt.hist(data_extra['isCancerous'], alpha=0.3, color='r', density=True)\n",
    "# plt.hist(data['isCancerous'], alpha=0.3, color='g', density=True)\n",
    "plt.title('isCancerous')\n",
    "plt.xticks(rotation='vertical')"
   ],
   "metadata": {
    "collapsed": false,
    "ExecuteTime": {
     "end_time": "2023-05-06T11:50:49.329315Z",
     "start_time": "2023-05-06T11:50:49.241766Z"
    }
   }
  },
  {
   "cell_type": "code",
   "execution_count": 7,
   "outputs": [
    {
     "data": {
      "text/plain": "<Figure size 1440x360 with 4 Axes>",
      "image/png": "[encoded data removed]"
     },
     "metadata": {
      "needs_background": "light"
     },
     "output_type": "display_data"
    }
   ],
   "source": [
    "unique_cell_types = data['cellTypeName'].unique()\n",
    "selected_images = {}\n",
    "\n",
    "for cell_type in unique_cell_types:\n",
    "    images_of_cell_type = data[data['cellTypeName'] == cell_type]\n",
    "    selected_image = images_of_cell_type.sample(n=1).iloc[0]\n",
    "    selected_images[cell_type] = selected_image['ImageName']\n",
    "\n",
    "fig, axes = plt.subplots(1, len(unique_cell_types), figsize=(len(unique_cell_types) * 5, 5))\n",
    "\n",
    "for ax, (cell_type, image_path) in zip(axes, selected_images.items()):\n",
    "    img = mpimg.imread(\"./Image_classification_data/patch_images/\" + image_path)\n",
    "    ax.imshow(img)\n",
    "    ax.set_title(cell_type)\n",
    "    ax.axis('off')\n",
    "\n",
    "plt.show()"
   ],
   "metadata": {
    "collapsed": false,
    "ExecuteTime": {
     "end_time": "2023-05-07T07:19:39.318820Z",
     "start_time": "2023-05-07T07:19:39.207941Z"
    }
   }
  },
  {
   "cell_type": "code",
   "execution_count": 48,
   "outputs": [
    {
     "name": "stdout",
     "output_type": "stream",
     "text": [
      "Metal device set to: Apple M1 Pro\n",
      "tf.Tensor([False False  True False  True False], shape=(6,), dtype=bool)\n"
     ]
    }
   ],
   "source": [
    "import tensorflow as tf\n",
    "pseudo_labels_value = tf.constant([0, 1, 2, 0, 2, 1], dtype=tf.int64)\n",
    "category_2_mask = tf.equal(pseudo_labels_value, 2)\n",
    "print(category_2_mask)"
   ],
   "metadata": {
    "collapsed": false,
    "ExecuteTime": {
     "start_time": "2023-05-05T17:53:56.365334Z",
     "end_time": "2023-05-05T17:53:58.487951Z"
    }
   }
  }
 ],
 "metadata": {
  "kernelspec": {
   "display_name": "Python 3",
   "language": "python",
   "name": "python3"
  },
  "language_info": {
   "codemirror_mode": {
    "name": "ipython",
    "version": 2
   },
   "file_extension": ".py",
   "mimetype": "text/x-python",
   "name": "python",
   "nbconvert_exporter": "python",
   "pygments_lexer": "ipython2",
   "version": "2.7.6"
  }
 },
 "nbformat": 4,
 "nbformat_minor": 0
}
