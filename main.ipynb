{
 "cells": [
  {
   "cell_type": "markdown",
   "source": [
    "导包"
   ],
   "metadata": {
    "collapsed": false
   }
  },
  {
   "cell_type": "code",
   "execution_count": 1,
   "metadata": {
    "collapsed": true,
    "ExecuteTime": {
     "start_time": "2023-05-01T20:57:11.230623Z",
     "end_time": "2023-05-01T20:57:13.695981Z"
    }
   },
   "outputs": [],
   "source": [
    "import pandas as pd\n",
    "import matplotlib.pyplot as plt\n",
    "import numpy as np\n",
    "import tensorflow as tf\n",
    "# import tensorflow_addons as tfa\n",
    "from sklearn.model_selection import train_test_split\n",
    "from tqdm import tqdm\n",
    "import math\n",
    "import random"
   ]
  },
  {
   "cell_type": "markdown",
   "source": [
    "获取主数据集\n",
    "test_data 为不可见数据集"
   ],
   "metadata": {
    "collapsed": false
   }
  },
  {
   "cell_type": "code",
   "execution_count": 2,
   "outputs": [],
   "source": [
    "seed_value = 42\n",
    "np.random.seed(seed_value)\n",
    "tf.random.set_seed(seed_value)\n",
    "random.seed(seed_value)\n",
    "\n",
    "data = pd.read_csv('./Image_classification_data/data_labels_mainData.csv')\n",
    "data['isCancerous'] = data['isCancerous'].astype(str)\n",
    "data['cellType'] = data['cellType'].astype(str)\n",
    "undivided_train_data, test_data = train_test_split(data, test_size=0.2, random_state=42)\n",
    "train_data, val_data = train_test_split(undivided_train_data, test_size=0.2, random_state=42)"
   ],
   "metadata": {
    "collapsed": false,
    "ExecuteTime": {
     "start_time": "2023-05-01T20:58:50.456583Z",
     "end_time": "2023-05-01T20:58:50.472021Z"
    }
   }
  },
  {
   "cell_type": "code",
   "execution_count": 3,
   "outputs": [
    {
     "data": {
      "text/plain": "([0, 1], [Text(0, 0, '0'), Text(1, 0, '1')])"
     },
     "execution_count": 3,
     "metadata": {},
     "output_type": "execute_result"
    },
    {
     "data": {
      "text/plain": "<Figure size 432x288 with 1 Axes>",
      "image/png": "[encoded data removed]"
     },
     "metadata": {
      "needs_background": "light"
     },
     "output_type": "display_data"
    }
   ],
   "source": [
    "plt.hist(train_data['isCancerous'], alpha=0.3, color='b', label='Train', density=True)\n",
    "plt.hist(test_data['isCancerous'], alpha=0.3, color='r', label='Test',  density=True)\n",
    "plt.hist(val_data['isCancerous'], alpha=0.3, color='g', label='Val',  density=True)\n",
    "plt.title('isCancerous')\n",
    "plt.xticks(rotation='vertical')"
   ],
   "metadata": {
    "collapsed": false,
    "ExecuteTime": {
     "start_time": "2023-05-01T20:58:52.754564Z",
     "end_time": "2023-05-01T20:58:52.904928Z"
    }
   }
  },
  {
   "cell_type": "code",
   "execution_count": 4,
   "outputs": [
    {
     "data": {
      "text/plain": "([0, 1, 2, 3],\n [Text(0, 0, '1'), Text(1, 0, '0'), Text(2, 0, '2'), Text(3, 0, '3')])"
     },
     "execution_count": 4,
     "metadata": {},
     "output_type": "execute_result"
    },
    {
     "data": {
      "text/plain": "<Figure size 432x288 with 1 Axes>",
      "image/png": "[encoded data removed]"
     },
     "metadata": {
      "needs_background": "light"
     },
     "output_type": "display_data"
    }
   ],
   "source": [
    "plt.hist(train_data['cellType'], alpha=0.3, color='b', label='Train', density=True)\n",
    "plt.hist(test_data['cellType'], alpha=0.3, color='r', label='Test',  density=True)\n",
    "plt.hist(val_data['cellType'], alpha=0.3, color='g', density=True)\n",
    "plt.title('cellType')\n",
    "plt.xticks(rotation='vertical')"
   ],
   "metadata": {
    "collapsed": false,
    "ExecuteTime": {
     "start_time": "2023-05-01T20:58:54.153274Z",
     "end_time": "2023-05-01T20:58:54.222879Z"
    }
   }
  },
  {
   "cell_type": "code",
   "execution_count": 5,
   "outputs": [],
   "source": [
    "class_samples_isCancerous = train_data['isCancerous'].value_counts()\n",
    "total_samples = np.sum(class_samples_isCancerous)\n",
    "class_weights_isCancerous = total_samples / class_samples_isCancerous\n",
    "class_weight_dict_isCancerous = {int(k): v for k, v in class_weights_isCancerous.to_dict().items()}\n",
    "\n",
    "class_samples_cellType = train_data['cellType'].value_counts()\n",
    "total_samples = np.sum(class_samples_cellType)\n",
    "class_weights_cellType = total_samples / class_samples_cellType\n",
    "class_weight_dict_cellType = {int(k): v for k, v in class_weights_cellType.to_dict().items()}"
   ],
   "metadata": {
    "collapsed": false,
    "ExecuteTime": {
     "start_time": "2023-05-01T20:58:56.846548Z",
     "end_time": "2023-05-01T20:58:56.850748Z"
    }
   }
  },
  {
   "cell_type": "code",
   "execution_count": 71,
   "outputs": [],
   "source": [
    "class CustomImageDataGenerator(tf.keras.preprocessing.image.ImageDataGenerator):\n",
    "    def __init__(self, num_augmentations=3, *args, **kwargs):\n",
    "        super().__init__(*args, **kwargs)\n",
    "        self.num_augmentations = num_augmentations\n",
    "\n",
    "    def apply_transform(self, x, transform_parameters):\n",
    "        augmentations = [\n",
    "            \"theta\",\n",
    "            \"tx\",\n",
    "            \"ty\",\n",
    "            \"shear\",\n",
    "            \"zx\",\n",
    "            \"zy\",\n",
    "            \"flip_horizontal\",\n",
    "            \"flip_vertical\",\n",
    "            \"brightness\",\n",
    "        ]\n",
    "\n",
    "        selected_augmentations = random.sample(augmentations, self.num_augmentations)\n",
    "        filtered_transform_parameters = {\n",
    "            key: value for key, value in transform_parameters.items() if key in selected_augmentations\n",
    "        }\n",
    "\n",
    "        return super().apply_transform(x, filtered_transform_parameters)\n",
    "\n",
    "train_datagen = CustomImageDataGenerator(\n",
    "    num_augmentations=3,\n",
    "    rescale=1./255,\n",
    "    rotation_range=40,\n",
    "    width_shift_range=0.2,\n",
    "    height_shift_range=0.2,\n",
    "    shear_range=0.2,\n",
    "    zoom_range=0.2,\n",
    "    brightness_range=[0.2,1.0],\n",
    "    horizontal_flip=True,\n",
    "    vertical_flip=True,\n",
    "    fill_mode='nearest'\n",
    ")"
   ],
   "metadata": {
    "collapsed": false,
    "ExecuteTime": {
     "start_time": "2023-05-01T22:07:27.754946Z",
     "end_time": "2023-05-01T22:07:27.760249Z"
    }
   }
  },
  {
   "cell_type": "code",
   "execution_count": 60,
   "outputs": [
    {
     "name": "stdout",
     "output_type": "stream",
     "text": [
      "Found 6332 validated image filenames belonging to 2 classes.\n",
      "Found 1584 validated image filenames belonging to 2 classes.\n",
      "Found 1980 validated image filenames belonging to 2 classes.\n"
     ]
    }
   ],
   "source": [
    "batch_size = 32\n",
    "# train_datagen = tf.keras.preprocessing.image.ImageDataGenerator(\n",
    "#     rescale=1./255,\n",
    "#     rotation_range=40,\n",
    "#     width_shift_range=0.2,\n",
    "#     height_shift_range=0.2,\n",
    "#     shear_range=0.2,\n",
    "#     zoom_range=0.2,\n",
    "#     horizontal_flip=True,\n",
    "#     vertical_flip=True,\n",
    "#     fill_mode='nearest'\n",
    "# )\n",
    "\n",
    "val_datagen = tf.keras.preprocessing.image.ImageDataGenerator(\n",
    "    rescale=1./255\n",
    ")\n",
    "\n",
    "test_datagen = tf.keras.preprocessing.image.ImageDataGenerator(\n",
    "    rescale=1./255\n",
    ")\n",
    "\n",
    "train_isCancerous_generator = train_datagen.flow_from_dataframe(\n",
    "    train_data,\n",
    "    directory='./Image_classification_data/patch_images',\n",
    "    x_col='ImageName',\n",
    "    y_col='isCancerous',\n",
    "    target_size=(27, 27),\n",
    "    batch_size=batch_size,\n",
    "    class_mode='binary')\n",
    "\n",
    "val_isCancerous_generator = val_datagen.flow_from_dataframe(\n",
    "    val_data,\n",
    "    directory='./Image_classification_data/patch_images',\n",
    "    x_col='ImageName',\n",
    "    y_col='isCancerous',\n",
    "    target_size=(27, 27),\n",
    "    batch_size=batch_size,\n",
    "    class_mode='binary')\n",
    "\n",
    "test_isCancerous_generator = test_datagen.flow_from_dataframe(\n",
    "    test_data,\n",
    "    directory='./Image_classification_data/patch_images',\n",
    "    x_col='ImageName',\n",
    "    y_col='isCancerous',\n",
    "    target_size=(27, 27),\n",
    "    batch_size=batch_size,\n",
    "    class_mode='binary')"
   ],
   "metadata": {
    "collapsed": false,
    "ExecuteTime": {
     "start_time": "2023-05-01T21:50:12.166764Z",
     "end_time": "2023-05-01T21:50:12.264687Z"
    }
   }
  },
  {
   "cell_type": "code",
   "execution_count": 61,
   "outputs": [
    {
     "name": "stdout",
     "output_type": "stream",
     "text": [
      "Found 6332 validated image filenames belonging to 4 classes.\n",
      "Found 1584 validated image filenames belonging to 4 classes.\n",
      "Found 1980 validated image filenames belonging to 4 classes.\n"
     ]
    }
   ],
   "source": [
    "train_cellType_generator = train_datagen.flow_from_dataframe(\n",
    "    train_data,\n",
    "    directory='./Image_classification_data/patch_images',\n",
    "    x_col='ImageName',\n",
    "    y_col='cellType',\n",
    "    target_size=(27, 27),\n",
    "    batch_size=batch_size,\n",
    "    class_mode='categorical')\n",
    "\n",
    "val_cellType_generator = val_datagen.flow_from_dataframe(\n",
    "    val_data,\n",
    "    directory='./Image_classification_data/patch_images',\n",
    "    x_col='ImageName',\n",
    "    y_col='cellType',\n",
    "    target_size=(27, 27),\n",
    "    batch_size=batch_size,\n",
    "    class_mode='categorical')\n",
    "\n",
    "test_cellType_generator = test_datagen.flow_from_dataframe(\n",
    "    test_data,\n",
    "    directory='./Image_classification_data/patch_images',\n",
    "    x_col='ImageName',\n",
    "    y_col='cellType',\n",
    "    target_size=(27, 27),\n",
    "    batch_size=batch_size,\n",
    "    class_mode='categorical')"
   ],
   "metadata": {
    "collapsed": false,
    "ExecuteTime": {
     "start_time": "2023-05-01T21:50:13.502355Z",
     "end_time": "2023-05-01T21:50:13.591059Z"
    }
   }
  },
  {
   "cell_type": "markdown",
   "source": [
    "两层卷积一层池化，32，64。两层512感知器。"
   ],
   "metadata": {
    "collapsed": false
   }
  },
  {
   "cell_type": "code",
   "execution_count": 10,
   "outputs": [
    {
     "name": "stdout",
     "output_type": "stream",
     "text": [
      "Metal device set to: Apple M1 Pro\n",
      "Model: \"sequential\"\n",
      "_________________________________________________________________\n",
      " Layer (type)                Output Shape              Param #   \n",
      "=================================================================\n",
      " conv2d (Conv2D)             (None, 27, 27, 32)        896       \n",
      "                                                                 \n",
      " batch_normalization (BatchN  (None, 27, 27, 32)       128       \n",
      " ormalization)                                                   \n",
      "                                                                 \n",
      " conv2d_1 (Conv2D)           (None, 25, 25, 32)        9248      \n",
      "                                                                 \n",
      " batch_normalization_1 (Batc  (None, 25, 25, 32)       128       \n",
      " hNormalization)                                                 \n",
      "                                                                 \n",
      " max_pooling2d (MaxPooling2D  (None, 12, 12, 32)       0         \n",
      " )                                                               \n",
      "                                                                 \n",
      " conv2d_2 (Conv2D)           (None, 12, 12, 64)        18496     \n",
      "                                                                 \n",
      " batch_normalization_2 (Batc  (None, 12, 12, 64)       256       \n",
      " hNormalization)                                                 \n",
      "                                                                 \n",
      " conv2d_3 (Conv2D)           (None, 10, 10, 64)        36928     \n",
      "                                                                 \n",
      " batch_normalization_3 (Batc  (None, 10, 10, 64)       256       \n",
      " hNormalization)                                                 \n",
      "                                                                 \n",
      " max_pooling2d_1 (MaxPooling  (None, 5, 5, 64)         0         \n",
      " 2D)                                                             \n",
      "                                                                 \n",
      " flatten (Flatten)           (None, 1600)              0         \n",
      "                                                                 \n",
      " dense (Dense)               (None, 512)               819712    \n",
      "                                                                 \n",
      " batch_normalization_4 (Batc  (None, 512)              2048      \n",
      " hNormalization)                                                 \n",
      "                                                                 \n",
      " dropout (Dropout)           (None, 512)               0         \n",
      "                                                                 \n",
      " dense_1 (Dense)             (None, 512)               262656    \n",
      "                                                                 \n",
      " batch_normalization_5 (Batc  (None, 512)              2048      \n",
      " hNormalization)                                                 \n",
      "                                                                 \n",
      " dropout_1 (Dropout)         (None, 512)               0         \n",
      "                                                                 \n",
      " dense_2 (Dense)             (None, 1)                 513       \n",
      "                                                                 \n",
      "=================================================================\n",
      "Total params: 1,153,313\n",
      "Trainable params: 1,150,881\n",
      "Non-trainable params: 2,432\n",
      "_________________________________________________________________\n"
     ]
    }
   ],
   "source": [
    "input_shape = (27, 27, 3)\n",
    "num_classes = 4\n",
    "l2_coeff = 0.01\n",
    "\n",
    "model_binary = tf.keras.models.Sequential([\n",
    "    tf.keras.layers.Conv2D(32, (3,3), activation='relu', input_shape=input_shape, padding='same', kernel_regularizer=tf.keras.regularizers.l2(l2_coeff)),\n",
    "    tf.keras.layers.BatchNormalization(),\n",
    "    tf.keras.layers.Conv2D(32, (3,3), activation='relu', kernel_regularizer=tf.keras.regularizers.l2(l2_coeff)),\n",
    "    tf.keras.layers.BatchNormalization(),\n",
    "    tf.keras.layers.MaxPooling2D(2, 2),\n",
    "    tf.keras.layers.Conv2D(64, (3,3), activation='relu', padding='same', kernel_regularizer=tf.keras.regularizers.l2(l2_coeff)),\n",
    "    tf.keras.layers.BatchNormalization(),\n",
    "    tf.keras.layers.Conv2D(64, (3,3), activation='relu', kernel_regularizer=tf.keras.regularizers.l2(l2_coeff)),\n",
    "    tf.keras.layers.BatchNormalization(),\n",
    "    tf.keras.layers.MaxPooling2D(2, 2),\n",
    "    tf.keras.layers.Flatten(),\n",
    "    tf.keras.layers.Dense(512, activation='relu', kernel_regularizer=tf.keras.regularizers.l2(l2_coeff)),\n",
    "    tf.keras.layers.BatchNormalization(),\n",
    "    tf.keras.layers.Dropout(0.2),\n",
    "    tf.keras.layers.Dense(512, activation='relu', kernel_regularizer=tf.keras.regularizers.l2(l2_coeff)),\n",
    "    tf.keras.layers.BatchNormalization(),\n",
    "    tf.keras.layers.Dropout(0.2),\n",
    "    tf.keras.layers.Dense(1, activation='sigmoid')\n",
    "])\n",
    "model_binary.summary()"
   ],
   "metadata": {
    "collapsed": false,
    "ExecuteTime": {
     "start_time": "2023-05-01T20:59:07.800414Z",
     "end_time": "2023-05-01T20:59:08.038244Z"
    }
   }
  },
  {
   "cell_type": "code",
   "execution_count": 62,
   "outputs": [
    {
     "name": "stdout",
     "output_type": "stream",
     "text": [
      "Model: \"sequential_4\"\n",
      "_________________________________________________________________\n",
      " Layer (type)                Output Shape              Param #   \n",
      "=================================================================\n",
      " conv2d_16 (Conv2D)          (None, 27, 27, 32)        896       \n",
      "                                                                 \n",
      " batch_normalization_24 (Bat  (None, 27, 27, 32)       128       \n",
      " chNormalization)                                                \n",
      "                                                                 \n",
      " conv2d_17 (Conv2D)          (None, 25, 25, 32)        9248      \n",
      "                                                                 \n",
      " batch_normalization_25 (Bat  (None, 25, 25, 32)       128       \n",
      " chNormalization)                                                \n",
      "                                                                 \n",
      " max_pooling2d_8 (MaxPooling  (None, 12, 12, 32)       0         \n",
      " 2D)                                                             \n",
      "                                                                 \n",
      " conv2d_18 (Conv2D)          (None, 12, 12, 64)        18496     \n",
      "                                                                 \n",
      " batch_normalization_26 (Bat  (None, 12, 12, 64)       256       \n",
      " chNormalization)                                                \n",
      "                                                                 \n",
      " conv2d_19 (Conv2D)          (None, 10, 10, 64)        36928     \n",
      "                                                                 \n",
      " batch_normalization_27 (Bat  (None, 10, 10, 64)       256       \n",
      " chNormalization)                                                \n",
      "                                                                 \n",
      " max_pooling2d_9 (MaxPooling  (None, 5, 5, 64)         0         \n",
      " 2D)                                                             \n",
      "                                                                 \n",
      " flatten_4 (Flatten)         (None, 1600)              0         \n",
      "                                                                 \n",
      " dense_12 (Dense)            (None, 512)               819712    \n",
      "                                                                 \n",
      " batch_normalization_28 (Bat  (None, 512)              2048      \n",
      " chNormalization)                                                \n",
      "                                                                 \n",
      " dropout_8 (Dropout)         (None, 512)               0         \n",
      "                                                                 \n",
      " dense_13 (Dense)            (None, 512)               262656    \n",
      "                                                                 \n",
      " batch_normalization_29 (Bat  (None, 512)              2048      \n",
      " chNormalization)                                                \n",
      "                                                                 \n",
      " dropout_9 (Dropout)         (None, 512)               0         \n",
      "                                                                 \n",
      " dense_14 (Dense)            (None, 4)                 2052      \n",
      "                                                                 \n",
      "=================================================================\n",
      "Total params: 1,154,852\n",
      "Trainable params: 1,152,420\n",
      "Non-trainable params: 2,432\n",
      "_________________________________________________________________\n"
     ]
    }
   ],
   "source": [
    "model_categorical = tf.keras.models.Sequential([\n",
    "    tf.keras.layers.Conv2D(32, (3,3), activation='relu', input_shape=input_shape, padding='same', kernel_regularizer=tf.keras.regularizers.l2(l2_coeff)),\n",
    "    tf.keras.layers.BatchNormalization(),\n",
    "    tf.keras.layers.Conv2D(32, (3,3), activation='relu', kernel_regularizer=tf.keras.regularizers.l2(l2_coeff)),\n",
    "    tf.keras.layers.BatchNormalization(),\n",
    "    tf.keras.layers.MaxPooling2D(2, 2),\n",
    "    tf.keras.layers.Conv2D(64, (3,3), activation='relu', padding='same', kernel_regularizer=tf.keras.regularizers.l2(l2_coeff)),\n",
    "    tf.keras.layers.BatchNormalization(),\n",
    "    tf.keras.layers.Conv2D(64, (3,3), activation='relu', kernel_regularizer=tf.keras.regularizers.l2(l2_coeff)),\n",
    "    tf.keras.layers.BatchNormalization(),\n",
    "    tf.keras.layers.MaxPooling2D(2, 2),\n",
    "    tf.keras.layers.Flatten(),\n",
    "    tf.keras.layers.Dense(512, activation='relu', kernel_regularizer=tf.keras.regularizers.l2(l2_coeff)),\n",
    "    tf.keras.layers.BatchNormalization(),\n",
    "    tf.keras.layers.Dropout(0.2),\n",
    "    tf.keras.layers.Dense(512, activation='relu', kernel_regularizer=tf.keras.regularizers.l2(l2_coeff)),\n",
    "    tf.keras.layers.BatchNormalization(),\n",
    "    tf.keras.layers.Dropout(0.2),\n",
    "    tf.keras.layers.Dense(num_classes, activation='softmax')\n",
    "])\n",
    "model_categorical.summary()"
   ],
   "metadata": {
    "collapsed": false,
    "ExecuteTime": {
     "start_time": "2023-05-01T21:50:16.089247Z",
     "end_time": "2023-05-01T21:50:16.172888Z"
    }
   }
  },
  {
   "cell_type": "code",
   "execution_count": 63,
   "outputs": [],
   "source": [
    "class F1Score(tf.keras.metrics.Metric):\n",
    "    def __init__(self, name='f1_score', **kwargs):\n",
    "        super().__init__(name=name, **kwargs)\n",
    "        self.precision = tf.keras.metrics.Precision()\n",
    "        self.recall = tf.keras.metrics.Recall()\n",
    "\n",
    "    def update_state(self, y_true, y_pred, sample_weight=None):\n",
    "        self.precision.update_state(y_true, y_pred, sample_weight)\n",
    "        self.recall.update_state(y_true, y_pred, sample_weight)\n",
    "\n",
    "    def result(self):\n",
    "        precision = self.precision.result()\n",
    "        recall = self.recall.result()\n",
    "        return 2 * ((precision * recall) / (precision + recall + tf.keras.backend.epsilon()))\n",
    "\n",
    "    def reset_state(self):\n",
    "        self.precision.reset_states()\n",
    "        self.recall.reset_states()\n",
    "\n",
    "    def get_config(self):\n",
    "        return super().get_config()\n",
    "\n",
    "    @classmethod\n",
    "    def from_config(cls, config):\n",
    "        return cls(**config)"
   ],
   "metadata": {
    "collapsed": false,
    "ExecuteTime": {
     "start_time": "2023-05-01T21:50:18.963735Z",
     "end_time": "2023-05-01T21:50:18.971504Z"
    }
   }
  },
  {
   "cell_type": "code",
   "execution_count": 64,
   "outputs": [],
   "source": [
    "model_binary.compile(loss='binary_crossentropy',\n",
    "                     optimizer=tf.keras.optimizers.legacy.Adam(learning_rate=0.0001),\n",
    "                     metrics=['accuracy',\n",
    "                       tf.keras.metrics.Precision(name='precision'),\n",
    "                       tf.keras.metrics.Recall(name='recall'),\n",
    "                       F1Score(name='f1_score')])\n",
    "\n",
    "model_categorical.compile(loss='categorical_crossentropy',\n",
    "                          optimizer=tf.keras.optimizers.legacy.Adam(learning_rate=0.0005),\n",
    "                          metrics=['accuracy',\n",
    "                                   tf.keras.metrics.Precision(name='precision'),\n",
    "                                   tf.keras.metrics.Recall(name='recall'),\n",
    "                                   F1Score(name='f1_score')])"
   ],
   "metadata": {
    "collapsed": false,
    "ExecuteTime": {
     "start_time": "2023-05-01T21:50:20.130417Z",
     "end_time": "2023-05-01T21:50:20.160444Z"
    }
   }
  },
  {
   "cell_type": "code",
   "execution_count": 65,
   "outputs": [],
   "source": [
    "lr_reducer = tf.keras.callbacks.ReduceLROnPlateau(monitor='val_loss', factor=np.sqrt(0.1), cooldown=0, patience=3, min_lr=0.5e-15)"
   ],
   "metadata": {
    "collapsed": false,
    "ExecuteTime": {
     "start_time": "2023-05-01T21:50:21.257861Z",
     "end_time": "2023-05-01T21:50:21.265417Z"
    }
   }
  },
  {
   "cell_type": "code",
   "execution_count": 46,
   "outputs": [
    {
     "name": "stdout",
     "output_type": "stream",
     "text": [
      "Epoch 1/100\n",
      "197/197 [==============================] - ETA: 0s - loss: 14.7228 - accuracy: 0.7825 - precision: 0.7098 - recall: 0.8093 - f1_score: 0.7563"
     ]
    },
    {
     "name": "stderr",
     "output_type": "stream",
     "text": [
      "/Users/hueybai/miniconda3/envs/DL/lib/python3.10/site-packages/keras/engine/training.py:2448: UserWarning: Metric F1Score implements a `reset_states()` method; rename it to `reset_state()` (without the final \"s\"). The name `reset_states()` has been deprecated to improve API consistency.\n",
      "  m.reset_state()\n"
     ]
    },
    {
     "name": "stdout",
     "output_type": "stream",
     "text": [
      "197/197 [==============================] - 10s 44ms/step - loss: 14.7228 - accuracy: 0.7825 - precision: 0.7098 - recall: 0.8093 - f1_score: 0.7563 - val_loss: 14.2416 - val_accuracy: 0.4107 - val_precision: 0.4107 - val_recall: 1.0000 - val_f1_score: 0.5823 - lr: 1.0000e-04\n",
      "Epoch 2/100\n",
      "197/197 [==============================] - 8s 42ms/step - loss: 13.4199 - accuracy: 0.8302 - precision: 0.7637 - recall: 0.8569 - f1_score: 0.8076 - val_loss: 12.4927 - val_accuracy: 0.8151 - val_precision: 0.7057 - val_recall: 0.9442 - val_f1_score: 0.8077 - lr: 1.0000e-04\n",
      "Epoch 3/100\n",
      "197/197 [==============================] - 8s 43ms/step - loss: 12.3227 - accuracy: 0.8395 - precision: 0.7823 - recall: 0.8528 - f1_score: 0.8160 - val_loss: 11.3814 - val_accuracy: 0.8603 - val_precision: 0.7670 - val_recall: 0.9471 - val_f1_score: 0.8476 - lr: 1.0000e-04\n",
      "Epoch 4/100\n",
      "197/197 [==============================] - 8s 41ms/step - loss: 11.3264 - accuracy: 0.8437 - precision: 0.7818 - recall: 0.8667 - f1_score: 0.8220 - val_loss: 10.4735 - val_accuracy: 0.8654 - val_precision: 0.7765 - val_recall: 0.9405 - val_f1_score: 0.8507 - lr: 1.0000e-04\n",
      "Epoch 5/100\n",
      "197/197 [==============================] - 8s 41ms/step - loss: 10.4306 - accuracy: 0.8479 - precision: 0.7949 - recall: 0.8555 - f1_score: 0.8241 - val_loss: 9.5914 - val_accuracy: 0.8909 - val_precision: 0.8819 - val_recall: 0.8476 - val_f1_score: 0.8644 - lr: 1.0000e-04\n",
      "Epoch 6/100\n",
      "197/197 [==============================] - 8s 42ms/step - loss: 9.6074 - accuracy: 0.8538 - precision: 0.7988 - recall: 0.8684 - f1_score: 0.8321 - val_loss: 8.8268 - val_accuracy: 0.8890 - val_precision: 0.8340 - val_recall: 0.9116 - val_f1_score: 0.8711 - lr: 1.0000e-04\n",
      "Epoch 7/100\n",
      "197/197 [==============================] - 9s 44ms/step - loss: 8.8820 - accuracy: 0.8511 - precision: 0.7997 - recall: 0.8581 - f1_score: 0.8279 - val_loss: 8.1127 - val_accuracy: 0.8909 - val_precision: 0.8512 - val_recall: 0.8896 - val_f1_score: 0.8700 - lr: 1.0000e-04\n",
      "Epoch 8/100\n",
      "197/197 [==============================] - 8s 43ms/step - loss: 8.1694 - accuracy: 0.8621 - precision: 0.8132 - recall: 0.8681 - f1_score: 0.8398 - val_loss: 7.4686 - val_accuracy: 0.8846 - val_precision: 0.8039 - val_recall: 0.9502 - val_f1_score: 0.8710 - lr: 1.0000e-04\n",
      "Epoch 9/100\n",
      "197/197 [==============================] - 9s 43ms/step - loss: 7.5322 - accuracy: 0.8641 - precision: 0.8123 - recall: 0.8761 - f1_score: 0.8430 - val_loss: 6.8268 - val_accuracy: 0.8935 - val_precision: 0.8630 - val_recall: 0.8804 - val_f1_score: 0.8716 - lr: 1.0000e-04\n",
      "Epoch 10/100\n",
      "197/197 [==============================] - 8s 43ms/step - loss: 6.9487 - accuracy: 0.8662 - precision: 0.8213 - recall: 0.8673 - f1_score: 0.8437 - val_loss: 6.3063 - val_accuracy: 0.8903 - val_precision: 0.8145 - val_recall: 0.9469 - val_f1_score: 0.8757 - lr: 1.0000e-04\n",
      "Epoch 11/100\n",
      "197/197 [==============================] - 8s 42ms/step - loss: 6.4126 - accuracy: 0.8637 - precision: 0.8141 - recall: 0.8726 - f1_score: 0.8423 - val_loss: 5.7652 - val_accuracy: 0.8897 - val_precision: 0.8716 - val_recall: 0.8567 - val_f1_score: 0.8641 - lr: 1.0000e-04\n",
      "Epoch 12/100\n",
      "197/197 [==============================] - 8s 43ms/step - loss: 5.9178 - accuracy: 0.8659 - precision: 0.8206 - recall: 0.8684 - f1_score: 0.8438 - val_loss: 5.4215 - val_accuracy: 0.8374 - val_precision: 0.9206 - val_recall: 0.6631 - val_f1_score: 0.7709 - lr: 1.0000e-04\n",
      "Epoch 13/100\n",
      "197/197 [==============================] - 8s 40ms/step - loss: 5.4634 - accuracy: 0.8649 - precision: 0.8169 - recall: 0.8708 - f1_score: 0.8430 - val_loss: 4.8580 - val_accuracy: 0.9075 - val_precision: 0.8943 - val_recall: 0.8791 - val_f1_score: 0.8866 - lr: 1.0000e-04\n",
      "Epoch 14/100\n",
      "197/197 [==============================] - 8s 40ms/step - loss: 5.0579 - accuracy: 0.8646 - precision: 0.8161 - recall: 0.8712 - f1_score: 0.8428 - val_loss: 4.4783 - val_accuracy: 0.8916 - val_precision: 0.9126 - val_recall: 0.8131 - val_f1_score: 0.8600 - lr: 1.0000e-04\n",
      "Epoch 15/100\n",
      "197/197 [==============================] - 8s 40ms/step - loss: 4.6536 - accuracy: 0.8716 - precision: 0.8298 - recall: 0.8705 - f1_score: 0.8497 - val_loss: 4.1593 - val_accuracy: 0.8750 - val_precision: 0.9170 - val_recall: 0.7618 - val_f1_score: 0.8322 - lr: 1.0000e-04\n",
      "Epoch 16/100\n",
      "197/197 [==============================] - 8s 40ms/step - loss: 4.3060 - accuracy: 0.8760 - precision: 0.8335 - recall: 0.8776 - f1_score: 0.8550 - val_loss: 3.7678 - val_accuracy: 0.9005 - val_precision: 0.8959 - val_recall: 0.8569 - val_f1_score: 0.8760 - lr: 1.0000e-04\n",
      "Epoch 17/100\n",
      "197/197 [==============================] - 8s 40ms/step - loss: 3.9771 - accuracy: 0.8754 - precision: 0.8311 - recall: 0.8801 - f1_score: 0.8549 - val_loss: 3.5320 - val_accuracy: 0.8661 - val_precision: 0.8805 - val_recall: 0.7792 - val_f1_score: 0.8267 - lr: 1.0000e-04\n",
      "Epoch 18/100\n",
      "197/197 [==============================] - 8s 40ms/step - loss: 3.6762 - accuracy: 0.8762 - precision: 0.8334 - recall: 0.8785 - f1_score: 0.8553 - val_loss: 3.2562 - val_accuracy: 0.8744 - val_precision: 0.7811 - val_recall: 0.9643 - val_f1_score: 0.8631 - lr: 1.0000e-04\n",
      "Epoch 19/100\n",
      "197/197 [==============================] - 8s 40ms/step - loss: 3.4002 - accuracy: 0.8806 - precision: 0.8378 - recall: 0.8850 - f1_score: 0.8608 - val_loss: 3.0443 - val_accuracy: 0.8750 - val_precision: 0.7891 - val_recall: 0.9487 - val_f1_score: 0.8616 - lr: 1.0000e-04\n",
      "Epoch 20/100\n",
      "197/197 [==============================] - 8s 40ms/step - loss: 3.1723 - accuracy: 0.8741 - precision: 0.8290 - recall: 0.8792 - f1_score: 0.8534 - val_loss: 2.6996 - val_accuracy: 0.9050 - val_precision: 0.8656 - val_recall: 0.9099 - val_f1_score: 0.8872 - lr: 1.0000e-04\n",
      "Epoch 21/100\n",
      "197/197 [==============================] - 8s 41ms/step - loss: 2.9618 - accuracy: 0.8775 - precision: 0.8345 - recall: 0.8809 - f1_score: 0.8571 - val_loss: 2.5078 - val_accuracy: 0.9082 - val_precision: 0.9085 - val_recall: 0.8634 - val_f1_score: 0.8854 - lr: 1.0000e-04\n",
      "Epoch 22/100\n",
      "197/197 [==============================] - 8s 41ms/step - loss: 2.7552 - accuracy: 0.8814 - precision: 0.8407 - recall: 0.8832 - f1_score: 0.8614 - val_loss: 2.3031 - val_accuracy: 0.9088 - val_precision: 0.8784 - val_recall: 0.9017 - val_f1_score: 0.8899 - lr: 1.0000e-04\n",
      "Epoch 23/100\n",
      "197/197 [==============================] - 8s 41ms/step - loss: 2.5666 - accuracy: 0.8797 - precision: 0.8415 - recall: 0.8761 - f1_score: 0.8585 - val_loss: 2.1355 - val_accuracy: 0.9037 - val_precision: 0.9109 - val_recall: 0.8469 - val_f1_score: 0.8777 - lr: 1.0000e-04\n",
      "Epoch 24/100\n",
      "197/197 [==============================] - 8s 41ms/step - loss: 2.4025 - accuracy: 0.8803 - precision: 0.8355 - recall: 0.8872 - f1_score: 0.8606 - val_loss: 2.3012 - val_accuracy: 0.7908 - val_precision: 0.6646 - val_recall: 0.9860 - val_f1_score: 0.7940 - lr: 1.0000e-04\n",
      "Epoch 25/100\n",
      "197/197 [==============================] - 8s 40ms/step - loss: 2.2771 - accuracy: 0.8771 - precision: 0.8378 - recall: 0.8748 - f1_score: 0.8559 - val_loss: 1.8629 - val_accuracy: 0.8999 - val_precision: 0.8313 - val_recall: 0.9488 - val_f1_score: 0.8861 - lr: 1.0000e-04\n",
      "Epoch 26/100\n",
      "197/197 [==============================] - 8s 40ms/step - loss: 2.0937 - accuracy: 0.8873 - precision: 0.8478 - recall: 0.8885 - f1_score: 0.8677 - val_loss: 1.7165 - val_accuracy: 0.9101 - val_precision: 0.8717 - val_recall: 0.9163 - val_f1_score: 0.8934 - lr: 1.0000e-04\n",
      "Epoch 27/100\n",
      "197/197 [==============================] - 8s 40ms/step - loss: 2.0094 - accuracy: 0.8805 - precision: 0.8387 - recall: 0.8825 - f1_score: 0.8601 - val_loss: 1.5979 - val_accuracy: 0.9139 - val_precision: 0.8969 - val_recall: 0.8927 - val_f1_score: 0.8948 - lr: 1.0000e-04\n",
      "Epoch 28/100\n",
      "197/197 [==============================] - 8s 40ms/step - loss: 1.8924 - accuracy: 0.8840 - precision: 0.8454 - recall: 0.8825 - f1_score: 0.8635 - val_loss: 1.4989 - val_accuracy: 0.9152 - val_precision: 0.9008 - val_recall: 0.8910 - val_f1_score: 0.8958 - lr: 1.0000e-04\n",
      "Epoch 29/100\n",
      "197/197 [==============================] - 8s 40ms/step - loss: 1.7899 - accuracy: 0.8821 - precision: 0.8416 - recall: 0.8830 - f1_score: 0.8618 - val_loss: 1.4350 - val_accuracy: 0.9114 - val_precision: 0.8659 - val_recall: 0.9267 - val_f1_score: 0.8953 - lr: 1.0000e-04\n",
      "Epoch 30/100\n",
      "197/197 [==============================] - 8s 40ms/step - loss: 1.7144 - accuracy: 0.8787 - precision: 0.8410 - recall: 0.8749 - f1_score: 0.8576 - val_loss: 1.3623 - val_accuracy: 0.8833 - val_precision: 0.9564 - val_recall: 0.7500 - val_f1_score: 0.8407 - lr: 1.0000e-04\n",
      "Epoch 31/100\n",
      "197/197 [==============================] - 8s 40ms/step - loss: 1.6342 - accuracy: 0.8852 - precision: 0.8451 - recall: 0.8873 - f1_score: 0.8657 - val_loss: 1.2425 - val_accuracy: 0.9056 - val_precision: 0.9059 - val_recall: 0.8578 - val_f1_score: 0.8812 - lr: 1.0000e-04\n",
      "Epoch 32/100\n",
      "197/197 [==============================] - 8s 41ms/step - loss: 1.5508 - accuracy: 0.8832 - precision: 0.8448 - recall: 0.8815 - f1_score: 0.8628 - val_loss: 1.1976 - val_accuracy: 0.9050 - val_precision: 0.8393 - val_recall: 0.9502 - val_f1_score: 0.8913 - lr: 1.0000e-04\n",
      "Epoch 33/100\n",
      "197/197 [==============================] - 8s 40ms/step - loss: 1.4817 - accuracy: 0.8843 - precision: 0.8445 - recall: 0.8854 - f1_score: 0.8645 - val_loss: 1.1286 - val_accuracy: 0.9101 - val_precision: 0.8490 - val_recall: 0.9504 - val_f1_score: 0.8969 - lr: 1.0000e-04\n",
      "Epoch 34/100\n",
      "197/197 [==============================] - 8s 40ms/step - loss: 1.4235 - accuracy: 0.8856 - precision: 0.8449 - recall: 0.8883 - f1_score: 0.8661 - val_loss: 1.0478 - val_accuracy: 0.9203 - val_precision: 0.8856 - val_recall: 0.9255 - val_f1_score: 0.9051 - lr: 1.0000e-04\n",
      "Epoch 35/100\n",
      "197/197 [==============================] - 8s 41ms/step - loss: 1.3405 - accuracy: 0.8913 - precision: 0.8507 - recall: 0.8970 - f1_score: 0.8732 - val_loss: 1.0010 - val_accuracy: 0.9158 - val_precision: 0.8995 - val_recall: 0.8939 - val_f1_score: 0.8967 - lr: 1.0000e-04\n",
      "Epoch 36/100\n",
      "197/197 [==============================] - 8s 41ms/step - loss: 1.3000 - accuracy: 0.8929 - precision: 0.8549 - recall: 0.8955 - f1_score: 0.8747 - val_loss: 0.9725 - val_accuracy: 0.9158 - val_precision: 0.9000 - val_recall: 0.8944 - val_f1_score: 0.8972 - lr: 1.0000e-04\n",
      "Epoch 37/100\n",
      "197/197 [==============================] - 8s 41ms/step - loss: 1.2773 - accuracy: 0.8887 - precision: 0.8498 - recall: 0.8903 - f1_score: 0.8696 - val_loss: 0.9468 - val_accuracy: 0.9145 - val_precision: 0.8600 - val_recall: 0.9456 - val_f1_score: 0.9007 - lr: 1.0000e-04\n",
      "Epoch 38/100\n",
      "197/197 [==============================] - 8s 41ms/step - loss: 1.2152 - accuracy: 0.8917 - precision: 0.8545 - recall: 0.8923 - f1_score: 0.8730 - val_loss: 0.8727 - val_accuracy: 0.9254 - val_precision: 0.9035 - val_recall: 0.9161 - val_f1_score: 0.9098 - lr: 1.0000e-04\n",
      "Epoch 39/100\n",
      "197/197 [==============================] - 8s 41ms/step - loss: 1.2082 - accuracy: 0.8905 - precision: 0.8520 - recall: 0.8928 - f1_score: 0.8719 - val_loss: 0.8924 - val_accuracy: 0.8967 - val_precision: 0.9364 - val_recall: 0.8022 - val_f1_score: 0.8641 - lr: 1.0000e-04\n",
      "Epoch 40/100\n",
      "197/197 [==============================] - 8s 41ms/step - loss: 1.1349 - accuracy: 0.8963 - precision: 0.8553 - recall: 0.9045 - f1_score: 0.8792 - val_loss: 0.8140 - val_accuracy: 0.9247 - val_precision: 0.9328 - val_recall: 0.8808 - val_f1_score: 0.9061 - lr: 1.0000e-04\n",
      "Epoch 41/100\n",
      "197/197 [==============================] - 8s 41ms/step - loss: 1.1135 - accuracy: 0.8929 - precision: 0.8572 - recall: 0.8909 - f1_score: 0.8738 - val_loss: 0.8057 - val_accuracy: 0.9222 - val_precision: 0.8844 - val_recall: 0.9314 - val_f1_score: 0.9073 - lr: 1.0000e-04\n",
      "Epoch 42/100\n",
      "197/197 [==============================] - 8s 40ms/step - loss: 1.1087 - accuracy: 0.8929 - precision: 0.8565 - recall: 0.8927 - f1_score: 0.8742 - val_loss: 0.7626 - val_accuracy: 0.9126 - val_precision: 0.8857 - val_recall: 0.9036 - val_f1_score: 0.8945 - lr: 1.0000e-04\n",
      "Epoch 43/100\n",
      "197/197 [==============================] - 8s 40ms/step - loss: 1.0864 - accuracy: 0.8910 - precision: 0.8532 - recall: 0.8919 - f1_score: 0.8721 - val_loss: 0.8394 - val_accuracy: 0.8699 - val_precision: 0.9042 - val_recall: 0.7636 - val_f1_score: 0.8280 - lr: 1.0000e-04\n",
      "Epoch 44/100\n",
      "197/197 [==============================] - 8s 40ms/step - loss: 1.0542 - accuracy: 0.8919 - precision: 0.8523 - recall: 0.8955 - f1_score: 0.8733 - val_loss: 0.7260 - val_accuracy: 0.9152 - val_precision: 0.8750 - val_recall: 0.9253 - val_f1_score: 0.8995 - lr: 1.0000e-04\n",
      "Epoch 45/100\n",
      "197/197 [==============================] - 8s 40ms/step - loss: 1.0295 - accuracy: 0.8965 - precision: 0.8620 - recall: 0.8948 - f1_score: 0.8781 - val_loss: 0.7069 - val_accuracy: 0.9126 - val_precision: 0.8571 - val_recall: 0.9439 - val_f1_score: 0.8984 - lr: 1.0000e-04\n",
      "Epoch 46/100\n",
      "197/197 [==============================] - 8s 40ms/step - loss: 1.0013 - accuracy: 0.8922 - precision: 0.8581 - recall: 0.8885 - f1_score: 0.8730 - val_loss: 0.6746 - val_accuracy: 0.9196 - val_precision: 0.8807 - val_recall: 0.9300 - val_f1_score: 0.9047 - lr: 1.0000e-04\n",
      "Epoch 47/100\n",
      "197/197 [==============================] - 8s 41ms/step - loss: 0.9748 - accuracy: 0.8957 - precision: 0.8586 - recall: 0.8975 - f1_score: 0.8776 - val_loss: 0.6687 - val_accuracy: 0.9145 - val_precision: 0.8585 - val_recall: 0.9489 - val_f1_score: 0.9015 - lr: 1.0000e-04\n",
      "Epoch 48/100\n",
      "197/197 [==============================] - 8s 41ms/step - loss: 0.9651 - accuracy: 0.8941 - precision: 0.8581 - recall: 0.8932 - f1_score: 0.8753 - val_loss: 0.7397 - val_accuracy: 0.8769 - val_precision: 0.9608 - val_recall: 0.7281 - val_f1_score: 0.8284 - lr: 1.0000e-04\n",
      "Epoch 49/100\n",
      "197/197 [==============================] - 8s 41ms/step - loss: 0.9423 - accuracy: 0.8975 - precision: 0.8686 - recall: 0.8884 - f1_score: 0.8784 - val_loss: 0.6343 - val_accuracy: 0.9171 - val_precision: 0.8827 - val_recall: 0.9186 - val_f1_score: 0.9003 - lr: 1.0000e-04\n",
      "Epoch 50/100\n",
      "197/197 [==============================] - 8s 41ms/step - loss: 0.9375 - accuracy: 0.8914 - precision: 0.8555 - recall: 0.8900 - f1_score: 0.8724 - val_loss: 0.6334 - val_accuracy: 0.9222 - val_precision: 0.8766 - val_recall: 0.9423 - val_f1_score: 0.9083 - lr: 1.0000e-04\n",
      "Epoch 51/100\n",
      "197/197 [==============================] - 8s 41ms/step - loss: 0.9070 - accuracy: 0.9006 - precision: 0.8660 - recall: 0.9015 - f1_score: 0.8834 - val_loss: 0.6232 - val_accuracy: 0.9165 - val_precision: 0.9228 - val_recall: 0.8700 - val_f1_score: 0.8956 - lr: 1.0000e-04\n",
      "Epoch 52/100\n",
      "197/197 [==============================] - 8s 41ms/step - loss: 0.9018 - accuracy: 0.8984 - precision: 0.8674 - recall: 0.8932 - f1_score: 0.8801 - val_loss: 0.5993 - val_accuracy: 0.9158 - val_precision: 0.8984 - val_recall: 0.8956 - val_f1_score: 0.8970 - lr: 1.0000e-04\n",
      "Epoch 53/100\n",
      "197/197 [==============================] - 8s 41ms/step - loss: 0.9170 - accuracy: 0.8921 - precision: 0.8528 - recall: 0.8962 - f1_score: 0.8740 - val_loss: 0.6769 - val_accuracy: 0.8814 - val_precision: 0.7863 - val_recall: 0.9734 - val_f1_score: 0.8699 - lr: 1.0000e-04\n",
      "Epoch 54/100\n",
      "197/197 [==============================] - 8s 41ms/step - loss: 0.8941 - accuracy: 0.8998 - precision: 0.8671 - recall: 0.8971 - f1_score: 0.8819 - val_loss: 0.5838 - val_accuracy: 0.9165 - val_precision: 0.9254 - val_recall: 0.8665 - val_f1_score: 0.8949 - lr: 1.0000e-04\n",
      "Epoch 55/100\n",
      "197/197 [==============================] - 8s 41ms/step - loss: 0.8546 - accuracy: 0.9057 - precision: 0.8757 - recall: 0.9017 - f1_score: 0.8885 - val_loss: 0.5652 - val_accuracy: 0.9305 - val_precision: 0.9123 - val_recall: 0.9194 - val_f1_score: 0.9158 - lr: 1.0000e-04\n",
      "Epoch 56/100\n",
      "197/197 [==============================] - 8s 41ms/step - loss: 0.8476 - accuracy: 0.9035 - precision: 0.8729 - recall: 0.8995 - f1_score: 0.8860 - val_loss: 0.5923 - val_accuracy: 0.9088 - val_precision: 0.9235 - val_recall: 0.8471 - val_f1_score: 0.8836 - lr: 1.0000e-04\n",
      "Epoch 57/100\n",
      "197/197 [==============================] - 8s 41ms/step - loss: 0.8537 - accuracy: 0.8997 - precision: 0.8650 - recall: 0.8999 - f1_score: 0.8821 - val_loss: 0.5429 - val_accuracy: 0.9267 - val_precision: 0.9179 - val_recall: 0.9022 - val_f1_score: 0.9099 - lr: 1.0000e-04\n",
      "Epoch 58/100\n",
      "197/197 [==============================] - 8s 41ms/step - loss: 0.8432 - accuracy: 0.9054 - precision: 0.8747 - recall: 0.9021 - f1_score: 0.8882 - val_loss: 0.5559 - val_accuracy: 0.9228 - val_precision: 0.8795 - val_recall: 0.9410 - val_f1_score: 0.9092 - lr: 1.0000e-04\n",
      "Epoch 59/100\n",
      "197/197 [==============================] - 8s 41ms/step - loss: 0.8420 - accuracy: 0.8970 - precision: 0.8636 - recall: 0.8936 - f1_score: 0.8783 - val_loss: 0.5275 - val_accuracy: 0.9279 - val_precision: 0.9231 - val_recall: 0.8986 - val_f1_score: 0.9107 - lr: 1.0000e-04\n",
      "Epoch 60/100\n",
      "197/197 [==============================] - 129s 659ms/step - loss: 0.8414 - accuracy: 0.8992 - precision: 0.8674 - recall: 0.8954 - f1_score: 0.8812 - val_loss: 0.7328 - val_accuracy: 0.8482 - val_precision: 0.8248 - val_recall: 0.7991 - val_f1_score: 0.8117 - lr: 1.0000e-04\n",
      "Epoch 61/100\n",
      "197/197 [==============================] - 8s 42ms/step - loss: 0.8286 - accuracy: 0.9017 - precision: 0.8692 - recall: 0.9000 - f1_score: 0.8843 - val_loss: 0.5543 - val_accuracy: 0.9216 - val_precision: 0.8787 - val_recall: 0.9376 - val_f1_score: 0.9072 - lr: 1.0000e-04\n",
      "Epoch 62/100\n",
      "197/197 [==============================] - 8s 42ms/step - loss: 0.8324 - accuracy: 0.8995 - precision: 0.8681 - recall: 0.8949 - f1_score: 0.8813 - val_loss: 0.5393 - val_accuracy: 0.9216 - val_precision: 0.8700 - val_recall: 0.9501 - val_f1_score: 0.9083 - lr: 1.0000e-04\n",
      "Epoch 63/100\n",
      "197/197 [==============================] - 8s 41ms/step - loss: 0.7772 - accuracy: 0.9063 - precision: 0.8759 - recall: 0.9027 - f1_score: 0.8891 - val_loss: 0.5020 - val_accuracy: 0.9318 - val_precision: 0.9098 - val_recall: 0.9253 - val_f1_score: 0.9175 - lr: 3.1623e-05\n",
      "Epoch 64/100\n",
      "197/197 [==============================] - 8s 43ms/step - loss: 0.7669 - accuracy: 0.9075 - precision: 0.8739 - recall: 0.9089 - f1_score: 0.8911 - val_loss: 0.4913 - val_accuracy: 0.9324 - val_precision: 0.9048 - val_recall: 0.9330 - val_f1_score: 0.9187 - lr: 3.1623e-05\n",
      "Epoch 65/100\n",
      "197/197 [==============================] - 8s 43ms/step - loss: 0.7554 - accuracy: 0.9146 - precision: 0.8837 - recall: 0.9154 - f1_score: 0.8993 - val_loss: 0.4895 - val_accuracy: 0.9356 - val_precision: 0.9085 - val_recall: 0.9381 - val_f1_score: 0.9231 - lr: 3.1623e-05\n",
      "Epoch 66/100\n",
      "197/197 [==============================] - 8s 40ms/step - loss: 0.7418 - accuracy: 0.9149 - precision: 0.8856 - recall: 0.9139 - f1_score: 0.8995 - val_loss: 0.4830 - val_accuracy: 0.9337 - val_precision: 0.8979 - val_recall: 0.9455 - val_f1_score: 0.9211 - lr: 3.1623e-05\n",
      "Epoch 67/100\n",
      "197/197 [==============================] - 8s 41ms/step - loss: 0.7287 - accuracy: 0.9171 - precision: 0.8912 - recall: 0.9123 - f1_score: 0.9016 - val_loss: 0.4863 - val_accuracy: 0.9311 - val_precision: 0.8985 - val_recall: 0.9377 - val_f1_score: 0.9177 - lr: 3.1623e-05\n",
      "Epoch 68/100\n",
      "197/197 [==============================] - 8s 41ms/step - loss: 0.7268 - accuracy: 0.9138 - precision: 0.8842 - recall: 0.9128 - f1_score: 0.8983 - val_loss: 0.4671 - val_accuracy: 0.9375 - val_precision: 0.9220 - val_recall: 0.9249 - val_f1_score: 0.9234 - lr: 3.1623e-05\n",
      "Epoch 69/100\n",
      "197/197 [==============================] - 8s 42ms/step - loss: 0.7144 - accuracy: 0.9167 - precision: 0.8906 - recall: 0.9120 - f1_score: 0.9012 - val_loss: 0.4794 - val_accuracy: 0.9324 - val_precision: 0.8987 - val_recall: 0.9407 - val_f1_score: 0.9192 - lr: 3.1623e-05\n",
      "Epoch 70/100\n",
      "197/197 [==============================] - 8s 42ms/step - loss: 0.7144 - accuracy: 0.9167 - precision: 0.8882 - recall: 0.9155 - f1_score: 0.9016 - val_loss: 0.4797 - val_accuracy: 0.9267 - val_precision: 0.8922 - val_recall: 0.9327 - val_f1_score: 0.9120 - lr: 3.1623e-05\n",
      "Epoch 71/100\n",
      "197/197 [==============================] - 8s 42ms/step - loss: 0.7063 - accuracy: 0.9168 - precision: 0.8883 - recall: 0.9154 - f1_score: 0.9017 - val_loss: 0.4533 - val_accuracy: 0.9343 - val_precision: 0.9246 - val_recall: 0.9146 - val_f1_score: 0.9196 - lr: 3.1623e-05\n",
      "Epoch 72/100\n",
      "197/197 [==============================] - 8s 43ms/step - loss: 0.6911 - accuracy: 0.9200 - precision: 0.8971 - recall: 0.9128 - f1_score: 0.9049 - val_loss: 0.4551 - val_accuracy: 0.9343 - val_precision: 0.9153 - val_recall: 0.9252 - val_f1_score: 0.9202 - lr: 3.1623e-05\n",
      "Epoch 73/100\n",
      "197/197 [==============================] - 8s 41ms/step - loss: 0.7010 - accuracy: 0.9186 - precision: 0.8881 - recall: 0.9209 - f1_score: 0.9042 - val_loss: 0.4579 - val_accuracy: 0.9337 - val_precision: 0.9127 - val_recall: 0.9269 - val_f1_score: 0.9198 - lr: 3.1623e-05\n",
      "Epoch 74/100\n",
      "197/197 [==============================] - 8s 42ms/step - loss: 0.7032 - accuracy: 0.9159 - precision: 0.8880 - recall: 0.9137 - f1_score: 0.9006 - val_loss: 0.4546 - val_accuracy: 0.9305 - val_precision: 0.9123 - val_recall: 0.9194 - val_f1_score: 0.9158 - lr: 3.1623e-05\n",
      "Epoch 75/100\n",
      "197/197 [==============================] - 8s 42ms/step - loss: 0.6887 - accuracy: 0.9225 - precision: 0.8943 - recall: 0.9235 - f1_score: 0.9087 - val_loss: 0.4500 - val_accuracy: 0.9362 - val_precision: 0.9158 - val_recall: 0.9300 - val_f1_score: 0.9228 - lr: 1.0000e-05\n",
      "Epoch 76/100\n",
      "197/197 [==============================] - 8s 42ms/step - loss: 0.7061 - accuracy: 0.9187 - precision: 0.8919 - recall: 0.9157 - f1_score: 0.9036 - val_loss: 0.4508 - val_accuracy: 0.9343 - val_precision: 0.9228 - val_recall: 0.9156 - val_f1_score: 0.9192 - lr: 1.0000e-05\n",
      "Epoch 77/100\n",
      "197/197 [==============================] - 8s 41ms/step - loss: 0.6917 - accuracy: 0.9192 - precision: 0.8931 - recall: 0.9153 - f1_score: 0.9041 - val_loss: 0.4445 - val_accuracy: 0.9401 - val_precision: 0.9228 - val_recall: 0.9315 - val_f1_score: 0.9271 - lr: 1.0000e-05\n",
      "Epoch 78/100\n",
      "197/197 [==============================] - 8s 41ms/step - loss: 0.6765 - accuracy: 0.9279 - precision: 0.9035 - recall: 0.9262 - f1_score: 0.9147 - val_loss: 0.4481 - val_accuracy: 0.9362 - val_precision: 0.9046 - val_recall: 0.9440 - val_f1_score: 0.9239 - lr: 1.0000e-05\n",
      "Epoch 79/100\n",
      "197/197 [==============================] - 8s 41ms/step - loss: 0.6674 - accuracy: 0.9224 - precision: 0.8958 - recall: 0.9207 - f1_score: 0.9081 - val_loss: 0.4428 - val_accuracy: 0.9375 - val_precision: 0.9106 - val_recall: 0.9391 - val_f1_score: 0.9246 - lr: 1.0000e-05\n",
      "Epoch 80/100\n",
      "197/197 [==============================] - 8s 41ms/step - loss: 0.6785 - accuracy: 0.9225 - precision: 0.8970 - recall: 0.9202 - f1_score: 0.9084 - val_loss: 0.4407 - val_accuracy: 0.9420 - val_precision: 0.9221 - val_recall: 0.9379 - val_f1_score: 0.9299 - lr: 1.0000e-05\n",
      "Epoch 81/100\n",
      "197/197 [==============================] - 8s 41ms/step - loss: 0.6694 - accuracy: 0.9240 - precision: 0.8979 - recall: 0.9228 - f1_score: 0.9101 - val_loss: 0.4368 - val_accuracy: 0.9401 - val_precision: 0.9163 - val_recall: 0.9392 - val_f1_score: 0.9276 - lr: 1.0000e-05\n",
      "Epoch 82/100\n",
      "197/197 [==============================] - 8s 42ms/step - loss: 0.6629 - accuracy: 0.9256 - precision: 0.9013 - recall: 0.9223 - f1_score: 0.9117 - val_loss: 0.4359 - val_accuracy: 0.9394 - val_precision: 0.9113 - val_recall: 0.9439 - val_f1_score: 0.9273 - lr: 1.0000e-05\n",
      "Epoch 83/100\n",
      "197/197 [==============================] - 8s 42ms/step - loss: 0.6577 - accuracy: 0.9238 - precision: 0.8981 - recall: 0.9220 - f1_score: 0.9099 - val_loss: 0.4395 - val_accuracy: 0.9381 - val_precision: 0.9243 - val_recall: 0.9257 - val_f1_score: 0.9250 - lr: 1.0000e-05\n",
      "Epoch 84/100\n",
      "197/197 [==============================] - 8s 41ms/step - loss: 0.6633 - accuracy: 0.9243 - precision: 0.8983 - recall: 0.9226 - f1_score: 0.9103 - val_loss: 0.4395 - val_accuracy: 0.9375 - val_precision: 0.9064 - val_recall: 0.9457 - val_f1_score: 0.9256 - lr: 1.0000e-05\n",
      "Epoch 85/100\n",
      "197/197 [==============================] - 8s 41ms/step - loss: 0.6731 - accuracy: 0.9229 - precision: 0.8979 - recall: 0.9198 - f1_score: 0.9087 - val_loss: 0.4326 - val_accuracy: 0.9413 - val_precision: 0.9177 - val_recall: 0.9406 - val_f1_score: 0.9290 - lr: 1.0000e-05\n",
      "Epoch 86/100\n",
      "197/197 [==============================] - 8s 41ms/step - loss: 0.6543 - accuracy: 0.9254 - precision: 0.9012 - recall: 0.9218 - f1_score: 0.9114 - val_loss: 0.4350 - val_accuracy: 0.9388 - val_precision: 0.9149 - val_recall: 0.9377 - val_f1_score: 0.9262 - lr: 1.0000e-05\n",
      "Epoch 87/100\n",
      "197/197 [==============================] - 8s 40ms/step - loss: 0.6524 - accuracy: 0.9256 - precision: 0.9037 - recall: 0.9198 - f1_score: 0.9117 - val_loss: 0.4371 - val_accuracy: 0.9375 - val_precision: 0.9150 - val_recall: 0.9349 - val_f1_score: 0.9248 - lr: 1.0000e-05\n",
      "Epoch 88/100\n",
      "197/197 [==============================] - 8s 40ms/step - loss: 0.6649 - accuracy: 0.9240 - precision: 0.8962 - recall: 0.9245 - f1_score: 0.9101 - val_loss: 0.4326 - val_accuracy: 0.9413 - val_precision: 0.9231 - val_recall: 0.9346 - val_f1_score: 0.9288 - lr: 1.0000e-05\n",
      "Epoch 89/100\n",
      "197/197 [==============================] - 8s 41ms/step - loss: 0.6549 - accuracy: 0.9246 - precision: 0.9033 - recall: 0.9174 - f1_score: 0.9103 - val_loss: 0.4303 - val_accuracy: 0.9394 - val_precision: 0.9191 - val_recall: 0.9348 - val_f1_score: 0.9269 - lr: 3.1623e-06\n",
      "Epoch 90/100\n",
      "197/197 [==============================] - 8s 42ms/step - loss: 0.6361 - accuracy: 0.9316 - precision: 0.9046 - recall: 0.9345 - f1_score: 0.9193 - val_loss: 0.4310 - val_accuracy: 0.9381 - val_precision: 0.9187 - val_recall: 0.9316 - val_f1_score: 0.9251 - lr: 3.1623e-06\n",
      "Epoch 91/100\n",
      "197/197 [==============================] - 8s 41ms/step - loss: 0.6639 - accuracy: 0.9230 - precision: 0.9018 - recall: 0.9152 - f1_score: 0.9084 - val_loss: 0.4302 - val_accuracy: 0.9375 - val_precision: 0.9150 - val_recall: 0.9349 - val_f1_score: 0.9248 - lr: 3.1623e-06\n",
      "Epoch 92/100\n",
      "197/197 [==============================] - 8s 40ms/step - loss: 0.6414 - accuracy: 0.9257 - precision: 0.8985 - recall: 0.9266 - f1_score: 0.9123 - val_loss: 0.4290 - val_accuracy: 0.9394 - val_precision: 0.9149 - val_recall: 0.9392 - val_f1_score: 0.9269 - lr: 3.1623e-06\n",
      "Epoch 93/100\n",
      "197/197 [==============================] - 8s 41ms/step - loss: 0.6366 - accuracy: 0.9298 - precision: 0.9043 - recall: 0.9299 - f1_score: 0.9169 - val_loss: 0.4291 - val_accuracy: 0.9407 - val_precision: 0.9170 - val_recall: 0.9412 - val_f1_score: 0.9290 - lr: 3.1623e-06\n",
      "Epoch 94/100\n",
      "197/197 [==============================] - 8s 40ms/step - loss: 0.6412 - accuracy: 0.9276 - precision: 0.9010 - recall: 0.9285 - f1_score: 0.9145 - val_loss: 0.4333 - val_accuracy: 0.9394 - val_precision: 0.9127 - val_recall: 0.9425 - val_f1_score: 0.9273 - lr: 3.1623e-06\n",
      "Epoch 95/100\n",
      "197/197 [==============================] - 8s 41ms/step - loss: 0.6493 - accuracy: 0.9265 - precision: 0.9028 - recall: 0.9231 - f1_score: 0.9129 - val_loss: 0.4301 - val_accuracy: 0.9375 - val_precision: 0.9163 - val_recall: 0.9333 - val_f1_score: 0.9247 - lr: 3.1623e-06\n",
      "Epoch 96/100\n",
      "197/197 [==============================] - 8s 41ms/step - loss: 0.6510 - accuracy: 0.9229 - precision: 0.8984 - recall: 0.9189 - f1_score: 0.9085 - val_loss: 0.4297 - val_accuracy: 0.9407 - val_precision: 0.9144 - val_recall: 0.9442 - val_f1_score: 0.9291 - lr: 1.0000e-06\n",
      "Epoch 97/100\n",
      "197/197 [==============================] - 8s 41ms/step - loss: 0.6451 - accuracy: 0.9246 - precision: 0.8994 - recall: 0.9223 - f1_score: 0.9107 - val_loss: 0.4285 - val_accuracy: 0.9407 - val_precision: 0.9183 - val_recall: 0.9396 - val_f1_score: 0.9288 - lr: 1.0000e-06\n",
      "Epoch 98/100\n",
      "197/197 [==============================] - 8s 41ms/step - loss: 0.6484 - accuracy: 0.9249 - precision: 0.9011 - recall: 0.9213 - f1_score: 0.9111 - val_loss: 0.4294 - val_accuracy: 0.9407 - val_precision: 0.9136 - val_recall: 0.9437 - val_f1_score: 0.9284 - lr: 1.0000e-06\n",
      "Epoch 99/100\n",
      "197/197 [==============================] - 8s 41ms/step - loss: 0.6518 - accuracy: 0.9241 - precision: 0.8970 - recall: 0.9243 - f1_score: 0.9104 - val_loss: 0.4295 - val_accuracy: 0.9407 - val_precision: 0.9138 - val_recall: 0.9438 - val_f1_score: 0.9285 - lr: 1.0000e-06\n",
      "Epoch 100/100\n",
      "197/197 [==============================] - 8s 41ms/step - loss: 0.6314 - accuracy: 0.9287 - precision: 0.9043 - recall: 0.9274 - f1_score: 0.9157 - val_loss: 0.4286 - val_accuracy: 0.9413 - val_precision: 0.9169 - val_recall: 0.9425 - val_f1_score: 0.9296 - lr: 1.0000e-06\n"
     ]
    }
   ],
   "source": [
    "epochs = 100\n",
    "history_binary = model_binary.fit(\n",
    "    train_isCancerous_generator,\n",
    "    steps_per_epoch=len(train_data) // batch_size,\n",
    "    epochs=epochs,\n",
    "    validation_data=val_isCancerous_generator,\n",
    "    validation_steps=len(val_data) // batch_size,\n",
    "    class_weight=class_weight_dict_isCancerous\n",
    "    , callbacks=[lr_reducer]\n",
    ")"
   ],
   "metadata": {
    "collapsed": false,
    "ExecuteTime": {
     "start_time": "2023-05-01T19:50:48.528084Z",
     "end_time": "2023-05-01T20:06:20.945677Z"
    }
   }
  },
  {
   "cell_type": "code",
   "execution_count": 47,
   "outputs": [
    {
     "data": {
      "text/plain": "<Figure size 432x288 with 1 Axes>",
      "image/png": "[encoded data removed]"
     },
     "metadata": {
      "needs_background": "light"
     },
     "output_type": "display_data"
    }
   ],
   "source": [
    "train_loss = history_binary.history['loss']\n",
    "val_loss = history_binary.history['val_loss']\n",
    "\n",
    "epochs_range = range(1, epochs + 1)\n",
    "\n",
    "plt.plot(epochs_range, train_loss, label='Training Loss')\n",
    "plt.plot(epochs_range, val_loss, label='Validation Loss')\n",
    "\n",
    "plt.legend()\n",
    "plt.title('Training and Validation Loss in binary')\n",
    "plt.xlabel('Epoch')\n",
    "plt.ylabel('Loss')\n",
    "\n",
    "plt.show()"
   ],
   "metadata": {
    "collapsed": false,
    "ExecuteTime": {
     "start_time": "2023-05-01T20:06:25.654264Z",
     "end_time": "2023-05-01T20:06:25.707458Z"
    }
   }
  },
  {
   "cell_type": "code",
   "execution_count": 48,
   "outputs": [
    {
     "data": {
      "text/plain": "<Figure size 432x288 with 1 Axes>",
      "image/png": "[encoded data removed]"
     },
     "metadata": {
      "needs_background": "light"
     },
     "output_type": "display_data"
    }
   ],
   "source": [
    "train_accuracy = history_binary.history['accuracy']\n",
    "val_accuracy = history_binary.history['val_accuracy']\n",
    "\n",
    "epochs_range = range(1, epochs + 1)\n",
    "\n",
    "plt.plot(epochs_range, train_accuracy, label='Training Accuracy')\n",
    "plt.plot(epochs_range, val_accuracy, label='Validation Accuracy')\n",
    "\n",
    "plt.legend()\n",
    "plt.title('Training and Validation Accuracy in binary')\n",
    "plt.xlabel('Epoch')\n",
    "plt.ylabel('Accuracy')\n",
    "\n",
    "plt.show()"
   ],
   "metadata": {
    "collapsed": false,
    "ExecuteTime": {
     "start_time": "2023-05-01T20:06:27.218178Z",
     "end_time": "2023-05-01T20:06:27.268571Z"
    }
   }
  },
  {
   "cell_type": "markdown",
   "source": [
    "评估不可见数据集的表现"
   ],
   "metadata": {
    "collapsed": false
   }
  },
  {
   "cell_type": "code",
   "execution_count": 51,
   "outputs": [
    {
     "name": "stdout",
     "output_type": "stream",
     "text": [
      " 7/62 [==>...........................] - ETA: 1s - loss: 0.4862 - accuracy: 0.9241 - precision: 0.8889 - recall: 0.9195 - f1_score: 0.9040"
     ]
    },
    {
     "name": "stderr",
     "output_type": "stream",
     "text": [
      "/Users/hueybai/miniconda3/envs/DL/lib/python3.10/site-packages/keras/engine/training.py:2448: UserWarning: Metric F1Score implements a `reset_states()` method; rename it to `reset_state()` (without the final \"s\"). The name `reset_states()` has been deprecated to improve API consistency.\n",
      "  m.reset_state()\n"
     ]
    },
    {
     "name": "stdout",
     "output_type": "stream",
     "text": [
      "62/62 [==============================] - 2s 26ms/step - loss: 0.4433 - accuracy: 0.9374 - precision: 0.9153 - recall: 0.9292 - f1_score: 0.9222\n"
     ]
    },
    {
     "data": {
      "text/plain": "[0.44328078627586365,\n 0.9373737573623657,\n 0.9153175354003906,\n 0.9292035102844238,\n 0.9222081899642944]"
     },
     "execution_count": 51,
     "metadata": {},
     "output_type": "execute_result"
    }
   ],
   "source": [
    "model_binary.evaluate(test_isCancerous_generator)"
   ],
   "metadata": {
    "collapsed": false,
    "ExecuteTime": {
     "start_time": "2023-05-01T20:07:01.037176Z",
     "end_time": "2023-05-01T20:07:02.690624Z"
    }
   }
  },
  {
   "cell_type": "markdown",
   "source": [
    "# 训练多分类"
   ],
   "metadata": {
    "collapsed": false
   }
  },
  {
   "cell_type": "code",
   "execution_count": 66,
   "outputs": [
    {
     "name": "stdout",
     "output_type": "stream",
     "text": [
      "Epoch 1/100\n",
      "197/197 [==============================] - 11s 50ms/step - loss: 19.1370 - accuracy: 0.5767 - precision: 0.6084 - recall: 0.5286 - f1_score: 0.5657 - val_loss: 17.3697 - val_accuracy: 0.4107 - val_precision: 0.4107 - val_recall: 0.4107 - val_f1_score: 0.4107 - lr: 5.0000e-04\n",
      "Epoch 2/100\n",
      "197/197 [==============================] - 9s 45ms/step - loss: 17.0763 - accuracy: 0.6268 - precision: 0.6707 - recall: 0.5660 - f1_score: 0.6139 - val_loss: 13.7583 - val_accuracy: 0.4968 - val_precision: 0.5421 - val_recall: 0.4681 - val_f1_score: 0.5024 - lr: 5.0000e-04\n",
      "Epoch 3/100\n",
      "197/197 [==============================] - 9s 44ms/step - loss: 15.3215 - accuracy: 0.6594 - precision: 0.7079 - recall: 0.5867 - f1_score: 0.6416 - val_loss: 11.5022 - val_accuracy: 0.7315 - val_precision: 0.7775 - val_recall: 0.6620 - val_f1_score: 0.7151 - lr: 5.0000e-04\n",
      "Epoch 4/100\n",
      "197/197 [==============================] - 9s 45ms/step - loss: 13.7242 - accuracy: 0.6687 - precision: 0.7246 - recall: 0.6006 - f1_score: 0.6568 - val_loss: 10.1083 - val_accuracy: 0.7219 - val_precision: 0.7743 - val_recall: 0.6543 - val_f1_score: 0.7093 - lr: 5.0000e-04\n",
      "Epoch 5/100\n",
      "197/197 [==============================] - 9s 44ms/step - loss: 12.1456 - accuracy: 0.6927 - precision: 0.7468 - recall: 0.6270 - f1_score: 0.6817 - val_loss: 8.7829 - val_accuracy: 0.7117 - val_precision: 0.7632 - val_recall: 0.6454 - val_f1_score: 0.6994 - lr: 5.0000e-04\n",
      "Epoch 6/100\n",
      "197/197 [==============================] - 9s 44ms/step - loss: 10.7910 - accuracy: 0.6952 - precision: 0.7544 - recall: 0.6276 - f1_score: 0.6852 - val_loss: 7.5431 - val_accuracy: 0.7360 - val_precision: 0.7758 - val_recall: 0.6862 - val_f1_score: 0.7283 - lr: 5.0000e-04\n",
      "Epoch 7/100\n",
      "197/197 [==============================] - 9s 46ms/step - loss: 9.6377 - accuracy: 0.6967 - precision: 0.7544 - recall: 0.6286 - f1_score: 0.6858 - val_loss: 9.4616 - val_accuracy: 0.1824 - val_precision: 0.1839 - val_recall: 0.1811 - val_f1_score: 0.1825 - lr: 5.0000e-04\n",
      "Epoch 8/100\n",
      "197/197 [==============================] - 9s 47ms/step - loss: 8.4642 - accuracy: 0.7125 - precision: 0.7698 - recall: 0.6475 - f1_score: 0.7033 - val_loss: 5.4473 - val_accuracy: 0.7583 - val_precision: 0.8118 - val_recall: 0.6958 - val_f1_score: 0.7493 - lr: 5.0000e-04\n",
      "Epoch 9/100\n",
      "197/197 [==============================] - 9s 45ms/step - loss: 7.5997 - accuracy: 0.7106 - precision: 0.7620 - recall: 0.6456 - f1_score: 0.6990 - val_loss: 4.7991 - val_accuracy: 0.7162 - val_precision: 0.7576 - val_recall: 0.6556 - val_f1_score: 0.7029 - lr: 5.0000e-04\n",
      "Epoch 10/100\n",
      "197/197 [==============================] - 9s 46ms/step - loss: 6.8836 - accuracy: 0.7167 - precision: 0.7698 - recall: 0.6513 - f1_score: 0.7056 - val_loss: 4.1498 - val_accuracy: 0.7162 - val_precision: 0.7597 - val_recall: 0.6716 - val_f1_score: 0.7129 - lr: 5.0000e-04\n",
      "Epoch 11/100\n",
      "197/197 [==============================] - 9s 44ms/step - loss: 6.2044 - accuracy: 0.7232 - precision: 0.7822 - recall: 0.6554 - f1_score: 0.7132 - val_loss: 3.7002 - val_accuracy: 0.6786 - val_precision: 0.7173 - val_recall: 0.6020 - val_f1_score: 0.6546 - lr: 5.0000e-04\n",
      "Epoch 12/100\n",
      "197/197 [==============================] - 9s 44ms/step - loss: 5.7137 - accuracy: 0.7325 - precision: 0.7875 - recall: 0.6730 - f1_score: 0.7258 - val_loss: 3.3606 - val_accuracy: 0.6505 - val_precision: 0.6873 - val_recall: 0.6084 - val_f1_score: 0.6455 - lr: 5.0000e-04\n",
      "Epoch 13/100\n",
      "197/197 [==============================] - 9s 44ms/step - loss: 5.3344 - accuracy: 0.7297 - precision: 0.7825 - recall: 0.6671 - f1_score: 0.7202 - val_loss: 2.9768 - val_accuracy: 0.6575 - val_precision: 0.7187 - val_recall: 0.5995 - val_f1_score: 0.6537 - lr: 5.0000e-04\n",
      "Epoch 14/100\n",
      "197/197 [==============================] - 9s 44ms/step - loss: 5.0209 - accuracy: 0.7310 - precision: 0.7825 - recall: 0.6640 - f1_score: 0.7184 - val_loss: 2.6417 - val_accuracy: 0.7073 - val_precision: 0.7498 - val_recall: 0.6556 - val_f1_score: 0.6996 - lr: 5.0000e-04\n",
      "Epoch 15/100\n",
      "197/197 [==============================] - 9s 45ms/step - loss: 4.7852 - accuracy: 0.7284 - precision: 0.7774 - recall: 0.6652 - f1_score: 0.7170 - val_loss: 2.6246 - val_accuracy: 0.6256 - val_precision: 0.6764 - val_recall: 0.5746 - val_f1_score: 0.6214 - lr: 5.0000e-04\n",
      "Epoch 16/100\n",
      "197/197 [==============================] - 9s 45ms/step - loss: 4.6033 - accuracy: 0.7294 - precision: 0.7844 - recall: 0.6640 - f1_score: 0.7192 - val_loss: 2.4307 - val_accuracy: 0.6397 - val_precision: 0.6774 - val_recall: 0.5759 - val_f1_score: 0.6225 - lr: 5.0000e-04\n",
      "Epoch 17/100\n",
      "197/197 [==============================] - 9s 46ms/step - loss: 4.4630 - accuracy: 0.7333 - precision: 0.7866 - recall: 0.6681 - f1_score: 0.7225 - val_loss: 2.2187 - val_accuracy: 0.6511 - val_precision: 0.7095 - val_recall: 0.5702 - val_f1_score: 0.6322 - lr: 5.0000e-04\n",
      "Epoch 18/100\n",
      "197/197 [==============================] - 9s 47ms/step - loss: 4.2141 - accuracy: 0.7467 - precision: 0.8006 - recall: 0.6878 - f1_score: 0.7399 - val_loss: 2.6365 - val_accuracy: 0.6001 - val_precision: 0.6309 - val_recall: 0.5702 - val_f1_score: 0.5990 - lr: 5.0000e-04\n",
      "Epoch 19/100\n",
      "197/197 [==============================] - 9s 44ms/step - loss: 4.1819 - accuracy: 0.7360 - precision: 0.7922 - recall: 0.6800 - f1_score: 0.7318 - val_loss: 1.8615 - val_accuracy: 0.7494 - val_precision: 0.7891 - val_recall: 0.6945 - val_f1_score: 0.7388 - lr: 5.0000e-04\n",
      "Epoch 20/100\n",
      "197/197 [==============================] - 9s 46ms/step - loss: 4.0852 - accuracy: 0.7448 - precision: 0.7932 - recall: 0.6819 - f1_score: 0.7334 - val_loss: 2.8335 - val_accuracy: 0.4165 - val_precision: 0.4394 - val_recall: 0.3865 - val_f1_score: 0.4113 - lr: 5.0000e-04\n",
      "Epoch 21/100\n",
      "197/197 [==============================] - 9s 44ms/step - loss: 4.0117 - accuracy: 0.7454 - precision: 0.7960 - recall: 0.6795 - f1_score: 0.7332 - val_loss: 1.7293 - val_accuracy: 0.7494 - val_precision: 0.8112 - val_recall: 0.6907 - val_f1_score: 0.7461 - lr: 5.0000e-04\n",
      "Epoch 22/100\n",
      "197/197 [==============================] - 9s 44ms/step - loss: 3.8510 - accuracy: 0.7540 - precision: 0.8036 - recall: 0.6937 - f1_score: 0.7446 - val_loss: 1.6417 - val_accuracy: 0.7698 - val_precision: 0.8191 - val_recall: 0.7073 - val_f1_score: 0.7591 - lr: 5.0000e-04\n",
      "Epoch 23/100\n",
      "197/197 [==============================] - 9s 44ms/step - loss: 3.8611 - accuracy: 0.7511 - precision: 0.7994 - recall: 0.6925 - f1_score: 0.7421 - val_loss: 1.7265 - val_accuracy: 0.7315 - val_precision: 0.7711 - val_recall: 0.7003 - val_f1_score: 0.7340 - lr: 5.0000e-04\n",
      "Epoch 24/100\n",
      "197/197 [==============================] - 9s 45ms/step - loss: 3.8446 - accuracy: 0.7521 - precision: 0.8017 - recall: 0.6975 - f1_score: 0.7459 - val_loss: 1.5713 - val_accuracy: 0.7787 - val_precision: 0.8172 - val_recall: 0.7270 - val_f1_score: 0.7695 - lr: 5.0000e-04\n",
      "Epoch 25/100\n",
      "197/197 [==============================] - 9s 44ms/step - loss: 3.8131 - accuracy: 0.7484 - precision: 0.7939 - recall: 0.6933 - f1_score: 0.7402 - val_loss: 1.8080 - val_accuracy: 0.6684 - val_precision: 0.7152 - val_recall: 0.6358 - val_f1_score: 0.6732 - lr: 5.0000e-04\n",
      "Epoch 26/100\n",
      "197/197 [==============================] - 9s 44ms/step - loss: 3.7331 - accuracy: 0.7567 - precision: 0.8061 - recall: 0.7010 - f1_score: 0.7499 - val_loss: 1.5757 - val_accuracy: 0.7608 - val_precision: 0.7980 - val_recall: 0.7156 - val_f1_score: 0.7545 - lr: 5.0000e-04\n",
      "Epoch 27/100\n",
      "197/197 [==============================] - 9s 45ms/step - loss: 3.7386 - accuracy: 0.7551 - precision: 0.8024 - recall: 0.7032 - f1_score: 0.7495 - val_loss: 2.5639 - val_accuracy: 0.4107 - val_precision: 0.4310 - val_recall: 0.3807 - val_f1_score: 0.4043 - lr: 5.0000e-04\n",
      "Epoch 28/100\n",
      "197/197 [==============================] - 9s 46ms/step - loss: 3.4111 - accuracy: 0.7819 - precision: 0.8282 - recall: 0.7294 - f1_score: 0.7757 - val_loss: 1.3935 - val_accuracy: 0.7991 - val_precision: 0.8444 - val_recall: 0.7372 - val_f1_score: 0.7872 - lr: 1.5811e-04\n",
      "Epoch 29/100\n",
      "197/197 [==============================] - 9s 44ms/step - loss: 3.3150 - accuracy: 0.7859 - precision: 0.8297 - recall: 0.7402 - f1_score: 0.7824 - val_loss: 1.3206 - val_accuracy: 0.8042 - val_precision: 0.8497 - val_recall: 0.7570 - val_f1_score: 0.8007 - lr: 1.5811e-04\n",
      "Epoch 30/100\n",
      "197/197 [==============================] - 9s 46ms/step - loss: 3.2577 - accuracy: 0.7854 - precision: 0.8241 - recall: 0.7408 - f1_score: 0.7802 - val_loss: 1.2571 - val_accuracy: 0.8246 - val_precision: 0.8637 - val_recall: 0.7800 - val_f1_score: 0.8197 - lr: 1.5811e-04\n",
      "Epoch 31/100\n",
      "197/197 [==============================] - 9s 45ms/step - loss: 3.1862 - accuracy: 0.7863 - precision: 0.8304 - recall: 0.7406 - f1_score: 0.7830 - val_loss: 1.2540 - val_accuracy: 0.7940 - val_precision: 0.8320 - val_recall: 0.7551 - val_f1_score: 0.7917 - lr: 1.5811e-04\n",
      "Epoch 32/100\n",
      "197/197 [==============================] - 9s 45ms/step - loss: 3.1998 - accuracy: 0.7802 - precision: 0.8286 - recall: 0.7343 - f1_score: 0.7786 - val_loss: 1.2232 - val_accuracy: 0.8138 - val_precision: 0.8666 - val_recall: 0.7538 - val_f1_score: 0.8063 - lr: 1.5811e-04\n",
      "Epoch 33/100\n",
      "197/197 [==============================] - 9s 46ms/step - loss: 3.1148 - accuracy: 0.7902 - precision: 0.8311 - recall: 0.7406 - f1_score: 0.7833 - val_loss: 1.2656 - val_accuracy: 0.7761 - val_precision: 0.8043 - val_recall: 0.7417 - val_f1_score: 0.7717 - lr: 1.5811e-04\n",
      "Epoch 34/100\n",
      "197/197 [==============================] - 9s 46ms/step - loss: 3.1543 - accuracy: 0.7927 - precision: 0.8303 - recall: 0.7425 - f1_score: 0.7840 - val_loss: 1.2497 - val_accuracy: 0.7730 - val_precision: 0.8182 - val_recall: 0.7290 - val_f1_score: 0.7710 - lr: 1.5811e-04\n",
      "Epoch 35/100\n",
      "197/197 [==============================] - 9s 45ms/step - loss: 3.1120 - accuracy: 0.7948 - precision: 0.8394 - recall: 0.7476 - f1_score: 0.7909 - val_loss: 1.2027 - val_accuracy: 0.8074 - val_precision: 0.8563 - val_recall: 0.7602 - val_f1_score: 0.8054 - lr: 1.5811e-04\n",
      "Epoch 36/100\n",
      "197/197 [==============================] - 9s 45ms/step - loss: 3.0686 - accuracy: 0.7979 - precision: 0.8376 - recall: 0.7484 - f1_score: 0.7905 - val_loss: 1.2912 - val_accuracy: 0.7602 - val_precision: 0.7921 - val_recall: 0.7315 - val_f1_score: 0.7606 - lr: 1.5811e-04\n",
      "Epoch 37/100\n",
      "197/197 [==============================] - 9s 46ms/step - loss: 3.0428 - accuracy: 0.8013 - precision: 0.8414 - recall: 0.7560 - f1_score: 0.7964 - val_loss: 1.1276 - val_accuracy: 0.8221 - val_precision: 0.8579 - val_recall: 0.7857 - val_f1_score: 0.8202 - lr: 1.5811e-04\n",
      "Epoch 38/100\n",
      "197/197 [==============================] - 9s 46ms/step - loss: 3.0238 - accuracy: 0.7979 - precision: 0.8375 - recall: 0.7581 - f1_score: 0.7958 - val_loss: 1.2903 - val_accuracy: 0.7806 - val_precision: 0.8140 - val_recall: 0.7481 - val_f1_score: 0.7797 - lr: 1.5811e-04\n",
      "Epoch 39/100\n",
      "197/197 [==============================] - 9s 45ms/step - loss: 2.9881 - accuracy: 0.7979 - precision: 0.8337 - recall: 0.7527 - f1_score: 0.7911 - val_loss: 1.1481 - val_accuracy: 0.8106 - val_precision: 0.8368 - val_recall: 0.7781 - val_f1_score: 0.8063 - lr: 1.5811e-04\n",
      "Epoch 40/100\n",
      "197/197 [==============================] - 9s 46ms/step - loss: 3.0058 - accuracy: 0.7975 - precision: 0.8380 - recall: 0.7584 - f1_score: 0.7962 - val_loss: 1.1242 - val_accuracy: 0.8221 - val_precision: 0.8547 - val_recall: 0.7838 - val_f1_score: 0.8177 - lr: 1.5811e-04\n",
      "Epoch 41/100\n",
      "197/197 [==============================] - 9s 46ms/step - loss: 3.0578 - accuracy: 0.7952 - precision: 0.8383 - recall: 0.7568 - f1_score: 0.7955 - val_loss: 1.2033 - val_accuracy: 0.7672 - val_precision: 0.8099 - val_recall: 0.7283 - val_f1_score: 0.7670 - lr: 1.5811e-04\n",
      "Epoch 42/100\n",
      "197/197 [==============================] - 9s 45ms/step - loss: 2.9426 - accuracy: 0.8060 - precision: 0.8408 - recall: 0.7643 - f1_score: 0.8007 - val_loss: 1.2808 - val_accuracy: 0.7481 - val_precision: 0.7741 - val_recall: 0.7105 - val_f1_score: 0.7409 - lr: 1.5811e-04\n",
      "Epoch 43/100\n",
      "197/197 [==============================] - 9s 45ms/step - loss: 2.9589 - accuracy: 0.8014 - precision: 0.8376 - recall: 0.7613 - f1_score: 0.7976 - val_loss: 1.1496 - val_accuracy: 0.8093 - val_precision: 0.8362 - val_recall: 0.7812 - val_f1_score: 0.8078 - lr: 1.5811e-04\n",
      "Epoch 44/100\n",
      "197/197 [==============================] - 9s 44ms/step - loss: 2.8382 - accuracy: 0.8110 - precision: 0.8467 - recall: 0.7741 - f1_score: 0.8088 - val_loss: 1.0628 - val_accuracy: 0.8272 - val_precision: 0.8527 - val_recall: 0.8010 - val_f1_score: 0.8260 - lr: 5.0000e-05\n",
      "Epoch 45/100\n",
      "197/197 [==============================] - 9s 45ms/step - loss: 2.7777 - accuracy: 0.8113 - precision: 0.8484 - recall: 0.7735 - f1_score: 0.8092 - val_loss: 1.0332 - val_accuracy: 0.8367 - val_precision: 0.8633 - val_recall: 0.8017 - val_f1_score: 0.8313 - lr: 5.0000e-05\n",
      "Epoch 46/100\n",
      "197/197 [==============================] - 9s 44ms/step - loss: 2.7641 - accuracy: 0.8159 - precision: 0.8495 - recall: 0.7784 - f1_score: 0.8124 - val_loss: 1.1138 - val_accuracy: 0.7959 - val_precision: 0.8358 - val_recall: 0.7564 - val_f1_score: 0.7941 - lr: 5.0000e-05\n",
      "Epoch 47/100\n",
      "197/197 [==============================] - 9s 45ms/step - loss: 2.7687 - accuracy: 0.8110 - precision: 0.8442 - recall: 0.7706 - f1_score: 0.8057 - val_loss: 1.0118 - val_accuracy: 0.8323 - val_precision: 0.8685 - val_recall: 0.8048 - val_f1_score: 0.8355 - lr: 5.0000e-05\n",
      "Epoch 48/100\n",
      "197/197 [==============================] - 9s 46ms/step - loss: 2.7349 - accuracy: 0.8125 - precision: 0.8494 - recall: 0.7754 - f1_score: 0.8107 - val_loss: 1.0150 - val_accuracy: 0.8284 - val_precision: 0.8663 - val_recall: 0.7972 - val_f1_score: 0.8303 - lr: 5.0000e-05\n",
      "Epoch 49/100\n",
      "197/197 [==============================] - 9s 45ms/step - loss: 2.6882 - accuracy: 0.8192 - precision: 0.8564 - recall: 0.7822 - f1_score: 0.8177 - val_loss: 1.0203 - val_accuracy: 0.8310 - val_precision: 0.8573 - val_recall: 0.7934 - val_f1_score: 0.8241 - lr: 5.0000e-05\n",
      "Epoch 50/100\n",
      "197/197 [==============================] - 9s 46ms/step - loss: 2.7313 - accuracy: 0.8122 - precision: 0.8530 - recall: 0.7706 - f1_score: 0.8097 - val_loss: 0.9772 - val_accuracy: 0.8367 - val_precision: 0.8741 - val_recall: 0.8061 - val_f1_score: 0.8388 - lr: 5.0000e-05\n",
      "Epoch 51/100\n",
      "197/197 [==============================] - 9s 45ms/step - loss: 2.7099 - accuracy: 0.8141 - precision: 0.8479 - recall: 0.7706 - f1_score: 0.8074 - val_loss: 0.9761 - val_accuracy: 0.8406 - val_precision: 0.8729 - val_recall: 0.8061 - val_f1_score: 0.8382 - lr: 5.0000e-05\n",
      "Epoch 52/100\n",
      "197/197 [==============================] - 9s 44ms/step - loss: 2.6513 - accuracy: 0.8206 - precision: 0.8596 - recall: 0.7840 - f1_score: 0.8200 - val_loss: 0.9989 - val_accuracy: 0.8227 - val_precision: 0.8613 - val_recall: 0.7921 - val_f1_score: 0.8252 - lr: 5.0000e-05\n",
      "Epoch 53/100\n",
      "197/197 [==============================] - 9s 45ms/step - loss: 2.6299 - accuracy: 0.8202 - precision: 0.8557 - recall: 0.7821 - f1_score: 0.8172 - val_loss: 1.0526 - val_accuracy: 0.7934 - val_precision: 0.8305 - val_recall: 0.7564 - val_f1_score: 0.7917 - lr: 5.0000e-05\n",
      "Epoch 54/100\n",
      "197/197 [==============================] - 9s 45ms/step - loss: 2.6324 - accuracy: 0.8237 - precision: 0.8611 - recall: 0.7846 - f1_score: 0.8211 - val_loss: 0.9712 - val_accuracy: 0.8348 - val_precision: 0.8650 - val_recall: 0.8010 - val_f1_score: 0.8318 - lr: 5.0000e-05\n",
      "Epoch 55/100\n",
      "197/197 [==============================] - 9s 46ms/step - loss: 2.6065 - accuracy: 0.8230 - precision: 0.8594 - recall: 0.7881 - f1_score: 0.8222 - val_loss: 0.9942 - val_accuracy: 0.8240 - val_precision: 0.8459 - val_recall: 0.8017 - val_f1_score: 0.8232 - lr: 5.0000e-05\n",
      "Epoch 56/100\n",
      "197/197 [==============================] - 9s 46ms/step - loss: 2.6622 - accuracy: 0.8162 - precision: 0.8497 - recall: 0.7770 - f1_score: 0.8117 - val_loss: 0.9533 - val_accuracy: 0.8393 - val_precision: 0.8674 - val_recall: 0.8138 - val_f1_score: 0.8397 - lr: 5.0000e-05\n",
      "Epoch 57/100\n",
      "197/197 [==============================] - 9s 44ms/step - loss: 2.6077 - accuracy: 0.8256 - precision: 0.8558 - recall: 0.7906 - f1_score: 0.8219 - val_loss: 1.0117 - val_accuracy: 0.8099 - val_precision: 0.8473 - val_recall: 0.7819 - val_f1_score: 0.8133 - lr: 5.0000e-05\n",
      "Epoch 58/100\n",
      "197/197 [==============================] - 9s 44ms/step - loss: 2.6277 - accuracy: 0.8183 - precision: 0.8504 - recall: 0.7841 - f1_score: 0.8159 - val_loss: 0.9706 - val_accuracy: 0.8202 - val_precision: 0.8570 - val_recall: 0.7876 - val_f1_score: 0.8209 - lr: 5.0000e-05\n",
      "Epoch 59/100\n",
      "197/197 [==============================] - 9s 45ms/step - loss: 2.5831 - accuracy: 0.8275 - precision: 0.8588 - recall: 0.7895 - f1_score: 0.8227 - val_loss: 1.0773 - val_accuracy: 0.7781 - val_precision: 0.8147 - val_recall: 0.7570 - val_f1_score: 0.7848 - lr: 5.0000e-05\n",
      "Epoch 60/100\n",
      "197/197 [==============================] - 9s 45ms/step - loss: 2.4951 - accuracy: 0.8306 - precision: 0.8600 - recall: 0.7973 - f1_score: 0.8274 - val_loss: 0.9276 - val_accuracy: 0.8393 - val_precision: 0.8714 - val_recall: 0.8125 - val_f1_score: 0.8409 - lr: 1.5811e-05\n",
      "Epoch 61/100\n",
      "197/197 [==============================] - 9s 45ms/step - loss: 2.4909 - accuracy: 0.8317 - precision: 0.8615 - recall: 0.8006 - f1_score: 0.8299 - val_loss: 0.9579 - val_accuracy: 0.8227 - val_precision: 0.8557 - val_recall: 0.7978 - val_f1_score: 0.8257 - lr: 1.5811e-05\n",
      "Epoch 62/100\n",
      "197/197 [==============================] - 9s 45ms/step - loss: 2.5056 - accuracy: 0.8313 - precision: 0.8635 - recall: 0.7963 - f1_score: 0.8286 - val_loss: 0.9363 - val_accuracy: 0.8323 - val_precision: 0.8637 - val_recall: 0.8080 - val_f1_score: 0.8349 - lr: 1.5811e-05\n",
      "Epoch 63/100\n",
      "197/197 [==============================] - 9s 47ms/step - loss: 2.4917 - accuracy: 0.8338 - precision: 0.8646 - recall: 0.8005 - f1_score: 0.8313 - val_loss: 0.9367 - val_accuracy: 0.8291 - val_precision: 0.8663 - val_recall: 0.8055 - val_f1_score: 0.8348 - lr: 1.5811e-05\n",
      "Epoch 64/100\n",
      "197/197 [==============================] - 9s 47ms/step - loss: 2.4730 - accuracy: 0.8265 - precision: 0.8587 - recall: 0.7908 - f1_score: 0.8233 - val_loss: 0.9306 - val_accuracy: 0.8316 - val_precision: 0.8653 - val_recall: 0.8074 - val_f1_score: 0.8354 - lr: 5.0000e-06\n",
      "Epoch 65/100\n",
      "197/197 [==============================] - 9s 45ms/step - loss: 2.4617 - accuracy: 0.8311 - precision: 0.8618 - recall: 0.7968 - f1_score: 0.8280 - val_loss: 0.9291 - val_accuracy: 0.8329 - val_precision: 0.8642 - val_recall: 0.8074 - val_f1_score: 0.8348 - lr: 5.0000e-06\n",
      "Epoch 66/100\n",
      "197/197 [==============================] - 9s 46ms/step - loss: 2.4786 - accuracy: 0.8241 - precision: 0.8589 - recall: 0.7916 - f1_score: 0.8239 - val_loss: 0.9336 - val_accuracy: 0.8265 - val_precision: 0.8648 - val_recall: 0.8036 - val_f1_score: 0.8331 - lr: 5.0000e-06\n",
      "Epoch 67/100\n",
      "197/197 [==============================] - 9s 45ms/step - loss: 2.4795 - accuracy: 0.8338 - precision: 0.8630 - recall: 0.8008 - f1_score: 0.8307 - val_loss: 0.9287 - val_accuracy: 0.8284 - val_precision: 0.8648 - val_recall: 0.8074 - val_f1_score: 0.8351 - lr: 1.5811e-06\n",
      "Epoch 68/100\n",
      "197/197 [==============================] - 9s 45ms/step - loss: 2.4142 - accuracy: 0.8414 - precision: 0.8712 - recall: 0.8041 - f1_score: 0.8363 - val_loss: 0.9231 - val_accuracy: 0.8323 - val_precision: 0.8662 - val_recall: 0.8093 - val_f1_score: 0.8368 - lr: 1.5811e-06\n",
      "Epoch 69/100\n",
      "197/197 [==============================] - 9s 45ms/step - loss: 2.4741 - accuracy: 0.8321 - precision: 0.8652 - recall: 0.8005 - f1_score: 0.8316 - val_loss: 0.9270 - val_accuracy: 0.8348 - val_precision: 0.8661 - val_recall: 0.8087 - val_f1_score: 0.8364 - lr: 1.5811e-06\n",
      "Epoch 70/100\n",
      "197/197 [==============================] - 9s 46ms/step - loss: 2.4601 - accuracy: 0.8340 - precision: 0.8664 - recall: 0.8021 - f1_score: 0.8330 - val_loss: 0.9227 - val_accuracy: 0.8323 - val_precision: 0.8664 - val_recall: 0.8106 - val_f1_score: 0.8376 - lr: 1.5811e-06\n",
      "Epoch 71/100\n",
      "197/197 [==============================] - 9s 45ms/step - loss: 2.4658 - accuracy: 0.8376 - precision: 0.8699 - recall: 0.8048 - f1_score: 0.8361 - val_loss: 0.9201 - val_accuracy: 0.8342 - val_precision: 0.8668 - val_recall: 0.8093 - val_f1_score: 0.8371 - lr: 1.5811e-06\n",
      "Epoch 72/100\n",
      "197/197 [==============================] - 9s 45ms/step - loss: 2.4667 - accuracy: 0.8314 - precision: 0.8655 - recall: 0.7998 - f1_score: 0.8314 - val_loss: 0.9188 - val_accuracy: 0.8367 - val_precision: 0.8670 - val_recall: 0.8106 - val_f1_score: 0.8378 - lr: 1.5811e-06\n",
      "Epoch 73/100\n",
      "197/197 [==============================] - 9s 47ms/step - loss: 2.4686 - accuracy: 0.8356 - precision: 0.8651 - recall: 0.7994 - f1_score: 0.8310 - val_loss: 0.9290 - val_accuracy: 0.8297 - val_precision: 0.8646 - val_recall: 0.8061 - val_f1_score: 0.8343 - lr: 1.5811e-06\n",
      "Epoch 74/100\n",
      "197/197 [==============================] - 9s 46ms/step - loss: 2.4502 - accuracy: 0.8319 - precision: 0.8632 - recall: 0.7954 - f1_score: 0.8279 - val_loss: 0.9220 - val_accuracy: 0.8361 - val_precision: 0.8657 - val_recall: 0.8099 - val_f1_score: 0.8369 - lr: 1.5811e-06\n",
      "Epoch 75/100\n",
      "197/197 [==============================] - 9s 46ms/step - loss: 2.4810 - accuracy: 0.8289 - precision: 0.8565 - recall: 0.7957 - f1_score: 0.8250 - val_loss: 0.9246 - val_accuracy: 0.8304 - val_precision: 0.8617 - val_recall: 0.8068 - val_f1_score: 0.8333 - lr: 1.5811e-06\n",
      "Epoch 76/100\n",
      "197/197 [==============================] - 9s 46ms/step - loss: 2.4674 - accuracy: 0.8346 - precision: 0.8657 - recall: 0.8011 - f1_score: 0.8322 - val_loss: 0.9264 - val_accuracy: 0.8291 - val_precision: 0.8634 - val_recall: 0.8061 - val_f1_score: 0.8338 - lr: 5.0000e-07\n",
      "Epoch 77/100\n",
      "197/197 [==============================] - 9s 44ms/step - loss: 2.4173 - accuracy: 0.8379 - precision: 0.8673 - recall: 0.8063 - f1_score: 0.8357 - val_loss: 0.9211 - val_accuracy: 0.8329 - val_precision: 0.8656 - val_recall: 0.8093 - val_f1_score: 0.8365 - lr: 5.0000e-07\n",
      "Epoch 78/100\n",
      "197/197 [==============================] - 9s 45ms/step - loss: 2.4384 - accuracy: 0.8367 - precision: 0.8701 - recall: 0.8024 - f1_score: 0.8348 - val_loss: 0.9201 - val_accuracy: 0.8335 - val_precision: 0.8658 - val_recall: 0.8106 - val_f1_score: 0.8373 - lr: 5.0000e-07\n",
      "Epoch 79/100\n",
      "197/197 [==============================] - 9s 46ms/step - loss: 2.4468 - accuracy: 0.8337 - precision: 0.8643 - recall: 0.8037 - f1_score: 0.8329 - val_loss: 0.9209 - val_accuracy: 0.8348 - val_precision: 0.8663 - val_recall: 0.8099 - val_f1_score: 0.8372 - lr: 1.5811e-07\n",
      "Epoch 80/100\n",
      "197/197 [==============================] - 9s 45ms/step - loss: 2.4225 - accuracy: 0.8400 - precision: 0.8696 - recall: 0.8079 - f1_score: 0.8377 - val_loss: 0.9229 - val_accuracy: 0.8310 - val_precision: 0.8643 - val_recall: 0.8080 - val_f1_score: 0.8352 - lr: 1.5811e-07\n",
      "Epoch 81/100\n",
      "197/197 [==============================] - 9s 47ms/step - loss: 2.4241 - accuracy: 0.8370 - precision: 0.8677 - recall: 0.8038 - f1_score: 0.8345 - val_loss: 0.9236 - val_accuracy: 0.8304 - val_precision: 0.8637 - val_recall: 0.8080 - val_f1_score: 0.8349 - lr: 1.5811e-07\n",
      "Epoch 82/100\n",
      "197/197 [==============================] - 9s 47ms/step - loss: 2.4392 - accuracy: 0.8306 - precision: 0.8640 - recall: 0.8010 - f1_score: 0.8313 - val_loss: 0.9221 - val_accuracy: 0.8316 - val_precision: 0.8638 - val_recall: 0.8087 - val_f1_score: 0.8353 - lr: 5.0000e-08\n",
      "Epoch 83/100\n",
      "197/197 [==============================] - 9s 47ms/step - loss: 2.4554 - accuracy: 0.8363 - precision: 0.8672 - recall: 0.8010 - f1_score: 0.8327 - val_loss: 0.9244 - val_accuracy: 0.8291 - val_precision: 0.8642 - val_recall: 0.8074 - val_f1_score: 0.8348 - lr: 5.0000e-08\n",
      "Epoch 84/100\n",
      "197/197 [==============================] - 9s 46ms/step - loss: 2.4849 - accuracy: 0.8276 - precision: 0.8616 - recall: 0.7997 - f1_score: 0.8295 - val_loss: 0.9274 - val_accuracy: 0.8304 - val_precision: 0.8630 - val_recall: 0.8074 - val_f1_score: 0.8343 - lr: 5.0000e-08\n",
      "Epoch 85/100\n",
      "197/197 [==============================] - 9s 45ms/step - loss: 2.4323 - accuracy: 0.8321 - precision: 0.8680 - recall: 0.7975 - f1_score: 0.8312 - val_loss: 0.9247 - val_accuracy: 0.8323 - val_precision: 0.8655 - val_recall: 0.8087 - val_f1_score: 0.8361 - lr: 1.5811e-08\n",
      "Epoch 86/100\n",
      "197/197 [==============================] - 9s 46ms/step - loss: 2.3898 - accuracy: 0.8397 - precision: 0.8722 - recall: 0.8081 - f1_score: 0.8389 - val_loss: 0.9242 - val_accuracy: 0.8310 - val_precision: 0.8653 - val_recall: 0.8068 - val_f1_score: 0.8350 - lr: 1.5811e-08\n",
      "Epoch 87/100\n",
      "197/197 [==============================] - 9s 45ms/step - loss: 2.4601 - accuracy: 0.8319 - precision: 0.8609 - recall: 0.7967 - f1_score: 0.8275 - val_loss: 0.9185 - val_accuracy: 0.8316 - val_precision: 0.8667 - val_recall: 0.8087 - val_f1_score: 0.8367 - lr: 1.5811e-08\n",
      "Epoch 88/100\n",
      "197/197 [==============================] - 9s 47ms/step - loss: 2.4666 - accuracy: 0.8325 - precision: 0.8652 - recall: 0.8017 - f1_score: 0.8323 - val_loss: 0.9227 - val_accuracy: 0.8323 - val_precision: 0.8644 - val_recall: 0.8093 - val_f1_score: 0.8360 - lr: 1.5811e-08\n",
      "Epoch 89/100\n",
      "197/197 [==============================] - 9s 46ms/step - loss: 2.4571 - accuracy: 0.8268 - precision: 0.8596 - recall: 0.7978 - f1_score: 0.8275 - val_loss: 0.9240 - val_accuracy: 0.8304 - val_precision: 0.8642 - val_recall: 0.8074 - val_f1_score: 0.8348 - lr: 1.5811e-08\n",
      "Epoch 90/100\n",
      "197/197 [==============================] - 9s 45ms/step - loss: 2.4704 - accuracy: 0.8278 - precision: 0.8591 - recall: 0.7916 - f1_score: 0.8240 - val_loss: 0.9225 - val_accuracy: 0.8329 - val_precision: 0.8650 - val_recall: 0.8093 - val_f1_score: 0.8362 - lr: 1.5811e-08\n",
      "Epoch 91/100\n",
      "197/197 [==============================] - 9s 46ms/step - loss: 2.4024 - accuracy: 0.8340 - precision: 0.8684 - recall: 0.8013 - f1_score: 0.8335 - val_loss: 0.9224 - val_accuracy: 0.8316 - val_precision: 0.8655 - val_recall: 0.8087 - val_f1_score: 0.8361 - lr: 5.0000e-09\n",
      "Epoch 92/100\n",
      "197/197 [==============================] - 9s 46ms/step - loss: 2.4376 - accuracy: 0.8321 - precision: 0.8634 - recall: 0.8029 - f1_score: 0.8320 - val_loss: 0.9281 - val_accuracy: 0.8310 - val_precision: 0.8643 - val_recall: 0.8080 - val_f1_score: 0.8352 - lr: 5.0000e-09\n",
      "Epoch 93/100\n",
      "197/197 [==============================] - 9s 43ms/step - loss: 2.4225 - accuracy: 0.8349 - precision: 0.8661 - recall: 0.8011 - f1_score: 0.8324 - val_loss: 0.9216 - val_accuracy: 0.8304 - val_precision: 0.8649 - val_recall: 0.8087 - val_f1_score: 0.8359 - lr: 5.0000e-09\n",
      "Epoch 94/100\n",
      "197/197 [==============================] - 9s 44ms/step - loss: 2.4657 - accuracy: 0.8317 - precision: 0.8628 - recall: 0.8005 - f1_score: 0.8305 - val_loss: 0.9206 - val_accuracy: 0.8329 - val_precision: 0.8640 - val_recall: 0.8061 - val_f1_score: 0.8340 - lr: 1.5811e-09\n",
      "Epoch 95/100\n",
      "197/197 [==============================] - 9s 43ms/step - loss: 2.4620 - accuracy: 0.8357 - precision: 0.8668 - recall: 0.7984 - f1_score: 0.8312 - val_loss: 0.9207 - val_accuracy: 0.8316 - val_precision: 0.8648 - val_recall: 0.8080 - val_f1_score: 0.8355 - lr: 1.5811e-09\n",
      "Epoch 96/100\n",
      "197/197 [==============================] - 9s 45ms/step - loss: 2.4291 - accuracy: 0.8316 - precision: 0.8638 - recall: 0.8011 - f1_score: 0.8313 - val_loss: 0.9273 - val_accuracy: 0.8284 - val_precision: 0.8616 - val_recall: 0.8061 - val_f1_score: 0.8329 - lr: 1.5811e-09\n",
      "Epoch 97/100\n",
      "197/197 [==============================] - 9s 48ms/step - loss: 2.4260 - accuracy: 0.8381 - precision: 0.8695 - recall: 0.8083 - f1_score: 0.8378 - val_loss: 0.9231 - val_accuracy: 0.8316 - val_precision: 0.8656 - val_recall: 0.8093 - val_f1_score: 0.8365 - lr: 5.0000e-10\n",
      "Epoch 98/100\n",
      "197/197 [==============================] - 9s 47ms/step - loss: 2.4093 - accuracy: 0.8360 - precision: 0.8730 - recall: 0.8038 - f1_score: 0.8370 - val_loss: 0.9234 - val_accuracy: 0.8323 - val_precision: 0.8633 - val_recall: 0.8093 - val_f1_score: 0.8354 - lr: 5.0000e-10\n",
      "Epoch 99/100\n",
      "197/197 [==============================] - 9s 45ms/step - loss: 2.4679 - accuracy: 0.8383 - precision: 0.8665 - recall: 0.8043 - f1_score: 0.8342 - val_loss: 0.9269 - val_accuracy: 0.8304 - val_precision: 0.8632 - val_recall: 0.8048 - val_f1_score: 0.8330 - lr: 5.0000e-10\n",
      "Epoch 100/100\n",
      "197/197 [==============================] - 9s 45ms/step - loss: 2.4609 - accuracy: 0.8311 - precision: 0.8641 - recall: 0.7981 - f1_score: 0.8298 - val_loss: 0.9262 - val_accuracy: 0.8304 - val_precision: 0.8640 - val_recall: 0.8061 - val_f1_score: 0.8340 - lr: 1.5811e-10\n"
     ]
    }
   ],
   "source": [
    "epochs = 100\n",
    "history_categorical = model_categorical.fit(\n",
    "    train_cellType_generator,\n",
    "    steps_per_epoch=len(train_data) // batch_size,\n",
    "    epochs=epochs,\n",
    "    validation_data=val_cellType_generator,\n",
    "    validation_steps=len(val_data) // batch_size,\n",
    "    class_weight=class_weight_dict_cellType\n",
    "    , callbacks=[lr_reducer]\n",
    ")"
   ],
   "metadata": {
    "collapsed": false,
    "ExecuteTime": {
     "start_time": "2023-05-01T21:50:31.906368Z",
     "end_time": "2023-05-01T22:05:26.110777Z"
    }
   }
  },
  {
   "cell_type": "code",
   "execution_count": 68,
   "outputs": [
    {
     "data": {
      "text/plain": "<Figure size 432x288 with 1 Axes>",
      "image/png": "[encoded data removed]"
     },
     "metadata": {
      "needs_background": "light"
     },
     "output_type": "display_data"
    }
   ],
   "source": [
    "train_loss = history_categorical.history['loss']\n",
    "val_loss = history_categorical.history['val_loss']\n",
    "\n",
    "epochs_range = range(1, epochs + 1)\n",
    "\n",
    "plt.plot(epochs_range, train_loss, label='Training Loss')\n",
    "plt.plot(epochs_range, val_loss, label='Validation Loss')\n",
    "\n",
    "plt.legend()\n",
    "plt.title('Training and Validation Loss in multi-category')\n",
    "plt.xlabel('Epoch')\n",
    "plt.ylabel('Loss')\n",
    "\n",
    "plt.show()"
   ],
   "metadata": {
    "collapsed": false,
    "ExecuteTime": {
     "start_time": "2023-05-01T22:06:42.525490Z",
     "end_time": "2023-05-01T22:06:42.584786Z"
    }
   }
  },
  {
   "cell_type": "code",
   "execution_count": 69,
   "outputs": [
    {
     "data": {
      "text/plain": "<Figure size 432x288 with 1 Axes>",
      "image/png": "[encoded data removed]"
     },
     "metadata": {
      "needs_background": "light"
     },
     "output_type": "display_data"
    }
   ],
   "source": [
    "train_accuracy = history_categorical.history['accuracy']\n",
    "val_accuracy = history_categorical.history['val_accuracy']\n",
    "\n",
    "epochs_range = range(1, epochs + 1)\n",
    "\n",
    "plt.plot(epochs_range, train_accuracy, label='Training Accuracy')\n",
    "plt.plot(epochs_range, val_accuracy, label='Validation Accuracy')\n",
    "\n",
    "plt.legend()\n",
    "plt.title('Training and Validation Accuracy in multi-category')\n",
    "plt.xlabel('Epoch')\n",
    "plt.ylabel('Accuracy')\n",
    "\n",
    "plt.show()"
   ],
   "metadata": {
    "collapsed": false,
    "ExecuteTime": {
     "start_time": "2023-05-01T22:06:45.761684Z",
     "end_time": "2023-05-01T22:06:45.831027Z"
    }
   }
  },
  {
   "cell_type": "code",
   "execution_count": 70,
   "outputs": [
    {
     "name": "stdout",
     "output_type": "stream",
     "text": [
      "62/62 [==============================] - 2s 31ms/step - loss: 0.9722 - accuracy: 0.8227 - precision: 0.8440 - recall: 0.7949 - f1_score: 0.8187\n"
     ]
    },
    {
     "data": {
      "text/plain": "[0.9722150564193726,\n 0.8227272629737854,\n 0.843967854976654,\n 0.794949471950531,\n 0.8187255263328552]"
     },
     "execution_count": 70,
     "metadata": {},
     "output_type": "execute_result"
    }
   ],
   "source": [
    "# # 预测\n",
    "# predictions = model_categorical.predict(test_cellType_generator)\n",
    "#\n",
    "# # 获取预测标签\n",
    "# predicted_labels = np.argmax(predictions, axis=-1)\n",
    "#\n",
    "# # 计算准确度\n",
    "# true_labels = test_cellType_generator.classes\n",
    "# accuracy = accuracy_score(true_labels, predicted_labels)\n",
    "# print(f\"Accuracy: {accuracy}\")\n",
    "#\n",
    "# # 计算损失\n",
    "# y_true = tf.keras.utils.to_categorical(true_labels, num_classes=4) # 根据您的类别数量更改 num_classes\n",
    "# loss = tf.reduce_mean(tf.keras.losses.categorical_crossentropy(y_true, predictions))\n",
    "# print(f\"Loss: {loss}\")\n",
    "\n",
    "model_categorical.evaluate(test_cellType_generator)"
   ],
   "metadata": {
    "collapsed": false,
    "ExecuteTime": {
     "start_time": "2023-05-01T22:06:58.927400Z",
     "end_time": "2023-05-01T22:07:00.908503Z"
    }
   }
  },
  {
   "cell_type": "code",
   "execution_count": 52,
   "outputs": [
    {
     "name": "stderr",
     "output_type": "stream",
     "text": [
      "WARNING:absl:Found untraced functions such as _jit_compiled_convolution_op, _jit_compiled_convolution_op, _jit_compiled_convolution_op, _jit_compiled_convolution_op while saving (showing 4 of 4). These functions will not be directly callable after loading.\n"
     ]
    },
    {
     "name": "stdout",
     "output_type": "stream",
     "text": [
      "INFO:tensorflow:Assets written to: saved_model/model_categorical/assets\n"
     ]
    },
    {
     "name": "stderr",
     "output_type": "stream",
     "text": [
      "INFO:tensorflow:Assets written to: saved_model/model_categorical/assets\n"
     ]
    }
   ],
   "source": [
    "model_categorical.save('saved_model/model_categorical')"
   ],
   "metadata": {
    "collapsed": false,
    "ExecuteTime": {
     "start_time": "2023-05-01T21:48:18.633901Z",
     "end_time": "2023-05-01T21:48:19.931042Z"
    }
   }
  },
  {
   "cell_type": "markdown",
   "source": [
    "# DI/HD 使用data_labels_extraData对多分类的模型进行增强\n",
    "通过半监督学习。我们将采用UDA。\n",
    "首先先获取额外的数据集并且进行相关处理。\n",
    "我们从数据集可以观察到，没有癌症在多分类中为2。所以我们可以将不是癌症的样本之间指定其多分类的类别为2."
   ],
   "metadata": {
    "collapsed": false
   }
  },
  {
   "cell_type": "code",
   "execution_count": 53,
   "outputs": [],
   "source": [
    "model_categorical = tf.keras.models.load_model('saved_model/model_categorical', custom_objects={\"F1Score\": F1Score})\n",
    "data_extra = pd.read_csv('./Image_classification_data/data_labels_extraData.csv')\n",
    "data_extra['isCancerous'] = data_extra['isCancerous'].astype(str)\n",
    "# data_extra['cellType'] = np.nan\n",
    "# data_extra.loc[data_extra['isCancerous'] == '1', 'cellType'] = 2\n",
    "# data_extra_unlabeled = data_extra[data_extra['cellType'].isna()]\n",
    "# data_extra_labeled = data_extra[data_extra['cellType'] == 2]\n",
    "# undivided_train_data = pd.concat([undivided_train_data, data_extra_labeled], axis=0).reset_index(drop=True)\n",
    "# undivided_train_data['cellType'] = undivided_train_data['cellType'].astype(int)\n",
    "# train_data, val_data = train_test_split(undivided_train_data, test_size=0.2, random_state=42)"
   ],
   "metadata": {
    "collapsed": false,
    "ExecuteTime": {
     "start_time": "2023-05-01T21:48:23.334446Z",
     "end_time": "2023-05-01T21:48:23.917173Z"
    }
   }
  },
  {
   "cell_type": "code",
   "execution_count": 22,
   "outputs": [],
   "source": [
    "# cellType(多分类)的比例\n",
    "# class_samples_cellType = train_data['cellType'].value_counts()\n",
    "# total_samples = np.sum(class_samples_cellType)\n",
    "# class_weights_cellType = total_samples / class_samples_cellType\n",
    "# class_weight_dict_cellType = {int(k): v for k, v in class_weights_cellType.to_dict().items()}\n",
    "#\n",
    "# data_extra_unlabeled['isCancerous'] = data_extra_unlabeled['isCancerous'].astype(str)\n",
    "# train_data['cellType'] = train_data['cellType'].astype(str)\n",
    "# val_data['cellType'] = val_data['cellType'].astype(str)"
   ],
   "metadata": {
    "collapsed": false,
    "ExecuteTime": {
     "start_time": "2023-05-01T19:18:53.373307Z",
     "end_time": "2023-05-01T19:18:53.375027Z"
    }
   }
  },
  {
   "cell_type": "markdown",
   "source": [
    "重新生成新的train_generator"
   ],
   "metadata": {
    "collapsed": false
   }
  },
  {
   "cell_type": "code",
   "execution_count": 54,
   "outputs": [
    {
     "name": "stdout",
     "output_type": "stream",
     "text": [
      "Found 6332 validated image filenames belonging to 4 classes.\n",
      "Found 10384 validated image filenames belonging to 2 classes.\n",
      "Found 1584 validated image filenames belonging to 4 classes.\n"
     ]
    }
   ],
   "source": [
    "batch_size = 32\n",
    "# train_datagen = tf.keras.preprocessing.image.ImageDataGenerator(\n",
    "#     rescale=1./255,\n",
    "#     rotation_range=40,\n",
    "#     width_shift_range=0.2,\n",
    "#     height_shift_range=0.2,\n",
    "#     shear_range=0.2,\n",
    "#     zoom_range=0.2,\n",
    "#     horizontal_flip=True,\n",
    "#     vertical_flip=True,\n",
    "#     fill_mode='nearest'\n",
    "# )\n",
    "train_datagen = CustomImageDataGenerator(\n",
    "    num_augmentations=4,\n",
    "    rescale=1./255,\n",
    "    rotation_range=180,\n",
    "    width_shift_range=0.2,\n",
    "    height_shift_range=0.2,\n",
    "    shear_range=0.2,\n",
    "    zoom_range=0.2,\n",
    "    brightness_range=[0.2,1.0],\n",
    "    horizontal_flip=True,\n",
    "    vertical_flip=True,\n",
    "    fill_mode='nearest'\n",
    ")\n",
    "\n",
    "train_generator = train_datagen.flow_from_dataframe(\n",
    "    train_data,\n",
    "    directory='./Image_classification_data/patch_images',\n",
    "    x_col='ImageName',\n",
    "    y_col='cellType',\n",
    "    target_size=(27, 27),\n",
    "    batch_size=batch_size,\n",
    "    class_mode='categorical')\n",
    "\n",
    "unlabeled_datagen = CustomImageDataGenerator(\n",
    "    rescale=1./255,\n",
    "    rotation_range=40,\n",
    "    width_shift_range=0.2,\n",
    "    height_shift_range=0.2,\n",
    "    shear_range=0.2,\n",
    "    zoom_range=0.2,\n",
    "    horizontal_flip=True,\n",
    "    vertical_flip=True,\n",
    "    fill_mode='nearest'\n",
    ")\n",
    "\n",
    "unlabeled_generator = unlabeled_datagen.flow_from_dataframe(\n",
    "    data_extra,\n",
    "    directory='./Image_classification_data/patch_images',\n",
    "    x_col='ImageName',\n",
    "    y_col='isCancerous', # 我们并不关心y_col。只是为了防止报错\n",
    "    target_size=(27, 27),\n",
    "    batch_size=batch_size,\n",
    "    class_mode='categorical')\n",
    "\n",
    "val_datagen = tf.keras.preprocessing.image.ImageDataGenerator(\n",
    "    rescale=1./255\n",
    ")\n",
    "\n",
    "test_data['cellType'] = test_data['cellType'].astype(str)\n",
    "validation_cellType_generator = val_datagen.flow_from_dataframe(\n",
    "    val_data,\n",
    "    directory='./Image_classification_data/patch_images',\n",
    "    x_col='ImageName',\n",
    "    y_col='cellType',\n",
    "    target_size=(27, 27),\n",
    "    batch_size=batch_size,\n",
    "    class_mode='categorical')"
   ],
   "metadata": {
    "collapsed": false,
    "ExecuteTime": {
     "start_time": "2023-05-01T21:48:25.337391Z",
     "end_time": "2023-05-01T21:48:25.497089Z"
    }
   }
  },
  {
   "cell_type": "markdown",
   "source": [
    "## UDA实现"
   ],
   "metadata": {
    "collapsed": false
   }
  },
  {
   "cell_type": "code",
   "execution_count": 24,
   "outputs": [],
   "source": [
    "# data_augmentation = tf.keras.Sequential([\n",
    "#     tf.keras.layers.RandomFlip(\"horizontal\"),\n",
    "#     tf.keras.layers.RandomFlip(\"vertical\"),\n",
    "#     tf.keras.layers.RandomRotation(0.1),\n",
    "#     tf.keras.layers.RandomTranslation(height_factor=(-0.1, 0.1), width_factor=(-0.1, 0.1)),\n",
    "#     tf.keras.layers.RandomZoom(height_factor=(-0.1, 0.1), width_factor=(-0.1, 0.1)),\n",
    "#     tf.keras.layers.RandomContrast(factor=(0.8, 1.2)),\n",
    "#     tf.keras.layers.RandomBrightness(factor=0.1),\n",
    "# ])"
   ],
   "metadata": {
    "collapsed": false,
    "ExecuteTime": {
     "start_time": "2023-05-01T19:18:53.541038Z",
     "end_time": "2023-05-01T19:18:53.542586Z"
    }
   }
  },
  {
   "cell_type": "code",
   "execution_count": 55,
   "outputs": [],
   "source": [
    "# 定义数据增强层\n",
    "class RandAugment(tf.keras.layers.Layer):\n",
    "    def __init__(self, num_layers, magnitude, **kwargs):\n",
    "        super().__init__(**kwargs)\n",
    "        self.num_layers = num_layers\n",
    "        self.magnitude = magnitude\n",
    "        self.operations = [\n",
    "            tf.keras.layers.experimental.preprocessing.RandomFlip(\"horizontal_and_vertical\"),\n",
    "            tf.keras.layers.experimental.preprocessing.RandomRotation(factor=(0.1 * magnitude, 0.1 * magnitude)),\n",
    "            tf.keras.layers.experimental.preprocessing.RandomTranslation(height_factor=(-0.1 * magnitude, 0.1 * magnitude), width_factor=(-0.1 * magnitude, 0.1 * magnitude)),\n",
    "            tf.keras.layers.experimental.preprocessing.RandomZoom(height_factor=(-0.1 * magnitude, 0.1 * magnitude), width_factor=(-0.1 * magnitude, 0.1 * magnitude)),\n",
    "            tf.keras.layers.experimental.preprocessing.RandomContrast(factor=(1 - 0.1 * magnitude, 1 + 0.1 * magnitude)),\n",
    "            tf.keras.layers.RandomBrightness(factor=(0.2 * magnitude)),\n",
    "        ]\n",
    "\n",
    "    def call(self, inputs, **kwargs):\n",
    "        if kwargs.get('training'):\n",
    "            for _ in range(self.num_layers):\n",
    "                operation = random.choice(self.operations)\n",
    "                inputs = operation(inputs, training=kwargs.get('training'))\n",
    "        return inputs"
   ],
   "metadata": {
    "collapsed": false,
    "ExecuteTime": {
     "start_time": "2023-05-01T21:48:28.961105Z",
     "end_time": "2023-05-01T21:48:28.967135Z"
    }
   }
  },
  {
   "cell_type": "code",
   "execution_count": 56,
   "outputs": [],
   "source": [
    "def apply_uda(x_batch, y_batch, x_unlabeled, model, optimizer, training=True, class_weight_dict=None, consistency_weight=1.5, confidence_threshold=0.5, temperature=0.5):\n",
    "    x_unlabeled_augmented = None\n",
    "    if x_unlabeled is not None:\n",
    "        # 对无标签数据进行数据增强\n",
    "        # x_unlabeled_augmented = data_augmentation(x_unlabeled)\n",
    "        rand_augment = RandAugment(num_layers=3, magnitude=0.9)\n",
    "        x_unlabeled_augmented = rand_augment(x_unlabeled, training=training)\n",
    "\n",
    "    # 计算模型在原始无标签数据和增强无标签数据上的输出\n",
    "    with tf.GradientTape() as tape:\n",
    "        y_pred_labeled = model(x_batch)\n",
    "        if x_unlabeled is not None:\n",
    "            y_pred_unlabeled = model(x_unlabeled)\n",
    "            y_pred_unlabeled_augmented = model(x_unlabeled_augmented)\n",
    "\n",
    "            # Sharpening Predictions\n",
    "            y_pred_unlabeled = tf.nn.softmax(y_pred_unlabeled / temperature, axis=-1)\n",
    "            y_pred_unlabeled_augmented = tf.nn.softmax(y_pred_unlabeled_augmented / temperature, axis=-1)\n",
    "\n",
    "            # Confidence-based masking\n",
    "            max_probs = tf.reduce_max(y_pred_unlabeled, axis=-1)\n",
    "            mask = max_probs > confidence_threshold\n",
    "            y_pred_unlabeled = tf.boolean_mask(y_pred_unlabeled, mask)\n",
    "            y_pred_unlabeled_augmented = tf.boolean_mask(y_pred_unlabeled_augmented, mask)\n",
    "\n",
    "        # 计算有监督损失\n",
    "        # 如果是训练并且给定了类别权重，则根据权重计算损失。\n",
    "        if class_weight_dict is not None and training:\n",
    "            sample_weights = tf.gather(class_weight_dict, tf.argmax(y_batch, axis=-1))\n",
    "            supervised_loss = tf.reduce_mean(tf.keras.losses.categorical_crossentropy(y_batch, y_pred_labeled) * sample_weights)\n",
    "        else:\n",
    "            supervised_loss = tf.reduce_mean(tf.keras.losses.categorical_crossentropy(y_batch, y_pred_labeled))\n",
    "\n",
    "        # 如果提供了无标签数据，则计算一致性损失，(半监督学习)\n",
    "        if x_unlabeled is not None:\n",
    "            consistency_loss = tf.reduce_mean(tf.keras.losses.mean_squared_error(y_pred_unlabeled, y_pred_unlabeled_augmented))\n",
    "            total_loss = supervised_loss + consistency_weight * consistency_loss\n",
    "        else:\n",
    "            total_loss = supervised_loss\n",
    "\n",
    "        # 计算准确度\n",
    "        accuracy = tf.keras.metrics.categorical_accuracy(y_batch, y_pred_labeled)\n",
    "\n",
    "        # 计算Precision\n",
    "        precision = tf.keras.metrics.Precision()\n",
    "        precision.update_state(tf.argmax(y_batch, axis=-1), tf.argmax(y_pred_labeled, axis=-1))\n",
    "\n",
    "        # 计算Recall\n",
    "        recall = tf.keras.metrics.Recall()\n",
    "        recall.update_state(tf.argmax(y_batch, axis=-1), tf.argmax(y_pred_labeled, axis=-1))\n",
    "\n",
    "        # 计算F1分数\n",
    "        f1_score = 2 * ((precision.result() * recall.result()) / (precision.result() + recall.result() + tf.keras.backend.epsilon()))\n",
    "\n",
    "        if training:\n",
    "            # 反向传播和优化\n",
    "            grads = tape.gradient(total_loss, model_categorical.trainable_variables)\n",
    "            optimizer.apply_gradients(zip(grads, model_categorical.trainable_variables))\n",
    "    return total_loss, supervised_loss, consistency_loss if x_unlabeled is not None else None, accuracy, precision.result(), recall.result(), f1_score"
   ],
   "metadata": {
    "collapsed": false,
    "ExecuteTime": {
     "start_time": "2023-05-01T21:48:30.463008Z",
     "end_time": "2023-05-01T21:48:30.467907Z"
    }
   }
  },
  {
   "cell_type": "markdown",
   "source": [
    "### 训练半监督"
   ],
   "metadata": {
    "collapsed": false
   }
  },
  {
   "cell_type": "code",
   "execution_count": 57,
   "outputs": [
    {
     "name": "stdout",
     "output_type": "stream",
     "text": [
      "Epoch 1/1\n"
     ]
    },
    {
     "name": "stderr",
     "output_type": "stream",
     "text": [
      "Training: 100%|███████████████████████████████████████████████████| 198/198 [00:27<00:00,  7.30it/s]\n"
     ]
    },
    {
     "name": "stdout",
     "output_type": "stream",
     "text": [
      " - loss: 0.4826, supervised_loss: 0.3858, consistency_loss: 0.0646, accuracy: 0.8583, precision: 0.9592, recall: 0.9505, f1_score: 0.9541\n",
      "Validation set： - loss: 0.4316, supervised_loss: 0.3858, consistency_loss: 0.0646, accuracy: 0.8362, precision: 3.9996, recall: 4.0047, f1_score: 3.9989\n"
     ]
    }
   ],
   "source": [
    "optimizer = tf.keras.optimizers.legacy.Adam(learning_rate=0.1e-5)\n",
    "epochs = 1\n",
    "min_val_loss = float('inf')\n",
    "num_epochs_no_improvement = 0\n",
    "current_learning_rate = optimizer.learning_rate.numpy()\n",
    "history = {\"loss\": [], \"val_loss\": [], \"accuracy\": [], \"val_accuracy\": [], \"precision\":[],\n",
    "           \"recall\":[], \"f1\":[], \"val_precision\":[], \"val_recall\":[], \"val_f1\":[]}\n",
    "\n",
    "for epoch in range(epochs):\n",
    "    print(f\"Epoch {epoch + 1}/{epochs}\")\n",
    "\n",
    "    total_loss = 0\n",
    "    total_supervised_loss = 0\n",
    "    total_consistency_loss = 0\n",
    "    total_accuracy = 0\n",
    "    total_precision = 0\n",
    "    total_recall = 0\n",
    "    total_f1_score = 0\n",
    "    steps = 0\n",
    "\n",
    "    total_batches = math.ceil(len(train_data) / batch_size)\n",
    "    with tqdm(total=total_batches, desc=\"Training\", ncols=100) as progress_bar:\n",
    "        for (x_batch, y_batch), (x_unlabeled, _) in zip(train_generator, unlabeled_generator):\n",
    "            progress_bar.update(1)\n",
    "            loss, supervised_loss, consistency_loss, accuracy, precision, recall, f1_score = apply_uda(x_batch,\n",
    "                                                                                                       y_batch,\n",
    "                                                                                                       x_unlabeled,\n",
    "                                                                                                       model_categorical,\n",
    "                                                                                                       optimizer,\n",
    "                                                                                                       class_weight_dict_cellType)\n",
    "            total_loss += loss\n",
    "            total_supervised_loss += supervised_loss\n",
    "            total_consistency_loss += consistency_loss\n",
    "            total_precision += precision\n",
    "            total_recall += recall\n",
    "            total_f1_score += f1_score\n",
    "            total_accuracy += tf.reduce_mean(accuracy)\n",
    "            steps += 1\n",
    "            # 检查是否已经处理了所有批次\n",
    "            if steps * batch_size >= len(train_data):\n",
    "                break\n",
    "\n",
    "        # 计算并打印平均损失和准确率\n",
    "        avg_loss = total_loss / steps\n",
    "        avg_supervised_loss = total_supervised_loss / steps\n",
    "        avg_consistency_loss = total_consistency_loss / steps\n",
    "        avg_accuracy = total_accuracy / steps\n",
    "        avg_precision = total_precision / steps\n",
    "        avg_recall = total_recall / steps\n",
    "        avg_f1_score = total_f1_score / steps\n",
    "\n",
    "        history[\"loss\"].append(avg_loss.numpy())\n",
    "        history[\"accuracy\"].append(avg_accuracy.numpy())\n",
    "        history[\"precision\"].append(avg_precision.numpy())\n",
    "        history[\"recall\"].append(avg_recall.numpy())\n",
    "        history[\"f1\"].append(avg_f1_score.numpy())\n",
    "        print(f\" - loss: {avg_loss.numpy():.4f}, supervised_loss: {avg_supervised_loss.numpy():.4f}, consistency_loss: {avg_consistency_loss.numpy():.4f}, accuracy: {avg_accuracy.numpy():.4f}, precision: {avg_precision.numpy():.4f}, recall: {avg_recall.numpy():.4f}, f1_score: {avg_f1_score.numpy():.4f}\")\n",
    "\n",
    "    total_loss = 0\n",
    "    total_accuracy = 0\n",
    "    steps = 0\n",
    "    for x_batch, y_batch in validation_cellType_generator:\n",
    "        loss, _, _, accuracy, precision, recall, f1_score = apply_uda(x_batch, y_batch, None, model_categorical, optimizer, False)\n",
    "        total_loss += loss\n",
    "        total_precision += precision\n",
    "        total_recall += recall\n",
    "        total_f1_score += f1_score\n",
    "        total_accuracy += tf.reduce_mean(accuracy)\n",
    "        steps += 1\n",
    "\n",
    "        if steps * batch_size >= len(test_data):\n",
    "            break\n",
    "\n",
    "    avg_loss = total_loss / steps\n",
    "    avg_accuracy = total_accuracy / steps\n",
    "    avg_precision = total_precision / steps\n",
    "    avg_recall = total_recall / steps\n",
    "    avg_f1_score = total_f1_score / steps\n",
    "\n",
    "    history[\"val_loss\"].append(avg_loss.numpy())\n",
    "    history[\"val_accuracy\"].append(avg_accuracy.numpy())\n",
    "    history[\"val_precision\"].append(avg_precision.numpy())\n",
    "    history[\"val_recall\"].append(avg_recall.numpy())\n",
    "    history[\"val_f1\"].append(avg_f1_score.numpy())\n",
    "    print(f\"Validation set： - loss: {avg_loss.numpy():.4f}, supervised_loss: {avg_supervised_loss.numpy():.4f}, consistency_loss: {avg_consistency_loss.numpy():.4f}, accuracy: {avg_accuracy.numpy():.4f}, precision: {avg_precision.numpy():.4f}, recall: {avg_recall.numpy():.4f}, f1_score: {avg_f1_score.numpy():.4f}\")\n",
    "\n",
    "    # 检查是否需要更新学习率\n",
    "    if avg_loss < min_val_loss:\n",
    "        min_val_loss = loss\n",
    "        num_epochs_no_improvement = 0\n",
    "    else:\n",
    "        num_epochs_no_improvement += 1\n",
    "\n",
    "    if num_epochs_no_improvement >= 3:\n",
    "        current_learning_rate *= np.sqrt(0.1)\n",
    "        current_learning_rate = max(current_learning_rate, 0.5e-15)\n",
    "        optimizer.learning_rate.assign(current_learning_rate)\n",
    "        num_epochs_no_improvement = 0"
   ],
   "metadata": {
    "collapsed": false,
    "ExecuteTime": {
     "start_time": "2023-05-01T21:48:32.326967Z",
     "end_time": "2023-05-01T21:49:02.005658Z"
    }
   }
  },
  {
   "cell_type": "code",
   "execution_count": 32,
   "outputs": [
    {
     "data": {
      "text/plain": "<Figure size 432x288 with 1 Axes>",
      "image/png": "[encoded data removed]"
     },
     "metadata": {
      "needs_background": "light"
     },
     "output_type": "display_data"
    }
   ],
   "source": [
    "train_accuracy = history['accuracy']\n",
    "val_accuracy = history['val_accuracy']\n",
    "\n",
    "epochs_range = range(1, epochs + 1)\n",
    "\n",
    "plt.plot(epochs_range, train_accuracy, label='Training Accuracy')\n",
    "plt.plot(epochs_range, val_accuracy, label='Validation Accuracy')\n",
    "\n",
    "plt.legend()\n",
    "plt.title('Training and Validation Accuracy in binary')\n",
    "plt.xlabel('Epoch')\n",
    "plt.ylabel('Accuracy')\n",
    "\n",
    "plt.show()"
   ],
   "metadata": {
    "collapsed": false,
    "ExecuteTime": {
     "start_time": "2023-05-01T21:26:53.384761Z",
     "end_time": "2023-05-01T21:26:53.408997Z"
    }
   }
  },
  {
   "cell_type": "code",
   "execution_count": 58,
   "outputs": [
    {
     "name": "stdout",
     "output_type": "stream",
     "text": [
      "62/62 [==============================] - 2s 29ms/step - loss: 0.9280 - accuracy: 0.8242 - precision: 0.8495 - recall: 0.7980 - f1_score: 0.8229\n"
     ]
    },
    {
     "data": {
      "text/plain": "[0.9280155897140503,\n 0.8242424130439758,\n 0.8494623899459839,\n 0.7979797720909119,\n 0.8229166865348816]"
     },
     "execution_count": 58,
     "metadata": {},
     "output_type": "execute_result"
    }
   ],
   "source": [
    "model_categorical.evaluate(test_cellType_generator)"
   ],
   "metadata": {
    "collapsed": false,
    "ExecuteTime": {
     "start_time": "2023-05-01T21:49:06.338859Z",
     "end_time": "2023-05-01T21:49:08.431040Z"
    }
   }
  }
 ],
 "metadata": {
  "kernelspec": {
   "display_name": "Python 3",
   "language": "python",
   "name": "python3"
  },
  "language_info": {
   "codemirror_mode": {
    "name": "ipython",
    "version": 2
   },
   "file_extension": ".py",
   "mimetype": "text/x-python",
   "name": "python",
   "nbconvert_exporter": "python",
   "pygments_lexer": "ipython2",
   "version": "2.7.6"
  }
 },
 "nbformat": 4,
 "nbformat_minor": 0
}
