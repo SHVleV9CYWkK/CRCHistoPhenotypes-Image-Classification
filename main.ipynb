{
 "cells": [
  {
   "cell_type": "code",
   "execution_count": 20,
   "metadata": {
    "collapsed": true,
    "ExecuteTime": {
     "start_time": "2023-04-27T18:20:06.362762Z",
     "end_time": "2023-04-27T18:20:06.366068Z"
    }
   },
   "outputs": [],
   "source": [
    "import pandas as pd\n",
    "import matplotlib.pyplot as plt\n",
    "import numpy as np\n",
    "import tensorflow as tf\n",
    "import tensorflow_addons as tfa\n",
    "from sklearn.model_selection import train_test_split"
   ]
  },
  {
   "cell_type": "code",
   "execution_count": 21,
   "outputs": [],
   "source": [
    "data = pd.read_csv('./Image_classification_data/data_labels_mainData.csv')\n",
    "data['isCancerous'] = data['isCancerous'].astype(str)\n",
    "data['cellType'] = data['cellType'].astype(str)\n",
    "train_data, test_data = train_test_split(data, test_size=0.2, random_state=42)"
   ],
   "metadata": {
    "collapsed": false,
    "ExecuteTime": {
     "start_time": "2023-04-27T18:20:07.816710Z",
     "end_time": "2023-04-27T18:20:07.835269Z"
    }
   }
  },
  {
   "cell_type": "code",
   "execution_count": 22,
   "outputs": [
    {
     "data": {
      "text/plain": "([0, 1], [Text(0, 0, '1'), Text(1, 0, '0')])"
     },
     "execution_count": 22,
     "metadata": {},
     "output_type": "execute_result"
    },
    {
     "data": {
      "text/plain": "<Figure size 432x288 with 1 Axes>",
      "image/png": "[encoded data removed]"
     },
     "metadata": {
      "needs_background": "light"
     },
     "output_type": "display_data"
    }
   ],
   "source": [
    "plt.hist(train_data['isCancerous'], alpha=0.3, color='b', label='Train', density=True)\n",
    "plt.hist(test_data['isCancerous'], alpha=0.3, color='r', label='Test',  density=True)\n",
    "plt.hist(data['isCancerous'], alpha=0.3, color='g', density=True)\n",
    "plt.title('isCancerous')\n",
    "plt.xticks(rotation='vertical')"
   ],
   "metadata": {
    "collapsed": false,
    "ExecuteTime": {
     "start_time": "2023-04-27T18:20:08.640886Z",
     "end_time": "2023-04-27T18:20:08.701344Z"
    }
   }
  },
  {
   "cell_type": "code",
   "execution_count": 23,
   "outputs": [
    {
     "data": {
      "text/plain": "([0, 1, 2, 3],\n [Text(0, 0, '2'), Text(1, 0, '0'), Text(2, 0, '3'), Text(3, 0, '1')])"
     },
     "execution_count": 23,
     "metadata": {},
     "output_type": "execute_result"
    },
    {
     "data": {
      "text/plain": "<Figure size 432x288 with 1 Axes>",
      "image/png": "[encoded data removed]"
     },
     "metadata": {
      "needs_background": "light"
     },
     "output_type": "display_data"
    }
   ],
   "source": [
    "plt.hist(train_data['cellType'], alpha=0.3, color='b', label='Train', density=True)\n",
    "plt.hist(test_data['cellType'], alpha=0.3, color='r', label='Test',  density=True)\n",
    "plt.hist(data['cellType'], alpha=0.3, color='g', density=True)\n",
    "plt.title('cellType')\n",
    "plt.xticks(rotation='vertical')"
   ],
   "metadata": {
    "collapsed": false,
    "ExecuteTime": {
     "start_time": "2023-04-27T18:20:10.040814Z",
     "end_time": "2023-04-27T18:20:10.114735Z"
    }
   }
  },
  {
   "cell_type": "code",
   "execution_count": 24,
   "outputs": [],
   "source": [
    "class_samples_isCancerous = train_data['isCancerous'].value_counts()\n",
    "total_samples = np.sum(class_samples_isCancerous)\n",
    "class_weights_isCancerous = total_samples / class_samples_isCancerous\n",
    "class_weight_dict_isCancerous = {int(k): v for k, v in class_weights_isCancerous.to_dict().items()}\n",
    "\n",
    "class_samples_cellType = train_data['cellType'].value_counts()\n",
    "total_samples = np.sum(class_samples_cellType)\n",
    "class_weights_cellType = total_samples / class_samples_cellType\n",
    "class_weight_dict_cellType = {int(k): v for k, v in class_weights_cellType.to_dict().items()}"
   ],
   "metadata": {
    "collapsed": false,
    "ExecuteTime": {
     "start_time": "2023-04-27T18:20:11.194300Z",
     "end_time": "2023-04-27T18:20:11.198989Z"
    }
   }
  },
  {
   "cell_type": "code",
   "execution_count": 25,
   "outputs": [
    {
     "name": "stdout",
     "output_type": "stream",
     "text": [
      "Found 7916 validated image filenames belonging to 2 classes.\n",
      "Found 1980 validated image filenames belonging to 2 classes.\n"
     ]
    }
   ],
   "source": [
    "batch_size = 32\n",
    "train_datagen = tf.keras.preprocessing.image.ImageDataGenerator(\n",
    "    rescale=1./255,\n",
    "    rotation_range=40,\n",
    "    width_shift_range=0.2,\n",
    "    height_shift_range=0.2,\n",
    "    shear_range=0.2,\n",
    "    zoom_range=0.2,\n",
    "    horizontal_flip=True,\n",
    "    vertical_flip=True,\n",
    "    fill_mode='nearest'\n",
    ")\n",
    "\n",
    "test_datagen = tf.keras.preprocessing.image.ImageDataGenerator(\n",
    "    rescale=1./255\n",
    ")\n",
    "\n",
    "train_isCancerous_generator = train_datagen.flow_from_dataframe(\n",
    "    train_data,\n",
    "    directory='./Image_classification_data/patch_images',\n",
    "    x_col='ImageName',\n",
    "    y_col='isCancerous',\n",
    "    target_size=(27, 27),\n",
    "    batch_size=batch_size,\n",
    "    class_mode='binary')\n",
    "\n",
    "validation_isCancerous_generator = test_datagen.flow_from_dataframe(\n",
    "    test_data,\n",
    "    directory='./Image_classification_data/patch_images',\n",
    "    x_col='ImageName',\n",
    "    y_col='isCancerous',\n",
    "    target_size=(27, 27),\n",
    "    batch_size=batch_size,\n",
    "    class_mode='binary')"
   ],
   "metadata": {
    "collapsed": false,
    "ExecuteTime": {
     "start_time": "2023-04-27T18:20:12.382142Z",
     "end_time": "2023-04-27T18:20:12.471393Z"
    }
   }
  },
  {
   "cell_type": "code",
   "execution_count": 26,
   "outputs": [
    {
     "name": "stdout",
     "output_type": "stream",
     "text": [
      "Found 7916 validated image filenames belonging to 4 classes.\n",
      "Found 1980 validated image filenames belonging to 4 classes.\n"
     ]
    }
   ],
   "source": [
    "train_cellType_generator = train_datagen.flow_from_dataframe(\n",
    "    train_data,\n",
    "    directory='./Image_classification_data/patch_images',\n",
    "    x_col='ImageName',\n",
    "    y_col='cellType',\n",
    "    target_size=(27, 27),\n",
    "    batch_size=batch_size,\n",
    "    class_mode='categorical')\n",
    "\n",
    "validation_cellType_generator = test_datagen.flow_from_dataframe(\n",
    "    test_data,\n",
    "    directory='./Image_classification_data/patch_images',\n",
    "    x_col='ImageName',\n",
    "    y_col='cellType',\n",
    "    target_size=(27, 27),\n",
    "    batch_size=batch_size,\n",
    "    class_mode='categorical')"
   ],
   "metadata": {
    "collapsed": false,
    "ExecuteTime": {
     "start_time": "2023-04-27T18:20:15.749481Z",
     "end_time": "2023-04-27T18:20:15.836749Z"
    }
   }
  },
  {
   "cell_type": "markdown",
   "source": [
    "三层卷积，池化。+64，32，16MPL。bc=16，lr=0.001。目前表现最佳。"
   ],
   "metadata": {
    "collapsed": false
   }
  },
  {
   "cell_type": "code",
   "execution_count": 27,
   "outputs": [
    {
     "name": "stdout",
     "output_type": "stream",
     "text": [
      "Model: \"sequential_2\"\n",
      "_________________________________________________________________\n",
      " Layer (type)                Output Shape              Param #   \n",
      "=================================================================\n",
      " conv2d_8 (Conv2D)           (None, 27, 27, 32)        896       \n",
      "                                                                 \n",
      " batch_normalization_12 (Bat  (None, 27, 27, 32)       128       \n",
      " chNormalization)                                                \n",
      "                                                                 \n",
      " conv2d_9 (Conv2D)           (None, 25, 25, 32)        9248      \n",
      "                                                                 \n",
      " batch_normalization_13 (Bat  (None, 25, 25, 32)       128       \n",
      " chNormalization)                                                \n",
      "                                                                 \n",
      " max_pooling2d_4 (MaxPooling  (None, 12, 12, 32)       0         \n",
      " 2D)                                                             \n",
      "                                                                 \n",
      " conv2d_10 (Conv2D)          (None, 12, 12, 64)        18496     \n",
      "                                                                 \n",
      " batch_normalization_14 (Bat  (None, 12, 12, 64)       256       \n",
      " chNormalization)                                                \n",
      "                                                                 \n",
      " conv2d_11 (Conv2D)          (None, 10, 10, 64)        36928     \n",
      "                                                                 \n",
      " batch_normalization_15 (Bat  (None, 10, 10, 64)       256       \n",
      " chNormalization)                                                \n",
      "                                                                 \n",
      " max_pooling2d_5 (MaxPooling  (None, 5, 5, 64)         0         \n",
      " 2D)                                                             \n",
      "                                                                 \n",
      " flatten_2 (Flatten)         (None, 1600)              0         \n",
      "                                                                 \n",
      " dense_6 (Dense)             (None, 512)               819712    \n",
      "                                                                 \n",
      " batch_normalization_16 (Bat  (None, 512)              2048      \n",
      " chNormalization)                                                \n",
      "                                                                 \n",
      " dropout_4 (Dropout)         (None, 512)               0         \n",
      "                                                                 \n",
      " dense_7 (Dense)             (None, 512)               262656    \n",
      "                                                                 \n",
      " batch_normalization_17 (Bat  (None, 512)              2048      \n",
      " chNormalization)                                                \n",
      "                                                                 \n",
      " dropout_5 (Dropout)         (None, 512)               0         \n",
      "                                                                 \n",
      " dense_8 (Dense)             (None, 1)                 513       \n",
      "                                                                 \n",
      "=================================================================\n",
      "Total params: 1,153,313\n",
      "Trainable params: 1,150,881\n",
      "Non-trainable params: 2,432\n",
      "_________________________________________________________________\n"
     ]
    }
   ],
   "source": [
    "input_shape = (27, 27, 3)\n",
    "num_classes = 4\n",
    "l2_coeff = 0.01\n",
    "\n",
    "model_binary = tf.keras.models.Sequential([\n",
    "    tf.keras.layers.Conv2D(32, (3,3), activation='relu', input_shape=input_shape, padding='same', kernel_regularizer=tf.keras.regularizers.l2(l2_coeff)),\n",
    "    tf.keras.layers.BatchNormalization(),\n",
    "    tf.keras.layers.Conv2D(32, (3,3), activation='relu', kernel_regularizer=tf.keras.regularizers.l2(l2_coeff)),\n",
    "    tf.keras.layers.BatchNormalization(),\n",
    "    tf.keras.layers.MaxPooling2D(2, 2),\n",
    "    tf.keras.layers.Conv2D(64, (3,3), activation='relu', padding='same', kernel_regularizer=tf.keras.regularizers.l2(l2_coeff)),\n",
    "    tf.keras.layers.BatchNormalization(),\n",
    "    tf.keras.layers.Conv2D(64, (3,3), activation='relu', kernel_regularizer=tf.keras.regularizers.l2(l2_coeff)),\n",
    "    tf.keras.layers.BatchNormalization(),\n",
    "    tf.keras.layers.MaxPooling2D(2, 2),\n",
    "    tf.keras.layers.Flatten(),\n",
    "    tf.keras.layers.Dense(512, activation='relu', kernel_regularizer=tf.keras.regularizers.l2(l2_coeff)),\n",
    "    tf.keras.layers.BatchNormalization(),\n",
    "    tf.keras.layers.Dropout(0.2),\n",
    "    tf.keras.layers.Dense(512, activation='relu', kernel_regularizer=tf.keras.regularizers.l2(l2_coeff)),\n",
    "    tf.keras.layers.BatchNormalization(),\n",
    "    tf.keras.layers.Dropout(0.2),\n",
    "    tf.keras.layers.Dense(1, activation='sigmoid')\n",
    "])\n",
    "model_binary.summary()"
   ],
   "metadata": {
    "collapsed": false,
    "ExecuteTime": {
     "start_time": "2023-04-27T18:20:17.401054Z",
     "end_time": "2023-04-27T18:20:17.494363Z"
    }
   }
  },
  {
   "cell_type": "code",
   "execution_count": 28,
   "outputs": [
    {
     "name": "stdout",
     "output_type": "stream",
     "text": [
      "Model: \"sequential_3\"\n",
      "_________________________________________________________________\n",
      " Layer (type)                Output Shape              Param #   \n",
      "=================================================================\n",
      " conv2d_12 (Conv2D)          (None, 27, 27, 32)        896       \n",
      "                                                                 \n",
      " batch_normalization_18 (Bat  (None, 27, 27, 32)       128       \n",
      " chNormalization)                                                \n",
      "                                                                 \n",
      " conv2d_13 (Conv2D)          (None, 25, 25, 32)        9248      \n",
      "                                                                 \n",
      " batch_normalization_19 (Bat  (None, 25, 25, 32)       128       \n",
      " chNormalization)                                                \n",
      "                                                                 \n",
      " max_pooling2d_6 (MaxPooling  (None, 12, 12, 32)       0         \n",
      " 2D)                                                             \n",
      "                                                                 \n",
      " conv2d_14 (Conv2D)          (None, 12, 12, 64)        18496     \n",
      "                                                                 \n",
      " batch_normalization_20 (Bat  (None, 12, 12, 64)       256       \n",
      " chNormalization)                                                \n",
      "                                                                 \n",
      " conv2d_15 (Conv2D)          (None, 10, 10, 64)        36928     \n",
      "                                                                 \n",
      " batch_normalization_21 (Bat  (None, 10, 10, 64)       256       \n",
      " chNormalization)                                                \n",
      "                                                                 \n",
      " max_pooling2d_7 (MaxPooling  (None, 5, 5, 64)         0         \n",
      " 2D)                                                             \n",
      "                                                                 \n",
      " flatten_3 (Flatten)         (None, 1600)              0         \n",
      "                                                                 \n",
      " dense_9 (Dense)             (None, 512)               819712    \n",
      "                                                                 \n",
      " batch_normalization_22 (Bat  (None, 512)              2048      \n",
      " chNormalization)                                                \n",
      "                                                                 \n",
      " dropout_6 (Dropout)         (None, 512)               0         \n",
      "                                                                 \n",
      " dense_10 (Dense)            (None, 512)               262656    \n",
      "                                                                 \n",
      " batch_normalization_23 (Bat  (None, 512)              2048      \n",
      " chNormalization)                                                \n",
      "                                                                 \n",
      " dropout_7 (Dropout)         (None, 512)               0         \n",
      "                                                                 \n",
      " dense_11 (Dense)            (None, 4)                 2052      \n",
      "                                                                 \n",
      "=================================================================\n",
      "Total params: 1,154,852\n",
      "Trainable params: 1,152,420\n",
      "Non-trainable params: 2,432\n",
      "_________________________________________________________________\n"
     ]
    }
   ],
   "source": [
    "model_categorical = tf.keras.models.Sequential([\n",
    "    tf.keras.layers.Conv2D(32, (3,3), activation='relu', input_shape=input_shape, padding='same', kernel_regularizer=tf.keras.regularizers.l2(l2_coeff)),\n",
    "    tf.keras.layers.BatchNormalization(),\n",
    "    tf.keras.layers.Conv2D(32, (3,3), activation='relu', kernel_regularizer=tf.keras.regularizers.l2(l2_coeff)),\n",
    "    tf.keras.layers.BatchNormalization(),\n",
    "    tf.keras.layers.MaxPooling2D(2, 2),\n",
    "    tf.keras.layers.Conv2D(64, (3,3), activation='relu', padding='same', kernel_regularizer=tf.keras.regularizers.l2(l2_coeff)),\n",
    "    tf.keras.layers.BatchNormalization(),\n",
    "    tf.keras.layers.Conv2D(64, (3,3), activation='relu', kernel_regularizer=tf.keras.regularizers.l2(l2_coeff)),\n",
    "    tf.keras.layers.BatchNormalization(),\n",
    "    tf.keras.layers.MaxPooling2D(2, 2),\n",
    "    tf.keras.layers.Flatten(),\n",
    "    tf.keras.layers.Dense(512, activation='relu', kernel_regularizer=tf.keras.regularizers.l2(l2_coeff)),\n",
    "    tf.keras.layers.BatchNormalization(),\n",
    "    tf.keras.layers.Dropout(0.2),\n",
    "    tf.keras.layers.Dense(512, activation='relu', kernel_regularizer=tf.keras.regularizers.l2(l2_coeff)),\n",
    "    tf.keras.layers.BatchNormalization(),\n",
    "    tf.keras.layers.Dropout(0.2),\n",
    "    tf.keras.layers.Dense(num_classes, activation='softmax')\n",
    "])\n",
    "model_categorical.summary()"
   ],
   "metadata": {
    "collapsed": false,
    "ExecuteTime": {
     "start_time": "2023-04-27T18:20:19.696439Z",
     "end_time": "2023-04-27T18:20:19.788871Z"
    }
   }
  },
  {
   "cell_type": "code",
   "execution_count": 29,
   "outputs": [],
   "source": [
    "model_binary.compile(loss='binary_crossentropy',\n",
    "              optimizer=tf.keras.optimizers.legacy.Adam(learning_rate=0.0001),\n",
    "              metrics=['accuracy'])\n",
    "\n",
    "model_categorical.compile(loss='categorical_crossentropy',\n",
    "              optimizer=tf.keras.optimizers.legacy.Adam(learning_rate=0.0001), metrics=['accuracy'])"
   ],
   "metadata": {
    "collapsed": false,
    "ExecuteTime": {
     "start_time": "2023-04-27T18:20:21.758273Z",
     "end_time": "2023-04-27T18:20:21.770074Z"
    }
   }
  },
  {
   "cell_type": "code",
   "execution_count": 11,
   "outputs": [
    {
     "name": "stdout",
     "output_type": "stream",
     "text": [
      "Epoch 1/100\n"
     ]
    },
    {
     "name": "stderr",
     "output_type": "stream",
     "text": [
      "2023-04-27 16:59:42.811612: W tensorflow/tsl/platform/profile_utils/cpu_utils.cc:128] Failed to get CPU frequency: 0 Hz\n"
     ]
    },
    {
     "name": "stdout",
     "output_type": "stream",
     "text": [
      "247/247 [==============================] - 10s 35ms/step - loss: 14.4948 - accuracy: 0.8144 - val_loss: 13.9485 - val_accuracy: 0.3986 - lr: 1.0000e-04\n",
      "Epoch 2/100\n",
      "247/247 [==============================] - 8s 33ms/step - loss: 12.9447 - accuracy: 0.8549 - val_loss: 12.0013 - val_accuracy: 0.8453 - lr: 1.0000e-04\n",
      "Epoch 3/100\n",
      "247/247 [==============================] - 8s 33ms/step - loss: 11.7220 - accuracy: 0.8568 - val_loss: 10.8136 - val_accuracy: 0.8637 - lr: 1.0000e-04\n",
      "Epoch 4/100\n",
      "247/247 [==============================] - 8s 33ms/step - loss: 10.6196 - accuracy: 0.8645 - val_loss: 9.7352 - val_accuracy: 0.9047 - lr: 1.0000e-04\n",
      "Epoch 5/100\n",
      "247/247 [==============================] - 8s 33ms/step - loss: 9.6212 - accuracy: 0.8710 - val_loss: 8.8339 - val_accuracy: 0.8878 - lr: 1.0000e-04\n",
      "Epoch 6/100\n",
      "247/247 [==============================] - 9s 35ms/step - loss: 8.7589 - accuracy: 0.8753 - val_loss: 8.0795 - val_accuracy: 0.8622 - lr: 1.0000e-04\n",
      "Epoch 7/100\n",
      "247/247 [==============================] - 9s 35ms/step - loss: 7.9720 - accuracy: 0.8739 - val_loss: 7.2775 - val_accuracy: 0.8888 - lr: 1.0000e-04\n",
      "Epoch 8/100\n",
      "247/247 [==============================] - 8s 34ms/step - loss: 7.2260 - accuracy: 0.8794 - val_loss: 6.5786 - val_accuracy: 0.8929 - lr: 1.0000e-04\n",
      "Epoch 9/100\n",
      "247/247 [==============================] - 9s 35ms/step - loss: 6.5577 - accuracy: 0.8834 - val_loss: 5.9194 - val_accuracy: 0.9088 - lr: 1.0000e-04\n",
      "Epoch 10/100\n",
      "247/247 [==============================] - 9s 35ms/step - loss: 5.9824 - accuracy: 0.8790 - val_loss: 5.3703 - val_accuracy: 0.9001 - lr: 1.0000e-04\n",
      "Epoch 11/100\n",
      "247/247 [==============================] - 8s 34ms/step - loss: 5.4197 - accuracy: 0.8871 - val_loss: 5.0231 - val_accuracy: 0.8412 - lr: 1.0000e-04\n",
      "Epoch 12/100\n",
      "247/247 [==============================] - 8s 34ms/step - loss: 4.9327 - accuracy: 0.8848 - val_loss: 4.3960 - val_accuracy: 0.9109 - lr: 1.0000e-04\n",
      "Epoch 13/100\n",
      "247/247 [==============================] - 8s 33ms/step - loss: 4.4824 - accuracy: 0.8922 - val_loss: 4.0019 - val_accuracy: 0.8950 - lr: 1.0000e-04\n",
      "Epoch 14/100\n",
      "247/247 [==============================] - 9s 35ms/step - loss: 4.0723 - accuracy: 0.8950 - val_loss: 3.6286 - val_accuracy: 0.8929 - lr: 1.0000e-04\n",
      "Epoch 15/100\n",
      "247/247 [==============================] - 8s 34ms/step - loss: 3.7155 - accuracy: 0.8956 - val_loss: 3.2595 - val_accuracy: 0.9124 - lr: 1.0000e-04\n",
      "Epoch 16/100\n",
      "247/247 [==============================] - 8s 34ms/step - loss: 3.3821 - accuracy: 0.8940 - val_loss: 3.0055 - val_accuracy: 0.8919 - lr: 1.0000e-04\n",
      "Epoch 17/100\n",
      "247/247 [==============================] - 8s 33ms/step - loss: 3.0987 - accuracy: 0.8938 - val_loss: 2.6894 - val_accuracy: 0.9037 - lr: 1.0000e-04\n",
      "Epoch 18/100\n",
      "247/247 [==============================] - 8s 34ms/step - loss: 2.8197 - accuracy: 0.9007 - val_loss: 2.4333 - val_accuracy: 0.9144 - lr: 1.0000e-04\n",
      "Epoch 19/100\n",
      "247/247 [==============================] - 8s 34ms/step - loss: 2.5921 - accuracy: 0.8987 - val_loss: 2.2125 - val_accuracy: 0.9109 - lr: 1.0000e-04\n",
      "Epoch 20/100\n",
      "247/247 [==============================] - 8s 34ms/step - loss: 2.3758 - accuracy: 0.9035 - val_loss: 2.0973 - val_accuracy: 0.8822 - lr: 1.0000e-04\n",
      "Epoch 21/100\n",
      "247/247 [==============================] - 8s 33ms/step - loss: 2.2156 - accuracy: 0.9013 - val_loss: 1.8338 - val_accuracy: 0.9191 - lr: 1.0000e-04\n",
      "Epoch 22/100\n",
      "247/247 [==============================] - 8s 33ms/step - loss: 2.0346 - accuracy: 0.8993 - val_loss: 1.7489 - val_accuracy: 0.8914 - lr: 1.0000e-04\n",
      "Epoch 23/100\n",
      "247/247 [==============================] - 8s 33ms/step - loss: 1.8911 - accuracy: 0.9016 - val_loss: 1.5832 - val_accuracy: 0.8991 - lr: 1.0000e-04\n",
      "Epoch 24/100\n",
      "247/247 [==============================] - 8s 33ms/step - loss: 1.7792 - accuracy: 0.9017 - val_loss: 1.4686 - val_accuracy: 0.9011 - lr: 1.0000e-04\n",
      "Epoch 25/100\n",
      "247/247 [==============================] - 8s 34ms/step - loss: 1.6574 - accuracy: 0.9058 - val_loss: 1.3359 - val_accuracy: 0.9160 - lr: 1.0000e-04\n",
      "Epoch 26/100\n",
      "247/247 [==============================] - 8s 33ms/step - loss: 1.5471 - accuracy: 0.9061 - val_loss: 1.2432 - val_accuracy: 0.9191 - lr: 1.0000e-04\n",
      "Epoch 27/100\n",
      "247/247 [==============================] - 8s 33ms/step - loss: 1.4640 - accuracy: 0.9039 - val_loss: 1.1699 - val_accuracy: 0.9278 - lr: 1.0000e-04\n",
      "Epoch 28/100\n",
      "247/247 [==============================] - 8s 33ms/step - loss: 1.3745 - accuracy: 0.9072 - val_loss: 1.1246 - val_accuracy: 0.9027 - lr: 1.0000e-04\n",
      "Epoch 29/100\n",
      "247/247 [==============================] - 8s 33ms/step - loss: 1.3196 - accuracy: 0.9059 - val_loss: 1.0312 - val_accuracy: 0.9262 - lr: 1.0000e-04\n",
      "Epoch 30/100\n",
      "247/247 [==============================] - 8s 34ms/step - loss: 1.2484 - accuracy: 0.9103 - val_loss: 0.9647 - val_accuracy: 0.9257 - lr: 1.0000e-04\n",
      "Epoch 31/100\n",
      "247/247 [==============================] - 8s 33ms/step - loss: 1.2131 - accuracy: 0.9050 - val_loss: 0.9321 - val_accuracy: 0.9257 - lr: 1.0000e-04\n",
      "Epoch 32/100\n",
      "247/247 [==============================] - 8s 33ms/step - loss: 1.1541 - accuracy: 0.9132 - val_loss: 0.8894 - val_accuracy: 0.9175 - lr: 1.0000e-04\n",
      "Epoch 33/100\n",
      "247/247 [==============================] - 8s 32ms/step - loss: 1.1172 - accuracy: 0.9102 - val_loss: 0.8674 - val_accuracy: 0.9221 - lr: 1.0000e-04\n",
      "Epoch 34/100\n",
      "247/247 [==============================] - 8s 33ms/step - loss: 1.0585 - accuracy: 0.9129 - val_loss: 0.8128 - val_accuracy: 0.9175 - lr: 1.0000e-04\n",
      "Epoch 35/100\n",
      "247/247 [==============================] - 8s 32ms/step - loss: 1.0305 - accuracy: 0.9084 - val_loss: 0.7697 - val_accuracy: 0.9196 - lr: 1.0000e-04\n",
      "Epoch 36/100\n",
      "247/247 [==============================] - 8s 32ms/step - loss: 1.0135 - accuracy: 0.9094 - val_loss: 0.7486 - val_accuracy: 0.9144 - lr: 1.0000e-04\n",
      "Epoch 37/100\n",
      "247/247 [==============================] - 8s 33ms/step - loss: 0.9849 - accuracy: 0.9087 - val_loss: 0.7342 - val_accuracy: 0.9201 - lr: 1.0000e-04\n",
      "Epoch 38/100\n",
      "247/247 [==============================] - 8s 33ms/step - loss: 0.9468 - accuracy: 0.9121 - val_loss: 0.7808 - val_accuracy: 0.8929 - lr: 1.0000e-04\n",
      "Epoch 39/100\n",
      "247/247 [==============================] - 8s 33ms/step - loss: 0.9363 - accuracy: 0.9098 - val_loss: 0.6771 - val_accuracy: 0.9196 - lr: 1.0000e-04\n",
      "Epoch 40/100\n",
      "247/247 [==============================] - 8s 32ms/step - loss: 0.9147 - accuracy: 0.9063 - val_loss: 0.6934 - val_accuracy: 0.8965 - lr: 1.0000e-04\n",
      "Epoch 41/100\n",
      "247/247 [==============================] - 8s 33ms/step - loss: 0.8867 - accuracy: 0.9122 - val_loss: 0.7374 - val_accuracy: 0.8668 - lr: 1.0000e-04\n",
      "Epoch 42/100\n",
      "247/247 [==============================] - 8s 32ms/step - loss: 0.8857 - accuracy: 0.9089 - val_loss: 0.7142 - val_accuracy: 0.8817 - lr: 1.0000e-04\n",
      "Epoch 43/100\n",
      "247/247 [==============================] - 8s 33ms/step - loss: 0.8272 - accuracy: 0.9203 - val_loss: 0.5836 - val_accuracy: 0.9339 - lr: 3.1623e-05\n",
      "Epoch 44/100\n",
      "247/247 [==============================] - 8s 32ms/step - loss: 0.8059 - accuracy: 0.9211 - val_loss: 0.5896 - val_accuracy: 0.9267 - lr: 3.1623e-05\n",
      "Epoch 45/100\n",
      "247/247 [==============================] - 8s 33ms/step - loss: 0.7875 - accuracy: 0.9196 - val_loss: 0.5726 - val_accuracy: 0.9293 - lr: 3.1623e-05\n",
      "Epoch 46/100\n",
      "247/247 [==============================] - 8s 32ms/step - loss: 0.7971 - accuracy: 0.9193 - val_loss: 0.5672 - val_accuracy: 0.9283 - lr: 3.1623e-05\n",
      "Epoch 47/100\n",
      "247/247 [==============================] - 8s 33ms/step - loss: 0.7618 - accuracy: 0.9247 - val_loss: 0.5597 - val_accuracy: 0.9308 - lr: 3.1623e-05\n",
      "Epoch 48/100\n",
      "247/247 [==============================] - 8s 33ms/step - loss: 0.7765 - accuracy: 0.9236 - val_loss: 0.5448 - val_accuracy: 0.9380 - lr: 3.1623e-05\n",
      "Epoch 49/100\n",
      "247/247 [==============================] - 8s 32ms/step - loss: 0.7572 - accuracy: 0.9261 - val_loss: 0.5398 - val_accuracy: 0.9339 - lr: 3.1623e-05\n",
      "Epoch 50/100\n",
      "247/247 [==============================] - 8s 32ms/step - loss: 0.7553 - accuracy: 0.9240 - val_loss: 0.5515 - val_accuracy: 0.9247 - lr: 3.1623e-05\n",
      "Epoch 51/100\n",
      "247/247 [==============================] - 8s 32ms/step - loss: 0.7420 - accuracy: 0.9254 - val_loss: 0.5246 - val_accuracy: 0.9390 - lr: 3.1623e-05\n",
      "Epoch 52/100\n",
      "247/247 [==============================] - 8s 32ms/step - loss: 0.7302 - accuracy: 0.9273 - val_loss: 0.5319 - val_accuracy: 0.9308 - lr: 3.1623e-05\n",
      "Epoch 53/100\n",
      "247/247 [==============================] - 8s 32ms/step - loss: 0.7426 - accuracy: 0.9242 - val_loss: 0.5288 - val_accuracy: 0.9324 - lr: 3.1623e-05\n",
      "Epoch 54/100\n",
      "247/247 [==============================] - 8s 32ms/step - loss: 0.7204 - accuracy: 0.9253 - val_loss: 0.5174 - val_accuracy: 0.9324 - lr: 3.1623e-05\n",
      "Epoch 55/100\n",
      "247/247 [==============================] - 8s 33ms/step - loss: 0.7087 - accuracy: 0.9301 - val_loss: 0.5107 - val_accuracy: 0.9365 - lr: 3.1623e-05\n",
      "Epoch 56/100\n",
      "247/247 [==============================] - 8s 33ms/step - loss: 0.7107 - accuracy: 0.9272 - val_loss: 0.5194 - val_accuracy: 0.9288 - lr: 3.1623e-05\n",
      "Epoch 57/100\n",
      "247/247 [==============================] - 8s 32ms/step - loss: 0.7146 - accuracy: 0.9253 - val_loss: 0.5126 - val_accuracy: 0.9298 - lr: 3.1623e-05\n",
      "Epoch 58/100\n",
      "247/247 [==============================] - 8s 33ms/step - loss: 0.7088 - accuracy: 0.9252 - val_loss: 0.5059 - val_accuracy: 0.9319 - lr: 3.1623e-05\n",
      "Epoch 59/100\n",
      "247/247 [==============================] - 9s 34ms/step - loss: 0.7007 - accuracy: 0.9288 - val_loss: 0.5125 - val_accuracy: 0.9267 - lr: 3.1623e-05\n",
      "Epoch 60/100\n",
      "247/247 [==============================] - 9s 35ms/step - loss: 0.7016 - accuracy: 0.9240 - val_loss: 0.5046 - val_accuracy: 0.9344 - lr: 3.1623e-05\n",
      "Epoch 61/100\n",
      "247/247 [==============================] - 8s 34ms/step - loss: 0.7088 - accuracy: 0.9259 - val_loss: 0.4965 - val_accuracy: 0.9334 - lr: 3.1623e-05\n",
      "Epoch 62/100\n",
      "247/247 [==============================] - 8s 34ms/step - loss: 0.7002 - accuracy: 0.9255 - val_loss: 0.4956 - val_accuracy: 0.9344 - lr: 3.1623e-05\n",
      "Epoch 63/100\n",
      "247/247 [==============================] - 8s 34ms/step - loss: 0.6879 - accuracy: 0.9281 - val_loss: 0.4997 - val_accuracy: 0.9319 - lr: 3.1623e-05\n",
      "Epoch 64/100\n",
      "247/247 [==============================] - 8s 34ms/step - loss: 0.6787 - accuracy: 0.9301 - val_loss: 0.4825 - val_accuracy: 0.9344 - lr: 3.1623e-05\n",
      "Epoch 65/100\n",
      "247/247 [==============================] - 8s 33ms/step - loss: 0.6839 - accuracy: 0.9271 - val_loss: 0.4857 - val_accuracy: 0.9355 - lr: 3.1623e-05\n",
      "Epoch 66/100\n",
      "247/247 [==============================] - 8s 33ms/step - loss: 0.6837 - accuracy: 0.9271 - val_loss: 0.4738 - val_accuracy: 0.9395 - lr: 3.1623e-05\n",
      "Epoch 67/100\n",
      "247/247 [==============================] - 8s 34ms/step - loss: 0.6845 - accuracy: 0.9263 - val_loss: 0.4907 - val_accuracy: 0.9365 - lr: 3.1623e-05\n",
      "Epoch 68/100\n",
      "247/247 [==============================] - 8s 34ms/step - loss: 0.6747 - accuracy: 0.9306 - val_loss: 0.4706 - val_accuracy: 0.9339 - lr: 3.1623e-05\n",
      "Epoch 69/100\n",
      "247/247 [==============================] - 8s 33ms/step - loss: 0.6584 - accuracy: 0.9328 - val_loss: 0.4849 - val_accuracy: 0.9355 - lr: 3.1623e-05\n",
      "Epoch 70/100\n",
      "247/247 [==============================] - 8s 34ms/step - loss: 0.6505 - accuracy: 0.9300 - val_loss: 0.4716 - val_accuracy: 0.9360 - lr: 3.1623e-05\n",
      "Epoch 71/100\n",
      "247/247 [==============================] - 10s 39ms/step - loss: 0.6609 - accuracy: 0.9301 - val_loss: 0.4734 - val_accuracy: 0.9308 - lr: 3.1623e-05\n",
      "Epoch 72/100\n",
      "247/247 [==============================] - 10s 39ms/step - loss: 0.6382 - accuracy: 0.9339 - val_loss: 0.4583 - val_accuracy: 0.9395 - lr: 1.0000e-05\n",
      "Epoch 73/100\n",
      "247/247 [==============================] - 8s 33ms/step - loss: 0.6414 - accuracy: 0.9323 - val_loss: 0.4598 - val_accuracy: 0.9395 - lr: 1.0000e-05\n",
      "Epoch 74/100\n",
      "247/247 [==============================] - 8s 33ms/step - loss: 0.6318 - accuracy: 0.9353 - val_loss: 0.4565 - val_accuracy: 0.9390 - lr: 1.0000e-05\n",
      "Epoch 75/100\n",
      "247/247 [==============================] - 8s 33ms/step - loss: 0.6362 - accuracy: 0.9325 - val_loss: 0.4590 - val_accuracy: 0.9401 - lr: 1.0000e-05\n",
      "Epoch 76/100\n",
      "247/247 [==============================] - 8s 33ms/step - loss: 0.6301 - accuracy: 0.9324 - val_loss: 0.4554 - val_accuracy: 0.9385 - lr: 1.0000e-05\n",
      "Epoch 77/100\n",
      "247/247 [==============================] - 8s 33ms/step - loss: 0.6290 - accuracy: 0.9329 - val_loss: 0.4621 - val_accuracy: 0.9385 - lr: 1.0000e-05\n",
      "Epoch 78/100\n",
      "247/247 [==============================] - 8s 33ms/step - loss: 0.6308 - accuracy: 0.9349 - val_loss: 0.4618 - val_accuracy: 0.9355 - lr: 1.0000e-05\n",
      "Epoch 79/100\n",
      "247/247 [==============================] - 8s 32ms/step - loss: 0.6335 - accuracy: 0.9307 - val_loss: 0.4549 - val_accuracy: 0.9339 - lr: 1.0000e-05\n",
      "Epoch 80/100\n",
      "247/247 [==============================] - 8s 32ms/step - loss: 0.6341 - accuracy: 0.9316 - val_loss: 0.4524 - val_accuracy: 0.9380 - lr: 1.0000e-05\n",
      "Epoch 81/100\n",
      "247/247 [==============================] - 8s 32ms/step - loss: 0.6300 - accuracy: 0.9349 - val_loss: 0.4557 - val_accuracy: 0.9375 - lr: 1.0000e-05\n",
      "Epoch 82/100\n",
      "247/247 [==============================] - 8s 32ms/step - loss: 0.6165 - accuracy: 0.9354 - val_loss: 0.4528 - val_accuracy: 0.9401 - lr: 1.0000e-05\n",
      "Epoch 83/100\n",
      "247/247 [==============================] - 8s 32ms/step - loss: 0.6220 - accuracy: 0.9348 - val_loss: 0.4603 - val_accuracy: 0.9360 - lr: 1.0000e-05\n",
      "Epoch 84/100\n",
      "247/247 [==============================] - 8s 33ms/step - loss: 0.6255 - accuracy: 0.9389 - val_loss: 0.4529 - val_accuracy: 0.9355 - lr: 3.1623e-06\n",
      "Epoch 85/100\n",
      "247/247 [==============================] - 8s 32ms/step - loss: 0.6068 - accuracy: 0.9376 - val_loss: 0.4488 - val_accuracy: 0.9370 - lr: 3.1623e-06\n",
      "Epoch 86/100\n",
      "247/247 [==============================] - 8s 33ms/step - loss: 0.6097 - accuracy: 0.9348 - val_loss: 0.4503 - val_accuracy: 0.9360 - lr: 3.1623e-06\n",
      "Epoch 87/100\n",
      "247/247 [==============================] - 8s 32ms/step - loss: 0.6026 - accuracy: 0.9362 - val_loss: 0.4474 - val_accuracy: 0.9365 - lr: 3.1623e-06\n",
      "Epoch 88/100\n",
      "247/247 [==============================] - 8s 33ms/step - loss: 0.5981 - accuracy: 0.9436 - val_loss: 0.4510 - val_accuracy: 0.9355 - lr: 3.1623e-06\n",
      "Epoch 89/100\n",
      "247/247 [==============================] - 8s 32ms/step - loss: 0.6112 - accuracy: 0.9380 - val_loss: 0.4504 - val_accuracy: 0.9360 - lr: 3.1623e-06\n",
      "Epoch 90/100\n",
      "247/247 [==============================] - 8s 33ms/step - loss: 0.6025 - accuracy: 0.9404 - val_loss: 0.4504 - val_accuracy: 0.9370 - lr: 3.1623e-06\n",
      "Epoch 91/100\n",
      "247/247 [==============================] - 8s 32ms/step - loss: 0.6168 - accuracy: 0.9358 - val_loss: 0.4492 - val_accuracy: 0.9375 - lr: 1.0000e-06\n",
      "Epoch 92/100\n",
      "247/247 [==============================] - 9s 35ms/step - loss: 0.6145 - accuracy: 0.9353 - val_loss: 0.4441 - val_accuracy: 0.9390 - lr: 1.0000e-06\n",
      "Epoch 93/100\n",
      "247/247 [==============================] - 9s 35ms/step - loss: 0.6072 - accuracy: 0.9348 - val_loss: 0.4473 - val_accuracy: 0.9385 - lr: 1.0000e-06\n",
      "Epoch 94/100\n",
      "247/247 [==============================] - 9s 35ms/step - loss: 0.6106 - accuracy: 0.9365 - val_loss: 0.4461 - val_accuracy: 0.9385 - lr: 1.0000e-06\n",
      "Epoch 95/100\n",
      "247/247 [==============================] - 9s 36ms/step - loss: 0.6132 - accuracy: 0.9382 - val_loss: 0.4458 - val_accuracy: 0.9380 - lr: 1.0000e-06\n",
      "Epoch 96/100\n",
      "247/247 [==============================] - 8s 34ms/step - loss: 0.6024 - accuracy: 0.9378 - val_loss: 0.4472 - val_accuracy: 0.9380 - lr: 3.1623e-07\n",
      "Epoch 97/100\n",
      "247/247 [==============================] - 8s 33ms/step - loss: 0.6003 - accuracy: 0.9377 - val_loss: 0.4463 - val_accuracy: 0.9380 - lr: 3.1623e-07\n",
      "Epoch 98/100\n",
      "247/247 [==============================] - 9s 35ms/step - loss: 0.6132 - accuracy: 0.9334 - val_loss: 0.4436 - val_accuracy: 0.9395 - lr: 3.1623e-07\n",
      "Epoch 99/100\n",
      "247/247 [==============================] - 8s 34ms/step - loss: 0.5940 - accuracy: 0.9429 - val_loss: 0.4462 - val_accuracy: 0.9385 - lr: 3.1623e-07\n",
      "Epoch 100/100\n",
      "247/247 [==============================] - 9s 35ms/step - loss: 0.5885 - accuracy: 0.9417 - val_loss: 0.4411 - val_accuracy: 0.9395 - lr: 3.1623e-07\n"
     ]
    }
   ],
   "source": [
    "epochs = 100\n",
    "lr_reducer = tf.keras.callbacks.ReduceLROnPlateau(monitor='val_loss', factor=np.sqrt(0.1), cooldown=0, patience=3, min_lr=0.5e-15)\n",
    "history_binary = model_binary.fit(\n",
    "    train_isCancerous_generator,\n",
    "    steps_per_epoch=len(train_data) // batch_size,\n",
    "    epochs=epochs,\n",
    "    validation_data=validation_isCancerous_generator,\n",
    "    validation_steps=len(test_data) // batch_size,\n",
    "    class_weight=class_weight_dict_isCancerous\n",
    "    , callbacks=[lr_reducer]\n",
    ")"
   ],
   "metadata": {
    "collapsed": false,
    "ExecuteTime": {
     "start_time": "2023-04-27T16:59:42.748565Z",
     "end_time": "2023-04-27T17:13:28.882547Z"
    }
   }
  },
  {
   "cell_type": "code",
   "execution_count": 12,
   "outputs": [
    {
     "data": {
      "text/plain": "<Figure size 432x288 with 1 Axes>",
      "image/png": "[encoded data removed]"
     },
     "metadata": {
      "needs_background": "light"
     },
     "output_type": "display_data"
    }
   ],
   "source": [
    "train_loss = history_binary.history['loss']\n",
    "val_loss = history_binary.history['val_loss']\n",
    "\n",
    "epochs_range = range(1, epochs + 1)\n",
    "\n",
    "plt.plot(epochs_range, train_loss, label='Training Loss')\n",
    "plt.plot(epochs_range, val_loss, label='Validation Loss')\n",
    "\n",
    "plt.legend()\n",
    "plt.title('Training and Validation Loss in binary')\n",
    "plt.xlabel('Epoch')\n",
    "plt.ylabel('Loss')\n",
    "\n",
    "plt.show()"
   ],
   "metadata": {
    "collapsed": false,
    "ExecuteTime": {
     "start_time": "2023-04-27T17:13:28.882106Z",
     "end_time": "2023-04-27T17:13:28.948008Z"
    }
   }
  },
  {
   "cell_type": "code",
   "execution_count": 13,
   "outputs": [
    {
     "data": {
      "text/plain": "<Figure size 432x288 with 1 Axes>",
      "image/png": "[encoded data removed]"
     },
     "metadata": {
      "needs_background": "light"
     },
     "output_type": "display_data"
    }
   ],
   "source": [
    "train_accuracy = history_binary.history['accuracy']\n",
    "val_accuracy = history_binary.history['val_accuracy']\n",
    "\n",
    "epochs_range = range(1, epochs + 1)\n",
    "\n",
    "plt.plot(epochs_range, train_accuracy, label='Training Accuracy')\n",
    "plt.plot(epochs_range, val_accuracy, label='Validation Accuracy')\n",
    "\n",
    "plt.legend()\n",
    "plt.title('Training and Validation Accuracy in binary')\n",
    "plt.xlabel('Epoch')\n",
    "plt.ylabel('Accuracy')\n",
    "\n",
    "plt.show()"
   ],
   "metadata": {
    "collapsed": false,
    "ExecuteTime": {
     "start_time": "2023-04-27T17:13:28.964338Z",
     "end_time": "2023-04-27T17:13:29.014897Z"
    }
   }
  },
  {
   "cell_type": "code",
   "execution_count": 14,
   "outputs": [
    {
     "name": "stdout",
     "output_type": "stream",
     "text": [
      "Epoch 1/100\n",
      "247/247 [==============================] - 11s 40ms/step - loss: 19.3581 - accuracy: 0.5462 - val_loss: 16.1948 - val_accuracy: 0.4544 - lr: 1.0000e-04\n",
      "Epoch 2/100\n",
      "247/247 [==============================] - 10s 39ms/step - loss: 18.2842 - accuracy: 0.6185 - val_loss: 14.9718 - val_accuracy: 0.6173 - lr: 1.0000e-04\n",
      "Epoch 3/100\n",
      "247/247 [==============================] - 9s 38ms/step - loss: 17.7683 - accuracy: 0.6403 - val_loss: 14.3922 - val_accuracy: 0.6747 - lr: 1.0000e-04\n",
      "Epoch 4/100\n",
      "247/247 [==============================] - 9s 38ms/step - loss: 17.2334 - accuracy: 0.6574 - val_loss: 14.0785 - val_accuracy: 0.6706 - lr: 1.0000e-04\n",
      "Epoch 5/100\n",
      "247/247 [==============================] - 9s 38ms/step - loss: 16.7433 - accuracy: 0.6684 - val_loss: 14.4104 - val_accuracy: 0.4708 - lr: 1.0000e-04\n",
      "Epoch 6/100\n",
      "247/247 [==============================] - 9s 38ms/step - loss: 16.3923 - accuracy: 0.6754 - val_loss: 13.5944 - val_accuracy: 0.6368 - lr: 1.0000e-04\n",
      "Epoch 7/100\n",
      "247/247 [==============================] - 10s 39ms/step - loss: 15.9714 - accuracy: 0.6802 - val_loss: 13.1850 - val_accuracy: 0.6522 - lr: 1.0000e-04\n",
      "Epoch 8/100\n",
      "247/247 [==============================] - 10s 39ms/step - loss: 15.5604 - accuracy: 0.6967 - val_loss: 12.7841 - val_accuracy: 0.6849 - lr: 1.0000e-04\n",
      "Epoch 9/100\n",
      "247/247 [==============================] - 10s 39ms/step - loss: 15.1770 - accuracy: 0.6951 - val_loss: 12.3902 - val_accuracy: 0.7157 - lr: 1.0000e-04\n",
      "Epoch 10/100\n",
      "247/247 [==============================] - 9s 38ms/step - loss: 14.7751 - accuracy: 0.7009 - val_loss: 12.1449 - val_accuracy: 0.6552 - lr: 1.0000e-04\n",
      "Epoch 11/100\n",
      "247/247 [==============================] - 10s 39ms/step - loss: 14.3246 - accuracy: 0.7119 - val_loss: 11.9410 - val_accuracy: 0.5897 - lr: 1.0000e-04\n",
      "Epoch 12/100\n",
      "247/247 [==============================] - 10s 39ms/step - loss: 13.8902 - accuracy: 0.7062 - val_loss: 11.3035 - val_accuracy: 0.7065 - lr: 1.0000e-04\n",
      "Epoch 13/100\n",
      "247/247 [==============================] - 9s 38ms/step - loss: 13.5342 - accuracy: 0.7144 - val_loss: 11.0876 - val_accuracy: 0.6629 - lr: 1.0000e-04\n",
      "Epoch 14/100\n",
      "247/247 [==============================] - 10s 39ms/step - loss: 13.1743 - accuracy: 0.7122 - val_loss: 10.6094 - val_accuracy: 0.6819 - lr: 1.0000e-04\n",
      "Epoch 15/100\n",
      "247/247 [==============================] - 9s 38ms/step - loss: 12.7948 - accuracy: 0.7132 - val_loss: 10.1973 - val_accuracy: 0.7326 - lr: 1.0000e-04\n",
      "Epoch 16/100\n",
      "247/247 [==============================] - 10s 39ms/step - loss: 12.2986 - accuracy: 0.7302 - val_loss: 9.8067 - val_accuracy: 0.7403 - lr: 1.0000e-04\n",
      "Epoch 17/100\n",
      "247/247 [==============================] - 9s 38ms/step - loss: 11.9615 - accuracy: 0.7275 - val_loss: 9.5598 - val_accuracy: 0.7059 - lr: 1.0000e-04\n",
      "Epoch 18/100\n",
      "247/247 [==============================] - 9s 37ms/step - loss: 11.5330 - accuracy: 0.7360 - val_loss: 9.1068 - val_accuracy: 0.7157 - lr: 1.0000e-04\n",
      "Epoch 19/100\n",
      "247/247 [==============================] - 9s 37ms/step - loss: 11.1692 - accuracy: 0.7345 - val_loss: 8.7427 - val_accuracy: 0.7223 - lr: 1.0000e-04\n",
      "Epoch 20/100\n",
      "247/247 [==============================] - 9s 36ms/step - loss: 10.8441 - accuracy: 0.7341 - val_loss: 8.4339 - val_accuracy: 0.7080 - lr: 1.0000e-04\n",
      "Epoch 21/100\n",
      "247/247 [==============================] - 9s 36ms/step - loss: 10.4141 - accuracy: 0.7430 - val_loss: 8.4544 - val_accuracy: 0.6245 - lr: 1.0000e-04\n",
      "Epoch 22/100\n",
      "247/247 [==============================] - 9s 36ms/step - loss: 10.1169 - accuracy: 0.7405 - val_loss: 7.6436 - val_accuracy: 0.7725 - lr: 1.0000e-04\n",
      "Epoch 23/100\n",
      "247/247 [==============================] - 9s 38ms/step - loss: 9.7058 - accuracy: 0.7425 - val_loss: 7.5029 - val_accuracy: 0.7054 - lr: 1.0000e-04\n",
      "Epoch 24/100\n",
      "247/247 [==============================] - 9s 38ms/step - loss: 9.3983 - accuracy: 0.7510 - val_loss: 7.0326 - val_accuracy: 0.7643 - lr: 1.0000e-04\n",
      "Epoch 25/100\n",
      "247/247 [==============================] - 10s 40ms/step - loss: 9.0521 - accuracy: 0.7491 - val_loss: 6.7388 - val_accuracy: 0.7597 - lr: 1.0000e-04\n",
      "Epoch 26/100\n",
      "247/247 [==============================] - 10s 39ms/step - loss: 8.7206 - accuracy: 0.7549 - val_loss: 6.4428 - val_accuracy: 0.7746 - lr: 1.0000e-04\n",
      "Epoch 27/100\n",
      "247/247 [==============================] - 10s 39ms/step - loss: 8.4849 - accuracy: 0.7500 - val_loss: 6.1742 - val_accuracy: 0.7567 - lr: 1.0000e-04\n",
      "Epoch 28/100\n",
      "247/247 [==============================] - 9s 38ms/step - loss: 8.1813 - accuracy: 0.7563 - val_loss: 6.0664 - val_accuracy: 0.6855 - lr: 1.0000e-04\n",
      "Epoch 29/100\n",
      "247/247 [==============================] - 9s 38ms/step - loss: 7.9206 - accuracy: 0.7563 - val_loss: 5.7744 - val_accuracy: 0.7111 - lr: 1.0000e-04\n",
      "Epoch 30/100\n",
      "247/247 [==============================] - 9s 37ms/step - loss: 7.6228 - accuracy: 0.7586 - val_loss: 5.4552 - val_accuracy: 0.7705 - lr: 1.0000e-04\n",
      "Epoch 31/100\n",
      "247/247 [==============================] - 9s 38ms/step - loss: 7.4116 - accuracy: 0.7560 - val_loss: 5.3053 - val_accuracy: 0.7249 - lr: 1.0000e-04\n",
      "Epoch 32/100\n",
      "247/247 [==============================] - 10s 39ms/step - loss: 7.1910 - accuracy: 0.7618 - val_loss: 5.2135 - val_accuracy: 0.6870 - lr: 1.0000e-04\n",
      "Epoch 33/100\n",
      "247/247 [==============================] - 9s 38ms/step - loss: 6.9185 - accuracy: 0.7680 - val_loss: 4.8116 - val_accuracy: 0.7592 - lr: 1.0000e-04\n",
      "Epoch 34/100\n",
      "247/247 [==============================] - 10s 39ms/step - loss: 6.7524 - accuracy: 0.7719 - val_loss: 4.5760 - val_accuracy: 0.7889 - lr: 1.0000e-04\n",
      "Epoch 35/100\n",
      "247/247 [==============================] - 10s 39ms/step - loss: 6.4954 - accuracy: 0.7790 - val_loss: 4.4526 - val_accuracy: 0.7362 - lr: 1.0000e-04\n",
      "Epoch 36/100\n",
      "247/247 [==============================] - 9s 38ms/step - loss: 6.3539 - accuracy: 0.7735 - val_loss: 4.3427 - val_accuracy: 0.7372 - lr: 1.0000e-04\n",
      "Epoch 37/100\n",
      "247/247 [==============================] - 10s 40ms/step - loss: 6.1904 - accuracy: 0.7737 - val_loss: 4.3154 - val_accuracy: 0.6685 - lr: 1.0000e-04\n",
      "Epoch 38/100\n",
      "247/247 [==============================] - 10s 38ms/step - loss: 6.0149 - accuracy: 0.7695 - val_loss: 4.0752 - val_accuracy: 0.7367 - lr: 1.0000e-04\n",
      "Epoch 39/100\n",
      "247/247 [==============================] - 10s 39ms/step - loss: 5.8539 - accuracy: 0.7770 - val_loss: 3.9316 - val_accuracy: 0.7234 - lr: 1.0000e-04\n",
      "Epoch 40/100\n",
      "247/247 [==============================] - 10s 39ms/step - loss: 5.6589 - accuracy: 0.7818 - val_loss: 3.7109 - val_accuracy: 0.7602 - lr: 1.0000e-04\n",
      "Epoch 41/100\n",
      "247/247 [==============================] - 9s 37ms/step - loss: 5.5550 - accuracy: 0.7742 - val_loss: 3.6472 - val_accuracy: 0.7244 - lr: 1.0000e-04\n",
      "Epoch 42/100\n",
      "247/247 [==============================] - 9s 37ms/step - loss: 5.3676 - accuracy: 0.7788 - val_loss: 3.5439 - val_accuracy: 0.7198 - lr: 1.0000e-04\n",
      "Epoch 43/100\n",
      "247/247 [==============================] - 9s 37ms/step - loss: 5.3017 - accuracy: 0.7768 - val_loss: 3.2814 - val_accuracy: 0.7859 - lr: 1.0000e-04\n",
      "Epoch 44/100\n",
      "247/247 [==============================] - 9s 37ms/step - loss: 5.1392 - accuracy: 0.7836 - val_loss: 3.2909 - val_accuracy: 0.7249 - lr: 1.0000e-04\n",
      "Epoch 45/100\n",
      "247/247 [==============================] - 9s 37ms/step - loss: 5.0251 - accuracy: 0.7830 - val_loss: 3.1597 - val_accuracy: 0.7459 - lr: 1.0000e-04\n",
      "Epoch 46/100\n",
      "247/247 [==============================] - 9s 37ms/step - loss: 4.9189 - accuracy: 0.7831 - val_loss: 3.1147 - val_accuracy: 0.7520 - lr: 1.0000e-04\n",
      "Epoch 47/100\n",
      "247/247 [==============================] - 9s 37ms/step - loss: 4.8123 - accuracy: 0.7823 - val_loss: 3.1657 - val_accuracy: 0.6875 - lr: 1.0000e-04\n",
      "Epoch 48/100\n",
      "247/247 [==============================] - 9s 38ms/step - loss: 4.7188 - accuracy: 0.7872 - val_loss: 2.8367 - val_accuracy: 0.7864 - lr: 1.0000e-04\n",
      "Epoch 49/100\n",
      "247/247 [==============================] - 9s 38ms/step - loss: 4.6677 - accuracy: 0.7888 - val_loss: 2.6984 - val_accuracy: 0.8043 - lr: 1.0000e-04\n",
      "Epoch 50/100\n",
      "247/247 [==============================] - 9s 38ms/step - loss: 4.5524 - accuracy: 0.7882 - val_loss: 2.8264 - val_accuracy: 0.7188 - lr: 1.0000e-04\n",
      "Epoch 51/100\n",
      "247/247 [==============================] - 9s 38ms/step - loss: 4.5239 - accuracy: 0.7830 - val_loss: 2.5633 - val_accuracy: 0.7982 - lr: 1.0000e-04\n",
      "Epoch 52/100\n",
      "247/247 [==============================] - 9s 37ms/step - loss: 4.4361 - accuracy: 0.7939 - val_loss: 2.5957 - val_accuracy: 0.7582 - lr: 1.0000e-04\n",
      "Epoch 53/100\n",
      "247/247 [==============================] - 9s 37ms/step - loss: 4.3368 - accuracy: 0.7916 - val_loss: 2.7855 - val_accuracy: 0.6475 - lr: 1.0000e-04\n",
      "Epoch 54/100\n",
      "247/247 [==============================] - 9s 38ms/step - loss: 4.2979 - accuracy: 0.7893 - val_loss: 2.8622 - val_accuracy: 0.5902 - lr: 1.0000e-04\n",
      "Epoch 55/100\n",
      "247/247 [==============================] - 9s 38ms/step - loss: 4.1517 - accuracy: 0.7978 - val_loss: 2.4201 - val_accuracy: 0.7792 - lr: 3.1623e-05\n",
      "Epoch 56/100\n",
      "247/247 [==============================] - 9s 37ms/step - loss: 4.1184 - accuracy: 0.8010 - val_loss: 2.3387 - val_accuracy: 0.8033 - lr: 3.1623e-05\n",
      "Epoch 57/100\n",
      "247/247 [==============================] - 9s 37ms/step - loss: 4.0675 - accuracy: 0.8048 - val_loss: 2.2929 - val_accuracy: 0.8099 - lr: 3.1623e-05\n",
      "Epoch 58/100\n",
      "247/247 [==============================] - 9s 38ms/step - loss: 4.0049 - accuracy: 0.8083 - val_loss: 2.2911 - val_accuracy: 0.8038 - lr: 3.1623e-05\n",
      "Epoch 59/100\n",
      "247/247 [==============================] - 9s 37ms/step - loss: 3.9557 - accuracy: 0.8073 - val_loss: 2.2491 - val_accuracy: 0.8120 - lr: 3.1623e-05\n",
      "Epoch 60/100\n",
      "247/247 [==============================] - 9s 37ms/step - loss: 3.9545 - accuracy: 0.8072 - val_loss: 2.2265 - val_accuracy: 0.8130 - lr: 3.1623e-05\n",
      "Epoch 61/100\n",
      "247/247 [==============================] - 9s 37ms/step - loss: 3.9416 - accuracy: 0.8043 - val_loss: 2.2258 - val_accuracy: 0.8028 - lr: 3.1623e-05\n",
      "Epoch 62/100\n",
      "247/247 [==============================] - 9s 36ms/step - loss: 3.8819 - accuracy: 0.8073 - val_loss: 2.2027 - val_accuracy: 0.8110 - lr: 3.1623e-05\n",
      "Epoch 63/100\n",
      "247/247 [==============================] - 9s 36ms/step - loss: 3.8710 - accuracy: 0.8075 - val_loss: 2.2200 - val_accuracy: 0.7853 - lr: 3.1623e-05\n",
      "Epoch 64/100\n",
      "247/247 [==============================] - 9s 38ms/step - loss: 3.8237 - accuracy: 0.8057 - val_loss: 2.1696 - val_accuracy: 0.8053 - lr: 3.1623e-05\n",
      "Epoch 65/100\n",
      "247/247 [==============================] - 9s 38ms/step - loss: 3.8294 - accuracy: 0.8086 - val_loss: 2.1296 - val_accuracy: 0.8094 - lr: 3.1623e-05\n",
      "Epoch 66/100\n",
      "247/247 [==============================] - 9s 37ms/step - loss: 3.7567 - accuracy: 0.8179 - val_loss: 2.1474 - val_accuracy: 0.8053 - lr: 3.1623e-05\n",
      "Epoch 67/100\n",
      "247/247 [==============================] - 9s 37ms/step - loss: 3.8006 - accuracy: 0.8132 - val_loss: 2.1512 - val_accuracy: 0.7915 - lr: 3.1623e-05\n",
      "Epoch 68/100\n",
      "247/247 [==============================] - 9s 38ms/step - loss: 3.7374 - accuracy: 0.8137 - val_loss: 2.1073 - val_accuracy: 0.8012 - lr: 3.1623e-05\n",
      "Epoch 69/100\n",
      "247/247 [==============================] - 9s 36ms/step - loss: 3.7379 - accuracy: 0.8139 - val_loss: 2.0609 - val_accuracy: 0.8161 - lr: 3.1623e-05\n",
      "Epoch 70/100\n",
      "247/247 [==============================] - 9s 37ms/step - loss: 3.7565 - accuracy: 0.8089 - val_loss: 2.0713 - val_accuracy: 0.8079 - lr: 3.1623e-05\n",
      "Epoch 71/100\n",
      "247/247 [==============================] - 9s 36ms/step - loss: 3.7033 - accuracy: 0.8166 - val_loss: 2.0357 - val_accuracy: 0.8135 - lr: 3.1623e-05\n",
      "Epoch 72/100\n",
      "247/247 [==============================] - 9s 37ms/step - loss: 3.6599 - accuracy: 0.8163 - val_loss: 2.0103 - val_accuracy: 0.8222 - lr: 3.1623e-05\n",
      "Epoch 73/100\n",
      "247/247 [==============================] - 9s 37ms/step - loss: 3.6382 - accuracy: 0.8116 - val_loss: 1.9933 - val_accuracy: 0.8186 - lr: 3.1623e-05\n",
      "Epoch 74/100\n",
      "247/247 [==============================] - 9s 37ms/step - loss: 3.6140 - accuracy: 0.8157 - val_loss: 2.0029 - val_accuracy: 0.8048 - lr: 3.1623e-05\n",
      "Epoch 75/100\n",
      "247/247 [==============================] - 9s 37ms/step - loss: 3.5959 - accuracy: 0.8194 - val_loss: 2.0290 - val_accuracy: 0.7935 - lr: 3.1623e-05\n",
      "Epoch 76/100\n",
      "247/247 [==============================] - 9s 38ms/step - loss: 3.6001 - accuracy: 0.8149 - val_loss: 2.0636 - val_accuracy: 0.7792 - lr: 3.1623e-05\n",
      "Epoch 77/100\n",
      "247/247 [==============================] - 9s 38ms/step - loss: 3.5933 - accuracy: 0.8177 - val_loss: 1.9601 - val_accuracy: 0.8135 - lr: 1.0000e-05\n",
      "Epoch 78/100\n",
      "247/247 [==============================] - 10s 38ms/step - loss: 3.5001 - accuracy: 0.8265 - val_loss: 1.9613 - val_accuracy: 0.8089 - lr: 1.0000e-05\n",
      "Epoch 79/100\n",
      "247/247 [==============================] - 9s 38ms/step - loss: 3.5358 - accuracy: 0.8219 - val_loss: 1.9574 - val_accuracy: 0.8089 - lr: 1.0000e-05\n",
      "Epoch 80/100\n",
      "247/247 [==============================] - 9s 38ms/step - loss: 3.5145 - accuracy: 0.8215 - val_loss: 1.9484 - val_accuracy: 0.8099 - lr: 1.0000e-05\n",
      "Epoch 81/100\n",
      "247/247 [==============================] - 10s 39ms/step - loss: 3.5200 - accuracy: 0.8181 - val_loss: 1.9437 - val_accuracy: 0.8069 - lr: 1.0000e-05\n",
      "Epoch 82/100\n",
      "247/247 [==============================] - 9s 38ms/step - loss: 3.5203 - accuracy: 0.8248 - val_loss: 1.9296 - val_accuracy: 0.8161 - lr: 1.0000e-05\n",
      "Epoch 83/100\n",
      "247/247 [==============================] - 9s 38ms/step - loss: 3.5075 - accuracy: 0.8208 - val_loss: 1.9416 - val_accuracy: 0.8125 - lr: 1.0000e-05\n",
      "Epoch 84/100\n",
      "247/247 [==============================] - 9s 37ms/step - loss: 3.5333 - accuracy: 0.8189 - val_loss: 1.9328 - val_accuracy: 0.8145 - lr: 1.0000e-05\n",
      "Epoch 85/100\n",
      "247/247 [==============================] - 9s 38ms/step - loss: 3.4634 - accuracy: 0.8233 - val_loss: 1.9177 - val_accuracy: 0.8140 - lr: 1.0000e-05\n",
      "Epoch 86/100\n",
      "247/247 [==============================] - 10s 39ms/step - loss: 3.4461 - accuracy: 0.8251 - val_loss: 1.9191 - val_accuracy: 0.8140 - lr: 1.0000e-05\n",
      "Epoch 87/100\n",
      "247/247 [==============================] - 9s 38ms/step - loss: 3.4737 - accuracy: 0.8199 - val_loss: 1.9163 - val_accuracy: 0.8135 - lr: 1.0000e-05\n",
      "Epoch 88/100\n",
      "247/247 [==============================] - 9s 38ms/step - loss: 3.4608 - accuracy: 0.8204 - val_loss: 1.9037 - val_accuracy: 0.8166 - lr: 1.0000e-05\n",
      "Epoch 89/100\n",
      "247/247 [==============================] - 9s 37ms/step - loss: 3.4362 - accuracy: 0.8262 - val_loss: 1.9114 - val_accuracy: 0.8115 - lr: 1.0000e-05\n",
      "Epoch 90/100\n",
      "247/247 [==============================] - 9s 38ms/step - loss: 3.4469 - accuracy: 0.8242 - val_loss: 1.9032 - val_accuracy: 0.8140 - lr: 1.0000e-05\n",
      "Epoch 91/100\n",
      "247/247 [==============================] - 9s 37ms/step - loss: 3.4489 - accuracy: 0.8241 - val_loss: 1.8836 - val_accuracy: 0.8248 - lr: 1.0000e-05\n",
      "Epoch 92/100\n",
      "247/247 [==============================] - 10s 38ms/step - loss: 3.4096 - accuracy: 0.8275 - val_loss: 1.9003 - val_accuracy: 0.8145 - lr: 1.0000e-05\n",
      "Epoch 93/100\n",
      "247/247 [==============================] - 9s 38ms/step - loss: 3.3956 - accuracy: 0.8262 - val_loss: 1.8946 - val_accuracy: 0.8166 - lr: 1.0000e-05\n",
      "Epoch 94/100\n",
      "247/247 [==============================] - 9s 38ms/step - loss: 3.3995 - accuracy: 0.8262 - val_loss: 1.8948 - val_accuracy: 0.8181 - lr: 1.0000e-05\n",
      "Epoch 95/100\n",
      "247/247 [==============================] - 10s 39ms/step - loss: 3.3933 - accuracy: 0.8293 - val_loss: 1.8789 - val_accuracy: 0.8166 - lr: 3.1623e-06\n",
      "Epoch 96/100\n",
      "247/247 [==============================] - 10s 39ms/step - loss: 3.3788 - accuracy: 0.8297 - val_loss: 1.8707 - val_accuracy: 0.8207 - lr: 3.1623e-06\n",
      "Epoch 97/100\n",
      "247/247 [==============================] - 10s 39ms/step - loss: 3.3901 - accuracy: 0.8251 - val_loss: 1.8746 - val_accuracy: 0.8176 - lr: 3.1623e-06\n",
      "Epoch 98/100\n",
      "247/247 [==============================] - 10s 39ms/step - loss: 3.3853 - accuracy: 0.8289 - val_loss: 1.8745 - val_accuracy: 0.8207 - lr: 3.1623e-06\n",
      "Epoch 99/100\n",
      "247/247 [==============================] - 10s 40ms/step - loss: 3.4067 - accuracy: 0.8228 - val_loss: 1.8705 - val_accuracy: 0.8197 - lr: 3.1623e-06\n",
      "Epoch 100/100\n",
      "247/247 [==============================] - 9s 37ms/step - loss: 3.3632 - accuracy: 0.8275 - val_loss: 1.8697 - val_accuracy: 0.8192 - lr: 3.1623e-06\n"
     ]
    }
   ],
   "source": [
    "epochs = 50\n",
    "history_categorical = model_categorical.fit(\n",
    "    train_cellType_generator,\n",
    "    steps_per_epoch=len(train_data) // batch_size,\n",
    "    epochs=epochs,\n",
    "    validation_data=validation_cellType_generator,\n",
    "    validation_steps=len(test_data) // batch_size,\n",
    "    class_weight=class_weight_dict_cellType\n",
    "    , callbacks=[lr_reducer]\n",
    ")"
   ],
   "metadata": {
    "collapsed": false,
    "ExecuteTime": {
     "start_time": "2023-04-27T17:13:29.018341Z",
     "end_time": "2023-04-27T17:29:06.451326Z"
    }
   }
  },
  {
   "cell_type": "code",
   "execution_count": 15,
   "outputs": [
    {
     "data": {
      "text/plain": "<Figure size 432x288 with 1 Axes>",
      "image/png": "[encoded data removed]"
     },
     "metadata": {
      "needs_background": "light"
     },
     "output_type": "display_data"
    }
   ],
   "source": [
    "train_loss = history_categorical.history['loss']\n",
    "val_loss = history_categorical.history['val_loss']\n",
    "\n",
    "epochs_range = range(1, epochs + 1)\n",
    "\n",
    "plt.plot(epochs_range, train_loss, label='Training Loss')\n",
    "plt.plot(epochs_range, val_loss, label='Validation Loss')\n",
    "\n",
    "plt.legend()\n",
    "plt.title('Training and Validation Loss in multi-category')\n",
    "plt.xlabel('Epoch')\n",
    "plt.ylabel('Loss')\n",
    "\n",
    "plt.show()"
   ],
   "metadata": {
    "collapsed": false,
    "ExecuteTime": {
     "start_time": "2023-04-27T17:29:06.460023Z",
     "end_time": "2023-04-27T17:29:06.517921Z"
    }
   }
  },
  {
   "cell_type": "code",
   "execution_count": 16,
   "outputs": [
    {
     "data": {
      "text/plain": "<Figure size 432x288 with 1 Axes>",
      "image/png": "[encoded data removed]"
     },
     "metadata": {
      "needs_background": "light"
     },
     "output_type": "display_data"
    }
   ],
   "source": [
    "train_accuracy = history_categorical.history['accuracy']\n",
    "val_accuracy = history_categorical.history['val_accuracy']\n",
    "\n",
    "epochs_range = range(1, epochs + 1)\n",
    "\n",
    "plt.plot(epochs_range, train_accuracy, label='Training Accuracy')\n",
    "plt.plot(epochs_range, val_accuracy, label='Validation Accuracy')\n",
    "\n",
    "plt.legend()\n",
    "plt.title('Training and Validation Accuracy in multi-category')\n",
    "plt.xlabel('Epoch')\n",
    "plt.ylabel('Accuracy')\n",
    "\n",
    "plt.show()"
   ],
   "metadata": {
    "collapsed": false,
    "ExecuteTime": {
     "start_time": "2023-04-27T17:29:06.534337Z",
     "end_time": "2023-04-27T17:29:06.588442Z"
    }
   }
  },
  {
   "cell_type": "code",
   "execution_count": 19,
   "outputs": [
    {
     "name": "stderr",
     "output_type": "stream",
     "text": [
      "WARNING:absl:Found untraced functions such as _jit_compiled_convolution_op, _jit_compiled_convolution_op, _jit_compiled_convolution_op, _jit_compiled_convolution_op while saving (showing 4 of 4). These functions will not be directly callable after loading.\n"
     ]
    },
    {
     "name": "stdout",
     "output_type": "stream",
     "text": [
      "INFO:tensorflow:Assets written to: saved_model/model_categorical/assets\n"
     ]
    },
    {
     "name": "stderr",
     "output_type": "stream",
     "text": [
      "INFO:tensorflow:Assets written to: saved_model/model_categorical/assets\n"
     ]
    }
   ],
   "source": [
    "model_categorical.save('saved_model/model_categorical')"
   ],
   "metadata": {
    "collapsed": false,
    "ExecuteTime": {
     "start_time": "2023-04-27T17:31:24.689438Z",
     "end_time": "2023-04-27T17:31:25.883402Z"
    }
   }
  },
  {
   "cell_type": "markdown",
   "source": [
    "# DI/HD 使用data_labels_extraData对多分类的模型进行增强\n",
    "通过半监督学习。我们将采用UDA。\n",
    "首先先获取额外的数据集并且进行相关处理。\n",
    "我们从数据集可以观察到，没有癌症在多分类中为2。所以我们可以将不是癌症的样本之间指定其多分类的类别为2."
   ],
   "metadata": {
    "collapsed": false
   }
  },
  {
   "cell_type": "code",
   "execution_count": 17,
   "outputs": [],
   "source": [
    "model_categorical = tf.keras.models.load_model('saved_model/model_categorical')\n",
    "data_extra = pd.read_csv('./Image_classification_data/data_labels_extraData.csv')\n",
    "data_extra['isCancerous'] = data_extra['isCancerous'].astype(str)\n",
    "data_extra['cellType'] = np.nan\n",
    "data_extra.loc[data_extra['isCancerous'] == '1', 'cellType'] = 2\n",
    "data_extra_unlabeled = data_extra[data_extra['cellType'].isna()]\n",
    "data_extra_labeled = data_extra[data_extra['cellType'] == 2]\n",
    "train_data = pd.concat([train_data, data_extra_labeled], axis=0).reset_index(drop=True)"
   ],
   "metadata": {
    "collapsed": false,
    "ExecuteTime": {
     "start_time": "2023-04-27T17:29:06.589270Z",
     "end_time": "2023-04-27T17:29:06.600317Z"
    }
   }
  },
  {
   "cell_type": "markdown",
   "source": [
    "重新生成新的train_generator"
   ],
   "metadata": {
    "collapsed": false
   }
  },
  {
   "cell_type": "code",
   "execution_count": 18,
   "outputs": [
    {
     "ename": "TypeError",
     "evalue": "If class_mode=\"categorical\", y_col=\"cellType\" column values must be type string, list or tuple.",
     "output_type": "error",
     "traceback": [
      "\u001B[0;31m---------------------------------------------------------------------------\u001B[0m",
      "\u001B[0;31mTypeError\u001B[0m                                 Traceback (most recent call last)",
      "Input \u001B[0;32mIn [18]\u001B[0m, in \u001B[0;36m<cell line: 1>\u001B[0;34m()\u001B[0m\n\u001B[0;32m----> 1\u001B[0m train_generator \u001B[38;5;241m=\u001B[39m \u001B[43mtrain_datagen\u001B[49m\u001B[38;5;241;43m.\u001B[39;49m\u001B[43mflow_from_dataframe\u001B[49m\u001B[43m(\u001B[49m\n\u001B[1;32m      2\u001B[0m \u001B[43m    \u001B[49m\u001B[43mtrain_data\u001B[49m\u001B[43m,\u001B[49m\n\u001B[1;32m      3\u001B[0m \u001B[43m    \u001B[49m\u001B[43mdirectory\u001B[49m\u001B[38;5;241;43m=\u001B[39;49m\u001B[38;5;124;43m'\u001B[39;49m\u001B[38;5;124;43m./Image_classification_data/patch_images\u001B[39;49m\u001B[38;5;124;43m'\u001B[39;49m\u001B[43m,\u001B[49m\n\u001B[1;32m      4\u001B[0m \u001B[43m    \u001B[49m\u001B[43mx_col\u001B[49m\u001B[38;5;241;43m=\u001B[39;49m\u001B[38;5;124;43m'\u001B[39;49m\u001B[38;5;124;43mImageName\u001B[39;49m\u001B[38;5;124;43m'\u001B[39;49m\u001B[43m,\u001B[49m\n\u001B[1;32m      5\u001B[0m \u001B[43m    \u001B[49m\u001B[43my_col\u001B[49m\u001B[38;5;241;43m=\u001B[39;49m\u001B[38;5;124;43m'\u001B[39;49m\u001B[38;5;124;43mcellType\u001B[39;49m\u001B[38;5;124;43m'\u001B[39;49m\u001B[43m,\u001B[49m\n\u001B[1;32m      6\u001B[0m \u001B[43m    \u001B[49m\u001B[43mtarget_size\u001B[49m\u001B[38;5;241;43m=\u001B[39;49m\u001B[43m(\u001B[49m\u001B[38;5;241;43m27\u001B[39;49m\u001B[43m,\u001B[49m\u001B[43m \u001B[49m\u001B[38;5;241;43m27\u001B[39;49m\u001B[43m)\u001B[49m\u001B[43m,\u001B[49m\n\u001B[1;32m      7\u001B[0m \u001B[43m    \u001B[49m\u001B[43mbatch_size\u001B[49m\u001B[38;5;241;43m=\u001B[39;49m\u001B[43mbatch_size\u001B[49m\u001B[43m,\u001B[49m\n\u001B[1;32m      8\u001B[0m \u001B[43m    \u001B[49m\u001B[43mclass_mode\u001B[49m\u001B[38;5;241;43m=\u001B[39;49m\u001B[38;5;124;43m'\u001B[39;49m\u001B[38;5;124;43mcategorical\u001B[39;49m\u001B[38;5;124;43m'\u001B[39;49m\u001B[43m)\u001B[49m\n\u001B[1;32m     10\u001B[0m unlabeled_datagen \u001B[38;5;241m=\u001B[39m tf\u001B[38;5;241m.\u001B[39mkeras\u001B[38;5;241m.\u001B[39mpreprocessing\u001B[38;5;241m.\u001B[39mimage\u001B[38;5;241m.\u001B[39mImageDataGenerator(\n\u001B[1;32m     11\u001B[0m     rescale\u001B[38;5;241m=\u001B[39m\u001B[38;5;241m1.\u001B[39m\u001B[38;5;241m/\u001B[39m\u001B[38;5;241m255\u001B[39m,\n\u001B[1;32m     12\u001B[0m     rotation_range\u001B[38;5;241m=\u001B[39m\u001B[38;5;241m40\u001B[39m,\n\u001B[0;32m   (...)\u001B[0m\n\u001B[1;32m     19\u001B[0m     fill_mode\u001B[38;5;241m=\u001B[39m\u001B[38;5;124m'\u001B[39m\u001B[38;5;124mnearest\u001B[39m\u001B[38;5;124m'\u001B[39m\n\u001B[1;32m     20\u001B[0m )\n\u001B[1;32m     22\u001B[0m unlabeled_generator \u001B[38;5;241m=\u001B[39m unlabeled_datagen\u001B[38;5;241m.\u001B[39mflow_from_dataframe(\n\u001B[1;32m     23\u001B[0m     data_extra_unlabeled,\n\u001B[1;32m     24\u001B[0m     directory\u001B[38;5;241m=\u001B[39m\u001B[38;5;124m'\u001B[39m\u001B[38;5;124m./Image_classification_data/patch_images\u001B[39m\u001B[38;5;124m'\u001B[39m,\n\u001B[0;32m   (...)\u001B[0m\n\u001B[1;32m     28\u001B[0m     batch_size\u001B[38;5;241m=\u001B[39mbatch_size,\n\u001B[1;32m     29\u001B[0m     class_mode\u001B[38;5;241m=\u001B[39m\u001B[38;5;124m'\u001B[39m\u001B[38;5;124mcategorical\u001B[39m\u001B[38;5;124m'\u001B[39m)\n",
      "File \u001B[0;32m~/miniconda3/envs/DL/lib/python3.10/site-packages/keras/preprocessing/image.py:1806\u001B[0m, in \u001B[0;36mImageDataGenerator.flow_from_dataframe\u001B[0;34m(self, dataframe, directory, x_col, y_col, weight_col, target_size, color_mode, classes, class_mode, batch_size, shuffle, seed, save_to_dir, save_prefix, save_format, subset, interpolation, validate_filenames, **kwargs)\u001B[0m\n\u001B[1;32m   1799\u001B[0m \u001B[38;5;28;01mif\u001B[39;00m \u001B[38;5;124m\"\u001B[39m\u001B[38;5;124mdrop_duplicates\u001B[39m\u001B[38;5;124m\"\u001B[39m \u001B[38;5;129;01min\u001B[39;00m kwargs:\n\u001B[1;32m   1800\u001B[0m     warnings\u001B[38;5;241m.\u001B[39mwarn(\n\u001B[1;32m   1801\u001B[0m         \u001B[38;5;124m\"\u001B[39m\u001B[38;5;124mdrop_duplicates is deprecated, you can drop duplicates \u001B[39m\u001B[38;5;124m\"\u001B[39m\n\u001B[1;32m   1802\u001B[0m         \u001B[38;5;124m\"\u001B[39m\u001B[38;5;124mby using the pandas.DataFrame.drop_duplicates method.\u001B[39m\u001B[38;5;124m\"\u001B[39m,\n\u001B[1;32m   1803\u001B[0m         \u001B[38;5;167;01mDeprecationWarning\u001B[39;00m,\n\u001B[1;32m   1804\u001B[0m     )\n\u001B[0;32m-> 1806\u001B[0m \u001B[38;5;28;01mreturn\u001B[39;00m \u001B[43mDataFrameIterator\u001B[49m\u001B[43m(\u001B[49m\n\u001B[1;32m   1807\u001B[0m \u001B[43m    \u001B[49m\u001B[43mdataframe\u001B[49m\u001B[43m,\u001B[49m\n\u001B[1;32m   1808\u001B[0m \u001B[43m    \u001B[49m\u001B[43mdirectory\u001B[49m\u001B[43m,\u001B[49m\n\u001B[1;32m   1809\u001B[0m \u001B[43m    \u001B[49m\u001B[38;5;28;43mself\u001B[39;49m\u001B[43m,\u001B[49m\n\u001B[1;32m   1810\u001B[0m \u001B[43m    \u001B[49m\u001B[43mx_col\u001B[49m\u001B[38;5;241;43m=\u001B[39;49m\u001B[43mx_col\u001B[49m\u001B[43m,\u001B[49m\n\u001B[1;32m   1811\u001B[0m \u001B[43m    \u001B[49m\u001B[43my_col\u001B[49m\u001B[38;5;241;43m=\u001B[39;49m\u001B[43my_col\u001B[49m\u001B[43m,\u001B[49m\n\u001B[1;32m   1812\u001B[0m \u001B[43m    \u001B[49m\u001B[43mweight_col\u001B[49m\u001B[38;5;241;43m=\u001B[39;49m\u001B[43mweight_col\u001B[49m\u001B[43m,\u001B[49m\n\u001B[1;32m   1813\u001B[0m \u001B[43m    \u001B[49m\u001B[43mtarget_size\u001B[49m\u001B[38;5;241;43m=\u001B[39;49m\u001B[43mtarget_size\u001B[49m\u001B[43m,\u001B[49m\n\u001B[1;32m   1814\u001B[0m \u001B[43m    \u001B[49m\u001B[43mcolor_mode\u001B[49m\u001B[38;5;241;43m=\u001B[39;49m\u001B[43mcolor_mode\u001B[49m\u001B[43m,\u001B[49m\n\u001B[1;32m   1815\u001B[0m \u001B[43m    \u001B[49m\u001B[43mclasses\u001B[49m\u001B[38;5;241;43m=\u001B[39;49m\u001B[43mclasses\u001B[49m\u001B[43m,\u001B[49m\n\u001B[1;32m   1816\u001B[0m \u001B[43m    \u001B[49m\u001B[43mclass_mode\u001B[49m\u001B[38;5;241;43m=\u001B[39;49m\u001B[43mclass_mode\u001B[49m\u001B[43m,\u001B[49m\n\u001B[1;32m   1817\u001B[0m \u001B[43m    \u001B[49m\u001B[43mdata_format\u001B[49m\u001B[38;5;241;43m=\u001B[39;49m\u001B[38;5;28;43mself\u001B[39;49m\u001B[38;5;241;43m.\u001B[39;49m\u001B[43mdata_format\u001B[49m\u001B[43m,\u001B[49m\n\u001B[1;32m   1818\u001B[0m \u001B[43m    \u001B[49m\u001B[43mbatch_size\u001B[49m\u001B[38;5;241;43m=\u001B[39;49m\u001B[43mbatch_size\u001B[49m\u001B[43m,\u001B[49m\n\u001B[1;32m   1819\u001B[0m \u001B[43m    \u001B[49m\u001B[43mshuffle\u001B[49m\u001B[38;5;241;43m=\u001B[39;49m\u001B[43mshuffle\u001B[49m\u001B[43m,\u001B[49m\n\u001B[1;32m   1820\u001B[0m \u001B[43m    \u001B[49m\u001B[43mseed\u001B[49m\u001B[38;5;241;43m=\u001B[39;49m\u001B[43mseed\u001B[49m\u001B[43m,\u001B[49m\n\u001B[1;32m   1821\u001B[0m \u001B[43m    \u001B[49m\u001B[43msave_to_dir\u001B[49m\u001B[38;5;241;43m=\u001B[39;49m\u001B[43msave_to_dir\u001B[49m\u001B[43m,\u001B[49m\n\u001B[1;32m   1822\u001B[0m \u001B[43m    \u001B[49m\u001B[43msave_prefix\u001B[49m\u001B[38;5;241;43m=\u001B[39;49m\u001B[43msave_prefix\u001B[49m\u001B[43m,\u001B[49m\n\u001B[1;32m   1823\u001B[0m \u001B[43m    \u001B[49m\u001B[43msave_format\u001B[49m\u001B[38;5;241;43m=\u001B[39;49m\u001B[43msave_format\u001B[49m\u001B[43m,\u001B[49m\n\u001B[1;32m   1824\u001B[0m \u001B[43m    \u001B[49m\u001B[43msubset\u001B[49m\u001B[38;5;241;43m=\u001B[39;49m\u001B[43msubset\u001B[49m\u001B[43m,\u001B[49m\n\u001B[1;32m   1825\u001B[0m \u001B[43m    \u001B[49m\u001B[43minterpolation\u001B[49m\u001B[38;5;241;43m=\u001B[39;49m\u001B[43minterpolation\u001B[49m\u001B[43m,\u001B[49m\n\u001B[1;32m   1826\u001B[0m \u001B[43m    \u001B[49m\u001B[43mvalidate_filenames\u001B[49m\u001B[38;5;241;43m=\u001B[39;49m\u001B[43mvalidate_filenames\u001B[49m\u001B[43m,\u001B[49m\n\u001B[1;32m   1827\u001B[0m \u001B[43m    \u001B[49m\u001B[43mdtype\u001B[49m\u001B[38;5;241;43m=\u001B[39;49m\u001B[38;5;28;43mself\u001B[39;49m\u001B[38;5;241;43m.\u001B[39;49m\u001B[43mdtype\u001B[49m\u001B[43m,\u001B[49m\n\u001B[1;32m   1828\u001B[0m \u001B[43m\u001B[49m\u001B[43m)\u001B[49m\n",
      "File \u001B[0;32m~/miniconda3/envs/DL/lib/python3.10/site-packages/keras/preprocessing/image.py:968\u001B[0m, in \u001B[0;36mDataFrameIterator.__init__\u001B[0;34m(self, dataframe, directory, image_data_generator, x_col, y_col, weight_col, target_size, color_mode, classes, class_mode, batch_size, shuffle, seed, data_format, save_to_dir, save_prefix, save_format, subset, interpolation, keep_aspect_ratio, dtype, validate_filenames)\u001B[0m\n\u001B[1;32m    966\u001B[0m \u001B[38;5;28mself\u001B[39m\u001B[38;5;241m.\u001B[39mdtype \u001B[38;5;241m=\u001B[39m dtype\n\u001B[1;32m    967\u001B[0m \u001B[38;5;66;03m# check that inputs match the required class_mode\u001B[39;00m\n\u001B[0;32m--> 968\u001B[0m \u001B[38;5;28;43mself\u001B[39;49m\u001B[38;5;241;43m.\u001B[39;49m\u001B[43m_check_params\u001B[49m\u001B[43m(\u001B[49m\u001B[43mdf\u001B[49m\u001B[43m,\u001B[49m\u001B[43m \u001B[49m\u001B[43mx_col\u001B[49m\u001B[43m,\u001B[49m\u001B[43m \u001B[49m\u001B[43my_col\u001B[49m\u001B[43m,\u001B[49m\u001B[43m \u001B[49m\u001B[43mweight_col\u001B[49m\u001B[43m,\u001B[49m\u001B[43m \u001B[49m\u001B[43mclasses\u001B[49m\u001B[43m)\u001B[49m\n\u001B[1;32m    969\u001B[0m \u001B[38;5;28;01mif\u001B[39;00m (\n\u001B[1;32m    970\u001B[0m     validate_filenames\n\u001B[1;32m    971\u001B[0m ):  \u001B[38;5;66;03m# check which image files are valid and keep them\u001B[39;00m\n\u001B[1;32m    972\u001B[0m     df \u001B[38;5;241m=\u001B[39m \u001B[38;5;28mself\u001B[39m\u001B[38;5;241m.\u001B[39m_filter_valid_filepaths(df, x_col)\n",
      "File \u001B[0;32m~/miniconda3/envs/DL/lib/python3.10/site-packages/keras/preprocessing/image.py:1058\u001B[0m, in \u001B[0;36mDataFrameIterator._check_params\u001B[0;34m(self, df, x_col, y_col, weight_col, classes)\u001B[0m\n\u001B[1;32m   1056\u001B[0m     types \u001B[38;5;241m=\u001B[39m (\u001B[38;5;28mstr\u001B[39m, \u001B[38;5;28mlist\u001B[39m, \u001B[38;5;28mtuple\u001B[39m)\n\u001B[1;32m   1057\u001B[0m     \u001B[38;5;28;01mif\u001B[39;00m \u001B[38;5;129;01mnot\u001B[39;00m \u001B[38;5;28mall\u001B[39m(df[y_col]\u001B[38;5;241m.\u001B[39mapply(\u001B[38;5;28;01mlambda\u001B[39;00m x: \u001B[38;5;28misinstance\u001B[39m(x, types))):\n\u001B[0;32m-> 1058\u001B[0m         \u001B[38;5;28;01mraise\u001B[39;00m \u001B[38;5;167;01mTypeError\u001B[39;00m(\n\u001B[1;32m   1059\u001B[0m             \u001B[38;5;124m'\u001B[39m\u001B[38;5;124mIf class_mode=\u001B[39m\u001B[38;5;124m\"\u001B[39m\u001B[38;5;132;01m{}\u001B[39;00m\u001B[38;5;124m\"\u001B[39m\u001B[38;5;124m, y_col=\u001B[39m\u001B[38;5;124m\"\u001B[39m\u001B[38;5;132;01m{}\u001B[39;00m\u001B[38;5;124m\"\u001B[39m\u001B[38;5;124m column \u001B[39m\u001B[38;5;124m'\u001B[39m\n\u001B[1;32m   1060\u001B[0m             \u001B[38;5;124m\"\u001B[39m\u001B[38;5;124mvalues must be type string, list or tuple.\u001B[39m\u001B[38;5;124m\"\u001B[39m\u001B[38;5;241m.\u001B[39mformat(\n\u001B[1;32m   1061\u001B[0m                 \u001B[38;5;28mself\u001B[39m\u001B[38;5;241m.\u001B[39mclass_mode, y_col\n\u001B[1;32m   1062\u001B[0m             )\n\u001B[1;32m   1063\u001B[0m         )\n\u001B[1;32m   1064\u001B[0m \u001B[38;5;66;03m# raise warning if classes are given but will be unused\u001B[39;00m\n\u001B[1;32m   1065\u001B[0m \u001B[38;5;28;01mif\u001B[39;00m classes \u001B[38;5;129;01mand\u001B[39;00m \u001B[38;5;28mself\u001B[39m\u001B[38;5;241m.\u001B[39mclass_mode \u001B[38;5;129;01min\u001B[39;00m {\n\u001B[1;32m   1066\u001B[0m     \u001B[38;5;124m\"\u001B[39m\u001B[38;5;124minput\u001B[39m\u001B[38;5;124m\"\u001B[39m,\n\u001B[1;32m   1067\u001B[0m     \u001B[38;5;124m\"\u001B[39m\u001B[38;5;124mmulti_output\u001B[39m\u001B[38;5;124m\"\u001B[39m,\n\u001B[1;32m   1068\u001B[0m     \u001B[38;5;124m\"\u001B[39m\u001B[38;5;124mraw\u001B[39m\u001B[38;5;124m\"\u001B[39m,\n\u001B[1;32m   1069\u001B[0m     \u001B[38;5;28;01mNone\u001B[39;00m,\n\u001B[1;32m   1070\u001B[0m }:\n",
      "\u001B[0;31mTypeError\u001B[0m: If class_mode=\"categorical\", y_col=\"cellType\" column values must be type string, list or tuple."
     ]
    }
   ],
   "source": [
    "train_generator = train_datagen.flow_from_dataframe(\n",
    "    train_data,\n",
    "    directory='./Image_classification_data/patch_images',\n",
    "    x_col='ImageName',\n",
    "    y_col='cellType',\n",
    "    target_size=(27, 27),\n",
    "    batch_size=batch_size,\n",
    "    class_mode='categorical')\n",
    "\n",
    "unlabeled_datagen = tf.keras.preprocessing.image.ImageDataGenerator(\n",
    "    rescale=1./255,\n",
    "    rotation_range=40,\n",
    "    width_shift_range=0.2,\n",
    "    height_shift_range=0.2,\n",
    "    shear_range=0.2,\n",
    "    zoom_range=0.2,\n",
    "    horizontal_flip=True,\n",
    "    vertical_flip=True,\n",
    "    fill_mode='nearest'\n",
    ")\n",
    "\n",
    "unlabeled_generator = unlabeled_datagen.flow_from_dataframe(\n",
    "    data_extra_unlabeled,\n",
    "    directory='./Image_classification_data/patch_images',\n",
    "    x_col='ImageName',\n",
    "    y_col=None,\n",
    "    target_size=(27, 27),\n",
    "    batch_size=batch_size,\n",
    "    class_mode='categorical')"
   ],
   "metadata": {
    "collapsed": false
   }
  },
  {
   "cell_type": "code",
   "execution_count": null,
   "outputs": [],
   "source": [
    "consistency_weight = 1\n",
    "optimizer = tf.keras.optimizers.legacy.Adam(learning_rate=0.0001)\n",
    "# 定义数据增强策略\n",
    "data_augmentation = tf.keras.Sequential([\n",
    "    tf.keras.layers.experimental.preprocessing.RandomFlip(\"horizontal\"),\n",
    "    tf.keras.layers.experimental.preprocessing.RandomRotation(0.1),\n",
    "])\n",
    "\n",
    "# 训练循环\n",
    "def apply_uda(x_batch, y_batch, x_unlabeled, model, optimizer):\n",
    "    # 对无标签数据进行数据增强\n",
    "    x_unlabeled_augmented = data_augmentation(x_unlabeled)\n",
    "\n",
    "    # 计算模型在原始无标签数据和增强无标签数据上的输出\n",
    "    with tf.GradientTape() as tape:\n",
    "        y_pred_labeled = model(x_batch)\n",
    "        y_pred_unlabeled = model(x_unlabeled)\n",
    "        y_pred_unlabeled_augmented = model(x_unlabeled_augmented)\n",
    "\n",
    "        # 计算有监督损失和一致性损失\n",
    "        supervised_loss = tf.keras.metrics.categorical_crossentropy(y_batch, y_pred_labeled)\n",
    "        consistency_loss = tf.keras.metrics.mean_squared_error(y_pred_unlabeled, y_pred_unlabeled_augmented)\n",
    "\n",
    "        # 计算总损失\n",
    "        total_loss = supervised_loss + consistency_weight * consistency_loss\n",
    "\n",
    "        # 计算准确度\n",
    "        accuracy = tf.keras.metrics.categorical_accuracy(y_batch, y_pred_labeled)\n",
    "\n",
    "    # 反向传播和优化\n",
    "    grads = tape.gradient(total_loss, model_categorical.trainable_variables)\n",
    "    optimizer.apply_gradients(zip(grads, model_categorical.trainable_variables))\n",
    "    return total_loss, supervised_loss, consistency_loss, accuracy\n",
    "\n",
    "\n",
    "for epoch in range(epochs):\n",
    "    print(f\"Epoch {epoch + 1}/{epochs}\")\n",
    "\n",
    "    total_loss = 0\n",
    "    total_supervised_loss = 0\n",
    "    total_consistency_loss = 0\n",
    "    total_accuracy = 0\n",
    "    steps = 0\n",
    "    for (x_batch, y_batch), (x_unlabeled, _) in zip(train_generator, unlabeled_generator):\n",
    "        loss, supervised_loss, consistency_loss, accuracy = apply_uda(x_batch, y_batch, x_unlabeled, model_categorical, optimizer)\n",
    "\n",
    "        total_loss += loss\n",
    "        total_supervised_loss += supervised_loss\n",
    "        total_consistency_loss += consistency_loss\n",
    "        total_accuracy += accuracy\n",
    "        steps += 1\n",
    "\n",
    "        # 打印当前批次的准确率\n",
    "        print(f\" - batch {steps}: accuracy: {accuracy:.4f}\")\n",
    "\n",
    "        # 检查是否已经处理了所有批次\n",
    "        if steps * batch_size >= len(train_data):\n",
    "            break\n",
    "\n",
    "        # 计算并打印平均损失和准确率\n",
    "        avg_loss = total_loss / steps\n",
    "        avg_supervised_loss = total_supervised_loss / steps\n",
    "        avg_consistency_loss = total_consistency_loss / steps\n",
    "        avg_accuracy = total_accuracy / steps\n",
    "        print(f\" - loss: {avg_loss:.4f}, supervised_loss: {avg_supervised_loss:.4f}, consistency_loss: {avg_consistency_loss:.4f}, accuracy: {avg_accuracy:.4f}\")\n"
   ],
   "metadata": {
    "collapsed": false
   }
  }
 ],
 "metadata": {
  "kernelspec": {
   "display_name": "Python 3",
   "language": "python",
   "name": "python3"
  },
  "language_info": {
   "codemirror_mode": {
    "name": "ipython",
    "version": 2
   },
   "file_extension": ".py",
   "mimetype": "text/x-python",
   "name": "python",
   "nbconvert_exporter": "python",
   "pygments_lexer": "ipython2",
   "version": "2.7.6"
  }
 },
 "nbformat": 4,
 "nbformat_minor": 0
}
