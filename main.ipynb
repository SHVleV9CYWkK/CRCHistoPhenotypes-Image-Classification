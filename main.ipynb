{
 "cells": [
  {
   "cell_type": "code",
   "execution_count": 12,
   "metadata": {
    "collapsed": true,
    "ExecuteTime": {
     "start_time": "2023-04-26T17:46:49.971107Z",
     "end_time": "2023-04-26T17:46:49.976970Z"
    }
   },
   "outputs": [],
   "source": [
    "import pandas as pd\n",
    "import matplotlib.pyplot as plt\n",
    "import numpy as np\n",
    "import tensorflow as tf\n",
    "import tensorflow_addons as tfa\n",
    "from sklearn.model_selection import train_test_split"
   ]
  },
  {
   "cell_type": "code",
   "execution_count": 13,
   "outputs": [],
   "source": [
    "data = pd.read_csv('./Image_classification_data/data_labels_mainData.csv')\n",
    "data['isCancerous'] = data['isCancerous'].astype(str)\n",
    "train_data, test_data = train_test_split(data, test_size=0.2, random_state=42)"
   ],
   "metadata": {
    "collapsed": false,
    "ExecuteTime": {
     "start_time": "2023-04-26T17:46:49.975218Z",
     "end_time": "2023-04-26T17:46:49.996229Z"
    }
   }
  },
  {
   "cell_type": "code",
   "execution_count": 14,
   "outputs": [
    {
     "data": {
      "text/plain": "([0, 1], [Text(0, 0, '1'), Text(1, 0, '0')])"
     },
     "execution_count": 14,
     "metadata": {},
     "output_type": "execute_result"
    },
    {
     "data": {
      "text/plain": "<Figure size 432x288 with 1 Axes>",
      "image/png": "[encoded data removed]"
     },
     "metadata": {
      "needs_background": "light"
     },
     "output_type": "display_data"
    }
   ],
   "source": [
    "plt.hist(train_data['isCancerous'], alpha=0.3, color='b', label='Train', density=True)\n",
    "plt.hist(test_data['isCancerous'], alpha=0.3, color='r', label='Test',  density=True)\n",
    "plt.hist(data['isCancerous'], alpha=0.3, color='g', density=True)\n",
    "plt.title('isCancerous')\n",
    "plt.xticks(rotation='vertical')"
   ],
   "metadata": {
    "collapsed": false,
    "ExecuteTime": {
     "start_time": "2023-04-26T17:46:49.994701Z",
     "end_time": "2023-04-26T17:46:50.060870Z"
    }
   }
  },
  {
   "cell_type": "code",
   "execution_count": 15,
   "outputs": [],
   "source": [
    "class_samples = train_data['isCancerous'].value_counts()\n",
    "total_samples = np.sum(class_samples)\n",
    "class_weights = total_samples / class_samples\n",
    "\n",
    "class_weight_dict = {int(k): v for k, v in class_weights.to_dict().items()}"
   ],
   "metadata": {
    "collapsed": false,
    "ExecuteTime": {
     "start_time": "2023-04-26T17:46:50.063071Z",
     "end_time": "2023-04-26T17:46:50.064272Z"
    }
   }
  },
  {
   "cell_type": "code",
   "execution_count": 16,
   "outputs": [
    {
     "name": "stdout",
     "output_type": "stream",
     "text": [
      "Found 7916 validated image filenames belonging to 2 classes.\n",
      "Found 1980 validated image filenames belonging to 2 classes.\n"
     ]
    }
   ],
   "source": [
    "batch_size = 32\n",
    "train_datagen = tf.keras.preprocessing.image.ImageDataGenerator(\n",
    "    rescale=1./255,\n",
    "    rotation_range=40,\n",
    "    width_shift_range=0.2,\n",
    "    height_shift_range=0.2,\n",
    "    shear_range=0.2,\n",
    "    zoom_range=0.2,\n",
    "    horizontal_flip=True,\n",
    "    vertical_flip=True,\n",
    "    fill_mode='nearest'\n",
    ")\n",
    "\n",
    "test_datagen = tf.keras.preprocessing.image.ImageDataGenerator(\n",
    "    rescale=1./255\n",
    ")\n",
    "\n",
    "train_generator = train_datagen.flow_from_dataframe(\n",
    "    train_data,\n",
    "    directory='./Image_classification_data/patch_images',\n",
    "    x_col='ImageName',\n",
    "    y_col='isCancerous',\n",
    "    target_size=(27, 27),\n",
    "    batch_size=batch_size,\n",
    "    class_mode='binary')\n",
    "\n",
    "validation_generator = test_datagen.flow_from_dataframe(\n",
    "    test_data,\n",
    "    directory='./Image_classification_data/patch_images',\n",
    "    x_col='ImageName',\n",
    "    y_col='isCancerous',\n",
    "    target_size=(27, 27),\n",
    "    batch_size=batch_size,\n",
    "    class_mode='binary')"
   ],
   "metadata": {
    "collapsed": false,
    "ExecuteTime": {
     "start_time": "2023-04-26T17:46:50.069429Z",
     "end_time": "2023-04-26T17:46:50.160405Z"
    }
   }
  },
  {
   "cell_type": "markdown",
   "source": [
    "三层卷积，池化。+64，32，16MPL。bc=16，lr=0.001。目前表现最佳。"
   ],
   "metadata": {
    "collapsed": false
   }
  },
  {
   "cell_type": "code",
   "execution_count": 17,
   "outputs": [],
   "source": [
    "input_shape = (27, 27, 3)\n",
    "# num_classes = 4\n",
    "l2_coeff = 0.01\n",
    "\n",
    "# model = tf.keras.models.Sequential([\n",
    "#     tf.keras.layers.Conv2D(32, (3,3), activation='relu', input_shape=input_shape, padding='same', kernel_regularizer=tf.keras.regularizers.l2(l2_coeff)),\n",
    "#     tf.keras.layers.BatchNormalization(),\n",
    "#     tf.keras.layers.Conv2D(32, (3,3), activation='relu', kernel_regularizer=tf.keras.regularizers.l2(l2_coeff)),\n",
    "#     tf.keras.layers.BatchNormalization(),\n",
    "#     tf.keras.layers.MaxPooling2D(2, 2),\n",
    "#     tf.keras.layers.Conv2D(64, (3,3), activation='relu', padding='same', kernel_regularizer=tf.keras.regularizers.l2(l2_coeff)),\n",
    "#     tf.keras.layers.BatchNormalization(),\n",
    "#     tf.keras.layers.Conv2D(64, (3,3), activation='relu', kernel_regularizer=tf.keras.regularizers.l2(l2_coeff)),\n",
    "#     tf.keras.layers.BatchNormalization(),\n",
    "#     tf.keras.layers.MaxPooling2D(2, 2),\n",
    "#     tf.keras.layers.Flatten(),\n",
    "#     tf.keras.layers.Dense(512, activation='relu', kernel_regularizer=tf.keras.regularizers.l2(l2_coeff)),\n",
    "#     tf.keras.layers.BatchNormalization(),\n",
    "#     tf.keras.layers.Dropout(0.2),\n",
    "#     tf.keras.layers.Dense(512, activation='relu', kernel_regularizer=tf.keras.regularizers.l2(l2_coeff)),\n",
    "#     tf.keras.layers.BatchNormalization(),\n",
    "#     tf.keras.layers.Dropout(0.2),\n",
    "#     tf.keras.layers.Dense(num_classes, activation='softmax')\n",
    "# ])\n",
    "#\n",
    "# model.summary()"
   ],
   "metadata": {
    "collapsed": false,
    "ExecuteTime": {
     "start_time": "2023-04-26T17:46:50.161387Z",
     "end_time": "2023-04-26T17:46:50.178347Z"
    }
   }
  },
  {
   "cell_type": "code",
   "execution_count": 18,
   "outputs": [
    {
     "name": "stdout",
     "output_type": "stream",
     "text": [
      "Model: \"sequential_1\"\n",
      "_________________________________________________________________\n",
      " Layer (type)                Output Shape              Param #   \n",
      "=================================================================\n",
      " conv2d_4 (Conv2D)           (None, 27, 27, 32)        896       \n",
      "                                                                 \n",
      " batch_normalization_6 (Batc  (None, 27, 27, 32)       128       \n",
      " hNormalization)                                                 \n",
      "                                                                 \n",
      " conv2d_5 (Conv2D)           (None, 25, 25, 32)        9248      \n",
      "                                                                 \n",
      " batch_normalization_7 (Batc  (None, 25, 25, 32)       128       \n",
      " hNormalization)                                                 \n",
      "                                                                 \n",
      " max_pooling2d_2 (MaxPooling  (None, 12, 12, 32)       0         \n",
      " 2D)                                                             \n",
      "                                                                 \n",
      " conv2d_6 (Conv2D)           (None, 12, 12, 64)        18496     \n",
      "                                                                 \n",
      " batch_normalization_8 (Batc  (None, 12, 12, 64)       256       \n",
      " hNormalization)                                                 \n",
      "                                                                 \n",
      " conv2d_7 (Conv2D)           (None, 10, 10, 64)        36928     \n",
      "                                                                 \n",
      " batch_normalization_9 (Batc  (None, 10, 10, 64)       256       \n",
      " hNormalization)                                                 \n",
      "                                                                 \n",
      " max_pooling2d_3 (MaxPooling  (None, 5, 5, 64)         0         \n",
      " 2D)                                                             \n",
      "                                                                 \n",
      " flatten_1 (Flatten)         (None, 1600)              0         \n",
      "                                                                 \n",
      " dense_3 (Dense)             (None, 512)               819712    \n",
      "                                                                 \n",
      " batch_normalization_10 (Bat  (None, 512)              2048      \n",
      " chNormalization)                                                \n",
      "                                                                 \n",
      " dropout_2 (Dropout)         (None, 512)               0         \n",
      "                                                                 \n",
      " dense_4 (Dense)             (None, 512)               262656    \n",
      "                                                                 \n",
      " batch_normalization_11 (Bat  (None, 512)              2048      \n",
      " chNormalization)                                                \n",
      "                                                                 \n",
      " dropout_3 (Dropout)         (None, 512)               0         \n",
      "                                                                 \n",
      " dense_5 (Dense)             (None, 1)                 513       \n",
      "                                                                 \n",
      "=================================================================\n",
      "Total params: 1,153,313\n",
      "Trainable params: 1,150,881\n",
      "Non-trainable params: 2,432\n",
      "_________________________________________________________________\n"
     ]
    }
   ],
   "source": [
    "model_binary = tf.keras.models.Sequential([\n",
    "    tf.keras.layers.Conv2D(32, (3,3), activation='relu', input_shape=input_shape, padding='same', kernel_regularizer=tf.keras.regularizers.l2(l2_coeff)),\n",
    "    tf.keras.layers.BatchNormalization(),\n",
    "    tf.keras.layers.Conv2D(32, (3,3), activation='relu', kernel_regularizer=tf.keras.regularizers.l2(l2_coeff)),\n",
    "    tf.keras.layers.BatchNormalization(),\n",
    "    tf.keras.layers.MaxPooling2D(2, 2),\n",
    "    tf.keras.layers.Conv2D(64, (3,3), activation='relu', padding='same', kernel_regularizer=tf.keras.regularizers.l2(l2_coeff)),\n",
    "    tf.keras.layers.BatchNormalization(),\n",
    "    tf.keras.layers.Conv2D(64, (3,3), activation='relu', kernel_regularizer=tf.keras.regularizers.l2(l2_coeff)),\n",
    "    tf.keras.layers.BatchNormalization(),\n",
    "    tf.keras.layers.MaxPooling2D(2, 2),\n",
    "    tf.keras.layers.Flatten(),\n",
    "    tf.keras.layers.Dense(512, activation='relu', kernel_regularizer=tf.keras.regularizers.l2(l2_coeff)),\n",
    "    tf.keras.layers.BatchNormalization(),\n",
    "    tf.keras.layers.Dropout(0.2),\n",
    "    tf.keras.layers.Dense(512, activation='relu', kernel_regularizer=tf.keras.regularizers.l2(l2_coeff)),\n",
    "    tf.keras.layers.BatchNormalization(),\n",
    "    tf.keras.layers.Dropout(0.2),\n",
    "    tf.keras.layers.Dense(1, activation='sigmoid')\n",
    "])\n",
    "model_binary.summary()"
   ],
   "metadata": {
    "collapsed": false,
    "ExecuteTime": {
     "start_time": "2023-04-26T17:46:50.173930Z",
     "end_time": "2023-04-26T17:46:50.274320Z"
    }
   }
  },
  {
   "cell_type": "code",
   "execution_count": 19,
   "outputs": [],
   "source": [
    "model_binary.compile(loss='binary_crossentropy',\n",
    "              optimizer=tf.keras.optimizers.legacy.Adam(learning_rate=0.0001),\n",
    "              metrics=['accuracy'])"
   ],
   "metadata": {
    "collapsed": false,
    "ExecuteTime": {
     "start_time": "2023-04-26T17:46:49.969890Z",
     "end_time": "2023-04-26T17:46:50.281029Z"
    }
   }
  },
  {
   "cell_type": "code",
   "execution_count": 20,
   "outputs": [
    {
     "name": "stdout",
     "output_type": "stream",
     "text": [
      "Epoch 1/100\n",
      "247/247 [==============================] - 11s 41ms/step - loss: 14.4542 - accuracy: 0.8130 - val_loss: 14.6260 - val_accuracy: 0.4011 - lr: 1.0000e-04\n",
      "Epoch 2/100\n",
      "247/247 [==============================] - 10s 39ms/step - loss: 12.9388 - accuracy: 0.8499 - val_loss: 12.1172 - val_accuracy: 0.7510 - lr: 1.0000e-04\n",
      "Epoch 3/100\n",
      "247/247 [==============================] - 10s 39ms/step - loss: 11.6873 - accuracy: 0.8582 - val_loss: 10.7947 - val_accuracy: 0.8704 - lr: 1.0000e-04\n",
      "Epoch 4/100\n",
      "247/247 [==============================] - 9s 38ms/step - loss: 10.5965 - accuracy: 0.8643 - val_loss: 9.7534 - val_accuracy: 0.8858 - lr: 1.0000e-04\n",
      "Epoch 5/100\n",
      "247/247 [==============================] - 9s 38ms/step - loss: 9.6420 - accuracy: 0.8682 - val_loss: 8.8807 - val_accuracy: 0.8735 - lr: 1.0000e-04\n",
      "Epoch 6/100\n",
      "247/247 [==============================] - 9s 38ms/step - loss: 8.7640 - accuracy: 0.8713 - val_loss: 7.9831 - val_accuracy: 0.9165 - lr: 1.0000e-04\n",
      "Epoch 7/100\n",
      "247/247 [==============================] - 10s 39ms/step - loss: 7.9883 - accuracy: 0.8729 - val_loss: 7.2449 - val_accuracy: 0.9073 - lr: 1.0000e-04\n",
      "Epoch 8/100\n",
      "247/247 [==============================] - 9s 38ms/step - loss: 7.2425 - accuracy: 0.8801 - val_loss: 6.5671 - val_accuracy: 0.9073 - lr: 1.0000e-04\n",
      "Epoch 9/100\n",
      "247/247 [==============================] - 9s 38ms/step - loss: 6.5898 - accuracy: 0.8805 - val_loss: 5.9637 - val_accuracy: 0.9042 - lr: 1.0000e-04\n",
      "Epoch 10/100\n",
      "247/247 [==============================] - 10s 39ms/step - loss: 5.9956 - accuracy: 0.8819 - val_loss: 5.3951 - val_accuracy: 0.9016 - lr: 1.0000e-04\n",
      "Epoch 11/100\n",
      "247/247 [==============================] - 10s 39ms/step - loss: 5.4510 - accuracy: 0.8851 - val_loss: 4.9547 - val_accuracy: 0.8832 - lr: 1.0000e-04\n",
      "Epoch 12/100\n",
      "247/247 [==============================] - 10s 39ms/step - loss: 4.9397 - accuracy: 0.8941 - val_loss: 4.4193 - val_accuracy: 0.9093 - lr: 1.0000e-04\n",
      "Epoch 13/100\n",
      "247/247 [==============================] - 10s 39ms/step - loss: 4.5095 - accuracy: 0.8938 - val_loss: 4.0419 - val_accuracy: 0.8975 - lr: 1.0000e-04\n",
      "Epoch 14/100\n",
      "247/247 [==============================] - 9s 38ms/step - loss: 4.1294 - accuracy: 0.8879 - val_loss: 3.6571 - val_accuracy: 0.8878 - lr: 1.0000e-04\n",
      "Epoch 15/100\n",
      "247/247 [==============================] - 10s 40ms/step - loss: 3.7383 - accuracy: 0.8924 - val_loss: 3.2960 - val_accuracy: 0.9032 - lr: 1.0000e-04\n",
      "Epoch 16/100\n",
      "247/247 [==============================] - 10s 39ms/step - loss: 3.4415 - accuracy: 0.8879 - val_loss: 2.9705 - val_accuracy: 0.9155 - lr: 1.0000e-04\n",
      "Epoch 17/100\n",
      "247/247 [==============================] - 9s 38ms/step - loss: 3.1263 - accuracy: 0.8904 - val_loss: 2.6850 - val_accuracy: 0.9124 - lr: 1.0000e-04\n",
      "Epoch 18/100\n",
      "247/247 [==============================] - 10s 39ms/step - loss: 2.8551 - accuracy: 0.8943 - val_loss: 2.4848 - val_accuracy: 0.8996 - lr: 1.0000e-04\n",
      "Epoch 19/100\n",
      "247/247 [==============================] - 10s 39ms/step - loss: 2.5971 - accuracy: 0.8961 - val_loss: 2.3246 - val_accuracy: 0.8473 - lr: 1.0000e-04\n",
      "Epoch 20/100\n",
      "247/247 [==============================] - 10s 39ms/step - loss: 2.3987 - accuracy: 0.8936 - val_loss: 2.0266 - val_accuracy: 0.9165 - lr: 1.0000e-04\n",
      "Epoch 21/100\n",
      "247/247 [==============================] - 10s 39ms/step - loss: 2.1930 - accuracy: 0.8946 - val_loss: 1.8865 - val_accuracy: 0.8924 - lr: 1.0000e-04\n",
      "Epoch 22/100\n",
      "247/247 [==============================] - 9s 38ms/step - loss: 2.0371 - accuracy: 0.8978 - val_loss: 1.6582 - val_accuracy: 0.9216 - lr: 1.0000e-04\n",
      "Epoch 23/100\n",
      "247/247 [==============================] - 10s 39ms/step - loss: 1.8771 - accuracy: 0.8979 - val_loss: 1.5456 - val_accuracy: 0.9150 - lr: 1.0000e-04\n",
      "Epoch 24/100\n",
      "247/247 [==============================] - 10s 39ms/step - loss: 1.7270 - accuracy: 0.9042 - val_loss: 1.4650 - val_accuracy: 0.8919 - lr: 1.0000e-04\n",
      "Epoch 25/100\n",
      "247/247 [==============================] - 9s 38ms/step - loss: 1.6445 - accuracy: 0.8976 - val_loss: 1.3197 - val_accuracy: 0.9062 - lr: 1.0000e-04\n",
      "Epoch 26/100\n",
      "247/247 [==============================] - 10s 39ms/step - loss: 1.5195 - accuracy: 0.9064 - val_loss: 1.2878 - val_accuracy: 0.8858 - lr: 1.0000e-04\n",
      "Epoch 27/100\n",
      "247/247 [==============================] - 10s 39ms/step - loss: 1.4544 - accuracy: 0.9026 - val_loss: 1.2228 - val_accuracy: 0.8750 - lr: 1.0000e-04\n",
      "Epoch 28/100\n",
      "247/247 [==============================] - 10s 39ms/step - loss: 1.3759 - accuracy: 0.9013 - val_loss: 1.0684 - val_accuracy: 0.9170 - lr: 1.0000e-04\n",
      "Epoch 29/100\n",
      "247/247 [==============================] - 9s 38ms/step - loss: 1.2990 - accuracy: 0.9022 - val_loss: 1.0769 - val_accuracy: 0.8740 - lr: 1.0000e-04\n",
      "Epoch 30/100\n",
      "247/247 [==============================] - 10s 39ms/step - loss: 1.2445 - accuracy: 0.9027 - val_loss: 1.0049 - val_accuracy: 0.8873 - lr: 1.0000e-04\n",
      "Epoch 31/100\n",
      "247/247 [==============================] - 10s 39ms/step - loss: 1.1816 - accuracy: 0.9044 - val_loss: 0.9353 - val_accuracy: 0.9016 - lr: 1.0000e-04\n",
      "Epoch 32/100\n",
      "247/247 [==============================] - 10s 39ms/step - loss: 1.1330 - accuracy: 0.9061 - val_loss: 0.8823 - val_accuracy: 0.9037 - lr: 1.0000e-04\n",
      "Epoch 33/100\n",
      "247/247 [==============================] - 10s 39ms/step - loss: 1.1060 - accuracy: 0.9035 - val_loss: 0.7987 - val_accuracy: 0.9206 - lr: 1.0000e-04\n",
      "Epoch 34/100\n",
      "247/247 [==============================] - 10s 39ms/step - loss: 1.0487 - accuracy: 0.9087 - val_loss: 0.8502 - val_accuracy: 0.8832 - lr: 1.0000e-04\n",
      "Epoch 35/100\n",
      "247/247 [==============================] - 10s 39ms/step - loss: 1.0085 - accuracy: 0.9085 - val_loss: 0.7703 - val_accuracy: 0.9134 - lr: 1.0000e-04\n",
      "Epoch 36/100\n",
      "247/247 [==============================] - 10s 39ms/step - loss: 0.9974 - accuracy: 0.9021 - val_loss: 0.8778 - val_accuracy: 0.8525 - lr: 1.0000e-04\n",
      "Epoch 37/100\n",
      "247/247 [==============================] - 10s 39ms/step - loss: 0.9600 - accuracy: 0.9084 - val_loss: 0.6742 - val_accuracy: 0.9252 - lr: 1.0000e-04\n",
      "Epoch 38/100\n",
      "247/247 [==============================] - 10s 39ms/step - loss: 0.9320 - accuracy: 0.9066 - val_loss: 0.7700 - val_accuracy: 0.8755 - lr: 1.0000e-04\n",
      "Epoch 39/100\n",
      "247/247 [==============================] - 10s 39ms/step - loss: 0.9035 - accuracy: 0.9107 - val_loss: 0.7195 - val_accuracy: 0.8883 - lr: 1.0000e-04\n",
      "Epoch 40/100\n",
      "247/247 [==============================] - 10s 40ms/step - loss: 0.8937 - accuracy: 0.9066 - val_loss: 0.7145 - val_accuracy: 0.8832 - lr: 1.0000e-04\n",
      "Epoch 41/100\n",
      "247/247 [==============================] - 10s 39ms/step - loss: 0.8319 - accuracy: 0.9207 - val_loss: 0.5902 - val_accuracy: 0.9339 - lr: 3.1623e-05\n",
      "Epoch 42/100\n",
      "247/247 [==============================] - 10s 39ms/step - loss: 0.8307 - accuracy: 0.9155 - val_loss: 0.5787 - val_accuracy: 0.9390 - lr: 3.1623e-05\n",
      "Epoch 43/100\n",
      "247/247 [==============================] - 10s 39ms/step - loss: 0.8100 - accuracy: 0.9186 - val_loss: 0.5889 - val_accuracy: 0.9252 - lr: 3.1623e-05\n",
      "Epoch 44/100\n",
      "247/247 [==============================] - 10s 39ms/step - loss: 0.7998 - accuracy: 0.9206 - val_loss: 0.5871 - val_accuracy: 0.9293 - lr: 3.1623e-05\n",
      "Epoch 45/100\n",
      "247/247 [==============================] - 10s 39ms/step - loss: 0.7815 - accuracy: 0.9210 - val_loss: 0.5633 - val_accuracy: 0.9298 - lr: 3.1623e-05\n",
      "Epoch 46/100\n",
      "247/247 [==============================] - 10s 39ms/step - loss: 0.7737 - accuracy: 0.9219 - val_loss: 0.5662 - val_accuracy: 0.9252 - lr: 3.1623e-05\n",
      "Epoch 47/100\n",
      "247/247 [==============================] - 10s 39ms/step - loss: 0.7662 - accuracy: 0.9228 - val_loss: 0.5624 - val_accuracy: 0.9267 - lr: 3.1623e-05\n",
      "Epoch 48/100\n",
      "247/247 [==============================] - 10s 39ms/step - loss: 0.7441 - accuracy: 0.9259 - val_loss: 0.5488 - val_accuracy: 0.9288 - lr: 3.1623e-05\n",
      "Epoch 49/100\n",
      "247/247 [==============================] - 10s 40ms/step - loss: 0.7536 - accuracy: 0.9220 - val_loss: 0.5556 - val_accuracy: 0.9324 - lr: 3.1623e-05\n",
      "Epoch 50/100\n",
      "247/247 [==============================] - 10s 39ms/step - loss: 0.7494 - accuracy: 0.9216 - val_loss: 0.5365 - val_accuracy: 0.9303 - lr: 3.1623e-05\n",
      "Epoch 51/100\n",
      "247/247 [==============================] - 10s 39ms/step - loss: 0.7361 - accuracy: 0.9243 - val_loss: 0.5282 - val_accuracy: 0.9355 - lr: 3.1623e-05\n",
      "Epoch 52/100\n",
      "247/247 [==============================] - 10s 39ms/step - loss: 0.7346 - accuracy: 0.9221 - val_loss: 0.5236 - val_accuracy: 0.9334 - lr: 3.1623e-05\n",
      "Epoch 53/100\n",
      "247/247 [==============================] - 10s 39ms/step - loss: 0.7118 - accuracy: 0.9250 - val_loss: 0.5212 - val_accuracy: 0.9319 - lr: 3.1623e-05\n",
      "Epoch 54/100\n",
      "247/247 [==============================] - 10s 39ms/step - loss: 0.7226 - accuracy: 0.9257 - val_loss: 0.5283 - val_accuracy: 0.9370 - lr: 3.1623e-05\n",
      "Epoch 55/100\n",
      "247/247 [==============================] - 10s 39ms/step - loss: 0.7136 - accuracy: 0.9234 - val_loss: 0.5113 - val_accuracy: 0.9375 - lr: 3.1623e-05\n",
      "Epoch 56/100\n",
      "247/247 [==============================] - 10s 40ms/step - loss: 0.7134 - accuracy: 0.9242 - val_loss: 0.5020 - val_accuracy: 0.9390 - lr: 3.1623e-05\n",
      "Epoch 57/100\n",
      "247/247 [==============================] - 10s 39ms/step - loss: 0.7293 - accuracy: 0.9222 - val_loss: 0.5275 - val_accuracy: 0.9308 - lr: 3.1623e-05\n",
      "Epoch 58/100\n",
      "247/247 [==============================] - 9s 38ms/step - loss: 0.6997 - accuracy: 0.9285 - val_loss: 0.5202 - val_accuracy: 0.9201 - lr: 3.1623e-05\n",
      "Epoch 59/100\n",
      "247/247 [==============================] - 10s 39ms/step - loss: 0.7053 - accuracy: 0.9266 - val_loss: 0.5043 - val_accuracy: 0.9319 - lr: 3.1623e-05\n",
      "Epoch 60/100\n",
      "247/247 [==============================] - 9s 38ms/step - loss: 0.6896 - accuracy: 0.9281 - val_loss: 0.4867 - val_accuracy: 0.9375 - lr: 1.0000e-05\n",
      "Epoch 61/100\n",
      "247/247 [==============================] - 9s 38ms/step - loss: 0.6823 - accuracy: 0.9271 - val_loss: 0.4919 - val_accuracy: 0.9375 - lr: 1.0000e-05\n",
      "Epoch 62/100\n",
      "247/247 [==============================] - 9s 38ms/step - loss: 0.6692 - accuracy: 0.9296 - val_loss: 0.4838 - val_accuracy: 0.9395 - lr: 1.0000e-05\n",
      "Epoch 63/100\n",
      "247/247 [==============================] - 9s 38ms/step - loss: 0.6748 - accuracy: 0.9281 - val_loss: 0.4803 - val_accuracy: 0.9395 - lr: 1.0000e-05\n",
      "Epoch 64/100\n",
      "247/247 [==============================] - 10s 39ms/step - loss: 0.6712 - accuracy: 0.9328 - val_loss: 0.4828 - val_accuracy: 0.9401 - lr: 1.0000e-05\n",
      "Epoch 65/100\n",
      "247/247 [==============================] - 10s 38ms/step - loss: 0.6598 - accuracy: 0.9318 - val_loss: 0.4779 - val_accuracy: 0.9390 - lr: 1.0000e-05\n",
      "Epoch 66/100\n",
      "247/247 [==============================] - 10s 39ms/step - loss: 0.6600 - accuracy: 0.9342 - val_loss: 0.4737 - val_accuracy: 0.9385 - lr: 1.0000e-05\n",
      "Epoch 67/100\n",
      "247/247 [==============================] - 10s 39ms/step - loss: 0.6554 - accuracy: 0.9319 - val_loss: 0.4813 - val_accuracy: 0.9349 - lr: 1.0000e-05\n",
      "Epoch 68/100\n",
      "247/247 [==============================] - 10s 39ms/step - loss: 0.6656 - accuracy: 0.9304 - val_loss: 0.4743 - val_accuracy: 0.9401 - lr: 1.0000e-05\n",
      "Epoch 69/100\n",
      "247/247 [==============================] - 10s 39ms/step - loss: 0.6623 - accuracy: 0.9306 - val_loss: 0.4734 - val_accuracy: 0.9390 - lr: 1.0000e-05\n",
      "Epoch 70/100\n",
      "247/247 [==============================] - 10s 39ms/step - loss: 0.6502 - accuracy: 0.9338 - val_loss: 0.4709 - val_accuracy: 0.9349 - lr: 1.0000e-05\n",
      "Epoch 71/100\n",
      "247/247 [==============================] - 10s 40ms/step - loss: 0.6580 - accuracy: 0.9309 - val_loss: 0.4663 - val_accuracy: 0.9421 - lr: 1.0000e-05\n",
      "Epoch 72/100\n",
      "247/247 [==============================] - 10s 39ms/step - loss: 0.6527 - accuracy: 0.9320 - val_loss: 0.4731 - val_accuracy: 0.9329 - lr: 1.0000e-05\n",
      "Epoch 73/100\n",
      "247/247 [==============================] - 10s 38ms/step - loss: 0.6537 - accuracy: 0.9321 - val_loss: 0.4764 - val_accuracy: 0.9339 - lr: 1.0000e-05\n",
      "Epoch 74/100\n",
      "247/247 [==============================] - 10s 39ms/step - loss: 0.6459 - accuracy: 0.9348 - val_loss: 0.4698 - val_accuracy: 0.9370 - lr: 1.0000e-05\n",
      "Epoch 75/100\n",
      "247/247 [==============================] - 10s 39ms/step - loss: 0.6362 - accuracy: 0.9342 - val_loss: 0.4626 - val_accuracy: 0.9416 - lr: 3.1623e-06\n",
      "Epoch 76/100\n",
      "247/247 [==============================] - 10s 39ms/step - loss: 0.6520 - accuracy: 0.9295 - val_loss: 0.4624 - val_accuracy: 0.9380 - lr: 3.1623e-06\n",
      "Epoch 77/100\n",
      "247/247 [==============================] - 10s 39ms/step - loss: 0.6358 - accuracy: 0.9352 - val_loss: 0.4622 - val_accuracy: 0.9411 - lr: 3.1623e-06\n",
      "Epoch 78/100\n",
      "247/247 [==============================] - 10s 39ms/step - loss: 0.6265 - accuracy: 0.9394 - val_loss: 0.4625 - val_accuracy: 0.9406 - lr: 3.1623e-06\n",
      "Epoch 79/100\n",
      "247/247 [==============================] - 10s 40ms/step - loss: 0.6253 - accuracy: 0.9371 - val_loss: 0.4608 - val_accuracy: 0.9395 - lr: 3.1623e-06\n",
      "Epoch 80/100\n",
      "247/247 [==============================] - 10s 41ms/step - loss: 0.6325 - accuracy: 0.9359 - val_loss: 0.4603 - val_accuracy: 0.9401 - lr: 3.1623e-06\n",
      "Epoch 81/100\n",
      "247/247 [==============================] - 10s 40ms/step - loss: 0.6256 - accuracy: 0.9351 - val_loss: 0.4625 - val_accuracy: 0.9390 - lr: 3.1623e-06\n",
      "Epoch 82/100\n",
      "247/247 [==============================] - 10s 39ms/step - loss: 0.6362 - accuracy: 0.9343 - val_loss: 0.4613 - val_accuracy: 0.9406 - lr: 3.1623e-06\n",
      "Epoch 83/100\n",
      "247/247 [==============================] - 10s 39ms/step - loss: 0.6222 - accuracy: 0.9348 - val_loss: 0.4622 - val_accuracy: 0.9431 - lr: 3.1623e-06\n",
      "Epoch 84/100\n",
      "247/247 [==============================] - 10s 40ms/step - loss: 0.6323 - accuracy: 0.9356 - val_loss: 0.4611 - val_accuracy: 0.9411 - lr: 1.0000e-06\n",
      "Epoch 85/100\n",
      "247/247 [==============================] - 10s 39ms/step - loss: 0.6329 - accuracy: 0.9356 - val_loss: 0.4627 - val_accuracy: 0.9421 - lr: 1.0000e-06\n",
      "Epoch 86/100\n",
      "247/247 [==============================] - 10s 39ms/step - loss: 0.6264 - accuracy: 0.9368 - val_loss: 0.4605 - val_accuracy: 0.9406 - lr: 1.0000e-06\n",
      "Epoch 87/100\n",
      "247/247 [==============================] - 10s 40ms/step - loss: 0.6360 - accuracy: 0.9352 - val_loss: 0.4620 - val_accuracy: 0.9411 - lr: 3.1623e-07\n",
      "Epoch 88/100\n",
      "247/247 [==============================] - 10s 39ms/step - loss: 0.6238 - accuracy: 0.9353 - val_loss: 0.4620 - val_accuracy: 0.9395 - lr: 3.1623e-07\n",
      "Epoch 89/100\n",
      "247/247 [==============================] - 10s 39ms/step - loss: 0.6335 - accuracy: 0.9365 - val_loss: 0.4614 - val_accuracy: 0.9406 - lr: 3.1623e-07\n",
      "Epoch 90/100\n",
      "247/247 [==============================] - 10s 39ms/step - loss: 0.6173 - accuracy: 0.9375 - val_loss: 0.4604 - val_accuracy: 0.9421 - lr: 1.0000e-07\n",
      "Epoch 91/100\n",
      "247/247 [==============================] - 9s 38ms/step - loss: 0.6412 - accuracy: 0.9325 - val_loss: 0.4623 - val_accuracy: 0.9411 - lr: 1.0000e-07\n",
      "Epoch 92/100\n",
      "247/247 [==============================] - 10s 39ms/step - loss: 0.6344 - accuracy: 0.9339 - val_loss: 0.4604 - val_accuracy: 0.9406 - lr: 1.0000e-07\n",
      "Epoch 93/100\n",
      "247/247 [==============================] - 10s 39ms/step - loss: 0.6275 - accuracy: 0.9371 - val_loss: 0.4598 - val_accuracy: 0.9416 - lr: 3.1623e-08\n",
      "Epoch 94/100\n",
      "247/247 [==============================] - 10s 39ms/step - loss: 0.6175 - accuracy: 0.9398 - val_loss: 0.4614 - val_accuracy: 0.9426 - lr: 3.1623e-08\n",
      "Epoch 95/100\n",
      "247/247 [==============================] - 10s 39ms/step - loss: 0.6282 - accuracy: 0.9372 - val_loss: 0.4621 - val_accuracy: 0.9411 - lr: 3.1623e-08\n",
      "Epoch 96/100\n",
      "247/247 [==============================] - 10s 40ms/step - loss: 0.6241 - accuracy: 0.9347 - val_loss: 0.4618 - val_accuracy: 0.9395 - lr: 3.1623e-08\n",
      "Epoch 97/100\n",
      "247/247 [==============================] - 10s 39ms/step - loss: 0.6288 - accuracy: 0.9396 - val_loss: 0.4614 - val_accuracy: 0.9416 - lr: 1.0000e-08\n",
      "Epoch 98/100\n",
      "247/247 [==============================] - 10s 40ms/step - loss: 0.6248 - accuracy: 0.9382 - val_loss: 0.4622 - val_accuracy: 0.9385 - lr: 1.0000e-08\n",
      "Epoch 99/100\n",
      "247/247 [==============================] - 10s 39ms/step - loss: 0.6283 - accuracy: 0.9358 - val_loss: 0.4609 - val_accuracy: 0.9411 - lr: 1.0000e-08\n",
      "Epoch 100/100\n",
      "247/247 [==============================] - 10s 39ms/step - loss: 0.6274 - accuracy: 0.9358 - val_loss: 0.4603 - val_accuracy: 0.9401 - lr: 3.1623e-09\n"
     ]
    }
   ],
   "source": [
    "epochs = 100\n",
    "lr_reducer = tf.keras.callbacks.ReduceLROnPlateau(monitor='val_loss', factor=np.sqrt(0.1), cooldown=0, patience=3, min_lr=0.5e-15)\n",
    "history = model_binary.fit(\n",
    "    train_generator,\n",
    "    steps_per_epoch=len(train_data) // batch_size,\n",
    "    epochs=epochs,\n",
    "    validation_data=validation_generator,\n",
    "    validation_steps=len(test_data) // batch_size,\n",
    "    class_weight=class_weight_dict\n",
    "    , callbacks=[lr_reducer]\n",
    ")"
   ],
   "metadata": {
    "collapsed": false,
    "ExecuteTime": {
     "start_time": "2023-04-26T17:46:50.283556Z",
     "end_time": "2023-04-26T18:02:54.306562Z"
    }
   }
  },
  {
   "cell_type": "code",
   "execution_count": 21,
   "outputs": [
    {
     "data": {
      "text/plain": "<Figure size 432x288 with 1 Axes>",
      "image/png": "[encoded data removed]"
     },
     "metadata": {
      "needs_background": "light"
     },
     "output_type": "display_data"
    }
   ],
   "source": [
    "train_loss = history.history['loss']\n",
    "val_loss = history.history['val_loss']\n",
    "\n",
    "epochs_range = range(1, epochs + 1)\n",
    "\n",
    "plt.plot(epochs_range, train_loss, label='Training Loss')\n",
    "plt.plot(epochs_range, val_loss, label='Validation Loss')\n",
    "\n",
    "plt.legend()\n",
    "plt.title('Training and Validation Loss')\n",
    "plt.xlabel('Epoch')\n",
    "plt.ylabel('Loss')\n",
    "\n",
    "plt.show()"
   ],
   "metadata": {
    "collapsed": false,
    "ExecuteTime": {
     "start_time": "2023-04-26T18:02:54.314524Z",
     "end_time": "2023-04-26T18:02:54.373040Z"
    }
   }
  },
  {
   "cell_type": "code",
   "execution_count": 22,
   "outputs": [
    {
     "data": {
      "text/plain": "<Figure size 432x288 with 1 Axes>",
      "image/png": "[encoded data removed]"
     },
     "metadata": {
      "needs_background": "light"
     },
     "output_type": "display_data"
    }
   ],
   "source": [
    "train_accuracy = history.history['accuracy']\n",
    "val_accuracy = history.history['val_accuracy']\n",
    "\n",
    "epochs_range = range(1, epochs + 1)\n",
    "\n",
    "plt.plot(epochs_range, train_accuracy, label='Training Accuracy')\n",
    "plt.plot(epochs_range, val_accuracy, label='Validation Accuracy')\n",
    "\n",
    "plt.legend()\n",
    "plt.title('Training and Validation Accuracy')\n",
    "plt.xlabel('Epoch')\n",
    "plt.ylabel('Accuracy')\n",
    "\n",
    "plt.show()"
   ],
   "metadata": {
    "collapsed": false,
    "ExecuteTime": {
     "start_time": "2023-04-26T18:02:54.386174Z",
     "end_time": "2023-04-26T18:02:54.439156Z"
    }
   }
  },
  {
   "cell_type": "code",
   "execution_count": 23,
   "outputs": [
    {
     "ename": "KeyError",
     "evalue": "'precision_3'",
     "output_type": "error",
     "traceback": [
      "\u001B[0;31m---------------------------------------------------------------------------\u001B[0m",
      "\u001B[0;31mKeyError\u001B[0m                                  Traceback (most recent call last)",
      "Input \u001B[0;32mIn [23]\u001B[0m, in \u001B[0;36m<cell line: 1>\u001B[0;34m()\u001B[0m\n\u001B[0;32m----> 1\u001B[0m train_precision \u001B[38;5;241m=\u001B[39m \u001B[43mhistory\u001B[49m\u001B[38;5;241;43m.\u001B[39;49m\u001B[43mhistory\u001B[49m\u001B[43m[\u001B[49m\u001B[38;5;124;43m'\u001B[39;49m\u001B[38;5;124;43mprecision_3\u001B[39;49m\u001B[38;5;124;43m'\u001B[39;49m\u001B[43m]\u001B[49m\n\u001B[1;32m      2\u001B[0m val_precision \u001B[38;5;241m=\u001B[39m history\u001B[38;5;241m.\u001B[39mhistory[\u001B[38;5;124m'\u001B[39m\u001B[38;5;124mval_precision_3\u001B[39m\u001B[38;5;124m'\u001B[39m]\n\u001B[1;32m      4\u001B[0m epochs_range \u001B[38;5;241m=\u001B[39m \u001B[38;5;28mrange\u001B[39m(\u001B[38;5;241m1\u001B[39m, epochs \u001B[38;5;241m+\u001B[39m \u001B[38;5;241m1\u001B[39m)\n",
      "\u001B[0;31mKeyError\u001B[0m: 'precision_3'"
     ]
    }
   ],
   "source": [
    "train_precision = history.history['precision_3']\n",
    "val_precision = history.history['val_precision_3']\n",
    "\n",
    "epochs_range = range(1, epochs + 1)\n",
    "\n",
    "plt.plot(epochs_range, train_precision, label='Training Precision')\n",
    "plt.plot(epochs_range, val_precision, label='Validation Precision')\n",
    "\n",
    "plt.legend()\n",
    "plt.title('Training and Validation Precision')\n",
    "plt.xlabel('Epoch')\n",
    "plt.ylabel('Precision')\n",
    "\n",
    "plt.show()"
   ],
   "metadata": {
    "collapsed": false,
    "ExecuteTime": {
     "start_time": "2023-04-24T13:36:48.762882Z",
     "end_time": "2023-04-24T13:36:49.113032Z"
    }
   }
  },
  {
   "cell_type": "code",
   "execution_count": null,
   "outputs": [],
   "source": [
    "train_recall = history.history['recall_3']\n",
    "val_recall = history.history['val_recall_3']\n",
    "\n",
    "epochs_range = range(1, epochs + 1)\n",
    "\n",
    "plt.plot(epochs_range, train_recall, label='Training Recall')\n",
    "plt.plot(epochs_range, val_recall, label='Validation Recall')\n",
    "\n",
    "plt.legend()\n",
    "plt.title('Training and Validation Recall')\n",
    "plt.xlabel('Epoch')\n",
    "plt.ylabel('Recall')\n",
    "\n",
    "plt.show()"
   ],
   "metadata": {
    "collapsed": false,
    "ExecuteTime": {
     "start_time": "2023-04-24T13:36:50.276624Z",
     "end_time": "2023-04-24T13:36:50.355222Z"
    }
   }
  },
  {
   "cell_type": "code",
   "execution_count": null,
   "outputs": [],
   "source": [
    "train_f1 = history.history['f1_score']\n",
    "val_f1 = history.history['val_f1_score']\n",
    "\n",
    "epochs_range = range(1, epochs + 1)\n",
    "\n",
    "plt.plot(epochs_range, train_f1, label='Training F1')\n",
    "plt.plot(epochs_range, val_f1, label='Validation F1')\n",
    "\n",
    "plt.legend()\n",
    "plt.title('Training and Validation F1 Score')\n",
    "plt.xlabel('Epoch')\n",
    "plt.ylabel('Recall')\n",
    "\n",
    "plt.show()"
   ],
   "metadata": {
    "collapsed": false,
    "ExecuteTime": {
     "start_time": "2023-04-24T13:36:53.429497Z",
     "end_time": "2023-04-24T13:36:53.500714Z"
    }
   }
  }
 ],
 "metadata": {
  "kernelspec": {
   "display_name": "Python 3",
   "language": "python",
   "name": "python3"
  },
  "language_info": {
   "codemirror_mode": {
    "name": "ipython",
    "version": 2
   },
   "file_extension": ".py",
   "mimetype": "text/x-python",
   "name": "python",
   "nbconvert_exporter": "python",
   "pygments_lexer": "ipython2",
   "version": "2.7.6"
  }
 },
 "nbformat": 4,
 "nbformat_minor": 0
}
