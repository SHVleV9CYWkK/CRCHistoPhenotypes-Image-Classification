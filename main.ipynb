{
 "cells": [
  {
   "cell_type": "code",
   "execution_count": 66,
   "metadata": {
    "collapsed": true,
    "ExecuteTime": {
     "start_time": "2023-04-24T16:21:03.928390Z",
     "end_time": "2023-04-24T16:21:06.576904Z"
    }
   },
   "outputs": [],
   "source": [
    "import pandas as pd\n",
    "import matplotlib.pyplot as plt\n",
    "import numpy as np\n",
    "import tensorflow as tf\n",
    "import tensorflow_addons as tfa\n",
    "from sklearn.model_selection import train_test_split"
   ]
  },
  {
   "cell_type": "code",
   "execution_count": 67,
   "outputs": [],
   "source": [
    "data = pd.read_csv('./Image_classification_data/data_labels_mainData.csv')\n",
    "train_data, test_data = train_test_split(data, test_size=0.2, random_state=42)"
   ],
   "metadata": {
    "collapsed": false,
    "ExecuteTime": {
     "start_time": "2023-04-24T16:21:06.577893Z",
     "end_time": "2023-04-24T16:21:06.586433Z"
    }
   }
  },
  {
   "cell_type": "code",
   "execution_count": 68,
   "outputs": [
    {
     "data": {
      "text/plain": "([<matplotlib.axis.XTick at 0x7faa7545e130>,\n  <matplotlib.axis.XTick at 0x7faa7545e100>,\n  <matplotlib.axis.XTick at 0x7faa74dde7c0>,\n  <matplotlib.axis.XTick at 0x7faa755e0e20>],\n [Text(0, 0, ''), Text(0, 0, ''), Text(0, 0, ''), Text(0, 0, '')])"
     },
     "execution_count": 68,
     "metadata": {},
     "output_type": "execute_result"
    },
    {
     "data": {
      "text/plain": "<Figure size 640x480 with 1 Axes>",
      "image/png": "[encoded data removed]"
     },
     "metadata": {},
     "output_type": "display_data"
    }
   ],
   "source": [
    "def plot_bar(data, color, label, ax):\n",
    "    counts = data['cellType'].value_counts()\n",
    "    ax.bar(counts.index, counts.values, color=color, alpha=0.3, label=label)\n",
    "fig, ax = plt.subplots()\n",
    "plot_bar(train_data, 'b', 'Train', ax)\n",
    "plot_bar(test_data, 'r', 'Test', ax)\n",
    "plot_bar(data, 'g', 'All Data', ax)\n",
    "\n",
    "plt.title('cellType')\n",
    "plt.xlabel('Cell Type')\n",
    "plt.ylabel('Count')\n",
    "plt.xticks(range(4))\n",
    "\n"
   ],
   "metadata": {
    "collapsed": false,
    "ExecuteTime": {
     "start_time": "2023-04-24T16:21:06.587317Z",
     "end_time": "2023-04-24T16:21:06.675030Z"
    }
   }
  },
  {
   "cell_type": "code",
   "execution_count": 69,
   "outputs": [],
   "source": [
    "train_data['cellType'] = train_data['cellType'].astype(str)\n",
    "test_data['cellType'] = test_data['cellType'].astype(str)\n",
    "class_samples = train_data['cellType'].value_counts()\n",
    "total_samples = np.sum(class_samples)\n",
    "class_weights = total_samples / class_samples\n",
    "class_weight_dict = {int(k): v for k, v in class_weights.to_dict().items()}"
   ],
   "metadata": {
    "collapsed": false,
    "ExecuteTime": {
     "start_time": "2023-04-24T16:21:06.676537Z",
     "end_time": "2023-04-24T16:21:06.677992Z"
    }
   }
  },
  {
   "cell_type": "code",
   "execution_count": 70,
   "outputs": [
    {
     "name": "stdout",
     "output_type": "stream",
     "text": [
      "Found 7916 validated image filenames belonging to 4 classes.\n",
      "Found 1980 validated image filenames belonging to 4 classes.\n"
     ]
    }
   ],
   "source": [
    "batch_size = 32\n",
    "train_datagen = tf.keras.preprocessing.image.ImageDataGenerator(\n",
    "    rescale=1./255,\n",
    "    rotation_range=40,\n",
    "    width_shift_range=0.2,\n",
    "    height_shift_range=0.2,\n",
    "    shear_range=0.2,\n",
    "    zoom_range=0.2,\n",
    "    horizontal_flip=True,\n",
    "    vertical_flip=True,\n",
    "    fill_mode='nearest'\n",
    ")\n",
    "\n",
    "test_datagen = tf.keras.preprocessing.image.ImageDataGenerator(\n",
    "    rescale=1./255\n",
    ")\n",
    "\n",
    "train_generator = train_datagen.flow_from_dataframe(\n",
    "    train_data,\n",
    "    directory='./Image_classification_data/patch_images',\n",
    "    x_col='ImageName',\n",
    "    y_col='cellType',\n",
    "    target_size=(27, 27),\n",
    "    batch_size=batch_size,\n",
    "    class_mode='categorical')\n",
    "\n",
    "validation_generator = test_datagen.flow_from_dataframe(\n",
    "    test_data,\n",
    "    directory='./Image_classification_data/patch_images',\n",
    "    x_col='ImageName',\n",
    "    y_col='cellType',\n",
    "    target_size=(27, 27),\n",
    "    batch_size=batch_size,\n",
    "    class_mode='categorical')"
   ],
   "metadata": {
    "collapsed": false,
    "ExecuteTime": {
     "start_time": "2023-04-24T16:21:06.686558Z",
     "end_time": "2023-04-24T16:21:06.778675Z"
    }
   }
  },
  {
   "cell_type": "markdown",
   "source": [
    "三层卷积，池化。+64，32，16MPL。bc=16，lr=0.001。目前表现最佳。"
   ],
   "metadata": {
    "collapsed": false
   }
  },
  {
   "cell_type": "code",
   "execution_count": 71,
   "outputs": [
    {
     "name": "stdout",
     "output_type": "stream",
     "text": [
      "Model: \"sequential\"\n",
      "_________________________________________________________________\n",
      " Layer (type)                Output Shape              Param #   \n",
      "=================================================================\n",
      " conv2d (Conv2D)             (None, 27, 27, 32)        896       \n",
      "                                                                 \n",
      " batch_normalization (BatchN  (None, 27, 27, 32)       128       \n",
      " ormalization)                                                   \n",
      "                                                                 \n",
      " conv2d_1 (Conv2D)           (None, 25, 25, 32)        9248      \n",
      "                                                                 \n",
      " batch_normalization_1 (Batc  (None, 25, 25, 32)       128       \n",
      " hNormalization)                                                 \n",
      "                                                                 \n",
      " max_pooling2d (MaxPooling2D  (None, 12, 12, 32)       0         \n",
      " )                                                               \n",
      "                                                                 \n",
      " conv2d_2 (Conv2D)           (None, 12, 12, 64)        18496     \n",
      "                                                                 \n",
      " batch_normalization_2 (Batc  (None, 12, 12, 64)       256       \n",
      " hNormalization)                                                 \n",
      "                                                                 \n",
      " conv2d_3 (Conv2D)           (None, 10, 10, 64)        36928     \n",
      "                                                                 \n",
      " batch_normalization_3 (Batc  (None, 10, 10, 64)       256       \n",
      " hNormalization)                                                 \n",
      "                                                                 \n",
      " max_pooling2d_1 (MaxPooling  (None, 5, 5, 64)         0         \n",
      " 2D)                                                             \n",
      "                                                                 \n",
      " flatten (Flatten)           (None, 1600)              0         \n",
      "                                                                 \n",
      " dense (Dense)               (None, 512)               819712    \n",
      "                                                                 \n",
      " batch_normalization_4 (Batc  (None, 512)              2048      \n",
      " hNormalization)                                                 \n",
      "                                                                 \n",
      " dropout (Dropout)           (None, 512)               0         \n",
      "                                                                 \n",
      " dense_1 (Dense)             (None, 512)               262656    \n",
      "                                                                 \n",
      " batch_normalization_5 (Batc  (None, 512)              2048      \n"
     ]
    },
    {
     "name": "stderr",
     "output_type": "stream",
     "text": [
      "2023-05-01 07:48:25.976478: I tensorflow/core/platform/cpu_feature_guard.cc:193] This TensorFlow binary is optimized with oneAPI Deep Neural Network Library (oneDNN) to use the following CPU instructions in performance-critical operations:  SSE4.1 SSE4.2\n",
      "To enable them in other operations, rebuild TensorFlow with the appropriate compiler flags.\n"
     ]
    },
    {
     "name": "stdout",
     "output_type": "stream",
     "text": [
      " hNormalization)                                                 \n",
      "                                                                 \n",
      " dropout_1 (Dropout)         (None, 512)               0         \n",
      "                                                                 \n",
      " dense_2 (Dense)             (None, 4)                 2052      \n",
      "                                                                 \n",
      "=================================================================\n",
      "Total params: 1,154,852\n",
      "Trainable params: 1,152,420\n",
      "Non-trainable params: 2,432\n",
      "_________________________________________________________________\n"
     ]
    }
   ],
   "source": [
    "input_shape = (27, 27, 3)\n",
    "num_classes = 4\n",
    "l2_coeff = 0.01\n",
    "\n",
    "model = tf.keras.models.Sequential([\n",
    "    tf.keras.layers.Conv2D(32, (3,3), activation='relu', input_shape=input_shape, padding='same', kernel_regularizer=tf.keras.regularizers.l2(l2_coeff)),\n",
    "    tf.keras.layers.BatchNormalization(),\n",
    "    tf.keras.layers.Conv2D(32, (3,3), activation='relu', kernel_regularizer=tf.keras.regularizers.l2(l2_coeff)),\n",
    "    tf.keras.layers.BatchNormalization(),\n",
    "    tf.keras.layers.MaxPooling2D(2, 2),\n",
    "    tf.keras.layers.Conv2D(64, (3,3), activation='relu', padding='same', kernel_regularizer=tf.keras.regularizers.l2(l2_coeff)),\n",
    "    tf.keras.layers.BatchNormalization(),\n",
    "    tf.keras.layers.Conv2D(64, (3,3), activation='relu', kernel_regularizer=tf.keras.regularizers.l2(l2_coeff)),\n",
    "    tf.keras.layers.BatchNormalization(),\n",
    "    tf.keras.layers.MaxPooling2D(2, 2),\n",
    "    tf.keras.layers.Flatten(),\n",
    "    tf.keras.layers.Dense(512, activation='relu', kernel_regularizer=tf.keras.regularizers.l2(l2_coeff)),\n",
    "    tf.keras.layers.BatchNormalization(),\n",
    "    tf.keras.layers.Dropout(0.2),\n",
    "    tf.keras.layers.Dense(512, activation='relu', kernel_regularizer=tf.keras.regularizers.l2(l2_coeff)),\n",
    "    tf.keras.layers.BatchNormalization(),\n",
    "    tf.keras.layers.Dropout(0.2),\n",
    "    tf.keras.layers.Dense(num_classes, activation='softmax')\n",
    "])\n",
    "\n",
    "model.summary()"
   ],
   "metadata": {
    "collapsed": false,
    "ExecuteTime": {
     "start_time": "2023-04-24T16:21:06.800890Z",
     "end_time": "2023-04-24T16:21:07.020678Z"
    }
   }
  },
  {
   "cell_type": "code",
   "execution_count": 72,
   "outputs": [],
   "source": [
    "model.compile(loss='categorical_crossentropy',\n",
    "              optimizer=tf.keras.optimizers.legacy.Adam(learning_rate=0.0001),\n",
    "              metrics=['accuracy', tf.keras.metrics.Precision(), tf.keras.metrics.Recall(), tfa.metrics.F1Score(num_classes=4, average='macro')])"
   ],
   "metadata": {
    "collapsed": false,
    "ExecuteTime": {
     "start_time": "2023-04-24T16:21:07.028857Z",
     "end_time": "2023-04-24T16:21:07.048542Z"
    }
   }
  },
  {
   "cell_type": "code",
   "execution_count": null,
   "outputs": [
    {
     "name": "stdout",
     "output_type": "stream",
     "text": [
      "Epoch 1/200\n",
      "247/247 [==============================] - 11s 40ms/step - loss: 19.4013 - accuracy: 0.5548 - precision: 0.5955 - recall: 0.5042 - f1_score: 0.5051 - val_loss: 16.5557 - val_accuracy: 0.4016 - val_precision: 0.4016 - val_recall: 0.4016 - val_f1_score: 0.1433 - lr: 1.0000e-04\n",
      "Epoch 2/200\n",
      "247/247 [==============================] - 9s 37ms/step - loss: 18.3799 - accuracy: 0.6115 - precision: 0.6546 - recall: 0.5633 - f1_score: 0.5629 - val_loss: 14.8183 - val_accuracy: 0.6245 - val_precision: 0.6981 - val_recall: 0.5425 - val_f1_score: 0.5083 - lr: 1.0000e-04\n",
      "Epoch 3/200\n",
      "247/247 [==============================] - 9s 38ms/step - loss: 17.8727 - accuracy: 0.6324 - precision: 0.6746 - recall: 0.5800 - f1_score: 0.5839 - val_loss: 14.3763 - val_accuracy: 0.6880 - val_precision: 0.7256 - val_recall: 0.6327 - val_f1_score: 0.6484 - lr: 1.0000e-04\n",
      "Epoch 4/200\n",
      "247/247 [==============================] - 10s 38ms/step - loss: 17.3833 - accuracy: 0.6437 - precision: 0.6885 - recall: 0.5930 - f1_score: 0.5955 - val_loss: 14.1812 - val_accuracy: 0.6670 - val_precision: 0.6958 - val_recall: 0.6317 - val_f1_score: 0.6252 - lr: 1.0000e-04\n",
      "Epoch 5/200\n",
      "247/247 [==============================] - 10s 40ms/step - loss: 16.8634 - accuracy: 0.6640 - precision: 0.7098 - recall: 0.6130 - f1_score: 0.6204 - val_loss: 13.8913 - val_accuracy: 0.6619 - val_precision: 0.6915 - val_recall: 0.6178 - val_f1_score: 0.6368 - lr: 1.0000e-04\n",
      "Epoch 6/200\n",
      "247/247 [==============================] - 10s 40ms/step - loss: 16.5730 - accuracy: 0.6603 - precision: 0.7081 - recall: 0.6068 - f1_score: 0.6128 - val_loss: 13.4932 - val_accuracy: 0.7065 - val_precision: 0.7425 - val_recall: 0.6721 - val_f1_score: 0.6508 - lr: 1.0000e-04\n",
      "Epoch 7/200\n",
      "247/247 [==============================] - 10s 41ms/step - loss: 16.1455 - accuracy: 0.6722 - precision: 0.7154 - recall: 0.6204 - f1_score: 0.6271 - val_loss: 13.1409 - val_accuracy: 0.7203 - val_precision: 0.7592 - val_recall: 0.6834 - val_f1_score: 0.6821 - lr: 1.0000e-04\n",
      "Epoch 8/200\n",
      "247/247 [==============================] - 10s 42ms/step - loss: 15.7613 - accuracy: 0.6877 - precision: 0.7348 - recall: 0.6280 - f1_score: 0.6456 - val_loss: 13.1983 - val_accuracy: 0.5856 - val_precision: 0.6132 - val_recall: 0.5410 - val_f1_score: 0.5758 - lr: 1.0000e-04\n",
      "Epoch 9/200\n",
      "247/247 [==============================] - 10s 42ms/step - loss: 15.3837 - accuracy: 0.6832 - precision: 0.7375 - recall: 0.6299 - f1_score: 0.6374 - val_loss: 12.6140 - val_accuracy: 0.7013 - val_precision: 0.7223 - val_recall: 0.6609 - val_f1_score: 0.6540 - lr: 1.0000e-04\n",
      "Epoch 10/200\n",
      "247/247 [==============================] - 11s 43ms/step - loss: 14.9537 - accuracy: 0.6942 - precision: 0.7391 - recall: 0.6407 - f1_score: 0.6506 - val_loss: 12.2174 - val_accuracy: 0.7234 - val_precision: 0.7443 - val_recall: 0.6829 - val_f1_score: 0.6567 - lr: 1.0000e-04\n",
      "Epoch 11/200\n",
      "247/247 [==============================] - 11s 43ms/step - loss: 14.6411 - accuracy: 0.6944 - precision: 0.7376 - recall: 0.6370 - f1_score: 0.6489 - val_loss: 12.0843 - val_accuracy: 0.6445 - val_precision: 0.6830 - val_recall: 0.6004 - val_f1_score: 0.6078 - lr: 1.0000e-04\n",
      "Epoch 12/200\n",
      "247/247 [==============================] - 11s 44ms/step - loss: 14.2657 - accuracy: 0.7041 - precision: 0.7563 - recall: 0.6419 - f1_score: 0.6622 - val_loss: 11.5523 - val_accuracy: 0.7193 - val_precision: 0.7521 - val_recall: 0.6839 - val_f1_score: 0.6569 - lr: 1.0000e-04\n",
      "Epoch 13/200\n",
      "247/247 [==============================] - 11s 43ms/step - loss: 13.9036 - accuracy: 0.7076 - precision: 0.7560 - recall: 0.6511 - f1_score: 0.6643 - val_loss: 11.3824 - val_accuracy: 0.6378 - val_precision: 0.6640 - val_recall: 0.6004 - val_f1_score: 0.6076 - lr: 1.0000e-04\n",
      "Epoch 14/200\n",
      "247/247 [==============================] - 11s 44ms/step - loss: 13.5024 - accuracy: 0.7137 - precision: 0.7610 - recall: 0.6626 - f1_score: 0.6704 - val_loss: 11.0065 - val_accuracy: 0.6568 - val_precision: 0.6884 - val_recall: 0.6112 - val_f1_score: 0.6256 - lr: 1.0000e-04\n",
      "Epoch 15/200\n",
      "247/247 [==============================] - 11s 44ms/step - loss: 13.1609 - accuracy: 0.7169 - precision: 0.7610 - recall: 0.6587 - f1_score: 0.6750 - val_loss: 10.4832 - val_accuracy: 0.7480 - val_precision: 0.7796 - val_recall: 0.7049 - val_f1_score: 0.7015 - lr: 1.0000e-04\n",
      "Epoch 16/200\n",
      "247/247 [==============================] - 11s 45ms/step - loss: 12.7907 - accuracy: 0.7175 - precision: 0.7686 - recall: 0.6569 - f1_score: 0.6745 - val_loss: 10.1194 - val_accuracy: 0.7536 - val_precision: 0.7898 - val_recall: 0.7121 - val_f1_score: 0.7058 - lr: 1.0000e-04\n",
      "Epoch 17/200\n",
      "247/247 [==============================] - 11s 45ms/step - loss: 12.4119 - accuracy: 0.7183 - precision: 0.7701 - recall: 0.6608 - f1_score: 0.6774 - val_loss: 10.2970 - val_accuracy: 0.5548 - val_precision: 0.5694 - val_recall: 0.5251 - val_f1_score: 0.5155 - lr: 1.0000e-04\n",
      "Epoch 18/200\n",
      "247/247 [==============================] - 11s 45ms/step - loss: 12.0069 - accuracy: 0.7292 - precision: 0.7764 - recall: 0.6743 - f1_score: 0.6879 - val_loss: 9.5528 - val_accuracy: 0.7249 - val_precision: 0.7450 - val_recall: 0.7034 - val_f1_score: 0.6626 - lr: 1.0000e-04\n",
      "Epoch 19/200\n",
      "247/247 [==============================] - 11s 45ms/step - loss: 11.6632 - accuracy: 0.7312 - precision: 0.7830 - recall: 0.6769 - f1_score: 0.6905 - val_loss: 9.1317 - val_accuracy: 0.7449 - val_precision: 0.7901 - val_recall: 0.7018 - val_f1_score: 0.6976 - lr: 1.0000e-04\n",
      "Epoch 20/200\n",
      "247/247 [==============================] - 11s 46ms/step - loss: 11.2649 - accuracy: 0.7265 - precision: 0.7742 - recall: 0.6696 - f1_score: 0.6871 - val_loss: 8.7108 - val_accuracy: 0.7848 - val_precision: 0.8187 - val_recall: 0.7403 - val_f1_score: 0.7469 - lr: 1.0000e-04\n",
      "Epoch 21/200\n",
      "247/247 [==============================] - 11s 45ms/step - loss: 10.8750 - accuracy: 0.7392 - precision: 0.7876 - recall: 0.6873 - f1_score: 0.7008 - val_loss: 8.5380 - val_accuracy: 0.7116 - val_precision: 0.7456 - val_recall: 0.6726 - val_f1_score: 0.6737 - lr: 1.0000e-04\n",
      "Epoch 22/200\n",
      "247/247 [==============================] - 11s 45ms/step - loss: 10.5209 - accuracy: 0.7426 - precision: 0.7886 - recall: 0.6904 - f1_score: 0.7035 - val_loss: 8.4623 - val_accuracy: 0.6004 - val_precision: 0.6136 - val_recall: 0.5727 - val_f1_score: 0.5734 - lr: 1.0000e-04\n",
      "Epoch 23/200\n",
      "247/247 [==============================] - 11s 45ms/step - loss: 10.2238 - accuracy: 0.7366 - precision: 0.7868 - recall: 0.6856 - f1_score: 0.6986 - val_loss: 7.8962 - val_accuracy: 0.7239 - val_precision: 0.7575 - val_recall: 0.6819 - val_f1_score: 0.6991 - lr: 1.0000e-04\n",
      "Epoch 24/200\n",
      "247/247 [==============================] - 12s 47ms/step - loss: 9.8929 - accuracy: 0.7477 - precision: 0.7924 - recall: 0.6911 - f1_score: 0.7098 - val_loss: 7.5576 - val_accuracy: 0.7264 - val_precision: 0.7705 - val_recall: 0.6844 - val_f1_score: 0.6917 - lr: 1.0000e-04\n",
      "Epoch 25/200\n",
      "247/247 [==============================] - 11s 46ms/step - loss: 9.5470 - accuracy: 0.7476 - precision: 0.7925 - recall: 0.6932 - f1_score: 0.7112 - val_loss: 7.2351 - val_accuracy: 0.7526 - val_precision: 0.7827 - val_recall: 0.7141 - val_f1_score: 0.6869 - lr: 1.0000e-04\n",
      "Epoch 26/200\n",
      "247/247 [==============================] - 11s 46ms/step - loss: 9.1942 - accuracy: 0.7511 - precision: 0.8019 - recall: 0.6995 - f1_score: 0.7162 - val_loss: 7.1602 - val_accuracy: 0.6849 - val_precision: 0.7124 - val_recall: 0.6511 - val_f1_score: 0.6463 - lr: 1.0000e-04\n",
      "Epoch 27/200\n",
      "247/247 [==============================] - 12s 47ms/step - loss: 8.9618 - accuracy: 0.7530 - precision: 0.7947 - recall: 0.7000 - f1_score: 0.7157 - val_loss: 6.6395 - val_accuracy: 0.7367 - val_precision: 0.7769 - val_recall: 0.6921 - val_f1_score: 0.6949 - lr: 1.0000e-04\n",
      "Epoch 28/200\n",
      "247/247 [==============================] - 11s 46ms/step - loss: 8.6469 - accuracy: 0.7529 - precision: 0.7981 - recall: 0.6976 - f1_score: 0.7159 - val_loss: 6.6579 - val_accuracy: 0.6311 - val_precision: 0.6689 - val_recall: 0.5702 - val_f1_score: 0.6135 - lr: 1.0000e-04\n",
      "Epoch 29/200\n",
      "247/247 [==============================] - 12s 46ms/step - loss: 8.3566 - accuracy: 0.7524 - precision: 0.8027 - recall: 0.7013 - f1_score: 0.7175 - val_loss: 6.0922 - val_accuracy: 0.7736 - val_precision: 0.8103 - val_recall: 0.7285 - val_f1_score: 0.7471 - lr: 1.0000e-04\n",
      "Epoch 30/200\n",
      "247/247 [==============================] - 12s 49ms/step - loss: 8.1012 - accuracy: 0.7568 - precision: 0.8012 - recall: 0.7046 - f1_score: 0.7189 - val_loss: 5.9037 - val_accuracy: 0.7536 - val_precision: 0.7923 - val_recall: 0.7034 - val_f1_score: 0.7090 - lr: 1.0000e-04\n",
      "Epoch 31/200\n",
      "247/247 [==============================] - 12s 48ms/step - loss: 7.8160 - accuracy: 0.7633 - precision: 0.8073 - recall: 0.7095 - f1_score: 0.7279 - val_loss: 5.5788 - val_accuracy: 0.7859 - val_precision: 0.8173 - val_recall: 0.7495 - val_f1_score: 0.7533 - lr: 1.0000e-04\n",
      "Epoch 32/200\n",
      "247/247 [==============================] - 12s 48ms/step - loss: 7.5655 - accuracy: 0.7604 - precision: 0.8026 - recall: 0.7064 - f1_score: 0.7261 - val_loss: 5.5635 - val_accuracy: 0.7116 - val_precision: 0.7291 - val_recall: 0.6895 - val_f1_score: 0.6637 - lr: 1.0000e-04\n",
      "Epoch 33/200\n",
      "247/247 [==============================] - 12s 48ms/step - loss: 7.3409 - accuracy: 0.7598 - precision: 0.8056 - recall: 0.7080 - f1_score: 0.7244 - val_loss: 5.1976 - val_accuracy: 0.7490 - val_precision: 0.7896 - val_recall: 0.7054 - val_f1_score: 0.7117 - lr: 1.0000e-04\n",
      "Epoch 34/200\n",
      "247/247 [==============================] - 12s 47ms/step - loss: 7.1145 - accuracy: 0.7615 - precision: 0.8068 - recall: 0.7108 - f1_score: 0.7243 - val_loss: 4.9516 - val_accuracy: 0.7654 - val_precision: 0.8055 - val_recall: 0.7213 - val_f1_score: 0.7216 - lr: 1.0000e-04\n",
      "Epoch 35/200\n",
      "247/247 [==============================] - 12s 47ms/step - loss: 6.7996 - accuracy: 0.7733 - precision: 0.8227 - recall: 0.7260 - f1_score: 0.7391 - val_loss: 5.0829 - val_accuracy: 0.6270 - val_precision: 0.6626 - val_recall: 0.5825 - val_f1_score: 0.6021 - lr: 1.0000e-04\n",
      "Epoch 36/200\n",
      "247/247 [==============================] - 12s 49ms/step - loss: 6.6923 - accuracy: 0.7626 - precision: 0.8109 - recall: 0.7146 - f1_score: 0.7278 - val_loss: 4.5624 - val_accuracy: 0.7674 - val_precision: 0.8135 - val_recall: 0.7198 - val_f1_score: 0.7373 - lr: 1.0000e-04\n",
      "Epoch 37/200\n",
      "247/247 [==============================] - 12s 48ms/step - loss: 6.4850 - accuracy: 0.7714 - precision: 0.8138 - recall: 0.7230 - f1_score: 0.7362 - val_loss: 4.4302 - val_accuracy: 0.7592 - val_precision: 0.7993 - val_recall: 0.7223 - val_f1_score: 0.7086 - lr: 1.0000e-04\n",
      "Epoch 38/200\n",
      "247/247 [==============================] - 12s 49ms/step - loss: 6.2934 - accuracy: 0.7761 - precision: 0.8218 - recall: 0.7275 - f1_score: 0.7406 - val_loss: 4.1705 - val_accuracy: 0.7966 - val_precision: 0.8365 - val_recall: 0.7602 - val_f1_score: 0.7636 - lr: 1.0000e-04\n",
      "Epoch 39/200\n",
      "247/247 [==============================] - 13s 51ms/step - loss: 6.1259 - accuracy: 0.7763 - precision: 0.8255 - recall: 0.7212 - f1_score: 0.7411 - val_loss: 4.0135 - val_accuracy: 0.7966 - val_precision: 0.8310 - val_recall: 0.7659 - val_f1_score: 0.7611 - lr: 1.0000e-04\n",
      "Epoch 40/200\n",
      "247/247 [==============================] - 13s 51ms/step - loss: 5.9327 - accuracy: 0.7742 - precision: 0.8175 - recall: 0.7246 - f1_score: 0.7411 - val_loss: 3.9984 - val_accuracy: 0.7249 - val_precision: 0.7595 - val_recall: 0.6829 - val_f1_score: 0.6991 - lr: 1.0000e-04\n",
      "Epoch 41/200\n",
      "247/247 [==============================] - 12s 50ms/step - loss: 5.7997 - accuracy: 0.7808 - precision: 0.8222 - recall: 0.7330 - f1_score: 0.7484 - val_loss: 3.7564 - val_accuracy: 0.7746 - val_precision: 0.8053 - val_recall: 0.7269 - val_f1_score: 0.7400 - lr: 1.0000e-04\n",
      "Epoch 42/200\n",
      "247/247 [==============================] - 13s 51ms/step - loss: 5.6354 - accuracy: 0.7835 - precision: 0.8275 - recall: 0.7352 - f1_score: 0.7511 - val_loss: 3.6270 - val_accuracy: 0.7797 - val_precision: 0.8189 - val_recall: 0.7485 - val_f1_score: 0.7429 - lr: 1.0000e-04\n",
      "Epoch 43/200\n",
      "247/247 [==============================] - 12s 50ms/step - loss: 5.4717 - accuracy: 0.7811 - precision: 0.8259 - recall: 0.7287 - f1_score: 0.7465 - val_loss: 3.4875 - val_accuracy: 0.7838 - val_precision: 0.8275 - val_recall: 0.7346 - val_f1_score: 0.7563 - lr: 1.0000e-04\n",
      "Epoch 44/200\n",
      "247/247 [==============================] - 13s 52ms/step - loss: 5.4211 - accuracy: 0.7775 - precision: 0.8226 - recall: 0.7281 - f1_score: 0.7430 - val_loss: 3.4326 - val_accuracy: 0.7561 - val_precision: 0.7821 - val_recall: 0.7136 - val_f1_score: 0.7229 - lr: 1.0000e-04\n",
      "Epoch 45/200\n",
      "247/247 [==============================] - 13s 51ms/step - loss: 5.2381 - accuracy: 0.7820 - precision: 0.8236 - recall: 0.7339 - f1_score: 0.7488 - val_loss: 3.4255 - val_accuracy: 0.7116 - val_precision: 0.7361 - val_recall: 0.6716 - val_f1_score: 0.6848 - lr: 1.0000e-04\n",
      "Epoch 46/200\n",
      "247/247 [==============================] - 13s 51ms/step - loss: 5.1284 - accuracy: 0.7827 - precision: 0.8252 - recall: 0.7341 - f1_score: 0.7492 - val_loss: 3.2290 - val_accuracy: 0.7490 - val_precision: 0.7788 - val_recall: 0.7106 - val_f1_score: 0.7148 - lr: 1.0000e-04\n",
      "Epoch 47/200\n",
      "247/247 [==============================] - 13s 52ms/step - loss: 5.0371 - accuracy: 0.7785 - precision: 0.8231 - recall: 0.7343 - f1_score: 0.7464 - val_loss: 3.0547 - val_accuracy: 0.7843 - val_precision: 0.8145 - val_recall: 0.7423 - val_f1_score: 0.7535 - lr: 1.0000e-04\n",
      "Epoch 48/200\n",
      "247/247 [==============================] - 13s 51ms/step - loss: 4.8976 - accuracy: 0.7817 - precision: 0.8211 - recall: 0.7369 - f1_score: 0.7490 - val_loss: 2.9521 - val_accuracy: 0.7905 - val_precision: 0.8173 - val_recall: 0.7541 - val_f1_score: 0.7494 - lr: 1.0000e-04\n",
      "Epoch 49/200\n",
      "247/247 [==============================] - 13s 51ms/step - loss: 4.8075 - accuracy: 0.7841 - precision: 0.8250 - recall: 0.7373 - f1_score: 0.7516 - val_loss: 2.9056 - val_accuracy: 0.7710 - val_precision: 0.8021 - val_recall: 0.7310 - val_f1_score: 0.7402 - lr: 1.0000e-04\n",
      "Epoch 50/200\n",
      "247/247 [==============================] - 13s 51ms/step - loss: 4.7078 - accuracy: 0.7867 - precision: 0.8241 - recall: 0.7414 - f1_score: 0.7536 - val_loss: 3.0523 - val_accuracy: 0.6849 - val_precision: 0.7131 - val_recall: 0.6532 - val_f1_score: 0.6411 - lr: 1.0000e-04\n",
      "Epoch 51/200\n",
      "247/247 [==============================] - 13s 52ms/step - loss: 4.6423 - accuracy: 0.7867 - precision: 0.8269 - recall: 0.7402 - f1_score: 0.7539 - val_loss: 2.7683 - val_accuracy: 0.7567 - val_precision: 0.7926 - val_recall: 0.7203 - val_f1_score: 0.7341 - lr: 1.0000e-04\n",
      "Epoch 52/200\n",
      "247/247 [==============================] - 13s 51ms/step - loss: 4.5439 - accuracy: 0.7908 - precision: 0.8304 - recall: 0.7452 - f1_score: 0.7578 - val_loss: 2.6300 - val_accuracy: 0.7864 - val_precision: 0.8204 - val_recall: 0.7510 - val_f1_score: 0.7533 - lr: 1.0000e-04\n",
      "Epoch 53/200\n",
      "247/247 [==============================] - 13s 53ms/step - loss: 4.4916 - accuracy: 0.7917 - precision: 0.8314 - recall: 0.7494 - f1_score: 0.7609 - val_loss: 2.6638 - val_accuracy: 0.7485 - val_precision: 0.7742 - val_recall: 0.7095 - val_f1_score: 0.7209 - lr: 1.0000e-04\n",
      "Epoch 54/200\n",
      "247/247 [==============================] - 13s 52ms/step - loss: 4.4167 - accuracy: 0.7922 - precision: 0.8339 - recall: 0.7426 - f1_score: 0.7604 - val_loss: 2.6171 - val_accuracy: 0.7613 - val_precision: 0.7872 - val_recall: 0.7295 - val_f1_score: 0.7034 - lr: 1.0000e-04\n",
      "Epoch 55/200\n",
      "247/247 [==============================] - 13s 53ms/step - loss: 4.2868 - accuracy: 0.7965 - precision: 0.8374 - recall: 0.7487 - f1_score: 0.7656 - val_loss: 2.5456 - val_accuracy: 0.7377 - val_precision: 0.7687 - val_recall: 0.6998 - val_f1_score: 0.7115 - lr: 1.0000e-04\n",
      "Epoch 56/200\n",
      "247/247 [==============================] - 13s 52ms/step - loss: 4.2861 - accuracy: 0.7858 - precision: 0.8294 - recall: 0.7393 - f1_score: 0.7529 - val_loss: 2.6867 - val_accuracy: 0.6573 - val_precision: 0.6843 - val_recall: 0.6086 - val_f1_score: 0.6412 - lr: 1.0000e-04\n",
      "Epoch 57/200\n",
      "247/247 [==============================] - 13s 54ms/step - loss: 4.1783 - accuracy: 0.7916 - precision: 0.8369 - recall: 0.7504 - f1_score: 0.7593 - val_loss: 2.3593 - val_accuracy: 0.7766 - val_precision: 0.8075 - val_recall: 0.7433 - val_f1_score: 0.7358 - lr: 1.0000e-04\n",
      "Epoch 58/200\n",
      "247/247 [==============================] - 20s 81ms/step - loss: 4.1310 - accuracy: 0.7982 - precision: 0.8366 - recall: 0.7539 - f1_score: 0.7669 - val_loss: 2.3330 - val_accuracy: 0.7654 - val_precision: 0.7982 - val_recall: 0.7254 - val_f1_score: 0.7395 - lr: 1.0000e-04\n",
      "Epoch 59/200\n",
      "247/247 [==============================] - 14s 56ms/step - loss: 4.0970 - accuracy: 0.7922 - precision: 0.8320 - recall: 0.7484 - f1_score: 0.7597 - val_loss: 2.2870 - val_accuracy: 0.7556 - val_precision: 0.7984 - val_recall: 0.7121 - val_f1_score: 0.7205 - lr: 1.0000e-04\n",
      "Epoch 60/200\n",
      "247/247 [==============================] - 12s 48ms/step - loss: 4.0280 - accuracy: 0.7913 - precision: 0.8318 - recall: 0.7453 - f1_score: 0.7602 - val_loss: 2.2989 - val_accuracy: 0.7310 - val_precision: 0.7651 - val_recall: 0.6993 - val_f1_score: 0.6844 - lr: 1.0000e-04\n",
      "Epoch 61/200\n",
      "247/247 [==============================] - 1023s 4s/step - loss: 3.9713 - accuracy: 0.7967 - precision: 0.8382 - recall: 0.7504 - f1_score: 0.7659 - val_loss: 2.1374 - val_accuracy: 0.7915 - val_precision: 0.8104 - val_recall: 0.7710 - val_f1_score: 0.7483 - lr: 1.0000e-04\n",
      "Epoch 62/200\n",
      "247/247 [==============================] - 9s 38ms/step - loss: 3.9101 - accuracy: 0.8039 - precision: 0.8398 - recall: 0.7595 - f1_score: 0.7735 - val_loss: 2.0893 - val_accuracy: 0.7833 - val_precision: 0.8178 - val_recall: 0.7474 - val_f1_score: 0.7472 - lr: 1.0000e-04\n",
      "Epoch 63/200\n",
      "247/247 [==============================] - 9s 37ms/step - loss: 3.8476 - accuracy: 0.7993 - precision: 0.8394 - recall: 0.7572 - f1_score: 0.7684 - val_loss: 2.1105 - val_accuracy: 0.7838 - val_precision: 0.8090 - val_recall: 0.7572 - val_f1_score: 0.7433 - lr: 1.0000e-04\n",
      "Epoch 64/200\n",
      "247/247 [==============================] - 9s 37ms/step - loss: 3.8472 - accuracy: 0.7948 - precision: 0.8342 - recall: 0.7500 - f1_score: 0.7619 - val_loss: 2.2559 - val_accuracy: 0.7059 - val_precision: 0.7265 - val_recall: 0.6762 - val_f1_score: 0.6679 - lr: 1.0000e-04\n",
      "Epoch 65/200\n",
      "247/247 [==============================] - 9s 37ms/step - loss: 3.8222 - accuracy: 0.7946 - precision: 0.8357 - recall: 0.7508 - f1_score: 0.7631 - val_loss: 2.0706 - val_accuracy: 0.7490 - val_precision: 0.7774 - val_recall: 0.7193 - val_f1_score: 0.7121 - lr: 1.0000e-04\n",
      "Epoch 66/200\n",
      "226/247 [==========================>...] - ETA: 1:40 - loss: 3.7647 - accuracy: 0.7992 - precision: 0.8369 - recall: 0.7540 - f1_score: 0.7701"
     ]
    }
   ],
   "source": [
    "epochs = 200\n",
    "lr_reducer = tf.keras.callbacks.ReduceLROnPlateau(monitor='val_loss', factor=np.sqrt(0.1), cooldown=0, patience=3, min_lr=0.5e-15)\n",
    "history = model.fit(\n",
    "    train_generator,\n",
    "    steps_per_epoch=len(train_data) // batch_size,\n",
    "    epochs=epochs,\n",
    "    validation_data=validation_generator,\n",
    "    validation_steps=len(test_data) // batch_size,\n",
    "    class_weight=class_weight_dict\n",
    "    , callbacks=[lr_reducer]\n",
    ")"
   ],
   "metadata": {
    "collapsed": false,
    "ExecuteTime": {
     "start_time": "2023-04-24T16:21:07.050075Z",
     "end_time": "2023-04-24T16:57:02.579992Z"
    },
    "pycharm": {
     "is_executing": true
    }
   }
  },
  {
   "cell_type": "code",
   "execution_count": null,
   "outputs": [],
   "source": [
    "train_loss = history.history['loss']\n",
    "val_loss = history.history['val_loss']\n",
    "\n",
    "epochs_range = range(1, epochs + 1)\n",
    "\n",
    "plt.plot(epochs_range, train_loss, label='Training Loss')\n",
    "plt.plot(epochs_range, val_loss, label='Validation Loss')\n",
    "\n",
    "plt.legend()\n",
    "plt.title('Training and Validation Loss')\n",
    "plt.xlabel('Epoch')\n",
    "plt.ylabel('Loss')\n",
    "\n",
    "plt.show()"
   ],
   "metadata": {
    "collapsed": false,
    "ExecuteTime": {
     "start_time": "2023-04-24T16:57:02.589545Z",
     "end_time": "2023-04-24T16:57:02.651461Z"
    },
    "pycharm": {
     "is_executing": true
    }
   }
  },
  {
   "cell_type": "code",
   "execution_count": null,
   "outputs": [],
   "source": [
    "train_accuracy = history.history['accuracy']\n",
    "val_accuracy = history.history['val_accuracy']\n",
    "\n",
    "epochs_range = range(1, epochs + 1)\n",
    "\n",
    "plt.plot(epochs_range, train_accuracy, label='Training Accuracy')\n",
    "plt.plot(epochs_range, val_accuracy, label='Validation Accuracy')\n",
    "\n",
    "plt.legend()\n",
    "plt.title('Training and Validation Accuracy')\n",
    "plt.xlabel('Epoch')\n",
    "plt.ylabel('Accuracy')\n",
    "\n",
    "plt.show()"
   ],
   "metadata": {
    "collapsed": false,
    "ExecuteTime": {
     "start_time": "2023-04-24T16:57:02.669754Z",
     "end_time": "2023-04-24T16:57:02.725670Z"
    },
    "pycharm": {
     "is_executing": true
    }
   }
  },
  {
   "cell_type": "code",
   "execution_count": null,
   "outputs": [],
   "source": [
    "# train_precision = history.history['precision_3']\n",
    "# val_precision = history.history['val_precision_3']\n",
    "#\n",
    "# epochs_range = range(1, epochs + 1)\n",
    "#\n",
    "# plt.plot(epochs_range, train_precision, label='Training Precision')\n",
    "# plt.plot(epochs_range, val_precision, label='Validation Precision')\n",
    "#\n",
    "# plt.legend()\n",
    "# plt.title('Training and Validation Precision')\n",
    "# plt.xlabel('Epoch')\n",
    "# plt.ylabel('Precision')\n",
    "#\n",
    "# plt.show()"
   ],
   "metadata": {
    "collapsed": false,
    "ExecuteTime": {
     "start_time": "2023-04-24T13:36:48.762882Z",
     "end_time": "2023-04-24T13:36:49.113032Z"
    },
    "pycharm": {
     "is_executing": true
    }
   }
  },
  {
   "cell_type": "code",
   "execution_count": null,
   "outputs": [],
   "source": [
    "# train_recall = history.history['recall_3']\n",
    "# val_recall = history.history['val_recall_3']\n",
    "#\n",
    "# epochs_range = range(1, epochs + 1)\n",
    "#\n",
    "# plt.plot(epochs_range, train_recall, label='Training Recall')\n",
    "# plt.plot(epochs_range, val_recall, label='Validation Recall')\n",
    "#\n",
    "# plt.legend()\n",
    "# plt.title('Training and Validation Recall')\n",
    "# plt.xlabel('Epoch')\n",
    "# plt.ylabel('Recall')\n",
    "#\n",
    "# plt.show()"
   ],
   "metadata": {
    "collapsed": false,
    "ExecuteTime": {
     "start_time": "2023-04-24T13:36:50.276624Z",
     "end_time": "2023-04-24T13:36:50.355222Z"
    },
    "pycharm": {
     "is_executing": true
    }
   }
  },
  {
   "cell_type": "code",
   "execution_count": null,
   "outputs": [],
   "source": [
    "train_f1 = history.history['f1_score']\n",
    "val_f1 = history.history['val_f1_score']\n",
    "\n",
    "epochs_range = range(1, epochs + 1)\n",
    "\n",
    "plt.plot(epochs_range, train_f1, label='Training F1')\n",
    "plt.plot(epochs_range, val_f1, label='Validation F1')\n",
    "\n",
    "plt.legend()\n",
    "plt.title('Training and Validation F1 Score')\n",
    "plt.xlabel('Epoch')\n",
    "plt.ylabel('Recall')\n",
    "\n",
    "plt.show()"
   ],
   "metadata": {
    "collapsed": false,
    "ExecuteTime": {
     "start_time": "2023-04-24T13:36:53.429497Z",
     "end_time": "2023-04-24T13:36:53.500714Z"
    },
    "pycharm": {
     "is_executing": true
    }
   }
  }
 ],
 "metadata": {
  "kernelspec": {
   "display_name": "Python 3",
   "language": "python",
   "name": "python3"
  },
  "language_info": {
   "codemirror_mode": {
    "name": "ipython",
    "version": 2
   },
   "file_extension": ".py",
   "mimetype": "text/x-python",
   "name": "python",
   "nbconvert_exporter": "python",
   "pygments_lexer": "ipython2",
   "version": "2.7.6"
  }
 },
 "nbformat": 4,
 "nbformat_minor": 0
}