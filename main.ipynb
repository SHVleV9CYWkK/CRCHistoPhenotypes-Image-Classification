{
 "cells": [
  {
   "cell_type": "markdown",
   "source": [
    "导包"
   ],
   "metadata": {
    "collapsed": false
   }
  },
  {
   "cell_type": "code",
   "execution_count": 1,
   "metadata": {
    "collapsed": true,
    "ExecuteTime": {
     "end_time": "2023-05-07T08:06:23.892046Z",
     "start_time": "2023-05-07T08:06:20.769796Z"
    }
   },
   "outputs": [],
   "source": [
    "import os\n",
    "import pandas as pd\n",
    "import matplotlib.pyplot as plt\n",
    "import numpy as np\n",
    "import tensorflow as tf\n",
    "from imgaug import augmenters as iaa\n",
    "import imgaug as ia\n",
    "from sklearn.model_selection import train_test_split\n",
    "from tqdm import tqdm\n",
    "import math\n",
    "import random"
   ]
  },
  {
   "cell_type": "markdown",
   "source": [
    "获取主数据集\n",
    "test_data 为不可见数据集"
   ],
   "metadata": {
    "collapsed": false
   }
  },
  {
   "cell_type": "code",
   "execution_count": 2,
   "outputs": [],
   "source": [
    "seed_value = 42\n",
    "np.random.seed(seed_value)\n",
    "tf.random.set_seed(seed_value)\n",
    "os.environ['TF_DETERMINISTIC_OPS'] = '1'\n",
    "random.seed(seed_value)\n",
    "ia.seed(seed_value)\n",
    "\n",
    "data = pd.read_csv('./Image_classification_data/data_labels_mainData.csv')\n",
    "data['isCancerous'] = data['isCancerous'].astype(str)\n",
    "data['cellType'] = data['cellType'].astype(str)\n",
    "undivided_train_data, test_data = train_test_split(data, test_size=0.2, random_state=42)\n",
    "train_data, val_data = train_test_split(undivided_train_data, test_size=0.2, random_state=42)"
   ],
   "metadata": {
    "collapsed": false,
    "ExecuteTime": {
     "end_time": "2023-05-07T08:06:23.905199Z",
     "start_time": "2023-05-07T08:06:23.891634Z"
    }
   }
  },
  {
   "cell_type": "code",
   "execution_count": 3,
   "outputs": [
    {
     "data": {
      "text/plain": "([0, 1], [Text(0, 0, '0'), Text(1, 0, '1')])"
     },
     "execution_count": 3,
     "metadata": {},
     "output_type": "execute_result"
    },
    {
     "data": {
      "text/plain": "<Figure size 432x288 with 1 Axes>",
      "image/png": "[encoded data removed]"
     },
     "metadata": {
      "needs_background": "light"
     },
     "output_type": "display_data"
    }
   ],
   "source": [
    "plt.hist(train_data['isCancerous'], alpha=0.3, color='b', label='Train', density=True)\n",
    "plt.hist(test_data['isCancerous'], alpha=0.3, color='r', label='Test',  density=True)\n",
    "plt.hist(val_data['isCancerous'], alpha=0.3, color='g', label='Val',  density=True)\n",
    "plt.title('isCancerous')\n",
    "plt.xticks(rotation='vertical')"
   ],
   "metadata": {
    "collapsed": false,
    "ExecuteTime": {
     "end_time": "2023-05-07T08:06:23.987836Z",
     "start_time": "2023-05-07T08:06:23.905905Z"
    }
   }
  },
  {
   "cell_type": "code",
   "execution_count": 4,
   "outputs": [
    {
     "data": {
      "text/plain": "([0, 1, 2, 3],\n [Text(0, 0, '1'), Text(1, 0, '0'), Text(2, 0, '2'), Text(3, 0, '3')])"
     },
     "execution_count": 4,
     "metadata": {},
     "output_type": "execute_result"
    },
    {
     "data": {
      "text/plain": "<Figure size 432x288 with 1 Axes>",
      "image/png": "[encoded data removed]"
     },
     "metadata": {
      "needs_background": "light"
     },
     "output_type": "display_data"
    }
   ],
   "source": [
    "plt.hist(train_data['cellType'], alpha=0.3, color='b', label='Train', density=True)\n",
    "plt.hist(test_data['cellType'], alpha=0.3, color='r', label='Test',  density=True)\n",
    "plt.hist(val_data['cellType'], alpha=0.3, color='g', density=True)\n",
    "plt.title('cellType')\n",
    "plt.xticks(rotation='vertical')"
   ],
   "metadata": {
    "collapsed": false,
    "ExecuteTime": {
     "end_time": "2023-05-07T08:06:24.063774Z",
     "start_time": "2023-05-07T08:06:23.997442Z"
    }
   }
  },
  {
   "cell_type": "code",
   "execution_count": 5,
   "outputs": [],
   "source": [
    "class_samples_isCancerous = train_data['isCancerous'].value_counts()\n",
    "total_samples = np.sum(class_samples_isCancerous)\n",
    "class_weights_isCancerous = total_samples / class_samples_isCancerous\n",
    "class_weight_dict_isCancerous = {int(k): v for k, v in class_weights_isCancerous.to_dict().items()}\n",
    "\n",
    "class_samples_cellType = train_data['cellType'].value_counts()\n",
    "total_samples = np.sum(class_samples_cellType)\n",
    "class_weights_cellType = total_samples / class_samples_cellType\n",
    "class_weight_dict_cellType = {int(k): v for k, v in class_weights_cellType.to_dict().items()}"
   ],
   "metadata": {
    "collapsed": false,
    "ExecuteTime": {
     "end_time": "2023-05-07T08:06:24.068558Z",
     "start_time": "2023-05-07T08:06:24.066973Z"
    }
   }
  },
  {
   "cell_type": "code",
   "execution_count": 6,
   "outputs": [],
   "source": [
    "class CustomImageDataGenerator(tf.keras.preprocessing.image.ImageDataGenerator):\n",
    "    def __init__(self, num_augmentations=3, *args, **kwargs):\n",
    "        super().__init__(*args, **kwargs)\n",
    "        self.num_augmentations = num_augmentations\n",
    "\n",
    "    def apply_transform(self, x, transform_parameters):\n",
    "        augmentations = [\n",
    "            \"theta\",\n",
    "            \"tx\",\n",
    "            \"ty\",\n",
    "            \"shear\",\n",
    "            \"zx\",\n",
    "            \"zy\",\n",
    "            \"flip_horizontal\",\n",
    "            \"flip_vertical\",\n",
    "            \"brightness\",\n",
    "        ]\n",
    "\n",
    "        selected_augmentations = random.sample(augmentations, self.num_augmentations)\n",
    "        filtered_transform_parameters = {\n",
    "            key: value for key, value in transform_parameters.items() if key in selected_augmentations\n",
    "        }\n",
    "\n",
    "        return super().apply_transform(x, filtered_transform_parameters)"
   ],
   "metadata": {
    "collapsed": false,
    "ExecuteTime": {
     "end_time": "2023-05-07T08:06:24.071530Z",
     "start_time": "2023-05-07T08:06:24.069701Z"
    }
   }
  },
  {
   "cell_type": "code",
   "execution_count": 7,
   "outputs": [
    {
     "name": "stdout",
     "output_type": "stream",
     "text": [
      "Found 6332 validated image filenames belonging to 2 classes.\n",
      "Found 1584 validated image filenames belonging to 2 classes.\n",
      "Found 1980 validated image filenames belonging to 2 classes.\n"
     ]
    }
   ],
   "source": [
    "batch_size = 32\n",
    "train_datagen = CustomImageDataGenerator(\n",
    "    num_augmentations=3,\n",
    "    rescale=1./255,\n",
    "    rotation_range=40,\n",
    "    width_shift_range=0.2,\n",
    "    height_shift_range=0.2,\n",
    "    shear_range=0.2,\n",
    "    zoom_range=0.2,\n",
    "    brightness_range=[0.2,1.0],\n",
    "    horizontal_flip=True,\n",
    "    vertical_flip=True,\n",
    "    fill_mode='nearest'\n",
    ")\n",
    "\n",
    "val_datagen = tf.keras.preprocessing.image.ImageDataGenerator(\n",
    "    rescale=1./255\n",
    ")\n",
    "\n",
    "test_datagen = tf.keras.preprocessing.image.ImageDataGenerator(\n",
    "    rescale=1./255\n",
    ")\n",
    "\n",
    "train_isCancerous_generator = train_datagen.flow_from_dataframe(\n",
    "    train_data,\n",
    "    directory='./Image_classification_data/patch_images',\n",
    "    x_col='ImageName',\n",
    "    y_col='isCancerous',\n",
    "    target_size=(27, 27),\n",
    "    batch_size=batch_size,\n",
    "    class_mode='binary')\n",
    "\n",
    "val_isCancerous_generator = val_datagen.flow_from_dataframe(\n",
    "    val_data,\n",
    "    directory='./Image_classification_data/patch_images',\n",
    "    x_col='ImageName',\n",
    "    y_col='isCancerous',\n",
    "    target_size=(27, 27),\n",
    "    batch_size=batch_size,\n",
    "    class_mode='binary')\n",
    "\n",
    "test_isCancerous_generator = test_datagen.flow_from_dataframe(\n",
    "    test_data,\n",
    "    directory='./Image_classification_data/patch_images',\n",
    "    x_col='ImageName',\n",
    "    y_col='isCancerous',\n",
    "    target_size=(27, 27),\n",
    "    batch_size=batch_size,\n",
    "    class_mode='binary')"
   ],
   "metadata": {
    "collapsed": false,
    "ExecuteTime": {
     "end_time": "2023-05-07T08:06:24.180026Z",
     "start_time": "2023-05-07T08:06:24.078896Z"
    }
   }
  },
  {
   "cell_type": "code",
   "execution_count": 8,
   "outputs": [
    {
     "name": "stdout",
     "output_type": "stream",
     "text": [
      "Found 6332 validated image filenames belonging to 4 classes.\n",
      "Found 1584 validated image filenames belonging to 4 classes.\n",
      "Found 1980 validated image filenames belonging to 4 classes.\n"
     ]
    }
   ],
   "source": [
    "train_cellType_generator = train_datagen.flow_from_dataframe(\n",
    "    train_data,\n",
    "    directory='./Image_classification_data/patch_images',\n",
    "    x_col='ImageName',\n",
    "    y_col='cellType',\n",
    "    target_size=(27, 27),\n",
    "    batch_size=batch_size,\n",
    "    class_mode='categorical')\n",
    "\n",
    "val_cellType_generator = val_datagen.flow_from_dataframe(\n",
    "    val_data,\n",
    "    directory='./Image_classification_data/patch_images',\n",
    "    x_col='ImageName',\n",
    "    y_col='cellType',\n",
    "    target_size=(27, 27),\n",
    "    batch_size=batch_size,\n",
    "    class_mode='categorical')\n",
    "\n",
    "test_cellType_generator = test_datagen.flow_from_dataframe(\n",
    "    test_data,\n",
    "    directory='./Image_classification_data/patch_images',\n",
    "    x_col='ImageName',\n",
    "    y_col='cellType',\n",
    "    target_size=(27, 27),\n",
    "    batch_size=batch_size,\n",
    "    class_mode='categorical')"
   ],
   "metadata": {
    "collapsed": false,
    "ExecuteTime": {
     "end_time": "2023-05-07T08:06:24.274546Z",
     "start_time": "2023-05-07T08:06:24.183555Z"
    }
   }
  },
  {
   "cell_type": "code",
   "execution_count": 9,
   "outputs": [],
   "source": [
    "class F1Score(tf.keras.metrics.Metric):\n",
    "    def __init__(self, name='f1_score', **kwargs):\n",
    "        super().__init__(name=name, **kwargs)\n",
    "        self.precision = tf.keras.metrics.Precision()\n",
    "        self.recall = tf.keras.metrics.Recall()\n",
    "\n",
    "    def update_state(self, y_true, y_pred, sample_weight=None):\n",
    "        self.precision.update_state(y_true, y_pred, sample_weight)\n",
    "        self.recall.update_state(y_true, y_pred, sample_weight)\n",
    "\n",
    "    def result(self):\n",
    "        precision = self.precision.result()\n",
    "        recall = self.recall.result()\n",
    "        return 2 * ((precision * recall) / (precision + recall + tf.keras.backend.epsilon()))\n",
    "\n",
    "    def reset_state(self):\n",
    "        self.precision.reset_states()\n",
    "        self.recall.reset_states()\n",
    "\n",
    "    def get_config(self):\n",
    "        return super().get_config()\n",
    "\n",
    "    @classmethod\n",
    "    def from_config(cls, config):\n",
    "        return cls(**config)\n",
    "\n",
    "\n",
    "class MultiCategoryF1Score(tf.keras.metrics.Metric):\n",
    "    def __init__(self, num_category=4, average='macro', name='f1_score', **kwargs):\n",
    "        super().__init__(name=name, **kwargs)\n",
    "        self.num_classes = num_category\n",
    "        self.average = average\n",
    "        self.confusion_matrix = self.add_weight(name=\"confusion_matrix\", shape=(num_classes, num_classes), initializer=\"zeros\", dtype=tf.float32)\n",
    "\n",
    "\n",
    "    def update_state(self, y_true, y_pred, sample_weight=None):\n",
    "        y_true = tf.argmax(y_true, axis=-1)\n",
    "        y_pred = tf.argmax(y_pred, axis=-1)\n",
    "        current_confusion_matrix = tf.math.confusion_matrix(y_true, y_pred, num_classes=self.num_classes, dtype=tf.float32)\n",
    "        self.confusion_matrix.assign_add(current_confusion_matrix)\n",
    "\n",
    "\n",
    "    def result(self):\n",
    "        tp = tf.linalg.diag_part(self.confusion_matrix)\n",
    "        fp = tf.reduce_sum(self.confusion_matrix, axis=0) - tp\n",
    "        fn = tf.reduce_sum(self.confusion_matrix, axis=1) - tp\n",
    "\n",
    "        precision_per_class = tp / (tp + fp)\n",
    "        recall_per_class = tp / (tp + fn)\n",
    "\n",
    "        if self.average == 'micro':\n",
    "            precision = tf.reduce_sum(tp) / (tf.reduce_sum(tp) + tf.reduce_sum(fp))\n",
    "            recall = tf.reduce_sum(tp) / (tf.reduce_sum(tp) + tf.reduce_sum(fn))\n",
    "        elif self.average == 'macro':\n",
    "            precision = tf.reduce_mean(precision_per_class)\n",
    "            recall = tf.reduce_mean(recall_per_class)\n",
    "        elif self.average == 'weighted':\n",
    "            weights = tf.reduce_sum(self.confusion_matrix, axis=1)\n",
    "            precision = tf.reduce_sum(precision_per_class * weights) / tf.reduce_sum(weights)\n",
    "            recall = tf.reduce_sum(recall_per_class * weights) / tf.reduce_sum(weights)\n",
    "        else:\n",
    "            raise ValueError(\"Invalid average type. Accepted values are: 'micro', 'macro', 'weighted'\")\n",
    "\n",
    "        return 2 * ((precision * recall) / (precision + recall + tf.keras.backend.epsilon()))\n",
    "\n",
    "    def reset_state(self):\n",
    "        self.confusion_matrix.assign(tf.zeros_like(self.confusion_matrix))\n",
    "\n",
    "    def get_config(self):\n",
    "        config = super().get_config()\n",
    "        config.update({\"num_classes\": self.num_classes, \"average\": self.average})\n",
    "        return config\n",
    "\n",
    "    @classmethod\n",
    "    def from_config(cls, config):\n",
    "        return cls(**config)\n"
   ],
   "metadata": {
    "collapsed": false,
    "ExecuteTime": {
     "end_time": "2023-05-07T08:06:24.280993Z",
     "start_time": "2023-05-07T08:06:24.269573Z"
    }
   }
  },
  {
   "cell_type": "code",
   "execution_count": 10,
   "outputs": [
    {
     "name": "stdout",
     "output_type": "stream",
     "text": [
      "Metal device set to: Apple M1 Pro\n"
     ]
    }
   ],
   "source": [
    "input_shape = (27, 27, 3)\n",
    "num_classes = 4\n",
    "l2_coeff = 0.01\n",
    "baseline_binary = tf.keras.models.Sequential([\n",
    "    tf.keras.layers.Flatten(),\n",
    "    tf.keras.layers.Dense(512, activation='relu'),\n",
    "    tf.keras.layers.Dense(512, activation='relu'),\n",
    "    tf.keras.layers.Dense(1, activation='sigmoid')\n",
    "])"
   ],
   "metadata": {
    "collapsed": false,
    "ExecuteTime": {
     "end_time": "2023-05-07T08:06:24.294648Z",
     "start_time": "2023-05-07T08:06:24.279917Z"
    }
   }
  },
  {
   "cell_type": "code",
   "execution_count": 11,
   "outputs": [],
   "source": [
    "baseline_categorical = tf.keras.models.Sequential([\n",
    "    tf.keras.layers.Flatten(),\n",
    "    tf.keras.layers.Dense(512, activation='relu'),\n",
    "    tf.keras.layers.Dense(512, activation='relu'),\n",
    "    tf.keras.layers.Dense(num_classes, activation='softmax')\n",
    "])"
   ],
   "metadata": {
    "collapsed": false,
    "ExecuteTime": {
     "end_time": "2023-05-07T08:06:24.313932Z",
     "start_time": "2023-05-07T08:06:24.297394Z"
    }
   }
  },
  {
   "cell_type": "code",
   "execution_count": 12,
   "outputs": [],
   "source": [
    "baseline_binary.compile(loss='binary_crossentropy',\n",
    "                     optimizer=tf.keras.optimizers.legacy.Adam(learning_rate=0.0001),\n",
    "                     metrics=['accuracy',\n",
    "                              tf.keras.metrics.Precision(name='precision'),\n",
    "                              tf.keras.metrics.Recall(name='recall'),\n",
    "                              F1Score()])\n",
    "\n",
    "baseline_categorical.compile(loss='categorical_crossentropy',\n",
    "                             optimizer=tf.keras.optimizers.legacy.Adam(learning_rate=0.0005),\n",
    "                             metrics=['accuracy',\n",
    "                                      tf.keras.metrics.Precision(name='precision'),\n",
    "                                      tf.keras.metrics.Recall(name='recall'),\n",
    "                                      MultiCategoryF1Score(num_category=4)])"
   ],
   "metadata": {
    "collapsed": false,
    "ExecuteTime": {
     "end_time": "2023-05-07T08:06:24.378967Z",
     "start_time": "2023-05-07T08:06:24.303041Z"
    }
   }
  },
  {
   "cell_type": "code",
   "execution_count": 13,
   "outputs": [
    {
     "name": "stdout",
     "output_type": "stream",
     "text": [
      "Epoch 1/100\n"
     ]
    },
    {
     "name": "stderr",
     "output_type": "stream",
     "text": [
      "2023-05-07 18:06:24.501719: W tensorflow/tsl/platform/profile_utils/cpu_utils.cc:128] Failed to get CPU frequency: 0 Hz\n"
     ]
    },
    {
     "name": "stdout",
     "output_type": "stream",
     "text": [
      "197/197 [==============================] - 5s 24ms/step - loss: 1.1347 - accuracy: 0.7189 - precision: 0.6511 - recall: 0.7033 - f1_score: 0.6762 - val_loss: 0.4566 - val_accuracy: 0.7889 - val_precision: 0.6757 - val_recall: 0.9315 - val_f1_score: 0.7832\n",
      "Epoch 2/100\n",
      "197/197 [==============================] - 4s 22ms/step - loss: 0.9054 - accuracy: 0.7967 - precision: 0.7315 - recall: 0.8087 - f1_score: 0.7681 - val_loss: 0.4633 - val_accuracy: 0.7793 - val_precision: 0.6585 - val_recall: 0.9579 - val_f1_score: 0.7805\n",
      "Epoch 3/100\n",
      "197/197 [==============================] - 4s 21ms/step - loss: 0.8610 - accuracy: 0.8090 - precision: 0.7405 - recall: 0.8334 - f1_score: 0.7842 - val_loss: 0.3311 - val_accuracy: 0.8603 - val_precision: 0.8501 - val_recall: 0.8012 - val_f1_score: 0.8249\n",
      "Epoch 4/100\n",
      "197/197 [==============================] - 4s 21ms/step - loss: 0.8400 - accuracy: 0.8156 - precision: 0.7452 - recall: 0.8464 - f1_score: 0.7926 - val_loss: 0.3519 - val_accuracy: 0.8514 - val_precision: 0.7658 - val_recall: 0.9193 - val_f1_score: 0.8356\n",
      "Epoch 5/100\n",
      "197/197 [==============================] - 4s 21ms/step - loss: 0.8006 - accuracy: 0.8267 - precision: 0.7621 - recall: 0.8492 - f1_score: 0.8033 - val_loss: 0.3329 - val_accuracy: 0.8571 - val_precision: 0.7820 - val_recall: 0.9036 - val_f1_score: 0.8384\n",
      "Epoch 6/100\n",
      "197/197 [==============================] - 4s 21ms/step - loss: 0.8040 - accuracy: 0.8286 - precision: 0.7595 - recall: 0.8604 - f1_score: 0.8068 - val_loss: 0.4409 - val_accuracy: 0.8029 - val_precision: 0.8995 - val_recall: 0.5848 - val_f1_score: 0.7088\n",
      "Epoch 7/100\n",
      "197/197 [==============================] - 4s 21ms/step - loss: 0.8067 - accuracy: 0.8202 - precision: 0.7514 - recall: 0.8506 - f1_score: 0.7979 - val_loss: 0.3331 - val_accuracy: 0.8533 - val_precision: 0.7804 - val_recall: 0.8924 - val_f1_score: 0.8326\n",
      "Epoch 8/100\n",
      "197/197 [==============================] - 4s 20ms/step - loss: 0.8094 - accuracy: 0.8216 - precision: 0.7547 - recall: 0.8477 - f1_score: 0.7985 - val_loss: 0.3198 - val_accuracy: 0.8654 - val_precision: 0.8479 - val_recall: 0.8175 - val_f1_score: 0.8324\n",
      "Epoch 9/100\n",
      "197/197 [==============================] - 4s 21ms/step - loss: 0.7472 - accuracy: 0.8397 - precision: 0.7691 - recall: 0.8788 - f1_score: 0.8203 - val_loss: 0.3187 - val_accuracy: 0.8629 - val_precision: 0.8129 - val_recall: 0.8647 - val_f1_score: 0.8380\n",
      "Epoch 10/100\n",
      "197/197 [==============================] - 4s 20ms/step - loss: 0.7705 - accuracy: 0.8335 - precision: 0.7661 - recall: 0.8634 - f1_score: 0.8118 - val_loss: 0.3271 - val_accuracy: 0.8610 - val_precision: 0.8581 - val_recall: 0.7913 - val_f1_score: 0.8233\n",
      "Epoch 11/100\n",
      "197/197 [==============================] - 4s 20ms/step - loss: 0.7674 - accuracy: 0.8319 - precision: 0.7625 - recall: 0.8672 - f1_score: 0.8115 - val_loss: 0.3236 - val_accuracy: 0.8597 - val_precision: 0.7958 - val_recall: 0.8870 - val_f1_score: 0.8389\n",
      "Epoch 12/100\n",
      "197/197 [==============================] - 4s 21ms/step - loss: 0.7598 - accuracy: 0.8379 - precision: 0.7692 - recall: 0.8727 - f1_score: 0.8177 - val_loss: 0.3309 - val_accuracy: 0.8584 - val_precision: 0.8613 - val_recall: 0.7811 - val_f1_score: 0.8192\n",
      "Epoch 13/100\n",
      "197/197 [==============================] - 4s 21ms/step - loss: 0.7728 - accuracy: 0.8343 - precision: 0.7688 - recall: 0.8618 - f1_score: 0.8126 - val_loss: 0.3177 - val_accuracy: 0.8610 - val_precision: 0.7899 - val_recall: 0.9005 - val_f1_score: 0.8416\n",
      "Epoch 14/100\n",
      "197/197 [==============================] - 4s 21ms/step - loss: 0.7455 - accuracy: 0.8410 - precision: 0.7757 - recall: 0.8707 - f1_score: 0.8204 - val_loss: 0.3081 - val_accuracy: 0.8635 - val_precision: 0.8441 - val_recall: 0.8178 - val_f1_score: 0.8307\n",
      "Epoch 15/100\n",
      "197/197 [==============================] - 4s 22ms/step - loss: 0.7454 - accuracy: 0.8443 - precision: 0.7782 - recall: 0.8762 - f1_score: 0.8243 - val_loss: 0.3132 - val_accuracy: 0.8648 - val_precision: 0.7986 - val_recall: 0.8956 - val_f1_score: 0.8443\n",
      "Epoch 16/100\n",
      "197/197 [==============================] - 5s 23ms/step - loss: 0.7490 - accuracy: 0.8403 - precision: 0.7745 - recall: 0.8696 - f1_score: 0.8193 - val_loss: 0.3134 - val_accuracy: 0.8642 - val_precision: 0.7898 - val_recall: 0.9114 - val_f1_score: 0.8462\n",
      "Epoch 17/100\n",
      "197/197 [==============================] - 4s 22ms/step - loss: 0.7190 - accuracy: 0.8427 - precision: 0.7741 - recall: 0.8793 - f1_score: 0.8234 - val_loss: 0.3173 - val_accuracy: 0.8616 - val_precision: 0.7837 - val_recall: 0.9143 - val_f1_score: 0.8440\n",
      "Epoch 18/100\n",
      "197/197 [==============================] - 5s 23ms/step - loss: 0.7404 - accuracy: 0.8413 - precision: 0.7739 - recall: 0.8747 - f1_score: 0.8212 - val_loss: 0.3036 - val_accuracy: 0.8718 - val_precision: 0.8069 - val_recall: 0.9036 - val_f1_score: 0.8525\n",
      "Epoch 19/100\n",
      "197/197 [==============================] - 5s 23ms/step - loss: 0.7271 - accuracy: 0.8444 - precision: 0.7786 - recall: 0.8754 - f1_score: 0.8242 - val_loss: 0.3040 - val_accuracy: 0.8686 - val_precision: 0.8525 - val_recall: 0.8206 - val_f1_score: 0.8362\n",
      "Epoch 20/100\n",
      "197/197 [==============================] - 4s 22ms/step - loss: 0.7503 - accuracy: 0.8367 - precision: 0.7681 - recall: 0.8703 - f1_score: 0.8160 - val_loss: 0.3151 - val_accuracy: 0.8673 - val_precision: 0.7919 - val_recall: 0.9176 - val_f1_score: 0.8501\n",
      "Epoch 21/100\n",
      "197/197 [==============================] - 4s 23ms/step - loss: 0.7379 - accuracy: 0.8413 - precision: 0.7777 - recall: 0.8666 - f1_score: 0.8198 - val_loss: 0.3830 - val_accuracy: 0.8195 - val_precision: 0.7066 - val_recall: 0.9564 - val_f1_score: 0.8127\n",
      "Epoch 22/100\n",
      "197/197 [==============================] - 4s 23ms/step - loss: 0.7203 - accuracy: 0.8441 - precision: 0.7794 - recall: 0.8737 - f1_score: 0.8239 - val_loss: 0.2941 - val_accuracy: 0.8769 - val_precision: 0.8250 - val_recall: 0.8901 - val_f1_score: 0.8563\n",
      "Epoch 23/100\n",
      "197/197 [==============================] - 4s 23ms/step - loss: 0.7153 - accuracy: 0.8471 - precision: 0.7858 - recall: 0.8705 - f1_score: 0.8260 - val_loss: 0.2968 - val_accuracy: 0.8788 - val_precision: 0.8273 - val_recall: 0.8892 - val_f1_score: 0.8571\n",
      "Epoch 24/100\n",
      "197/197 [==============================] - 5s 23ms/step - loss: 0.7368 - accuracy: 0.8390 - precision: 0.7730 - recall: 0.8700 - f1_score: 0.8186 - val_loss: 0.2953 - val_accuracy: 0.8705 - val_precision: 0.8410 - val_recall: 0.8450 - val_f1_score: 0.8430\n",
      "Epoch 25/100\n",
      "197/197 [==============================] - 5s 23ms/step - loss: 0.7413 - accuracy: 0.8400 - precision: 0.7771 - recall: 0.8641 - f1_score: 0.8183 - val_loss: 0.3022 - val_accuracy: 0.8731 - val_precision: 0.8177 - val_recall: 0.8899 - val_f1_score: 0.8523\n",
      "Epoch 26/100\n",
      "197/197 [==============================] - 4s 23ms/step - loss: 0.7145 - accuracy: 0.8467 - precision: 0.7834 - recall: 0.8740 - f1_score: 0.8263 - val_loss: 0.3255 - val_accuracy: 0.8571 - val_precision: 0.7685 - val_recall: 0.9278 - val_f1_score: 0.8407\n",
      "Epoch 27/100\n",
      "197/197 [==============================] - 4s 22ms/step - loss: 0.6995 - accuracy: 0.8529 - precision: 0.7915 - recall: 0.8786 - f1_score: 0.8328 - val_loss: 0.3406 - val_accuracy: 0.8495 - val_precision: 0.7497 - val_recall: 0.9485 - val_f1_score: 0.8375\n",
      "Epoch 28/100\n",
      "197/197 [==============================] - 4s 21ms/step - loss: 0.7278 - accuracy: 0.8395 - precision: 0.7760 - recall: 0.8644 - f1_score: 0.8178 - val_loss: 0.3131 - val_accuracy: 0.8648 - val_precision: 0.8642 - val_recall: 0.7941 - val_f1_score: 0.8276\n",
      "Epoch 29/100\n",
      "197/197 [==============================] - 4s 22ms/step - loss: 0.7249 - accuracy: 0.8444 - precision: 0.7822 - recall: 0.8686 - f1_score: 0.8232 - val_loss: 0.3086 - val_accuracy: 0.8705 - val_precision: 0.7909 - val_recall: 0.9281 - val_f1_score: 0.8541\n",
      "Epoch 30/100\n",
      "197/197 [==============================] - 4s 20ms/step - loss: 0.6892 - accuracy: 0.8494 - precision: 0.7851 - recall: 0.8788 - f1_score: 0.8293 - val_loss: 0.2997 - val_accuracy: 0.8712 - val_precision: 0.8186 - val_recall: 0.8799 - val_f1_score: 0.8481\n",
      "Epoch 31/100\n",
      "197/197 [==============================] - 4s 21ms/step - loss: 0.7020 - accuracy: 0.8525 - precision: 0.7937 - recall: 0.8727 - f1_score: 0.8313 - val_loss: 0.3813 - val_accuracy: 0.8221 - val_precision: 0.7074 - val_recall: 0.9642 - val_f1_score: 0.8161\n",
      "Epoch 32/100\n",
      "197/197 [==============================] - 4s 21ms/step - loss: 0.6823 - accuracy: 0.8538 - precision: 0.7929 - recall: 0.8789 - f1_score: 0.8337 - val_loss: 0.2867 - val_accuracy: 0.8763 - val_precision: 0.8467 - val_recall: 0.8520 - val_f1_score: 0.8494\n",
      "Epoch 33/100\n",
      "197/197 [==============================] - 4s 21ms/step - loss: 0.6898 - accuracy: 0.8552 - precision: 0.7950 - recall: 0.8787 - f1_score: 0.8348 - val_loss: 0.3018 - val_accuracy: 0.8673 - val_precision: 0.7997 - val_recall: 0.9019 - val_f1_score: 0.8477\n",
      "Epoch 34/100\n",
      "197/197 [==============================] - 4s 20ms/step - loss: 0.6800 - accuracy: 0.8560 - precision: 0.7925 - recall: 0.8874 - f1_score: 0.8373 - val_loss: 0.3192 - val_accuracy: 0.8705 - val_precision: 0.8731 - val_recall: 0.8012 - val_f1_score: 0.8356\n",
      "Epoch 35/100\n",
      "197/197 [==============================] - 4s 22ms/step - loss: 0.6912 - accuracy: 0.8544 - precision: 0.7946 - recall: 0.8778 - f1_score: 0.8341 - val_loss: 0.3367 - val_accuracy: 0.8520 - val_precision: 0.8927 - val_recall: 0.7259 - val_f1_score: 0.8007\n",
      "Epoch 36/100\n",
      "197/197 [==============================] - 4s 23ms/step - loss: 0.7018 - accuracy: 0.8538 - precision: 0.7922 - recall: 0.8795 - f1_score: 0.8335 - val_loss: 0.2936 - val_accuracy: 0.8814 - val_precision: 0.8493 - val_recall: 0.8651 - val_f1_score: 0.8571\n",
      "Epoch 37/100\n",
      "197/197 [==============================] - 4s 22ms/step - loss: 0.6767 - accuracy: 0.8548 - precision: 0.7940 - recall: 0.8801 - f1_score: 0.8348 - val_loss: 0.4602 - val_accuracy: 0.8061 - val_precision: 0.9060 - val_recall: 0.5866 - val_f1_score: 0.7121\n",
      "Epoch 38/100\n",
      "197/197 [==============================] - 4s 21ms/step - loss: 0.6717 - accuracy: 0.8578 - precision: 0.8020 - recall: 0.8752 - f1_score: 0.8370 - val_loss: 0.2882 - val_accuracy: 0.8820 - val_precision: 0.8547 - val_recall: 0.8560 - val_f1_score: 0.8554\n",
      "Epoch 39/100\n",
      "197/197 [==============================] - 4s 22ms/step - loss: 0.6694 - accuracy: 0.8589 - precision: 0.8002 - recall: 0.8821 - f1_score: 0.8392 - val_loss: 0.2959 - val_accuracy: 0.8731 - val_precision: 0.8546 - val_recall: 0.8292 - val_f1_score: 0.8417\n",
      "Epoch 40/100\n",
      "197/197 [==============================] - 4s 21ms/step - loss: 0.6677 - accuracy: 0.8527 - precision: 0.7920 - recall: 0.8765 - f1_score: 0.8321 - val_loss: 0.2913 - val_accuracy: 0.8782 - val_precision: 0.8485 - val_recall: 0.8551 - val_f1_score: 0.8518\n",
      "Epoch 41/100\n",
      "197/197 [==============================] - 4s 21ms/step - loss: 0.6688 - accuracy: 0.8576 - precision: 0.7960 - recall: 0.8854 - f1_score: 0.8383 - val_loss: 0.2934 - val_accuracy: 0.8724 - val_precision: 0.8510 - val_recall: 0.8351 - val_f1_score: 0.8430\n",
      "Epoch 42/100\n",
      "197/197 [==============================] - 4s 21ms/step - loss: 0.6550 - accuracy: 0.8660 - precision: 0.8081 - recall: 0.8905 - f1_score: 0.8473 - val_loss: 0.3372 - val_accuracy: 0.8514 - val_precision: 0.7547 - val_recall: 0.9439 - val_f1_score: 0.8388\n",
      "Epoch 43/100\n",
      "197/197 [==============================] - 4s 21ms/step - loss: 0.6516 - accuracy: 0.8589 - precision: 0.8019 - recall: 0.8780 - f1_score: 0.8382 - val_loss: 0.2898 - val_accuracy: 0.8776 - val_precision: 0.8160 - val_recall: 0.9050 - val_f1_score: 0.8582\n",
      "Epoch 44/100\n",
      "197/197 [==============================] - 4s 21ms/step - loss: 0.6770 - accuracy: 0.8546 - precision: 0.7967 - recall: 0.8744 - f1_score: 0.8338 - val_loss: 0.2831 - val_accuracy: 0.8814 - val_precision: 0.8324 - val_recall: 0.8894 - val_f1_score: 0.8599\n",
      "Epoch 45/100\n",
      "197/197 [==============================] - 4s 21ms/step - loss: 0.6610 - accuracy: 0.8571 - precision: 0.7997 - recall: 0.8760 - f1_score: 0.8361 - val_loss: 0.2929 - val_accuracy: 0.8763 - val_precision: 0.8011 - val_recall: 0.9283 - val_f1_score: 0.8600\n",
      "Epoch 46/100\n",
      "197/197 [==============================] - 4s 21ms/step - loss: 0.6422 - accuracy: 0.8644 - precision: 0.8120 - recall: 0.8781 - f1_score: 0.8438 - val_loss: 0.3256 - val_accuracy: 0.8559 - val_precision: 0.7660 - val_recall: 0.9330 - val_f1_score: 0.8413\n",
      "Epoch 47/100\n",
      "197/197 [==============================] - 4s 21ms/step - loss: 0.6619 - accuracy: 0.8600 - precision: 0.8029 - recall: 0.8805 - f1_score: 0.8399 - val_loss: 0.3002 - val_accuracy: 0.8712 - val_precision: 0.7970 - val_recall: 0.9208 - val_f1_score: 0.8545\n",
      "Epoch 48/100\n",
      "197/197 [==============================] - 4s 21ms/step - loss: 0.6678 - accuracy: 0.8602 - precision: 0.8027 - recall: 0.8807 - f1_score: 0.8399 - val_loss: 0.2888 - val_accuracy: 0.8737 - val_precision: 0.8267 - val_recall: 0.8756 - val_f1_score: 0.8505\n",
      "Epoch 49/100\n",
      "197/197 [==============================] - 4s 21ms/step - loss: 0.6393 - accuracy: 0.8641 - precision: 0.8071 - recall: 0.8852 - f1_score: 0.8444 - val_loss: 0.2892 - val_accuracy: 0.8807 - val_precision: 0.8287 - val_recall: 0.8922 - val_f1_score: 0.8593\n",
      "Epoch 50/100\n",
      "197/197 [==============================] - 4s 21ms/step - loss: 0.6442 - accuracy: 0.8648 - precision: 0.8067 - recall: 0.8874 - f1_score: 0.8451 - val_loss: 0.2822 - val_accuracy: 0.8814 - val_precision: 0.8383 - val_recall: 0.8801 - val_f1_score: 0.8587\n",
      "Epoch 51/100\n",
      "197/197 [==============================] - 4s 20ms/step - loss: 0.6568 - accuracy: 0.8667 - precision: 0.8107 - recall: 0.8872 - f1_score: 0.8472 - val_loss: 0.2802 - val_accuracy: 0.8827 - val_precision: 0.8331 - val_recall: 0.8927 - val_f1_score: 0.8619\n",
      "Epoch 52/100\n",
      "197/197 [==============================] - 4s 20ms/step - loss: 0.6470 - accuracy: 0.8654 - precision: 0.8072 - recall: 0.8896 - f1_score: 0.8464 - val_loss: 0.2932 - val_accuracy: 0.8750 - val_precision: 0.8244 - val_recall: 0.8834 - val_f1_score: 0.8529\n",
      "Epoch 53/100\n",
      "197/197 [==============================] - 4s 20ms/step - loss: 0.6594 - accuracy: 0.8570 - precision: 0.8025 - recall: 0.8713 - f1_score: 0.8355 - val_loss: 0.2791 - val_accuracy: 0.8807 - val_precision: 0.8401 - val_recall: 0.8754 - val_f1_score: 0.8574\n",
      "Epoch 54/100\n",
      "197/197 [==============================] - 4s 20ms/step - loss: 0.6405 - accuracy: 0.8673 - precision: 0.8130 - recall: 0.8854 - f1_score: 0.8477 - val_loss: 0.2708 - val_accuracy: 0.8846 - val_precision: 0.8558 - val_recall: 0.8651 - val_f1_score: 0.8604\n",
      "Epoch 55/100\n",
      "197/197 [==============================] - 4s 20ms/step - loss: 0.6296 - accuracy: 0.8687 - precision: 0.8145 - recall: 0.8874 - f1_score: 0.8494 - val_loss: 0.2742 - val_accuracy: 0.8846 - val_precision: 0.8453 - val_recall: 0.8783 - val_f1_score: 0.8615\n",
      "Epoch 56/100\n",
      "197/197 [==============================] - 4s 21ms/step - loss: 0.6433 - accuracy: 0.8724 - precision: 0.8219 - recall: 0.8863 - f1_score: 0.8529 - val_loss: 0.3069 - val_accuracy: 0.8686 - val_precision: 0.7851 - val_recall: 0.9345 - val_f1_score: 0.8533\n",
      "Epoch 57/100\n",
      "197/197 [==============================] - 4s 20ms/step - loss: 0.6253 - accuracy: 0.8679 - precision: 0.8136 - recall: 0.8861 - f1_score: 0.8483 - val_loss: 0.2778 - val_accuracy: 0.8839 - val_precision: 0.8641 - val_recall: 0.8507 - val_f1_score: 0.8574\n",
      "Epoch 58/100\n",
      "197/197 [==============================] - 4s 20ms/step - loss: 0.6349 - accuracy: 0.8668 - precision: 0.8146 - recall: 0.8813 - f1_score: 0.8466 - val_loss: 0.2746 - val_accuracy: 0.8833 - val_precision: 0.8619 - val_recall: 0.8525 - val_f1_score: 0.8571\n",
      "Epoch 59/100\n",
      "197/197 [==============================] - 4s 20ms/step - loss: 0.6347 - accuracy: 0.8683 - precision: 0.8147 - recall: 0.8849 - f1_score: 0.8484 - val_loss: 0.3147 - val_accuracy: 0.8597 - val_precision: 0.7736 - val_recall: 0.9300 - val_f1_score: 0.8446\n",
      "Epoch 60/100\n",
      "197/197 [==============================] - 4s 20ms/step - loss: 0.6218 - accuracy: 0.8716 - precision: 0.8203 - recall: 0.8862 - f1_score: 0.8520 - val_loss: 0.2843 - val_accuracy: 0.8788 - val_precision: 0.8210 - val_recall: 0.9003 - val_f1_score: 0.8588\n",
      "Epoch 61/100\n",
      "197/197 [==============================] - 4s 20ms/step - loss: 0.6128 - accuracy: 0.8698 - precision: 0.8159 - recall: 0.8880 - f1_score: 0.8504 - val_loss: 0.3752 - val_accuracy: 0.8476 - val_precision: 0.9136 - val_recall: 0.6927 - val_f1_score: 0.7879\n",
      "Epoch 62/100\n",
      "197/197 [==============================] - 4s 20ms/step - loss: 0.6364 - accuracy: 0.8673 - precision: 0.8152 - recall: 0.8822 - f1_score: 0.8474 - val_loss: 0.2680 - val_accuracy: 0.8884 - val_precision: 0.8552 - val_recall: 0.8752 - val_f1_score: 0.8651\n",
      "Epoch 63/100\n",
      "197/197 [==============================] - 4s 20ms/step - loss: 0.6362 - accuracy: 0.8659 - precision: 0.8133 - recall: 0.8810 - f1_score: 0.8458 - val_loss: 0.2726 - val_accuracy: 0.8897 - val_precision: 0.8685 - val_recall: 0.8618 - val_f1_score: 0.8652\n",
      "Epoch 64/100\n",
      "197/197 [==============================] - 4s 20ms/step - loss: 0.6228 - accuracy: 0.8710 - precision: 0.8211 - recall: 0.8827 - f1_score: 0.8508 - val_loss: 0.2789 - val_accuracy: 0.8820 - val_precision: 0.8585 - val_recall: 0.8518 - val_f1_score: 0.8551\n",
      "Epoch 65/100\n",
      "197/197 [==============================] - 4s 20ms/step - loss: 0.6209 - accuracy: 0.8767 - precision: 0.8260 - recall: 0.8918 - f1_score: 0.8576 - val_loss: 0.2692 - val_accuracy: 0.8820 - val_precision: 0.8348 - val_recall: 0.8903 - val_f1_score: 0.8616\n",
      "Epoch 66/100\n",
      "197/197 [==============================] - 4s 20ms/step - loss: 0.6419 - accuracy: 0.8640 - precision: 0.8101 - recall: 0.8801 - f1_score: 0.8436 - val_loss: 0.3240 - val_accuracy: 0.8482 - val_precision: 0.7500 - val_recall: 0.9422 - val_f1_score: 0.8352\n",
      "Epoch 67/100\n",
      "197/197 [==============================] - 4s 20ms/step - loss: 0.6305 - accuracy: 0.8662 - precision: 0.8133 - recall: 0.8806 - f1_score: 0.8456 - val_loss: 0.3010 - val_accuracy: 0.8673 - val_precision: 0.7868 - val_recall: 0.9267 - val_f1_score: 0.8510\n",
      "Epoch 68/100\n",
      "197/197 [==============================] - 4s 20ms/step - loss: 0.6456 - accuracy: 0.8605 - precision: 0.8052 - recall: 0.8773 - f1_score: 0.8397 - val_loss: 0.2735 - val_accuracy: 0.8871 - val_precision: 0.8370 - val_recall: 0.8984 - val_f1_score: 0.8666\n",
      "Epoch 69/100\n",
      "197/197 [==============================] - 4s 20ms/step - loss: 0.6269 - accuracy: 0.8684 - precision: 0.8153 - recall: 0.8851 - f1_score: 0.8488 - val_loss: 0.2686 - val_accuracy: 0.8884 - val_precision: 0.8490 - val_recall: 0.8847 - val_f1_score: 0.8665\n",
      "Epoch 70/100\n",
      "197/197 [==============================] - 4s 20ms/step - loss: 0.6323 - accuracy: 0.8702 - precision: 0.8191 - recall: 0.8839 - f1_score: 0.8503 - val_loss: 0.3022 - val_accuracy: 0.8686 - val_precision: 0.8705 - val_recall: 0.7972 - val_f1_score: 0.8322\n",
      "Epoch 71/100\n",
      "197/197 [==============================] - 4s 20ms/step - loss: 0.6324 - accuracy: 0.8703 - precision: 0.8189 - recall: 0.8841 - f1_score: 0.8503 - val_loss: 0.2649 - val_accuracy: 0.8897 - val_precision: 0.8563 - val_recall: 0.8764 - val_f1_score: 0.8662\n",
      "Epoch 72/100\n",
      "197/197 [==============================] - 4s 20ms/step - loss: 0.6246 - accuracy: 0.8683 - precision: 0.8203 - recall: 0.8753 - f1_score: 0.8469 - val_loss: 0.2686 - val_accuracy: 0.8916 - val_precision: 0.8527 - val_recall: 0.8898 - val_f1_score: 0.8708\n",
      "Epoch 73/100\n",
      "197/197 [==============================] - 4s 20ms/step - loss: 0.6333 - accuracy: 0.8663 - precision: 0.8131 - recall: 0.8819 - f1_score: 0.8461 - val_loss: 0.2716 - val_accuracy: 0.8865 - val_precision: 0.8528 - val_recall: 0.8740 - val_f1_score: 0.8633\n",
      "Epoch 74/100\n",
      "197/197 [==============================] - 4s 20ms/step - loss: 0.6266 - accuracy: 0.8710 - precision: 0.8198 - recall: 0.8850 - f1_score: 0.8512 - val_loss: 0.2765 - val_accuracy: 0.8852 - val_precision: 0.8545 - val_recall: 0.8678 - val_f1_score: 0.8611\n",
      "Epoch 75/100\n",
      "197/197 [==============================] - 4s 20ms/step - loss: 0.6339 - accuracy: 0.8671 - precision: 0.8160 - recall: 0.8797 - f1_score: 0.8466 - val_loss: 0.2679 - val_accuracy: 0.8878 - val_precision: 0.8362 - val_recall: 0.9016 - val_f1_score: 0.8677\n",
      "Epoch 76/100\n",
      "197/197 [==============================] - 4s 20ms/step - loss: 0.6160 - accuracy: 0.8738 - precision: 0.8225 - recall: 0.8892 - f1_score: 0.8545 - val_loss: 0.2741 - val_accuracy: 0.8833 - val_precision: 0.8283 - val_recall: 0.9019 - val_f1_score: 0.8635\n",
      "Epoch 77/100\n",
      "197/197 [==============================] - 4s 20ms/step - loss: 0.6170 - accuracy: 0.8648 - precision: 0.8111 - recall: 0.8809 - f1_score: 0.8445 - val_loss: 0.2853 - val_accuracy: 0.8782 - val_precision: 0.8919 - val_recall: 0.8025 - val_f1_score: 0.8448\n",
      "Epoch 78/100\n",
      "197/197 [==============================] - 4s 20ms/step - loss: 0.6064 - accuracy: 0.8708 - precision: 0.8186 - recall: 0.8866 - f1_score: 0.8512 - val_loss: 0.2639 - val_accuracy: 0.8903 - val_precision: 0.8738 - val_recall: 0.8576 - val_f1_score: 0.8656\n",
      "Epoch 79/100\n",
      "197/197 [==============================] - 4s 20ms/step - loss: 0.6089 - accuracy: 0.8727 - precision: 0.8247 - recall: 0.8825 - f1_score: 0.8526 - val_loss: 0.2711 - val_accuracy: 0.8846 - val_precision: 0.8688 - val_recall: 0.8458 - val_f1_score: 0.8571\n",
      "Epoch 80/100\n",
      "197/197 [==============================] - 4s 20ms/step - loss: 0.6116 - accuracy: 0.8713 - precision: 0.8260 - recall: 0.8760 - f1_score: 0.8502 - val_loss: 0.2717 - val_accuracy: 0.8846 - val_precision: 0.8260 - val_recall: 0.9097 - val_f1_score: 0.8658\n",
      "Epoch 81/100\n",
      "197/197 [==============================] - 4s 20ms/step - loss: 0.5910 - accuracy: 0.8760 - precision: 0.8249 - recall: 0.8919 - f1_score: 0.8571 - val_loss: 0.3143 - val_accuracy: 0.8629 - val_precision: 0.7811 - val_recall: 0.9255 - val_f1_score: 0.8472\n",
      "Epoch 82/100\n",
      "197/197 [==============================] - 4s 20ms/step - loss: 0.6167 - accuracy: 0.8741 - precision: 0.8233 - recall: 0.8877 - f1_score: 0.8543 - val_loss: 0.2903 - val_accuracy: 0.8718 - val_precision: 0.7962 - val_recall: 0.9238 - val_f1_score: 0.8553\n",
      "Epoch 83/100\n",
      "197/197 [==============================] - 4s 20ms/step - loss: 0.6273 - accuracy: 0.8687 - precision: 0.8162 - recall: 0.8843 - f1_score: 0.8489 - val_loss: 0.2907 - val_accuracy: 0.8673 - val_precision: 0.8006 - val_recall: 0.9003 - val_f1_score: 0.8475\n",
      "Epoch 84/100\n",
      "197/197 [==============================] - 4s 20ms/step - loss: 0.6206 - accuracy: 0.8698 - precision: 0.8187 - recall: 0.8830 - f1_score: 0.8496 - val_loss: 0.2654 - val_accuracy: 0.8948 - val_precision: 0.8494 - val_recall: 0.9036 - val_f1_score: 0.8757\n",
      "Epoch 85/100\n",
      "197/197 [==============================] - 4s 20ms/step - loss: 0.6166 - accuracy: 0.8687 - precision: 0.8161 - recall: 0.8837 - f1_score: 0.8486 - val_loss: 0.2646 - val_accuracy: 0.8852 - val_precision: 0.8521 - val_recall: 0.8707 - val_f1_score: 0.8613\n",
      "Epoch 86/100\n",
      "197/197 [==============================] - 4s 20ms/step - loss: 0.5852 - accuracy: 0.8778 - precision: 0.8289 - recall: 0.8913 - f1_score: 0.8589 - val_loss: 0.2724 - val_accuracy: 0.8878 - val_precision: 0.8374 - val_recall: 0.9023 - val_f1_score: 0.8687\n",
      "Epoch 87/100\n",
      "197/197 [==============================] - 4s 20ms/step - loss: 0.6009 - accuracy: 0.8743 - precision: 0.8261 - recall: 0.8851 - f1_score: 0.8546 - val_loss: 0.2746 - val_accuracy: 0.8871 - val_precision: 0.8896 - val_recall: 0.8274 - val_f1_score: 0.8574\n",
      "Epoch 88/100\n",
      "197/197 [==============================] - 4s 20ms/step - loss: 0.6148 - accuracy: 0.8689 - precision: 0.8186 - recall: 0.8809 - f1_score: 0.8486 - val_loss: 0.3171 - val_accuracy: 0.8610 - val_precision: 0.8857 - val_recall: 0.7589 - val_f1_score: 0.8174\n",
      "Epoch 89/100\n",
      "197/197 [==============================] - 4s 20ms/step - loss: 0.6159 - accuracy: 0.8730 - precision: 0.8251 - recall: 0.8823 - f1_score: 0.8527 - val_loss: 0.2702 - val_accuracy: 0.8878 - val_precision: 0.8401 - val_recall: 0.8975 - val_f1_score: 0.8679\n",
      "Epoch 90/100\n",
      "197/197 [==============================] - 4s 20ms/step - loss: 0.6097 - accuracy: 0.8733 - precision: 0.8238 - recall: 0.8853 - f1_score: 0.8535 - val_loss: 0.2739 - val_accuracy: 0.8814 - val_precision: 0.8343 - val_recall: 0.8863 - val_f1_score: 0.8595\n",
      "Epoch 91/100\n",
      "197/197 [==============================] - 4s 20ms/step - loss: 0.6081 - accuracy: 0.8719 - precision: 0.8227 - recall: 0.8826 - f1_score: 0.8516 - val_loss: 0.2788 - val_accuracy: 0.8827 - val_precision: 0.8885 - val_recall: 0.8168 - val_f1_score: 0.8511\n",
      "Epoch 92/100\n",
      "197/197 [==============================] - 4s 20ms/step - loss: 0.6293 - accuracy: 0.8697 - precision: 0.8222 - recall: 0.8776 - f1_score: 0.8490 - val_loss: 0.2770 - val_accuracy: 0.8839 - val_precision: 0.8696 - val_recall: 0.8424 - val_f1_score: 0.8558\n",
      "Epoch 93/100\n",
      "197/197 [==============================] - 4s 20ms/step - loss: 0.6013 - accuracy: 0.8737 - precision: 0.8241 - recall: 0.8862 - f1_score: 0.8540 - val_loss: 0.2855 - val_accuracy: 0.8839 - val_precision: 0.8291 - val_recall: 0.9037 - val_f1_score: 0.8648\n",
      "Epoch 94/100\n",
      "197/197 [==============================] - 4s 20ms/step - loss: 0.6110 - accuracy: 0.8706 - precision: 0.8222 - recall: 0.8796 - f1_score: 0.8499 - val_loss: 0.2732 - val_accuracy: 0.8807 - val_precision: 0.8243 - val_recall: 0.9002 - val_f1_score: 0.8606\n",
      "Epoch 95/100\n",
      "197/197 [==============================] - 4s 20ms/step - loss: 0.6137 - accuracy: 0.8757 - precision: 0.8245 - recall: 0.8919 - f1_score: 0.8569 - val_loss: 0.2666 - val_accuracy: 0.8833 - val_precision: 0.8644 - val_recall: 0.8469 - val_f1_score: 0.8556\n",
      "Epoch 96/100\n",
      "197/197 [==============================] - 4s 20ms/step - loss: 0.6240 - accuracy: 0.8687 - precision: 0.8183 - recall: 0.8809 - f1_score: 0.8485 - val_loss: 0.2745 - val_accuracy: 0.8890 - val_precision: 0.8326 - val_recall: 0.9129 - val_f1_score: 0.8709\n",
      "Epoch 97/100\n",
      "197/197 [==============================] - 4s 20ms/step - loss: 0.5890 - accuracy: 0.8784 - precision: 0.8321 - recall: 0.8878 - f1_score: 0.8591 - val_loss: 0.3151 - val_accuracy: 0.8508 - val_precision: 0.7538 - val_recall: 0.9422 - val_f1_score: 0.8375\n",
      "Epoch 98/100\n",
      "197/197 [==============================] - 4s 20ms/step - loss: 0.5964 - accuracy: 0.8733 - precision: 0.8244 - recall: 0.8841 - f1_score: 0.8532 - val_loss: 0.2691 - val_accuracy: 0.8795 - val_precision: 0.8809 - val_recall: 0.8165 - val_f1_score: 0.8475\n",
      "Epoch 99/100\n",
      "197/197 [==============================] - 4s 21ms/step - loss: 0.6181 - accuracy: 0.8737 - precision: 0.8258 - recall: 0.8830 - f1_score: 0.8535 - val_loss: 0.2650 - val_accuracy: 0.8846 - val_precision: 0.8392 - val_recall: 0.8877 - val_f1_score: 0.8628\n",
      "Epoch 100/100\n",
      "197/197 [==============================] - 4s 23ms/step - loss: 0.5975 - accuracy: 0.8706 - precision: 0.8199 - recall: 0.8839 - f1_score: 0.8507 - val_loss: 0.2894 - val_accuracy: 0.8776 - val_precision: 0.8108 - val_recall: 0.9143 - val_f1_score: 0.8594\n"
     ]
    },
    {
     "data": {
      "text/plain": "<keras.callbacks.History at 0x2c7d3b040>"
     },
     "execution_count": 13,
     "metadata": {},
     "output_type": "execute_result"
    }
   ],
   "source": [
    "epochs = 100\n",
    "baseline_binary.fit(\n",
    "    train_isCancerous_generator,\n",
    "    steps_per_epoch=len(train_data) // batch_size,\n",
    "    epochs=epochs,\n",
    "    validation_data=val_isCancerous_generator,\n",
    "    validation_steps=len(val_data) // batch_size,\n",
    "    class_weight=class_weight_dict_isCancerous\n",
    ")"
   ],
   "metadata": {
    "collapsed": false,
    "ExecuteTime": {
     "end_time": "2023-05-07T08:13:12.643121Z",
     "start_time": "2023-05-07T08:06:24.378387Z"
    }
   }
  },
  {
   "cell_type": "code",
   "execution_count": 14,
   "outputs": [
    {
     "name": "stdout",
     "output_type": "stream",
     "text": [
      "62/62 [==============================] - 1s 16ms/step - loss: 0.2834 - accuracy: 0.8899 - precision: 0.8259 - recall: 0.9178 - f1_score: 0.8695\n"
     ]
    },
    {
     "data": {
      "text/plain": "[0.283389687538147,\n 0.8898990154266357,\n 0.8259385824203491,\n 0.9178255200386047,\n 0.869460940361023]"
     },
     "execution_count": 14,
     "metadata": {},
     "output_type": "execute_result"
    }
   ],
   "source": [
    "baseline_binary.evaluate(test_isCancerous_generator)"
   ],
   "metadata": {
    "collapsed": false,
    "ExecuteTime": {
     "end_time": "2023-05-07T08:13:13.684427Z",
     "start_time": "2023-05-07T08:13:12.645218Z"
    }
   }
  },
  {
   "cell_type": "code",
   "execution_count": 15,
   "outputs": [
    {
     "name": "stdout",
     "output_type": "stream",
     "text": [
      "Epoch 1/100\n",
      "195/197 [============================>.] - ETA: 0s - loss: 5.3438 - accuracy: 0.4120 - precision: 0.6688 - recall: 0.0991 - f1_score: 0.3714"
     ]
    },
    {
     "name": "stderr",
     "output_type": "stream",
     "text": [
      "/Users/hueybai/miniconda3/envs/DL/lib/python3.10/site-packages/keras/engine/training.py:2448: UserWarning: Metric MultiCategoryF1Score implements a `reset_states()` method; rename it to `reset_state()` (without the final \"s\"). The name `reset_states()` has been deprecated to improve API consistency.\n",
      "  m.reset_state()\n"
     ]
    },
    {
     "name": "stdout",
     "output_type": "stream",
     "text": [
      "197/197 [==============================] - 6s 27ms/step - loss: 5.3362 - accuracy: 0.4138 - precision: 0.6688 - recall: 0.1006 - f1_score: 0.3726 - val_loss: 1.0084 - val_accuracy: 0.6441 - val_precision: 0.8477 - val_recall: 0.2449 - val_f1_score: nan\n",
      "Epoch 2/100\n",
      "197/197 [==============================] - 5s 25ms/step - loss: 4.7167 - accuracy: 0.5389 - precision: 0.7569 - recall: 0.2343 - f1_score: 0.4630 - val_loss: 0.9901 - val_accuracy: 0.5867 - val_precision: 0.7925 - val_recall: 0.3093 - val_f1_score: 0.5266\n",
      "Epoch 3/100\n",
      "197/197 [==============================] - 5s 25ms/step - loss: 4.5537 - accuracy: 0.5652 - precision: 0.7592 - recall: 0.3033 - f1_score: 0.4879 - val_loss: 1.2619 - val_accuracy: 0.5338 - val_precision: 0.8271 - val_recall: 0.1983 - val_f1_score: 0.5441\n",
      "Epoch 4/100\n",
      "197/197 [==============================] - 5s 25ms/step - loss: 4.4118 - accuracy: 0.5895 - precision: 0.7450 - recall: 0.3340 - f1_score: 0.5129 - val_loss: 0.8725 - val_accuracy: 0.6709 - val_precision: 0.8113 - val_recall: 0.4471 - val_f1_score: 0.6004\n",
      "Epoch 5/100\n",
      "197/197 [==============================] - 5s 25ms/step - loss: 4.3484 - accuracy: 0.6046 - precision: 0.7358 - recall: 0.3687 - f1_score: 0.5318 - val_loss: 0.8602 - val_accuracy: 0.6945 - val_precision: 0.8014 - val_recall: 0.5019 - val_f1_score: 0.6533\n",
      "Epoch 6/100\n",
      "197/197 [==============================] - 5s 26ms/step - loss: 4.3122 - accuracy: 0.6162 - precision: 0.7442 - recall: 0.3837 - f1_score: 0.5408 - val_loss: 1.0156 - val_accuracy: 0.5969 - val_precision: 0.7148 - val_recall: 0.3980 - val_f1_score: 0.5597\n",
      "Epoch 7/100\n",
      "197/197 [==============================] - 5s 25ms/step - loss: 4.2631 - accuracy: 0.6287 - precision: 0.7459 - recall: 0.3886 - f1_score: 0.5513 - val_loss: 0.8459 - val_accuracy: 0.6690 - val_precision: 0.7527 - val_recall: 0.5395 - val_f1_score: 0.6277\n",
      "Epoch 8/100\n",
      "197/197 [==============================] - 5s 24ms/step - loss: 4.3125 - accuracy: 0.6124 - precision: 0.7326 - recall: 0.3962 - f1_score: 0.5403 - val_loss: 0.9630 - val_accuracy: 0.6358 - val_precision: 0.7619 - val_recall: 0.4592 - val_f1_score: 0.6035\n",
      "Epoch 9/100\n",
      "197/197 [==============================] - 5s 23ms/step - loss: 4.2139 - accuracy: 0.6251 - precision: 0.7390 - recall: 0.4063 - f1_score: 0.5510 - val_loss: 1.0015 - val_accuracy: 0.6167 - val_precision: 0.7696 - val_recall: 0.4388 - val_f1_score: 0.5911\n",
      "Epoch 10/100\n",
      "197/197 [==============================] - 5s 23ms/step - loss: 4.2455 - accuracy: 0.6286 - precision: 0.7351 - recall: 0.4132 - f1_score: 0.5571 - val_loss: 0.8867 - val_accuracy: 0.6856 - val_precision: 0.8414 - val_recall: 0.4668 - val_f1_score: 0.6225\n",
      "Epoch 11/100\n",
      "197/197 [==============================] - 5s 25ms/step - loss: 4.2231 - accuracy: 0.6289 - precision: 0.7341 - recall: 0.3983 - f1_score: 0.5563 - val_loss: 0.9004 - val_accuracy: 0.6722 - val_precision: 0.7778 - val_recall: 0.5134 - val_f1_score: 0.6225\n",
      "Epoch 12/100\n",
      "197/197 [==============================] - 5s 25ms/step - loss: 4.2118 - accuracy: 0.6268 - precision: 0.7426 - recall: 0.4135 - f1_score: 0.5522 - val_loss: 0.9093 - val_accuracy: 0.6607 - val_precision: 0.7513 - val_recall: 0.5472 - val_f1_score: 0.6109\n",
      "Epoch 13/100\n",
      "197/197 [==============================] - 5s 25ms/step - loss: 4.2176 - accuracy: 0.6265 - precision: 0.7338 - recall: 0.4060 - f1_score: 0.5468 - val_loss: 0.8766 - val_accuracy: 0.6773 - val_precision: 0.8004 - val_recall: 0.5293 - val_f1_score: 0.6162\n",
      "Epoch 14/100\n",
      "197/197 [==============================] - 5s 25ms/step - loss: 4.1924 - accuracy: 0.6260 - precision: 0.7381 - recall: 0.4151 - f1_score: 0.5533 - val_loss: 0.9492 - val_accuracy: 0.6416 - val_precision: 0.7961 - val_recall: 0.4630 - val_f1_score: 0.6064\n",
      "Epoch 15/100\n",
      "197/197 [==============================] - 5s 24ms/step - loss: 4.1738 - accuracy: 0.6202 - precision: 0.7373 - recall: 0.4140 - f1_score: 0.5465 - val_loss: 0.8999 - val_accuracy: 0.6735 - val_precision: 0.7957 - val_recall: 0.4968 - val_f1_score: 0.6220\n",
      "Epoch 16/100\n",
      "197/197 [==============================] - 5s 25ms/step - loss: 4.1503 - accuracy: 0.6294 - precision: 0.7497 - recall: 0.4284 - f1_score: 0.5547 - val_loss: 0.9371 - val_accuracy: 0.6467 - val_precision: 0.7527 - val_recall: 0.5300 - val_f1_score: 0.6051\n",
      "Epoch 17/100\n",
      "197/197 [==============================] - 5s 26ms/step - loss: 4.1797 - accuracy: 0.6275 - precision: 0.7426 - recall: 0.4222 - f1_score: 0.5562 - val_loss: 0.8160 - val_accuracy: 0.7047 - val_precision: 0.8149 - val_recall: 0.5389 - val_f1_score: 0.6311\n",
      "Epoch 18/100\n",
      "197/197 [==============================] - 5s 25ms/step - loss: 4.1022 - accuracy: 0.6340 - precision: 0.7451 - recall: 0.4437 - f1_score: 0.5650 - val_loss: 0.8097 - val_accuracy: 0.6869 - val_precision: 0.7564 - val_recall: 0.6040 - val_f1_score: 0.6412\n",
      "Epoch 19/100\n",
      "197/197 [==============================] - 5s 24ms/step - loss: 4.1036 - accuracy: 0.6319 - precision: 0.7445 - recall: 0.4375 - f1_score: 0.5574 - val_loss: 0.8754 - val_accuracy: 0.6939 - val_precision: 0.7900 - val_recall: 0.5446 - val_f1_score: 0.6464\n",
      "Epoch 20/100\n",
      "197/197 [==============================] - 5s 23ms/step - loss: 4.0630 - accuracy: 0.6417 - precision: 0.7523 - recall: 0.4498 - f1_score: 0.5722 - val_loss: 0.8294 - val_accuracy: 0.7041 - val_precision: 0.8140 - val_recall: 0.5357 - val_f1_score: 0.6502\n",
      "Epoch 21/100\n",
      "197/197 [==============================] - 5s 23ms/step - loss: 4.0665 - accuracy: 0.6330 - precision: 0.7593 - recall: 0.4492 - f1_score: 0.5657 - val_loss: 0.9214 - val_accuracy: 0.6550 - val_precision: 0.7491 - val_recall: 0.5255 - val_f1_score: 0.6133\n",
      "Epoch 22/100\n",
      "197/197 [==============================] - 5s 23ms/step - loss: 4.0981 - accuracy: 0.6322 - precision: 0.7479 - recall: 0.4356 - f1_score: 0.5620 - val_loss: 0.9104 - val_accuracy: 0.6601 - val_precision: 0.7869 - val_recall: 0.4898 - val_f1_score: 0.6307\n",
      "Epoch 23/100\n",
      "197/197 [==============================] - 5s 23ms/step - loss: 4.0484 - accuracy: 0.6435 - precision: 0.7569 - recall: 0.4557 - f1_score: 0.5729 - val_loss: 1.1747 - val_accuracy: 0.5555 - val_precision: 0.6534 - val_recall: 0.3980 - val_f1_score: 0.5759\n",
      "Epoch 24/100\n",
      "197/197 [==============================] - 5s 23ms/step - loss: 4.0306 - accuracy: 0.6378 - precision: 0.7536 - recall: 0.4533 - f1_score: 0.5664 - val_loss: 0.8895 - val_accuracy: 0.6665 - val_precision: 0.7422 - val_recall: 0.5434 - val_f1_score: 0.6366\n",
      "Epoch 25/100\n",
      "197/197 [==============================] - 5s 23ms/step - loss: 4.0074 - accuracy: 0.6421 - precision: 0.7528 - recall: 0.4644 - f1_score: 0.5698 - val_loss: 0.8621 - val_accuracy: 0.6856 - val_precision: 0.8062 - val_recall: 0.4987 - val_f1_score: 0.6423\n",
      "Epoch 26/100\n",
      "197/197 [==============================] - 5s 23ms/step - loss: 3.9783 - accuracy: 0.6451 - precision: 0.7533 - recall: 0.4638 - f1_score: 0.5761 - val_loss: 0.8816 - val_accuracy: 0.6658 - val_precision: 0.7371 - val_recall: 0.5364 - val_f1_score: 0.6257\n",
      "Epoch 27/100\n",
      "197/197 [==============================] - 5s 23ms/step - loss: 4.0884 - accuracy: 0.6346 - precision: 0.7526 - recall: 0.4448 - f1_score: 0.5625 - val_loss: 0.8641 - val_accuracy: 0.6786 - val_precision: 0.7945 - val_recall: 0.4930 - val_f1_score: 0.6268\n",
      "Epoch 28/100\n",
      "197/197 [==============================] - 5s 23ms/step - loss: 3.9739 - accuracy: 0.6378 - precision: 0.7571 - recall: 0.4606 - f1_score: 0.5677 - val_loss: 0.8699 - val_accuracy: 0.6818 - val_precision: 0.7756 - val_recall: 0.5159 - val_f1_score: 0.6323\n",
      "Epoch 29/100\n",
      "197/197 [==============================] - 4s 22ms/step - loss: 3.9369 - accuracy: 0.6356 - precision: 0.7567 - recall: 0.4714 - f1_score: 0.5680 - val_loss: 0.8408 - val_accuracy: 0.6824 - val_precision: 0.7978 - val_recall: 0.5083 - val_f1_score: 0.6374\n",
      "Epoch 30/100\n",
      "197/197 [==============================] - 4s 22ms/step - loss: 3.9256 - accuracy: 0.6478 - precision: 0.7632 - recall: 0.4690 - f1_score: 0.5820 - val_loss: 0.7361 - val_accuracy: 0.7219 - val_precision: 0.7842 - val_recall: 0.6186 - val_f1_score: 0.6722\n",
      "Epoch 31/100\n",
      "197/197 [==============================] - 4s 22ms/step - loss: 3.9805 - accuracy: 0.6429 - precision: 0.7534 - recall: 0.4705 - f1_score: 0.5748 - val_loss: 0.7664 - val_accuracy: 0.7239 - val_precision: 0.8082 - val_recall: 0.5938 - val_f1_score: 0.6795\n",
      "Epoch 32/100\n",
      "197/197 [==============================] - 4s 22ms/step - loss: 3.9114 - accuracy: 0.6530 - precision: 0.7713 - recall: 0.4779 - f1_score: 0.5848 - val_loss: 0.7466 - val_accuracy: 0.7060 - val_precision: 0.7763 - val_recall: 0.6154 - val_f1_score: 0.6671\n",
      "Epoch 33/100\n",
      "197/197 [==============================] - 4s 22ms/step - loss: 3.9207 - accuracy: 0.6448 - precision: 0.7558 - recall: 0.4829 - f1_score: 0.5791 - val_loss: 0.7682 - val_accuracy: 0.7213 - val_precision: 0.8125 - val_recall: 0.5721 - val_f1_score: 0.6678\n",
      "Epoch 34/100\n",
      "197/197 [==============================] - 4s 22ms/step - loss: 3.8918 - accuracy: 0.6497 - precision: 0.7552 - recall: 0.4857 - f1_score: 0.5833 - val_loss: 0.8605 - val_accuracy: 0.6754 - val_precision: 0.7515 - val_recall: 0.5631 - val_f1_score: 0.6327\n",
      "Epoch 35/100\n",
      "197/197 [==============================] - 4s 22ms/step - loss: 3.8875 - accuracy: 0.6503 - precision: 0.7685 - recall: 0.4906 - f1_score: 0.5796 - val_loss: 0.7727 - val_accuracy: 0.7213 - val_precision: 0.8107 - val_recall: 0.5874 - val_f1_score: 0.6607\n",
      "Epoch 36/100\n",
      "197/197 [==============================] - 4s 22ms/step - loss: 3.8465 - accuracy: 0.6603 - precision: 0.7624 - recall: 0.4992 - f1_score: 0.5911 - val_loss: 0.8249 - val_accuracy: 0.7003 - val_precision: 0.8045 - val_recall: 0.5510 - val_f1_score: 0.6624\n",
      "Epoch 37/100\n",
      "197/197 [==============================] - 4s 22ms/step - loss: 3.9336 - accuracy: 0.6422 - precision: 0.7432 - recall: 0.4713 - f1_score: 0.5737 - val_loss: 0.7992 - val_accuracy: 0.7009 - val_precision: 0.8103 - val_recall: 0.5421 - val_f1_score: 0.6490\n",
      "Epoch 38/100\n",
      "197/197 [==============================] - 4s 22ms/step - loss: 3.8684 - accuracy: 0.6565 - precision: 0.7683 - recall: 0.4952 - f1_score: 0.5913 - val_loss: 0.7546 - val_accuracy: 0.7207 - val_precision: 0.8152 - val_recall: 0.5740 - val_f1_score: 0.6524\n",
      "Epoch 39/100\n",
      "197/197 [==============================] - 5s 23ms/step - loss: 3.8800 - accuracy: 0.6494 - precision: 0.7495 - recall: 0.4867 - f1_score: 0.5846 - val_loss: 0.7925 - val_accuracy: 0.7136 - val_precision: 0.8202 - val_recall: 0.5440 - val_f1_score: 0.6583\n",
      "Epoch 40/100\n",
      "197/197 [==============================] - 5s 25ms/step - loss: 3.8526 - accuracy: 0.6575 - precision: 0.7788 - recall: 0.5019 - f1_score: 0.5911 - val_loss: 0.7890 - val_accuracy: 0.7111 - val_precision: 0.8167 - val_recall: 0.5542 - val_f1_score: 0.6614\n",
      "Epoch 41/100\n",
      "197/197 [==============================] - 5s 25ms/step - loss: 3.8397 - accuracy: 0.6584 - precision: 0.7691 - recall: 0.5086 - f1_score: 0.5927 - val_loss: 0.8054 - val_accuracy: 0.6824 - val_precision: 0.7646 - val_recall: 0.5612 - val_f1_score: 0.6426\n",
      "Epoch 42/100\n",
      "197/197 [==============================] - 5s 24ms/step - loss: 3.8105 - accuracy: 0.6629 - precision: 0.7645 - recall: 0.5141 - f1_score: 0.5922 - val_loss: 0.8210 - val_accuracy: 0.7073 - val_precision: 0.7753 - val_recall: 0.5721 - val_f1_score: 0.6746\n",
      "Epoch 43/100\n",
      "197/197 [==============================] - 5s 24ms/step - loss: 3.7827 - accuracy: 0.6610 - precision: 0.7696 - recall: 0.5027 - f1_score: 0.5930 - val_loss: 0.7456 - val_accuracy: 0.7207 - val_precision: 0.7975 - val_recall: 0.6052 - val_f1_score: 0.6811\n",
      "Epoch 44/100\n",
      "197/197 [==============================] - 5s 23ms/step - loss: 3.7899 - accuracy: 0.6619 - precision: 0.7654 - recall: 0.5070 - f1_score: 0.5914 - val_loss: 0.7764 - val_accuracy: 0.7066 - val_precision: 0.7934 - val_recall: 0.5950 - val_f1_score: 0.6669\n",
      "Epoch 45/100\n",
      "197/197 [==============================] - 5s 23ms/step - loss: 3.8305 - accuracy: 0.6613 - precision: 0.7602 - recall: 0.5068 - f1_score: 0.5969 - val_loss: 0.7830 - val_accuracy: 0.6888 - val_precision: 0.7569 - val_recall: 0.5957 - val_f1_score: 0.6596\n",
      "Epoch 46/100\n",
      "197/197 [==============================] - 5s 23ms/step - loss: 3.7744 - accuracy: 0.6667 - precision: 0.7697 - recall: 0.5103 - f1_score: 0.5989 - val_loss: 0.7733 - val_accuracy: 0.7034 - val_precision: 0.7771 - val_recall: 0.6180 - val_f1_score: 0.6696\n",
      "Epoch 47/100\n",
      "197/197 [==============================] - 5s 23ms/step - loss: 3.8013 - accuracy: 0.6559 - precision: 0.7638 - recall: 0.5071 - f1_score: 0.5884 - val_loss: 0.7423 - val_accuracy: 0.7245 - val_precision: 0.7952 - val_recall: 0.6167 - val_f1_score: 0.6879\n",
      "Epoch 48/100\n",
      "197/197 [==============================] - 5s 23ms/step - loss: 3.8512 - accuracy: 0.6505 - precision: 0.7565 - recall: 0.4970 - f1_score: 0.5839 - val_loss: 0.8780 - val_accuracy: 0.6798 - val_precision: 0.7582 - val_recall: 0.5721 - val_f1_score: 0.6433\n",
      "Epoch 49/100\n",
      "197/197 [==============================] - 5s 23ms/step - loss: 3.7921 - accuracy: 0.6681 - precision: 0.7729 - recall: 0.5213 - f1_score: 0.5999 - val_loss: 0.7766 - val_accuracy: 0.7162 - val_precision: 0.8066 - val_recall: 0.5772 - val_f1_score: 0.6660\n",
      "Epoch 50/100\n",
      "197/197 [==============================] - 5s 25ms/step - loss: 3.7993 - accuracy: 0.6573 - precision: 0.7553 - recall: 0.5110 - f1_score: 0.5893 - val_loss: 0.8626 - val_accuracy: 0.6626 - val_precision: 0.7441 - val_recall: 0.5453 - val_f1_score: 0.6020\n",
      "Epoch 51/100\n",
      "197/197 [==============================] - 5s 24ms/step - loss: 3.7888 - accuracy: 0.6600 - precision: 0.7661 - recall: 0.5090 - f1_score: 0.5956 - val_loss: 0.8943 - val_accuracy: 0.6435 - val_precision: 0.7361 - val_recall: 0.5497 - val_f1_score: 0.6162\n",
      "Epoch 52/100\n",
      "197/197 [==============================] - 5s 24ms/step - loss: 3.7815 - accuracy: 0.6646 - precision: 0.7607 - recall: 0.5070 - f1_score: 0.6013 - val_loss: 0.7727 - val_accuracy: 0.7213 - val_precision: 0.8101 - val_recall: 0.5906 - val_f1_score: 0.6746\n",
      "Epoch 53/100\n",
      "197/197 [==============================] - 4s 23ms/step - loss: 3.7111 - accuracy: 0.6644 - precision: 0.7738 - recall: 0.5229 - f1_score: 0.5995 - val_loss: 0.8045 - val_accuracy: 0.6932 - val_precision: 0.7699 - val_recall: 0.5848 - val_f1_score: 0.6608\n",
      "Epoch 54/100\n",
      "197/197 [==============================] - 4s 23ms/step - loss: 3.7157 - accuracy: 0.6643 - precision: 0.7656 - recall: 0.5152 - f1_score: 0.6008 - val_loss: 0.9940 - val_accuracy: 0.5651 - val_precision: 0.6946 - val_recall: 0.4075 - val_f1_score: 0.5617\n",
      "Epoch 55/100\n",
      "197/197 [==============================] - 4s 23ms/step - loss: 3.7429 - accuracy: 0.6640 - precision: 0.7649 - recall: 0.5190 - f1_score: 0.6026 - val_loss: 0.7498 - val_accuracy: 0.7219 - val_precision: 0.7940 - val_recall: 0.6046 - val_f1_score: 0.6806\n",
      "Epoch 56/100\n",
      "197/197 [==============================] - 5s 23ms/step - loss: 3.7300 - accuracy: 0.6641 - precision: 0.7595 - recall: 0.5117 - f1_score: 0.6020 - val_loss: 0.7196 - val_accuracy: 0.7309 - val_precision: 0.7952 - val_recall: 0.6314 - val_f1_score: 0.6820\n",
      "Epoch 57/100\n",
      "197/197 [==============================] - 4s 23ms/step - loss: 3.7572 - accuracy: 0.6656 - precision: 0.7758 - recall: 0.5244 - f1_score: 0.6009 - val_loss: 0.7831 - val_accuracy: 0.7009 - val_precision: 0.7724 - val_recall: 0.6059 - val_f1_score: 0.6529\n",
      "Epoch 58/100\n",
      "197/197 [==============================] - 4s 22ms/step - loss: 3.6975 - accuracy: 0.6652 - precision: 0.7708 - recall: 0.5343 - f1_score: 0.6009 - val_loss: 0.8167 - val_accuracy: 0.7009 - val_precision: 0.7986 - val_recall: 0.5714 - val_f1_score: 0.6526\n",
      "Epoch 59/100\n",
      "197/197 [==============================] - 4s 22ms/step - loss: 3.6876 - accuracy: 0.6675 - precision: 0.7726 - recall: 0.5349 - f1_score: 0.6003 - val_loss: 0.7232 - val_accuracy: 0.7239 - val_precision: 0.8021 - val_recall: 0.6409 - val_f1_score: 0.6759\n",
      "Epoch 60/100\n",
      "197/197 [==============================] - 4s 22ms/step - loss: 3.6872 - accuracy: 0.6644 - precision: 0.7715 - recall: 0.5232 - f1_score: 0.5978 - val_loss: 0.8344 - val_accuracy: 0.6754 - val_precision: 0.7407 - val_recall: 0.5867 - val_f1_score: 0.6518\n",
      "Epoch 61/100\n",
      "197/197 [==============================] - 4s 22ms/step - loss: 3.7419 - accuracy: 0.6544 - precision: 0.7589 - recall: 0.5160 - f1_score: 0.5869 - val_loss: 0.7700 - val_accuracy: 0.7105 - val_precision: 0.7803 - val_recall: 0.6027 - val_f1_score: 0.6662\n",
      "Epoch 62/100\n",
      "197/197 [==============================] - 4s 22ms/step - loss: 3.6720 - accuracy: 0.6733 - precision: 0.7698 - recall: 0.5292 - f1_score: 0.6086 - val_loss: 0.7571 - val_accuracy: 0.7060 - val_precision: 0.8032 - val_recall: 0.5753 - val_f1_score: 0.6531\n",
      "Epoch 63/100\n",
      "197/197 [==============================] - 4s 22ms/step - loss: 3.7051 - accuracy: 0.6676 - precision: 0.7649 - recall: 0.5262 - f1_score: 0.6051 - val_loss: 0.7430 - val_accuracy: 0.7207 - val_precision: 0.7995 - val_recall: 0.6154 - val_f1_score: 0.6724\n",
      "Epoch 64/100\n",
      "197/197 [==============================] - 4s 22ms/step - loss: 3.6849 - accuracy: 0.6687 - precision: 0.7687 - recall: 0.5308 - f1_score: 0.6070 - val_loss: 0.7988 - val_accuracy: 0.7047 - val_precision: 0.8019 - val_recall: 0.5784 - val_f1_score: 0.6605\n",
      "Epoch 65/100\n",
      "197/197 [==============================] - 4s 22ms/step - loss: 3.6065 - accuracy: 0.6756 - precision: 0.7777 - recall: 0.5375 - f1_score: 0.6115 - val_loss: 0.7358 - val_accuracy: 0.7143 - val_precision: 0.7826 - val_recall: 0.6314 - val_f1_score: 0.6589\n",
      "Epoch 66/100\n",
      "197/197 [==============================] - 5s 23ms/step - loss: 3.6609 - accuracy: 0.6690 - precision: 0.7647 - recall: 0.5335 - f1_score: 0.6065 - val_loss: 0.7689 - val_accuracy: 0.6856 - val_precision: 0.7909 - val_recall: 0.5765 - val_f1_score: 0.6363\n",
      "Epoch 67/100\n",
      "197/197 [==============================] - 5s 26ms/step - loss: 3.6515 - accuracy: 0.6686 - precision: 0.7749 - recall: 0.5230 - f1_score: 0.6071 - val_loss: 0.7232 - val_accuracy: 0.7302 - val_precision: 0.8100 - val_recall: 0.6173 - val_f1_score: 0.6728\n",
      "Epoch 68/100\n",
      "197/197 [==============================] - 5s 24ms/step - loss: 3.6307 - accuracy: 0.6743 - precision: 0.7707 - recall: 0.5448 - f1_score: 0.6078 - val_loss: 0.7701 - val_accuracy: 0.6983 - val_precision: 0.7872 - val_recall: 0.5663 - val_f1_score: 0.6504\n",
      "Epoch 69/100\n",
      "197/197 [==============================] - 5s 24ms/step - loss: 3.5876 - accuracy: 0.6706 - precision: 0.7675 - recall: 0.5527 - f1_score: 0.6088 - val_loss: 0.8292 - val_accuracy: 0.6747 - val_precision: 0.7651 - val_recall: 0.5670 - val_f1_score: 0.6270\n",
      "Epoch 70/100\n",
      "197/197 [==============================] - 5s 23ms/step - loss: 3.6371 - accuracy: 0.6778 - precision: 0.7648 - recall: 0.5398 - f1_score: 0.6145 - val_loss: 0.7731 - val_accuracy: 0.6971 - val_precision: 0.7697 - val_recall: 0.6180 - val_f1_score: 0.6555\n",
      "Epoch 71/100\n",
      "197/197 [==============================] - 5s 23ms/step - loss: 3.6223 - accuracy: 0.6724 - precision: 0.7710 - recall: 0.5437 - f1_score: 0.6103 - val_loss: 0.7552 - val_accuracy: 0.7105 - val_precision: 0.7802 - val_recall: 0.6180 - val_f1_score: 0.6572\n",
      "Epoch 72/100\n",
      "197/197 [==============================] - 5s 25ms/step - loss: 3.6124 - accuracy: 0.6824 - precision: 0.7734 - recall: 0.5362 - f1_score: 0.6195 - val_loss: 0.7239 - val_accuracy: 0.7156 - val_precision: 0.7778 - val_recall: 0.6429 - val_f1_score: 0.6656\n",
      "Epoch 73/100\n",
      "197/197 [==============================] - 5s 26ms/step - loss: 3.6618 - accuracy: 0.6640 - precision: 0.7658 - recall: 0.5435 - f1_score: 0.6012 - val_loss: 0.7723 - val_accuracy: 0.7060 - val_precision: 0.7951 - val_recall: 0.5644 - val_f1_score: 0.6653\n",
      "Epoch 74/100\n",
      "197/197 [==============================] - 5s 25ms/step - loss: 3.5923 - accuracy: 0.6705 - precision: 0.7698 - recall: 0.5362 - f1_score: 0.6048 - val_loss: 0.8213 - val_accuracy: 0.6926 - val_precision: 0.7679 - val_recall: 0.5950 - val_f1_score: 0.6574\n",
      "Epoch 75/100\n",
      "197/197 [==============================] - 5s 24ms/step - loss: 3.5459 - accuracy: 0.6798 - precision: 0.7713 - recall: 0.5498 - f1_score: 0.6159 - val_loss: 0.7162 - val_accuracy: 0.7315 - val_precision: 0.7917 - val_recall: 0.6327 - val_f1_score: 0.6742\n",
      "Epoch 76/100\n",
      "197/197 [==============================] - 5s 25ms/step - loss: 3.6190 - accuracy: 0.6690 - precision: 0.7654 - recall: 0.5297 - f1_score: 0.6062 - val_loss: 0.7836 - val_accuracy: 0.6983 - val_precision: 0.7897 - val_recall: 0.5797 - val_f1_score: 0.6579\n",
      "Epoch 77/100\n",
      "197/197 [==============================] - 5s 25ms/step - loss: 3.6533 - accuracy: 0.6683 - precision: 0.7676 - recall: 0.5332 - f1_score: 0.6028 - val_loss: 0.7355 - val_accuracy: 0.7207 - val_precision: 0.7963 - val_recall: 0.6033 - val_f1_score: 0.6626\n",
      "Epoch 78/100\n",
      "197/197 [==============================] - 5s 25ms/step - loss: 3.6181 - accuracy: 0.6783 - precision: 0.7688 - recall: 0.5373 - f1_score: 0.6147 - val_loss: 0.6985 - val_accuracy: 0.7372 - val_precision: 0.8161 - val_recall: 0.6282 - val_f1_score: 0.6921\n",
      "Epoch 79/100\n",
      "197/197 [==============================] - 5s 25ms/step - loss: 3.6190 - accuracy: 0.6698 - precision: 0.7745 - recall: 0.5311 - f1_score: 0.6084 - val_loss: 0.7184 - val_accuracy: 0.7321 - val_precision: 0.8178 - val_recall: 0.5982 - val_f1_score: 0.6751\n",
      "Epoch 80/100\n",
      "197/197 [==============================] - 5s 24ms/step - loss: 3.6154 - accuracy: 0.6687 - precision: 0.7670 - recall: 0.5402 - f1_score: 0.6084 - val_loss: 0.8284 - val_accuracy: 0.6779 - val_precision: 0.7746 - val_recall: 0.5281 - val_f1_score: 0.6482\n",
      "Epoch 81/100\n",
      "197/197 [==============================] - 5s 23ms/step - loss: 3.5377 - accuracy: 0.6830 - precision: 0.7750 - recall: 0.5556 - f1_score: 0.6223 - val_loss: 0.8416 - val_accuracy: 0.6805 - val_precision: 0.7641 - val_recall: 0.5867 - val_f1_score: 0.6543\n",
      "Epoch 82/100\n",
      "197/197 [==============================] - 5s 23ms/step - loss: 3.5507 - accuracy: 0.6806 - precision: 0.7740 - recall: 0.5578 - f1_score: 0.6191 - val_loss: 0.7626 - val_accuracy: 0.7079 - val_precision: 0.7728 - val_recall: 0.6224 - val_f1_score: 0.6723\n",
      "Epoch 83/100\n",
      "197/197 [==============================] - 5s 23ms/step - loss: 3.6176 - accuracy: 0.6649 - precision: 0.7578 - recall: 0.5354 - f1_score: 0.6000 - val_loss: 0.7021 - val_accuracy: 0.7321 - val_precision: 0.8034 - val_recall: 0.6384 - val_f1_score: 0.6918\n",
      "Epoch 84/100\n",
      "197/197 [==============================] - 5s 23ms/step - loss: 3.5498 - accuracy: 0.6802 - precision: 0.7776 - recall: 0.5556 - f1_score: 0.6180 - val_loss: 0.7376 - val_accuracy: 0.7111 - val_precision: 0.7905 - val_recall: 0.6161 - val_f1_score: 0.6626\n",
      "Epoch 85/100\n",
      "197/197 [==============================] - 5s 26ms/step - loss: 3.5159 - accuracy: 0.6867 - precision: 0.7761 - recall: 0.5597 - f1_score: 0.6243 - val_loss: 0.7338 - val_accuracy: 0.7251 - val_precision: 0.8035 - val_recall: 0.6205 - val_f1_score: 0.6798\n",
      "Epoch 86/100\n",
      "197/197 [==============================] - 5s 25ms/step - loss: 3.5672 - accuracy: 0.6790 - precision: 0.7751 - recall: 0.5543 - f1_score: 0.6162 - val_loss: 0.7170 - val_accuracy: 0.7309 - val_precision: 0.7970 - val_recall: 0.6384 - val_f1_score: 0.6817\n",
      "Epoch 87/100\n",
      "197/197 [==============================] - 5s 26ms/step - loss: 3.5517 - accuracy: 0.6808 - precision: 0.7703 - recall: 0.5548 - f1_score: 0.6195 - val_loss: 0.8470 - val_accuracy: 0.6626 - val_precision: 0.7439 - val_recall: 0.5631 - val_f1_score: 0.6259\n",
      "Epoch 88/100\n",
      "197/197 [==============================] - 5s 25ms/step - loss: 3.5497 - accuracy: 0.6790 - precision: 0.7676 - recall: 0.5532 - f1_score: 0.6180 - val_loss: 0.7419 - val_accuracy: 0.7098 - val_precision: 0.7799 - val_recall: 0.6327 - val_f1_score: 0.6599\n",
      "Epoch 89/100\n",
      "197/197 [==============================] - 5s 24ms/step - loss: 3.5261 - accuracy: 0.6808 - precision: 0.7744 - recall: 0.5579 - f1_score: 0.6186 - val_loss: 0.7869 - val_accuracy: 0.7009 - val_precision: 0.7653 - val_recall: 0.5969 - val_f1_score: 0.6698\n",
      "Epoch 90/100\n",
      "197/197 [==============================] - 5s 24ms/step - loss: 3.5483 - accuracy: 0.6800 - precision: 0.7719 - recall: 0.5432 - f1_score: 0.6200 - val_loss: 0.7282 - val_accuracy: 0.7296 - val_precision: 0.7905 - val_recall: 0.6186 - val_f1_score: 0.6909\n",
      "Epoch 91/100\n",
      "197/197 [==============================] - 5s 26ms/step - loss: 3.5970 - accuracy: 0.6702 - precision: 0.7716 - recall: 0.5495 - f1_score: 0.6057 - val_loss: 0.7730 - val_accuracy: 0.7015 - val_precision: 0.7680 - val_recall: 0.6186 - val_f1_score: 0.6629\n",
      "Epoch 92/100\n",
      "197/197 [==============================] - 5s 24ms/step - loss: 3.5155 - accuracy: 0.6827 - precision: 0.7773 - recall: 0.5540 - f1_score: 0.6202 - val_loss: 0.7240 - val_accuracy: 0.7239 - val_precision: 0.7979 - val_recall: 0.6320 - val_f1_score: 0.6870\n",
      "Epoch 93/100\n",
      "197/197 [==============================] - 5s 24ms/step - loss: 3.5556 - accuracy: 0.6824 - precision: 0.7742 - recall: 0.5590 - f1_score: 0.6205 - val_loss: 0.8186 - val_accuracy: 0.6901 - val_precision: 0.7734 - val_recall: 0.6008 - val_f1_score: 0.6610\n",
      "Epoch 94/100\n",
      "197/197 [==============================] - 5s 23ms/step - loss: 3.5021 - accuracy: 0.6856 - precision: 0.7801 - recall: 0.5610 - f1_score: 0.6261 - val_loss: 0.8559 - val_accuracy: 0.6607 - val_precision: 0.7544 - val_recall: 0.5504 - val_f1_score: 0.6303\n",
      "Epoch 95/100\n",
      "197/197 [==============================] - 5s 23ms/step - loss: 3.5327 - accuracy: 0.6810 - precision: 0.7705 - recall: 0.5579 - f1_score: 0.6202 - val_loss: 0.8515 - val_accuracy: 0.6818 - val_precision: 0.7772 - val_recall: 0.5338 - val_f1_score: 0.6526\n",
      "Epoch 96/100\n",
      "197/197 [==============================] - 5s 24ms/step - loss: 3.5047 - accuracy: 0.6833 - precision: 0.7843 - recall: 0.5530 - f1_score: 0.6240 - val_loss: 0.7775 - val_accuracy: 0.7079 - val_precision: 0.7924 - val_recall: 0.5963 - val_f1_score: 0.6678\n",
      "Epoch 97/100\n",
      "197/197 [==============================] - 5s 25ms/step - loss: 3.4983 - accuracy: 0.6865 - precision: 0.7809 - recall: 0.5724 - f1_score: 0.6257 - val_loss: 0.7448 - val_accuracy: 0.7117 - val_precision: 0.7932 - val_recall: 0.6116 - val_f1_score: 0.6555\n",
      "Epoch 98/100\n",
      "197/197 [==============================] - 5s 25ms/step - loss: 3.5000 - accuracy: 0.6862 - precision: 0.7759 - recall: 0.5551 - f1_score: 0.6259 - val_loss: 0.8008 - val_accuracy: 0.6792 - val_precision: 0.7558 - val_recall: 0.6001 - val_f1_score: 0.6427\n",
      "Epoch 99/100\n",
      "197/197 [==============================] - 5s 25ms/step - loss: 3.5186 - accuracy: 0.6790 - precision: 0.7714 - recall: 0.5590 - f1_score: 0.6198 - val_loss: 0.9530 - val_accuracy: 0.6295 - val_precision: 0.7106 - val_recall: 0.5230 - val_f1_score: 0.6099\n",
      "Epoch 100/100\n",
      "197/197 [==============================] - 5s 26ms/step - loss: 3.5442 - accuracy: 0.6732 - precision: 0.7714 - recall: 0.5463 - f1_score: 0.6154 - val_loss: 0.7173 - val_accuracy: 0.7175 - val_precision: 0.7880 - val_recall: 0.6378 - val_f1_score: 0.6744\n"
     ]
    },
    {
     "data": {
      "text/plain": "<keras.callbacks.History at 0x2e118d8d0>"
     },
     "execution_count": 15,
     "metadata": {},
     "output_type": "execute_result"
    }
   ],
   "source": [
    "epochs = 100\n",
    "baseline_categorical.fit(\n",
    "    train_cellType_generator,\n",
    "    steps_per_epoch=len(train_data) // batch_size,\n",
    "    epochs=epochs,\n",
    "    validation_data=val_cellType_generator,\n",
    "    validation_steps=len(val_data) // batch_size,\n",
    "    class_weight=class_weight_dict_cellType\n",
    ")"
   ],
   "metadata": {
    "collapsed": false,
    "ExecuteTime": {
     "end_time": "2023-05-07T08:21:04.475557Z",
     "start_time": "2023-05-07T08:13:13.685146Z"
    }
   }
  },
  {
   "cell_type": "code",
   "execution_count": 16,
   "outputs": [
    {
     "name": "stdout",
     "output_type": "stream",
     "text": [
      "62/62 [==============================] - 1s 15ms/step - loss: 0.7595 - accuracy: 0.6985 - precision: 0.7668 - recall: 0.6177 - f1_score: 0.6535\n"
     ]
    },
    {
     "data": {
      "text/plain": "[0.7595498561859131,\n 0.6984848380088806,\n 0.766771137714386,\n 0.6176767945289612,\n 0.653546154499054]"
     },
     "execution_count": 16,
     "metadata": {},
     "output_type": "execute_result"
    }
   ],
   "source": [
    "baseline_categorical.evaluate(test_cellType_generator)"
   ],
   "metadata": {
    "collapsed": false,
    "ExecuteTime": {
     "end_time": "2023-05-07T08:21:05.513964Z",
     "start_time": "2023-05-07T08:21:04.475701Z"
    }
   }
  },
  {
   "cell_type": "markdown",
   "source": [
    "两层卷积一层池化，32，64。两层512感知器。"
   ],
   "metadata": {
    "collapsed": false
   }
  },
  {
   "cell_type": "code",
   "execution_count": 17,
   "outputs": [
    {
     "name": "stdout",
     "output_type": "stream",
     "text": [
      "Model: \"sequential_2\"\n",
      "_________________________________________________________________\n",
      " Layer (type)                Output Shape              Param #   \n",
      "=================================================================\n",
      " conv2d (Conv2D)             (None, 27, 27, 32)        896       \n",
      "                                                                 \n",
      " batch_normalization (BatchN  (None, 27, 27, 32)       128       \n",
      " ormalization)                                                   \n",
      "                                                                 \n",
      " conv2d_1 (Conv2D)           (None, 25, 25, 32)        9248      \n",
      "                                                                 \n",
      " batch_normalization_1 (Batc  (None, 25, 25, 32)       128       \n",
      " hNormalization)                                                 \n",
      "                                                                 \n",
      " max_pooling2d (MaxPooling2D  (None, 12, 12, 32)       0         \n",
      " )                                                               \n",
      "                                                                 \n",
      " conv2d_2 (Conv2D)           (None, 12, 12, 64)        18496     \n",
      "                                                                 \n",
      " batch_normalization_2 (Batc  (None, 12, 12, 64)       256       \n",
      " hNormalization)                                                 \n",
      "                                                                 \n",
      " conv2d_3 (Conv2D)           (None, 10, 10, 64)        36928     \n",
      "                                                                 \n",
      " batch_normalization_3 (Batc  (None, 10, 10, 64)       256       \n",
      " hNormalization)                                                 \n",
      "                                                                 \n",
      " max_pooling2d_1 (MaxPooling  (None, 5, 5, 64)         0         \n",
      " 2D)                                                             \n",
      "                                                                 \n",
      " flatten_2 (Flatten)         (None, 1600)              0         \n",
      "                                                                 \n",
      " dense_6 (Dense)             (None, 512)               819712    \n",
      "                                                                 \n",
      " batch_normalization_4 (Batc  (None, 512)              2048      \n",
      " hNormalization)                                                 \n",
      "                                                                 \n",
      " dropout (Dropout)           (None, 512)               0         \n",
      "                                                                 \n",
      " dense_7 (Dense)             (None, 512)               262656    \n",
      "                                                                 \n",
      " batch_normalization_5 (Batc  (None, 512)              2048      \n",
      " hNormalization)                                                 \n",
      "                                                                 \n",
      " dropout_1 (Dropout)         (None, 512)               0         \n",
      "                                                                 \n",
      " dense_8 (Dense)             (None, 1)                 513       \n",
      "                                                                 \n",
      "=================================================================\n",
      "Total params: 1,153,313\n",
      "Trainable params: 1,150,881\n",
      "Non-trainable params: 2,432\n",
      "_________________________________________________________________\n"
     ]
    }
   ],
   "source": [
    "model_binary = tf.keras.models.Sequential([\n",
    "    tf.keras.layers.Conv2D(32, (3,3), activation='relu', input_shape=input_shape, padding='same', kernel_regularizer=tf.keras.regularizers.l2(l2_coeff)),\n",
    "    tf.keras.layers.BatchNormalization(),\n",
    "    tf.keras.layers.Conv2D(32, (3,3), activation='relu', kernel_regularizer=tf.keras.regularizers.l2(l2_coeff)),\n",
    "    tf.keras.layers.BatchNormalization(),\n",
    "    tf.keras.layers.MaxPooling2D(2, 2),\n",
    "    tf.keras.layers.Conv2D(64, (3,3), activation='relu', padding='same', kernel_regularizer=tf.keras.regularizers.l2(l2_coeff)),\n",
    "    tf.keras.layers.BatchNormalization(),\n",
    "    tf.keras.layers.Conv2D(64, (3,3), activation='relu', kernel_regularizer=tf.keras.regularizers.l2(l2_coeff)),\n",
    "    tf.keras.layers.BatchNormalization(),\n",
    "    tf.keras.layers.MaxPooling2D(2, 2),\n",
    "    tf.keras.layers.Flatten(),\n",
    "    tf.keras.layers.Dense(512, activation='relu', kernel_regularizer=tf.keras.regularizers.l2(l2_coeff)),\n",
    "    tf.keras.layers.BatchNormalization(),\n",
    "    tf.keras.layers.Dropout(0.2, seed=seed_value),\n",
    "    tf.keras.layers.Dense(512, activation='relu', kernel_regularizer=tf.keras.regularizers.l2(l2_coeff)),\n",
    "    tf.keras.layers.BatchNormalization(),\n",
    "    tf.keras.layers.Dropout(0.2, seed=seed_value),\n",
    "    tf.keras.layers.Dense(1, activation='sigmoid')\n",
    "])\n",
    "model_binary.summary()"
   ],
   "metadata": {
    "collapsed": false,
    "ExecuteTime": {
     "end_time": "2023-05-07T08:21:05.663248Z",
     "start_time": "2023-05-07T08:21:05.514144Z"
    }
   }
  },
  {
   "cell_type": "code",
   "execution_count": 63,
   "outputs": [
    {
     "name": "stdout",
     "output_type": "stream",
     "text": [
      "Model: \"sequential_5\"\n",
      "_________________________________________________________________\n",
      " Layer (type)                Output Shape              Param #   \n",
      "=================================================================\n",
      " conv2d_12 (Conv2D)          (None, 27, 27, 32)        896       \n",
      "                                                                 \n",
      " batch_normalization_18 (Bat  (None, 27, 27, 32)       128       \n",
      " chNormalization)                                                \n",
      "                                                                 \n",
      " conv2d_13 (Conv2D)          (None, 25, 25, 32)        9248      \n",
      "                                                                 \n",
      " batch_normalization_19 (Bat  (None, 25, 25, 32)       128       \n",
      " chNormalization)                                                \n",
      "                                                                 \n",
      " max_pooling2d_6 (MaxPooling  (None, 12, 12, 32)       0         \n",
      " 2D)                                                             \n",
      "                                                                 \n",
      " conv2d_14 (Conv2D)          (None, 12, 12, 64)        18496     \n",
      "                                                                 \n",
      " batch_normalization_20 (Bat  (None, 12, 12, 64)       256       \n",
      " chNormalization)                                                \n",
      "                                                                 \n",
      " conv2d_15 (Conv2D)          (None, 10, 10, 64)        36928     \n",
      "                                                                 \n",
      " batch_normalization_21 (Bat  (None, 10, 10, 64)       256       \n",
      " chNormalization)                                                \n",
      "                                                                 \n",
      " max_pooling2d_7 (MaxPooling  (None, 5, 5, 64)         0         \n",
      " 2D)                                                             \n",
      "                                                                 \n",
      " flatten_5 (Flatten)         (None, 1600)              0         \n",
      "                                                                 \n",
      " dense_15 (Dense)            (None, 512)               819712    \n",
      "                                                                 \n",
      " batch_normalization_22 (Bat  (None, 512)              2048      \n",
      " chNormalization)                                                \n",
      "                                                                 \n",
      " dropout_6 (Dropout)         (None, 512)               0         \n",
      "                                                                 \n",
      " dense_16 (Dense)            (None, 512)               262656    \n",
      "                                                                 \n",
      " batch_normalization_23 (Bat  (None, 512)              2048      \n",
      " chNormalization)                                                \n",
      "                                                                 \n",
      " dropout_7 (Dropout)         (None, 512)               0         \n",
      "                                                                 \n",
      " dense_17 (Dense)            (None, 4)                 2052      \n",
      "                                                                 \n",
      "=================================================================\n",
      "Total params: 1,154,852\n",
      "Trainable params: 1,152,420\n",
      "Non-trainable params: 2,432\n",
      "_________________________________________________________________\n"
     ]
    }
   ],
   "source": [
    "model_categorical = tf.keras.models.Sequential([\n",
    "    tf.keras.layers.Conv2D(32, (3,3), activation='relu', input_shape=input_shape, padding='same', kernel_regularizer=tf.keras.regularizers.l2(l2_coeff)),\n",
    "    tf.keras.layers.BatchNormalization(),\n",
    "    tf.keras.layers.Conv2D(32, (3,3), activation='relu', kernel_regularizer=tf.keras.regularizers.l2(l2_coeff)),\n",
    "    tf.keras.layers.BatchNormalization(),\n",
    "    tf.keras.layers.MaxPooling2D(2, 2),\n",
    "    tf.keras.layers.Conv2D(64, (3,3), activation='relu', padding='same', kernel_regularizer=tf.keras.regularizers.l2(l2_coeff)),\n",
    "    tf.keras.layers.BatchNormalization(),\n",
    "    tf.keras.layers.Conv2D(64, (3,3), activation='relu', kernel_regularizer=tf.keras.regularizers.l2(l2_coeff)),\n",
    "    tf.keras.layers.BatchNormalization(),\n",
    "    tf.keras.layers.MaxPooling2D(2, 2),\n",
    "    tf.keras.layers.Flatten(),\n",
    "    tf.keras.layers.Dense(512, activation='relu', kernel_regularizer=tf.keras.regularizers.l2(l2_coeff)),\n",
    "    tf.keras.layers.BatchNormalization(),\n",
    "    tf.keras.layers.Dropout(0.2),\n",
    "    tf.keras.layers.Dense(512, activation='relu', kernel_regularizer=tf.keras.regularizers.l2(l2_coeff)),\n",
    "    tf.keras.layers.BatchNormalization(),\n",
    "    tf.keras.layers.Dropout(0.2),\n",
    "    tf.keras.layers.Dense(num_classes, activation='softmax')\n",
    "])\n",
    "model_categorical.summary()"
   ],
   "metadata": {
    "collapsed": false,
    "ExecuteTime": {
     "end_time": "2023-05-07T10:27:04.899966Z",
     "start_time": "2023-05-07T10:27:04.783148Z"
    }
   }
  },
  {
   "cell_type": "code",
   "execution_count": 64,
   "outputs": [],
   "source": [
    "model_binary.compile(loss='binary_crossentropy',\n",
    "                     optimizer=tf.keras.optimizers.legacy.Adam(learning_rate=0.0001),\n",
    "                     metrics=['accuracy',\n",
    "                       tf.keras.metrics.Precision(name='precision'),\n",
    "                       tf.keras.metrics.Recall(name='recall'),\n",
    "                       F1Score()])\n",
    "\n",
    "model_categorical.compile(loss='categorical_crossentropy',\n",
    "                          optimizer=tf.keras.optimizers.legacy.Adam(learning_rate=0.0002),\n",
    "                          metrics=['accuracy',\n",
    "                                   tf.keras.metrics.Precision(name='precision'),\n",
    "                                   tf.keras.metrics.Recall(name='recall'),\n",
    "                                   MultiCategoryF1Score()])"
   ],
   "metadata": {
    "collapsed": false,
    "ExecuteTime": {
     "end_time": "2023-05-07T10:27:10.873360Z",
     "start_time": "2023-05-07T10:27:10.839037Z"
    }
   }
  },
  {
   "cell_type": "code",
   "execution_count": 65,
   "outputs": [],
   "source": [
    "lr_reducer = tf.keras.callbacks.ReduceLROnPlateau(monitor='val_loss', factor=np.sqrt(0.1), cooldown=0, patience=3, min_lr=0.5e-15)"
   ],
   "metadata": {
    "collapsed": false,
    "ExecuteTime": {
     "end_time": "2023-05-07T10:27:12.178310Z",
     "start_time": "2023-05-07T10:27:12.170211Z"
    }
   }
  },
  {
   "cell_type": "code",
   "execution_count": 21,
   "outputs": [
    {
     "name": "stdout",
     "output_type": "stream",
     "text": [
      "Epoch 1/100\n",
      "197/197 [==============================] - 10s 45ms/step - loss: 14.5960 - accuracy: 0.8089 - precision: 0.7361 - recall: 0.8447 - f1_score: 0.7867 - val_loss: 14.2249 - val_accuracy: 0.4094 - val_precision: 0.4094 - val_recall: 1.0000 - val_f1_score: 0.5810 - lr: 1.0000e-04\n",
      "Epoch 2/100\n",
      "197/197 [==============================] - 8s 42ms/step - loss: 13.3289 - accuracy: 0.8365 - precision: 0.7728 - recall: 0.8605 - f1_score: 0.8143 - val_loss: 12.4138 - val_accuracy: 0.8552 - val_precision: 0.8339 - val_recall: 0.8066 - val_f1_score: 0.8200 - lr: 1.0000e-04\n",
      "Epoch 3/100\n",
      "197/197 [==============================] - 8s 42ms/step - loss: 12.2456 - accuracy: 0.8476 - precision: 0.7932 - recall: 0.8584 - f1_score: 0.8246 - val_loss: 11.4201 - val_accuracy: 0.8514 - val_precision: 0.7515 - val_recall: 0.9500 - val_f1_score: 0.8392 - lr: 1.0000e-04\n",
      "Epoch 4/100\n",
      "197/197 [==============================] - 9s 45ms/step - loss: 11.2855 - accuracy: 0.8575 - precision: 0.8055 - recall: 0.8675 - f1_score: 0.8354 - val_loss: 10.5397 - val_accuracy: 0.8540 - val_precision: 0.7584 - val_recall: 0.9439 - val_f1_score: 0.8411 - lr: 1.0000e-04\n",
      "Epoch 5/100\n",
      "197/197 [==============================] - 9s 46ms/step - loss: 10.4200 - accuracy: 0.8657 - precision: 0.8180 - recall: 0.8721 - f1_score: 0.8442 - val_loss: 9.6588 - val_accuracy: 0.8737 - val_precision: 0.8008 - val_recall: 0.9225 - val_f1_score: 0.8573 - lr: 1.0000e-04\n",
      "Epoch 6/100\n",
      "197/197 [==============================] - 9s 44ms/step - loss: 9.6009 - accuracy: 0.8721 - precision: 0.8251 - recall: 0.8803 - f1_score: 0.8518 - val_loss: 8.8636 - val_accuracy: 0.8929 - val_precision: 0.8752 - val_recall: 0.8616 - val_f1_score: 0.8683 - lr: 1.0000e-04\n",
      "Epoch 7/100\n",
      "197/197 [==============================] - 9s 46ms/step - loss: 8.8885 - accuracy: 0.8662 - precision: 0.8185 - recall: 0.8719 - f1_score: 0.8443 - val_loss: 8.1971 - val_accuracy: 0.8833 - val_precision: 0.8515 - val_recall: 0.8660 - val_f1_score: 0.8587 - lr: 1.0000e-04\n",
      "Epoch 8/100\n",
      "197/197 [==============================] - 9s 44ms/step - loss: 8.2129 - accuracy: 0.8706 - precision: 0.8212 - recall: 0.8821 - f1_score: 0.8505 - val_loss: 7.5535 - val_accuracy: 0.8890 - val_precision: 0.8651 - val_recall: 0.8651 - val_f1_score: 0.8651 - lr: 1.0000e-04\n",
      "Epoch 9/100\n",
      "197/197 [==============================] - 8s 41ms/step - loss: 7.5875 - accuracy: 0.8768 - precision: 0.8286 - recall: 0.8874 - f1_score: 0.8570 - val_loss: 6.9474 - val_accuracy: 0.8865 - val_precision: 0.8247 - val_recall: 0.9173 - val_f1_score: 0.8685 - lr: 1.0000e-04\n",
      "Epoch 10/100\n",
      "197/197 [==============================] - 8s 42ms/step - loss: 7.0136 - accuracy: 0.8744 - precision: 0.8309 - recall: 0.8774 - f1_score: 0.8535 - val_loss: 6.4066 - val_accuracy: 0.8960 - val_precision: 0.8750 - val_recall: 0.8709 - val_f1_score: 0.8730 - lr: 1.0000e-04\n",
      "Epoch 11/100\n",
      "197/197 [==============================] - 9s 45ms/step - loss: 6.4605 - accuracy: 0.8798 - precision: 0.8375 - recall: 0.8831 - f1_score: 0.8597 - val_loss: 5.8740 - val_accuracy: 0.9037 - val_precision: 0.8871 - val_recall: 0.8775 - val_f1_score: 0.8823 - lr: 1.0000e-04\n",
      "Epoch 12/100\n",
      "197/197 [==============================] - 9s 45ms/step - loss: 5.9914 - accuracy: 0.8805 - precision: 0.8398 - recall: 0.8817 - f1_score: 0.8602 - val_loss: 5.4782 - val_accuracy: 0.8814 - val_precision: 0.9150 - val_recall: 0.7845 - val_f1_score: 0.8447 - lr: 1.0000e-04\n",
      "Epoch 13/100\n",
      "197/197 [==============================] - 9s 45ms/step - loss: 5.5544 - accuracy: 0.8756 - precision: 0.8285 - recall: 0.8847 - f1_score: 0.8557 - val_loss: 4.9950 - val_accuracy: 0.9082 - val_precision: 0.8625 - val_recall: 0.9240 - val_f1_score: 0.8922 - lr: 1.0000e-04\n",
      "Epoch 14/100\n",
      "197/197 [==============================] - 8s 41ms/step - loss: 5.1477 - accuracy: 0.8775 - precision: 0.8339 - recall: 0.8815 - f1_score: 0.8570 - val_loss: 4.6432 - val_accuracy: 0.8833 - val_precision: 0.8040 - val_recall: 0.9437 - val_f1_score: 0.8683 - lr: 1.0000e-04\n",
      "Epoch 15/100\n",
      "197/197 [==============================] - 8s 41ms/step - loss: 4.7411 - accuracy: 0.8827 - precision: 0.8399 - recall: 0.8876 - f1_score: 0.8631 - val_loss: 4.2491 - val_accuracy: 0.8973 - val_precision: 0.8698 - val_recall: 0.8793 - val_f1_score: 0.8745 - lr: 1.0000e-04\n",
      "Epoch 16/100\n",
      "197/197 [==============================] - 8s 41ms/step - loss: 4.4098 - accuracy: 0.8867 - precision: 0.8422 - recall: 0.8960 - f1_score: 0.8683 - val_loss: 3.9856 - val_accuracy: 0.8801 - val_precision: 0.9112 - val_recall: 0.7835 - val_f1_score: 0.8425 - lr: 1.0000e-04\n",
      "Epoch 17/100\n",
      "197/197 [==============================] - 8s 40ms/step - loss: 4.0757 - accuracy: 0.8895 - precision: 0.8501 - recall: 0.8916 - f1_score: 0.8703 - val_loss: 3.6712 - val_accuracy: 0.8865 - val_precision: 0.8107 - val_recall: 0.9423 - val_f1_score: 0.8716 - lr: 1.0000e-04\n",
      "Epoch 18/100\n",
      "197/197 [==============================] - 8s 40ms/step - loss: 3.8159 - accuracy: 0.8860 - precision: 0.8472 - recall: 0.8866 - f1_score: 0.8664 - val_loss: 3.3424 - val_accuracy: 0.9075 - val_precision: 0.9169 - val_recall: 0.8532 - val_f1_score: 0.8839 - lr: 1.0000e-04\n",
      "Epoch 19/100\n",
      "197/197 [==============================] - 8s 40ms/step - loss: 3.5494 - accuracy: 0.8873 - precision: 0.8472 - recall: 0.8904 - f1_score: 0.8683 - val_loss: 3.1090 - val_accuracy: 0.9056 - val_precision: 0.8501 - val_recall: 0.9347 - val_f1_score: 0.8904 - lr: 1.0000e-04\n",
      "Epoch 20/100\n",
      "197/197 [==============================] - 8s 40ms/step - loss: 3.3202 - accuracy: 0.8821 - precision: 0.8423 - recall: 0.8829 - f1_score: 0.8621 - val_loss: 2.8895 - val_accuracy: 0.9082 - val_precision: 0.8618 - val_recall: 0.9214 - val_f1_score: 0.8906 - lr: 1.0000e-04\n",
      "Epoch 21/100\n",
      "197/197 [==============================] - 8s 40ms/step - loss: 3.0863 - accuracy: 0.8910 - precision: 0.8515 - recall: 0.8946 - f1_score: 0.8725 - val_loss: 2.6925 - val_accuracy: 0.9107 - val_precision: 0.8687 - val_recall: 0.9203 - val_f1_score: 0.8938 - lr: 1.0000e-04\n",
      "Epoch 22/100\n",
      "197/197 [==============================] - 8s 40ms/step - loss: 2.8664 - accuracy: 0.8968 - precision: 0.8562 - recall: 0.9045 - f1_score: 0.8797 - val_loss: 2.5358 - val_accuracy: 0.8833 - val_precision: 0.8008 - val_recall: 0.9517 - val_f1_score: 0.8698 - lr: 1.0000e-04\n",
      "Epoch 23/100\n",
      "197/197 [==============================] - 8s 41ms/step - loss: 2.7024 - accuracy: 0.8919 - precision: 0.8522 - recall: 0.8966 - f1_score: 0.8738 - val_loss: 2.3260 - val_accuracy: 0.9145 - val_precision: 0.9217 - val_recall: 0.8641 - val_f1_score: 0.8919 - lr: 1.0000e-04\n",
      "Epoch 24/100\n",
      "197/197 [==============================] - 8s 40ms/step - loss: 2.5328 - accuracy: 0.8925 - precision: 0.8547 - recall: 0.8941 - f1_score: 0.8740 - val_loss: 2.1685 - val_accuracy: 0.9005 - val_precision: 0.8563 - val_recall: 0.9097 - val_f1_score: 0.8822 - lr: 1.0000e-04\n",
      "Epoch 25/100\n",
      "197/197 [==============================] - 8s 41ms/step - loss: 2.3965 - accuracy: 0.8890 - precision: 0.8516 - recall: 0.8888 - f1_score: 0.8698 - val_loss: 2.0545 - val_accuracy: 0.9037 - val_precision: 0.8340 - val_recall: 0.9548 - val_f1_score: 0.8903 - lr: 1.0000e-04\n",
      "Epoch 26/100\n",
      "197/197 [==============================] - 8s 40ms/step - loss: 2.2651 - accuracy: 0.8913 - precision: 0.8508 - recall: 0.8965 - f1_score: 0.8730 - val_loss: 1.8968 - val_accuracy: 0.9101 - val_precision: 0.9060 - val_recall: 0.8707 - val_f1_score: 0.8880 - lr: 1.0000e-04\n",
      "Epoch 27/100\n",
      "197/197 [==============================] - 8s 40ms/step - loss: 2.1319 - accuracy: 0.8944 - precision: 0.8551 - recall: 0.8990 - f1_score: 0.8765 - val_loss: 1.7758 - val_accuracy: 0.9184 - val_precision: 0.8802 - val_recall: 0.9268 - val_f1_score: 0.9029 - lr: 1.0000e-04\n",
      "Epoch 28/100\n",
      "197/197 [==============================] - 8s 40ms/step - loss: 1.9959 - accuracy: 0.8968 - precision: 0.8605 - recall: 0.8985 - f1_score: 0.8791 - val_loss: 1.6908 - val_accuracy: 0.9114 - val_precision: 0.8502 - val_recall: 0.9519 - val_f1_score: 0.8982 - lr: 1.0000e-04\n",
      "Epoch 29/100\n",
      "197/197 [==============================] - 9s 44ms/step - loss: 1.9041 - accuracy: 0.8990 - precision: 0.8597 - recall: 0.9056 - f1_score: 0.8820 - val_loss: 1.5931 - val_accuracy: 0.9094 - val_precision: 0.8549 - val_recall: 0.9376 - val_f1_score: 0.8943 - lr: 1.0000e-04\n",
      "Epoch 30/100\n",
      "197/197 [==============================] - 8s 43ms/step - loss: 1.8076 - accuracy: 0.9000 - precision: 0.8686 - recall: 0.8957 - f1_score: 0.8819 - val_loss: 1.5554 - val_accuracy: 0.8980 - val_precision: 0.8196 - val_recall: 0.9626 - val_f1_score: 0.8854 - lr: 1.0000e-04\n",
      "Epoch 31/100\n",
      "197/197 [==============================] - 8s 41ms/step - loss: 1.7327 - accuracy: 0.8983 - precision: 0.8645 - recall: 0.8964 - f1_score: 0.8802 - val_loss: 1.4117 - val_accuracy: 0.9158 - val_precision: 0.8754 - val_recall: 0.9270 - val_f1_score: 0.9005 - lr: 1.0000e-04\n",
      "Epoch 32/100\n",
      "197/197 [==============================] - 8s 40ms/step - loss: 1.6536 - accuracy: 0.9002 - precision: 0.8630 - recall: 0.9040 - f1_score: 0.8830 - val_loss: 1.3325 - val_accuracy: 0.9158 - val_precision: 0.8879 - val_recall: 0.9099 - val_f1_score: 0.8988 - lr: 1.0000e-04\n",
      "Epoch 33/100\n",
      "197/197 [==============================] - 8s 42ms/step - loss: 1.5999 - accuracy: 0.8954 - precision: 0.8620 - recall: 0.8919 - f1_score: 0.8767 - val_loss: 1.2754 - val_accuracy: 0.9165 - val_precision: 0.8655 - val_recall: 0.9424 - val_f1_score: 0.9023 - lr: 1.0000e-04\n",
      "Epoch 34/100\n",
      "197/197 [==============================] - 8s 42ms/step - loss: 1.5225 - accuracy: 0.8986 - precision: 0.8596 - recall: 0.9045 - f1_score: 0.8815 - val_loss: 1.2267 - val_accuracy: 0.9177 - val_precision: 0.8651 - val_recall: 0.9471 - val_f1_score: 0.9042 - lr: 1.0000e-04\n",
      "Epoch 35/100\n",
      "197/197 [==============================] - 8s 42ms/step - loss: 1.4682 - accuracy: 0.8956 - precision: 0.8579 - recall: 0.8984 - f1_score: 0.8777 - val_loss: 1.1997 - val_accuracy: 0.9114 - val_precision: 0.8545 - val_recall: 0.9458 - val_f1_score: 0.8979 - lr: 1.0000e-04\n",
      "Epoch 36/100\n",
      "197/197 [==============================] - 8s 40ms/step - loss: 1.3972 - accuracy: 0.9021 - precision: 0.8698 - recall: 0.8993 - f1_score: 0.8843 - val_loss: 1.1126 - val_accuracy: 0.9133 - val_precision: 0.8801 - val_recall: 0.9129 - val_f1_score: 0.8962 - lr: 1.0000e-04\n",
      "Epoch 37/100\n",
      "197/197 [==============================] - 8s 40ms/step - loss: 1.3465 - accuracy: 0.9013 - precision: 0.8659 - recall: 0.9029 - f1_score: 0.8840 - val_loss: 1.0974 - val_accuracy: 0.9043 - val_precision: 0.9377 - val_recall: 0.8209 - val_f1_score: 0.8754 - lr: 1.0000e-04\n",
      "Epoch 38/100\n",
      "197/197 [==============================] - 8s 41ms/step - loss: 1.3023 - accuracy: 0.9038 - precision: 0.8736 - recall: 0.8989 - f1_score: 0.8861 - val_loss: 1.0432 - val_accuracy: 0.8992 - val_precision: 0.8266 - val_recall: 0.9550 - val_f1_score: 0.8862 - lr: 1.0000e-04\n",
      "Epoch 39/100\n",
      "197/197 [==============================] - 8s 41ms/step - loss: 1.2657 - accuracy: 0.9060 - precision: 0.8785 - recall: 0.8992 - f1_score: 0.8887 - val_loss: 1.0918 - val_accuracy: 0.8571 - val_precision: 0.7527 - val_recall: 0.9705 - val_f1_score: 0.8478 - lr: 1.0000e-04\n",
      "Epoch 40/100\n",
      "197/197 [==============================] - 8s 40ms/step - loss: 1.2194 - accuracy: 0.9090 - precision: 0.8776 - recall: 0.9087 - f1_score: 0.8929 - val_loss: 0.9921 - val_accuracy: 0.8954 - val_precision: 0.9410 - val_recall: 0.7944 - val_f1_score: 0.8615 - lr: 1.0000e-04\n",
      "Epoch 41/100\n",
      "197/197 [==============================] - 8s 40ms/step - loss: 1.2034 - accuracy: 0.9041 - precision: 0.8750 - recall: 0.8984 - f1_score: 0.8866 - val_loss: 0.9168 - val_accuracy: 0.9216 - val_precision: 0.8951 - val_recall: 0.9160 - val_f1_score: 0.9055 - lr: 1.0000e-04\n",
      "Epoch 42/100\n",
      "197/197 [==============================] - 8s 41ms/step - loss: 1.1654 - accuracy: 0.9048 - precision: 0.8766 - recall: 0.8973 - f1_score: 0.8868 - val_loss: 0.9069 - val_accuracy: 0.9062 - val_precision: 0.8374 - val_recall: 0.9563 - val_f1_score: 0.8929 - lr: 1.0000e-04\n",
      "Epoch 43/100\n",
      "197/197 [==============================] - 8s 41ms/step - loss: 1.1303 - accuracy: 0.9076 - precision: 0.8738 - recall: 0.9097 - f1_score: 0.8914 - val_loss: 0.8665 - val_accuracy: 0.9120 - val_precision: 0.9100 - val_recall: 0.8701 - val_f1_score: 0.8896 - lr: 1.0000e-04\n",
      "Epoch 44/100\n",
      "197/197 [==============================] - 8s 40ms/step - loss: 1.0901 - accuracy: 0.9119 - precision: 0.8832 - recall: 0.9084 - f1_score: 0.8956 - val_loss: 0.9341 - val_accuracy: 0.8731 - val_precision: 0.8841 - val_recall: 0.7947 - val_f1_score: 0.8370 - lr: 1.0000e-04\n",
      "Epoch 45/100\n",
      "197/197 [==============================] - 8s 40ms/step - loss: 1.0836 - accuracy: 0.9113 - precision: 0.8820 - recall: 0.9086 - f1_score: 0.8951 - val_loss: 0.8092 - val_accuracy: 0.9267 - val_precision: 0.8939 - val_recall: 0.9315 - val_f1_score: 0.9123 - lr: 1.0000e-04\n",
      "Epoch 46/100\n",
      "197/197 [==============================] - 8s 40ms/step - loss: 1.0429 - accuracy: 0.9121 - precision: 0.8791 - recall: 0.9146 - f1_score: 0.8965 - val_loss: 0.8374 - val_accuracy: 0.9050 - val_precision: 0.8812 - val_recall: 0.8880 - val_f1_score: 0.8846 - lr: 1.0000e-04\n",
      "Epoch 47/100\n",
      "197/197 [==============================] - 9s 43ms/step - loss: 1.0342 - accuracy: 0.9075 - precision: 0.8799 - recall: 0.9010 - f1_score: 0.8903 - val_loss: 0.9322 - val_accuracy: 0.8438 - val_precision: 0.7341 - val_recall: 0.9705 - val_f1_score: 0.8359 - lr: 1.0000e-04\n",
      "Epoch 48/100\n",
      "197/197 [==============================] - 9s 45ms/step - loss: 1.0105 - accuracy: 0.9121 - precision: 0.8812 - recall: 0.9121 - f1_score: 0.8964 - val_loss: 0.7589 - val_accuracy: 0.9209 - val_precision: 0.8716 - val_recall: 0.9473 - val_f1_score: 0.9079 - lr: 1.0000e-04\n",
      "Epoch 49/100\n",
      "197/197 [==============================] - 8s 42ms/step - loss: 0.9953 - accuracy: 0.9073 - precision: 0.8758 - recall: 0.9059 - f1_score: 0.8906 - val_loss: 0.7596 - val_accuracy: 0.9088 - val_precision: 0.8981 - val_recall: 0.8771 - val_f1_score: 0.8875 - lr: 1.0000e-04\n",
      "Epoch 50/100\n",
      "197/197 [==============================] - 8s 43ms/step - loss: 0.9692 - accuracy: 0.9156 - precision: 0.8903 - recall: 0.9093 - f1_score: 0.8997 - val_loss: 0.7503 - val_accuracy: 0.9088 - val_precision: 0.8480 - val_recall: 0.9470 - val_f1_score: 0.8948 - lr: 1.0000e-04\n",
      "Epoch 51/100\n",
      "197/197 [==============================] - 8s 42ms/step - loss: 0.9780 - accuracy: 0.9076 - precision: 0.8795 - recall: 0.9016 - f1_score: 0.8904 - val_loss: 0.7839 - val_accuracy: 0.8916 - val_precision: 0.8269 - val_recall: 0.9299 - val_f1_score: 0.8754 - lr: 1.0000e-04\n",
      "Epoch 52/100\n",
      "197/197 [==============================] - 8s 42ms/step - loss: 0.9471 - accuracy: 0.9141 - precision: 0.8865 - recall: 0.9105 - f1_score: 0.8983 - val_loss: 0.6973 - val_accuracy: 0.9203 - val_precision: 0.8997 - val_recall: 0.9067 - val_f1_score: 0.9032 - lr: 1.0000e-04\n",
      "Epoch 53/100\n",
      "197/197 [==============================] - 8s 42ms/step - loss: 0.9147 - accuracy: 0.9156 - precision: 0.8866 - recall: 0.9143 - f1_score: 0.9003 - val_loss: 0.7146 - val_accuracy: 0.9094 - val_precision: 0.8425 - val_recall: 0.9579 - val_f1_score: 0.8965 - lr: 1.0000e-04\n",
      "Epoch 54/100\n",
      "197/197 [==============================] - 8s 42ms/step - loss: 0.9040 - accuracy: 0.9163 - precision: 0.8885 - recall: 0.9139 - f1_score: 0.9010 - val_loss: 0.6834 - val_accuracy: 0.9209 - val_precision: 0.9087 - val_recall: 0.8974 - val_f1_score: 0.9030 - lr: 1.0000e-04\n",
      "Epoch 55/100\n",
      "197/197 [==============================] - 8s 43ms/step - loss: 0.8945 - accuracy: 0.9116 - precision: 0.8795 - recall: 0.9127 - f1_score: 0.8958 - val_loss: 0.6833 - val_accuracy: 0.9203 - val_precision: 0.8626 - val_recall: 0.9579 - val_f1_score: 0.9077 - lr: 1.0000e-04\n",
      "Epoch 56/100\n",
      "197/197 [==============================] - 9s 46ms/step - loss: 0.8967 - accuracy: 0.9135 - precision: 0.8871 - recall: 0.9084 - f1_score: 0.8976 - val_loss: 0.6711 - val_accuracy: 0.9203 - val_precision: 0.8707 - val_recall: 0.9454 - val_f1_score: 0.9065 - lr: 1.0000e-04\n",
      "Epoch 57/100\n",
      "197/197 [==============================] - 9s 45ms/step - loss: 0.8802 - accuracy: 0.9173 - precision: 0.8888 - recall: 0.9162 - f1_score: 0.9023 - val_loss: 0.7105 - val_accuracy: 0.8827 - val_precision: 0.9164 - val_recall: 0.7850 - val_f1_score: 0.8456 - lr: 1.0000e-04\n",
      "Epoch 58/100\n",
      "197/197 [==============================] - 8s 42ms/step - loss: 0.8574 - accuracy: 0.9125 - precision: 0.8824 - recall: 0.9116 - f1_score: 0.8968 - val_loss: 0.6489 - val_accuracy: 0.9133 - val_precision: 0.9291 - val_recall: 0.8540 - val_f1_score: 0.8900 - lr: 1.0000e-04\n",
      "Epoch 59/100\n",
      "197/197 [==============================] - 8s 42ms/step - loss: 0.8480 - accuracy: 0.9127 - precision: 0.8789 - recall: 0.9170 - f1_score: 0.8976 - val_loss: 0.6271 - val_accuracy: 0.9177 - val_precision: 0.9313 - val_recall: 0.8634 - val_f1_score: 0.8961 - lr: 1.0000e-04\n",
      "Epoch 60/100\n",
      "197/197 [==============================] - 8s 42ms/step - loss: 0.8368 - accuracy: 0.9208 - precision: 0.8964 - recall: 0.9152 - f1_score: 0.9057 - val_loss: 0.6688 - val_accuracy: 0.9031 - val_precision: 0.9485 - val_recall: 0.8062 - val_f1_score: 0.8716 - lr: 1.0000e-04\n",
      "Epoch 61/100\n",
      "197/197 [==============================] - 8s 41ms/step - loss: 0.8435 - accuracy: 0.9132 - precision: 0.8821 - recall: 0.9140 - f1_score: 0.8978 - val_loss: 0.6288 - val_accuracy: 0.9056 - val_precision: 0.9525 - val_recall: 0.8103 - val_f1_score: 0.8756 - lr: 1.0000e-04\n",
      "Epoch 62/100\n",
      "197/197 [==============================] - 8s 40ms/step - loss: 0.8110 - accuracy: 0.9221 - precision: 0.8989 - recall: 0.9157 - f1_score: 0.9072 - val_loss: 0.7051 - val_accuracy: 0.8635 - val_precision: 0.8987 - val_recall: 0.7543 - val_f1_score: 0.8202 - lr: 1.0000e-04\n",
      "Epoch 63/100\n",
      "197/197 [==============================] - 8s 40ms/step - loss: 0.7897 - accuracy: 0.9221 - precision: 0.8931 - recall: 0.9234 - f1_score: 0.9080 - val_loss: 0.5646 - val_accuracy: 0.9407 - val_precision: 0.9324 - val_recall: 0.9222 - val_f1_score: 0.9273 - lr: 3.1623e-05\n",
      "Epoch 64/100\n",
      "197/197 [==============================] - 8s 40ms/step - loss: 0.7712 - accuracy: 0.9249 - precision: 0.8977 - recall: 0.9254 - f1_score: 0.9113 - val_loss: 0.5584 - val_accuracy: 0.9375 - val_precision: 0.9317 - val_recall: 0.9143 - val_f1_score: 0.9230 - lr: 3.1623e-05\n",
      "Epoch 65/100\n",
      "197/197 [==============================] - 8s 42ms/step - loss: 0.7445 - accuracy: 0.9316 - precision: 0.9082 - recall: 0.9300 - f1_score: 0.9189 - val_loss: 0.5520 - val_accuracy: 0.9394 - val_precision: 0.9188 - val_recall: 0.9346 - val_f1_score: 0.9266 - lr: 3.1623e-05\n",
      "Epoch 66/100\n",
      "197/197 [==============================] - 9s 44ms/step - loss: 0.7514 - accuracy: 0.9268 - precision: 0.9006 - recall: 0.9270 - f1_score: 0.9136 - val_loss: 0.5617 - val_accuracy: 0.9318 - val_precision: 0.9073 - val_recall: 0.9285 - val_f1_score: 0.9178 - lr: 3.1623e-05\n",
      "Epoch 67/100\n",
      "197/197 [==============================] - 8s 42ms/step - loss: 0.7341 - accuracy: 0.9286 - precision: 0.9025 - recall: 0.9287 - f1_score: 0.9154 - val_loss: 0.5788 - val_accuracy: 0.9241 - val_precision: 0.8755 - val_recall: 0.9503 - val_f1_score: 0.9114 - lr: 3.1623e-05\n",
      "Epoch 68/100\n",
      "197/197 [==============================] - 8s 42ms/step - loss: 0.7094 - accuracy: 0.9363 - precision: 0.9165 - recall: 0.9322 - f1_score: 0.9243 - val_loss: 0.5399 - val_accuracy: 0.9337 - val_precision: 0.9061 - val_recall: 0.9344 - val_f1_score: 0.9200 - lr: 3.1623e-05\n",
      "Epoch 69/100\n",
      "197/197 [==============================] - 8s 41ms/step - loss: 0.7225 - accuracy: 0.9316 - precision: 0.9095 - recall: 0.9285 - f1_score: 0.9189 - val_loss: 0.5511 - val_accuracy: 0.9298 - val_precision: 0.8881 - val_recall: 0.9488 - val_f1_score: 0.9174 - lr: 3.1623e-05\n",
      "Epoch 70/100\n",
      "197/197 [==============================] - 8s 41ms/step - loss: 0.7004 - accuracy: 0.9352 - precision: 0.9169 - recall: 0.9288 - f1_score: 0.9228 - val_loss: 0.5513 - val_accuracy: 0.9273 - val_precision: 0.8820 - val_recall: 0.9504 - val_f1_score: 0.9149 - lr: 3.1623e-05\n",
      "Epoch 71/100\n",
      "197/197 [==============================] - 8s 41ms/step - loss: 0.7177 - accuracy: 0.9316 - precision: 0.9102 - recall: 0.9272 - f1_score: 0.9186 - val_loss: 0.5291 - val_accuracy: 0.9394 - val_precision: 0.9294 - val_recall: 0.9221 - val_f1_score: 0.9257 - lr: 3.1623e-05\n",
      "Epoch 72/100\n",
      "197/197 [==============================] - 8s 41ms/step - loss: 0.6989 - accuracy: 0.9368 - precision: 0.9123 - recall: 0.9387 - f1_score: 0.9253 - val_loss: 0.5317 - val_accuracy: 0.9324 - val_precision: 0.9076 - val_recall: 0.9301 - val_f1_score: 0.9187 - lr: 3.1623e-05\n",
      "Epoch 73/100\n",
      "197/197 [==============================] - 8s 40ms/step - loss: 0.6986 - accuracy: 0.9348 - precision: 0.9114 - recall: 0.9340 - f1_score: 0.9226 - val_loss: 0.5334 - val_accuracy: 0.9356 - val_precision: 0.9286 - val_recall: 0.9126 - val_f1_score: 0.9205 - lr: 3.1623e-05\n",
      "Epoch 74/100\n",
      "197/197 [==============================] - 8s 40ms/step - loss: 0.6899 - accuracy: 0.9327 - precision: 0.9119 - recall: 0.9285 - f1_score: 0.9201 - val_loss: 0.5283 - val_accuracy: 0.9292 - val_precision: 0.8938 - val_recall: 0.9395 - val_f1_score: 0.9161 - lr: 3.1623e-05\n",
      "Epoch 75/100\n",
      "197/197 [==============================] - 8s 41ms/step - loss: 0.6730 - accuracy: 0.9379 - precision: 0.9167 - recall: 0.9359 - f1_score: 0.9262 - val_loss: 0.5197 - val_accuracy: 0.9375 - val_precision: 0.9347 - val_recall: 0.9115 - val_f1_score: 0.9230 - lr: 3.1623e-05\n",
      "Epoch 76/100\n",
      "197/197 [==============================] - 8s 41ms/step - loss: 0.6770 - accuracy: 0.9371 - precision: 0.9183 - recall: 0.9323 - f1_score: 0.9252 - val_loss: 0.5229 - val_accuracy: 0.9279 - val_precision: 0.8869 - val_recall: 0.9438 - val_f1_score: 0.9145 - lr: 3.1623e-05\n",
      "Epoch 77/100\n",
      "197/197 [==============================] - 8s 41ms/step - loss: 0.6734 - accuracy: 0.9333 - precision: 0.9083 - recall: 0.9345 - f1_score: 0.9212 - val_loss: 0.5049 - val_accuracy: 0.9445 - val_precision: 0.9226 - val_recall: 0.9441 - val_f1_score: 0.9332 - lr: 3.1623e-05\n",
      "Epoch 78/100\n",
      "197/197 [==============================] - 8s 40ms/step - loss: 0.6702 - accuracy: 0.9384 - precision: 0.9193 - recall: 0.9340 - f1_score: 0.9266 - val_loss: 0.5105 - val_accuracy: 0.9356 - val_precision: 0.9101 - val_recall: 0.9343 - val_f1_score: 0.9220 - lr: 3.1623e-05\n",
      "Epoch 79/100\n",
      "197/197 [==============================] - 8s 40ms/step - loss: 0.6706 - accuracy: 0.9367 - precision: 0.9152 - recall: 0.9344 - f1_score: 0.9247 - val_loss: 0.5020 - val_accuracy: 0.9458 - val_precision: 0.9347 - val_recall: 0.9332 - val_f1_score: 0.9340 - lr: 3.1623e-05\n",
      "Epoch 80/100\n",
      "197/197 [==============================] - 8s 40ms/step - loss: 0.6512 - accuracy: 0.9413 - precision: 0.9226 - recall: 0.9374 - f1_score: 0.9300 - val_loss: 0.5183 - val_accuracy: 0.9343 - val_precision: 0.9009 - val_recall: 0.9442 - val_f1_score: 0.9220 - lr: 3.1623e-05\n",
      "Epoch 81/100\n",
      "197/197 [==============================] - 8s 39ms/step - loss: 0.6543 - accuracy: 0.9397 - precision: 0.9206 - recall: 0.9360 - f1_score: 0.9282 - val_loss: 0.5181 - val_accuracy: 0.9362 - val_precision: 0.9098 - val_recall: 0.9380 - val_f1_score: 0.9237 - lr: 3.1623e-05\n",
      "Epoch 82/100\n",
      "197/197 [==============================] - 8s 40ms/step - loss: 0.6457 - accuracy: 0.9400 - precision: 0.9202 - recall: 0.9371 - f1_score: 0.9286 - val_loss: 0.5081 - val_accuracy: 0.9343 - val_precision: 0.9255 - val_recall: 0.9125 - val_f1_score: 0.9190 - lr: 3.1623e-05\n",
      "Epoch 83/100\n",
      "197/197 [==============================] - 8s 40ms/step - loss: 0.6301 - accuracy: 0.9435 - precision: 0.9294 - recall: 0.9357 - f1_score: 0.9325 - val_loss: 0.4976 - val_accuracy: 0.9413 - val_precision: 0.9234 - val_recall: 0.9349 - val_f1_score: 0.9291 - lr: 1.0000e-05\n",
      "Epoch 84/100\n",
      "197/197 [==============================] - 8s 40ms/step - loss: 0.6446 - accuracy: 0.9397 - precision: 0.9145 - recall: 0.9437 - f1_score: 0.9289 - val_loss: 0.4971 - val_accuracy: 0.9413 - val_precision: 0.9233 - val_recall: 0.9348 - val_f1_score: 0.9290 - lr: 1.0000e-05\n",
      "Epoch 85/100\n",
      "197/197 [==============================] - 9s 46ms/step - loss: 0.6318 - accuracy: 0.9440 - precision: 0.9267 - recall: 0.9398 - f1_score: 0.9332 - val_loss: 0.4985 - val_accuracy: 0.9343 - val_precision: 0.9031 - val_recall: 0.9410 - val_f1_score: 0.9217 - lr: 1.0000e-05\n",
      "Epoch 86/100\n",
      "197/197 [==============================] - 8s 42ms/step - loss: 0.6125 - accuracy: 0.9430 - precision: 0.9252 - recall: 0.9390 - f1_score: 0.9321 - val_loss: 0.4990 - val_accuracy: 0.9381 - val_precision: 0.9185 - val_recall: 0.9314 - val_f1_score: 0.9249 - lr: 1.0000e-05\n",
      "Epoch 87/100\n",
      "197/197 [==============================] - 8s 41ms/step - loss: 0.6033 - accuracy: 0.9487 - precision: 0.9272 - recall: 0.9516 - f1_score: 0.9393 - val_loss: 0.4932 - val_accuracy: 0.9388 - val_precision: 0.9212 - val_recall: 0.9298 - val_f1_score: 0.9255 - lr: 1.0000e-05\n",
      "Epoch 88/100\n",
      "197/197 [==============================] - 8s 42ms/step - loss: 0.6150 - accuracy: 0.9484 - precision: 0.9339 - recall: 0.9428 - f1_score: 0.9383 - val_loss: 0.4905 - val_accuracy: 0.9394 - val_precision: 0.9174 - val_recall: 0.9360 - val_f1_score: 0.9266 - lr: 1.0000e-05\n",
      "Epoch 89/100\n",
      "197/197 [==============================] - 8s 42ms/step - loss: 0.6131 - accuracy: 0.9483 - precision: 0.9275 - recall: 0.9501 - f1_score: 0.9387 - val_loss: 0.4928 - val_accuracy: 0.9388 - val_precision: 0.9164 - val_recall: 0.9363 - val_f1_score: 0.9263 - lr: 1.0000e-05\n",
      "Epoch 90/100\n",
      "197/197 [==============================] - 8s 42ms/step - loss: 0.6047 - accuracy: 0.9471 - precision: 0.9346 - recall: 0.9385 - f1_score: 0.9366 - val_loss: 0.4928 - val_accuracy: 0.9407 - val_precision: 0.9336 - val_recall: 0.9206 - val_f1_score: 0.9271 - lr: 1.0000e-05\n",
      "Epoch 91/100\n",
      "197/197 [==============================] - 8s 41ms/step - loss: 0.6226 - accuracy: 0.9422 - precision: 0.9227 - recall: 0.9402 - f1_score: 0.9314 - val_loss: 0.4897 - val_accuracy: 0.9369 - val_precision: 0.9186 - val_recall: 0.9286 - val_f1_score: 0.9236 - lr: 1.0000e-05\n",
      "Epoch 92/100\n",
      "197/197 [==============================] - 8s 40ms/step - loss: 0.5962 - accuracy: 0.9452 - precision: 0.9231 - recall: 0.9474 - f1_score: 0.9351 - val_loss: 0.4915 - val_accuracy: 0.9420 - val_precision: 0.9219 - val_recall: 0.9377 - val_f1_score: 0.9297 - lr: 1.0000e-05\n",
      "Epoch 93/100\n",
      "197/197 [==============================] - 8s 40ms/step - loss: 0.5895 - accuracy: 0.9516 - precision: 0.9331 - recall: 0.9520 - f1_score: 0.9425 - val_loss: 0.4858 - val_accuracy: 0.9407 - val_precision: 0.9154 - val_recall: 0.9425 - val_f1_score: 0.9287 - lr: 1.0000e-05\n",
      "Epoch 94/100\n",
      "197/197 [==============================] - 8s 40ms/step - loss: 0.6029 - accuracy: 0.9470 - precision: 0.9257 - recall: 0.9490 - f1_score: 0.9372 - val_loss: 0.4942 - val_accuracy: 0.9375 - val_precision: 0.9062 - val_recall: 0.9457 - val_f1_score: 0.9255 - lr: 1.0000e-05\n",
      "Epoch 95/100\n",
      "197/197 [==============================] - 8s 40ms/step - loss: 0.5990 - accuracy: 0.9494 - precision: 0.9309 - recall: 0.9490 - f1_score: 0.9398 - val_loss: 0.4912 - val_accuracy: 0.9388 - val_precision: 0.9100 - val_recall: 0.9440 - val_f1_score: 0.9267 - lr: 1.0000e-05\n",
      "Epoch 96/100\n",
      "197/197 [==============================] - 8s 39ms/step - loss: 0.5966 - accuracy: 0.9446 - precision: 0.9269 - recall: 0.9413 - f1_score: 0.9340 - val_loss: 0.4989 - val_accuracy: 0.9343 - val_precision: 0.8994 - val_recall: 0.9456 - val_f1_score: 0.9219 - lr: 1.0000e-05\n",
      "Epoch 97/100\n",
      "197/197 [==============================] - 8s 39ms/step - loss: 0.5686 - accuracy: 0.9530 - precision: 0.9367 - recall: 0.9517 - f1_score: 0.9441 - val_loss: 0.4904 - val_accuracy: 0.9401 - val_precision: 0.9114 - val_recall: 0.9455 - val_f1_score: 0.9281 - lr: 3.1623e-06\n",
      "Epoch 98/100\n",
      "197/197 [==============================] - 8s 39ms/step - loss: 0.5880 - accuracy: 0.9510 - precision: 0.9337 - recall: 0.9497 - f1_score: 0.9416 - val_loss: 0.4934 - val_accuracy: 0.9381 - val_precision: 0.9081 - val_recall: 0.9460 - val_f1_score: 0.9267 - lr: 3.1623e-06\n",
      "Epoch 99/100\n",
      "197/197 [==============================] - 8s 39ms/step - loss: 0.5745 - accuracy: 0.9524 - precision: 0.9318 - recall: 0.9559 - f1_score: 0.9437 - val_loss: 0.4914 - val_accuracy: 0.9381 - val_precision: 0.9125 - val_recall: 0.9394 - val_f1_score: 0.9258 - lr: 3.1623e-06\n",
      "Epoch 100/100\n",
      "197/197 [==============================] - 8s 40ms/step - loss: 0.5907 - accuracy: 0.9494 - precision: 0.9352 - recall: 0.9441 - f1_score: 0.9396 - val_loss: 0.4854 - val_accuracy: 0.9420 - val_precision: 0.9197 - val_recall: 0.9411 - val_f1_score: 0.9303 - lr: 1.0000e-06\n"
     ]
    }
   ],
   "source": [
    "epochs = 100\n",
    "history_binary = model_binary.fit(\n",
    "    train_isCancerous_generator,\n",
    "    steps_per_epoch=len(train_data) // batch_size,\n",
    "    epochs=epochs,\n",
    "    validation_data=val_isCancerous_generator,\n",
    "    validation_steps=len(val_data) // batch_size,\n",
    "    class_weight=class_weight_dict_isCancerous\n",
    "    , callbacks=[lr_reducer]\n",
    ")"
   ],
   "metadata": {
    "collapsed": false,
    "ExecuteTime": {
     "end_time": "2023-05-07T08:34:43.757688Z",
     "start_time": "2023-05-07T08:21:05.789690Z"
    }
   }
  },
  {
   "cell_type": "code",
   "execution_count": 22,
   "outputs": [
    {
     "data": {
      "text/plain": "<Figure size 432x288 with 1 Axes>",
      "image/png": "[encoded data removed]"
     },
     "metadata": {
      "needs_background": "light"
     },
     "output_type": "display_data"
    }
   ],
   "source": [
    "train_loss = history_binary.history['loss']\n",
    "val_loss = history_binary.history['val_loss']\n",
    "\n",
    "epochs_range = range(1, epochs + 1)\n",
    "\n",
    "plt.plot(epochs_range, train_loss, label='Training Loss')\n",
    "plt.plot(epochs_range, val_loss, label='Validation Loss')\n",
    "\n",
    "plt.legend()\n",
    "plt.title('Training and Validation Loss in binary')\n",
    "plt.xlabel('Epoch')\n",
    "plt.ylabel('Loss')\n",
    "\n",
    "plt.show()"
   ],
   "metadata": {
    "collapsed": false,
    "ExecuteTime": {
     "end_time": "2023-05-07T08:34:43.849313Z",
     "start_time": "2023-05-07T08:34:43.762990Z"
    }
   }
  },
  {
   "cell_type": "code",
   "execution_count": 23,
   "outputs": [
    {
     "data": {
      "text/plain": "<Figure size 432x288 with 1 Axes>",
      "image/png": "[encoded data removed]"
     },
     "metadata": {
      "needs_background": "light"
     },
     "output_type": "display_data"
    }
   ],
   "source": [
    "train_accuracy = history_binary.history['accuracy']\n",
    "val_accuracy = history_binary.history['val_accuracy']\n",
    "\n",
    "epochs_range = range(1, epochs + 1)\n",
    "\n",
    "plt.plot(epochs_range, train_accuracy, label='Training Accuracy')\n",
    "plt.plot(epochs_range, val_accuracy, label='Validation Accuracy')\n",
    "\n",
    "plt.legend()\n",
    "plt.title('Training and Validation Accuracy in binary')\n",
    "plt.xlabel('Epoch')\n",
    "plt.ylabel('Accuracy')\n",
    "\n",
    "plt.show()"
   ],
   "metadata": {
    "collapsed": false,
    "ExecuteTime": {
     "end_time": "2023-05-07T08:34:43.942690Z",
     "start_time": "2023-05-07T08:34:43.834394Z"
    }
   }
  },
  {
   "cell_type": "markdown",
   "source": [
    "评估不可见数据集的表现"
   ],
   "metadata": {
    "collapsed": false
   }
  },
  {
   "cell_type": "code",
   "execution_count": 24,
   "outputs": [
    {
     "name": "stdout",
     "output_type": "stream",
     "text": [
      "62/62 [==============================] - 2s 25ms/step - loss: 0.4998 - accuracy: 0.9298 - precision: 0.9055 - recall: 0.9204 - f1_score: 0.9129\n"
     ]
    },
    {
     "data": {
      "text/plain": "[0.49983057379722595,\n 0.9297980070114136,\n 0.9054726362228394,\n 0.9203540086746216,\n 0.9128525853157043]"
     },
     "execution_count": 24,
     "metadata": {},
     "output_type": "execute_result"
    }
   ],
   "source": [
    "model_binary.evaluate(test_isCancerous_generator)"
   ],
   "metadata": {
    "collapsed": false,
    "ExecuteTime": {
     "end_time": "2023-05-07T08:34:45.449536Z",
     "start_time": "2023-05-07T08:34:43.883032Z"
    }
   }
  },
  {
   "cell_type": "markdown",
   "source": [
    "# 训练多分类"
   ],
   "metadata": {
    "collapsed": false
   }
  },
  {
   "cell_type": "code",
   "execution_count": 66,
   "outputs": [
    {
     "name": "stdout",
     "output_type": "stream",
     "text": [
      "Epoch 1/100\n",
      "196/197 [============================>.] - ETA: 0s - loss: 19.3374 - accuracy: 0.5394 - precision: 0.5783 - recall: 0.4719 - f1_score: 0.4983"
     ]
    },
    {
     "name": "stderr",
     "output_type": "stream",
     "text": [
      "/Users/hueybai/miniconda3/envs/DL/lib/python3.10/site-packages/keras/engine/training.py:2448: UserWarning: Metric MultiCategoryF1Score implements a `reset_states()` method; rename it to `reset_state()` (without the final \"s\"). The name `reset_states()` has been deprecated to improve API consistency.\n",
      "  m.reset_state()\n"
     ]
    },
    {
     "name": "stdout",
     "output_type": "stream",
     "text": [
      "197/197 [==============================] - 14s 61ms/step - loss: 19.3329 - accuracy: 0.5394 - precision: 0.5782 - recall: 0.4722 - f1_score: 0.4982 - val_loss: 16.0056 - val_accuracy: 0.1971 - val_precision: 0.1955 - val_recall: 0.1939 - val_f1_score: nan - lr: 2.0000e-04\n",
      "Epoch 2/100\n",
      "197/197 [==============================] - 10s 51ms/step - loss: 17.9377 - accuracy: 0.6060 - precision: 0.6581 - recall: 0.5386 - f1_score: 0.5613 - val_loss: 14.9147 - val_accuracy: 0.3546 - val_precision: 0.3591 - val_recall: 0.3227 - val_f1_score: nan - lr: 2.0000e-04\n",
      "Epoch 3/100\n",
      "197/197 [==============================] - 11s 55ms/step - loss: 17.1101 - accuracy: 0.6290 - precision: 0.6807 - recall: 0.5573 - f1_score: 0.5794 - val_loss: 13.5852 - val_accuracy: 0.6811 - val_precision: 0.7224 - val_recall: 0.6091 - val_f1_score: 0.6386 - lr: 2.0000e-04\n",
      "Epoch 4/100\n",
      "197/197 [==============================] - 11s 56ms/step - loss: 16.4849 - accuracy: 0.6300 - precision: 0.6858 - recall: 0.5622 - f1_score: 0.5857 - val_loss: 13.4463 - val_accuracy: 0.5261 - val_precision: 0.5630 - val_recall: 0.4732 - val_f1_score: 0.5965 - lr: 2.0000e-04\n",
      "Epoch 5/100\n",
      "197/197 [==============================] - 11s 55ms/step - loss: 15.6763 - accuracy: 0.6506 - precision: 0.7115 - recall: 0.5775 - f1_score: 0.6025 - val_loss: 12.3503 - val_accuracy: 0.7283 - val_precision: 0.7611 - val_recall: 0.6805 - val_f1_score: 0.6847 - lr: 2.0000e-04\n",
      "Epoch 6/100\n",
      "197/197 [==============================] - 11s 56ms/step - loss: 14.9515 - accuracy: 0.6759 - precision: 0.7293 - recall: 0.6011 - f1_score: 0.6313 - val_loss: 11.7874 - val_accuracy: 0.7111 - val_precision: 0.7487 - val_recall: 0.6614 - val_f1_score: 0.6898 - lr: 2.0000e-04\n",
      "Epoch 7/100\n",
      "197/197 [==============================] - 11s 55ms/step - loss: 14.2280 - accuracy: 0.6778 - precision: 0.7366 - recall: 0.6043 - f1_score: 0.6338 - val_loss: 11.3300 - val_accuracy: 0.6237 - val_precision: 0.6537 - val_recall: 0.5804 - val_f1_score: 0.6430 - lr: 2.0000e-04\n",
      "Epoch 8/100\n",
      "197/197 [==============================] - 11s 55ms/step - loss: 13.6784 - accuracy: 0.6781 - precision: 0.7302 - recall: 0.6085 - f1_score: 0.6331 - val_loss: 10.4448 - val_accuracy: 0.7825 - val_precision: 0.8280 - val_recall: 0.7156 - val_f1_score: 0.7394 - lr: 2.0000e-04\n",
      "Epoch 9/100\n",
      "197/197 [==============================] - 11s 56ms/step - loss: 13.0251 - accuracy: 0.6832 - precision: 0.7391 - recall: 0.6097 - f1_score: 0.6393 - val_loss: 9.8794 - val_accuracy: 0.7761 - val_precision: 0.8203 - val_recall: 0.7309 - val_f1_score: 0.7302 - lr: 2.0000e-04\n",
      "Epoch 10/100\n",
      "197/197 [==============================] - 10s 52ms/step - loss: 12.3479 - accuracy: 0.6937 - precision: 0.7533 - recall: 0.6281 - f1_score: 0.6490 - val_loss: 9.8724 - val_accuracy: 0.4802 - val_precision: 0.5022 - val_recall: 0.4311 - val_f1_score: 0.5816 - lr: 2.0000e-04\n",
      "Epoch 11/100\n",
      "197/197 [==============================] - 10s 52ms/step - loss: 11.7397 - accuracy: 0.6979 - precision: 0.7577 - recall: 0.6259 - f1_score: 0.6533 - val_loss: 8.7921 - val_accuracy: 0.7481 - val_precision: 0.7920 - val_recall: 0.6920 - val_f1_score: 0.7236 - lr: 2.0000e-04\n",
      "Epoch 12/100\n",
      "197/197 [==============================] - 10s 51ms/step - loss: 11.1790 - accuracy: 0.6957 - precision: 0.7550 - recall: 0.6321 - f1_score: 0.6550 - val_loss: 8.2267 - val_accuracy: 0.7647 - val_precision: 0.8223 - val_recall: 0.7200 - val_f1_score: 0.7139 - lr: 2.0000e-04\n",
      "Epoch 13/100\n",
      "197/197 [==============================] - 11s 57ms/step - loss: 10.5541 - accuracy: 0.7114 - precision: 0.7658 - recall: 0.6471 - f1_score: 0.6688 - val_loss: 7.7465 - val_accuracy: 0.7347 - val_precision: 0.7933 - val_recall: 0.6684 - val_f1_score: 0.7064 - lr: 2.0000e-04\n",
      "Epoch 14/100\n",
      "197/197 [==============================] - 11s 56ms/step - loss: 9.9898 - accuracy: 0.7187 - precision: 0.7716 - recall: 0.6516 - f1_score: 0.6768 - val_loss: 7.3136 - val_accuracy: 0.7366 - val_precision: 0.7843 - val_recall: 0.6932 - val_f1_score: 0.7172 - lr: 2.0000e-04\n",
      "Epoch 15/100\n",
      "197/197 [==============================] - 11s 55ms/step - loss: 9.4958 - accuracy: 0.7241 - precision: 0.7745 - recall: 0.6606 - f1_score: 0.6841 - val_loss: 6.8459 - val_accuracy: 0.7270 - val_precision: 0.7763 - val_recall: 0.6728 - val_f1_score: 0.7044 - lr: 2.0000e-04\n",
      "Epoch 16/100\n",
      "197/197 [==============================] - 11s 56ms/step - loss: 9.1328 - accuracy: 0.7083 - precision: 0.7611 - recall: 0.6468 - f1_score: 0.6654 - val_loss: 6.3679 - val_accuracy: 0.7628 - val_precision: 0.8109 - val_recall: 0.7136 - val_f1_score: 0.7212 - lr: 2.0000e-04\n",
      "Epoch 17/100\n",
      "197/197 [==============================] - 11s 56ms/step - loss: 8.5970 - accuracy: 0.7232 - precision: 0.7725 - recall: 0.6663 - f1_score: 0.6828 - val_loss: 5.9855 - val_accuracy: 0.7436 - val_precision: 0.7818 - val_recall: 0.7015 - val_f1_score: 0.7116 - lr: 2.0000e-04\n",
      "Epoch 18/100\n",
      "197/197 [==============================] - 10s 52ms/step - loss: 8.2055 - accuracy: 0.7313 - precision: 0.7814 - recall: 0.6705 - f1_score: 0.6913 - val_loss: 5.5710 - val_accuracy: 0.7704 - val_precision: 0.8208 - val_recall: 0.7098 - val_f1_score: 0.7478 - lr: 2.0000e-04\n",
      "Epoch 19/100\n",
      "197/197 [==============================] - 11s 54ms/step - loss: 7.7976 - accuracy: 0.7351 - precision: 0.7838 - recall: 0.6697 - f1_score: 0.6959 - val_loss: 5.1775 - val_accuracy: 0.7997 - val_precision: 0.8379 - val_recall: 0.7583 - val_f1_score: 0.7680 - lr: 2.0000e-04\n",
      "Epoch 20/100\n",
      "197/197 [==============================] - 11s 55ms/step - loss: 7.4739 - accuracy: 0.7321 - precision: 0.7901 - recall: 0.6686 - f1_score: 0.6905 - val_loss: 4.9824 - val_accuracy: 0.7392 - val_precision: 0.7854 - val_recall: 0.6907 - val_f1_score: 0.7128 - lr: 2.0000e-04\n",
      "Epoch 21/100\n",
      "197/197 [==============================] - 11s 55ms/step - loss: 7.1060 - accuracy: 0.7354 - precision: 0.7904 - recall: 0.6783 - f1_score: 0.6957 - val_loss: 4.5940 - val_accuracy: 0.7940 - val_precision: 0.8227 - val_recall: 0.7455 - val_f1_score: 0.7617 - lr: 2.0000e-04\n",
      "Epoch 22/100\n",
      "197/197 [==============================] - 11s 55ms/step - loss: 6.8264 - accuracy: 0.7321 - precision: 0.7860 - recall: 0.6746 - f1_score: 0.6932 - val_loss: 4.4226 - val_accuracy: 0.7545 - val_precision: 0.7972 - val_recall: 0.7022 - val_f1_score: 0.7208 - lr: 2.0000e-04\n",
      "Epoch 23/100\n",
      "197/197 [==============================] - 11s 57ms/step - loss: 6.5473 - accuracy: 0.7430 - precision: 0.7946 - recall: 0.6851 - f1_score: 0.7041 - val_loss: 4.0683 - val_accuracy: 0.7946 - val_precision: 0.8361 - val_recall: 0.7449 - val_f1_score: 0.7657 - lr: 2.0000e-04\n",
      "Epoch 24/100\n",
      "197/197 [==============================] - 11s 56ms/step - loss: 6.3621 - accuracy: 0.7321 - precision: 0.7818 - recall: 0.6710 - f1_score: 0.6925 - val_loss: 4.0988 - val_accuracy: 0.6645 - val_precision: 0.7148 - val_recall: 0.6186 - val_f1_score: 0.6846 - lr: 2.0000e-04\n",
      "Epoch 25/100\n",
      "197/197 [==============================] - 11s 55ms/step - loss: 6.0173 - accuracy: 0.7451 - precision: 0.7988 - recall: 0.6932 - f1_score: 0.7056 - val_loss: 4.2021 - val_accuracy: 0.6033 - val_precision: 0.6356 - val_recall: 0.5574 - val_f1_score: 0.6538 - lr: 2.0000e-04\n",
      "Epoch 26/100\n",
      "197/197 [==============================] - 11s 57ms/step - loss: 5.8171 - accuracy: 0.7530 - precision: 0.7968 - recall: 0.6976 - f1_score: 0.7186 - val_loss: 3.5493 - val_accuracy: 0.7621 - val_precision: 0.8026 - val_recall: 0.7207 - val_f1_score: 0.7423 - lr: 2.0000e-04\n",
      "Epoch 27/100\n",
      "197/197 [==============================] - 11s 57ms/step - loss: 5.6209 - accuracy: 0.7484 - precision: 0.7995 - recall: 0.6981 - f1_score: 0.7123 - val_loss: 3.3100 - val_accuracy: 0.7730 - val_precision: 0.8088 - val_recall: 0.7417 - val_f1_score: 0.7532 - lr: 2.0000e-04\n",
      "Epoch 28/100\n",
      "197/197 [==============================] - 11s 55ms/step - loss: 5.4557 - accuracy: 0.7519 - precision: 0.8033 - recall: 0.6979 - f1_score: 0.7146 - val_loss: 3.1152 - val_accuracy: 0.7883 - val_precision: 0.8347 - val_recall: 0.7404 - val_f1_score: 0.7588 - lr: 2.0000e-04\n",
      "Epoch 29/100\n",
      "197/197 [==============================] - 11s 57ms/step - loss: 5.3198 - accuracy: 0.7532 - precision: 0.7976 - recall: 0.6987 - f1_score: 0.7175 - val_loss: 3.1514 - val_accuracy: 0.7168 - val_precision: 0.7601 - val_recall: 0.6709 - val_f1_score: 0.6882 - lr: 2.0000e-04\n",
      "Epoch 30/100\n",
      "197/197 [==============================] - 11s 58ms/step - loss: 5.1191 - accuracy: 0.7556 - precision: 0.8032 - recall: 0.7027 - f1_score: 0.7208 - val_loss: 2.9023 - val_accuracy: 0.7704 - val_precision: 0.8083 - val_recall: 0.7290 - val_f1_score: 0.7494 - lr: 2.0000e-04\n",
      "Epoch 31/100\n",
      "197/197 [==============================] - 11s 57ms/step - loss: 4.9537 - accuracy: 0.7646 - precision: 0.8110 - recall: 0.7119 - f1_score: 0.7270 - val_loss: 3.0948 - val_accuracy: 0.6333 - val_precision: 0.6671 - val_recall: 0.5931 - val_f1_score: 0.6861 - lr: 2.0000e-04\n",
      "Epoch 32/100\n",
      "197/197 [==============================] - 11s 56ms/step - loss: 4.7985 - accuracy: 0.7689 - precision: 0.8121 - recall: 0.7170 - f1_score: 0.7334 - val_loss: 2.7222 - val_accuracy: 0.7768 - val_precision: 0.7983 - val_recall: 0.7347 - val_f1_score: 0.7569 - lr: 2.0000e-04\n",
      "Epoch 33/100\n",
      "197/197 [==============================] - 11s 56ms/step - loss: 4.6721 - accuracy: 0.7694 - precision: 0.8147 - recall: 0.7222 - f1_score: 0.7377 - val_loss: 2.5464 - val_accuracy: 0.7883 - val_precision: 0.8186 - val_recall: 0.7398 - val_f1_score: 0.7537 - lr: 2.0000e-04\n",
      "Epoch 34/100\n",
      "197/197 [==============================] - 11s 57ms/step - loss: 4.6113 - accuracy: 0.7608 - precision: 0.8047 - recall: 0.7108 - f1_score: 0.7291 - val_loss: 2.5785 - val_accuracy: 0.7417 - val_precision: 0.7862 - val_recall: 0.7034 - val_f1_score: 0.7129 - lr: 2.0000e-04\n",
      "Epoch 35/100\n",
      "197/197 [==============================] - 11s 56ms/step - loss: 4.5287 - accuracy: 0.7590 - precision: 0.8125 - recall: 0.7086 - f1_score: 0.7236 - val_loss: 2.3382 - val_accuracy: 0.8170 - val_precision: 0.8452 - val_recall: 0.7768 - val_f1_score: 0.7901 - lr: 2.0000e-04\n",
      "Epoch 36/100\n",
      "197/197 [==============================] - 11s 54ms/step - loss: 4.4227 - accuracy: 0.7724 - precision: 0.8189 - recall: 0.7151 - f1_score: 0.7369 - val_loss: 2.3706 - val_accuracy: 0.7755 - val_precision: 0.7999 - val_recall: 0.7366 - val_f1_score: 0.7578 - lr: 2.0000e-04\n",
      "Epoch 37/100\n",
      "197/197 [==============================] - 11s 57ms/step - loss: 4.3426 - accuracy: 0.7756 - precision: 0.8172 - recall: 0.7232 - f1_score: 0.7417 - val_loss: 2.2168 - val_accuracy: 0.8004 - val_precision: 0.8481 - val_recall: 0.7551 - val_f1_score: 0.7712 - lr: 2.0000e-04\n",
      "Epoch 38/100\n",
      "197/197 [==============================] - 11s 57ms/step - loss: 4.2344 - accuracy: 0.7805 - precision: 0.8200 - recall: 0.7297 - f1_score: 0.7468 - val_loss: 2.1378 - val_accuracy: 0.8163 - val_precision: 0.8478 - val_recall: 0.7812 - val_f1_score: 0.7920 - lr: 2.0000e-04\n",
      "Epoch 39/100\n",
      "197/197 [==============================] - 11s 56ms/step - loss: 4.1946 - accuracy: 0.7717 - precision: 0.8102 - recall: 0.7257 - f1_score: 0.7387 - val_loss: 2.1508 - val_accuracy: 0.7927 - val_precision: 0.8343 - val_recall: 0.7321 - val_f1_score: 0.7666 - lr: 2.0000e-04\n",
      "Epoch 40/100\n",
      "197/197 [==============================] - 11s 57ms/step - loss: 4.0511 - accuracy: 0.7863 - precision: 0.8299 - recall: 0.7413 - f1_score: 0.7559 - val_loss: 2.0271 - val_accuracy: 0.8163 - val_precision: 0.8429 - val_recall: 0.7768 - val_f1_score: 0.7944 - lr: 2.0000e-04\n",
      "Epoch 41/100\n",
      "197/197 [==============================] - 11s 57ms/step - loss: 4.0493 - accuracy: 0.7775 - precision: 0.8266 - recall: 0.7308 - f1_score: 0.7431 - val_loss: 1.9974 - val_accuracy: 0.8131 - val_precision: 0.8415 - val_recall: 0.7755 - val_f1_score: 0.7780 - lr: 2.0000e-04\n",
      "Epoch 42/100\n",
      "197/197 [==============================] - 11s 56ms/step - loss: 3.9868 - accuracy: 0.7771 - precision: 0.8195 - recall: 0.7313 - f1_score: 0.7440 - val_loss: 1.9695 - val_accuracy: 0.8093 - val_precision: 0.8397 - val_recall: 0.7615 - val_f1_score: 0.7862 - lr: 2.0000e-04\n",
      "Epoch 43/100\n",
      "197/197 [==============================] - 11s 57ms/step - loss: 3.9260 - accuracy: 0.7800 - precision: 0.8213 - recall: 0.7308 - f1_score: 0.7428 - val_loss: 1.9106 - val_accuracy: 0.8214 - val_precision: 0.8527 - val_recall: 0.7902 - val_f1_score: 0.7927 - lr: 2.0000e-04\n",
      "Epoch 44/100\n",
      "197/197 [==============================] - 11s 56ms/step - loss: 3.8922 - accuracy: 0.7832 - precision: 0.8211 - recall: 0.7379 - f1_score: 0.7537 - val_loss: 1.9047 - val_accuracy: 0.8068 - val_precision: 0.8515 - val_recall: 0.7570 - val_f1_score: 0.7842 - lr: 2.0000e-04\n",
      "Epoch 45/100\n",
      "197/197 [==============================] - 11s 54ms/step - loss: 3.7943 - accuracy: 0.7910 - precision: 0.8255 - recall: 0.7516 - f1_score: 0.7595 - val_loss: 2.0431 - val_accuracy: 0.7334 - val_precision: 0.7667 - val_recall: 0.6939 - val_f1_score: 0.7166 - lr: 2.0000e-04\n",
      "Epoch 46/100\n",
      "197/197 [==============================] - 11s 57ms/step - loss: 3.7444 - accuracy: 0.7949 - precision: 0.8289 - recall: 0.7541 - f1_score: 0.7616 - val_loss: 1.8497 - val_accuracy: 0.7921 - val_precision: 0.8326 - val_recall: 0.7487 - val_f1_score: 0.7732 - lr: 2.0000e-04\n",
      "Epoch 47/100\n",
      "197/197 [==============================] - 11s 57ms/step - loss: 3.6921 - accuracy: 0.7921 - precision: 0.8315 - recall: 0.7533 - f1_score: 0.7609 - val_loss: 1.9215 - val_accuracy: 0.7570 - val_precision: 0.7951 - val_recall: 0.7105 - val_f1_score: 0.7393 - lr: 2.0000e-04\n",
      "Epoch 48/100\n",
      "197/197 [==============================] - 11s 56ms/step - loss: 3.7020 - accuracy: 0.7944 - precision: 0.8285 - recall: 0.7544 - f1_score: 0.7644 - val_loss: 1.7830 - val_accuracy: 0.8093 - val_precision: 0.8415 - val_recall: 0.7653 - val_f1_score: 0.7854 - lr: 2.0000e-04\n",
      "Epoch 49/100\n",
      "197/197 [==============================] - 11s 57ms/step - loss: 3.6357 - accuracy: 0.7973 - precision: 0.8317 - recall: 0.7552 - f1_score: 0.7656 - val_loss: 2.8937 - val_accuracy: 0.4209 - val_precision: 0.4438 - val_recall: 0.3750 - val_f1_score: 0.5286 - lr: 2.0000e-04\n",
      "Epoch 50/100\n",
      "197/197 [==============================] - 11s 57ms/step - loss: 3.6241 - accuracy: 0.7938 - precision: 0.8334 - recall: 0.7533 - f1_score: 0.7624 - val_loss: 1.8099 - val_accuracy: 0.7832 - val_precision: 0.8220 - val_recall: 0.7392 - val_f1_score: 0.7607 - lr: 2.0000e-04\n",
      "Epoch 51/100\n",
      "197/197 [==============================] - 11s 56ms/step - loss: 3.5746 - accuracy: 0.7941 - precision: 0.8330 - recall: 0.7508 - f1_score: 0.7632 - val_loss: 1.7428 - val_accuracy: 0.8061 - val_precision: 0.8501 - val_recall: 0.7634 - val_f1_score: 0.7797 - lr: 2.0000e-04\n",
      "Epoch 52/100\n",
      "197/197 [==============================] - 11s 57ms/step - loss: 3.4692 - accuracy: 0.8063 - precision: 0.8384 - recall: 0.7667 - f1_score: 0.7766 - val_loss: 1.7434 - val_accuracy: 0.7883 - val_precision: 0.8287 - val_recall: 0.7557 - val_f1_score: 0.7621 - lr: 2.0000e-04\n",
      "Epoch 53/100\n",
      "197/197 [==============================] - 11s 56ms/step - loss: 3.4906 - accuracy: 0.8014 - precision: 0.8337 - recall: 0.7630 - f1_score: 0.7724 - val_loss: 1.6553 - val_accuracy: 0.8214 - val_precision: 0.8502 - val_recall: 0.7889 - val_f1_score: 0.7968 - lr: 2.0000e-04\n",
      "Epoch 54/100\n",
      "197/197 [==============================] - 11s 58ms/step - loss: 3.4990 - accuracy: 0.7962 - precision: 0.8379 - recall: 0.7592 - f1_score: 0.7658 - val_loss: 1.8002 - val_accuracy: 0.7659 - val_precision: 0.8013 - val_recall: 0.7226 - val_f1_score: 0.7459 - lr: 2.0000e-04\n",
      "Epoch 55/100\n",
      "197/197 [==============================] - 11s 56ms/step - loss: 3.3821 - accuracy: 0.8075 - precision: 0.8430 - recall: 0.7686 - f1_score: 0.7804 - val_loss: 1.6544 - val_accuracy: 0.8195 - val_precision: 0.8591 - val_recall: 0.7895 - val_f1_score: 0.7925 - lr: 2.0000e-04\n",
      "Epoch 56/100\n",
      "197/197 [==============================] - 11s 56ms/step - loss: 3.4872 - accuracy: 0.7973 - precision: 0.8335 - recall: 0.7583 - f1_score: 0.7673 - val_loss: 1.6750 - val_accuracy: 0.8099 - val_precision: 0.8442 - val_recall: 0.7742 - val_f1_score: 0.7822 - lr: 2.0000e-04\n",
      "Epoch 57/100\n",
      "197/197 [==============================] - 11s 54ms/step - loss: 3.3587 - accuracy: 0.8030 - precision: 0.8408 - recall: 0.7689 - f1_score: 0.7736 - val_loss: 1.8601 - val_accuracy: 0.6926 - val_precision: 0.7204 - val_recall: 0.6671 - val_f1_score: 0.7034 - lr: 2.0000e-04\n",
      "Epoch 58/100\n",
      "197/197 [==============================] - 11s 56ms/step - loss: 3.3680 - accuracy: 0.8037 - precision: 0.8382 - recall: 0.7665 - f1_score: 0.7755 - val_loss: 1.7415 - val_accuracy: 0.7698 - val_precision: 0.8098 - val_recall: 0.7194 - val_f1_score: 0.7621 - lr: 2.0000e-04\n",
      "Epoch 59/100\n",
      "197/197 [==============================] - 11s 56ms/step - loss: 3.2157 - accuracy: 0.8190 - precision: 0.8501 - recall: 0.7843 - f1_score: 0.7925 - val_loss: 1.5868 - val_accuracy: 0.8265 - val_precision: 0.8554 - val_recall: 0.7883 - val_f1_score: 0.8042 - lr: 6.3246e-05\n",
      "Epoch 60/100\n",
      "197/197 [==============================] - 11s 56ms/step - loss: 3.0802 - accuracy: 0.8311 - precision: 0.8652 - recall: 0.7948 - f1_score: 0.8042 - val_loss: 1.5502 - val_accuracy: 0.8380 - val_precision: 0.8642 - val_recall: 0.8074 - val_f1_score: 0.8124 - lr: 6.3246e-05\n",
      "Epoch 61/100\n",
      "197/197 [==============================] - 11s 56ms/step - loss: 2.9975 - accuracy: 0.8330 - precision: 0.8641 - recall: 0.8027 - f1_score: 0.8090 - val_loss: 1.5193 - val_accuracy: 0.8355 - val_precision: 0.8639 - val_recall: 0.8176 - val_f1_score: 0.8076 - lr: 6.3246e-05\n",
      "Epoch 62/100\n",
      "197/197 [==============================] - 11s 56ms/step - loss: 2.9390 - accuracy: 0.8357 - precision: 0.8653 - recall: 0.8068 - f1_score: 0.8113 - val_loss: 1.4879 - val_accuracy: 0.8489 - val_precision: 0.8688 - val_recall: 0.8233 - val_f1_score: 0.8241 - lr: 6.3246e-05\n",
      "Epoch 63/100\n",
      "197/197 [==============================] - 11s 54ms/step - loss: 2.9370 - accuracy: 0.8381 - precision: 0.8666 - recall: 0.8105 - f1_score: 0.8126 - val_loss: 1.5076 - val_accuracy: 0.8227 - val_precision: 0.8512 - val_recall: 0.7953 - val_f1_score: 0.8013 - lr: 6.3246e-05\n",
      "Epoch 64/100\n",
      "197/197 [==============================] - 10s 52ms/step - loss: 2.9001 - accuracy: 0.8430 - precision: 0.8711 - recall: 0.8122 - f1_score: 0.8206 - val_loss: 1.5013 - val_accuracy: 0.8214 - val_precision: 0.8517 - val_recall: 0.8023 - val_f1_score: 0.8010 - lr: 6.3246e-05\n",
      "Epoch 65/100\n",
      "197/197 [==============================] - 11s 54ms/step - loss: 2.8698 - accuracy: 0.8419 - precision: 0.8688 - recall: 0.8113 - f1_score: 0.8184 - val_loss: 1.5053 - val_accuracy: 0.8272 - val_precision: 0.8443 - val_recall: 0.7991 - val_f1_score: 0.8080 - lr: 6.3246e-05\n",
      "Epoch 66/100\n",
      "197/197 [==============================] - 11s 57ms/step - loss: 2.7594 - accuracy: 0.8533 - precision: 0.8810 - recall: 0.8308 - f1_score: 0.8322 - val_loss: 1.4418 - val_accuracy: 0.8469 - val_precision: 0.8662 - val_recall: 0.8259 - val_f1_score: 0.8219 - lr: 2.0000e-05\n",
      "Epoch 67/100\n",
      "197/197 [==============================] - 11s 57ms/step - loss: 2.7871 - accuracy: 0.8471 - precision: 0.8756 - recall: 0.8190 - f1_score: 0.8235 - val_loss: 1.4476 - val_accuracy: 0.8425 - val_precision: 0.8635 - val_recall: 0.8189 - val_f1_score: 0.8168 - lr: 2.0000e-05\n",
      "Epoch 68/100\n",
      "197/197 [==============================] - 12s 59ms/step - loss: 2.7162 - accuracy: 0.8546 - precision: 0.8778 - recall: 0.8298 - f1_score: 0.8326 - val_loss: 1.4578 - val_accuracy: 0.8361 - val_precision: 0.8571 - val_recall: 0.8074 - val_f1_score: 0.8131 - lr: 2.0000e-05\n",
      "Epoch 69/100\n",
      "197/197 [==============================] - 11s 56ms/step - loss: 2.6736 - accuracy: 0.8614 - precision: 0.8880 - recall: 0.8341 - f1_score: 0.8402 - val_loss: 1.4236 - val_accuracy: 0.8450 - val_precision: 0.8650 - val_recall: 0.8253 - val_f1_score: 0.8198 - lr: 2.0000e-05\n",
      "Epoch 70/100\n",
      "197/197 [==============================] - 11s 56ms/step - loss: 2.6750 - accuracy: 0.8608 - precision: 0.8873 - recall: 0.8349 - f1_score: 0.8382 - val_loss: 1.4203 - val_accuracy: 0.8476 - val_precision: 0.8662 - val_recall: 0.8259 - val_f1_score: 0.8226 - lr: 2.0000e-05\n",
      "Epoch 71/100\n",
      "197/197 [==============================] - 11s 56ms/step - loss: 2.6403 - accuracy: 0.8589 - precision: 0.8799 - recall: 0.8317 - f1_score: 0.8373 - val_loss: 1.4076 - val_accuracy: 0.8546 - val_precision: 0.8768 - val_recall: 0.8355 - val_f1_score: 0.8280 - lr: 2.0000e-05\n",
      "Epoch 72/100\n",
      "197/197 [==============================] - 11s 56ms/step - loss: 2.6756 - accuracy: 0.8565 - precision: 0.8834 - recall: 0.8343 - f1_score: 0.8339 - val_loss: 1.4212 - val_accuracy: 0.8450 - val_precision: 0.8646 - val_recall: 0.8189 - val_f1_score: 0.8196 - lr: 2.0000e-05\n",
      "Epoch 73/100\n",
      "197/197 [==============================] - 11s 56ms/step - loss: 2.6690 - accuracy: 0.8571 - precision: 0.8808 - recall: 0.8338 - f1_score: 0.8371 - val_loss: 1.4084 - val_accuracy: 0.8482 - val_precision: 0.8685 - val_recall: 0.8253 - val_f1_score: 0.8239 - lr: 2.0000e-05\n",
      "Epoch 74/100\n",
      "197/197 [==============================] - 11s 55ms/step - loss: 2.6307 - accuracy: 0.8537 - precision: 0.8802 - recall: 0.8295 - f1_score: 0.8320 - val_loss: 1.4123 - val_accuracy: 0.8393 - val_precision: 0.8662 - val_recall: 0.8176 - val_f1_score: 0.8151 - lr: 2.0000e-05\n",
      "Epoch 75/100\n",
      "197/197 [==============================] - 10s 53ms/step - loss: 2.5141 - accuracy: 0.8676 - precision: 0.8909 - recall: 0.8427 - f1_score: 0.8484 - val_loss: 1.4012 - val_accuracy: 0.8482 - val_precision: 0.8624 - val_recall: 0.8272 - val_f1_score: 0.8228 - lr: 6.3246e-06\n",
      "Epoch 76/100\n",
      "197/197 [==============================] - 10s 53ms/step - loss: 2.6252 - accuracy: 0.8648 - precision: 0.8868 - recall: 0.8378 - f1_score: 0.8456 - val_loss: 1.4008 - val_accuracy: 0.8482 - val_precision: 0.8648 - val_recall: 0.8284 - val_f1_score: 0.8243 - lr: 6.3246e-06\n",
      "Epoch 77/100\n",
      "197/197 [==============================] - 11s 55ms/step - loss: 2.5764 - accuracy: 0.8616 - precision: 0.8843 - recall: 0.8381 - f1_score: 0.8408 - val_loss: 1.4098 - val_accuracy: 0.8431 - val_precision: 0.8560 - val_recall: 0.8227 - val_f1_score: 0.8199 - lr: 6.3246e-06\n",
      "Epoch 78/100\n",
      "197/197 [==============================] - 11s 55ms/step - loss: 2.5536 - accuracy: 0.8671 - precision: 0.8854 - recall: 0.8416 - f1_score: 0.8480 - val_loss: 1.3970 - val_accuracy: 0.8495 - val_precision: 0.8627 - val_recall: 0.8297 - val_f1_score: 0.8244 - lr: 6.3246e-06\n",
      "Epoch 79/100\n",
      "197/197 [==============================] - 10s 53ms/step - loss: 2.5711 - accuracy: 0.8651 - precision: 0.8888 - recall: 0.8395 - f1_score: 0.8447 - val_loss: 1.4008 - val_accuracy: 0.8438 - val_precision: 0.8625 - val_recall: 0.8278 - val_f1_score: 0.8192 - lr: 6.3246e-06\n",
      "Epoch 80/100\n",
      "197/197 [==============================] - 11s 57ms/step - loss: 2.5777 - accuracy: 0.8667 - precision: 0.8883 - recall: 0.8433 - f1_score: 0.8467 - val_loss: 1.3991 - val_accuracy: 0.8431 - val_precision: 0.8642 - val_recall: 0.8278 - val_f1_score: 0.8184 - lr: 6.3246e-06\n",
      "Epoch 81/100\n",
      "197/197 [==============================] - 11s 56ms/step - loss: 2.5388 - accuracy: 0.8637 - precision: 0.8914 - recall: 0.8419 - f1_score: 0.8439 - val_loss: 1.3944 - val_accuracy: 0.8463 - val_precision: 0.8635 - val_recall: 0.8272 - val_f1_score: 0.8207 - lr: 6.3246e-06\n",
      "Epoch 82/100\n",
      "197/197 [==============================] - 11s 56ms/step - loss: 2.5474 - accuracy: 0.8659 - precision: 0.8881 - recall: 0.8427 - f1_score: 0.8470 - val_loss: 1.3937 - val_accuracy: 0.8418 - val_precision: 0.8631 - val_recall: 0.8284 - val_f1_score: 0.8173 - lr: 6.3246e-06\n",
      "Epoch 83/100\n",
      "197/197 [==============================] - 11s 55ms/step - loss: 2.5380 - accuracy: 0.8621 - precision: 0.8852 - recall: 0.8397 - f1_score: 0.8409 - val_loss: 1.3846 - val_accuracy: 0.8444 - val_precision: 0.8630 - val_recall: 0.8278 - val_f1_score: 0.8196 - lr: 6.3246e-06\n",
      "Epoch 84/100\n",
      "197/197 [==============================] - 11s 56ms/step - loss: 2.5314 - accuracy: 0.8678 - precision: 0.8917 - recall: 0.8429 - f1_score: 0.8497 - val_loss: 1.3968 - val_accuracy: 0.8406 - val_precision: 0.8600 - val_recall: 0.8227 - val_f1_score: 0.8166 - lr: 6.3246e-06\n",
      "Epoch 85/100\n",
      "197/197 [==============================] - 11s 56ms/step - loss: 2.4987 - accuracy: 0.8683 - precision: 0.8897 - recall: 0.8448 - f1_score: 0.8487 - val_loss: 1.3899 - val_accuracy: 0.8412 - val_precision: 0.8597 - val_recall: 0.8246 - val_f1_score: 0.8172 - lr: 6.3246e-06\n",
      "Epoch 86/100\n",
      "197/197 [==============================] - 11s 56ms/step - loss: 2.5415 - accuracy: 0.8641 - precision: 0.8862 - recall: 0.8433 - f1_score: 0.8442 - val_loss: 1.3838 - val_accuracy: 0.8438 - val_precision: 0.8619 - val_recall: 0.8240 - val_f1_score: 0.8195 - lr: 6.3246e-06\n",
      "Epoch 87/100\n",
      "197/197 [==============================] - 11s 55ms/step - loss: 2.5495 - accuracy: 0.8667 - precision: 0.8862 - recall: 0.8440 - f1_score: 0.8469 - val_loss: 1.3838 - val_accuracy: 0.8450 - val_precision: 0.8604 - val_recall: 0.8253 - val_f1_score: 0.8208 - lr: 6.3246e-06\n",
      "Epoch 88/100\n",
      "197/197 [==============================] - 11s 55ms/step - loss: 2.5021 - accuracy: 0.8652 - precision: 0.8884 - recall: 0.8440 - f1_score: 0.8457 - val_loss: 1.3818 - val_accuracy: 0.8450 - val_precision: 0.8607 - val_recall: 0.8272 - val_f1_score: 0.8199 - lr: 6.3246e-06\n",
      "Epoch 89/100\n",
      "197/197 [==============================] - 10s 52ms/step - loss: 2.5569 - accuracy: 0.8598 - precision: 0.8850 - recall: 0.8402 - f1_score: 0.8386 - val_loss: 1.3863 - val_accuracy: 0.8431 - val_precision: 0.8614 - val_recall: 0.8284 - val_f1_score: 0.8175 - lr: 6.3246e-06\n",
      "Epoch 90/100\n",
      "197/197 [==============================] - 10s 52ms/step - loss: 2.4940 - accuracy: 0.8671 - precision: 0.8895 - recall: 0.8462 - f1_score: 0.8468 - val_loss: 1.3861 - val_accuracy: 0.8418 - val_precision: 0.8607 - val_recall: 0.8272 - val_f1_score: 0.8174 - lr: 6.3246e-06\n",
      "Epoch 91/100\n",
      "197/197 [==============================] - 11s 56ms/step - loss: 2.4977 - accuracy: 0.8675 - precision: 0.8891 - recall: 0.8449 - f1_score: 0.8487 - val_loss: 1.3818 - val_accuracy: 0.8431 - val_precision: 0.8598 - val_recall: 0.8253 - val_f1_score: 0.8190 - lr: 6.3246e-06\n",
      "Epoch 92/100\n",
      "197/197 [==============================] - 11s 56ms/step - loss: 2.4890 - accuracy: 0.8714 - precision: 0.8909 - recall: 0.8513 - f1_score: 0.8535 - val_loss: 1.3831 - val_accuracy: 0.8412 - val_precision: 0.8604 - val_recall: 0.8253 - val_f1_score: 0.8168 - lr: 2.0000e-06\n",
      "Epoch 93/100\n",
      "197/197 [==============================] - 11s 56ms/step - loss: 2.4675 - accuracy: 0.8725 - precision: 0.8928 - recall: 0.8525 - f1_score: 0.8541 - val_loss: 1.3809 - val_accuracy: 0.8444 - val_precision: 0.8620 - val_recall: 0.8246 - val_f1_score: 0.8207 - lr: 2.0000e-06\n",
      "Epoch 94/100\n",
      "197/197 [==============================] - 11s 58ms/step - loss: 2.4953 - accuracy: 0.8676 - precision: 0.8877 - recall: 0.8481 - f1_score: 0.8472 - val_loss: 1.3758 - val_accuracy: 0.8457 - val_precision: 0.8645 - val_recall: 0.8297 - val_f1_score: 0.8205 - lr: 2.0000e-06\n",
      "Epoch 95/100\n",
      "197/197 [==============================] - 11s 56ms/step - loss: 2.4882 - accuracy: 0.8675 - precision: 0.8895 - recall: 0.8456 - f1_score: 0.8486 - val_loss: 1.3752 - val_accuracy: 0.8450 - val_precision: 0.8630 - val_recall: 0.8278 - val_f1_score: 0.8210 - lr: 2.0000e-06\n",
      "Epoch 96/100\n",
      "197/197 [==============================] - 11s 57ms/step - loss: 2.4766 - accuracy: 0.8703 - precision: 0.8912 - recall: 0.8475 - f1_score: 0.8528 - val_loss: 1.3810 - val_accuracy: 0.8399 - val_precision: 0.8606 - val_recall: 0.8265 - val_f1_score: 0.8154 - lr: 2.0000e-06\n",
      "Epoch 97/100\n",
      "197/197 [==============================] - 11s 56ms/step - loss: 2.4896 - accuracy: 0.8703 - precision: 0.8908 - recall: 0.8497 - f1_score: 0.8521 - val_loss: 1.3813 - val_accuracy: 0.8399 - val_precision: 0.8572 - val_recall: 0.8233 - val_f1_score: 0.8148 - lr: 2.0000e-06\n",
      "Epoch 98/100\n",
      "197/197 [==============================] - 11s 58ms/step - loss: 2.4893 - accuracy: 0.8713 - precision: 0.8919 - recall: 0.8489 - f1_score: 0.8527 - val_loss: 1.3758 - val_accuracy: 0.8444 - val_precision: 0.8637 - val_recall: 0.8284 - val_f1_score: 0.8205 - lr: 2.0000e-06\n",
      "Epoch 99/100\n",
      "197/197 [==============================] - 11s 57ms/step - loss: 2.4661 - accuracy: 0.8732 - precision: 0.8912 - recall: 0.8494 - f1_score: 0.8539 - val_loss: 1.3765 - val_accuracy: 0.8412 - val_precision: 0.8597 - val_recall: 0.8284 - val_f1_score: 0.8162 - lr: 6.3246e-07\n",
      "Epoch 100/100\n",
      "197/197 [==============================] - 11s 55ms/step - loss: 2.4528 - accuracy: 0.8675 - precision: 0.8906 - recall: 0.8494 - f1_score: 0.8490 - val_loss: 1.3789 - val_accuracy: 0.8406 - val_precision: 0.8590 - val_recall: 0.8278 - val_f1_score: 0.8151 - lr: 6.3246e-07\n"
     ]
    }
   ],
   "source": [
    "epochs = 100\n",
    "history_categorical = model_categorical.fit(\n",
    "    train_cellType_generator,\n",
    "    steps_per_epoch=len(train_data) // batch_size,\n",
    "    epochs=epochs,\n",
    "    validation_data=val_cellType_generator,\n",
    "    validation_steps=len(val_data) // batch_size,\n",
    "    class_weight=class_weight_dict_cellType\n",
    "    , callbacks=[lr_reducer]\n",
    ")"
   ],
   "metadata": {
    "collapsed": false,
    "ExecuteTime": {
     "end_time": "2023-05-07T10:45:42.281056Z",
     "start_time": "2023-05-07T10:27:23.730582Z"
    }
   }
  },
  {
   "cell_type": "code",
   "execution_count": 67,
   "outputs": [
    {
     "data": {
      "text/plain": "<Figure size 432x288 with 1 Axes>",
      "image/png": "[encoded data removed]"
     },
     "metadata": {
      "needs_background": "light"
     },
     "output_type": "display_data"
    }
   ],
   "source": [
    "train_loss = history_categorical.history['loss']\n",
    "val_loss = history_categorical.history['val_loss']\n",
    "\n",
    "epochs_range = range(1, epochs + 1)\n",
    "\n",
    "plt.plot(epochs_range, train_loss, label='Training Loss')\n",
    "plt.plot(epochs_range, val_loss, label='Validation Loss')\n",
    "\n",
    "plt.legend()\n",
    "plt.title('Training and Validation Loss in multi-category')\n",
    "plt.xlabel('Epoch')\n",
    "plt.ylabel('Loss')\n",
    "\n",
    "plt.show()"
   ],
   "metadata": {
    "collapsed": false,
    "ExecuteTime": {
     "end_time": "2023-05-07T10:45:49.064235Z",
     "start_time": "2023-05-07T10:45:48.987527Z"
    }
   }
  },
  {
   "cell_type": "code",
   "execution_count": 68,
   "outputs": [
    {
     "data": {
      "text/plain": "<Figure size 432x288 with 1 Axes>",
      "image/png": "[encoded data removed]"
     },
     "metadata": {
      "needs_background": "light"
     },
     "output_type": "display_data"
    }
   ],
   "source": [
    "train_accuracy = history_categorical.history['accuracy']\n",
    "val_accuracy = history_categorical.history['val_accuracy']\n",
    "\n",
    "epochs_range = range(1, epochs + 1)\n",
    "\n",
    "plt.plot(epochs_range, train_accuracy, label='Training Accuracy')\n",
    "plt.plot(epochs_range, val_accuracy, label='Validation Accuracy')\n",
    "\n",
    "plt.legend()\n",
    "plt.title('Training and Validation Accuracy in multi-category')\n",
    "plt.xlabel('Epoch')\n",
    "plt.ylabel('Accuracy')\n",
    "\n",
    "plt.show()"
   ],
   "metadata": {
    "collapsed": false,
    "ExecuteTime": {
     "end_time": "2023-05-07T10:45:54.138163Z",
     "start_time": "2023-05-07T10:45:54.071130Z"
    }
   }
  },
  {
   "cell_type": "code",
   "execution_count": 69,
   "outputs": [
    {
     "name": "stdout",
     "output_type": "stream",
     "text": [
      " 3/62 [>.............................] - ETA: 2s - loss: 1.3379 - accuracy: 0.8854 - precision: 0.9140 - recall: 0.8854 - f1_score: 0.8724"
     ]
    },
    {
     "name": "stderr",
     "output_type": "stream",
     "text": [
      "/Users/hueybai/miniconda3/envs/DL/lib/python3.10/site-packages/keras/engine/training.py:2448: UserWarning: Metric MultiCategoryF1Score implements a `reset_states()` method; rename it to `reset_state()` (without the final \"s\"). The name `reset_states()` has been deprecated to improve API consistency.\n",
      "  m.reset_state()\n"
     ]
    },
    {
     "name": "stdout",
     "output_type": "stream",
     "text": [
      "62/62 [==============================] - 3s 41ms/step - loss: 1.4256 - accuracy: 0.8308 - precision: 0.8490 - recall: 0.8152 - f1_score: 0.8049\n"
     ]
    },
    {
     "data": {
      "text/plain": "[1.4255790710449219,\n 0.8308081030845642,\n 0.8490267992019653,\n 0.8151515126228333,\n 0.8049481511116028]"
     },
     "execution_count": 69,
     "metadata": {},
     "output_type": "execute_result"
    }
   ],
   "source": [
    "model_categorical.evaluate(test_cellType_generator)\n",
    "# loss: 1.4236 - accuracy: 0.8318 - precision: 0.8497 - recall: 0.8167 - f1_score: 0.8048 1e-7\n",
    "# loss: 1.4244 - accuracy: 0.8313 - precision: 0.8489 - recall: 0.8146 - f1_score: 0.8050 5e-8\n",
    "# loss: 1.4253 - accuracy: 0.8308 - precision: 0.8490 - recall: 0.8152 - f1_score: 0.8049 1e-8\n",
    "# loss: 1.4222 - accuracy: 0.8303 - precision: 0.8486 - recall: 0.8152 - f1_score: 0.8025 6e-7\n",
    "# loss: 1.4252 - accuracy: 0.8308 - precision: 0.8489 - recall: 0.8146 - f1_score: 0.8049 2e-8\n",
    "# loss: 1.4244 - accuracy: 0.8308 - precision: 0.8489 - recall: 0.8146 - f1_score: 0.8043 5e-8 0.1 0.1\n",
    "# loss: 1.4247 - accuracy: 0.8313 - precision: 0.8489 - recall: 0.8146 - f1_score: 0.8050 5e-8 2 2\n",
    "# loss: 1.4247 - accuracy: 0.8313 - precision: 0.8489 - recall: 0.8146 - f1_score: 0.8048 5e-8 10 10\n",
    "# loss: 1.4233 - accuracy: 0.8308 - precision: 0.8494 - recall: 0.8146 - f1_score: 0.8043 5e-8 0 0\n",
    "\n",
    "# loss: 1.4249 - accuracy: 0.8283 - precision: 0.8473 - recall: 0.8126 - f1_score: 0.8005 5e-8 100 100 ep10\n",
    "\n",
    "# loss: 1.4233 - accuracy: 0.8328 - precision: 0.8492 - recall: 0.8162 - f1_score: 0.8056 1e-7 100 100 ep2\n",
    "# loss: 1.4232 - accuracy: 0.8323 - precision: 0.8491 - recall: 0.8157 - f1_score: 0.8050 1e-7 100 100 ep2\n",
    "# loss: 1.4230 - accuracy: 0.8323 - precision: 0.8492 - recall: 0.8162 - f1_score: 0.8050 1e-7 100 100 ep2\n",
    "# loss: 1.4221 - accuracy: 0.8323 - precision: 0.8493 - recall: 0.8172 - f1_score: 0.8050 1e-7 ep2"
   ],
   "metadata": {
    "collapsed": false,
    "ExecuteTime": {
     "end_time": "2023-05-07T10:46:17.339161Z",
     "start_time": "2023-05-07T10:46:14.719067Z"
    }
   }
  },
  {
   "cell_type": "code",
   "execution_count": 70,
   "outputs": [],
   "source": [
    "model_categorical.save_weights('saved_model/model_categorical_weights')"
   ],
   "metadata": {
    "collapsed": false,
    "ExecuteTime": {
     "end_time": "2023-05-07T10:46:36.653664Z",
     "start_time": "2023-05-07T10:46:36.497083Z"
    }
   }
  },
  {
   "cell_type": "markdown",
   "source": [
    "# DI/HD 使用data_labels_extraData对多分类的模型进行增强"
   ],
   "metadata": {
    "collapsed": false
   }
  },
  {
   "cell_type": "code",
   "execution_count": 153,
   "outputs": [
    {
     "data": {
      "text/plain": "<tensorflow.python.checkpoint.checkpoint.CheckpointLoadStatus at 0x2f90ec6a0>"
     },
     "execution_count": 153,
     "metadata": {},
     "output_type": "execute_result"
    }
   ],
   "source": [
    "model_categorical.load_weights('saved_model/model_categorical_weights')"
   ],
   "metadata": {
    "collapsed": false,
    "ExecuteTime": {
     "end_time": "2023-05-07T11:30:06.843184Z",
     "start_time": "2023-05-07T11:30:06.661746Z"
    }
   }
  },
  {
   "cell_type": "markdown",
   "source": [
    "冻结BN"
   ],
   "metadata": {
    "collapsed": false
   }
  },
  {
   "cell_type": "code",
   "execution_count": 31,
   "outputs": [],
   "source": [
    "for layer in model_categorical.layers:\n",
    "    if isinstance(layer, tf.keras.layers.BatchNormalization):\n",
    "        layer.trainable = True"
   ],
   "metadata": {
    "collapsed": false,
    "ExecuteTime": {
     "end_time": "2023-05-07T08:50:20.967562Z",
     "start_time": "2023-05-07T08:50:20.966125Z"
    }
   }
  },
  {
   "cell_type": "code",
   "execution_count": 71,
   "outputs": [],
   "source": [
    "data_extra = pd.read_csv('./Image_classification_data/data_labels_extraData.csv')\n",
    "data_extra['isCancerous'] = data_extra['isCancerous'].astype(str)"
   ],
   "metadata": {
    "collapsed": false,
    "ExecuteTime": {
     "end_time": "2023-05-07T10:46:45.812273Z",
     "start_time": "2023-05-07T10:46:45.791536Z"
    }
   }
  },
  {
   "cell_type": "code",
   "execution_count": 72,
   "outputs": [],
   "source": [
    "binary_samples_isCancerous = data_extra['isCancerous'].value_counts()\n",
    "total_samples = np.sum(binary_samples_isCancerous)\n",
    "binary_weights_isCancerous = total_samples / binary_samples_isCancerous\n",
    "binary_weight_dict_isCancerous = {int(k): v for k, v in binary_weights_isCancerous.to_dict().items()}"
   ],
   "metadata": {
    "collapsed": false,
    "ExecuteTime": {
     "end_time": "2023-05-07T10:46:47.720822Z",
     "start_time": "2023-05-07T10:46:47.712993Z"
    }
   }
  },
  {
   "cell_type": "code",
   "execution_count": 73,
   "outputs": [],
   "source": [
    "# 图片RandAugment增强\n",
    "class RandAugmentGenerator(tf.keras.preprocessing.image.ImageDataGenerator):\n",
    "    def __init__(self, n, m, *args, **kwargs):\n",
    "        super().__init__(*args, **kwargs)\n",
    "        self.rand_aug = iaa.RandAugment(n=n, m=m)\n",
    "\n",
    "    def apply_transform(self, x, transform_parameters):\n",
    "        x = tf.cast(x, tf.uint8)\n",
    "        x_aug = self.rand_aug(image=x.numpy())\n",
    "        x_aug = tf.cast(x_aug, tf.float64)\n",
    "        return super().apply_transform(x_aug, transform_parameters)"
   ],
   "metadata": {
    "collapsed": false,
    "ExecuteTime": {
     "end_time": "2023-05-07T10:46:49.239731Z",
     "start_time": "2023-05-07T10:46:49.225789Z"
    }
   }
  },
  {
   "cell_type": "markdown",
   "source": [
    "重新生成新的train_generator"
   ],
   "metadata": {
    "collapsed": false
   }
  },
  {
   "cell_type": "code",
   "execution_count": 74,
   "outputs": [
    {
     "name": "stdout",
     "output_type": "stream",
     "text": [
      "Found 6332 validated image filenames belonging to 4 classes.\n",
      "Found 10384 validated image filenames belonging to 2 classes.\n",
      "Found 10384 validated image filenames belonging to 2 classes.\n",
      "Found 1584 validated image filenames belonging to 4 classes.\n"
     ]
    }
   ],
   "source": [
    "batch_size = 32\n",
    "train_datagen = CustomImageDataGenerator(\n",
    "    num_augmentations=3,\n",
    "    rescale=1./255,\n",
    "    rotation_range=40,\n",
    "    width_shift_range=0.2,\n",
    "    height_shift_range=0.2,\n",
    "    shear_range=0.2,\n",
    "    zoom_range=0.2,\n",
    "    brightness_range=[0.2,1.0],\n",
    "    horizontal_flip=True,\n",
    "    vertical_flip=True,\n",
    "    fill_mode='nearest'\n",
    ")\n",
    "\n",
    "train_generator = train_datagen.flow_from_dataframe(\n",
    "    train_data,\n",
    "    directory='./Image_classification_data/patch_images',\n",
    "    x_col='ImageName',\n",
    "    y_col='cellType',\n",
    "    target_size=(27, 27),\n",
    "    batch_size=batch_size,\n",
    "    class_mode='categorical')\n",
    "\n",
    "unlabeled_datagen_weak = tf.keras.preprocessing.image.ImageDataGenerator(\n",
    "    rescale=1./255,\n",
    "    horizontal_flip=True,\n",
    "    vertical_flip=True,\n",
    ")\n",
    "\n",
    "unlabeled_generator_weak = unlabeled_datagen_weak.flow_from_dataframe(\n",
    "    data_extra,\n",
    "    directory='./Image_classification_data/patch_images',\n",
    "    x_col='ImageName',\n",
    "    y_col='isCancerous',\n",
    "    target_size=(27, 27),\n",
    "    batch_size=batch_size,\n",
    "    class_mode='categorical')\n",
    "\n",
    "\n",
    "unlabeled_datagen_strong = RandAugmentGenerator(n=3, m=5, rescale=1./255, fill_mode='nearest')\n",
    "\n",
    "unlabeled_generator_strong = unlabeled_datagen_strong.flow_from_dataframe(\n",
    "    data_extra,\n",
    "    directory='./Image_classification_data/patch_images',\n",
    "    x_col='ImageName',\n",
    "    y_col='isCancerous',\n",
    "    target_size=(27, 27),\n",
    "    batch_size=batch_size,\n",
    "    class_mode='categorical')\n",
    "\n",
    "val_datagen = tf.keras.preprocessing.image.ImageDataGenerator(\n",
    "    rescale=1./255,\n",
    "    fill_mode='nearest'\n",
    ")\n",
    "\n",
    "test_data['cellType'] = test_data['cellType'].astype(str)\n",
    "validation_cellType_generator = val_datagen.flow_from_dataframe(\n",
    "    val_data,\n",
    "    directory='./Image_classification_data/patch_images',\n",
    "    x_col='ImageName',\n",
    "    y_col='cellType',\n",
    "    target_size=(27, 27),\n",
    "    batch_size=batch_size,\n",
    "    class_mode='categorical')"
   ],
   "metadata": {
    "collapsed": false,
    "ExecuteTime": {
     "end_time": "2023-05-07T10:46:50.887433Z",
     "start_time": "2023-05-07T10:46:50.633123Z"
    }
   }
  },
  {
   "cell_type": "markdown",
   "source": [
    "## FixMatch 实现"
   ],
   "metadata": {
    "collapsed": false
   }
  },
  {
   "cell_type": "code",
   "execution_count": 126,
   "outputs": [],
   "source": [
    "def apply_fixmatch(x, y_true, x_unlabeled, cancer_mask, model, optimizer, training=True, class_weight_dict=None, cancer_weight_dict=None, consistency_weight=1, category_2_weight=1, confidence_threshold=0.95):\n",
    "    with tf.GradientTape() as tape:\n",
    "        y_pred_labeled = model(x)\n",
    "        # 计算有监督损失\n",
    "        # 如果是训练并且给定了类别权重，则根据权重计算损失。\n",
    "        if class_weight_dict is not None and training:\n",
    "            class_weight_tensor = tf.constant([class_weight_dict[0], class_weight_dict[1], class_weight_dict[2], class_weight_dict[3]])\n",
    "            sample_weights = tf.gather(class_weight_tensor, tf.argmax(y_true, axis=-1))\n",
    "            supervised_loss = tf.reduce_mean(tf.keras.losses.categorical_crossentropy(y_true, y_pred_labeled) * sample_weights)\n",
    "        else:\n",
    "            supervised_loss = tf.reduce_mean(tf.keras.losses.categorical_crossentropy(y_true, y_pred_labeled))\n",
    "        final_loss = supervised_loss\n",
    "\n",
    "        # 计算模型在原始无标签数据和增强无标签数据上的输出\n",
    "        if x_unlabeled is not None:\n",
    "            # 对无标签数据进行数据增强\n",
    "            y_pred_unlabeled_weak = model(x_unlabeled[0])\n",
    "            y_pred_unlabeled_strong = model(x_unlabeled[1])\n",
    "            # 计算伪标签\n",
    "            pseudo_labels = tf.argmax(y_pred_unlabeled_weak, axis=-1)\n",
    "            # 计算最大概率\n",
    "            max_probs = tf.reduce_max(y_pred_unlabeled_weak, axis=-1)\n",
    "            # Confidence-based masking 基于置信度的掩码\n",
    "            mask = max_probs > confidence_threshold\n",
    "            # 定义癌症样本和非癌症样本的掩码\n",
    "            cancer_mask = (cancer_mask[:, 1] == 1)\n",
    "            non_cancer_mask = tf.math.logical_not(cancer_mask)\n",
    "            # 计算与预测为2相关的样本的掩码\n",
    "            pred_2_mask = tf.equal(pseudo_labels, 2)\n",
    "            not_pred_2_mask = tf.math.logical_not(pred_2_mask)\n",
    "            # 计算一致性损失的掩码\n",
    "            # 预测为2但实际不为2\n",
    "            loss_mask_1 = tf.math.logical_and(pred_2_mask, non_cancer_mask)\n",
    "            # 预测不为2但实际为2\n",
    "            loss_mask_2 = tf.math.logical_and(not_pred_2_mask, cancer_mask)\n",
    "            category_2_loss_mask = tf.math.logical_or(loss_mask_1, loss_mask_2)\n",
    "            remaining_mask = tf.math.logical_and(mask, tf.math.logical_not(category_2_loss_mask))\n",
    "            # 计算一致性损失\n",
    "            pseudo_labels_one_hot = tf.one_hot(pseudo_labels, depth=tf.shape(y_pred_unlabeled_weak)[-1])\n",
    "            per_example_loss = tf.keras.losses.categorical_crossentropy(pseudo_labels_one_hot, y_pred_unlabeled_strong)\n",
    "            consistency_loss = tf.reduce_sum(per_example_loss * tf.cast(remaining_mask, per_example_loss.dtype)) / tf.reduce_sum(tf.cast(remaining_mask, tf.float32) + tf.keras.backend.epsilon())\n",
    "            # 计算 category_2_loss\n",
    "            binary_labels = tf.cast(cancer_mask, dtype=tf.float32)\n",
    "            category_2_per_example_loss = tf.keras.losses.binary_crossentropy(binary_labels, y_pred_unlabeled_weak[:, 2])\n",
    "            if cancer_weight_dict is not None:\n",
    "                weights = tf.where(cancer_mask, cancer_weight_dict[0], cancer_weight_dict[1])\n",
    "                category_2_per_example_loss *= weights\n",
    "            category_2_loss = tf.reduce_sum(category_2_per_example_loss * tf.cast(category_2_loss_mask, category_2_per_example_loss.dtype)) / tf.reduce_sum(tf.cast(category_2_loss_mask, tf.float32) + tf.keras.backend.epsilon())\n",
    "\n",
    "            final_loss = final_loss + consistency_weight * consistency_loss + category_2_weight * category_2_loss\n",
    "\n",
    "        # 计算准确度\n",
    "        accuracy = tf.keras.metrics.CategoricalAccuracy()\n",
    "        accuracy.update_state(y_true, y_pred_labeled)\n",
    "\n",
    "        if training:\n",
    "            # 反向传播和优化\n",
    "            grads = tape.gradient(final_loss, model_categorical.trainable_variables)\n",
    "            optimizer.apply_gradients(zip(grads, model_categorical.trainable_variables))\n",
    "\n",
    "    return {\"loss\": final_loss,\n",
    "            \"supervised_loss\": supervised_loss,\n",
    "            \"consistency_loss\" :consistency_loss if x_unlabeled is not None else None,\n",
    "            \"category_2_loss\": category_2_loss if x_unlabeled is not None else None,\n",
    "            \"accuracy\": accuracy.result()}"
   ],
   "metadata": {
    "collapsed": false,
    "ExecuteTime": {
     "end_time": "2023-05-07T11:11:31.063806Z",
     "start_time": "2023-05-07T11:11:31.057627Z"
    }
   }
  },
  {
   "cell_type": "code",
   "execution_count": 154,
   "outputs": [
    {
     "name": "stdout",
     "output_type": "stream",
     "text": [
      "Epoch 1/2\n"
     ]
    },
    {
     "name": "stderr",
     "output_type": "stream",
     "text": [
      "Training: 100%|███████████████████████████████████████████████████| 198/198 [00:32<00:00,  6.08it/s]\n"
     ]
    },
    {
     "name": "stdout",
     "output_type": "stream",
     "text": [
      " - loss: 5.4286, supervised_loss: 0.3003, consistency_loss: 4.5387, category_2_loss: 0.5896, accuracy: 0.8934\n",
      "Validation set： - loss: 0.4359, accuracy: 0.8427， lr: 1.00e-07\n",
      "Epoch 2/2\n"
     ]
    },
    {
     "name": "stderr",
     "output_type": "stream",
     "text": [
      "Training: 100%|███████████████████████████████████████████████████| 198/198 [00:33<00:00,  6.00it/s]\n"
     ]
    },
    {
     "name": "stdout",
     "output_type": "stream",
     "text": [
      " - loss: 5.0691, supervised_loss: 0.3016, consistency_loss: 4.1831, category_2_loss: 0.5844, accuracy: 0.8986\n",
      "Validation set： - loss: 0.4330, accuracy: 0.8473， lr: 1.00e-07\n"
     ]
    }
   ],
   "source": [
    "adam = tf.keras.optimizers.legacy.Adam(learning_rate=1e-7)\n",
    "epochs = 2\n",
    "min_val_loss = float('inf')\n",
    "num_epochs_no_improvement = 0\n",
    "current_learning_rate = adam.learning_rate.numpy()\n",
    "history = {\"loss\": [], \"val_loss\": [], \"accuracy\": [], \"val_accuracy\": [], \"precision\":[],\n",
    "           \"recall\":[], \"f1\":[], \"val_precision\":[], \"val_recall\":[], \"val_f1\":[]}\n",
    "\n",
    "for epoch in range(epochs):\n",
    "    print(f\"Epoch {epoch + 1}/{epochs}\")\n",
    "\n",
    "    total_loss = 0\n",
    "    total_supervised_loss = 0\n",
    "    total_consistency_loss = 0\n",
    "    total_category_2_loss = 0\n",
    "    total_accuracy = 0\n",
    "    total_precision = 0\n",
    "    total_recall = 0\n",
    "    total_f1_score = 0\n",
    "    steps = 0\n",
    "\n",
    "    total_batches = math.ceil(len(train_data) / batch_size)\n",
    "    with tqdm(total=total_batches, desc=\"Training\", ncols=100) as progress_bar:\n",
    "        for (x_batch, y_batch), (x_unlabeled_weak, y_binary), (x_unlabeled_strong, _) in zip(train_generator, unlabeled_generator_weak, unlabeled_generator_strong):\n",
    "            progress_bar.update(1)\n",
    "            result = apply_fixmatch(x_batch, y_batch, (x_unlabeled_weak, x_unlabeled_strong),\n",
    "                                    y_binary, model_categorical, adam)\n",
    "            total_loss += result[\"loss\"]\n",
    "            total_supervised_loss += result[\"supervised_loss\"]\n",
    "            total_consistency_loss += result[\"consistency_loss\"]\n",
    "            total_category_2_loss += result[\"category_2_loss\"]\n",
    "            total_accuracy += result[\"accuracy\"]\n",
    "            steps += 1\n",
    "            # 检查是否已经处理了所有批次\n",
    "            if steps * batch_size >= len(train_data):\n",
    "                break\n",
    "\n",
    "        # 计算并打印平均损失和准确率\n",
    "        avg_loss = total_loss / steps\n",
    "        avg_supervised_loss = total_supervised_loss / steps\n",
    "        avg_consistency_loss = total_consistency_loss / steps\n",
    "        avg_category_2_loss = total_category_2_loss / steps\n",
    "        avg_accuracy = total_accuracy / steps\n",
    "\n",
    "        history[\"loss\"].append(avg_loss.numpy())\n",
    "        history[\"accuracy\"].append(avg_accuracy.numpy())\n",
    "        print(f\" - loss: {avg_loss.numpy():.4f}, supervised_loss: {avg_supervised_loss.numpy():.4f}, consistency_loss: {avg_consistency_loss.numpy():.4f}, category_2_loss: {avg_category_2_loss.numpy():.4f}, accuracy: {avg_accuracy.numpy():.4f}\")\n",
    "\n",
    "    total_loss = 0\n",
    "    total_accuracy = 0\n",
    "    total_recall = 0\n",
    "    total_precision = 0\n",
    "    total_f1_score = 0\n",
    "    steps = 0\n",
    "    for x_batch, y_batch in validation_cellType_generator:\n",
    "        result = apply_fixmatch(x_batch, y_batch, None, None, model_categorical, adam, False)\n",
    "        total_loss += result[\"loss\"]\n",
    "        total_accuracy += result[\"accuracy\"]\n",
    "        steps += 1\n",
    "\n",
    "        if steps * batch_size >= len(test_data):\n",
    "            break\n",
    "\n",
    "    avg_loss = total_loss / steps\n",
    "    avg_accuracy = total_accuracy / steps\n",
    "\n",
    "    history[\"val_loss\"].append(avg_loss)\n",
    "    history[\"val_accuracy\"].append(avg_accuracy.numpy())\n",
    "\n",
    "    print(f\"Validation set： - loss: {avg_loss.numpy():.4f}, accuracy: {avg_accuracy.numpy():.4f}， lr: {current_learning_rate:.2e}\")\n",
    "\n",
    "    # 检查是否需要更新学习率\n",
    "    if avg_loss < min_val_loss:\n",
    "        min_val_loss = avg_loss\n",
    "        num_epochs_no_improvement = 0\n",
    "    else:\n",
    "        num_epochs_no_improvement += 1\n",
    "    if num_epochs_no_improvement >= 3:\n",
    "        current_learning_rate *= np.sqrt(0.1)\n",
    "        current_learning_rate = max(current_learning_rate, 0.5e-15)\n",
    "        adam.learning_rate.assign(current_learning_rate)\n",
    "        num_epochs_no_improvement = 0"
   ],
   "metadata": {
    "collapsed": false,
    "ExecuteTime": {
     "end_time": "2023-05-07T11:31:23.349567Z",
     "start_time": "2023-05-07T11:30:15.200892Z"
    }
   }
  },
  {
   "cell_type": "code",
   "execution_count": 155,
   "outputs": [
    {
     "data": {
      "text/plain": "<Figure size 432x288 with 1 Axes>",
      "image/png": "[encoded data removed]"
     },
     "metadata": {
      "needs_background": "light"
     },
     "output_type": "display_data"
    }
   ],
   "source": [
    "train_accuracy = history['accuracy']\n",
    "val_accuracy = history['val_accuracy']\n",
    "\n",
    "epochs_range = range(1, epochs + 1)\n",
    "\n",
    "plt.plot(epochs_range, train_accuracy, label='Training Accuracy')\n",
    "plt.plot(epochs_range, val_accuracy, label='Validation Accuracy')\n",
    "\n",
    "plt.legend()\n",
    "plt.title('Training and Validation Accuracy')\n",
    "plt.xlabel('Epoch')\n",
    "plt.ylabel('Accuracy')\n",
    "\n",
    "plt.show()"
   ],
   "metadata": {
    "collapsed": false,
    "ExecuteTime": {
     "end_time": "2023-05-07T11:31:29.309884Z",
     "start_time": "2023-05-07T11:31:29.247079Z"
    }
   }
  },
  {
   "cell_type": "code",
   "execution_count": 156,
   "outputs": [
    {
     "data": {
      "text/plain": "<Figure size 432x288 with 1 Axes>",
      "image/png": "[encoded data removed]"
     },
     "metadata": {
      "needs_background": "light"
     },
     "output_type": "display_data"
    }
   ],
   "source": [
    "train_loss = history['loss']\n",
    "val_loss = history['val_loss']\n",
    "\n",
    "epochs_range = range(1, epochs + 1)\n",
    "\n",
    "plt.plot(epochs_range, train_loss, label='Training Loss')\n",
    "plt.plot(epochs_range, val_loss, label='Validation Loss')\n",
    "\n",
    "plt.legend()\n",
    "plt.title('Training and Validation Loss')\n",
    "plt.xlabel('Epoch')\n",
    "plt.ylabel('Loss')\n",
    "\n",
    "plt.show()"
   ],
   "metadata": {
    "collapsed": false,
    "ExecuteTime": {
     "end_time": "2023-05-07T11:31:31.120372Z",
     "start_time": "2023-05-07T11:31:31.061501Z"
    }
   }
  },
  {
   "cell_type": "code",
   "execution_count": 157,
   "outputs": [
    {
     "name": "stdout",
     "output_type": "stream",
     "text": [
      " 3/62 [>.............................] - ETA: 2s - loss: 1.4466 - accuracy: 0.8125 - precision: 0.8105 - recall: 0.8021 - f1_score: 0.7596"
     ]
    },
    {
     "name": "stderr",
     "output_type": "stream",
     "text": [
      "/Users/hueybai/miniconda3/envs/DL/lib/python3.10/site-packages/keras/engine/training.py:2448: UserWarning: Metric MultiCategoryF1Score implements a `reset_states()` method; rename it to `reset_state()` (without the final \"s\"). The name `reset_states()` has been deprecated to improve API consistency.\n",
      "  m.reset_state()\n"
     ]
    },
    {
     "name": "stdout",
     "output_type": "stream",
     "text": [
      "62/62 [==============================] - 3s 41ms/step - loss: 1.4221 - accuracy: 0.8323 - precision: 0.8493 - recall: 0.8172 - f1_score: 0.8050\n"
     ]
    },
    {
     "data": {
      "text/plain": "[1.422105312347412,\n 0.8323232531547546,\n 0.8493438363075256,\n 0.8171716928482056,\n 0.8049800395965576]"
     },
     "execution_count": 157,
     "metadata": {},
     "output_type": "execute_result"
    }
   ],
   "source": [
    "model_categorical.evaluate(test_cellType_generator)"
   ],
   "metadata": {
    "collapsed": false,
    "ExecuteTime": {
     "end_time": "2023-05-07T11:31:36.357549Z",
     "start_time": "2023-05-07T11:31:33.768168Z"
    }
   }
  }
 ],
 "metadata": {
  "kernelspec": {
   "display_name": "Python 3",
   "language": "python",
   "name": "python3"
  },
  "language_info": {
   "codemirror_mode": {
    "name": "ipython",
    "version": 2
   },
   "file_extension": ".py",
   "mimetype": "text/x-python",
   "name": "python",
   "nbconvert_exporter": "python",
   "pygments_lexer": "ipython2",
   "version": "2.7.6"
  }
 },
 "nbformat": 4,
 "nbformat_minor": 0
}
