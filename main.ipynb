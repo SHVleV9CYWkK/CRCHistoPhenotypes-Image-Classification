{
 "cells": [
  {
   "cell_type": "code",
   "execution_count": 1,
   "metadata": {
    "collapsed": true,
    "ExecuteTime": {
     "start_time": "2023-04-24T16:21:03.928390Z",
     "end_time": "2023-04-24T16:21:06.576904Z"
    }
   },
   "outputs": [
    {
     "name": "stderr",
     "output_type": "stream",
     "text": [
      "/Users/hueybai/miniconda3/envs/DL/lib/python3.10/site-packages/tensorflow_addons/utils/tfa_eol_msg.py:23: UserWarning: \n",
      "\n",
      "TensorFlow Addons (TFA) has ended development and introduction of new features.\n",
      "TFA has entered a minimal maintenance and release mode until a planned end of life in May 2024.\n",
      "Please modify downstream libraries to take dependencies from other repositories in our TensorFlow community (e.g. Keras, Keras-CV, and Keras-NLP). \n",
      "\n",
      "For more information see: https://github.com/tensorflow/addons/issues/2807 \n",
      "\n",
      "  warnings.warn(\n"
     ]
    }
   ],
   "source": [
    "import pandas as pd\n",
    "import matplotlib.pyplot as plt\n",
    "import numpy as np\n",
    "import tensorflow as tf\n",
    "import tensorflow_addons as tfa\n",
    "from sklearn.model_selection import train_test_split"
   ]
  },
  {
   "cell_type": "code",
   "execution_count": 2,
   "outputs": [],
   "source": [
    "data = pd.read_csv('./Image_classification_data/data_labels_mainData.csv')\n",
    "data['cellType'] = data['cellType'].astype(str)\n",
    "train_data, test_data = train_test_split(data, test_size=0.2, random_state=42)"
   ],
   "metadata": {
    "collapsed": false,
    "ExecuteTime": {
     "start_time": "2023-04-24T16:21:06.577893Z",
     "end_time": "2023-04-24T16:21:06.586433Z"
    }
   }
  },
  {
   "cell_type": "code",
   "execution_count": 3,
   "outputs": [
    {
     "data": {
      "text/plain": "([0, 1, 2, 3],\n [Text(0, 0, '2'), Text(1, 0, '0'), Text(2, 0, '3'), Text(3, 0, '1')])"
     },
     "execution_count": 3,
     "metadata": {},
     "output_type": "execute_result"
    },
    {
     "data": {
      "text/plain": "<Figure size 432x288 with 1 Axes>",
      "image/png": "[encoded data removed]"
     },
     "metadata": {
      "needs_background": "light"
     },
     "output_type": "display_data"
    }
   ],
   "source": [
    "plt.hist(train_data['cellType'], alpha=0.3, color='b', label='Train', density=True)\n",
    "plt.hist(test_data['cellType'], alpha=0.3, color='r', label='Test',  density=True)\n",
    "plt.hist(data['cellType'], alpha=0.3, color='g', density=True)\n",
    "plt.title('cellType')\n",
    "plt.xticks(rotation='vertical')"
   ],
   "metadata": {
    "collapsed": false,
    "ExecuteTime": {
     "start_time": "2023-04-24T16:21:06.587317Z",
     "end_time": "2023-04-24T16:21:06.675030Z"
    }
   }
  },
  {
   "cell_type": "code",
   "execution_count": 4,
   "outputs": [],
   "source": [
    "class_samples = train_data['cellType'].value_counts()\n",
    "total_samples = np.sum(class_samples)\n",
    "class_weights = total_samples / class_samples\n",
    "\n",
    "class_weight_dict = {int(k): v for k, v in class_weights.to_dict().items()}"
   ],
   "metadata": {
    "collapsed": false,
    "ExecuteTime": {
     "start_time": "2023-04-24T16:21:06.676537Z",
     "end_time": "2023-04-24T16:21:06.677992Z"
    }
   }
  },
  {
   "cell_type": "code",
   "execution_count": 5,
   "outputs": [
    {
     "name": "stdout",
     "output_type": "stream",
     "text": [
      "Found 7916 validated image filenames belonging to 4 classes.\n",
      "Found 1980 validated image filenames belonging to 4 classes.\n"
     ]
    }
   ],
   "source": [
    "batch_size = 32\n",
    "train_datagen = tf.keras.preprocessing.image.ImageDataGenerator(\n",
    "    rescale=1./255,\n",
    "    rotation_range=40,\n",
    "    width_shift_range=0.2,\n",
    "    height_shift_range=0.2,\n",
    "    shear_range=0.2,\n",
    "    zoom_range=0.2,\n",
    "    horizontal_flip=True,\n",
    "    vertical_flip=True,\n",
    "    fill_mode='nearest'\n",
    ")\n",
    "\n",
    "test_datagen = tf.keras.preprocessing.image.ImageDataGenerator(\n",
    "    rescale=1./255\n",
    ")\n",
    "\n",
    "train_generator = train_datagen.flow_from_dataframe(\n",
    "    train_data,\n",
    "    directory='./Image_classification_data/patch_images',\n",
    "    x_col='ImageName',\n",
    "    y_col='cellType',\n",
    "    target_size=(27, 27),\n",
    "    batch_size=batch_size,\n",
    "    class_mode='categorical')\n",
    "\n",
    "validation_generator = test_datagen.flow_from_dataframe(\n",
    "    test_data,\n",
    "    directory='./Image_classification_data/patch_images',\n",
    "    x_col='ImageName',\n",
    "    y_col='cellType',\n",
    "    target_size=(27, 27),\n",
    "    batch_size=batch_size,\n",
    "    class_mode='categorical')"
   ],
   "metadata": {
    "collapsed": false,
    "ExecuteTime": {
     "start_time": "2023-04-24T16:21:06.686558Z",
     "end_time": "2023-04-24T16:21:06.778675Z"
    }
   }
  },
  {
   "cell_type": "markdown",
   "source": [
    "三层卷积，池化。+64，32，16MPL。bc=16，lr=0.001。目前表现最佳。"
   ],
   "metadata": {
    "collapsed": false
   }
  },
  {
   "cell_type": "code",
   "execution_count": 6,
   "outputs": [
    {
     "name": "stdout",
     "output_type": "stream",
     "text": [
      "Metal device set to: Apple M1 Pro\n",
      "Model: \"sequential\"\n",
      "_________________________________________________________________\n",
      " Layer (type)                Output Shape              Param #   \n",
      "=================================================================\n",
      " conv2d (Conv2D)             (None, 27, 27, 32)        896       \n",
      "                                                                 \n",
      " batch_normalization (BatchN  (None, 27, 27, 32)       128       \n",
      " ormalization)                                                   \n",
      "                                                                 \n",
      " conv2d_1 (Conv2D)           (None, 25, 25, 32)        9248      \n",
      "                                                                 \n",
      " batch_normalization_1 (Batc  (None, 25, 25, 32)       128       \n",
      " hNormalization)                                                 \n",
      "                                                                 \n",
      " max_pooling2d (MaxPooling2D  (None, 12, 12, 32)       0         \n",
      " )                                                               \n",
      "                                                                 \n",
      " conv2d_2 (Conv2D)           (None, 12, 12, 64)        18496     \n",
      "                                                                 \n",
      " batch_normalization_2 (Batc  (None, 12, 12, 64)       256       \n",
      " hNormalization)                                                 \n",
      "                                                                 \n",
      " conv2d_3 (Conv2D)           (None, 10, 10, 64)        36928     \n",
      "                                                                 \n",
      " batch_normalization_3 (Batc  (None, 10, 10, 64)       256       \n",
      " hNormalization)                                                 \n",
      "                                                                 \n",
      " max_pooling2d_1 (MaxPooling  (None, 5, 5, 64)         0         \n",
      " 2D)                                                             \n",
      "                                                                 \n",
      " flatten (Flatten)           (None, 1600)              0         \n",
      "                                                                 \n",
      " dense (Dense)               (None, 512)               819712    \n",
      "                                                                 \n",
      " batch_normalization_4 (Batc  (None, 512)              2048      \n",
      " hNormalization)                                                 \n",
      "                                                                 \n",
      " dropout (Dropout)           (None, 512)               0         \n",
      "                                                                 \n",
      " dense_1 (Dense)             (None, 512)               262656    \n",
      "                                                                 \n",
      " batch_normalization_5 (Batc  (None, 512)              2048      \n",
      " hNormalization)                                                 \n",
      "                                                                 \n",
      " dropout_1 (Dropout)         (None, 512)               0         \n",
      "                                                                 \n",
      " dense_2 (Dense)             (None, 4)                 2052      \n",
      "                                                                 \n",
      "=================================================================\n",
      "Total params: 1,154,852\n",
      "Trainable params: 1,152,420\n",
      "Non-trainable params: 2,432\n",
      "_________________________________________________________________\n"
     ]
    }
   ],
   "source": [
    "input_shape = (27, 27, 3)\n",
    "num_classes = 4\n",
    "l2_coeff = 0.01\n",
    "\n",
    "model = tf.keras.models.Sequential([\n",
    "    tf.keras.layers.Conv2D(32, (3,3), activation='relu', input_shape=input_shape, padding='same', kernel_regularizer=tf.keras.regularizers.l2(l2_coeff)),\n",
    "    tf.keras.layers.BatchNormalization(),\n",
    "    tf.keras.layers.Conv2D(32, (3,3), activation='relu', kernel_regularizer=tf.keras.regularizers.l2(l2_coeff)),\n",
    "    tf.keras.layers.BatchNormalization(),\n",
    "    tf.keras.layers.MaxPooling2D(2, 2),\n",
    "    tf.keras.layers.Conv2D(64, (3,3), activation='relu', padding='same', kernel_regularizer=tf.keras.regularizers.l2(l2_coeff)),\n",
    "    tf.keras.layers.BatchNormalization(),\n",
    "    tf.keras.layers.Conv2D(64, (3,3), activation='relu', kernel_regularizer=tf.keras.regularizers.l2(l2_coeff)),\n",
    "    tf.keras.layers.BatchNormalization(),\n",
    "    tf.keras.layers.MaxPooling2D(2, 2),\n",
    "    tf.keras.layers.Flatten(),\n",
    "    tf.keras.layers.Dense(512, activation='relu', kernel_regularizer=tf.keras.regularizers.l2(l2_coeff)),\n",
    "    tf.keras.layers.BatchNormalization(),\n",
    "    tf.keras.layers.Dropout(0.2),\n",
    "    tf.keras.layers.Dense(512, activation='relu', kernel_regularizer=tf.keras.regularizers.l2(l2_coeff)),\n",
    "    tf.keras.layers.BatchNormalization(),\n",
    "    tf.keras.layers.Dropout(0.2),\n",
    "    tf.keras.layers.Dense(num_classes, activation='softmax')\n",
    "])\n",
    "\n",
    "model.summary()"
   ],
   "metadata": {
    "collapsed": false,
    "ExecuteTime": {
     "start_time": "2023-04-24T16:21:06.800890Z",
     "end_time": "2023-04-24T16:21:07.020678Z"
    }
   }
  },
  {
   "cell_type": "code",
   "execution_count": 7,
   "outputs": [],
   "source": [
    "model.compile(loss='categorical_crossentropy',\n",
    "              optimizer=tf.keras.optimizers.legacy.Adam(learning_rate=0.0001),\n",
    "              metrics=['accuracy', tf.keras.metrics.Precision(), tf.keras.metrics.Recall(), tfa.metrics.F1Score(num_classes=4, average='macro')])"
   ],
   "metadata": {
    "collapsed": false,
    "ExecuteTime": {
     "start_time": "2023-04-24T16:21:07.028857Z",
     "end_time": "2023-04-24T16:21:07.048542Z"
    }
   }
  },
  {
   "cell_type": "code",
   "execution_count": 8,
   "outputs": [
    {
     "name": "stdout",
     "output_type": "stream",
     "text": [
      "Epoch 1/200\n"
     ]
    },
    {
     "name": "stderr",
     "output_type": "stream",
     "text": [
      "2023-04-24 16:21:07.090384: W tensorflow/tsl/platform/profile_utils/cpu_utils.cc:128] Failed to get CPU frequency: 0 Hz\n"
     ]
    },
    {
     "name": "stdout",
     "output_type": "stream",
     "text": [
      "247/247 [==============================] - 12s 46ms/step - loss: 19.4191 - accuracy: 0.5440 - precision: 0.5826 - recall: 0.4878 - f1_score: 0.4986 - val_loss: 15.6872 - val_accuracy: 0.4703 - val_precision: 0.5681 - val_recall: 0.3996 - val_f1_score: 0.2675 - lr: 1.0000e-04\n",
      "Epoch 2/200\n",
      "247/247 [==============================] - 11s 44ms/step - loss: 18.3470 - accuracy: 0.6145 - precision: 0.6532 - recall: 0.5618 - f1_score: 0.5655 - val_loss: 14.7117 - val_accuracy: 0.6588 - val_precision: 0.7272 - val_recall: 0.5748 - val_f1_score: 0.5450 - lr: 1.0000e-04\n",
      "Epoch 3/200\n",
      "247/247 [==============================] - 11s 44ms/step - loss: 17.8020 - accuracy: 0.6388 - precision: 0.6803 - recall: 0.5818 - f1_score: 0.5884 - val_loss: 14.3932 - val_accuracy: 0.6670 - val_precision: 0.7164 - val_recall: 0.6030 - val_f1_score: 0.6272 - lr: 1.0000e-04\n",
      "Epoch 4/200\n",
      "247/247 [==============================] - 11s 45ms/step - loss: 17.2467 - accuracy: 0.6625 - precision: 0.7055 - recall: 0.6073 - f1_score: 0.6099 - val_loss: 14.0582 - val_accuracy: 0.6916 - val_precision: 0.7369 - val_recall: 0.6470 - val_f1_score: 0.6441 - lr: 1.0000e-04\n",
      "Epoch 5/200\n",
      "247/247 [==============================] - 11s 44ms/step - loss: 16.8036 - accuracy: 0.6664 - precision: 0.7134 - recall: 0.6123 - f1_score: 0.6190 - val_loss: 13.8328 - val_accuracy: 0.6634 - val_precision: 0.6994 - val_recall: 0.6066 - val_f1_score: 0.6151 - lr: 1.0000e-04\n",
      "Epoch 6/200\n",
      "247/247 [==============================] - 11s 43ms/step - loss: 16.4111 - accuracy: 0.6757 - precision: 0.7193 - recall: 0.6214 - f1_score: 0.6280 - val_loss: 13.4759 - val_accuracy: 0.6798 - val_precision: 0.7178 - val_recall: 0.6399 - val_f1_score: 0.6488 - lr: 1.0000e-04\n",
      "Epoch 7/200\n",
      "247/247 [==============================] - 11s 43ms/step - loss: 16.0282 - accuracy: 0.6816 - precision: 0.7317 - recall: 0.6234 - f1_score: 0.6347 - val_loss: 13.1802 - val_accuracy: 0.6880 - val_precision: 0.7223 - val_recall: 0.6342 - val_f1_score: 0.6364 - lr: 1.0000e-04\n",
      "Epoch 8/200\n",
      "247/247 [==============================] - 11s 43ms/step - loss: 15.6997 - accuracy: 0.6833 - precision: 0.7322 - recall: 0.6275 - f1_score: 0.6366 - val_loss: 12.9481 - val_accuracy: 0.6470 - val_precision: 0.6775 - val_recall: 0.6004 - val_f1_score: 0.5983 - lr: 1.0000e-04\n",
      "Epoch 9/200\n",
      "247/247 [==============================] - 11s 43ms/step - loss: 15.2089 - accuracy: 0.6981 - precision: 0.7506 - recall: 0.6375 - f1_score: 0.6533 - val_loss: 12.5272 - val_accuracy: 0.6942 - val_precision: 0.7258 - val_recall: 0.6685 - val_f1_score: 0.6385 - lr: 1.0000e-04\n",
      "Epoch 10/200\n",
      "247/247 [==============================] - 11s 43ms/step - loss: 14.7437 - accuracy: 0.7099 - precision: 0.7573 - recall: 0.6530 - f1_score: 0.6639 - val_loss: 12.1098 - val_accuracy: 0.6814 - val_precision: 0.7348 - val_recall: 0.6358 - val_f1_score: 0.6364 - lr: 1.0000e-04\n",
      "Epoch 11/200\n",
      "247/247 [==============================] - 11s 44ms/step - loss: 14.4378 - accuracy: 0.7040 - precision: 0.7556 - recall: 0.6460 - f1_score: 0.6600 - val_loss: 11.7142 - val_accuracy: 0.7239 - val_precision: 0.7727 - val_recall: 0.6793 - val_f1_score: 0.6758 - lr: 1.0000e-04\n",
      "Epoch 12/200\n",
      "247/247 [==============================] - 11s 43ms/step - loss: 14.0519 - accuracy: 0.7067 - precision: 0.7560 - recall: 0.6440 - f1_score: 0.6619 - val_loss: 11.3746 - val_accuracy: 0.7300 - val_precision: 0.7667 - val_recall: 0.6936 - val_f1_score: 0.6843 - lr: 1.0000e-04\n",
      "Epoch 13/200\n",
      "247/247 [==============================] - 11s 43ms/step - loss: 13.6555 - accuracy: 0.7155 - precision: 0.7648 - recall: 0.6585 - f1_score: 0.6707 - val_loss: 11.1396 - val_accuracy: 0.6788 - val_precision: 0.7121 - val_recall: 0.6311 - val_f1_score: 0.6547 - lr: 1.0000e-04\n",
      "Epoch 14/200\n",
      "247/247 [==============================] - 11s 43ms/step - loss: 13.2576 - accuracy: 0.7227 - precision: 0.7706 - recall: 0.6618 - f1_score: 0.6806 - val_loss: 10.7017 - val_accuracy: 0.6834 - val_precision: 0.7237 - val_recall: 0.6332 - val_f1_score: 0.6438 - lr: 1.0000e-04\n",
      "Epoch 15/200\n",
      "247/247 [==============================] - 11s 43ms/step - loss: 12.8925 - accuracy: 0.7221 - precision: 0.7736 - recall: 0.6627 - f1_score: 0.6818 - val_loss: 10.6035 - val_accuracy: 0.6122 - val_precision: 0.6405 - val_recall: 0.5686 - val_f1_score: 0.5900 - lr: 1.0000e-04\n",
      "Epoch 16/200\n",
      "247/247 [==============================] - 11s 43ms/step - loss: 12.4959 - accuracy: 0.7193 - precision: 0.7745 - recall: 0.6639 - f1_score: 0.6790 - val_loss: 10.0576 - val_accuracy: 0.6957 - val_precision: 0.7320 - val_recall: 0.6465 - val_f1_score: 0.6621 - lr: 1.0000e-04\n",
      "Epoch 17/200\n",
      "247/247 [==============================] - 11s 43ms/step - loss: 12.1420 - accuracy: 0.7250 - precision: 0.7736 - recall: 0.6695 - f1_score: 0.6845 - val_loss: 9.6728 - val_accuracy: 0.7003 - val_precision: 0.7395 - val_recall: 0.6414 - val_f1_score: 0.6739 - lr: 1.0000e-04\n",
      "Epoch 18/200\n",
      "247/247 [==============================] - 11s 43ms/step - loss: 11.7669 - accuracy: 0.7317 - precision: 0.7780 - recall: 0.6739 - f1_score: 0.6899 - val_loss: 9.2550 - val_accuracy: 0.7474 - val_precision: 0.7890 - val_recall: 0.6895 - val_f1_score: 0.7178 - lr: 1.0000e-04\n",
      "Epoch 19/200\n",
      "247/247 [==============================] - 11s 43ms/step - loss: 11.3452 - accuracy: 0.7367 - precision: 0.7857 - recall: 0.6758 - f1_score: 0.6960 - val_loss: 8.8899 - val_accuracy: 0.7700 - val_precision: 0.8034 - val_recall: 0.7346 - val_f1_score: 0.7217 - lr: 1.0000e-04\n",
      "Epoch 20/200\n",
      "247/247 [==============================] - 11s 43ms/step - loss: 11.0316 - accuracy: 0.7368 - precision: 0.7852 - recall: 0.6802 - f1_score: 0.6965 - val_loss: 8.5448 - val_accuracy: 0.7556 - val_precision: 0.7932 - val_recall: 0.7095 - val_f1_score: 0.7147 - lr: 1.0000e-04\n",
      "Epoch 21/200\n",
      "247/247 [==============================] - 11s 43ms/step - loss: 10.6985 - accuracy: 0.7383 - precision: 0.7898 - recall: 0.6842 - f1_score: 0.6973 - val_loss: 8.2581 - val_accuracy: 0.7459 - val_precision: 0.7672 - val_recall: 0.7157 - val_f1_score: 0.7067 - lr: 1.0000e-04\n",
      "Epoch 22/200\n",
      "247/247 [==============================] - 11s 43ms/step - loss: 10.2990 - accuracy: 0.7443 - precision: 0.7903 - recall: 0.6859 - f1_score: 0.7066 - val_loss: 8.1843 - val_accuracy: 0.6475 - val_precision: 0.6822 - val_recall: 0.6091 - val_f1_score: 0.6037 - lr: 1.0000e-04\n",
      "Epoch 23/200\n",
      "247/247 [==============================] - 11s 43ms/step - loss: 9.9221 - accuracy: 0.7494 - precision: 0.7952 - recall: 0.6923 - f1_score: 0.7106 - val_loss: 7.6112 - val_accuracy: 0.7403 - val_precision: 0.7877 - val_recall: 0.6901 - val_f1_score: 0.7048 - lr: 1.0000e-04\n",
      "Epoch 24/200\n",
      "247/247 [==============================] - 11s 43ms/step - loss: 9.6348 - accuracy: 0.7508 - precision: 0.8006 - recall: 0.6946 - f1_score: 0.7135 - val_loss: 7.5379 - val_accuracy: 0.6481 - val_precision: 0.6982 - val_recall: 0.5820 - val_f1_score: 0.6218 - lr: 1.0000e-04\n",
      "Epoch 25/200\n",
      "247/247 [==============================] - 11s 43ms/step - loss: 9.3117 - accuracy: 0.7520 - precision: 0.7983 - recall: 0.6976 - f1_score: 0.7130 - val_loss: 7.0228 - val_accuracy: 0.7387 - val_precision: 0.7772 - val_recall: 0.6988 - val_f1_score: 0.6966 - lr: 1.0000e-04\n",
      "Epoch 26/200\n",
      "247/247 [==============================] - 11s 43ms/step - loss: 9.0098 - accuracy: 0.7476 - precision: 0.7990 - recall: 0.6958 - f1_score: 0.7087 - val_loss: 6.7488 - val_accuracy: 0.7520 - val_precision: 0.7772 - val_recall: 0.7182 - val_f1_score: 0.7029 - lr: 1.0000e-04\n",
      "Epoch 27/200\n",
      "247/247 [==============================] - 11s 43ms/step - loss: 8.6659 - accuracy: 0.7614 - precision: 0.8070 - recall: 0.7076 - f1_score: 0.7237 - val_loss: 6.5019 - val_accuracy: 0.7285 - val_precision: 0.7757 - val_recall: 0.6803 - val_f1_score: 0.6976 - lr: 1.0000e-04\n",
      "Epoch 28/200\n",
      "247/247 [==============================] - 11s 43ms/step - loss: 8.4504 - accuracy: 0.7551 - precision: 0.8016 - recall: 0.7069 - f1_score: 0.7162 - val_loss: 6.1927 - val_accuracy: 0.7439 - val_precision: 0.7882 - val_recall: 0.6844 - val_f1_score: 0.7133 - lr: 1.0000e-04\n",
      "Epoch 29/200\n",
      "247/247 [==============================] - 11s 43ms/step - loss: 8.1531 - accuracy: 0.7615 - precision: 0.8046 - recall: 0.7102 - f1_score: 0.7228 - val_loss: 5.9060 - val_accuracy: 0.7720 - val_precision: 0.7993 - val_recall: 0.7367 - val_f1_score: 0.7189 - lr: 1.0000e-04\n",
      "Epoch 30/200\n",
      "247/247 [==============================] - 11s 43ms/step - loss: 7.8845 - accuracy: 0.7650 - precision: 0.8098 - recall: 0.7125 - f1_score: 0.7268 - val_loss: 5.6837 - val_accuracy: 0.7710 - val_precision: 0.7993 - val_recall: 0.7285 - val_f1_score: 0.7391 - lr: 1.0000e-04\n",
      "Epoch 31/200\n",
      "247/247 [==============================] - 11s 43ms/step - loss: 7.6023 - accuracy: 0.7704 - precision: 0.8176 - recall: 0.7163 - f1_score: 0.7327 - val_loss: 5.4097 - val_accuracy: 0.7905 - val_precision: 0.8313 - val_recall: 0.7495 - val_f1_score: 0.7583 - lr: 1.0000e-04\n",
      "Epoch 32/200\n",
      "247/247 [==============================] - 11s 43ms/step - loss: 7.3660 - accuracy: 0.7669 - precision: 0.8087 - recall: 0.7174 - f1_score: 0.7336 - val_loss: 5.2209 - val_accuracy: 0.7787 - val_precision: 0.8103 - val_recall: 0.7464 - val_f1_score: 0.7353 - lr: 1.0000e-04\n",
      "Epoch 33/200\n",
      "247/247 [==============================] - 11s 43ms/step - loss: 7.2064 - accuracy: 0.7645 - precision: 0.8108 - recall: 0.7133 - f1_score: 0.7278 - val_loss: 5.0476 - val_accuracy: 0.7608 - val_precision: 0.8070 - val_recall: 0.7049 - val_f1_score: 0.7272 - lr: 1.0000e-04\n",
      "Epoch 34/200\n",
      "247/247 [==============================] - 11s 43ms/step - loss: 6.9611 - accuracy: 0.7634 - precision: 0.8096 - recall: 0.7145 - f1_score: 0.7293 - val_loss: 4.8936 - val_accuracy: 0.7515 - val_precision: 0.7799 - val_recall: 0.7223 - val_f1_score: 0.7123 - lr: 1.0000e-04\n",
      "Epoch 35/200\n",
      "247/247 [==============================] - 11s 43ms/step - loss: 6.7083 - accuracy: 0.7741 - precision: 0.8150 - recall: 0.7253 - f1_score: 0.7381 - val_loss: 4.7299 - val_accuracy: 0.7520 - val_precision: 0.7887 - val_recall: 0.7039 - val_f1_score: 0.7129 - lr: 1.0000e-04\n",
      "Epoch 36/200\n",
      "247/247 [==============================] - 11s 43ms/step - loss: 6.5826 - accuracy: 0.7752 - precision: 0.8190 - recall: 0.7277 - f1_score: 0.7400 - val_loss: 4.6045 - val_accuracy: 0.7090 - val_precision: 0.7426 - val_recall: 0.6650 - val_f1_score: 0.6656 - lr: 1.0000e-04\n",
      "Epoch 37/200\n",
      "247/247 [==============================] - 11s 44ms/step - loss: 6.4212 - accuracy: 0.7757 - precision: 0.8155 - recall: 0.7215 - f1_score: 0.7406 - val_loss: 4.5229 - val_accuracy: 0.6834 - val_precision: 0.7115 - val_recall: 0.6506 - val_f1_score: 0.6404 - lr: 1.0000e-04\n",
      "Epoch 38/200\n",
      "247/247 [==============================] - 11s 43ms/step - loss: 6.1932 - accuracy: 0.7774 - precision: 0.8174 - recall: 0.7264 - f1_score: 0.7437 - val_loss: 4.3695 - val_accuracy: 0.6767 - val_precision: 0.7072 - val_recall: 0.6322 - val_f1_score: 0.6504 - lr: 1.0000e-04\n",
      "Epoch 39/200\n",
      "247/247 [==============================] - 11s 43ms/step - loss: 6.0220 - accuracy: 0.7840 - precision: 0.8238 - recall: 0.7352 - f1_score: 0.7507 - val_loss: 4.2357 - val_accuracy: 0.6593 - val_precision: 0.6898 - val_recall: 0.6255 - val_f1_score: 0.6208 - lr: 1.0000e-04\n",
      "Epoch 40/200\n",
      "247/247 [==============================] - 11s 44ms/step - loss: 5.8940 - accuracy: 0.7801 - precision: 0.8254 - recall: 0.7303 - f1_score: 0.7439 - val_loss: 4.0059 - val_accuracy: 0.6983 - val_precision: 0.7330 - val_recall: 0.6527 - val_f1_score: 0.6644 - lr: 1.0000e-04\n",
      "Epoch 41/200\n",
      "247/247 [==============================] - 11s 44ms/step - loss: 5.7851 - accuracy: 0.7740 - precision: 0.8165 - recall: 0.7268 - f1_score: 0.7404 - val_loss: 3.6654 - val_accuracy: 0.8115 - val_precision: 0.8441 - val_recall: 0.7766 - val_f1_score: 0.7724 - lr: 1.0000e-04\n",
      "Epoch 42/200\n",
      "247/247 [==============================] - 11s 43ms/step - loss: 5.5805 - accuracy: 0.7779 - precision: 0.8182 - recall: 0.7326 - f1_score: 0.7447 - val_loss: 3.6070 - val_accuracy: 0.7787 - val_precision: 0.8047 - val_recall: 0.7387 - val_f1_score: 0.7440 - lr: 1.0000e-04\n",
      "Epoch 43/200\n",
      "247/247 [==============================] - 11s 43ms/step - loss: 5.4163 - accuracy: 0.7801 - precision: 0.8235 - recall: 0.7376 - f1_score: 0.7484 - val_loss: 3.4375 - val_accuracy: 0.8007 - val_precision: 0.8282 - val_recall: 0.7705 - val_f1_score: 0.7599 - lr: 1.0000e-04\n",
      "Epoch 44/200\n",
      "247/247 [==============================] - 11s 43ms/step - loss: 5.3416 - accuracy: 0.7837 - precision: 0.8267 - recall: 0.7374 - f1_score: 0.7506 - val_loss: 3.3372 - val_accuracy: 0.7900 - val_precision: 0.8196 - val_recall: 0.7515 - val_f1_score: 0.7391 - lr: 1.0000e-04\n",
      "Epoch 45/200\n",
      "247/247 [==============================] - 11s 44ms/step - loss: 5.2028 - accuracy: 0.7830 - precision: 0.8254 - recall: 0.7367 - f1_score: 0.7507 - val_loss: 3.3124 - val_accuracy: 0.7382 - val_precision: 0.7921 - val_recall: 0.6870 - val_f1_score: 0.6992 - lr: 1.0000e-04\n",
      "Epoch 46/200\n",
      "247/247 [==============================] - 11s 43ms/step - loss: 5.0441 - accuracy: 0.7930 - precision: 0.8293 - recall: 0.7461 - f1_score: 0.7607 - val_loss: 3.1819 - val_accuracy: 0.7715 - val_precision: 0.8008 - val_recall: 0.7392 - val_f1_score: 0.7446 - lr: 1.0000e-04\n",
      "Epoch 47/200\n",
      "247/247 [==============================] - 11s 43ms/step - loss: 4.9685 - accuracy: 0.7850 - precision: 0.8286 - recall: 0.7406 - f1_score: 0.7518 - val_loss: 3.2933 - val_accuracy: 0.6685 - val_precision: 0.7033 - val_recall: 0.6301 - val_f1_score: 0.6408 - lr: 1.0000e-04\n",
      "Epoch 48/200\n",
      "247/247 [==============================] - 11s 43ms/step - loss: 4.9379 - accuracy: 0.7849 - precision: 0.8261 - recall: 0.7388 - f1_score: 0.7493 - val_loss: 2.9710 - val_accuracy: 0.7889 - val_precision: 0.8109 - val_recall: 0.7556 - val_f1_score: 0.7449 - lr: 1.0000e-04\n",
      "Epoch 49/200\n",
      "247/247 [==============================] - 11s 43ms/step - loss: 4.8292 - accuracy: 0.7874 - precision: 0.8265 - recall: 0.7385 - f1_score: 0.7563 - val_loss: 2.9722 - val_accuracy: 0.7464 - val_precision: 0.7844 - val_recall: 0.7121 - val_f1_score: 0.7077 - lr: 1.0000e-04\n",
      "Epoch 50/200\n",
      "247/247 [==============================] - 11s 43ms/step - loss: 4.7018 - accuracy: 0.7877 - precision: 0.8264 - recall: 0.7421 - f1_score: 0.7539 - val_loss: 2.8394 - val_accuracy: 0.7782 - val_precision: 0.8132 - val_recall: 0.7295 - val_f1_score: 0.7450 - lr: 1.0000e-04\n",
      "Epoch 51/200\n",
      "247/247 [==============================] - 11s 43ms/step - loss: 4.6412 - accuracy: 0.7901 - precision: 0.8304 - recall: 0.7452 - f1_score: 0.7566 - val_loss: 2.7253 - val_accuracy: 0.7879 - val_precision: 0.8174 - val_recall: 0.7520 - val_f1_score: 0.7387 - lr: 1.0000e-04\n",
      "Epoch 52/200\n",
      "247/247 [==============================] - 11s 43ms/step - loss: 4.5453 - accuracy: 0.7830 - precision: 0.8246 - recall: 0.7396 - f1_score: 0.7501 - val_loss: 2.6016 - val_accuracy: 0.8207 - val_precision: 0.8573 - val_recall: 0.7725 - val_f1_score: 0.7876 - lr: 1.0000e-04\n",
      "Epoch 53/200\n",
      "247/247 [==============================] - 11s 43ms/step - loss: 4.4570 - accuracy: 0.7886 - precision: 0.8275 - recall: 0.7442 - f1_score: 0.7569 - val_loss: 2.6023 - val_accuracy: 0.7843 - val_precision: 0.8129 - val_recall: 0.7526 - val_f1_score: 0.7389 - lr: 1.0000e-04\n",
      "Epoch 54/200\n",
      "247/247 [==============================] - 11s 43ms/step - loss: 4.3718 - accuracy: 0.7963 - precision: 0.8325 - recall: 0.7539 - f1_score: 0.7656 - val_loss: 2.5939 - val_accuracy: 0.7674 - val_precision: 0.7992 - val_recall: 0.7259 - val_f1_score: 0.7386 - lr: 1.0000e-04\n",
      "Epoch 55/200\n",
      "247/247 [==============================] - 11s 43ms/step - loss: 4.3395 - accuracy: 0.7957 - precision: 0.8331 - recall: 0.7514 - f1_score: 0.7635 - val_loss: 2.6459 - val_accuracy: 0.7075 - val_precision: 0.7450 - val_recall: 0.6614 - val_f1_score: 0.6734 - lr: 1.0000e-04\n",
      "Epoch 56/200\n",
      "247/247 [==============================] - 11s 44ms/step - loss: 4.2442 - accuracy: 0.7960 - precision: 0.8367 - recall: 0.7489 - f1_score: 0.7656 - val_loss: 2.4142 - val_accuracy: 0.7920 - val_precision: 0.8191 - val_recall: 0.7561 - val_f1_score: 0.7573 - lr: 1.0000e-04\n",
      "Epoch 57/200\n",
      "247/247 [==============================] - 11s 44ms/step - loss: 4.2081 - accuracy: 0.7889 - precision: 0.8301 - recall: 0.7472 - f1_score: 0.7592 - val_loss: 2.4746 - val_accuracy: 0.7490 - val_precision: 0.7749 - val_recall: 0.7090 - val_f1_score: 0.7242 - lr: 1.0000e-04\n",
      "Epoch 58/200\n",
      "247/247 [==============================] - 11s 44ms/step - loss: 4.1367 - accuracy: 0.8005 - precision: 0.8348 - recall: 0.7557 - f1_score: 0.7685 - val_loss: 2.3058 - val_accuracy: 0.7946 - val_precision: 0.8174 - val_recall: 0.7592 - val_f1_score: 0.7560 - lr: 1.0000e-04\n",
      "Epoch 59/200\n",
      "247/247 [==============================] - 11s 43ms/step - loss: 4.0726 - accuracy: 0.7991 - precision: 0.8395 - recall: 0.7519 - f1_score: 0.7673 - val_loss: 2.3534 - val_accuracy: 0.7531 - val_precision: 0.7820 - val_recall: 0.7167 - val_f1_score: 0.7135 - lr: 1.0000e-04\n",
      "Epoch 60/200\n",
      "247/247 [==============================] - 11s 43ms/step - loss: 4.0216 - accuracy: 0.7990 - precision: 0.8362 - recall: 0.7556 - f1_score: 0.7691 - val_loss: 2.2669 - val_accuracy: 0.7582 - val_precision: 0.8007 - val_recall: 0.7182 - val_f1_score: 0.7175 - lr: 1.0000e-04\n",
      "Epoch 61/200\n",
      "247/247 [==============================] - 11s 43ms/step - loss: 4.0173 - accuracy: 0.7939 - precision: 0.8348 - recall: 0.7532 - f1_score: 0.7615 - val_loss: 2.1171 - val_accuracy: 0.8135 - val_precision: 0.8328 - val_recall: 0.7807 - val_f1_score: 0.7779 - lr: 1.0000e-04\n",
      "Epoch 62/200\n",
      "247/247 [==============================] - 11s 43ms/step - loss: 3.9552 - accuracy: 0.7936 - precision: 0.8347 - recall: 0.7515 - f1_score: 0.7622 - val_loss: 2.1267 - val_accuracy: 0.7848 - val_precision: 0.8125 - val_recall: 0.7546 - val_f1_score: 0.7372 - lr: 1.0000e-04\n",
      "Epoch 63/200\n",
      "247/247 [==============================] - 11s 43ms/step - loss: 3.8446 - accuracy: 0.7987 - precision: 0.8384 - recall: 0.7609 - f1_score: 0.7702 - val_loss: 2.0800 - val_accuracy: 0.7879 - val_precision: 0.8184 - val_recall: 0.7551 - val_f1_score: 0.7543 - lr: 1.0000e-04\n",
      "Epoch 64/200\n",
      "247/247 [==============================] - 11s 43ms/step - loss: 3.8696 - accuracy: 0.7982 - precision: 0.8350 - recall: 0.7525 - f1_score: 0.7670 - val_loss: 2.0808 - val_accuracy: 0.7695 - val_precision: 0.8021 - val_recall: 0.7392 - val_f1_score: 0.7283 - lr: 1.0000e-04\n",
      "Epoch 65/200\n",
      "247/247 [==============================] - 11s 43ms/step - loss: 3.8230 - accuracy: 0.7981 - precision: 0.8400 - recall: 0.7556 - f1_score: 0.7663 - val_loss: 2.0886 - val_accuracy: 0.7633 - val_precision: 0.7852 - val_recall: 0.7341 - val_f1_score: 0.7277 - lr: 1.0000e-04\n",
      "Epoch 66/200\n",
      "247/247 [==============================] - 11s 43ms/step - loss: 3.7752 - accuracy: 0.8011 - precision: 0.8375 - recall: 0.7579 - f1_score: 0.7722 - val_loss: 2.0659 - val_accuracy: 0.7520 - val_precision: 0.7853 - val_recall: 0.7065 - val_f1_score: 0.7133 - lr: 1.0000e-04\n",
      "Epoch 67/200\n",
      "247/247 [==============================] - 11s 43ms/step - loss: 3.7237 - accuracy: 0.8034 - precision: 0.8419 - recall: 0.7607 - f1_score: 0.7729 - val_loss: 1.9690 - val_accuracy: 0.7864 - val_precision: 0.8129 - val_recall: 0.7613 - val_f1_score: 0.7494 - lr: 1.0000e-04\n",
      "Epoch 68/200\n",
      "247/247 [==============================] - 11s 43ms/step - loss: 3.6869 - accuracy: 0.7992 - precision: 0.8399 - recall: 0.7590 - f1_score: 0.7697 - val_loss: 2.3556 - val_accuracy: 0.6081 - val_precision: 0.6310 - val_recall: 0.5825 - val_f1_score: 0.5800 - lr: 1.0000e-04\n",
      "Epoch 69/200\n",
      "247/247 [==============================] - 11s 43ms/step - loss: 3.6438 - accuracy: 0.8006 - precision: 0.8370 - recall: 0.7599 - f1_score: 0.7694 - val_loss: 1.9018 - val_accuracy: 0.7869 - val_precision: 0.8158 - val_recall: 0.7577 - val_f1_score: 0.7504 - lr: 1.0000e-04\n",
      "Epoch 70/200\n",
      "247/247 [==============================] - 11s 43ms/step - loss: 3.6503 - accuracy: 0.7987 - precision: 0.8371 - recall: 0.7595 - f1_score: 0.7673 - val_loss: 2.0470 - val_accuracy: 0.7223 - val_precision: 0.7535 - val_recall: 0.6798 - val_f1_score: 0.7080 - lr: 1.0000e-04\n",
      "Epoch 71/200\n",
      "247/247 [==============================] - 11s 43ms/step - loss: 3.5682 - accuracy: 0.8031 - precision: 0.8415 - recall: 0.7623 - f1_score: 0.7738 - val_loss: 1.9552 - val_accuracy: 0.7433 - val_precision: 0.7766 - val_recall: 0.7070 - val_f1_score: 0.7166 - lr: 1.0000e-04\n",
      "Epoch 72/200\n",
      "247/247 [==============================] - 11s 43ms/step - loss: 3.5933 - accuracy: 0.7954 - precision: 0.8305 - recall: 0.7519 - f1_score: 0.7625 - val_loss: 1.8870 - val_accuracy: 0.7643 - val_precision: 0.7979 - val_recall: 0.7300 - val_f1_score: 0.7291 - lr: 1.0000e-04\n",
      "Epoch 73/200\n",
      "247/247 [==============================] - 11s 43ms/step - loss: 3.4954 - accuracy: 0.8044 - precision: 0.8424 - recall: 0.7632 - f1_score: 0.7756 - val_loss: 1.8770 - val_accuracy: 0.7638 - val_precision: 0.7912 - val_recall: 0.7357 - val_f1_score: 0.7274 - lr: 1.0000e-04\n",
      "Epoch 74/200\n",
      "247/247 [==============================] - 11s 43ms/step - loss: 3.5041 - accuracy: 0.8066 - precision: 0.8421 - recall: 0.7670 - f1_score: 0.7775 - val_loss: 1.7709 - val_accuracy: 0.7910 - val_precision: 0.8152 - val_recall: 0.7572 - val_f1_score: 0.7449 - lr: 1.0000e-04\n",
      "Epoch 75/200\n",
      "247/247 [==============================] - 11s 43ms/step - loss: 3.5309 - accuracy: 0.8006 - precision: 0.8398 - recall: 0.7603 - f1_score: 0.7706 - val_loss: 1.7303 - val_accuracy: 0.8017 - val_precision: 0.8341 - val_recall: 0.7700 - val_f1_score: 0.7682 - lr: 1.0000e-04\n",
      "Epoch 76/200\n",
      "247/247 [==============================] - 11s 43ms/step - loss: 3.4488 - accuracy: 0.8083 - precision: 0.8436 - recall: 0.7643 - f1_score: 0.7803 - val_loss: 1.7339 - val_accuracy: 0.7992 - val_precision: 0.8248 - val_recall: 0.7643 - val_f1_score: 0.7558 - lr: 1.0000e-04\n",
      "Epoch 77/200\n",
      "247/247 [==============================] - 11s 43ms/step - loss: 3.4232 - accuracy: 0.8082 - precision: 0.8454 - recall: 0.7708 - f1_score: 0.7789 - val_loss: 1.8342 - val_accuracy: 0.7362 - val_precision: 0.7598 - val_recall: 0.6921 - val_f1_score: 0.7045 - lr: 1.0000e-04\n",
      "Epoch 78/200\n",
      "247/247 [==============================] - 11s 43ms/step - loss: 3.3704 - accuracy: 0.8146 - precision: 0.8468 - recall: 0.7749 - f1_score: 0.7859 - val_loss: 1.8145 - val_accuracy: 0.7428 - val_precision: 0.7793 - val_recall: 0.6983 - val_f1_score: 0.7125 - lr: 1.0000e-04\n",
      "Epoch 79/200\n",
      "247/247 [==============================] - 11s 43ms/step - loss: 3.3074 - accuracy: 0.8128 - precision: 0.8524 - recall: 0.7742 - f1_score: 0.7860 - val_loss: 1.6105 - val_accuracy: 0.8192 - val_precision: 0.8503 - val_recall: 0.7859 - val_f1_score: 0.7823 - lr: 3.1623e-05\n",
      "Epoch 80/200\n",
      "247/247 [==============================] - 11s 44ms/step - loss: 3.2367 - accuracy: 0.8166 - precision: 0.8555 - recall: 0.7766 - f1_score: 0.7881 - val_loss: 1.6117 - val_accuracy: 0.8135 - val_precision: 0.8420 - val_recall: 0.7833 - val_f1_score: 0.7799 - lr: 3.1623e-05\n",
      "Epoch 81/200\n",
      "247/247 [==============================] - 11s 44ms/step - loss: 3.2158 - accuracy: 0.8170 - precision: 0.8529 - recall: 0.7816 - f1_score: 0.7918 - val_loss: 1.6109 - val_accuracy: 0.8105 - val_precision: 0.8434 - val_recall: 0.7807 - val_f1_score: 0.7783 - lr: 3.1623e-05\n",
      "Epoch 82/200\n",
      "247/247 [==============================] - 11s 43ms/step - loss: 3.2216 - accuracy: 0.8227 - precision: 0.8563 - recall: 0.7848 - f1_score: 0.7958 - val_loss: 1.6640 - val_accuracy: 0.7941 - val_precision: 0.8208 - val_recall: 0.7602 - val_f1_score: 0.7613 - lr: 3.1623e-05\n",
      "Epoch 83/200\n",
      "247/247 [==============================] - 11s 43ms/step - loss: 3.1702 - accuracy: 0.8208 - precision: 0.8552 - recall: 0.7849 - f1_score: 0.7932 - val_loss: 1.5811 - val_accuracy: 0.8151 - val_precision: 0.8424 - val_recall: 0.7833 - val_f1_score: 0.7809 - lr: 1.0000e-05\n",
      "Epoch 84/200\n",
      "247/247 [==============================] - 11s 44ms/step - loss: 3.1064 - accuracy: 0.8286 - precision: 0.8612 - recall: 0.7903 - f1_score: 0.8022 - val_loss: 1.5870 - val_accuracy: 0.8105 - val_precision: 0.8326 - val_recall: 0.7848 - val_f1_score: 0.7781 - lr: 1.0000e-05\n",
      "Epoch 85/200\n",
      "247/247 [==============================] - 11s 43ms/step - loss: 3.0904 - accuracy: 0.8322 - precision: 0.8680 - recall: 0.7938 - f1_score: 0.8057 - val_loss: 1.5823 - val_accuracy: 0.8110 - val_precision: 0.8341 - val_recall: 0.7853 - val_f1_score: 0.7793 - lr: 1.0000e-05\n",
      "Epoch 86/200\n",
      "247/247 [==============================] - 11s 43ms/step - loss: 3.0588 - accuracy: 0.8304 - precision: 0.8642 - recall: 0.7934 - f1_score: 0.8056 - val_loss: 1.5747 - val_accuracy: 0.8186 - val_precision: 0.8425 - val_recall: 0.7894 - val_f1_score: 0.7853 - lr: 1.0000e-05\n",
      "Epoch 87/200\n",
      "247/247 [==============================] - 11s 43ms/step - loss: 3.1070 - accuracy: 0.8266 - precision: 0.8584 - recall: 0.7902 - f1_score: 0.8002 - val_loss: 1.5692 - val_accuracy: 0.8140 - val_precision: 0.8399 - val_recall: 0.7874 - val_f1_score: 0.7814 - lr: 1.0000e-05\n",
      "Epoch 88/200\n",
      "247/247 [==============================] - 11s 44ms/step - loss: 3.0722 - accuracy: 0.8316 - precision: 0.8693 - recall: 0.8000 - f1_score: 0.8053 - val_loss: 1.5743 - val_accuracy: 0.8105 - val_precision: 0.8349 - val_recall: 0.7848 - val_f1_score: 0.7774 - lr: 1.0000e-05\n",
      "Epoch 89/200\n",
      "247/247 [==============================] - 11s 44ms/step - loss: 3.0631 - accuracy: 0.8312 - precision: 0.8661 - recall: 0.7977 - f1_score: 0.8051 - val_loss: 1.5591 - val_accuracy: 0.8140 - val_precision: 0.8371 - val_recall: 0.7874 - val_f1_score: 0.7813 - lr: 1.0000e-05\n",
      "Epoch 90/200\n",
      "247/247 [==============================] - 11s 43ms/step - loss: 3.0448 - accuracy: 0.8305 - precision: 0.8633 - recall: 0.7939 - f1_score: 0.8040 - val_loss: 1.5711 - val_accuracy: 0.8079 - val_precision: 0.8341 - val_recall: 0.7802 - val_f1_score: 0.7750 - lr: 1.0000e-05\n",
      "Epoch 91/200\n",
      "247/247 [==============================] - 11s 44ms/step - loss: 3.0306 - accuracy: 0.8327 - precision: 0.8644 - recall: 0.7998 - f1_score: 0.8064 - val_loss: 1.5552 - val_accuracy: 0.8151 - val_precision: 0.8415 - val_recall: 0.7915 - val_f1_score: 0.7830 - lr: 1.0000e-05\n",
      "Epoch 92/200\n",
      "247/247 [==============================] - 11s 44ms/step - loss: 3.0350 - accuracy: 0.8309 - precision: 0.8655 - recall: 0.7981 - f1_score: 0.8060 - val_loss: 1.5646 - val_accuracy: 0.8120 - val_precision: 0.8393 - val_recall: 0.7812 - val_f1_score: 0.7795 - lr: 1.0000e-05\n",
      "Epoch 93/200\n",
      "247/247 [==============================] - 11s 44ms/step - loss: 3.0293 - accuracy: 0.8317 - precision: 0.8645 - recall: 0.7982 - f1_score: 0.8056 - val_loss: 1.5461 - val_accuracy: 0.8166 - val_precision: 0.8406 - val_recall: 0.7864 - val_f1_score: 0.7865 - lr: 1.0000e-05\n",
      "Epoch 94/200\n",
      "247/247 [==============================] - 11s 44ms/step - loss: 3.0342 - accuracy: 0.8321 - precision: 0.8628 - recall: 0.7979 - f1_score: 0.8077 - val_loss: 1.5404 - val_accuracy: 0.8130 - val_precision: 0.8439 - val_recall: 0.7920 - val_f1_score: 0.7808 - lr: 1.0000e-05\n",
      "Epoch 95/200\n",
      "247/247 [==============================] - 11s 44ms/step - loss: 3.0224 - accuracy: 0.8357 - precision: 0.8666 - recall: 0.8002 - f1_score: 0.8106 - val_loss: 1.5570 - val_accuracy: 0.8135 - val_precision: 0.8377 - val_recall: 0.7853 - val_f1_score: 0.7805 - lr: 1.0000e-05\n",
      "Epoch 96/200\n",
      "247/247 [==============================] - 11s 44ms/step - loss: 3.0105 - accuracy: 0.8300 - precision: 0.8617 - recall: 0.7960 - f1_score: 0.8036 - val_loss: 1.5372 - val_accuracy: 0.8140 - val_precision: 0.8341 - val_recall: 0.7884 - val_f1_score: 0.7806 - lr: 1.0000e-05\n",
      "Epoch 97/200\n",
      "247/247 [==============================] - 11s 44ms/step - loss: 3.0387 - accuracy: 0.8270 - precision: 0.8584 - recall: 0.7927 - f1_score: 0.8014 - val_loss: 1.5316 - val_accuracy: 0.8161 - val_precision: 0.8367 - val_recall: 0.7925 - val_f1_score: 0.7854 - lr: 1.0000e-05\n",
      "Epoch 98/200\n",
      "247/247 [==============================] - 11s 43ms/step - loss: 3.0415 - accuracy: 0.8291 - precision: 0.8628 - recall: 0.7902 - f1_score: 0.8014 - val_loss: 1.5097 - val_accuracy: 0.8233 - val_precision: 0.8475 - val_recall: 0.8002 - val_f1_score: 0.7914 - lr: 1.0000e-05\n",
      "Epoch 99/200\n",
      "247/247 [==============================] - 11s 45ms/step - loss: 2.9553 - accuracy: 0.8350 - precision: 0.8684 - recall: 0.7995 - f1_score: 0.8102 - val_loss: 1.5368 - val_accuracy: 0.8135 - val_precision: 0.8361 - val_recall: 0.7864 - val_f1_score: 0.7790 - lr: 1.0000e-05\n",
      "Epoch 100/200\n",
      "247/247 [==============================] - 11s 44ms/step - loss: 3.0236 - accuracy: 0.8281 - precision: 0.8619 - recall: 0.7955 - f1_score: 0.8033 - val_loss: 1.5203 - val_accuracy: 0.8181 - val_precision: 0.8396 - val_recall: 0.7910 - val_f1_score: 0.7864 - lr: 1.0000e-05\n",
      "Epoch 101/200\n",
      "247/247 [==============================] - 11s 44ms/step - loss: 2.9857 - accuracy: 0.8294 - precision: 0.8635 - recall: 0.7945 - f1_score: 0.8042 - val_loss: 1.5223 - val_accuracy: 0.8176 - val_precision: 0.8356 - val_recall: 0.7864 - val_f1_score: 0.7856 - lr: 1.0000e-05\n",
      "Epoch 102/200\n",
      "247/247 [==============================] - 11s 44ms/step - loss: 2.9405 - accuracy: 0.8394 - precision: 0.8710 - recall: 0.8076 - f1_score: 0.8149 - val_loss: 1.5221 - val_accuracy: 0.8161 - val_precision: 0.8365 - val_recall: 0.7838 - val_f1_score: 0.7833 - lr: 3.1623e-06\n",
      "Epoch 103/200\n",
      "247/247 [==============================] - 11s 44ms/step - loss: 2.9845 - accuracy: 0.8326 - precision: 0.8651 - recall: 0.7998 - f1_score: 0.8077 - val_loss: 1.5210 - val_accuracy: 0.8156 - val_precision: 0.8386 - val_recall: 0.7879 - val_f1_score: 0.7839 - lr: 3.1623e-06\n",
      "Epoch 104/200\n",
      "247/247 [==============================] - 11s 44ms/step - loss: 2.9402 - accuracy: 0.8340 - precision: 0.8660 - recall: 0.8002 - f1_score: 0.8078 - val_loss: 1.5089 - val_accuracy: 0.8217 - val_precision: 0.8443 - val_recall: 0.7920 - val_f1_score: 0.7902 - lr: 3.1623e-06\n",
      "Epoch 105/200\n",
      "247/247 [==============================] - 11s 44ms/step - loss: 2.9628 - accuracy: 0.8373 - precision: 0.8686 - recall: 0.7998 - f1_score: 0.8124 - val_loss: 1.5075 - val_accuracy: 0.8192 - val_precision: 0.8431 - val_recall: 0.7930 - val_f1_score: 0.7859 - lr: 3.1623e-06\n",
      "Epoch 106/200\n",
      "247/247 [==============================] - 11s 44ms/step - loss: 2.9391 - accuracy: 0.8398 - precision: 0.8711 - recall: 0.8073 - f1_score: 0.8138 - val_loss: 1.5138 - val_accuracy: 0.8197 - val_precision: 0.8427 - val_recall: 0.7905 - val_f1_score: 0.7875 - lr: 3.1623e-06\n",
      "Epoch 107/200\n",
      "247/247 [==============================] - 11s 44ms/step - loss: 2.9159 - accuracy: 0.8363 - precision: 0.8696 - recall: 0.8010 - f1_score: 0.8108 - val_loss: 1.5037 - val_accuracy: 0.8222 - val_precision: 0.8450 - val_recall: 0.7961 - val_f1_score: 0.7894 - lr: 3.1623e-06\n",
      "Epoch 108/200\n",
      "247/247 [==============================] - 11s 44ms/step - loss: 2.9218 - accuracy: 0.8384 - precision: 0.8679 - recall: 0.8047 - f1_score: 0.8136 - val_loss: 1.5159 - val_accuracy: 0.8151 - val_precision: 0.8382 - val_recall: 0.7884 - val_f1_score: 0.7835 - lr: 3.1623e-06\n",
      "Epoch 109/200\n",
      "247/247 [==============================] - 11s 44ms/step - loss: 2.9634 - accuracy: 0.8349 - precision: 0.8669 - recall: 0.8061 - f1_score: 0.8102 - val_loss: 1.5087 - val_accuracy: 0.8176 - val_precision: 0.8410 - val_recall: 0.7915 - val_f1_score: 0.7850 - lr: 3.1623e-06\n",
      "Epoch 110/200\n",
      "247/247 [==============================] - 11s 43ms/step - loss: 2.9728 - accuracy: 0.8321 - precision: 0.8654 - recall: 0.8021 - f1_score: 0.8080 - val_loss: 1.5061 - val_accuracy: 0.8181 - val_precision: 0.8405 - val_recall: 0.7910 - val_f1_score: 0.7845 - lr: 3.1623e-06\n",
      "Epoch 111/200\n",
      "247/247 [==============================] - 11s 43ms/step - loss: 2.8622 - accuracy: 0.8470 - precision: 0.8763 - recall: 0.8138 - f1_score: 0.8251 - val_loss: 1.5094 - val_accuracy: 0.8171 - val_precision: 0.8391 - val_recall: 0.7884 - val_f1_score: 0.7843 - lr: 1.0000e-06\n",
      "Epoch 112/200\n",
      "247/247 [==============================] - 11s 44ms/step - loss: 2.9326 - accuracy: 0.8379 - precision: 0.8698 - recall: 0.8050 - f1_score: 0.8113 - val_loss: 1.5048 - val_accuracy: 0.8197 - val_precision: 0.8402 - val_recall: 0.7894 - val_f1_score: 0.7881 - lr: 1.0000e-06\n",
      "Epoch 113/200\n",
      "247/247 [==============================] - 11s 44ms/step - loss: 2.9089 - accuracy: 0.8337 - precision: 0.8637 - recall: 0.8028 - f1_score: 0.8083 - val_loss: 1.5124 - val_accuracy: 0.8171 - val_precision: 0.8383 - val_recall: 0.7889 - val_f1_score: 0.7841 - lr: 1.0000e-06\n",
      "Epoch 114/200\n",
      "247/247 [==============================] - 11s 44ms/step - loss: 2.9178 - accuracy: 0.8392 - precision: 0.8701 - recall: 0.8023 - f1_score: 0.8143 - val_loss: 1.4997 - val_accuracy: 0.8227 - val_precision: 0.8463 - val_recall: 0.7982 - val_f1_score: 0.7903 - lr: 3.1623e-07\n",
      "Epoch 115/200\n",
      "247/247 [==============================] - 11s 44ms/step - loss: 2.9086 - accuracy: 0.8368 - precision: 0.8694 - recall: 0.8028 - f1_score: 0.8102 - val_loss: 1.5038 - val_accuracy: 0.8197 - val_precision: 0.8442 - val_recall: 0.7941 - val_f1_score: 0.7874 - lr: 3.1623e-07\n",
      "Epoch 116/200\n",
      "247/247 [==============================] - 11s 44ms/step - loss: 2.9246 - accuracy: 0.8384 - precision: 0.8685 - recall: 0.8033 - f1_score: 0.8145 - val_loss: 1.5099 - val_accuracy: 0.8151 - val_precision: 0.8397 - val_recall: 0.7889 - val_f1_score: 0.7814 - lr: 3.1623e-07\n",
      "Epoch 117/200\n",
      "247/247 [==============================] - 11s 43ms/step - loss: 2.9418 - accuracy: 0.8361 - precision: 0.8680 - recall: 0.8048 - f1_score: 0.8108 - val_loss: 1.5067 - val_accuracy: 0.8166 - val_precision: 0.8397 - val_recall: 0.7915 - val_f1_score: 0.7845 - lr: 3.1623e-07\n",
      "Epoch 118/200\n",
      "247/247 [==============================] - 11s 43ms/step - loss: 2.9409 - accuracy: 0.8383 - precision: 0.8683 - recall: 0.8021 - f1_score: 0.8131 - val_loss: 1.5030 - val_accuracy: 0.8207 - val_precision: 0.8424 - val_recall: 0.7941 - val_f1_score: 0.7889 - lr: 1.0000e-07\n",
      "Epoch 119/200\n",
      "247/247 [==============================] - 11s 44ms/step - loss: 2.9556 - accuracy: 0.8332 - precision: 0.8666 - recall: 0.8019 - f1_score: 0.8078 - val_loss: 1.5058 - val_accuracy: 0.8186 - val_precision: 0.8410 - val_recall: 0.7910 - val_f1_score: 0.7860 - lr: 1.0000e-07\n",
      "Epoch 120/200\n",
      "247/247 [==============================] - 11s 44ms/step - loss: 2.9633 - accuracy: 0.8342 - precision: 0.8647 - recall: 0.8028 - f1_score: 0.8084 - val_loss: 1.5093 - val_accuracy: 0.8176 - val_precision: 0.8406 - val_recall: 0.7915 - val_f1_score: 0.7855 - lr: 1.0000e-07\n",
      "Epoch 121/200\n",
      "247/247 [==============================] - 11s 44ms/step - loss: 2.9556 - accuracy: 0.8363 - precision: 0.8677 - recall: 0.8023 - f1_score: 0.8104 - val_loss: 1.5061 - val_accuracy: 0.8197 - val_precision: 0.8380 - val_recall: 0.7925 - val_f1_score: 0.7872 - lr: 3.1623e-08\n",
      "Epoch 122/200\n",
      "247/247 [==============================] - 11s 44ms/step - loss: 2.9627 - accuracy: 0.8332 - precision: 0.8650 - recall: 0.7992 - f1_score: 0.8083 - val_loss: 1.5072 - val_accuracy: 0.8202 - val_precision: 0.8411 - val_recall: 0.7920 - val_f1_score: 0.7874 - lr: 3.1623e-08\n",
      "Epoch 123/200\n",
      "247/247 [==============================] - 11s 44ms/step - loss: 2.9260 - accuracy: 0.8383 - precision: 0.8681 - recall: 0.8018 - f1_score: 0.8124 - val_loss: 1.5031 - val_accuracy: 0.8176 - val_precision: 0.8399 - val_recall: 0.7900 - val_f1_score: 0.7850 - lr: 3.1623e-08\n",
      "Epoch 124/200\n",
      "247/247 [==============================] - 11s 44ms/step - loss: 2.9139 - accuracy: 0.8406 - precision: 0.8704 - recall: 0.8058 - f1_score: 0.8161 - val_loss: 1.5026 - val_accuracy: 0.8207 - val_precision: 0.8419 - val_recall: 0.7910 - val_f1_score: 0.7881 - lr: 1.0000e-08\n",
      "Epoch 125/200\n",
      "247/247 [==============================] - 11s 44ms/step - loss: 2.8917 - accuracy: 0.8440 - precision: 0.8745 - recall: 0.8104 - f1_score: 0.8184 - val_loss: 1.5062 - val_accuracy: 0.8176 - val_precision: 0.8411 - val_recall: 0.7920 - val_f1_score: 0.7849 - lr: 1.0000e-08\n",
      "Epoch 126/200\n",
      "247/247 [==============================] - 11s 44ms/step - loss: 2.8824 - accuracy: 0.8403 - precision: 0.8734 - recall: 0.8062 - f1_score: 0.8150 - val_loss: 1.5044 - val_accuracy: 0.8192 - val_precision: 0.8420 - val_recall: 0.7920 - val_f1_score: 0.7878 - lr: 1.0000e-08\n",
      "Epoch 127/200\n",
      "247/247 [==============================] - 11s 43ms/step - loss: 2.9447 - accuracy: 0.8380 - precision: 0.8669 - recall: 0.7997 - f1_score: 0.8138 - val_loss: 1.5054 - val_accuracy: 0.8181 - val_precision: 0.8400 - val_recall: 0.7905 - val_f1_score: 0.7850 - lr: 3.1623e-09\n",
      "Epoch 128/200\n",
      "247/247 [==============================] - 11s 44ms/step - loss: 2.9319 - accuracy: 0.8365 - precision: 0.8652 - recall: 0.8028 - f1_score: 0.8123 - val_loss: 1.5018 - val_accuracy: 0.8233 - val_precision: 0.8432 - val_recall: 0.7961 - val_f1_score: 0.7914 - lr: 3.1623e-09\n",
      "Epoch 129/200\n",
      "247/247 [==============================] - 11s 44ms/step - loss: 2.9549 - accuracy: 0.8324 - precision: 0.8655 - recall: 0.8001 - f1_score: 0.8076 - val_loss: 1.5043 - val_accuracy: 0.8207 - val_precision: 0.8437 - val_recall: 0.7935 - val_f1_score: 0.7883 - lr: 3.1623e-09\n",
      "Epoch 130/200\n",
      "247/247 [==============================] - 11s 44ms/step - loss: 2.9117 - accuracy: 0.8378 - precision: 0.8676 - recall: 0.8054 - f1_score: 0.8131 - val_loss: 1.5038 - val_accuracy: 0.8202 - val_precision: 0.8432 - val_recall: 0.7961 - val_f1_score: 0.7880 - lr: 1.0000e-09\n",
      "Epoch 131/200\n",
      "247/247 [==============================] - 11s 44ms/step - loss: 2.9056 - accuracy: 0.8382 - precision: 0.8685 - recall: 0.8076 - f1_score: 0.8126 - val_loss: 1.5060 - val_accuracy: 0.8181 - val_precision: 0.8412 - val_recall: 0.7925 - val_f1_score: 0.7858 - lr: 1.0000e-09\n",
      "Epoch 132/200\n",
      "247/247 [==============================] - 11s 44ms/step - loss: 2.9066 - accuracy: 0.8402 - precision: 0.8738 - recall: 0.8080 - f1_score: 0.8155 - val_loss: 1.5060 - val_accuracy: 0.8197 - val_precision: 0.8411 - val_recall: 0.7920 - val_f1_score: 0.7876 - lr: 1.0000e-09\n",
      "Epoch 133/200\n",
      "247/247 [==============================] - 11s 44ms/step - loss: 2.9269 - accuracy: 0.8385 - precision: 0.8699 - recall: 0.8054 - f1_score: 0.8127 - val_loss: 1.5030 - val_accuracy: 0.8181 - val_precision: 0.8395 - val_recall: 0.7930 - val_f1_score: 0.7861 - lr: 3.1623e-10\n",
      "Epoch 134/200\n",
      "247/247 [==============================] - 11s 44ms/step - loss: 2.9137 - accuracy: 0.8385 - precision: 0.8651 - recall: 0.8063 - f1_score: 0.8136 - val_loss: 1.5069 - val_accuracy: 0.8186 - val_precision: 0.8404 - val_recall: 0.7930 - val_f1_score: 0.7875 - lr: 3.1623e-10\n",
      "Epoch 135/200\n",
      "247/247 [==============================] - 11s 44ms/step - loss: 2.9381 - accuracy: 0.8355 - precision: 0.8674 - recall: 0.8045 - f1_score: 0.8093 - val_loss: 1.5050 - val_accuracy: 0.8186 - val_precision: 0.8421 - val_recall: 0.7925 - val_f1_score: 0.7861 - lr: 3.1623e-10\n",
      "Epoch 136/200\n",
      "247/247 [==============================] - 11s 43ms/step - loss: 2.9101 - accuracy: 0.8407 - precision: 0.8720 - recall: 0.8077 - f1_score: 0.8152 - val_loss: 1.5006 - val_accuracy: 0.8212 - val_precision: 0.8450 - val_recall: 0.7961 - val_f1_score: 0.7888 - lr: 1.0000e-10\n",
      "Epoch 137/200\n",
      "247/247 [==============================] - 11s 44ms/step - loss: 2.9526 - accuracy: 0.8365 - precision: 0.8663 - recall: 0.8053 - f1_score: 0.8117 - val_loss: 1.5033 - val_accuracy: 0.8207 - val_precision: 0.8407 - val_recall: 0.7946 - val_f1_score: 0.7891 - lr: 1.0000e-10\n",
      "Epoch 138/200\n",
      "247/247 [==============================] - 11s 44ms/step - loss: 2.9220 - accuracy: 0.8390 - precision: 0.8717 - recall: 0.8090 - f1_score: 0.8126 - val_loss: 1.5030 - val_accuracy: 0.8202 - val_precision: 0.8409 - val_recall: 0.7935 - val_f1_score: 0.7883 - lr: 1.0000e-10\n",
      "Epoch 139/200\n",
      "247/247 [==============================] - 11s 44ms/step - loss: 2.9407 - accuracy: 0.8382 - precision: 0.8690 - recall: 0.8045 - f1_score: 0.8114 - val_loss: 1.5045 - val_accuracy: 0.8197 - val_precision: 0.8418 - val_recall: 0.7930 - val_f1_score: 0.7872 - lr: 3.1623e-11\n",
      "Epoch 140/200\n",
      "247/247 [==============================] - 11s 44ms/step - loss: 2.9159 - accuracy: 0.8406 - precision: 0.8719 - recall: 0.8069 - f1_score: 0.8158 - val_loss: 1.5052 - val_accuracy: 0.8202 - val_precision: 0.8437 - val_recall: 0.7935 - val_f1_score: 0.7874 - lr: 3.1623e-11\n",
      "Epoch 141/200\n",
      "247/247 [==============================] - 11s 44ms/step - loss: 2.8957 - accuracy: 0.8399 - precision: 0.8718 - recall: 0.8080 - f1_score: 0.8164 - val_loss: 1.5083 - val_accuracy: 0.8176 - val_precision: 0.8394 - val_recall: 0.7900 - val_f1_score: 0.7856 - lr: 3.1623e-11\n",
      "Epoch 142/200\n",
      "247/247 [==============================] - 11s 44ms/step - loss: 2.9250 - accuracy: 0.8409 - precision: 0.8707 - recall: 0.8056 - f1_score: 0.8146 - val_loss: 1.5052 - val_accuracy: 0.8197 - val_precision: 0.8413 - val_recall: 0.7930 - val_f1_score: 0.7881 - lr: 1.0000e-11\n",
      "Epoch 143/200\n",
      "247/247 [==============================] - 11s 44ms/step - loss: 2.9609 - accuracy: 0.8350 - precision: 0.8670 - recall: 0.8014 - f1_score: 0.8090 - val_loss: 1.5095 - val_accuracy: 0.8161 - val_precision: 0.8396 - val_recall: 0.7910 - val_f1_score: 0.7836 - lr: 1.0000e-11\n",
      "Epoch 144/200\n",
      "247/247 [==============================] - 11s 45ms/step - loss: 2.9484 - accuracy: 0.8388 - precision: 0.8691 - recall: 0.8049 - f1_score: 0.8138 - val_loss: 1.4985 - val_accuracy: 0.8192 - val_precision: 0.8432 - val_recall: 0.7935 - val_f1_score: 0.7865 - lr: 1.0000e-11\n",
      "Epoch 145/200\n",
      "247/247 [==============================] - 11s 44ms/step - loss: 2.9232 - accuracy: 0.8397 - precision: 0.8719 - recall: 0.8048 - f1_score: 0.8154 - val_loss: 1.5112 - val_accuracy: 0.8171 - val_precision: 0.8381 - val_recall: 0.7879 - val_f1_score: 0.7847 - lr: 1.0000e-11\n",
      "Epoch 146/200\n",
      "247/247 [==============================] - 11s 44ms/step - loss: 2.9298 - accuracy: 0.8368 - precision: 0.8679 - recall: 0.8042 - f1_score: 0.8118 - val_loss: 1.4993 - val_accuracy: 0.8222 - val_precision: 0.8435 - val_recall: 0.7951 - val_f1_score: 0.7892 - lr: 1.0000e-11\n",
      "Epoch 147/200\n",
      "247/247 [==============================] - 11s 44ms/step - loss: 2.9208 - accuracy: 0.8382 - precision: 0.8673 - recall: 0.8021 - f1_score: 0.8125 - val_loss: 1.5011 - val_accuracy: 0.8207 - val_precision: 0.8428 - val_recall: 0.7935 - val_f1_score: 0.7887 - lr: 1.0000e-11\n",
      "Epoch 148/200\n",
      "247/247 [==============================] - 11s 44ms/step - loss: 2.9179 - accuracy: 0.8373 - precision: 0.8711 - recall: 0.8043 - f1_score: 0.8117 - val_loss: 1.5099 - val_accuracy: 0.8181 - val_precision: 0.8402 - val_recall: 0.7894 - val_f1_score: 0.7861 - lr: 3.1623e-12\n",
      "Epoch 149/200\n",
      "247/247 [==============================] - 11s 44ms/step - loss: 2.9159 - accuracy: 0.8423 - precision: 0.8724 - recall: 0.8105 - f1_score: 0.8172 - val_loss: 1.5081 - val_accuracy: 0.8171 - val_precision: 0.8410 - val_recall: 0.7915 - val_f1_score: 0.7854 - lr: 3.1623e-12\n",
      "Epoch 150/200\n",
      "247/247 [==============================] - 11s 45ms/step - loss: 2.9763 - accuracy: 0.8365 - precision: 0.8645 - recall: 0.8018 - f1_score: 0.8106 - val_loss: 1.5060 - val_accuracy: 0.8176 - val_precision: 0.8409 - val_recall: 0.7935 - val_f1_score: 0.7845 - lr: 3.1623e-12\n",
      "Epoch 151/200\n",
      "247/247 [==============================] - 11s 45ms/step - loss: 2.9082 - accuracy: 0.8361 - precision: 0.8678 - recall: 0.8033 - f1_score: 0.8115 - val_loss: 1.5071 - val_accuracy: 0.8176 - val_precision: 0.8406 - val_recall: 0.7915 - val_f1_score: 0.7854 - lr: 1.0000e-12\n",
      "Epoch 152/200\n",
      "247/247 [==============================] - 11s 44ms/step - loss: 2.9676 - accuracy: 0.8360 - precision: 0.8652 - recall: 0.8004 - f1_score: 0.8114 - val_loss: 1.5066 - val_accuracy: 0.8176 - val_precision: 0.8400 - val_recall: 0.7905 - val_f1_score: 0.7850 - lr: 1.0000e-12\n",
      "Epoch 153/200\n",
      "247/247 [==============================] - 11s 43ms/step - loss: 2.9169 - accuracy: 0.8361 - precision: 0.8661 - recall: 0.8043 - f1_score: 0.8113 - val_loss: 1.4996 - val_accuracy: 0.8233 - val_precision: 0.8434 - val_recall: 0.7971 - val_f1_score: 0.7915 - lr: 1.0000e-12\n",
      "Epoch 154/200\n",
      "247/247 [==============================] - 11s 43ms/step - loss: 2.9284 - accuracy: 0.8343 - precision: 0.8644 - recall: 0.8007 - f1_score: 0.8096 - val_loss: 1.5031 - val_accuracy: 0.8207 - val_precision: 0.8437 - val_recall: 0.7935 - val_f1_score: 0.7885 - lr: 3.1623e-13\n",
      "Epoch 155/200\n",
      "247/247 [==============================] - 11s 44ms/step - loss: 2.9113 - accuracy: 0.8379 - precision: 0.8679 - recall: 0.8072 - f1_score: 0.8130 - val_loss: 1.5057 - val_accuracy: 0.8176 - val_precision: 0.8393 - val_recall: 0.7920 - val_f1_score: 0.7844 - lr: 3.1623e-13\n",
      "Epoch 156/200\n",
      "247/247 [==============================] - 11s 44ms/step - loss: 2.9363 - accuracy: 0.8361 - precision: 0.8703 - recall: 0.8044 - f1_score: 0.8117 - val_loss: 1.5078 - val_accuracy: 0.8171 - val_precision: 0.8388 - val_recall: 0.7915 - val_f1_score: 0.7839 - lr: 3.1623e-13\n",
      "Epoch 157/200\n",
      "247/247 [==============================] - 11s 44ms/step - loss: 2.8828 - accuracy: 0.8394 - precision: 0.8698 - recall: 0.8090 - f1_score: 0.8147 - val_loss: 1.5055 - val_accuracy: 0.8176 - val_precision: 0.8403 - val_recall: 0.7951 - val_f1_score: 0.7839 - lr: 1.0000e-13\n",
      "Epoch 158/200\n",
      "247/247 [==============================] - 11s 44ms/step - loss: 2.9145 - accuracy: 0.8413 - precision: 0.8718 - recall: 0.8087 - f1_score: 0.8175 - val_loss: 1.5055 - val_accuracy: 0.8197 - val_precision: 0.8414 - val_recall: 0.7935 - val_f1_score: 0.7870 - lr: 1.0000e-13\n",
      "Epoch 159/200\n",
      "247/247 [==============================] - 11s 45ms/step - loss: 2.9256 - accuracy: 0.8392 - precision: 0.8705 - recall: 0.8042 - f1_score: 0.8123 - val_loss: 1.5058 - val_accuracy: 0.8186 - val_precision: 0.8414 - val_recall: 0.7935 - val_f1_score: 0.7856 - lr: 1.0000e-13\n",
      "Epoch 160/200\n",
      "247/247 [==============================] - 11s 44ms/step - loss: 2.9062 - accuracy: 0.8357 - precision: 0.8679 - recall: 0.8033 - f1_score: 0.8118 - val_loss: 1.5091 - val_accuracy: 0.8171 - val_precision: 0.8395 - val_recall: 0.7905 - val_f1_score: 0.7844 - lr: 3.1623e-14\n",
      "Epoch 161/200\n",
      "247/247 [==============================] - 11s 44ms/step - loss: 2.9061 - accuracy: 0.8363 - precision: 0.8690 - recall: 0.8047 - f1_score: 0.8095 - val_loss: 1.5101 - val_accuracy: 0.8181 - val_precision: 0.8405 - val_recall: 0.7910 - val_f1_score: 0.7861 - lr: 3.1623e-14\n",
      "Epoch 162/200\n",
      "247/247 [==============================] - 11s 44ms/step - loss: 2.8906 - accuracy: 0.8398 - precision: 0.8710 - recall: 0.8070 - f1_score: 0.8152 - val_loss: 1.5074 - val_accuracy: 0.8192 - val_precision: 0.8404 - val_recall: 0.7930 - val_f1_score: 0.7869 - lr: 3.1623e-14\n",
      "Epoch 163/200\n",
      "247/247 [==============================] - 11s 44ms/step - loss: 2.9052 - accuracy: 0.8368 - precision: 0.8665 - recall: 0.8034 - f1_score: 0.8109 - val_loss: 1.5067 - val_accuracy: 0.8192 - val_precision: 0.8390 - val_recall: 0.7905 - val_f1_score: 0.7872 - lr: 1.0000e-14\n",
      "Epoch 164/200\n",
      "247/247 [==============================] - 11s 43ms/step - loss: 2.9031 - accuracy: 0.8407 - precision: 0.8717 - recall: 0.8078 - f1_score: 0.8161 - val_loss: 1.5092 - val_accuracy: 0.8181 - val_precision: 0.8403 - val_recall: 0.7925 - val_f1_score: 0.7865 - lr: 1.0000e-14\n",
      "Epoch 165/200\n",
      "247/247 [==============================] - 11s 44ms/step - loss: 2.9664 - accuracy: 0.8308 - precision: 0.8655 - recall: 0.7990 - f1_score: 0.8070 - val_loss: 1.5099 - val_accuracy: 0.8197 - val_precision: 0.8391 - val_recall: 0.7910 - val_f1_score: 0.7881 - lr: 1.0000e-14\n",
      "Epoch 166/200\n",
      "247/247 [==============================] - 11s 44ms/step - loss: 2.9029 - accuracy: 0.8425 - precision: 0.8758 - recall: 0.8067 - f1_score: 0.8186 - val_loss: 1.5108 - val_accuracy: 0.8171 - val_precision: 0.8386 - val_recall: 0.7905 - val_f1_score: 0.7851 - lr: 3.1623e-15\n",
      "Epoch 167/200\n",
      "247/247 [==============================] - 11s 44ms/step - loss: 2.9117 - accuracy: 0.8378 - precision: 0.8697 - recall: 0.8052 - f1_score: 0.8121 - val_loss: 1.5071 - val_accuracy: 0.8192 - val_precision: 0.8417 - val_recall: 0.7925 - val_f1_score: 0.7870 - lr: 3.1623e-15\n",
      "Epoch 168/200\n",
      "247/247 [==============================] - 11s 44ms/step - loss: 2.8995 - accuracy: 0.8407 - precision: 0.8741 - recall: 0.8096 - f1_score: 0.8177 - val_loss: 1.5039 - val_accuracy: 0.8186 - val_precision: 0.8404 - val_recall: 0.7905 - val_f1_score: 0.7865 - lr: 3.1623e-15\n",
      "Epoch 169/200\n",
      "247/247 [==============================] - 11s 44ms/step - loss: 2.9284 - accuracy: 0.8385 - precision: 0.8666 - recall: 0.8067 - f1_score: 0.8143 - val_loss: 1.5021 - val_accuracy: 0.8202 - val_precision: 0.8439 - val_recall: 0.7946 - val_f1_score: 0.7874 - lr: 1.0000e-15\n",
      "Epoch 170/200\n",
      "247/247 [==============================] - 11s 44ms/step - loss: 2.9369 - accuracy: 0.8351 - precision: 0.8672 - recall: 0.8044 - f1_score: 0.8111 - val_loss: 1.5017 - val_accuracy: 0.8202 - val_precision: 0.8420 - val_recall: 0.7920 - val_f1_score: 0.7872 - lr: 1.0000e-15\n",
      "Epoch 171/200\n",
      "247/247 [==============================] - 11s 44ms/step - loss: 2.9450 - accuracy: 0.8343 - precision: 0.8640 - recall: 0.8026 - f1_score: 0.8095 - val_loss: 1.5026 - val_accuracy: 0.8212 - val_precision: 0.8405 - val_recall: 0.7966 - val_f1_score: 0.7892 - lr: 1.0000e-15\n",
      "Epoch 172/200\n",
      "247/247 [==============================] - 11s 44ms/step - loss: 2.9184 - accuracy: 0.8350 - precision: 0.8670 - recall: 0.8052 - f1_score: 0.8102 - val_loss: 1.5009 - val_accuracy: 0.8197 - val_precision: 0.8409 - val_recall: 0.7961 - val_f1_score: 0.7876 - lr: 5.0000e-16\n",
      "Epoch 173/200\n",
      "247/247 [==============================] - 11s 44ms/step - loss: 2.9200 - accuracy: 0.8373 - precision: 0.8676 - recall: 0.8024 - f1_score: 0.8125 - val_loss: 1.5019 - val_accuracy: 0.8181 - val_precision: 0.8403 - val_recall: 0.7900 - val_f1_score: 0.7862 - lr: 5.0000e-16\n",
      "Epoch 174/200\n",
      "247/247 [==============================] - 11s 44ms/step - loss: 2.9309 - accuracy: 0.8380 - precision: 0.8728 - recall: 0.8028 - f1_score: 0.8135 - val_loss: 1.5083 - val_accuracy: 0.8186 - val_precision: 0.8416 - val_recall: 0.7920 - val_f1_score: 0.7855 - lr: 5.0000e-16\n",
      "Epoch 175/200\n",
      "247/247 [==============================] - 11s 44ms/step - loss: 2.9213 - accuracy: 0.8359 - precision: 0.8669 - recall: 0.8029 - f1_score: 0.8109 - val_loss: 1.5039 - val_accuracy: 0.8217 - val_precision: 0.8426 - val_recall: 0.7951 - val_f1_score: 0.7894 - lr: 5.0000e-16\n",
      "Epoch 176/200\n",
      "247/247 [==============================] - 11s 44ms/step - loss: 2.9729 - accuracy: 0.8342 - precision: 0.8619 - recall: 0.7997 - f1_score: 0.8088 - val_loss: 1.5073 - val_accuracy: 0.8176 - val_precision: 0.8403 - val_recall: 0.7925 - val_f1_score: 0.7847 - lr: 5.0000e-16\n",
      "Epoch 177/200\n",
      "247/247 [==============================] - 11s 43ms/step - loss: 2.9147 - accuracy: 0.8401 - precision: 0.8697 - recall: 0.8052 - f1_score: 0.8154 - val_loss: 1.5066 - val_accuracy: 0.8207 - val_precision: 0.8407 - val_recall: 0.7946 - val_f1_score: 0.7888 - lr: 5.0000e-16\n",
      "Epoch 178/200\n",
      "247/247 [==============================] - 11s 43ms/step - loss: 2.9449 - accuracy: 0.8363 - precision: 0.8673 - recall: 0.8044 - f1_score: 0.8114 - val_loss: 1.5095 - val_accuracy: 0.8166 - val_precision: 0.8408 - val_recall: 0.7900 - val_f1_score: 0.7844 - lr: 5.0000e-16\n",
      "Epoch 179/200\n",
      "247/247 [==============================] - 11s 44ms/step - loss: 2.9265 - accuracy: 0.8350 - precision: 0.8683 - recall: 0.8011 - f1_score: 0.8098 - val_loss: 1.5022 - val_accuracy: 0.8202 - val_precision: 0.8437 - val_recall: 0.7935 - val_f1_score: 0.7884 - lr: 5.0000e-16\n",
      "Epoch 180/200\n",
      "247/247 [==============================] - 11s 44ms/step - loss: 2.9273 - accuracy: 0.8403 - precision: 0.8700 - recall: 0.8068 - f1_score: 0.8156 - val_loss: 1.5004 - val_accuracy: 0.8197 - val_precision: 0.8433 - val_recall: 0.7966 - val_f1_score: 0.7876 - lr: 5.0000e-16\n",
      "Epoch 181/200\n",
      "247/247 [==============================] - 11s 43ms/step - loss: 2.9205 - accuracy: 0.8399 - precision: 0.8714 - recall: 0.8037 - f1_score: 0.8152 - val_loss: 1.5057 - val_accuracy: 0.8192 - val_precision: 0.8413 - val_recall: 0.7930 - val_f1_score: 0.7873 - lr: 5.0000e-16\n",
      "Epoch 182/200\n",
      "247/247 [==============================] - 11s 43ms/step - loss: 2.9125 - accuracy: 0.8371 - precision: 0.8725 - recall: 0.8052 - f1_score: 0.8115 - val_loss: 1.5049 - val_accuracy: 0.8161 - val_precision: 0.8405 - val_recall: 0.7910 - val_f1_score: 0.7832 - lr: 5.0000e-16\n",
      "Epoch 183/200\n",
      "247/247 [==============================] - 11s 43ms/step - loss: 2.9592 - accuracy: 0.8326 - precision: 0.8669 - recall: 0.7993 - f1_score: 0.8075 - val_loss: 1.5037 - val_accuracy: 0.8197 - val_precision: 0.8414 - val_recall: 0.7935 - val_f1_score: 0.7879 - lr: 5.0000e-16\n",
      "Epoch 184/200\n",
      "247/247 [==============================] - 11s 43ms/step - loss: 2.9030 - accuracy: 0.8413 - precision: 0.8757 - recall: 0.8095 - f1_score: 0.8167 - val_loss: 1.5031 - val_accuracy: 0.8192 - val_precision: 0.8415 - val_recall: 0.7915 - val_f1_score: 0.7871 - lr: 5.0000e-16\n",
      "Epoch 185/200\n",
      "247/247 [==============================] - 11s 44ms/step - loss: 2.9109 - accuracy: 0.8399 - precision: 0.8689 - recall: 0.8057 - f1_score: 0.8148 - val_loss: 1.5074 - val_accuracy: 0.8192 - val_precision: 0.8391 - val_recall: 0.7910 - val_f1_score: 0.7882 - lr: 5.0000e-16\n",
      "Epoch 186/200\n",
      "247/247 [==============================] - 11s 44ms/step - loss: 2.9600 - accuracy: 0.8364 - precision: 0.8666 - recall: 0.8010 - f1_score: 0.8102 - val_loss: 1.5071 - val_accuracy: 0.8171 - val_precision: 0.8402 - val_recall: 0.7894 - val_f1_score: 0.7847 - lr: 5.0000e-16\n",
      "Epoch 187/200\n",
      "247/247 [==============================] - 11s 43ms/step - loss: 2.8941 - accuracy: 0.8349 - precision: 0.8674 - recall: 0.8054 - f1_score: 0.8095 - val_loss: 1.5069 - val_accuracy: 0.8186 - val_precision: 0.8406 - val_recall: 0.7915 - val_f1_score: 0.7864 - lr: 5.0000e-16\n",
      "Epoch 188/200\n",
      "247/247 [==============================] - 11s 43ms/step - loss: 2.9037 - accuracy: 0.8376 - precision: 0.8711 - recall: 0.8059 - f1_score: 0.8129 - val_loss: 1.5088 - val_accuracy: 0.8197 - val_precision: 0.8395 - val_recall: 0.7905 - val_f1_score: 0.7874 - lr: 5.0000e-16\n",
      "Epoch 189/200\n",
      "247/247 [==============================] - 11s 43ms/step - loss: 2.9276 - accuracy: 0.8361 - precision: 0.8638 - recall: 0.8043 - f1_score: 0.8114 - val_loss: 1.5032 - val_accuracy: 0.8192 - val_precision: 0.8414 - val_recall: 0.7935 - val_f1_score: 0.7863 - lr: 5.0000e-16\n",
      "Epoch 190/200\n",
      "247/247 [==============================] - 11s 43ms/step - loss: 2.9084 - accuracy: 0.8420 - precision: 0.8711 - recall: 0.8076 - f1_score: 0.8166 - val_loss: 1.5044 - val_accuracy: 0.8202 - val_precision: 0.8424 - val_recall: 0.7941 - val_f1_score: 0.7877 - lr: 5.0000e-16\n",
      "Epoch 191/200\n",
      "247/247 [==============================] - 11s 43ms/step - loss: 2.9262 - accuracy: 0.8390 - precision: 0.8687 - recall: 0.8067 - f1_score: 0.8141 - val_loss: 1.5078 - val_accuracy: 0.8171 - val_precision: 0.8396 - val_recall: 0.7910 - val_f1_score: 0.7848 - lr: 5.0000e-16\n",
      "Epoch 192/200\n",
      "247/247 [==============================] - 11s 43ms/step - loss: 2.9322 - accuracy: 0.8352 - precision: 0.8678 - recall: 0.8035 - f1_score: 0.8105 - val_loss: 1.5021 - val_accuracy: 0.8212 - val_precision: 0.8430 - val_recall: 0.7951 - val_f1_score: 0.7891 - lr: 5.0000e-16\n",
      "Epoch 193/200\n",
      "247/247 [==============================] - 11s 43ms/step - loss: 2.9159 - accuracy: 0.8361 - precision: 0.8700 - recall: 0.8058 - f1_score: 0.8118 - val_loss: 1.5040 - val_accuracy: 0.8181 - val_precision: 0.8406 - val_recall: 0.7915 - val_f1_score: 0.7866 - lr: 5.0000e-16\n",
      "Epoch 194/200\n",
      "247/247 [==============================] - 11s 43ms/step - loss: 2.9196 - accuracy: 0.8423 - precision: 0.8718 - recall: 0.8087 - f1_score: 0.8180 - val_loss: 1.5046 - val_accuracy: 0.8186 - val_precision: 0.8405 - val_recall: 0.7910 - val_f1_score: 0.7854 - lr: 5.0000e-16\n",
      "Epoch 195/200\n",
      "247/247 [==============================] - 11s 43ms/step - loss: 2.9380 - accuracy: 0.8409 - precision: 0.8704 - recall: 0.8052 - f1_score: 0.8158 - val_loss: 1.5097 - val_accuracy: 0.8171 - val_precision: 0.8385 - val_recall: 0.7900 - val_f1_score: 0.7852 - lr: 5.0000e-16\n",
      "Epoch 196/200\n",
      "247/247 [==============================] - 11s 43ms/step - loss: 2.9157 - accuracy: 0.8421 - precision: 0.8701 - recall: 0.8054 - f1_score: 0.8177 - val_loss: 1.5086 - val_accuracy: 0.8166 - val_precision: 0.8392 - val_recall: 0.7889 - val_f1_score: 0.7844 - lr: 5.0000e-16\n",
      "Epoch 197/200\n",
      "247/247 [==============================] - 11s 43ms/step - loss: 2.9366 - accuracy: 0.8350 - precision: 0.8661 - recall: 0.8019 - f1_score: 0.8099 - val_loss: 1.5056 - val_accuracy: 0.8207 - val_precision: 0.8426 - val_recall: 0.7951 - val_f1_score: 0.7888 - lr: 5.0000e-16\n",
      "Epoch 198/200\n",
      "247/247 [==============================] - 11s 43ms/step - loss: 2.9332 - accuracy: 0.8375 - precision: 0.8701 - recall: 0.8038 - f1_score: 0.8116 - val_loss: 1.5084 - val_accuracy: 0.8176 - val_precision: 0.8394 - val_recall: 0.7900 - val_f1_score: 0.7857 - lr: 5.0000e-16\n",
      "Epoch 199/200\n",
      "247/247 [==============================] - 11s 43ms/step - loss: 2.9197 - accuracy: 0.8384 - precision: 0.8686 - recall: 0.8039 - f1_score: 0.8148 - val_loss: 1.5079 - val_accuracy: 0.8171 - val_precision: 0.8398 - val_recall: 0.7920 - val_f1_score: 0.7848 - lr: 5.0000e-16\n",
      "Epoch 200/200\n",
      "247/247 [==============================] - 11s 43ms/step - loss: 2.9509 - accuracy: 0.8374 - precision: 0.8681 - recall: 0.8062 - f1_score: 0.8127 - val_loss: 1.5085 - val_accuracy: 0.8186 - val_precision: 0.8388 - val_recall: 0.7920 - val_f1_score: 0.7857 - lr: 5.0000e-16\n"
     ]
    }
   ],
   "source": [
    "epochs = 200\n",
    "lr_reducer = tf.keras.callbacks.ReduceLROnPlateau(monitor='val_loss', factor=np.sqrt(0.1), cooldown=0, patience=3, min_lr=0.5e-15)\n",
    "history = model.fit(\n",
    "    train_generator,\n",
    "    steps_per_epoch=len(train_data) // batch_size,\n",
    "    epochs=epochs,\n",
    "    validation_data=validation_generator,\n",
    "    validation_steps=len(test_data) // batch_size,\n",
    "    class_weight=class_weight_dict\n",
    "    , callbacks=[lr_reducer]\n",
    ")"
   ],
   "metadata": {
    "collapsed": false,
    "ExecuteTime": {
     "start_time": "2023-04-24T16:21:07.050075Z",
     "end_time": "2023-04-24T16:57:02.579992Z"
    }
   }
  },
  {
   "cell_type": "code",
   "execution_count": 9,
   "outputs": [
    {
     "data": {
      "text/plain": "<Figure size 432x288 with 1 Axes>",
      "image/png": "[encoded data removed]"
     },
     "metadata": {
      "needs_background": "light"
     },
     "output_type": "display_data"
    }
   ],
   "source": [
    "train_loss = history.history['loss']\n",
    "val_loss = history.history['val_loss']\n",
    "\n",
    "epochs_range = range(1, epochs + 1)\n",
    "\n",
    "plt.plot(epochs_range, train_loss, label='Training Loss')\n",
    "plt.plot(epochs_range, val_loss, label='Validation Loss')\n",
    "\n",
    "plt.legend()\n",
    "plt.title('Training and Validation Loss')\n",
    "plt.xlabel('Epoch')\n",
    "plt.ylabel('Loss')\n",
    "\n",
    "plt.show()"
   ],
   "metadata": {
    "collapsed": false,
    "ExecuteTime": {
     "start_time": "2023-04-24T16:57:02.589545Z",
     "end_time": "2023-04-24T16:57:02.651461Z"
    }
   }
  },
  {
   "cell_type": "code",
   "execution_count": 10,
   "outputs": [
    {
     "data": {
      "text/plain": "<Figure size 432x288 with 1 Axes>",
      "image/png": "[encoded data removed]"
     },
     "metadata": {
      "needs_background": "light"
     },
     "output_type": "display_data"
    }
   ],
   "source": [
    "train_accuracy = history.history['accuracy']\n",
    "val_accuracy = history.history['val_accuracy']\n",
    "\n",
    "epochs_range = range(1, epochs + 1)\n",
    "\n",
    "plt.plot(epochs_range, train_accuracy, label='Training Accuracy')\n",
    "plt.plot(epochs_range, val_accuracy, label='Validation Accuracy')\n",
    "\n",
    "plt.legend()\n",
    "plt.title('Training and Validation Accuracy')\n",
    "plt.xlabel('Epoch')\n",
    "plt.ylabel('Accuracy')\n",
    "\n",
    "plt.show()"
   ],
   "metadata": {
    "collapsed": false,
    "ExecuteTime": {
     "start_time": "2023-04-24T16:57:02.669754Z",
     "end_time": "2023-04-24T16:57:02.725670Z"
    }
   }
  },
  {
   "cell_type": "code",
   "execution_count": 11,
   "outputs": [
    {
     "ename": "KeyError",
     "evalue": "'precision_3'",
     "output_type": "error",
     "traceback": [
      "\u001B[0;31m---------------------------------------------------------------------------\u001B[0m",
      "\u001B[0;31mKeyError\u001B[0m                                  Traceback (most recent call last)",
      "Input \u001B[0;32mIn [11]\u001B[0m, in \u001B[0;36m<cell line: 1>\u001B[0;34m()\u001B[0m\n\u001B[0;32m----> 1\u001B[0m train_precision \u001B[38;5;241m=\u001B[39m \u001B[43mhistory\u001B[49m\u001B[38;5;241;43m.\u001B[39;49m\u001B[43mhistory\u001B[49m\u001B[43m[\u001B[49m\u001B[38;5;124;43m'\u001B[39;49m\u001B[38;5;124;43mprecision_3\u001B[39;49m\u001B[38;5;124;43m'\u001B[39;49m\u001B[43m]\u001B[49m\n\u001B[1;32m      2\u001B[0m val_precision \u001B[38;5;241m=\u001B[39m history\u001B[38;5;241m.\u001B[39mhistory[\u001B[38;5;124m'\u001B[39m\u001B[38;5;124mval_precision_3\u001B[39m\u001B[38;5;124m'\u001B[39m]\n\u001B[1;32m      4\u001B[0m epochs_range \u001B[38;5;241m=\u001B[39m \u001B[38;5;28mrange\u001B[39m(\u001B[38;5;241m1\u001B[39m, epochs \u001B[38;5;241m+\u001B[39m \u001B[38;5;241m1\u001B[39m)\n",
      "\u001B[0;31mKeyError\u001B[0m: 'precision_3'"
     ]
    }
   ],
   "source": [
    "train_precision = history.history['precision_3']\n",
    "val_precision = history.history['val_precision_3']\n",
    "\n",
    "epochs_range = range(1, epochs + 1)\n",
    "\n",
    "plt.plot(epochs_range, train_precision, label='Training Precision')\n",
    "plt.plot(epochs_range, val_precision, label='Validation Precision')\n",
    "\n",
    "plt.legend()\n",
    "plt.title('Training and Validation Precision')\n",
    "plt.xlabel('Epoch')\n",
    "plt.ylabel('Precision')\n",
    "\n",
    "plt.show()"
   ],
   "metadata": {
    "collapsed": false,
    "ExecuteTime": {
     "start_time": "2023-04-24T13:36:48.762882Z",
     "end_time": "2023-04-24T13:36:49.113032Z"
    }
   }
  },
  {
   "cell_type": "code",
   "execution_count": null,
   "outputs": [],
   "source": [
    "train_recall = history.history['recall_3']\n",
    "val_recall = history.history['val_recall_3']\n",
    "\n",
    "epochs_range = range(1, epochs + 1)\n",
    "\n",
    "plt.plot(epochs_range, train_recall, label='Training Recall')\n",
    "plt.plot(epochs_range, val_recall, label='Validation Recall')\n",
    "\n",
    "plt.legend()\n",
    "plt.title('Training and Validation Recall')\n",
    "plt.xlabel('Epoch')\n",
    "plt.ylabel('Recall')\n",
    "\n",
    "plt.show()"
   ],
   "metadata": {
    "collapsed": false,
    "ExecuteTime": {
     "start_time": "2023-04-24T13:36:50.276624Z",
     "end_time": "2023-04-24T13:36:50.355222Z"
    }
   }
  },
  {
   "cell_type": "code",
   "execution_count": null,
   "outputs": [],
   "source": [
    "train_f1 = history.history['f1_score']\n",
    "val_f1 = history.history['val_f1_score']\n",
    "\n",
    "epochs_range = range(1, epochs + 1)\n",
    "\n",
    "plt.plot(epochs_range, train_f1, label='Training F1')\n",
    "plt.plot(epochs_range, val_f1, label='Validation F1')\n",
    "\n",
    "plt.legend()\n",
    "plt.title('Training and Validation F1 Score')\n",
    "plt.xlabel('Epoch')\n",
    "plt.ylabel('Recall')\n",
    "\n",
    "plt.show()"
   ],
   "metadata": {
    "collapsed": false,
    "ExecuteTime": {
     "start_time": "2023-04-24T13:36:53.429497Z",
     "end_time": "2023-04-24T13:36:53.500714Z"
    }
   }
  }
 ],
 "metadata": {
  "kernelspec": {
   "display_name": "Python 3",
   "language": "python",
   "name": "python3"
  },
  "language_info": {
   "codemirror_mode": {
    "name": "ipython",
    "version": 2
   },
   "file_extension": ".py",
   "mimetype": "text/x-python",
   "name": "python",
   "nbconvert_exporter": "python",
   "pygments_lexer": "ipython2",
   "version": "2.7.6"
  }
 },
 "nbformat": 4,
 "nbformat_minor": 0
}
