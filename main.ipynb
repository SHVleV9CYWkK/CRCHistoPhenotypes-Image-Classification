{
 "cells": [
  {
   "cell_type": "markdown",
   "source": [
    "导包"
   ],
   "metadata": {
    "collapsed": false
   }
  },
  {
   "cell_type": "code",
   "execution_count": 1,
   "metadata": {
    "collapsed": true,
    "ExecuteTime": {
     "start_time": "2023-05-01T18:54:31.654101Z",
     "end_time": "2023-05-01T18:54:33.740797Z"
    }
   },
   "outputs": [],
   "source": [
    "import pandas as pd\n",
    "import matplotlib.pyplot as plt\n",
    "import numpy as np\n",
    "import tensorflow as tf\n",
    "# import tensorflow_addons as tfa\n",
    "from sklearn.model_selection import train_test_split\n",
    "from tqdm import tqdm\n",
    "import math\n",
    "import random"
   ]
  },
  {
   "cell_type": "markdown",
   "source": [
    "获取主数据集\n",
    "test_data 为不可见数据集"
   ],
   "metadata": {
    "collapsed": false
   }
  },
  {
   "cell_type": "code",
   "execution_count": 2,
   "outputs": [],
   "source": [
    "data = pd.read_csv('./Image_classification_data/data_labels_mainData.csv')\n",
    "data['isCancerous'] = data['isCancerous'].astype(str)\n",
    "data['cellType'] = data['cellType'].astype(str)\n",
    "undivided_train_data, test_data = train_test_split(data, test_size=0.2, random_state=42)\n",
    "train_data, val_data = train_test_split(undivided_train_data, test_size=0.2, random_state=42)"
   ],
   "metadata": {
    "collapsed": false,
    "ExecuteTime": {
     "start_time": "2023-05-01T18:54:33.741968Z",
     "end_time": "2023-05-01T18:54:33.753395Z"
    }
   }
  },
  {
   "cell_type": "code",
   "execution_count": 3,
   "outputs": [
    {
     "data": {
      "text/plain": "([0, 1], [Text(0, 0, '0'), Text(1, 0, '1')])"
     },
     "execution_count": 3,
     "metadata": {},
     "output_type": "execute_result"
    },
    {
     "data": {
      "text/plain": "<Figure size 432x288 with 1 Axes>",
      "image/png": "[encoded data removed]"
     },
     "metadata": {
      "needs_background": "light"
     },
     "output_type": "display_data"
    }
   ],
   "source": [
    "plt.hist(train_data['isCancerous'], alpha=0.3, color='b', label='Train', density=True)\n",
    "plt.hist(test_data['isCancerous'], alpha=0.3, color='r', label='Test',  density=True)\n",
    "plt.hist(val_data['isCancerous'], alpha=0.3, color='g', label='Val',  density=True)\n",
    "plt.title('isCancerous')\n",
    "plt.xticks(rotation='vertical')"
   ],
   "metadata": {
    "collapsed": false,
    "ExecuteTime": {
     "start_time": "2023-05-01T18:54:33.754071Z",
     "end_time": "2023-05-01T18:54:33.892667Z"
    }
   }
  },
  {
   "cell_type": "code",
   "execution_count": 4,
   "outputs": [
    {
     "data": {
      "text/plain": "([0, 1, 2, 3],\n [Text(0, 0, '1'), Text(1, 0, '0'), Text(2, 0, '2'), Text(3, 0, '3')])"
     },
     "execution_count": 4,
     "metadata": {},
     "output_type": "execute_result"
    },
    {
     "data": {
      "text/plain": "<Figure size 432x288 with 1 Axes>",
      "image/png": "[encoded data removed]"
     },
     "metadata": {
      "needs_background": "light"
     },
     "output_type": "display_data"
    }
   ],
   "source": [
    "plt.hist(train_data['cellType'], alpha=0.3, color='b', label='Train', density=True)\n",
    "plt.hist(test_data['cellType'], alpha=0.3, color='r', label='Test',  density=True)\n",
    "plt.hist(val_data['cellType'], alpha=0.3, color='g', density=True)\n",
    "plt.title('cellType')\n",
    "plt.xticks(rotation='vertical')"
   ],
   "metadata": {
    "collapsed": false,
    "ExecuteTime": {
     "start_time": "2023-05-01T18:54:33.898621Z",
     "end_time": "2023-05-01T18:54:33.964561Z"
    }
   }
  },
  {
   "cell_type": "code",
   "execution_count": 5,
   "outputs": [],
   "source": [
    "class_samples_isCancerous = train_data['isCancerous'].value_counts()\n",
    "total_samples = np.sum(class_samples_isCancerous)\n",
    "class_weights_isCancerous = total_samples / class_samples_isCancerous\n",
    "class_weight_dict_isCancerous = {int(k): v for k, v in class_weights_isCancerous.to_dict().items()}\n",
    "\n",
    "class_samples_cellType = train_data['cellType'].value_counts()\n",
    "total_samples = np.sum(class_samples_cellType)\n",
    "class_weights_cellType = total_samples / class_samples_cellType\n",
    "class_weight_dict_cellType = {int(k): v for k, v in class_weights_cellType.to_dict().items()}"
   ],
   "metadata": {
    "collapsed": false,
    "ExecuteTime": {
     "start_time": "2023-05-01T18:54:33.967617Z",
     "end_time": "2023-05-01T18:54:33.969642Z"
    }
   }
  },
  {
   "cell_type": "code",
   "execution_count": 6,
   "outputs": [],
   "source": [
    "class CustomImageDataGenerator(tf.keras.preprocessing.image.ImageDataGenerator):\n",
    "    def __init__(self, num_augmentations=3, *args, **kwargs):\n",
    "        super().__init__(*args, **kwargs)\n",
    "        self.num_augmentations = num_augmentations\n",
    "\n",
    "    def apply_transform(self, x, transform_parameters):\n",
    "        augmentations = [\n",
    "            \"theta\",\n",
    "            \"tx\",\n",
    "            \"ty\",\n",
    "            \"shear\",\n",
    "            \"zx\",\n",
    "            \"zy\",\n",
    "            \"flip_horizontal\",\n",
    "            \"flip_vertical\",\n",
    "            \"brightness\",\n",
    "        ]\n",
    "\n",
    "        selected_augmentations = random.sample(augmentations, self.num_augmentations)\n",
    "        filtered_transform_parameters = {\n",
    "            key: value for key, value in transform_parameters.items() if key in selected_augmentations\n",
    "        }\n",
    "\n",
    "        return super().apply_transform(x, filtered_transform_parameters)\n",
    "\n",
    "train_datagen = CustomImageDataGenerator(\n",
    "    num_augmentations=4,\n",
    "    rescale=1./255,\n",
    "    rotation_range=180,\n",
    "    width_shift_range=0.2,\n",
    "    height_shift_range=0.2,\n",
    "    shear_range=0.2,\n",
    "    zoom_range=0.2,\n",
    "    brightness_range=[0.2,1.0],\n",
    "    horizontal_flip=True,\n",
    "    vertical_flip=True,\n",
    "    fill_mode='nearest'\n",
    ")"
   ],
   "metadata": {
    "collapsed": false,
    "ExecuteTime": {
     "start_time": "2023-05-01T18:54:33.971371Z",
     "end_time": "2023-05-01T18:54:33.972951Z"
    }
   }
  },
  {
   "cell_type": "code",
   "execution_count": 7,
   "outputs": [
    {
     "name": "stdout",
     "output_type": "stream",
     "text": [
      "Found 6332 validated image filenames belonging to 2 classes.\n",
      "Found 1584 validated image filenames belonging to 2 classes.\n",
      "Found 1980 validated image filenames belonging to 2 classes.\n"
     ]
    }
   ],
   "source": [
    "batch_size = 32\n",
    "# train_datagen = tf.keras.preprocessing.image.ImageDataGenerator(\n",
    "#     rescale=1./255,\n",
    "#     rotation_range=40,\n",
    "#     width_shift_range=0.2,\n",
    "#     height_shift_range=0.2,\n",
    "#     shear_range=0.2,\n",
    "#     zoom_range=0.2,\n",
    "#     horizontal_flip=True,\n",
    "#     vertical_flip=True,\n",
    "#     fill_mode='nearest'\n",
    "# )\n",
    "\n",
    "val_datagen = tf.keras.preprocessing.image.ImageDataGenerator(\n",
    "    rescale=1./255\n",
    ")\n",
    "\n",
    "test_datagen = tf.keras.preprocessing.image.ImageDataGenerator(\n",
    "    rescale=1./255\n",
    ")\n",
    "\n",
    "train_isCancerous_generator = train_datagen.flow_from_dataframe(\n",
    "    train_data,\n",
    "    directory='./Image_classification_data/patch_images',\n",
    "    x_col='ImageName',\n",
    "    y_col='isCancerous',\n",
    "    target_size=(27, 27),\n",
    "    batch_size=batch_size,\n",
    "    class_mode='binary')\n",
    "\n",
    "val_isCancerous_generator = val_datagen.flow_from_dataframe(\n",
    "    val_data,\n",
    "    directory='./Image_classification_data/patch_images',\n",
    "    x_col='ImageName',\n",
    "    y_col='isCancerous',\n",
    "    target_size=(27, 27),\n",
    "    batch_size=batch_size,\n",
    "    class_mode='binary')\n",
    "\n",
    "test_isCancerous_generator = test_datagen.flow_from_dataframe(\n",
    "    test_data,\n",
    "    directory='./Image_classification_data/patch_images',\n",
    "    x_col='ImageName',\n",
    "    y_col='isCancerous',\n",
    "    target_size=(27, 27),\n",
    "    batch_size=batch_size,\n",
    "    class_mode='binary')"
   ],
   "metadata": {
    "collapsed": false,
    "ExecuteTime": {
     "start_time": "2023-05-01T18:54:33.974581Z",
     "end_time": "2023-05-01T18:54:34.074665Z"
    }
   }
  },
  {
   "cell_type": "code",
   "execution_count": 8,
   "outputs": [
    {
     "name": "stdout",
     "output_type": "stream",
     "text": [
      "Found 6332 validated image filenames belonging to 4 classes.\n",
      "Found 1584 validated image filenames belonging to 4 classes.\n",
      "Found 1980 validated image filenames belonging to 4 classes.\n"
     ]
    }
   ],
   "source": [
    "train_cellType_generator = train_datagen.flow_from_dataframe(\n",
    "    train_data,\n",
    "    directory='./Image_classification_data/patch_images',\n",
    "    x_col='ImageName',\n",
    "    y_col='cellType',\n",
    "    target_size=(27, 27),\n",
    "    batch_size=batch_size,\n",
    "    class_mode='categorical')\n",
    "\n",
    "val_cellType_generator = val_datagen.flow_from_dataframe(\n",
    "    val_data,\n",
    "    directory='./Image_classification_data/patch_images',\n",
    "    x_col='ImageName',\n",
    "    y_col='cellType',\n",
    "    target_size=(27, 27),\n",
    "    batch_size=batch_size,\n",
    "    class_mode='categorical')\n",
    "\n",
    "test_cellType_generator = test_datagen.flow_from_dataframe(\n",
    "    test_data,\n",
    "    directory='./Image_classification_data/patch_images',\n",
    "    x_col='ImageName',\n",
    "    y_col='cellType',\n",
    "    target_size=(27, 27),\n",
    "    batch_size=batch_size,\n",
    "    class_mode='categorical')"
   ],
   "metadata": {
    "collapsed": false,
    "ExecuteTime": {
     "start_time": "2023-05-01T18:54:34.079678Z",
     "end_time": "2023-05-01T18:54:34.163037Z"
    }
   }
  },
  {
   "cell_type": "markdown",
   "source": [
    "两层卷积一层池化，32，64。两层512感知器。"
   ],
   "metadata": {
    "collapsed": false
   }
  },
  {
   "cell_type": "code",
   "execution_count": 9,
   "outputs": [
    {
     "name": "stdout",
     "output_type": "stream",
     "text": [
      "Metal device set to: Apple M1 Pro\n",
      "Model: \"sequential\"\n",
      "_________________________________________________________________\n",
      " Layer (type)                Output Shape              Param #   \n",
      "=================================================================\n",
      " conv2d (Conv2D)             (None, 27, 27, 32)        896       \n",
      "                                                                 \n",
      " batch_normalization (BatchN  (None, 27, 27, 32)       128       \n",
      " ormalization)                                                   \n",
      "                                                                 \n",
      " conv2d_1 (Conv2D)           (None, 25, 25, 32)        9248      \n",
      "                                                                 \n",
      " batch_normalization_1 (Batc  (None, 25, 25, 32)       128       \n",
      " hNormalization)                                                 \n",
      "                                                                 \n",
      " max_pooling2d (MaxPooling2D  (None, 12, 12, 32)       0         \n",
      " )                                                               \n",
      "                                                                 \n",
      " conv2d_2 (Conv2D)           (None, 12, 12, 64)        18496     \n",
      "                                                                 \n",
      " batch_normalization_2 (Batc  (None, 12, 12, 64)       256       \n",
      " hNormalization)                                                 \n",
      "                                                                 \n",
      " conv2d_3 (Conv2D)           (None, 10, 10, 64)        36928     \n",
      "                                                                 \n",
      " batch_normalization_3 (Batc  (None, 10, 10, 64)       256       \n",
      " hNormalization)                                                 \n",
      "                                                                 \n",
      " max_pooling2d_1 (MaxPooling  (None, 5, 5, 64)         0         \n",
      " 2D)                                                             \n",
      "                                                                 \n",
      " flatten (Flatten)           (None, 1600)              0         \n",
      "                                                                 \n",
      " dense (Dense)               (None, 512)               819712    \n",
      "                                                                 \n",
      " batch_normalization_4 (Batc  (None, 512)              2048      \n",
      " hNormalization)                                                 \n",
      "                                                                 \n",
      " dropout (Dropout)           (None, 512)               0         \n",
      "                                                                 \n",
      " dense_1 (Dense)             (None, 512)               262656    \n",
      "                                                                 \n",
      " batch_normalization_5 (Batc  (None, 512)              2048      \n",
      " hNormalization)                                                 \n",
      "                                                                 \n",
      " dropout_1 (Dropout)         (None, 512)               0         \n",
      "                                                                 \n",
      " dense_2 (Dense)             (None, 1)                 513       \n",
      "                                                                 \n",
      "=================================================================\n",
      "Total params: 1,153,313\n",
      "Trainable params: 1,150,881\n",
      "Non-trainable params: 2,432\n",
      "_________________________________________________________________\n"
     ]
    }
   ],
   "source": [
    "input_shape = (27, 27, 3)\n",
    "num_classes = 4\n",
    "l2_coeff = 0.01\n",
    "\n",
    "model_binary = tf.keras.models.Sequential([\n",
    "    tf.keras.layers.Conv2D(32, (3,3), activation='relu', input_shape=input_shape, padding='same', kernel_regularizer=tf.keras.regularizers.l2(l2_coeff)),\n",
    "    tf.keras.layers.BatchNormalization(),\n",
    "    tf.keras.layers.Conv2D(32, (3,3), activation='relu', kernel_regularizer=tf.keras.regularizers.l2(l2_coeff)),\n",
    "    tf.keras.layers.BatchNormalization(),\n",
    "    tf.keras.layers.MaxPooling2D(2, 2),\n",
    "    tf.keras.layers.Conv2D(64, (3,3), activation='relu', padding='same', kernel_regularizer=tf.keras.regularizers.l2(l2_coeff)),\n",
    "    tf.keras.layers.BatchNormalization(),\n",
    "    tf.keras.layers.Conv2D(64, (3,3), activation='relu', kernel_regularizer=tf.keras.regularizers.l2(l2_coeff)),\n",
    "    tf.keras.layers.BatchNormalization(),\n",
    "    tf.keras.layers.MaxPooling2D(2, 2),\n",
    "    tf.keras.layers.Flatten(),\n",
    "    tf.keras.layers.Dense(512, activation='relu', kernel_regularizer=tf.keras.regularizers.l2(l2_coeff)),\n",
    "    tf.keras.layers.BatchNormalization(),\n",
    "    tf.keras.layers.Dropout(0.2),\n",
    "    tf.keras.layers.Dense(512, activation='relu', kernel_regularizer=tf.keras.regularizers.l2(l2_coeff)),\n",
    "    tf.keras.layers.BatchNormalization(),\n",
    "    tf.keras.layers.Dropout(0.2),\n",
    "    tf.keras.layers.Dense(1, activation='sigmoid')\n",
    "])\n",
    "model_binary.summary()"
   ],
   "metadata": {
    "collapsed": false,
    "ExecuteTime": {
     "start_time": "2023-05-01T18:54:34.180158Z",
     "end_time": "2023-05-01T18:54:34.383767Z"
    }
   }
  },
  {
   "cell_type": "code",
   "execution_count": 10,
   "outputs": [
    {
     "name": "stdout",
     "output_type": "stream",
     "text": [
      "Model: \"sequential_1\"\n",
      "_________________________________________________________________\n",
      " Layer (type)                Output Shape              Param #   \n",
      "=================================================================\n",
      " conv2d_4 (Conv2D)           (None, 27, 27, 32)        896       \n",
      "                                                                 \n",
      " batch_normalization_6 (Batc  (None, 27, 27, 32)       128       \n",
      " hNormalization)                                                 \n",
      "                                                                 \n",
      " conv2d_5 (Conv2D)           (None, 25, 25, 32)        9248      \n",
      "                                                                 \n",
      " batch_normalization_7 (Batc  (None, 25, 25, 32)       128       \n",
      " hNormalization)                                                 \n",
      "                                                                 \n",
      " max_pooling2d_2 (MaxPooling  (None, 12, 12, 32)       0         \n",
      " 2D)                                                             \n",
      "                                                                 \n",
      " conv2d_6 (Conv2D)           (None, 12, 12, 64)        18496     \n",
      "                                                                 \n",
      " batch_normalization_8 (Batc  (None, 12, 12, 64)       256       \n",
      " hNormalization)                                                 \n",
      "                                                                 \n",
      " conv2d_7 (Conv2D)           (None, 10, 10, 64)        36928     \n",
      "                                                                 \n",
      " batch_normalization_9 (Batc  (None, 10, 10, 64)       256       \n",
      " hNormalization)                                                 \n",
      "                                                                 \n",
      " max_pooling2d_3 (MaxPooling  (None, 5, 5, 64)         0         \n",
      " 2D)                                                             \n",
      "                                                                 \n",
      " flatten_1 (Flatten)         (None, 1600)              0         \n",
      "                                                                 \n",
      " dense_3 (Dense)             (None, 512)               819712    \n",
      "                                                                 \n",
      " batch_normalization_10 (Bat  (None, 512)              2048      \n",
      " chNormalization)                                                \n",
      "                                                                 \n",
      " dropout_2 (Dropout)         (None, 512)               0         \n",
      "                                                                 \n",
      " dense_4 (Dense)             (None, 512)               262656    \n",
      "                                                                 \n",
      " batch_normalization_11 (Bat  (None, 512)              2048      \n",
      " chNormalization)                                                \n",
      "                                                                 \n",
      " dropout_3 (Dropout)         (None, 512)               0         \n",
      "                                                                 \n",
      " dense_5 (Dense)             (None, 4)                 2052      \n",
      "                                                                 \n",
      "=================================================================\n",
      "Total params: 1,154,852\n",
      "Trainable params: 1,152,420\n",
      "Non-trainable params: 2,432\n",
      "_________________________________________________________________\n"
     ]
    }
   ],
   "source": [
    "model_categorical = tf.keras.models.Sequential([\n",
    "    tf.keras.layers.Conv2D(32, (3,3), activation='relu', input_shape=input_shape, padding='same', kernel_regularizer=tf.keras.regularizers.l2(l2_coeff)),\n",
    "    tf.keras.layers.BatchNormalization(),\n",
    "    tf.keras.layers.Conv2D(32, (3,3), activation='relu', kernel_regularizer=tf.keras.regularizers.l2(l2_coeff)),\n",
    "    tf.keras.layers.BatchNormalization(),\n",
    "    tf.keras.layers.MaxPooling2D(2, 2),\n",
    "    tf.keras.layers.Conv2D(64, (3,3), activation='relu', padding='same', kernel_regularizer=tf.keras.regularizers.l2(l2_coeff)),\n",
    "    tf.keras.layers.BatchNormalization(),\n",
    "    tf.keras.layers.Conv2D(64, (3,3), activation='relu', kernel_regularizer=tf.keras.regularizers.l2(l2_coeff)),\n",
    "    tf.keras.layers.BatchNormalization(),\n",
    "    tf.keras.layers.MaxPooling2D(2, 2),\n",
    "    tf.keras.layers.Flatten(),\n",
    "    tf.keras.layers.Dense(512, activation='relu', kernel_regularizer=tf.keras.regularizers.l2(l2_coeff)),\n",
    "    tf.keras.layers.BatchNormalization(),\n",
    "    tf.keras.layers.Dropout(0.2),\n",
    "    tf.keras.layers.Dense(512, activation='relu', kernel_regularizer=tf.keras.regularizers.l2(l2_coeff)),\n",
    "    tf.keras.layers.BatchNormalization(),\n",
    "    tf.keras.layers.Dropout(0.2),\n",
    "    tf.keras.layers.Dense(num_classes, activation='softmax')\n",
    "])\n",
    "model_categorical.summary()"
   ],
   "metadata": {
    "collapsed": false,
    "ExecuteTime": {
     "start_time": "2023-05-01T18:54:34.391644Z",
     "end_time": "2023-05-01T18:54:34.479143Z"
    }
   }
  },
  {
   "cell_type": "code",
   "execution_count": 11,
   "outputs": [],
   "source": [
    "model_binary.compile(loss='binary_crossentropy',\n",
    "              optimizer=tf.keras.optimizers.legacy.Adam(learning_rate=0.0001),\n",
    "              metrics=['accuracy'])\n",
    "\n",
    "model_categorical.compile(loss='categorical_crossentropy',\n",
    "              optimizer=tf.keras.optimizers.legacy.Adam(learning_rate=0.0005), metrics=['accuracy'])"
   ],
   "metadata": {
    "collapsed": false,
    "ExecuteTime": {
     "start_time": "2023-05-01T18:54:34.487334Z",
     "end_time": "2023-05-01T18:54:34.509845Z"
    }
   }
  },
  {
   "cell_type": "code",
   "execution_count": 12,
   "outputs": [
    {
     "name": "stdout",
     "output_type": "stream",
     "text": [
      "Epoch 1/100\n"
     ]
    },
    {
     "name": "stderr",
     "output_type": "stream",
     "text": [
      "2023-05-01 18:54:34.536411: W tensorflow/tsl/platform/profile_utils/cpu_utils.cc:128] Failed to get CPU frequency: 0 Hz\n"
     ]
    },
    {
     "name": "stdout",
     "output_type": "stream",
     "text": [
      "197/197 [==============================] - 8s 36ms/step - loss: 14.6289 - accuracy: 0.8011 - val_loss: 14.0191 - val_accuracy: 0.4107 - lr: 1.0000e-04\n",
      "Epoch 2/100\n",
      "197/197 [==============================] - 7s 34ms/step - loss: 13.3372 - accuracy: 0.8402 - val_loss: 12.5101 - val_accuracy: 0.7723 - lr: 1.0000e-04\n",
      "Epoch 3/100\n",
      "197/197 [==============================] - 7s 34ms/step - loss: 12.2599 - accuracy: 0.8430 - val_loss: 11.3081 - val_accuracy: 0.8878 - lr: 1.0000e-04\n",
      "Epoch 4/100\n",
      "197/197 [==============================] - 7s 35ms/step - loss: 11.2638 - accuracy: 0.8517 - val_loss: 10.4084 - val_accuracy: 0.8724 - lr: 1.0000e-04\n",
      "Epoch 5/100\n",
      "197/197 [==============================] - 7s 36ms/step - loss: 10.3877 - accuracy: 0.8551 - val_loss: 9.5396 - val_accuracy: 0.8922 - lr: 1.0000e-04\n",
      "Epoch 6/100\n",
      "197/197 [==============================] - 7s 35ms/step - loss: 9.5791 - accuracy: 0.8587 - val_loss: 8.7674 - val_accuracy: 0.8922 - lr: 1.0000e-04\n",
      "Epoch 7/100\n",
      "197/197 [==============================] - 7s 34ms/step - loss: 8.8089 - accuracy: 0.8571 - val_loss: 8.0476 - val_accuracy: 0.8935 - lr: 1.0000e-04\n",
      "Epoch 8/100\n",
      "197/197 [==============================] - 7s 35ms/step - loss: 8.1201 - accuracy: 0.8633 - val_loss: 7.4246 - val_accuracy: 0.8712 - lr: 1.0000e-04\n",
      "Epoch 9/100\n",
      "197/197 [==============================] - 7s 34ms/step - loss: 7.4594 - accuracy: 0.8678 - val_loss: 6.7731 - val_accuracy: 0.8897 - lr: 1.0000e-04\n",
      "Epoch 10/100\n",
      "197/197 [==============================] - 7s 34ms/step - loss: 6.8804 - accuracy: 0.8633 - val_loss: 6.8747 - val_accuracy: 0.6901 - lr: 1.0000e-04\n",
      "Epoch 11/100\n",
      "197/197 [==============================] - 7s 34ms/step - loss: 6.3456 - accuracy: 0.8627 - val_loss: 5.6740 - val_accuracy: 0.8973 - lr: 1.0000e-04\n",
      "Epoch 12/100\n",
      "197/197 [==============================] - 7s 34ms/step - loss: 5.8061 - accuracy: 0.8686 - val_loss: 5.2331 - val_accuracy: 0.8795 - lr: 1.0000e-04\n",
      "Epoch 13/100\n",
      "197/197 [==============================] - 7s 34ms/step - loss: 5.3762 - accuracy: 0.8619 - val_loss: 4.8171 - val_accuracy: 0.8699 - lr: 1.0000e-04\n",
      "Epoch 14/100\n",
      "197/197 [==============================] - 7s 34ms/step - loss: 4.9171 - accuracy: 0.8717 - val_loss: 4.4140 - val_accuracy: 0.8635 - lr: 1.0000e-04\n",
      "Epoch 15/100\n",
      "197/197 [==============================] - 7s 34ms/step - loss: 4.5422 - accuracy: 0.8740 - val_loss: 4.0067 - val_accuracy: 0.8954 - lr: 1.0000e-04\n",
      "Epoch 16/100\n",
      "197/197 [==============================] - 7s 34ms/step - loss: 4.1982 - accuracy: 0.8700 - val_loss: 3.7177 - val_accuracy: 0.8693 - lr: 1.0000e-04\n",
      "Epoch 17/100\n",
      "197/197 [==============================] - 7s 34ms/step - loss: 3.8846 - accuracy: 0.8732 - val_loss: 3.3881 - val_accuracy: 0.8980 - lr: 1.0000e-04\n",
      "Epoch 18/100\n",
      "197/197 [==============================] - 7s 34ms/step - loss: 3.5778 - accuracy: 0.8705 - val_loss: 3.0879 - val_accuracy: 0.9018 - lr: 1.0000e-04\n",
      "Epoch 19/100\n",
      "197/197 [==============================] - 7s 34ms/step - loss: 3.3254 - accuracy: 0.8737 - val_loss: 2.8408 - val_accuracy: 0.9050 - lr: 1.0000e-04\n",
      "Epoch 20/100\n",
      "197/197 [==============================] - 7s 34ms/step - loss: 3.0927 - accuracy: 0.8740 - val_loss: 2.6122 - val_accuracy: 0.8999 - lr: 1.0000e-04\n",
      "Epoch 21/100\n",
      "197/197 [==============================] - 7s 34ms/step - loss: 2.8491 - accuracy: 0.8813 - val_loss: 2.4053 - val_accuracy: 0.9133 - lr: 1.0000e-04\n",
      "Epoch 22/100\n",
      "197/197 [==============================] - 7s 34ms/step - loss: 2.6771 - accuracy: 0.8760 - val_loss: 2.2372 - val_accuracy: 0.9094 - lr: 1.0000e-04\n",
      "Epoch 23/100\n",
      "197/197 [==============================] - 7s 35ms/step - loss: 2.5039 - accuracy: 0.8779 - val_loss: 2.1066 - val_accuracy: 0.8884 - lr: 1.0000e-04\n",
      "Epoch 24/100\n",
      "197/197 [==============================] - 7s 35ms/step - loss: 2.3581 - accuracy: 0.8803 - val_loss: 1.9503 - val_accuracy: 0.8858 - lr: 1.0000e-04\n",
      "Epoch 25/100\n",
      "197/197 [==============================] - 7s 35ms/step - loss: 2.2102 - accuracy: 0.8710 - val_loss: 1.7891 - val_accuracy: 0.9056 - lr: 1.0000e-04\n",
      "Epoch 26/100\n",
      "197/197 [==============================] - 7s 34ms/step - loss: 2.0612 - accuracy: 0.8821 - val_loss: 1.6538 - val_accuracy: 0.9082 - lr: 1.0000e-04\n",
      "Epoch 27/100\n",
      "197/197 [==============================] - 7s 34ms/step - loss: 1.9177 - accuracy: 0.8892 - val_loss: 1.5420 - val_accuracy: 0.9114 - lr: 1.0000e-04\n",
      "Epoch 28/100\n",
      "197/197 [==============================] - 7s 34ms/step - loss: 1.8430 - accuracy: 0.8817 - val_loss: 1.4840 - val_accuracy: 0.9018 - lr: 1.0000e-04\n",
      "Epoch 29/100\n",
      "197/197 [==============================] - 7s 36ms/step - loss: 1.7597 - accuracy: 0.8813 - val_loss: 1.3577 - val_accuracy: 0.9158 - lr: 1.0000e-04\n",
      "Epoch 30/100\n",
      "197/197 [==============================] - 7s 34ms/step - loss: 1.6321 - accuracy: 0.8870 - val_loss: 1.3739 - val_accuracy: 0.8673 - lr: 1.0000e-04\n",
      "Epoch 31/100\n",
      "197/197 [==============================] - 7s 36ms/step - loss: 1.5893 - accuracy: 0.8863 - val_loss: 1.2637 - val_accuracy: 0.8839 - lr: 1.0000e-04\n",
      "Epoch 32/100\n",
      "197/197 [==============================] - 7s 36ms/step - loss: 1.5149 - accuracy: 0.8856 - val_loss: 1.1776 - val_accuracy: 0.8954 - lr: 1.0000e-04\n",
      "Epoch 33/100\n",
      "197/197 [==============================] - 7s 34ms/step - loss: 1.4610 - accuracy: 0.8776 - val_loss: 1.1341 - val_accuracy: 0.9005 - lr: 1.0000e-04\n",
      "Epoch 34/100\n",
      "197/197 [==============================] - 7s 35ms/step - loss: 1.3827 - accuracy: 0.8862 - val_loss: 1.0133 - val_accuracy: 0.9247 - lr: 1.0000e-04\n",
      "Epoch 35/100\n",
      "197/197 [==============================] - 7s 34ms/step - loss: 1.3372 - accuracy: 0.8857 - val_loss: 1.0049 - val_accuracy: 0.9037 - lr: 1.0000e-04\n",
      "Epoch 36/100\n",
      "197/197 [==============================] - 7s 34ms/step - loss: 1.3069 - accuracy: 0.8846 - val_loss: 0.9498 - val_accuracy: 0.9056 - lr: 1.0000e-04\n",
      "Epoch 37/100\n",
      "197/197 [==============================] - 7s 34ms/step - loss: 1.2463 - accuracy: 0.8862 - val_loss: 0.9025 - val_accuracy: 0.9171 - lr: 1.0000e-04\n",
      "Epoch 38/100\n",
      "197/197 [==============================] - 7s 34ms/step - loss: 1.1961 - accuracy: 0.8951 - val_loss: 0.9798 - val_accuracy: 0.8501 - lr: 1.0000e-04\n",
      "Epoch 39/100\n",
      "197/197 [==============================] - 7s 35ms/step - loss: 1.1659 - accuracy: 0.8916 - val_loss: 0.8603 - val_accuracy: 0.9139 - lr: 1.0000e-04\n",
      "Epoch 40/100\n",
      "197/197 [==============================] - 7s 34ms/step - loss: 1.1183 - accuracy: 0.8976 - val_loss: 0.8173 - val_accuracy: 0.9152 - lr: 1.0000e-04\n",
      "Epoch 41/100\n",
      "197/197 [==============================] - 7s 34ms/step - loss: 1.1073 - accuracy: 0.8908 - val_loss: 0.7637 - val_accuracy: 0.9241 - lr: 1.0000e-04\n",
      "Epoch 42/100\n",
      "197/197 [==============================] - 7s 34ms/step - loss: 1.0710 - accuracy: 0.8952 - val_loss: 0.7967 - val_accuracy: 0.8999 - lr: 1.0000e-04\n",
      "Epoch 43/100\n",
      "197/197 [==============================] - 7s 34ms/step - loss: 1.0855 - accuracy: 0.8911 - val_loss: 0.7593 - val_accuracy: 0.9024 - lr: 1.0000e-04\n",
      "Epoch 44/100\n",
      "197/197 [==============================] - 7s 34ms/step - loss: 1.0379 - accuracy: 0.8944 - val_loss: 0.7045 - val_accuracy: 0.9196 - lr: 1.0000e-04\n",
      "Epoch 45/100\n",
      "197/197 [==============================] - 7s 35ms/step - loss: 1.0007 - accuracy: 0.8925 - val_loss: 0.7362 - val_accuracy: 0.8954 - lr: 1.0000e-04\n",
      "Epoch 46/100\n",
      "197/197 [==============================] - 7s 34ms/step - loss: 0.9894 - accuracy: 0.8967 - val_loss: 0.6750 - val_accuracy: 0.9190 - lr: 1.0000e-04\n",
      "Epoch 47/100\n",
      "197/197 [==============================] - 7s 34ms/step - loss: 0.9694 - accuracy: 0.8962 - val_loss: 0.6638 - val_accuracy: 0.9228 - lr: 1.0000e-04\n",
      "Epoch 48/100\n",
      "197/197 [==============================] - 7s 35ms/step - loss: 0.9620 - accuracy: 0.8910 - val_loss: 0.6832 - val_accuracy: 0.8929 - lr: 1.0000e-04\n",
      "Epoch 49/100\n",
      "197/197 [==============================] - 7s 34ms/step - loss: 0.9563 - accuracy: 0.8897 - val_loss: 0.6371 - val_accuracy: 0.9267 - lr: 1.0000e-04\n",
      "Epoch 50/100\n",
      "197/197 [==============================] - 7s 34ms/step - loss: 0.9395 - accuracy: 0.8940 - val_loss: 0.6406 - val_accuracy: 0.9056 - lr: 1.0000e-04\n",
      "Epoch 51/100\n",
      "197/197 [==============================] - 7s 34ms/step - loss: 0.9228 - accuracy: 0.8967 - val_loss: 0.6073 - val_accuracy: 0.9209 - lr: 1.0000e-04\n",
      "Epoch 52/100\n",
      "197/197 [==============================] - 7s 34ms/step - loss: 0.9210 - accuracy: 0.8911 - val_loss: 0.6070 - val_accuracy: 0.9114 - lr: 1.0000e-04\n",
      "Epoch 53/100\n",
      "197/197 [==============================] - 7s 34ms/step - loss: 0.9069 - accuracy: 0.8889 - val_loss: 0.6265 - val_accuracy: 0.9062 - lr: 1.0000e-04\n",
      "Epoch 54/100\n",
      "197/197 [==============================] - 7s 34ms/step - loss: 0.8743 - accuracy: 0.8978 - val_loss: 0.6195 - val_accuracy: 0.9024 - lr: 1.0000e-04\n",
      "Epoch 55/100\n",
      "197/197 [==============================] - 7s 34ms/step - loss: 0.8757 - accuracy: 0.8959 - val_loss: 0.5694 - val_accuracy: 0.9247 - lr: 1.0000e-04\n",
      "Epoch 56/100\n",
      "197/197 [==============================] - 7s 35ms/step - loss: 0.8603 - accuracy: 0.8975 - val_loss: 0.6054 - val_accuracy: 0.8948 - lr: 1.0000e-04\n",
      "Epoch 57/100\n",
      "197/197 [==============================] - 7s 34ms/step - loss: 0.8631 - accuracy: 0.8965 - val_loss: 0.6060 - val_accuracy: 0.8948 - lr: 1.0000e-04\n",
      "Epoch 58/100\n",
      "197/197 [==============================] - 7s 35ms/step - loss: 0.8592 - accuracy: 0.8956 - val_loss: 0.5585 - val_accuracy: 0.9190 - lr: 1.0000e-04\n",
      "Epoch 59/100\n",
      "197/197 [==============================] - 7s 36ms/step - loss: 0.8443 - accuracy: 0.8948 - val_loss: 0.5453 - val_accuracy: 0.9235 - lr: 1.0000e-04\n",
      "Epoch 60/100\n",
      "197/197 [==============================] - 7s 35ms/step - loss: 0.8111 - accuracy: 0.9062 - val_loss: 0.6411 - val_accuracy: 0.8648 - lr: 1.0000e-04\n",
      "Epoch 61/100\n",
      "197/197 [==============================] - 7s 35ms/step - loss: 0.8096 - accuracy: 0.9046 - val_loss: 0.5418 - val_accuracy: 0.9069 - lr: 1.0000e-04\n",
      "Epoch 62/100\n",
      "197/197 [==============================] - 7s 34ms/step - loss: 0.8080 - accuracy: 0.9011 - val_loss: 0.5423 - val_accuracy: 0.9152 - lr: 1.0000e-04\n",
      "Epoch 63/100\n",
      "197/197 [==============================] - 7s 34ms/step - loss: 0.7743 - accuracy: 0.9075 - val_loss: 0.5165 - val_accuracy: 0.9235 - lr: 1.0000e-04\n",
      "Epoch 64/100\n",
      "197/197 [==============================] - 7s 34ms/step - loss: 0.7931 - accuracy: 0.9044 - val_loss: 0.6326 - val_accuracy: 0.8571 - lr: 1.0000e-04\n",
      "Epoch 65/100\n",
      "197/197 [==============================] - 7s 34ms/step - loss: 0.7896 - accuracy: 0.9038 - val_loss: 0.5158 - val_accuracy: 0.9222 - lr: 1.0000e-04\n",
      "Epoch 66/100\n",
      "197/197 [==============================] - 7s 34ms/step - loss: 0.7754 - accuracy: 0.9030 - val_loss: 0.5091 - val_accuracy: 0.9139 - lr: 1.0000e-04\n",
      "Epoch 67/100\n",
      "197/197 [==============================] - 7s 34ms/step - loss: 0.7627 - accuracy: 0.9090 - val_loss: 0.4798 - val_accuracy: 0.9216 - lr: 1.0000e-04\n",
      "Epoch 68/100\n",
      "197/197 [==============================] - 7s 34ms/step - loss: 0.7644 - accuracy: 0.9038 - val_loss: 0.8815 - val_accuracy: 0.7927 - lr: 1.0000e-04\n",
      "Epoch 69/100\n",
      "197/197 [==============================] - 7s 35ms/step - loss: 0.7483 - accuracy: 0.9121 - val_loss: 0.5047 - val_accuracy: 0.9075 - lr: 1.0000e-04\n",
      "Epoch 70/100\n",
      "197/197 [==============================] - 7s 34ms/step - loss: 0.7532 - accuracy: 0.9052 - val_loss: 0.4661 - val_accuracy: 0.9286 - lr: 1.0000e-04\n",
      "Epoch 71/100\n",
      "197/197 [==============================] - 7s 35ms/step - loss: 0.7404 - accuracy: 0.9076 - val_loss: 0.4557 - val_accuracy: 0.9273 - lr: 1.0000e-04\n",
      "Epoch 72/100\n",
      "197/197 [==============================] - 7s 34ms/step - loss: 0.7369 - accuracy: 0.9094 - val_loss: 0.4699 - val_accuracy: 0.9216 - lr: 1.0000e-04\n",
      "Epoch 73/100\n",
      "197/197 [==============================] - 7s 35ms/step - loss: 0.7216 - accuracy: 0.9140 - val_loss: 0.4822 - val_accuracy: 0.9133 - lr: 1.0000e-04\n",
      "Epoch 74/100\n",
      "197/197 [==============================] - 7s 34ms/step - loss: 0.7454 - accuracy: 0.9052 - val_loss: 0.4908 - val_accuracy: 0.9088 - lr: 1.0000e-04\n",
      "Epoch 75/100\n",
      "197/197 [==============================] - 7s 34ms/step - loss: 0.6959 - accuracy: 0.9133 - val_loss: 0.4396 - val_accuracy: 0.9330 - lr: 3.1623e-05\n",
      "Epoch 76/100\n",
      "197/197 [==============================] - 7s 34ms/step - loss: 0.6982 - accuracy: 0.9122 - val_loss: 0.4436 - val_accuracy: 0.9343 - lr: 3.1623e-05\n",
      "Epoch 77/100\n",
      "197/197 [==============================] - 7s 35ms/step - loss: 0.6684 - accuracy: 0.9200 - val_loss: 0.4242 - val_accuracy: 0.9349 - lr: 3.1623e-05\n",
      "Epoch 78/100\n",
      "197/197 [==============================] - 7s 34ms/step - loss: 0.6606 - accuracy: 0.9173 - val_loss: 0.4474 - val_accuracy: 0.9177 - lr: 3.1623e-05\n",
      "Epoch 79/100\n",
      "197/197 [==============================] - 7s 34ms/step - loss: 0.6568 - accuracy: 0.9189 - val_loss: 0.4151 - val_accuracy: 0.9356 - lr: 3.1623e-05\n",
      "Epoch 80/100\n",
      "197/197 [==============================] - 7s 35ms/step - loss: 0.6480 - accuracy: 0.9213 - val_loss: 0.4277 - val_accuracy: 0.9337 - lr: 3.1623e-05\n",
      "Epoch 81/100\n",
      "197/197 [==============================] - 7s 34ms/step - loss: 0.6395 - accuracy: 0.9238 - val_loss: 0.4090 - val_accuracy: 0.9381 - lr: 3.1623e-05\n",
      "Epoch 82/100\n",
      "197/197 [==============================] - 7s 34ms/step - loss: 0.6582 - accuracy: 0.9203 - val_loss: 0.4079 - val_accuracy: 0.9362 - lr: 3.1623e-05\n",
      "Epoch 83/100\n",
      "197/197 [==============================] - 7s 34ms/step - loss: 0.6254 - accuracy: 0.9248 - val_loss: 0.4083 - val_accuracy: 0.9426 - lr: 3.1623e-05\n",
      "Epoch 84/100\n",
      "197/197 [==============================] - 7s 34ms/step - loss: 0.6333 - accuracy: 0.9222 - val_loss: 0.4237 - val_accuracy: 0.9337 - lr: 3.1623e-05\n",
      "Epoch 85/100\n",
      "197/197 [==============================] - 7s 34ms/step - loss: 0.6419 - accuracy: 0.9189 - val_loss: 0.4547 - val_accuracy: 0.9216 - lr: 3.1623e-05\n",
      "Epoch 86/100\n",
      "197/197 [==============================] - 7s 34ms/step - loss: 0.6092 - accuracy: 0.9281 - val_loss: 0.4090 - val_accuracy: 0.9349 - lr: 1.0000e-05\n",
      "Epoch 87/100\n",
      "197/197 [==============================] - 7s 34ms/step - loss: 0.5970 - accuracy: 0.9330 - val_loss: 0.3973 - val_accuracy: 0.9375 - lr: 1.0000e-05\n",
      "Epoch 88/100\n",
      "197/197 [==============================] - 7s 34ms/step - loss: 0.6129 - accuracy: 0.9287 - val_loss: 0.4034 - val_accuracy: 0.9369 - lr: 1.0000e-05\n",
      "Epoch 89/100\n",
      "197/197 [==============================] - 7s 34ms/step - loss: 0.5992 - accuracy: 0.9295 - val_loss: 0.3939 - val_accuracy: 0.9388 - lr: 1.0000e-05\n",
      "Epoch 90/100\n",
      "197/197 [==============================] - 7s 35ms/step - loss: 0.6157 - accuracy: 0.9251 - val_loss: 0.3914 - val_accuracy: 0.9401 - lr: 1.0000e-05\n",
      "Epoch 91/100\n",
      "197/197 [==============================] - 7s 34ms/step - loss: 0.5902 - accuracy: 0.9295 - val_loss: 0.3911 - val_accuracy: 0.9394 - lr: 1.0000e-05\n",
      "Epoch 92/100\n",
      "197/197 [==============================] - 7s 35ms/step - loss: 0.6098 - accuracy: 0.9276 - val_loss: 0.3955 - val_accuracy: 0.9381 - lr: 1.0000e-05\n",
      "Epoch 93/100\n",
      "197/197 [==============================] - 7s 35ms/step - loss: 0.6161 - accuracy: 0.9235 - val_loss: 0.3980 - val_accuracy: 0.9356 - lr: 1.0000e-05\n",
      "Epoch 94/100\n",
      "197/197 [==============================] - 7s 37ms/step - loss: 0.6119 - accuracy: 0.9240 - val_loss: 0.3912 - val_accuracy: 0.9381 - lr: 1.0000e-05\n",
      "Epoch 95/100\n",
      "197/197 [==============================] - 7s 35ms/step - loss: 0.6168 - accuracy: 0.9230 - val_loss: 0.3919 - val_accuracy: 0.9369 - lr: 3.1623e-06\n",
      "Epoch 96/100\n",
      "197/197 [==============================] - 7s 35ms/step - loss: 0.5986 - accuracy: 0.9248 - val_loss: 0.3847 - val_accuracy: 0.9381 - lr: 3.1623e-06\n",
      "Epoch 97/100\n",
      "197/197 [==============================] - 7s 35ms/step - loss: 0.5859 - accuracy: 0.9313 - val_loss: 0.3887 - val_accuracy: 0.9401 - lr: 3.1623e-06\n",
      "Epoch 98/100\n",
      "197/197 [==============================] - 7s 36ms/step - loss: 0.6032 - accuracy: 0.9262 - val_loss: 0.3888 - val_accuracy: 0.9407 - lr: 3.1623e-06\n",
      "Epoch 99/100\n",
      "197/197 [==============================] - 7s 37ms/step - loss: 0.5908 - accuracy: 0.9297 - val_loss: 0.3912 - val_accuracy: 0.9388 - lr: 3.1623e-06\n",
      "Epoch 100/100\n",
      "197/197 [==============================] - 7s 35ms/step - loss: 0.5703 - accuracy: 0.9337 - val_loss: 0.3901 - val_accuracy: 0.9394 - lr: 1.0000e-06\n"
     ]
    }
   ],
   "source": [
    "epochs = 100\n",
    "lr_reducer = tf.keras.callbacks.ReduceLROnPlateau(monitor='val_loss', factor=np.sqrt(0.1), cooldown=0, patience=3, min_lr=0.5e-15)\n",
    "history_binary = model_binary.fit(\n",
    "    train_isCancerous_generator,\n",
    "    steps_per_epoch=len(train_data) // batch_size,\n",
    "    epochs=epochs,\n",
    "    validation_data=val_isCancerous_generator,\n",
    "    validation_steps=len(val_data) // batch_size,\n",
    "    class_weight=class_weight_dict_isCancerous\n",
    "    , callbacks=[lr_reducer]\n",
    ")"
   ],
   "metadata": {
    "collapsed": false,
    "ExecuteTime": {
     "start_time": "2023-05-01T18:54:34.495947Z",
     "end_time": "2023-05-01T19:05:55.888027Z"
    }
   }
  },
  {
   "cell_type": "code",
   "execution_count": 13,
   "outputs": [
    {
     "data": {
      "text/plain": "<Figure size 432x288 with 1 Axes>",
      "image/png": "[encoded data removed]"
     },
     "metadata": {
      "needs_background": "light"
     },
     "output_type": "display_data"
    }
   ],
   "source": [
    "train_loss = history_binary.history['loss']\n",
    "val_loss = history_binary.history['val_loss']\n",
    "\n",
    "epochs_range = range(1, epochs + 1)\n",
    "\n",
    "plt.plot(epochs_range, train_loss, label='Training Loss')\n",
    "plt.plot(epochs_range, val_loss, label='Validation Loss')\n",
    "\n",
    "plt.legend()\n",
    "plt.title('Training and Validation Loss in binary')\n",
    "plt.xlabel('Epoch')\n",
    "plt.ylabel('Loss')\n",
    "\n",
    "plt.show()"
   ],
   "metadata": {
    "collapsed": false,
    "ExecuteTime": {
     "start_time": "2023-05-01T19:05:55.896959Z",
     "end_time": "2023-05-01T19:05:55.955303Z"
    }
   }
  },
  {
   "cell_type": "code",
   "execution_count": 14,
   "outputs": [
    {
     "data": {
      "text/plain": "<Figure size 432x288 with 1 Axes>",
      "image/png": "[encoded data removed]"
     },
     "metadata": {
      "needs_background": "light"
     },
     "output_type": "display_data"
    }
   ],
   "source": [
    "train_accuracy = history_binary.history['accuracy']\n",
    "val_accuracy = history_binary.history['val_accuracy']\n",
    "\n",
    "epochs_range = range(1, epochs + 1)\n",
    "\n",
    "plt.plot(epochs_range, train_accuracy, label='Training Accuracy')\n",
    "plt.plot(epochs_range, val_accuracy, label='Validation Accuracy')\n",
    "\n",
    "plt.legend()\n",
    "plt.title('Training and Validation Accuracy in binary')\n",
    "plt.xlabel('Epoch')\n",
    "plt.ylabel('Accuracy')\n",
    "\n",
    "plt.show()"
   ],
   "metadata": {
    "collapsed": false,
    "ExecuteTime": {
     "start_time": "2023-05-01T19:05:55.963703Z",
     "end_time": "2023-05-01T19:05:56.022709Z"
    }
   }
  },
  {
   "cell_type": "markdown",
   "source": [
    "评估不可见数据集的表现"
   ],
   "metadata": {
    "collapsed": false
   }
  },
  {
   "cell_type": "code",
   "execution_count": 15,
   "outputs": [
    {
     "name": "stdout",
     "output_type": "stream",
     "text": [
      "62/62 [==============================] - 1s 21ms/step - loss: 0.4020 - accuracy: 0.9369\n",
      "Loss: 0.4020, Accuracy: 0.9369\n"
     ]
    }
   ],
   "source": [
    "loss, accuracy = model_binary.evaluate(test_isCancerous_generator)\n",
    "print(f\"Loss: {loss:.4f}, Accuracy: {accuracy:.4f}\")"
   ],
   "metadata": {
    "collapsed": false,
    "ExecuteTime": {
     "start_time": "2023-05-01T19:05:56.023443Z",
     "end_time": "2023-05-01T19:05:57.333417Z"
    }
   }
  },
  {
   "cell_type": "markdown",
   "source": [
    "# 训练多分类"
   ],
   "metadata": {
    "collapsed": false
   }
  },
  {
   "cell_type": "code",
   "execution_count": 16,
   "outputs": [
    {
     "name": "stdout",
     "output_type": "stream",
     "text": [
      "Epoch 1/100\n",
      "197/197 [==============================] - 8s 39ms/step - loss: 19.1620 - accuracy: 0.5468 - val_loss: 15.9831 - val_accuracy: 0.4235 - lr: 5.0000e-04\n",
      "Epoch 2/100\n",
      "197/197 [==============================] - 8s 38ms/step - loss: 16.9044 - accuracy: 0.6098 - val_loss: 13.3886 - val_accuracy: 0.4566 - lr: 5.0000e-04\n",
      "Epoch 3/100\n",
      "197/197 [==============================] - 8s 39ms/step - loss: 14.9385 - accuracy: 0.6429 - val_loss: 11.1162 - val_accuracy: 0.6773 - lr: 5.0000e-04\n",
      "Epoch 4/100\n",
      "197/197 [==============================] - 8s 38ms/step - loss: 13.2577 - accuracy: 0.6590 - val_loss: 9.6443 - val_accuracy: 0.6760 - lr: 5.0000e-04\n",
      "Epoch 5/100\n",
      "197/197 [==============================] - 8s 39ms/step - loss: 11.7335 - accuracy: 0.6692 - val_loss: 8.6300 - val_accuracy: 0.5179 - lr: 5.0000e-04\n",
      "Epoch 6/100\n",
      "197/197 [==============================] - 8s 39ms/step - loss: 10.4179 - accuracy: 0.6667 - val_loss: 7.2871 - val_accuracy: 0.5421 - lr: 5.0000e-04\n",
      "Epoch 7/100\n",
      "197/197 [==============================] - 7s 38ms/step - loss: 9.1841 - accuracy: 0.6706 - val_loss: 6.1694 - val_accuracy: 0.6084 - lr: 5.0000e-04\n",
      "Epoch 8/100\n",
      "197/197 [==============================] - 8s 39ms/step - loss: 8.1927 - accuracy: 0.6819 - val_loss: 4.9799 - val_accuracy: 0.7207 - lr: 5.0000e-04\n",
      "Epoch 9/100\n",
      "197/197 [==============================] - 8s 38ms/step - loss: 7.3427 - accuracy: 0.6878 - val_loss: 4.2344 - val_accuracy: 0.7436 - lr: 5.0000e-04\n",
      "Epoch 10/100\n",
      "197/197 [==============================] - 8s 38ms/step - loss: 6.7092 - accuracy: 0.6919 - val_loss: 3.7800 - val_accuracy: 0.7111 - lr: 5.0000e-04\n",
      "Epoch 11/100\n",
      "197/197 [==============================] - 8s 38ms/step - loss: 6.1411 - accuracy: 0.6929 - val_loss: 3.3416 - val_accuracy: 0.7207 - lr: 5.0000e-04\n",
      "Epoch 12/100\n",
      "197/197 [==============================] - 8s 39ms/step - loss: 5.7247 - accuracy: 0.7011 - val_loss: 2.8499 - val_accuracy: 0.7621 - lr: 5.0000e-04\n",
      "Epoch 13/100\n",
      "197/197 [==============================] - 8s 39ms/step - loss: 5.3624 - accuracy: 0.6990 - val_loss: 2.8695 - val_accuracy: 0.6409 - lr: 5.0000e-04\n",
      "Epoch 14/100\n",
      "197/197 [==============================] - 8s 40ms/step - loss: 5.0928 - accuracy: 0.6989 - val_loss: 2.4210 - val_accuracy: 0.7347 - lr: 5.0000e-04\n",
      "Epoch 15/100\n",
      "197/197 [==============================] - 8s 39ms/step - loss: 4.9130 - accuracy: 0.6967 - val_loss: 2.2925 - val_accuracy: 0.7085 - lr: 5.0000e-04\n",
      "Epoch 16/100\n",
      "197/197 [==============================] - 8s 39ms/step - loss: 4.7247 - accuracy: 0.7097 - val_loss: 2.4087 - val_accuracy: 0.6716 - lr: 5.0000e-04\n",
      "Epoch 17/100\n",
      "197/197 [==============================] - 8s 40ms/step - loss: 4.5908 - accuracy: 0.7135 - val_loss: 2.2085 - val_accuracy: 0.6550 - lr: 5.0000e-04\n",
      "Epoch 18/100\n",
      "197/197 [==============================] - 8s 40ms/step - loss: 4.4485 - accuracy: 0.7175 - val_loss: 2.4075 - val_accuracy: 0.5695 - lr: 5.0000e-04\n",
      "Epoch 19/100\n",
      "197/197 [==============================] - 8s 39ms/step - loss: 4.3644 - accuracy: 0.7208 - val_loss: 1.9112 - val_accuracy: 0.7398 - lr: 5.0000e-04\n",
      "Epoch 20/100\n",
      "197/197 [==============================] - 8s 39ms/step - loss: 4.3390 - accuracy: 0.7173 - val_loss: 1.8508 - val_accuracy: 0.7341 - lr: 5.0000e-04\n",
      "Epoch 21/100\n",
      "197/197 [==============================] - 8s 39ms/step - loss: 4.1784 - accuracy: 0.7259 - val_loss: 2.3849 - val_accuracy: 0.4987 - lr: 5.0000e-04\n",
      "Epoch 22/100\n",
      "197/197 [==============================] - 8s 39ms/step - loss: 4.1340 - accuracy: 0.7227 - val_loss: 1.6919 - val_accuracy: 0.7404 - lr: 5.0000e-04\n",
      "Epoch 23/100\n",
      "197/197 [==============================] - 8s 39ms/step - loss: 4.0709 - accuracy: 0.7327 - val_loss: 1.6174 - val_accuracy: 0.7755 - lr: 5.0000e-04\n",
      "Epoch 24/100\n",
      "197/197 [==============================] - 8s 38ms/step - loss: 4.0062 - accuracy: 0.7327 - val_loss: 1.6020 - val_accuracy: 0.7353 - lr: 5.0000e-04\n",
      "Epoch 25/100\n",
      "197/197 [==============================] - 8s 39ms/step - loss: 3.8780 - accuracy: 0.7354 - val_loss: 1.5046 - val_accuracy: 0.7774 - lr: 5.0000e-04\n",
      "Epoch 26/100\n",
      "197/197 [==============================] - 8s 38ms/step - loss: 3.9481 - accuracy: 0.7376 - val_loss: 1.6524 - val_accuracy: 0.6907 - lr: 5.0000e-04\n",
      "Epoch 27/100\n",
      "197/197 [==============================] - 8s 38ms/step - loss: 3.8736 - accuracy: 0.7365 - val_loss: 1.8682 - val_accuracy: 0.6103 - lr: 5.0000e-04\n",
      "Epoch 28/100\n",
      "197/197 [==============================] - 8s 38ms/step - loss: 3.8218 - accuracy: 0.7378 - val_loss: 1.9757 - val_accuracy: 0.5957 - lr: 5.0000e-04\n",
      "Epoch 29/100\n",
      "197/197 [==============================] - 8s 40ms/step - loss: 3.5413 - accuracy: 0.7621 - val_loss: 1.3410 - val_accuracy: 0.7934 - lr: 1.5811e-04\n",
      "Epoch 30/100\n",
      "197/197 [==============================] - 8s 38ms/step - loss: 3.4361 - accuracy: 0.7694 - val_loss: 1.3355 - val_accuracy: 0.7704 - lr: 1.5811e-04\n",
      "Epoch 31/100\n",
      "197/197 [==============================] - 8s 38ms/step - loss: 3.3061 - accuracy: 0.7827 - val_loss: 1.2098 - val_accuracy: 0.8131 - lr: 1.5811e-04\n",
      "Epoch 32/100\n",
      "197/197 [==============================] - 8s 38ms/step - loss: 3.2880 - accuracy: 0.7779 - val_loss: 1.2407 - val_accuracy: 0.7832 - lr: 1.5811e-04\n",
      "Epoch 33/100\n",
      "197/197 [==============================] - 8s 38ms/step - loss: 3.2560 - accuracy: 0.7802 - val_loss: 1.2091 - val_accuracy: 0.8023 - lr: 1.5811e-04\n",
      "Epoch 34/100\n",
      "197/197 [==============================] - 8s 39ms/step - loss: 3.1866 - accuracy: 0.7797 - val_loss: 1.1789 - val_accuracy: 0.8048 - lr: 1.5811e-04\n",
      "Epoch 35/100\n",
      "197/197 [==============================] - 8s 40ms/step - loss: 3.2321 - accuracy: 0.7744 - val_loss: 1.1193 - val_accuracy: 0.8246 - lr: 1.5811e-04\n",
      "Epoch 36/100\n",
      "197/197 [==============================] - 8s 40ms/step - loss: 3.1595 - accuracy: 0.7838 - val_loss: 1.2924 - val_accuracy: 0.7513 - lr: 1.5811e-04\n",
      "Epoch 37/100\n",
      "197/197 [==============================] - 8s 39ms/step - loss: 3.1946 - accuracy: 0.7789 - val_loss: 1.1389 - val_accuracy: 0.8087 - lr: 1.5811e-04\n",
      "Epoch 38/100\n",
      "197/197 [==============================] - 8s 39ms/step - loss: 3.1048 - accuracy: 0.7779 - val_loss: 1.1718 - val_accuracy: 0.8055 - lr: 1.5811e-04\n",
      "Epoch 39/100\n",
      "197/197 [==============================] - 7s 38ms/step - loss: 3.0023 - accuracy: 0.7967 - val_loss: 1.0950 - val_accuracy: 0.8227 - lr: 5.0000e-05\n",
      "Epoch 40/100\n",
      "197/197 [==============================] - 8s 38ms/step - loss: 2.9517 - accuracy: 0.8000 - val_loss: 1.0637 - val_accuracy: 0.8297 - lr: 5.0000e-05\n",
      "Epoch 41/100\n",
      "197/197 [==============================] - 8s 39ms/step - loss: 2.9428 - accuracy: 0.8000 - val_loss: 1.0500 - val_accuracy: 0.8310 - lr: 5.0000e-05\n",
      "Epoch 42/100\n",
      "197/197 [==============================] - 8s 40ms/step - loss: 2.8782 - accuracy: 0.8073 - val_loss: 1.0407 - val_accuracy: 0.8304 - lr: 5.0000e-05\n",
      "Epoch 43/100\n",
      "197/197 [==============================] - 8s 40ms/step - loss: 2.8374 - accuracy: 0.8063 - val_loss: 1.0337 - val_accuracy: 0.8272 - lr: 5.0000e-05\n",
      "Epoch 44/100\n",
      "197/197 [==============================] - 8s 39ms/step - loss: 2.8728 - accuracy: 0.8051 - val_loss: 1.0232 - val_accuracy: 0.8284 - lr: 5.0000e-05\n",
      "Epoch 45/100\n",
      "197/197 [==============================] - 8s 39ms/step - loss: 2.8869 - accuracy: 0.8003 - val_loss: 1.0156 - val_accuracy: 0.8297 - lr: 5.0000e-05\n",
      "Epoch 46/100\n",
      "197/197 [==============================] - 8s 40ms/step - loss: 2.8263 - accuracy: 0.8019 - val_loss: 1.0014 - val_accuracy: 0.8316 - lr: 5.0000e-05\n",
      "Epoch 47/100\n",
      "197/197 [==============================] - 8s 39ms/step - loss: 2.8370 - accuracy: 0.8092 - val_loss: 0.9986 - val_accuracy: 0.8323 - lr: 5.0000e-05\n",
      "Epoch 48/100\n",
      "197/197 [==============================] - 8s 38ms/step - loss: 2.7597 - accuracy: 0.8110 - val_loss: 1.0258 - val_accuracy: 0.8131 - lr: 5.0000e-05\n",
      "Epoch 49/100\n",
      "197/197 [==============================] - 8s 39ms/step - loss: 2.8271 - accuracy: 0.8030 - val_loss: 0.9887 - val_accuracy: 0.8348 - lr: 5.0000e-05\n",
      "Epoch 50/100\n",
      "197/197 [==============================] - 8s 38ms/step - loss: 2.7527 - accuracy: 0.8060 - val_loss: 0.9988 - val_accuracy: 0.8233 - lr: 5.0000e-05\n",
      "Epoch 51/100\n",
      "197/197 [==============================] - 8s 39ms/step - loss: 2.7502 - accuracy: 0.8127 - val_loss: 0.9959 - val_accuracy: 0.8278 - lr: 5.0000e-05\n",
      "Epoch 52/100\n",
      "197/197 [==============================] - 8s 39ms/step - loss: 2.6904 - accuracy: 0.8124 - val_loss: 0.9703 - val_accuracy: 0.8393 - lr: 5.0000e-05\n",
      "Epoch 53/100\n",
      "197/197 [==============================] - 8s 38ms/step - loss: 2.7542 - accuracy: 0.8083 - val_loss: 1.0223 - val_accuracy: 0.8061 - lr: 5.0000e-05\n",
      "Epoch 54/100\n",
      "197/197 [==============================] - 8s 38ms/step - loss: 2.7428 - accuracy: 0.8130 - val_loss: 1.0102 - val_accuracy: 0.8227 - lr: 5.0000e-05\n",
      "Epoch 55/100\n",
      "197/197 [==============================] - 8s 41ms/step - loss: 2.7463 - accuracy: 0.8125 - val_loss: 0.9820 - val_accuracy: 0.8304 - lr: 5.0000e-05\n",
      "Epoch 56/100\n",
      "197/197 [==============================] - 8s 39ms/step - loss: 2.6685 - accuracy: 0.8141 - val_loss: 0.9795 - val_accuracy: 0.8195 - lr: 1.5811e-05\n",
      "Epoch 57/100\n",
      "197/197 [==============================] - 8s 40ms/step - loss: 2.6240 - accuracy: 0.8221 - val_loss: 0.9787 - val_accuracy: 0.8208 - lr: 1.5811e-05\n",
      "Epoch 58/100\n",
      "197/197 [==============================] - 8s 40ms/step - loss: 2.6355 - accuracy: 0.8149 - val_loss: 0.9682 - val_accuracy: 0.8208 - lr: 1.5811e-05\n",
      "Epoch 59/100\n",
      "197/197 [==============================] - 8s 39ms/step - loss: 2.5624 - accuracy: 0.8298 - val_loss: 0.9732 - val_accuracy: 0.8233 - lr: 1.5811e-05\n",
      "Epoch 60/100\n",
      "197/197 [==============================] - 8s 40ms/step - loss: 2.6306 - accuracy: 0.8217 - val_loss: 0.9708 - val_accuracy: 0.8246 - lr: 1.5811e-05\n",
      "Epoch 61/100\n",
      "197/197 [==============================] - 8s 40ms/step - loss: 2.5672 - accuracy: 0.8230 - val_loss: 0.9687 - val_accuracy: 0.8195 - lr: 1.5811e-05\n",
      "Epoch 62/100\n",
      "197/197 [==============================] - 8s 39ms/step - loss: 2.5830 - accuracy: 0.8233 - val_loss: 0.9552 - val_accuracy: 0.8284 - lr: 5.0000e-06\n",
      "Epoch 63/100\n",
      "197/197 [==============================] - 8s 39ms/step - loss: 2.5995 - accuracy: 0.8205 - val_loss: 0.9568 - val_accuracy: 0.8291 - lr: 5.0000e-06\n",
      "Epoch 64/100\n",
      "197/197 [==============================] - 8s 40ms/step - loss: 2.5526 - accuracy: 0.8257 - val_loss: 0.9543 - val_accuracy: 0.8272 - lr: 5.0000e-06\n",
      "Epoch 65/100\n",
      "197/197 [==============================] - 8s 40ms/step - loss: 2.5566 - accuracy: 0.8235 - val_loss: 0.9548 - val_accuracy: 0.8265 - lr: 5.0000e-06\n",
      "Epoch 66/100\n",
      "197/197 [==============================] - 8s 39ms/step - loss: 2.5248 - accuracy: 0.8327 - val_loss: 0.9525 - val_accuracy: 0.8265 - lr: 5.0000e-06\n",
      "Epoch 67/100\n",
      "197/197 [==============================] - 8s 40ms/step - loss: 2.5431 - accuracy: 0.8297 - val_loss: 0.9661 - val_accuracy: 0.8182 - lr: 5.0000e-06\n",
      "Epoch 68/100\n",
      "197/197 [==============================] - 8s 40ms/step - loss: 2.5596 - accuracy: 0.8306 - val_loss: 0.9550 - val_accuracy: 0.8259 - lr: 5.0000e-06\n",
      "Epoch 69/100\n",
      "197/197 [==============================] - 8s 39ms/step - loss: 2.5117 - accuracy: 0.8335 - val_loss: 0.9500 - val_accuracy: 0.8221 - lr: 5.0000e-06\n",
      "Epoch 70/100\n",
      "197/197 [==============================] - 8s 40ms/step - loss: 2.5075 - accuracy: 0.8289 - val_loss: 0.9538 - val_accuracy: 0.8246 - lr: 5.0000e-06\n",
      "Epoch 71/100\n",
      "197/197 [==============================] - 8s 40ms/step - loss: 2.5377 - accuracy: 0.8265 - val_loss: 0.9531 - val_accuracy: 0.8227 - lr: 5.0000e-06\n",
      "Epoch 72/100\n",
      "197/197 [==============================] - 8s 41ms/step - loss: 2.5265 - accuracy: 0.8267 - val_loss: 0.9419 - val_accuracy: 0.8291 - lr: 5.0000e-06\n",
      "Epoch 73/100\n",
      "197/197 [==============================] - 8s 40ms/step - loss: 2.5083 - accuracy: 0.8267 - val_loss: 0.9427 - val_accuracy: 0.8297 - lr: 5.0000e-06\n",
      "Epoch 74/100\n",
      "197/197 [==============================] - 8s 40ms/step - loss: 2.5954 - accuracy: 0.8251 - val_loss: 0.9384 - val_accuracy: 0.8310 - lr: 5.0000e-06\n",
      "Epoch 75/100\n",
      "197/197 [==============================] - 8s 39ms/step - loss: 2.5487 - accuracy: 0.8310 - val_loss: 0.9522 - val_accuracy: 0.8202 - lr: 5.0000e-06\n",
      "Epoch 76/100\n",
      "197/197 [==============================] - 8s 39ms/step - loss: 2.5084 - accuracy: 0.8260 - val_loss: 0.9470 - val_accuracy: 0.8265 - lr: 5.0000e-06\n",
      "Epoch 77/100\n",
      "197/197 [==============================] - 8s 38ms/step - loss: 2.5160 - accuracy: 0.8327 - val_loss: 0.9461 - val_accuracy: 0.8253 - lr: 5.0000e-06\n",
      "Epoch 78/100\n",
      "197/197 [==============================] - 8s 40ms/step - loss: 2.5110 - accuracy: 0.8346 - val_loss: 0.9460 - val_accuracy: 0.8240 - lr: 1.5811e-06\n",
      "Epoch 79/100\n",
      "197/197 [==============================] - 8s 39ms/step - loss: 2.4709 - accuracy: 0.8324 - val_loss: 0.9493 - val_accuracy: 0.8221 - lr: 1.5811e-06\n",
      "Epoch 80/100\n",
      "197/197 [==============================] - 8s 39ms/step - loss: 2.4962 - accuracy: 0.8256 - val_loss: 0.9482 - val_accuracy: 0.8240 - lr: 1.5811e-06\n",
      "Epoch 81/100\n",
      "197/197 [==============================] - 8s 39ms/step - loss: 2.4839 - accuracy: 0.8311 - val_loss: 0.9462 - val_accuracy: 0.8246 - lr: 5.0000e-07\n",
      "Epoch 82/100\n",
      "197/197 [==============================] - 8s 39ms/step - loss: 2.5234 - accuracy: 0.8284 - val_loss: 0.9488 - val_accuracy: 0.8214 - lr: 5.0000e-07\n",
      "Epoch 83/100\n",
      "197/197 [==============================] - 8s 39ms/step - loss: 2.4880 - accuracy: 0.8308 - val_loss: 0.9476 - val_accuracy: 0.8240 - lr: 5.0000e-07\n",
      "Epoch 84/100\n",
      "197/197 [==============================] - 8s 38ms/step - loss: 2.5424 - accuracy: 0.8237 - val_loss: 0.9440 - val_accuracy: 0.8253 - lr: 1.5811e-07\n",
      "Epoch 85/100\n",
      "197/197 [==============================] - 8s 39ms/step - loss: 2.5287 - accuracy: 0.8246 - val_loss: 0.9475 - val_accuracy: 0.8246 - lr: 1.5811e-07\n",
      "Epoch 86/100\n",
      "197/197 [==============================] - 8s 40ms/step - loss: 2.5099 - accuracy: 0.8262 - val_loss: 0.9399 - val_accuracy: 0.8291 - lr: 1.5811e-07\n",
      "Epoch 87/100\n",
      "197/197 [==============================] - 8s 40ms/step - loss: 2.5168 - accuracy: 0.8303 - val_loss: 0.9456 - val_accuracy: 0.8253 - lr: 5.0000e-08\n",
      "Epoch 88/100\n",
      "197/197 [==============================] - 8s 40ms/step - loss: 2.4821 - accuracy: 0.8281 - val_loss: 0.9486 - val_accuracy: 0.8259 - lr: 5.0000e-08\n",
      "Epoch 89/100\n",
      "197/197 [==============================] - 8s 39ms/step - loss: 2.5387 - accuracy: 0.8297 - val_loss: 0.9478 - val_accuracy: 0.8221 - lr: 5.0000e-08\n",
      "Epoch 90/100\n",
      "197/197 [==============================] - 8s 40ms/step - loss: 2.4949 - accuracy: 0.8275 - val_loss: 0.9449 - val_accuracy: 0.8246 - lr: 1.5811e-08\n",
      "Epoch 91/100\n",
      "197/197 [==============================] - 8s 39ms/step - loss: 2.4780 - accuracy: 0.8303 - val_loss: 0.9439 - val_accuracy: 0.8265 - lr: 1.5811e-08\n",
      "Epoch 92/100\n",
      "197/197 [==============================] - 8s 39ms/step - loss: 2.5121 - accuracy: 0.8248 - val_loss: 0.9399 - val_accuracy: 0.8246 - lr: 1.5811e-08\n",
      "Epoch 93/100\n",
      "197/197 [==============================] - 8s 40ms/step - loss: 2.5102 - accuracy: 0.8305 - val_loss: 0.9440 - val_accuracy: 0.8259 - lr: 5.0000e-09\n",
      "Epoch 94/100\n",
      "197/197 [==============================] - 8s 40ms/step - loss: 2.5371 - accuracy: 0.8294 - val_loss: 0.9492 - val_accuracy: 0.8233 - lr: 5.0000e-09\n",
      "Epoch 95/100\n",
      "197/197 [==============================] - 8s 40ms/step - loss: 2.4695 - accuracy: 0.8351 - val_loss: 0.9388 - val_accuracy: 0.8284 - lr: 5.0000e-09\n",
      "Epoch 96/100\n",
      "197/197 [==============================] - 8s 39ms/step - loss: 2.5295 - accuracy: 0.8273 - val_loss: 0.9415 - val_accuracy: 0.8284 - lr: 1.5811e-09\n",
      "Epoch 97/100\n",
      "197/197 [==============================] - 8s 39ms/step - loss: 2.5370 - accuracy: 0.8235 - val_loss: 0.9445 - val_accuracy: 0.8246 - lr: 1.5811e-09\n",
      "Epoch 98/100\n",
      "197/197 [==============================] - 8s 39ms/step - loss: 2.5290 - accuracy: 0.8271 - val_loss: 0.9466 - val_accuracy: 0.8246 - lr: 1.5811e-09\n",
      "Epoch 99/100\n",
      "197/197 [==============================] - 8s 39ms/step - loss: 2.4550 - accuracy: 0.8375 - val_loss: 0.9504 - val_accuracy: 0.8208 - lr: 5.0000e-10\n",
      "Epoch 100/100\n",
      "197/197 [==============================] - 8s 39ms/step - loss: 2.5309 - accuracy: 0.8254 - val_loss: 0.9452 - val_accuracy: 0.8278 - lr: 5.0000e-10\n"
     ]
    }
   ],
   "source": [
    "epochs = 100\n",
    "history_categorical = model_categorical.fit(\n",
    "    train_cellType_generator,\n",
    "    steps_per_epoch=len(train_data) // batch_size,\n",
    "    epochs=epochs,\n",
    "    validation_data=val_cellType_generator,\n",
    "    validation_steps=len(val_data) // batch_size,\n",
    "    class_weight=class_weight_dict_cellType\n",
    "    , callbacks=[lr_reducer]\n",
    ")"
   ],
   "metadata": {
    "collapsed": false,
    "ExecuteTime": {
     "start_time": "2023-05-01T19:05:57.334458Z",
     "end_time": "2023-05-01T19:18:50.184438Z"
    }
   }
  },
  {
   "cell_type": "code",
   "execution_count": 17,
   "outputs": [
    {
     "data": {
      "text/plain": "<Figure size 432x288 with 1 Axes>",
      "image/png": "[encoded data removed]"
     },
     "metadata": {
      "needs_background": "light"
     },
     "output_type": "display_data"
    }
   ],
   "source": [
    "train_loss = history_categorical.history['loss']\n",
    "val_loss = history_categorical.history['val_loss']\n",
    "\n",
    "epochs_range = range(1, epochs + 1)\n",
    "\n",
    "plt.plot(epochs_range, train_loss, label='Training Loss')\n",
    "plt.plot(epochs_range, val_loss, label='Validation Loss')\n",
    "\n",
    "plt.legend()\n",
    "plt.title('Training and Validation Loss in multi-category')\n",
    "plt.xlabel('Epoch')\n",
    "plt.ylabel('Loss')\n",
    "\n",
    "plt.show()"
   ],
   "metadata": {
    "collapsed": false,
    "ExecuteTime": {
     "start_time": "2023-05-01T19:18:50.185649Z",
     "end_time": "2023-05-01T19:18:50.251485Z"
    }
   }
  },
  {
   "cell_type": "code",
   "execution_count": 18,
   "outputs": [
    {
     "data": {
      "text/plain": "<Figure size 432x288 with 1 Axes>",
      "image/png": "[encoded data removed]"
     },
     "metadata": {
      "needs_background": "light"
     },
     "output_type": "display_data"
    }
   ],
   "source": [
    "train_accuracy = history_categorical.history['accuracy']\n",
    "val_accuracy = history_categorical.history['val_accuracy']\n",
    "\n",
    "epochs_range = range(1, epochs + 1)\n",
    "\n",
    "plt.plot(epochs_range, train_accuracy, label='Training Accuracy')\n",
    "plt.plot(epochs_range, val_accuracy, label='Validation Accuracy')\n",
    "\n",
    "plt.legend()\n",
    "plt.title('Training and Validation Accuracy in multi-category')\n",
    "plt.xlabel('Epoch')\n",
    "plt.ylabel('Accuracy')\n",
    "\n",
    "plt.show()"
   ],
   "metadata": {
    "collapsed": false,
    "ExecuteTime": {
     "start_time": "2023-05-01T19:18:50.259080Z",
     "end_time": "2023-05-01T19:18:50.314906Z"
    }
   }
  },
  {
   "cell_type": "code",
   "execution_count": 19,
   "outputs": [
    {
     "name": "stdout",
     "output_type": "stream",
     "text": [
      "62/62 [==============================] - 1s 24ms/step - loss: 0.9887 - accuracy: 0.8162\n",
      "Loss: 0.9887, Accuracy: 0.8162\n"
     ]
    }
   ],
   "source": [
    "# # 预测\n",
    "# predictions = model_categorical.predict(test_cellType_generator)\n",
    "#\n",
    "# # 获取预测标签\n",
    "# predicted_labels = np.argmax(predictions, axis=-1)\n",
    "#\n",
    "# # 计算准确度\n",
    "# true_labels = test_cellType_generator.classes\n",
    "# accuracy = accuracy_score(true_labels, predicted_labels)\n",
    "# print(f\"Accuracy: {accuracy}\")\n",
    "#\n",
    "# # 计算损失\n",
    "# y_true = tf.keras.utils.to_categorical(true_labels, num_classes=4) # 根据您的类别数量更改 num_classes\n",
    "# loss = tf.reduce_mean(tf.keras.losses.categorical_crossentropy(y_true, predictions))\n",
    "# print(f\"Loss: {loss}\")\n",
    "\n",
    "loss, accuracy = model_categorical.evaluate(test_cellType_generator)\n",
    "print(f\"Loss: {loss:.4f}, Accuracy: {accuracy:.4f}\")"
   ],
   "metadata": {
    "collapsed": false,
    "ExecuteTime": {
     "start_time": "2023-05-01T19:18:50.316398Z",
     "end_time": "2023-05-01T19:18:51.810147Z"
    }
   }
  },
  {
   "cell_type": "code",
   "execution_count": 20,
   "outputs": [
    {
     "name": "stderr",
     "output_type": "stream",
     "text": [
      "WARNING:absl:Found untraced functions such as _jit_compiled_convolution_op, _jit_compiled_convolution_op, _jit_compiled_convolution_op, _jit_compiled_convolution_op while saving (showing 4 of 4). These functions will not be directly callable after loading.\n"
     ]
    },
    {
     "name": "stdout",
     "output_type": "stream",
     "text": [
      "INFO:tensorflow:Assets written to: saved_model/model_categorical/assets\n"
     ]
    },
    {
     "name": "stderr",
     "output_type": "stream",
     "text": [
      "INFO:tensorflow:Assets written to: saved_model/model_categorical/assets\n"
     ]
    }
   ],
   "source": [
    "model_categorical.save('saved_model/model_categorical')"
   ],
   "metadata": {
    "collapsed": false,
    "ExecuteTime": {
     "start_time": "2023-05-01T19:18:51.811441Z",
     "end_time": "2023-05-01T19:18:52.941123Z"
    }
   }
  },
  {
   "cell_type": "markdown",
   "source": [
    "# DI/HD 使用data_labels_extraData对多分类的模型进行增强\n",
    "通过半监督学习。我们将采用UDA。\n",
    "首先先获取额外的数据集并且进行相关处理。\n",
    "我们从数据集可以观察到，没有癌症在多分类中为2。所以我们可以将不是癌症的样本之间指定其多分类的类别为2."
   ],
   "metadata": {
    "collapsed": false
   }
  },
  {
   "cell_type": "code",
   "execution_count": 33,
   "outputs": [],
   "source": [
    "model_categorical = tf.keras.models.load_model('saved_model/model_categorical')\n",
    "data_extra = pd.read_csv('./Image_classification_data/data_labels_extraData.csv')\n",
    "data_extra['isCancerous'] = data_extra['isCancerous'].astype(str)\n",
    "# data_extra['cellType'] = np.nan\n",
    "# data_extra.loc[data_extra['isCancerous'] == '1', 'cellType'] = 2\n",
    "# data_extra_unlabeled = data_extra[data_extra['cellType'].isna()]\n",
    "# data_extra_labeled = data_extra[data_extra['cellType'] == 2]\n",
    "# undivided_train_data = pd.concat([undivided_train_data, data_extra_labeled], axis=0).reset_index(drop=True)\n",
    "# undivided_train_data['cellType'] = undivided_train_data['cellType'].astype(int)\n",
    "# train_data, val_data = train_test_split(undivided_train_data, test_size=0.2, random_state=42)"
   ],
   "metadata": {
    "collapsed": false,
    "ExecuteTime": {
     "start_time": "2023-05-01T19:33:00.478068Z",
     "end_time": "2023-05-01T19:33:01.057673Z"
    }
   }
  },
  {
   "cell_type": "code",
   "execution_count": 22,
   "outputs": [],
   "source": [
    "# cellType(多分类)的比例\n",
    "# class_samples_cellType = train_data['cellType'].value_counts()\n",
    "# total_samples = np.sum(class_samples_cellType)\n",
    "# class_weights_cellType = total_samples / class_samples_cellType\n",
    "# class_weight_dict_cellType = {int(k): v for k, v in class_weights_cellType.to_dict().items()}\n",
    "#\n",
    "# data_extra_unlabeled['isCancerous'] = data_extra_unlabeled['isCancerous'].astype(str)\n",
    "# train_data['cellType'] = train_data['cellType'].astype(str)\n",
    "# val_data['cellType'] = val_data['cellType'].astype(str)"
   ],
   "metadata": {
    "collapsed": false,
    "ExecuteTime": {
     "start_time": "2023-05-01T19:18:53.373307Z",
     "end_time": "2023-05-01T19:18:53.375027Z"
    }
   }
  },
  {
   "cell_type": "markdown",
   "source": [
    "重新生成新的train_generator"
   ],
   "metadata": {
    "collapsed": false
   }
  },
  {
   "cell_type": "code",
   "execution_count": 34,
   "outputs": [
    {
     "name": "stdout",
     "output_type": "stream",
     "text": [
      "Found 6332 validated image filenames belonging to 4 classes.\n",
      "Found 10384 validated image filenames belonging to 2 classes.\n",
      "Found 1584 validated image filenames belonging to 4 classes.\n"
     ]
    }
   ],
   "source": [
    "batch_size = 32\n",
    "# train_datagen = tf.keras.preprocessing.image.ImageDataGenerator(\n",
    "#     rescale=1./255,\n",
    "#     rotation_range=40,\n",
    "#     width_shift_range=0.2,\n",
    "#     height_shift_range=0.2,\n",
    "#     shear_range=0.2,\n",
    "#     zoom_range=0.2,\n",
    "#     horizontal_flip=True,\n",
    "#     vertical_flip=True,\n",
    "#     fill_mode='nearest'\n",
    "# )\n",
    "train_datagen = CustomImageDataGenerator(\n",
    "    num_augmentations=4,\n",
    "    rescale=1./255,\n",
    "    rotation_range=180,\n",
    "    width_shift_range=0.2,\n",
    "    height_shift_range=0.2,\n",
    "    shear_range=0.2,\n",
    "    zoom_range=0.2,\n",
    "    brightness_range=[0.2,1.0],\n",
    "    horizontal_flip=True,\n",
    "    vertical_flip=True,\n",
    "    fill_mode='nearest'\n",
    ")\n",
    "\n",
    "train_generator = train_datagen.flow_from_dataframe(\n",
    "    train_data,\n",
    "    directory='./Image_classification_data/patch_images',\n",
    "    x_col='ImageName',\n",
    "    y_col='cellType',\n",
    "    target_size=(27, 27),\n",
    "    batch_size=batch_size,\n",
    "    class_mode='categorical')\n",
    "\n",
    "unlabeled_datagen = CustomImageDataGenerator(\n",
    "    rescale=1./255,\n",
    "    rotation_range=40,\n",
    "    width_shift_range=0.2,\n",
    "    height_shift_range=0.2,\n",
    "    shear_range=0.2,\n",
    "    zoom_range=0.2,\n",
    "    horizontal_flip=True,\n",
    "    vertical_flip=True,\n",
    "    fill_mode='nearest'\n",
    ")\n",
    "\n",
    "unlabeled_generator = unlabeled_datagen.flow_from_dataframe(\n",
    "    data_extra,\n",
    "    directory='./Image_classification_data/patch_images',\n",
    "    x_col='ImageName',\n",
    "    y_col='isCancerous', # 我们并不关心y_col。只是为了防止报错\n",
    "    target_size=(27, 27),\n",
    "    batch_size=batch_size,\n",
    "    class_mode='categorical')\n",
    "\n",
    "val_datagen = tf.keras.preprocessing.image.ImageDataGenerator(\n",
    "    rescale=1./255\n",
    ")\n",
    "\n",
    "test_data['cellType'] = test_data['cellType'].astype(str)\n",
    "validation_cellType_generator = val_datagen.flow_from_dataframe(\n",
    "    val_data,\n",
    "    directory='./Image_classification_data/patch_images',\n",
    "    x_col='ImageName',\n",
    "    y_col='cellType',\n",
    "    target_size=(27, 27),\n",
    "    batch_size=batch_size,\n",
    "    class_mode='categorical')"
   ],
   "metadata": {
    "collapsed": false,
    "ExecuteTime": {
     "start_time": "2023-05-01T19:33:03.494577Z",
     "end_time": "2023-05-01T19:33:03.659703Z"
    }
   }
  },
  {
   "cell_type": "markdown",
   "source": [
    "## UDA实现"
   ],
   "metadata": {
    "collapsed": false
   }
  },
  {
   "cell_type": "code",
   "execution_count": 24,
   "outputs": [],
   "source": [
    "# data_augmentation = tf.keras.Sequential([\n",
    "#     tf.keras.layers.RandomFlip(\"horizontal\"),\n",
    "#     tf.keras.layers.RandomFlip(\"vertical\"),\n",
    "#     tf.keras.layers.RandomRotation(0.1),\n",
    "#     tf.keras.layers.RandomTranslation(height_factor=(-0.1, 0.1), width_factor=(-0.1, 0.1)),\n",
    "#     tf.keras.layers.RandomZoom(height_factor=(-0.1, 0.1), width_factor=(-0.1, 0.1)),\n",
    "#     tf.keras.layers.RandomContrast(factor=(0.8, 1.2)),\n",
    "#     tf.keras.layers.RandomBrightness(factor=0.1),\n",
    "# ])"
   ],
   "metadata": {
    "collapsed": false,
    "ExecuteTime": {
     "start_time": "2023-05-01T19:18:53.541038Z",
     "end_time": "2023-05-01T19:18:53.542586Z"
    }
   }
  },
  {
   "cell_type": "code",
   "execution_count": 35,
   "outputs": [],
   "source": [
    "# 定义数据增强层\n",
    "class RandAugment(tf.keras.layers.Layer):\n",
    "    def __init__(self, num_layers, magnitude, **kwargs):\n",
    "        super().__init__(**kwargs)\n",
    "        self.num_layers = num_layers\n",
    "        self.magnitude = magnitude\n",
    "        self.operations = [\n",
    "            tf.keras.layers.experimental.preprocessing.RandomFlip(\"horizontal_and_vertical\"),\n",
    "            tf.keras.layers.experimental.preprocessing.RandomRotation(factor=(0.1 * magnitude, 0.1 * magnitude)),\n",
    "            tf.keras.layers.experimental.preprocessing.RandomTranslation(height_factor=(-0.1 * magnitude, 0.1 * magnitude), width_factor=(-0.1 * magnitude, 0.1 * magnitude)),\n",
    "            tf.keras.layers.experimental.preprocessing.RandomZoom(height_factor=(-0.1 * magnitude, 0.1 * magnitude), width_factor=(-0.1 * magnitude, 0.1 * magnitude)),\n",
    "            tf.keras.layers.experimental.preprocessing.RandomContrast(factor=(1 - 0.1 * magnitude, 1 + 0.1 * magnitude)),\n",
    "            tf.keras.layers.RandomBrightness(factor=(0.2 * magnitude)),\n",
    "        ]\n",
    "\n",
    "    def call(self, inputs, **kwargs):\n",
    "        if kwargs.get('training'):\n",
    "            for _ in range(self.num_layers):\n",
    "                operation = random.choice(self.operations)\n",
    "                inputs = operation(inputs, training=kwargs.get('training'))\n",
    "        return inputs"
   ],
   "metadata": {
    "collapsed": false,
    "ExecuteTime": {
     "start_time": "2023-05-01T19:33:07.982718Z",
     "end_time": "2023-05-01T19:33:07.987639Z"
    }
   }
  },
  {
   "cell_type": "code",
   "execution_count": 37,
   "outputs": [],
   "source": [
    "def apply_uda(x_batch, y_batch, x_unlabeled, model, optimizer, training=True, class_weight_dict=None, consistency_weight=1.5, confidence_threshold=0.5, temperature=0.5):\n",
    "    x_unlabeled_augmented = None\n",
    "    if x_unlabeled is not None:\n",
    "        # 对无标签数据进行数据增强\n",
    "        # x_unlabeled_augmented = data_augmentation(x_unlabeled)\n",
    "        rand_augment = RandAugment(num_layers=3, magnitude=0.9)\n",
    "        x_unlabeled_augmented = rand_augment(x_unlabeled, training=training)\n",
    "\n",
    "    # 计算模型在原始无标签数据和增强无标签数据上的输出\n",
    "    with tf.GradientTape() as tape:\n",
    "        y_pred_labeled = model(x_batch)\n",
    "        if x_unlabeled is not None:\n",
    "            y_pred_unlabeled = model(x_unlabeled)\n",
    "            y_pred_unlabeled_augmented = model(x_unlabeled_augmented)\n",
    "\n",
    "            # Sharpening Predictions\n",
    "            y_pred_unlabeled = tf.nn.softmax(y_pred_unlabeled / temperature, axis=-1)\n",
    "            y_pred_unlabeled_augmented = tf.nn.softmax(y_pred_unlabeled_augmented / temperature, axis=-1)\n",
    "\n",
    "            # Confidence-based masking\n",
    "            max_probs = tf.reduce_max(y_pred_unlabeled, axis=-1)\n",
    "            mask = max_probs > confidence_threshold\n",
    "            y_pred_unlabeled = tf.boolean_mask(y_pred_unlabeled, mask)\n",
    "            y_pred_unlabeled_augmented = tf.boolean_mask(y_pred_unlabeled_augmented, mask)\n",
    "\n",
    "        # 计算有监督损失\n",
    "        # 如果是训练并且给定了类别权重，则根据权重计算损失。\n",
    "        if class_weight_dict is not None and training:\n",
    "            sample_weights = tf.gather(class_weight_dict, tf.argmax(y_batch, axis=-1))\n",
    "            supervised_loss = tf.reduce_mean(tf.keras.losses.categorical_crossentropy(y_batch, y_pred_labeled) * sample_weights)\n",
    "        else:\n",
    "            supervised_loss = tf.reduce_mean(tf.keras.losses.categorical_crossentropy(y_batch, y_pred_labeled))\n",
    "\n",
    "        # 如果提供了无标签数据，则计算一致性损失，(半监督学习)\n",
    "        if x_unlabeled is not None:\n",
    "            consistency_loss = tf.reduce_mean(tf.keras.losses.mean_squared_error(y_pred_unlabeled, y_pred_unlabeled_augmented))\n",
    "            total_loss = supervised_loss + consistency_weight * consistency_loss\n",
    "        else:\n",
    "            total_loss = supervised_loss\n",
    "\n",
    "        # 计算准确度\n",
    "        accuracy = tf.keras.metrics.categorical_accuracy(y_batch, y_pred_labeled)\n",
    "\n",
    "        if training:\n",
    "            # 反向传播和优化\n",
    "            grads = tape.gradient(total_loss, model_categorical.trainable_variables)\n",
    "            optimizer.apply_gradients(zip(grads, model_categorical.trainable_variables))\n",
    "    return total_loss, supervised_loss, consistency_loss if x_unlabeled is not None else None, accuracy"
   ],
   "metadata": {
    "collapsed": false,
    "ExecuteTime": {
     "start_time": "2023-05-01T19:33:17.434110Z",
     "end_time": "2023-05-01T19:33:17.439114Z"
    }
   }
  },
  {
   "cell_type": "markdown",
   "source": [
    "### 训练半监督"
   ],
   "metadata": {
    "collapsed": false
   }
  },
  {
   "cell_type": "code",
   "execution_count": 38,
   "outputs": [
    {
     "name": "stdout",
     "output_type": "stream",
     "text": [
      "Epoch 1/5\n"
     ]
    },
    {
     "name": "stderr",
     "output_type": "stream",
     "text": [
      "Training: 100%|███████████████████████████████████████████████████| 198/198 [00:23<00:00,  8.26it/s]\n"
     ]
    },
    {
     "name": "stdout",
     "output_type": "stream",
     "text": [
      " - loss: 0.5081, supervised_loss: 0.3993, consistency_loss: 0.0725, accuracy: 0.8560\n",
      "Validation set： - loss: 0.4281, accuracy: 0.8342, learning rate: 9.999999974752427e-07\n",
      "Epoch 2/5\n"
     ]
    },
    {
     "name": "stderr",
     "output_type": "stream",
     "text": [
      "Training: 100%|███████████████████████████████████████████████████| 198/198 [00:23<00:00,  8.35it/s]\n"
     ]
    },
    {
     "name": "stdout",
     "output_type": "stream",
     "text": [
      " - loss: 0.4874, supervised_loss: 0.3878, consistency_loss: 0.0664, accuracy: 0.8586\n",
      "Validation set： - loss: 0.4480, accuracy: 0.8281, learning rate: 9.999999974752427e-07\n",
      "Epoch 3/5\n"
     ]
    },
    {
     "name": "stderr",
     "output_type": "stream",
     "text": [
      "Training: 100%|███████████████████████████████████████████████████| 198/198 [00:23<00:00,  8.39it/s]\n"
     ]
    },
    {
     "name": "stdout",
     "output_type": "stream",
     "text": [
      " - loss: 0.4724, supervised_loss: 0.3926, consistency_loss: 0.0532, accuracy: 0.8553\n",
      "Validation set： - loss: 0.4110, accuracy: 0.8367, learning rate: 9.999999974752427e-07\n",
      "Epoch 4/5\n"
     ]
    },
    {
     "name": "stderr",
     "output_type": "stream",
     "text": [
      "Training: 100%|███████████████████████████████████████████████████| 198/198 [00:24<00:00,  8.22it/s]\n"
     ]
    },
    {
     "name": "stdout",
     "output_type": "stream",
     "text": [
      " - loss: 0.4577, supervised_loss: 0.3881, consistency_loss: 0.0464, accuracy: 0.8626\n",
      "Validation set： - loss: 0.4484, accuracy: 0.8281, learning rate: 9.999999974752427e-07\n",
      "Epoch 5/5\n"
     ]
    },
    {
     "name": "stderr",
     "output_type": "stream",
     "text": [
      "Training: 100%|███████████████████████████████████████████████████| 198/198 [00:24<00:00,  8.15it/s]\n"
     ]
    },
    {
     "name": "stdout",
     "output_type": "stream",
     "text": [
      " - loss: 0.4628, supervised_loss: 0.3882, consistency_loss: 0.0497, accuracy: 0.8615\n",
      "Validation set： - loss: 0.4186, accuracy: 0.8377, learning rate: 3.162277652184396e-07\n"
     ]
    }
   ],
   "source": [
    "optimizer = tf.keras.optimizers.legacy.Adam(learning_rate=0.1e-5)\n",
    "epochs = 5\n",
    "min_val_loss = float('inf')\n",
    "num_epochs_no_improvement = 0\n",
    "current_learning_rate = optimizer.learning_rate.numpy()\n",
    "history = {\"loss\": [], \"val_loss\": [], \"accuracy\": [], \"val_accuracy\": []}\n",
    "\n",
    "for epoch in range(epochs):\n",
    "    print(f\"Epoch {epoch + 1}/{epochs}\")\n",
    "\n",
    "    total_loss = 0\n",
    "    total_supervised_loss = 0\n",
    "    total_consistency_loss = 0\n",
    "    total_accuracy = 0\n",
    "    steps = 0\n",
    "\n",
    "    total_batches = math.ceil(len(train_data) / batch_size)\n",
    "    with tqdm(total=total_batches, desc=\"Training\", ncols=100) as progress_bar:\n",
    "        for (x_batch, y_batch), (x_unlabeled, _) in zip(train_generator, unlabeled_generator):\n",
    "            progress_bar.update(1)\n",
    "            loss, supervised_loss, consistency_loss, accuracy = apply_uda(x_batch,\n",
    "                                                                          y_batch,\n",
    "                                                                          x_unlabeled,\n",
    "                                                                          model_categorical,\n",
    "                                                                          optimizer,\n",
    "                                                                          class_weight_dict_cellType)\n",
    "            total_loss += loss\n",
    "            total_supervised_loss += supervised_loss\n",
    "            total_consistency_loss += consistency_loss\n",
    "            total_accuracy += tf.reduce_mean(accuracy)\n",
    "            steps += 1\n",
    "            # 检查是否已经处理了所有批次\n",
    "            if steps * batch_size >= len(train_data):\n",
    "                break\n",
    "\n",
    "        # 计算并打印平均损失和准确率\n",
    "        avg_loss = total_loss / steps\n",
    "        avg_supervised_loss = total_supervised_loss / steps\n",
    "        avg_consistency_loss = total_consistency_loss / steps\n",
    "        avg_accuracy = total_accuracy / steps\n",
    "        history[\"loss\"].append(avg_loss.numpy())\n",
    "        history[\"accuracy\"].append(avg_accuracy.numpy())\n",
    "        print(f\" - loss: {avg_loss.numpy():.4f}, supervised_loss: {avg_supervised_loss.numpy():.4f}, consistency_loss: {avg_consistency_loss.numpy():.4f}, accuracy: {avg_accuracy.numpy():.4f}\")\n",
    "\n",
    "    total_loss = 0\n",
    "    total_accuracy = 0\n",
    "    steps = 0\n",
    "    for x_batch, y_batch in validation_cellType_generator:\n",
    "        loss, _, _, accuracy = apply_uda(x_batch, y_batch, None, model_categorical, optimizer, False)\n",
    "        total_loss += loss\n",
    "        total_accuracy += tf.reduce_mean(accuracy)\n",
    "        steps += 1\n",
    "\n",
    "        if steps * batch_size >= len(test_data):\n",
    "            break\n",
    "\n",
    "    avg_loss = total_loss / steps\n",
    "    avg_accuracy = total_accuracy / steps\n",
    "    history[\"val_loss\"].append(avg_loss.numpy())\n",
    "    history[\"val_accuracy\"].append(avg_accuracy.numpy())\n",
    "    print(f\"Validation set： - loss: {avg_loss.numpy():.4f}, accuracy: {avg_accuracy.numpy():.4f}, learning rate: {current_learning_rate}\")\n",
    "\n",
    "    # 检查是否需要更新学习率\n",
    "    if avg_loss < min_val_loss:\n",
    "        min_val_loss = loss\n",
    "        num_epochs_no_improvement = 0\n",
    "    else:\n",
    "        num_epochs_no_improvement += 1\n",
    "\n",
    "    if num_epochs_no_improvement >= 3:\n",
    "        current_learning_rate *= np.sqrt(0.1)\n",
    "        current_learning_rate = max(current_learning_rate, 0.5e-15)\n",
    "        optimizer.learning_rate.assign(current_learning_rate)\n",
    "        num_epochs_no_improvement = 0"
   ],
   "metadata": {
    "collapsed": false,
    "ExecuteTime": {
     "start_time": "2023-05-01T19:33:19.633516Z",
     "end_time": "2023-05-01T19:35:25.587869Z"
    }
   }
  },
  {
   "cell_type": "code",
   "execution_count": 39,
   "outputs": [
    {
     "data": {
      "text/plain": "<Figure size 432x288 with 1 Axes>",
      "image/png": "[encoded data removed]"
     },
     "metadata": {
      "needs_background": "light"
     },
     "output_type": "display_data"
    }
   ],
   "source": [
    "train_accuracy = history['accuracy']\n",
    "val_accuracy = history['val_accuracy']\n",
    "\n",
    "epochs_range = range(1, epochs + 1)\n",
    "\n",
    "plt.plot(epochs_range, train_accuracy, label='Training Accuracy')\n",
    "plt.plot(epochs_range, val_accuracy, label='Validation Accuracy')\n",
    "\n",
    "plt.legend()\n",
    "plt.title('Training and Validation Accuracy in binary')\n",
    "plt.xlabel('Epoch')\n",
    "plt.ylabel('Accuracy')\n",
    "\n",
    "plt.show()"
   ],
   "metadata": {
    "collapsed": false,
    "ExecuteTime": {
     "start_time": "2023-05-01T19:35:34.625788Z",
     "end_time": "2023-05-01T19:35:34.705306Z"
    }
   }
  },
  {
   "cell_type": "code",
   "execution_count": 40,
   "outputs": [
    {
     "name": "stdout",
     "output_type": "stream",
     "text": [
      "62/62 [==============================] - 2s 25ms/step - loss: 0.9703 - accuracy: 0.8288\n",
      "Loss: 0.9703, Accuracy: 0.8288\n"
     ]
    }
   ],
   "source": [
    "loss, accuracy = model_categorical.evaluate(test_cellType_generator)\n",
    "print(f\"Loss: {loss:.4f}, Accuracy: {accuracy:.4f}\")"
   ],
   "metadata": {
    "collapsed": false,
    "ExecuteTime": {
     "start_time": "2023-05-01T19:35:36.733118Z",
     "end_time": "2023-05-01T19:35:38.496172Z"
    }
   }
  }
 ],
 "metadata": {
  "kernelspec": {
   "display_name": "Python 3",
   "language": "python",
   "name": "python3"
  },
  "language_info": {
   "codemirror_mode": {
    "name": "ipython",
    "version": 2
   },
   "file_extension": ".py",
   "mimetype": "text/x-python",
   "name": "python",
   "nbconvert_exporter": "python",
   "pygments_lexer": "ipython2",
   "version": "2.7.6"
  }
 },
 "nbformat": 4,
 "nbformat_minor": 0
}
