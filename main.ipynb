{
 "cells": [
  {
   "cell_type": "markdown",
   "source": [
    "导包"
   ],
   "metadata": {
    "collapsed": false
   }
  },
  {
   "cell_type": "code",
   "execution_count": 49,
   "metadata": {
    "collapsed": true,
    "ExecuteTime": {
     "start_time": "2023-04-29T13:34:32.974029Z",
     "end_time": "2023-04-29T13:34:32.984769Z"
    }
   },
   "outputs": [],
   "source": [
    "import pandas as pd\n",
    "import matplotlib.pyplot as plt\n",
    "import numpy as np\n",
    "import tensorflow as tf\n",
    "# import tensorflow_addons as tfa\n",
    "from sklearn.model_selection import train_test_split\n",
    "from tqdm import tqdm\n",
    "import math"
   ]
  },
  {
   "cell_type": "markdown",
   "source": [
    "获取主数据集\n",
    "test_data 为不可见数据集"
   ],
   "metadata": {
    "collapsed": false
   }
  },
  {
   "cell_type": "code",
   "execution_count": 50,
   "outputs": [],
   "source": [
    "data = pd.read_csv('./Image_classification_data/data_labels_mainData.csv')\n",
    "data['isCancerous'] = data['isCancerous'].astype(str)\n",
    "data['cellType'] = data['cellType'].astype(str)\n",
    "undivided_train_data, test_data = train_test_split(data, test_size=0.2, random_state=42)\n",
    "train_data, val_data = train_test_split(undivided_train_data, test_size=0.2, random_state=42)"
   ],
   "metadata": {
    "collapsed": false,
    "ExecuteTime": {
     "start_time": "2023-04-29T13:34:39.368310Z",
     "end_time": "2023-04-29T13:34:39.385286Z"
    }
   }
  },
  {
   "cell_type": "code",
   "execution_count": 51,
   "outputs": [
    {
     "data": {
      "text/plain": "([0, 1], [Text(0, 0, '0'), Text(1, 0, '1')])"
     },
     "execution_count": 51,
     "metadata": {},
     "output_type": "execute_result"
    },
    {
     "data": {
      "text/plain": "<Figure size 432x288 with 1 Axes>",
      "image/png": "[encoded data removed]"
     },
     "metadata": {
      "needs_background": "light"
     },
     "output_type": "display_data"
    }
   ],
   "source": [
    "plt.hist(train_data['isCancerous'], alpha=0.3, color='b', label='Train', density=True)\n",
    "plt.hist(test_data['isCancerous'], alpha=0.3, color='r', label='Test',  density=True)\n",
    "plt.hist(val_data['isCancerous'], alpha=0.3, color='g', label='Val',  density=True)\n",
    "plt.title('isCancerous')\n",
    "plt.xticks(rotation='vertical')"
   ],
   "metadata": {
    "collapsed": false,
    "ExecuteTime": {
     "start_time": "2023-04-29T13:34:40.576163Z",
     "end_time": "2023-04-29T13:34:40.646638Z"
    }
   }
  },
  {
   "cell_type": "code",
   "execution_count": 52,
   "outputs": [
    {
     "data": {
      "text/plain": "([0, 1, 2, 3],\n [Text(0, 0, '1'), Text(1, 0, '0'), Text(2, 0, '2'), Text(3, 0, '3')])"
     },
     "execution_count": 52,
     "metadata": {},
     "output_type": "execute_result"
    },
    {
     "data": {
      "text/plain": "<Figure size 432x288 with 1 Axes>",
      "image/png": "[encoded data removed]"
     },
     "metadata": {
      "needs_background": "light"
     },
     "output_type": "display_data"
    }
   ],
   "source": [
    "plt.hist(train_data['cellType'], alpha=0.3, color='b', label='Train', density=True)\n",
    "plt.hist(test_data['cellType'], alpha=0.3, color='r', label='Test',  density=True)\n",
    "plt.hist(val_data['cellType'], alpha=0.3, color='g', density=True)\n",
    "plt.title('cellType')\n",
    "plt.xticks(rotation='vertical')"
   ],
   "metadata": {
    "collapsed": false,
    "ExecuteTime": {
     "start_time": "2023-04-29T13:34:42.042439Z",
     "end_time": "2023-04-29T13:34:42.116181Z"
    }
   }
  },
  {
   "cell_type": "code",
   "execution_count": 53,
   "outputs": [],
   "source": [
    "class_samples_isCancerous = train_data['isCancerous'].value_counts()\n",
    "total_samples = np.sum(class_samples_isCancerous)\n",
    "class_weights_isCancerous = total_samples / class_samples_isCancerous\n",
    "class_weight_dict_isCancerous = {int(k): v for k, v in class_weights_isCancerous.to_dict().items()}\n",
    "\n",
    "class_samples_cellType = train_data['cellType'].value_counts()\n",
    "total_samples = np.sum(class_samples_cellType)\n",
    "class_weights_cellType = total_samples / class_samples_cellType\n",
    "class_weight_dict_cellType = {int(k): v for k, v in class_weights_cellType.to_dict().items()}"
   ],
   "metadata": {
    "collapsed": false,
    "ExecuteTime": {
     "start_time": "2023-04-29T13:34:43.924558Z",
     "end_time": "2023-04-29T13:34:43.928342Z"
    }
   }
  },
  {
   "cell_type": "code",
   "execution_count": 54,
   "outputs": [
    {
     "name": "stdout",
     "output_type": "stream",
     "text": [
      "Found 6332 validated image filenames belonging to 2 classes.\n",
      "Found 1584 validated image filenames belonging to 2 classes.\n",
      "Found 1980 validated image filenames belonging to 2 classes.\n"
     ]
    }
   ],
   "source": [
    "batch_size = 32\n",
    "train_datagen = tf.keras.preprocessing.image.ImageDataGenerator(\n",
    "    rescale=1./255,\n",
    "    rotation_range=40,\n",
    "    width_shift_range=0.2,\n",
    "    height_shift_range=0.2,\n",
    "    shear_range=0.2,\n",
    "    zoom_range=0.2,\n",
    "    horizontal_flip=True,\n",
    "    vertical_flip=True,\n",
    "    fill_mode='nearest'\n",
    ")\n",
    "\n",
    "val_datagen = tf.keras.preprocessing.image.ImageDataGenerator(\n",
    "    rescale=1./255\n",
    ")\n",
    "\n",
    "test_datagen = tf.keras.preprocessing.image.ImageDataGenerator(\n",
    "    rescale=1./255\n",
    ")\n",
    "\n",
    "train_isCancerous_generator = train_datagen.flow_from_dataframe(\n",
    "    train_data,\n",
    "    directory='./Image_classification_data/patch_images',\n",
    "    x_col='ImageName',\n",
    "    y_col='isCancerous',\n",
    "    target_size=(27, 27),\n",
    "    batch_size=batch_size,\n",
    "    class_mode='binary')\n",
    "\n",
    "val_isCancerous_generator = val_datagen.flow_from_dataframe(\n",
    "    val_data,\n",
    "    directory='./Image_classification_data/patch_images',\n",
    "    x_col='ImageName',\n",
    "    y_col='isCancerous',\n",
    "    target_size=(27, 27),\n",
    "    batch_size=batch_size,\n",
    "    class_mode='binary')\n",
    "\n",
    "test_isCancerous_generator = test_datagen.flow_from_dataframe(\n",
    "    test_data,\n",
    "    directory='./Image_classification_data/patch_images',\n",
    "    x_col='ImageName',\n",
    "    y_col='isCancerous',\n",
    "    target_size=(27, 27),\n",
    "    batch_size=batch_size,\n",
    "    class_mode='binary')"
   ],
   "metadata": {
    "collapsed": false,
    "ExecuteTime": {
     "start_time": "2023-04-29T13:34:45.628613Z",
     "end_time": "2023-04-29T13:34:45.728009Z"
    }
   }
  },
  {
   "cell_type": "code",
   "execution_count": 55,
   "outputs": [
    {
     "name": "stdout",
     "output_type": "stream",
     "text": [
      "Found 6332 validated image filenames belonging to 4 classes.\n",
      "Found 1584 validated image filenames belonging to 4 classes.\n",
      "Found 1980 validated image filenames belonging to 4 classes.\n"
     ]
    }
   ],
   "source": [
    "train_cellType_generator = train_datagen.flow_from_dataframe(\n",
    "    train_data,\n",
    "    directory='./Image_classification_data/patch_images',\n",
    "    x_col='ImageName',\n",
    "    y_col='cellType',\n",
    "    target_size=(27, 27),\n",
    "    batch_size=batch_size,\n",
    "    class_mode='categorical')\n",
    "\n",
    "val_cellType_generator = val_datagen.flow_from_dataframe(\n",
    "    val_data,\n",
    "    directory='./Image_classification_data/patch_images',\n",
    "    x_col='ImageName',\n",
    "    y_col='cellType',\n",
    "    target_size=(27, 27),\n",
    "    batch_size=batch_size,\n",
    "    class_mode='categorical')\n",
    "\n",
    "test_cellType_generator = test_datagen.flow_from_dataframe(\n",
    "    test_data,\n",
    "    directory='./Image_classification_data/patch_images',\n",
    "    x_col='ImageName',\n",
    "    y_col='cellType',\n",
    "    target_size=(27, 27),\n",
    "    batch_size=batch_size,\n",
    "    class_mode='categorical')"
   ],
   "metadata": {
    "collapsed": false,
    "ExecuteTime": {
     "start_time": "2023-04-29T13:34:46.977557Z",
     "end_time": "2023-04-29T13:34:47.072351Z"
    }
   }
  },
  {
   "cell_type": "markdown",
   "source": [
    "两层卷积一层池化，32，64。两层512感知器。"
   ],
   "metadata": {
    "collapsed": false
   }
  },
  {
   "cell_type": "code",
   "execution_count": 89,
   "outputs": [
    {
     "name": "stdout",
     "output_type": "stream",
     "text": [
      "Model: \"sequential_15\"\n",
      "_________________________________________________________________\n",
      " Layer (type)                Output Shape              Param #   \n",
      "=================================================================\n",
      " conv2d_60 (Conv2D)          (None, 27, 27, 32)        896       \n",
      "                                                                 \n",
      " batch_normalization_90 (Bat  (None, 27, 27, 32)       128       \n",
      " chNormalization)                                                \n",
      "                                                                 \n",
      " conv2d_61 (Conv2D)          (None, 25, 25, 32)        9248      \n",
      "                                                                 \n",
      " batch_normalization_91 (Bat  (None, 25, 25, 32)       128       \n",
      " chNormalization)                                                \n",
      "                                                                 \n",
      " max_pooling2d_30 (MaxPoolin  (None, 12, 12, 32)       0         \n",
      " g2D)                                                            \n",
      "                                                                 \n",
      " conv2d_62 (Conv2D)          (None, 12, 12, 64)        18496     \n",
      "                                                                 \n",
      " batch_normalization_92 (Bat  (None, 12, 12, 64)       256       \n",
      " chNormalization)                                                \n",
      "                                                                 \n",
      " conv2d_63 (Conv2D)          (None, 10, 10, 64)        36928     \n",
      "                                                                 \n",
      " batch_normalization_93 (Bat  (None, 10, 10, 64)       256       \n",
      " chNormalization)                                                \n",
      "                                                                 \n",
      " max_pooling2d_31 (MaxPoolin  (None, 5, 5, 64)         0         \n",
      " g2D)                                                            \n",
      "                                                                 \n",
      " flatten_15 (Flatten)        (None, 1600)              0         \n",
      "                                                                 \n",
      " dense_45 (Dense)            (None, 512)               819712    \n",
      "                                                                 \n",
      " batch_normalization_94 (Bat  (None, 512)              2048      \n",
      " chNormalization)                                                \n",
      "                                                                 \n",
      " dropout_30 (Dropout)        (None, 512)               0         \n",
      "                                                                 \n",
      " dense_46 (Dense)            (None, 512)               262656    \n",
      "                                                                 \n",
      " batch_normalization_95 (Bat  (None, 512)              2048      \n",
      " chNormalization)                                                \n",
      "                                                                 \n",
      " dropout_31 (Dropout)        (None, 512)               0         \n",
      "                                                                 \n",
      " dense_47 (Dense)            (None, 1)                 513       \n",
      "                                                                 \n",
      "=================================================================\n",
      "Total params: 1,153,313\n",
      "Trainable params: 1,150,881\n",
      "Non-trainable params: 2,432\n",
      "_________________________________________________________________\n"
     ]
    }
   ],
   "source": [
    "input_shape = (27, 27, 3)\n",
    "num_classes = 4\n",
    "l2_coeff = 0.01\n",
    "\n",
    "model_binary = tf.keras.models.Sequential([\n",
    "    tf.keras.layers.Conv2D(32, (3,3), activation='relu', input_shape=input_shape, padding='same', kernel_regularizer=tf.keras.regularizers.l2(l2_coeff)),\n",
    "    tf.keras.layers.BatchNormalization(),\n",
    "    tf.keras.layers.Conv2D(32, (3,3), activation='relu', kernel_regularizer=tf.keras.regularizers.l2(l2_coeff)),\n",
    "    tf.keras.layers.BatchNormalization(),\n",
    "    tf.keras.layers.MaxPooling2D(2, 2),\n",
    "    tf.keras.layers.Conv2D(64, (3,3), activation='relu', padding='same', kernel_regularizer=tf.keras.regularizers.l2(l2_coeff)),\n",
    "    tf.keras.layers.BatchNormalization(),\n",
    "    tf.keras.layers.Conv2D(64, (3,3), activation='relu', kernel_regularizer=tf.keras.regularizers.l2(l2_coeff)),\n",
    "    tf.keras.layers.BatchNormalization(),\n",
    "    tf.keras.layers.MaxPooling2D(2, 2),\n",
    "    tf.keras.layers.Flatten(),\n",
    "    tf.keras.layers.Dense(512, activation='relu', kernel_regularizer=tf.keras.regularizers.l2(l2_coeff)),\n",
    "    tf.keras.layers.BatchNormalization(),\n",
    "    tf.keras.layers.Dropout(0.2),\n",
    "    tf.keras.layers.Dense(512, activation='relu', kernel_regularizer=tf.keras.regularizers.l2(l2_coeff)),\n",
    "    tf.keras.layers.BatchNormalization(),\n",
    "    tf.keras.layers.Dropout(0.2),\n",
    "    tf.keras.layers.Dense(1, activation='sigmoid')\n",
    "])\n",
    "model_binary.summary()"
   ],
   "metadata": {
    "collapsed": false,
    "ExecuteTime": {
     "start_time": "2023-04-28T17:17:22.222372Z",
     "end_time": "2023-04-28T17:17:22.316733Z"
    }
   }
  },
  {
   "cell_type": "code",
   "execution_count": 113,
   "outputs": [
    {
     "name": "stdout",
     "output_type": "stream",
     "text": [
      "Model: \"sequential_20\"\n",
      "_________________________________________________________________\n",
      " Layer (type)                Output Shape              Param #   \n",
      "=================================================================\n",
      " conv2d_80 (Conv2D)          (None, 27, 27, 32)        896       \n",
      "                                                                 \n",
      " batch_normalization_120 (Ba  (None, 27, 27, 32)       128       \n",
      " tchNormalization)                                               \n",
      "                                                                 \n",
      " conv2d_81 (Conv2D)          (None, 25, 25, 32)        9248      \n",
      "                                                                 \n",
      " batch_normalization_121 (Ba  (None, 25, 25, 32)       128       \n",
      " tchNormalization)                                               \n",
      "                                                                 \n",
      " max_pooling2d_40 (MaxPoolin  (None, 12, 12, 32)       0         \n",
      " g2D)                                                            \n",
      "                                                                 \n",
      " conv2d_82 (Conv2D)          (None, 12, 12, 64)        18496     \n",
      "                                                                 \n",
      " batch_normalization_122 (Ba  (None, 12, 12, 64)       256       \n",
      " tchNormalization)                                               \n",
      "                                                                 \n",
      " conv2d_83 (Conv2D)          (None, 10, 10, 64)        36928     \n",
      "                                                                 \n",
      " batch_normalization_123 (Ba  (None, 10, 10, 64)       256       \n",
      " tchNormalization)                                               \n",
      "                                                                 \n",
      " max_pooling2d_41 (MaxPoolin  (None, 5, 5, 64)         0         \n",
      " g2D)                                                            \n",
      "                                                                 \n",
      " flatten_20 (Flatten)        (None, 1600)              0         \n",
      "                                                                 \n",
      " dense_60 (Dense)            (None, 512)               819712    \n",
      "                                                                 \n",
      " batch_normalization_124 (Ba  (None, 512)              2048      \n",
      " tchNormalization)                                               \n",
      "                                                                 \n",
      " dropout_40 (Dropout)        (None, 512)               0         \n",
      "                                                                 \n",
      " dense_61 (Dense)            (None, 512)               262656    \n",
      "                                                                 \n",
      " batch_normalization_125 (Ba  (None, 512)              2048      \n",
      " tchNormalization)                                               \n",
      "                                                                 \n",
      " dropout_41 (Dropout)        (None, 512)               0         \n",
      "                                                                 \n",
      " dense_62 (Dense)            (None, 4)                 2052      \n",
      "                                                                 \n",
      "=================================================================\n",
      "Total params: 1,154,852\n",
      "Trainable params: 1,152,420\n",
      "Non-trainable params: 2,432\n",
      "_________________________________________________________________\n"
     ]
    }
   ],
   "source": [
    "model_categorical = tf.keras.models.Sequential([\n",
    "    tf.keras.layers.Conv2D(32, (3,3), activation='relu', input_shape=input_shape, padding='same', kernel_regularizer=tf.keras.regularizers.l2(l2_coeff)),\n",
    "    tf.keras.layers.BatchNormalization(),\n",
    "    tf.keras.layers.Conv2D(32, (3,3), activation='relu', kernel_regularizer=tf.keras.regularizers.l2(l2_coeff)),\n",
    "    tf.keras.layers.BatchNormalization(),\n",
    "    tf.keras.layers.MaxPooling2D(2, 2),\n",
    "    tf.keras.layers.Conv2D(64, (3,3), activation='relu', padding='same', kernel_regularizer=tf.keras.regularizers.l2(l2_coeff)),\n",
    "    tf.keras.layers.BatchNormalization(),\n",
    "    tf.keras.layers.Conv2D(64, (3,3), activation='relu', kernel_regularizer=tf.keras.regularizers.l2(l2_coeff)),\n",
    "    tf.keras.layers.BatchNormalization(),\n",
    "    tf.keras.layers.MaxPooling2D(2, 2),\n",
    "    tf.keras.layers.Flatten(),\n",
    "    tf.keras.layers.Dense(512, activation='relu', kernel_regularizer=tf.keras.regularizers.l2(l2_coeff)),\n",
    "    tf.keras.layers.BatchNormalization(),\n",
    "    tf.keras.layers.Dropout(0.2),\n",
    "    tf.keras.layers.Dense(512, activation='relu', kernel_regularizer=tf.keras.regularizers.l2(l2_coeff)),\n",
    "    tf.keras.layers.BatchNormalization(),\n",
    "    tf.keras.layers.Dropout(0.2),\n",
    "    tf.keras.layers.Dense(num_classes, activation='softmax')\n",
    "])\n",
    "model_categorical.summary()"
   ],
   "metadata": {
    "collapsed": false,
    "ExecuteTime": {
     "start_time": "2023-04-28T18:29:46.116754Z",
     "end_time": "2023-04-28T18:29:46.202259Z"
    }
   }
  },
  {
   "cell_type": "code",
   "execution_count": 114,
   "outputs": [],
   "source": [
    "model_binary.compile(loss='binary_crossentropy',\n",
    "              optimizer=tf.keras.optimizers.legacy.Adam(learning_rate=0.0001),\n",
    "              metrics=['accuracy'])\n",
    "\n",
    "model_categorical.compile(loss='categorical_crossentropy',\n",
    "              optimizer=tf.keras.optimizers.legacy.Adam(learning_rate=0.0005), metrics=['accuracy'])"
   ],
   "metadata": {
    "collapsed": false,
    "ExecuteTime": {
     "start_time": "2023-04-28T18:29:49.019844Z",
     "end_time": "2023-04-28T18:29:49.033195Z"
    }
   }
  },
  {
   "cell_type": "code",
   "execution_count": 55,
   "outputs": [
    {
     "name": "stdout",
     "output_type": "stream",
     "text": [
      "Epoch 1/100\n",
      "197/197 [==============================] - 10s 47ms/step - loss: 14.5660 - accuracy: 0.8124 - val_loss: 14.6045 - val_accuracy: 0.4114 - lr: 1.0000e-04\n",
      "Epoch 2/100\n",
      "197/197 [==============================] - 8s 41ms/step - loss: 13.2736 - accuracy: 0.8437 - val_loss: 12.6382 - val_accuracy: 0.6971 - lr: 1.0000e-04\n",
      "Epoch 3/100\n",
      "197/197 [==============================] - 8s 42ms/step - loss: 12.2033 - accuracy: 0.8554 - val_loss: 11.4967 - val_accuracy: 0.7883 - lr: 1.0000e-04\n",
      "Epoch 4/100\n",
      "197/197 [==============================] - 9s 44ms/step - loss: 11.2488 - accuracy: 0.8630 - val_loss: 10.4482 - val_accuracy: 0.8807 - lr: 1.0000e-04\n",
      "Epoch 5/100\n",
      "197/197 [==============================] - 9s 44ms/step - loss: 10.3964 - accuracy: 0.8681 - val_loss: 9.6345 - val_accuracy: 0.8865 - lr: 1.0000e-04\n",
      "Epoch 6/100\n",
      "197/197 [==============================] - 9s 45ms/step - loss: 9.6395 - accuracy: 0.8678 - val_loss: 8.9217 - val_accuracy: 0.8897 - lr: 1.0000e-04\n",
      "Epoch 7/100\n",
      "197/197 [==============================] - 8s 42ms/step - loss: 8.9582 - accuracy: 0.8735 - val_loss: 8.2599 - val_accuracy: 0.8865 - lr: 1.0000e-04\n",
      "Epoch 8/100\n",
      "197/197 [==============================] - 8s 42ms/step - loss: 8.2743 - accuracy: 0.8737 - val_loss: 7.6175 - val_accuracy: 0.8948 - lr: 1.0000e-04\n",
      "Epoch 9/100\n",
      "197/197 [==============================] - 8s 41ms/step - loss: 7.6870 - accuracy: 0.8759 - val_loss: 7.0441 - val_accuracy: 0.9011 - lr: 1.0000e-04\n",
      "Epoch 10/100\n",
      "197/197 [==============================] - 8s 42ms/step - loss: 7.1163 - accuracy: 0.8840 - val_loss: 6.5273 - val_accuracy: 0.8954 - lr: 1.0000e-04\n",
      "Epoch 11/100\n",
      "197/197 [==============================] - 8s 41ms/step - loss: 6.5914 - accuracy: 0.8854 - val_loss: 6.0466 - val_accuracy: 0.8858 - lr: 1.0000e-04\n",
      "Epoch 12/100\n",
      "197/197 [==============================] - 8s 40ms/step - loss: 6.0985 - accuracy: 0.8862 - val_loss: 5.5642 - val_accuracy: 0.8986 - lr: 1.0000e-04\n",
      "Epoch 13/100\n",
      "197/197 [==============================] - 8s 40ms/step - loss: 5.6485 - accuracy: 0.8898 - val_loss: 5.1568 - val_accuracy: 0.9043 - lr: 1.0000e-04\n",
      "Epoch 14/100\n",
      "197/197 [==============================] - 8s 41ms/step - loss: 5.2566 - accuracy: 0.8900 - val_loss: 4.7368 - val_accuracy: 0.9114 - lr: 1.0000e-04\n",
      "Epoch 15/100\n",
      "197/197 [==============================] - 8s 41ms/step - loss: 4.8628 - accuracy: 0.8905 - val_loss: 4.3566 - val_accuracy: 0.9126 - lr: 1.0000e-04\n",
      "Epoch 16/100\n",
      "197/197 [==============================] - 8s 42ms/step - loss: 4.4992 - accuracy: 0.8933 - val_loss: 4.0194 - val_accuracy: 0.9171 - lr: 1.0000e-04\n",
      "Epoch 17/100\n",
      "197/197 [==============================] - 8s 42ms/step - loss: 4.1764 - accuracy: 0.8944 - val_loss: 3.7108 - val_accuracy: 0.9069 - lr: 1.0000e-04\n",
      "Epoch 18/100\n",
      "197/197 [==============================] - 8s 42ms/step - loss: 3.8600 - accuracy: 0.8997 - val_loss: 3.4207 - val_accuracy: 0.9126 - lr: 1.0000e-04\n",
      "Epoch 19/100\n",
      "197/197 [==============================] - 8s 43ms/step - loss: 3.5882 - accuracy: 0.8921 - val_loss: 3.1628 - val_accuracy: 0.9145 - lr: 1.0000e-04\n",
      "Epoch 20/100\n",
      "197/197 [==============================] - 8s 43ms/step - loss: 3.3156 - accuracy: 0.9010 - val_loss: 2.8949 - val_accuracy: 0.9165 - lr: 1.0000e-04\n",
      "Epoch 21/100\n",
      "197/197 [==============================] - 8s 40ms/step - loss: 3.0726 - accuracy: 0.9016 - val_loss: 2.6764 - val_accuracy: 0.9133 - lr: 1.0000e-04\n",
      "Epoch 22/100\n",
      "197/197 [==============================] - 8s 39ms/step - loss: 2.8683 - accuracy: 0.8986 - val_loss: 2.4795 - val_accuracy: 0.9177 - lr: 1.0000e-04\n",
      "Epoch 23/100\n",
      "197/197 [==============================] - 8s 40ms/step - loss: 2.6743 - accuracy: 0.9033 - val_loss: 2.2821 - val_accuracy: 0.9152 - lr: 1.0000e-04\n",
      "Epoch 24/100\n",
      "197/197 [==============================] - 8s 41ms/step - loss: 2.4873 - accuracy: 0.9060 - val_loss: 2.1181 - val_accuracy: 0.9171 - lr: 1.0000e-04\n",
      "Epoch 25/100\n",
      "197/197 [==============================] - 8s 41ms/step - loss: 2.3407 - accuracy: 0.9002 - val_loss: 1.9948 - val_accuracy: 0.9101 - lr: 1.0000e-04\n",
      "Epoch 26/100\n",
      "197/197 [==============================] - 8s 40ms/step - loss: 2.1992 - accuracy: 0.9000 - val_loss: 1.8593 - val_accuracy: 0.9062 - lr: 1.0000e-04\n",
      "Epoch 27/100\n",
      "197/197 [==============================] - 8s 43ms/step - loss: 2.0452 - accuracy: 0.9016 - val_loss: 1.7407 - val_accuracy: 0.9133 - lr: 1.0000e-04\n",
      "Epoch 28/100\n",
      "197/197 [==============================] - 8s 42ms/step - loss: 1.9175 - accuracy: 0.9030 - val_loss: 1.5917 - val_accuracy: 0.9171 - lr: 1.0000e-04\n",
      "Epoch 29/100\n",
      "197/197 [==============================] - 8s 41ms/step - loss: 1.8051 - accuracy: 0.9086 - val_loss: 1.5133 - val_accuracy: 0.9120 - lr: 1.0000e-04\n",
      "Epoch 30/100\n",
      "197/197 [==============================] - 8s 42ms/step - loss: 1.7229 - accuracy: 0.9013 - val_loss: 1.3887 - val_accuracy: 0.9235 - lr: 1.0000e-04\n",
      "Epoch 31/100\n",
      "197/197 [==============================] - 9s 43ms/step - loss: 1.5951 - accuracy: 0.9124 - val_loss: 1.3088 - val_accuracy: 0.9171 - lr: 1.0000e-04\n",
      "Epoch 32/100\n",
      "197/197 [==============================] - 8s 41ms/step - loss: 1.5445 - accuracy: 0.9052 - val_loss: 1.2093 - val_accuracy: 0.9305 - lr: 1.0000e-04\n",
      "Epoch 33/100\n",
      "197/197 [==============================] - 8s 42ms/step - loss: 1.4635 - accuracy: 0.9100 - val_loss: 1.1948 - val_accuracy: 0.8986 - lr: 1.0000e-04\n",
      "Epoch 34/100\n",
      "197/197 [==============================] - 8s 41ms/step - loss: 1.4157 - accuracy: 0.9097 - val_loss: 1.0914 - val_accuracy: 0.9286 - lr: 1.0000e-04\n",
      "Epoch 35/100\n",
      "197/197 [==============================] - 9s 44ms/step - loss: 1.3306 - accuracy: 0.9105 - val_loss: 1.0418 - val_accuracy: 0.9222 - lr: 1.0000e-04\n",
      "Epoch 36/100\n",
      "197/197 [==============================] - 8s 42ms/step - loss: 1.2881 - accuracy: 0.9084 - val_loss: 1.0285 - val_accuracy: 0.8973 - lr: 1.0000e-04\n",
      "Epoch 37/100\n",
      "197/197 [==============================] - 8s 43ms/step - loss: 1.2372 - accuracy: 0.9083 - val_loss: 0.9570 - val_accuracy: 0.9260 - lr: 1.0000e-04\n",
      "Epoch 38/100\n",
      "197/197 [==============================] - 8s 43ms/step - loss: 1.1967 - accuracy: 0.9083 - val_loss: 0.9104 - val_accuracy: 0.9260 - lr: 1.0000e-04\n",
      "Epoch 39/100\n",
      "197/197 [==============================] - 9s 44ms/step - loss: 1.1549 - accuracy: 0.9095 - val_loss: 0.8748 - val_accuracy: 0.9235 - lr: 1.0000e-04\n",
      "Epoch 40/100\n",
      "197/197 [==============================] - 9s 45ms/step - loss: 1.1225 - accuracy: 0.9098 - val_loss: 0.8327 - val_accuracy: 0.9273 - lr: 1.0000e-04\n",
      "Epoch 41/100\n",
      "197/197 [==============================] - 9s 44ms/step - loss: 1.0818 - accuracy: 0.9121 - val_loss: 0.8170 - val_accuracy: 0.9190 - lr: 1.0000e-04\n",
      "Epoch 42/100\n",
      "197/197 [==============================] - 9s 44ms/step - loss: 1.0504 - accuracy: 0.9076 - val_loss: 0.7682 - val_accuracy: 0.9279 - lr: 1.0000e-04\n",
      "Epoch 43/100\n",
      "197/197 [==============================] - 9s 43ms/step - loss: 1.0065 - accuracy: 0.9190 - val_loss: 0.7447 - val_accuracy: 0.9292 - lr: 1.0000e-04\n",
      "Epoch 44/100\n",
      "197/197 [==============================] - 8s 42ms/step - loss: 0.9765 - accuracy: 0.9149 - val_loss: 0.7239 - val_accuracy: 0.9273 - lr: 1.0000e-04\n",
      "Epoch 45/100\n",
      "197/197 [==============================] - 8s 41ms/step - loss: 0.9680 - accuracy: 0.9133 - val_loss: 0.7135 - val_accuracy: 0.9165 - lr: 1.0000e-04\n",
      "Epoch 46/100\n",
      "197/197 [==============================] - 8s 43ms/step - loss: 0.9547 - accuracy: 0.9117 - val_loss: 0.7221 - val_accuracy: 0.9037 - lr: 1.0000e-04\n",
      "Epoch 47/100\n",
      "197/197 [==============================] - 8s 41ms/step - loss: 0.9177 - accuracy: 0.9151 - val_loss: 0.6816 - val_accuracy: 0.9247 - lr: 1.0000e-04\n",
      "Epoch 48/100\n",
      "197/197 [==============================] - 8s 39ms/step - loss: 0.9252 - accuracy: 0.9070 - val_loss: 0.6369 - val_accuracy: 0.9311 - lr: 1.0000e-04\n",
      "Epoch 49/100\n",
      "197/197 [==============================] - 8s 40ms/step - loss: 0.8963 - accuracy: 0.9159 - val_loss: 0.6976 - val_accuracy: 0.8878 - lr: 1.0000e-04\n",
      "Epoch 50/100\n",
      "197/197 [==============================] - 8s 39ms/step - loss: 0.8868 - accuracy: 0.9079 - val_loss: 0.6498 - val_accuracy: 0.9069 - lr: 1.0000e-04\n",
      "Epoch 51/100\n",
      "197/197 [==============================] - 8s 41ms/step - loss: 0.8790 - accuracy: 0.9078 - val_loss: 0.6342 - val_accuracy: 0.9152 - lr: 1.0000e-04\n",
      "Epoch 52/100\n",
      "197/197 [==============================] - 8s 41ms/step - loss: 0.8451 - accuracy: 0.9160 - val_loss: 0.6036 - val_accuracy: 0.9254 - lr: 1.0000e-04\n",
      "Epoch 53/100\n",
      "197/197 [==============================] - 8s 40ms/step - loss: 0.8455 - accuracy: 0.9110 - val_loss: 0.6382 - val_accuracy: 0.8948 - lr: 1.0000e-04\n",
      "Epoch 54/100\n",
      "197/197 [==============================] - 8s 40ms/step - loss: 0.8230 - accuracy: 0.9135 - val_loss: 0.6019 - val_accuracy: 0.9190 - lr: 1.0000e-04\n",
      "Epoch 55/100\n",
      "197/197 [==============================] - 8s 41ms/step - loss: 0.8185 - accuracy: 0.9098 - val_loss: 0.5667 - val_accuracy: 0.9228 - lr: 1.0000e-04\n",
      "Epoch 56/100\n",
      "197/197 [==============================] - 8s 41ms/step - loss: 0.7995 - accuracy: 0.9163 - val_loss: 0.5878 - val_accuracy: 0.9075 - lr: 1.0000e-04\n",
      "Epoch 57/100\n",
      "197/197 [==============================] - 8s 41ms/step - loss: 0.7986 - accuracy: 0.9144 - val_loss: 0.5582 - val_accuracy: 0.9228 - lr: 1.0000e-04\n",
      "Epoch 58/100\n",
      "197/197 [==============================] - 8s 41ms/step - loss: 0.7770 - accuracy: 0.9140 - val_loss: 0.6194 - val_accuracy: 0.8814 - lr: 1.0000e-04\n",
      "Epoch 59/100\n",
      "197/197 [==============================] - 8s 42ms/step - loss: 0.7691 - accuracy: 0.9137 - val_loss: 0.5123 - val_accuracy: 0.9343 - lr: 1.0000e-04\n",
      "Epoch 60/100\n",
      "197/197 [==============================] - 8s 41ms/step - loss: 0.7724 - accuracy: 0.9143 - val_loss: 0.5633 - val_accuracy: 0.9171 - lr: 1.0000e-04\n",
      "Epoch 61/100\n",
      "197/197 [==============================] - 8s 41ms/step - loss: 0.7641 - accuracy: 0.9149 - val_loss: 0.4934 - val_accuracy: 0.9337 - lr: 1.0000e-04\n",
      "Epoch 62/100\n",
      "197/197 [==============================] - 8s 42ms/step - loss: 0.7510 - accuracy: 0.9129 - val_loss: 0.5397 - val_accuracy: 0.9088 - lr: 1.0000e-04\n",
      "Epoch 63/100\n",
      "197/197 [==============================] - 8s 42ms/step - loss: 0.7400 - accuracy: 0.9170 - val_loss: 0.5664 - val_accuracy: 0.9024 - lr: 1.0000e-04\n",
      "Epoch 64/100\n",
      "197/197 [==============================] - 8s 42ms/step - loss: 0.7465 - accuracy: 0.9159 - val_loss: 0.5366 - val_accuracy: 0.9082 - lr: 1.0000e-04\n",
      "Epoch 65/100\n",
      "197/197 [==============================] - 8s 40ms/step - loss: 0.6949 - accuracy: 0.9237 - val_loss: 0.4757 - val_accuracy: 0.9343 - lr: 3.1623e-05\n",
      "Epoch 66/100\n",
      "197/197 [==============================] - 8s 41ms/step - loss: 0.6693 - accuracy: 0.9275 - val_loss: 0.4901 - val_accuracy: 0.9273 - lr: 3.1623e-05\n",
      "Epoch 67/100\n",
      "197/197 [==============================] - 8s 41ms/step - loss: 0.6721 - accuracy: 0.9260 - val_loss: 0.4663 - val_accuracy: 0.9337 - lr: 3.1623e-05\n",
      "Epoch 68/100\n",
      "197/197 [==============================] - 8s 43ms/step - loss: 0.6550 - accuracy: 0.9275 - val_loss: 0.4595 - val_accuracy: 0.9394 - lr: 3.1623e-05\n",
      "Epoch 69/100\n",
      "197/197 [==============================] - 8s 42ms/step - loss: 0.6638 - accuracy: 0.9251 - val_loss: 0.4403 - val_accuracy: 0.9381 - lr: 3.1623e-05\n",
      "Epoch 70/100\n",
      "197/197 [==============================] - 8s 43ms/step - loss: 0.6570 - accuracy: 0.9278 - val_loss: 0.4379 - val_accuracy: 0.9420 - lr: 3.1623e-05\n",
      "Epoch 71/100\n",
      "197/197 [==============================] - 8s 43ms/step - loss: 0.6406 - accuracy: 0.9300 - val_loss: 0.4531 - val_accuracy: 0.9343 - lr: 3.1623e-05\n",
      "Epoch 72/100\n",
      "197/197 [==============================] - 8s 42ms/step - loss: 0.6358 - accuracy: 0.9286 - val_loss: 0.4478 - val_accuracy: 0.9298 - lr: 3.1623e-05\n",
      "Epoch 73/100\n",
      "197/197 [==============================] - 8s 42ms/step - loss: 0.6612 - accuracy: 0.9246 - val_loss: 0.4411 - val_accuracy: 0.9362 - lr: 3.1623e-05\n",
      "Epoch 74/100\n",
      "197/197 [==============================] - 8s 42ms/step - loss: 0.6147 - accuracy: 0.9322 - val_loss: 0.4214 - val_accuracy: 0.9452 - lr: 1.0000e-05\n",
      "Epoch 75/100\n",
      "197/197 [==============================] - 8s 41ms/step - loss: 0.6213 - accuracy: 0.9322 - val_loss: 0.4148 - val_accuracy: 0.9458 - lr: 1.0000e-05\n",
      "Epoch 76/100\n",
      "197/197 [==============================] - 8s 41ms/step - loss: 0.6214 - accuracy: 0.9332 - val_loss: 0.4190 - val_accuracy: 0.9464 - lr: 1.0000e-05\n",
      "Epoch 77/100\n",
      "197/197 [==============================] - 8s 40ms/step - loss: 0.6207 - accuracy: 0.9322 - val_loss: 0.4194 - val_accuracy: 0.9432 - lr: 1.0000e-05\n",
      "Epoch 78/100\n",
      "197/197 [==============================] - 8s 41ms/step - loss: 0.6064 - accuracy: 0.9338 - val_loss: 0.4150 - val_accuracy: 0.9452 - lr: 1.0000e-05\n",
      "Epoch 79/100\n",
      "197/197 [==============================] - 8s 40ms/step - loss: 0.6019 - accuracy: 0.9327 - val_loss: 0.4155 - val_accuracy: 0.9452 - lr: 3.1623e-06\n",
      "Epoch 80/100\n",
      "197/197 [==============================] - 8s 40ms/step - loss: 0.6152 - accuracy: 0.9308 - val_loss: 0.4144 - val_accuracy: 0.9471 - lr: 3.1623e-06\n",
      "Epoch 81/100\n",
      "197/197 [==============================] - 8s 39ms/step - loss: 0.6037 - accuracy: 0.9319 - val_loss: 0.4126 - val_accuracy: 0.9464 - lr: 3.1623e-06\n",
      "Epoch 82/100\n",
      "197/197 [==============================] - 8s 41ms/step - loss: 0.6173 - accuracy: 0.9319 - val_loss: 0.4147 - val_accuracy: 0.9439 - lr: 3.1623e-06\n",
      "Epoch 83/100\n",
      "197/197 [==============================] - 8s 40ms/step - loss: 0.6110 - accuracy: 0.9351 - val_loss: 0.4126 - val_accuracy: 0.9471 - lr: 3.1623e-06\n",
      "Epoch 84/100\n",
      "197/197 [==============================] - 8s 40ms/step - loss: 0.5893 - accuracy: 0.9365 - val_loss: 0.4118 - val_accuracy: 0.9458 - lr: 3.1623e-06\n",
      "Epoch 85/100\n",
      "197/197 [==============================] - 8s 39ms/step - loss: 0.6007 - accuracy: 0.9365 - val_loss: 0.4096 - val_accuracy: 0.9490 - lr: 3.1623e-06\n",
      "Epoch 86/100\n",
      "197/197 [==============================] - 8s 40ms/step - loss: 0.6160 - accuracy: 0.9303 - val_loss: 0.4107 - val_accuracy: 0.9471 - lr: 3.1623e-06\n",
      "Epoch 87/100\n",
      "197/197 [==============================] - 8s 41ms/step - loss: 0.6010 - accuracy: 0.9367 - val_loss: 0.4104 - val_accuracy: 0.9458 - lr: 3.1623e-06\n",
      "Epoch 88/100\n",
      "197/197 [==============================] - 8s 42ms/step - loss: 0.5852 - accuracy: 0.9402 - val_loss: 0.4094 - val_accuracy: 0.9471 - lr: 3.1623e-06\n",
      "Epoch 89/100\n",
      "197/197 [==============================] - 8s 40ms/step - loss: 0.5945 - accuracy: 0.9365 - val_loss: 0.4113 - val_accuracy: 0.9439 - lr: 3.1623e-06\n",
      "Epoch 90/100\n",
      "197/197 [==============================] - 8s 38ms/step - loss: 0.5925 - accuracy: 0.9373 - val_loss: 0.4095 - val_accuracy: 0.9452 - lr: 3.1623e-06\n",
      "Epoch 91/100\n",
      "197/197 [==============================] - 8s 41ms/step - loss: 0.6076 - accuracy: 0.9333 - val_loss: 0.4103 - val_accuracy: 0.9439 - lr: 3.1623e-06\n",
      "Epoch 92/100\n",
      "197/197 [==============================] - 8s 42ms/step - loss: 0.5928 - accuracy: 0.9356 - val_loss: 0.4088 - val_accuracy: 0.9445 - lr: 1.0000e-06\n",
      "Epoch 93/100\n",
      "197/197 [==============================] - 8s 41ms/step - loss: 0.5928 - accuracy: 0.9335 - val_loss: 0.4074 - val_accuracy: 0.9464 - lr: 1.0000e-06\n",
      "Epoch 94/100\n",
      "197/197 [==============================] - 8s 42ms/step - loss: 0.6001 - accuracy: 0.9354 - val_loss: 0.4091 - val_accuracy: 0.9452 - lr: 1.0000e-06\n",
      "Epoch 95/100\n",
      "197/197 [==============================] - 8s 41ms/step - loss: 0.5905 - accuracy: 0.9376 - val_loss: 0.4079 - val_accuracy: 0.9452 - lr: 1.0000e-06\n",
      "Epoch 96/100\n",
      "197/197 [==============================] - 8s 41ms/step - loss: 0.6077 - accuracy: 0.9340 - val_loss: 0.4021 - val_accuracy: 0.9496 - lr: 1.0000e-06\n",
      "Epoch 97/100\n",
      "197/197 [==============================] - 8s 42ms/step - loss: 0.5832 - accuracy: 0.9379 - val_loss: 0.4068 - val_accuracy: 0.9477 - lr: 1.0000e-06\n",
      "Epoch 98/100\n",
      "197/197 [==============================] - 8s 42ms/step - loss: 0.5886 - accuracy: 0.9376 - val_loss: 0.4075 - val_accuracy: 0.9471 - lr: 1.0000e-06\n",
      "Epoch 99/100\n",
      "197/197 [==============================] - 8s 42ms/step - loss: 0.5947 - accuracy: 0.9368 - val_loss: 0.4073 - val_accuracy: 0.9464 - lr: 1.0000e-06\n",
      "Epoch 100/100\n",
      "197/197 [==============================] - 8s 40ms/step - loss: 0.5870 - accuracy: 0.9376 - val_loss: 0.4083 - val_accuracy: 0.9477 - lr: 3.1623e-07\n"
     ]
    }
   ],
   "source": [
    "epochs = 100\n",
    "lr_reducer = tf.keras.callbacks.ReduceLROnPlateau(monitor='val_loss', factor=np.sqrt(0.1), cooldown=0, patience=3, min_lr=0.5e-15)\n",
    "history_binary = model_binary.fit(\n",
    "    train_isCancerous_generator,\n",
    "    steps_per_epoch=len(train_data) // batch_size,\n",
    "    epochs=epochs,\n",
    "    validation_data=val_isCancerous_generator,\n",
    "    validation_steps=len(val_data) // batch_size,\n",
    "    class_weight=class_weight_dict_isCancerous\n",
    "    , callbacks=[lr_reducer]\n",
    ")"
   ],
   "metadata": {
    "collapsed": false,
    "ExecuteTime": {
     "start_time": "2023-04-28T15:55:51.089125Z",
     "end_time": "2023-04-28T16:09:29.779166Z"
    }
   }
  },
  {
   "cell_type": "code",
   "execution_count": 56,
   "outputs": [
    {
     "data": {
      "text/plain": "<Figure size 432x288 with 1 Axes>",
      "image/png": "[encoded data removed]"
     },
     "metadata": {
      "needs_background": "light"
     },
     "output_type": "display_data"
    }
   ],
   "source": [
    "train_loss = history_binary.history['loss']\n",
    "val_loss = history_binary.history['val_loss']\n",
    "\n",
    "epochs_range = range(1, epochs + 1)\n",
    "\n",
    "plt.plot(epochs_range, train_loss, label='Training Loss')\n",
    "plt.plot(epochs_range, val_loss, label='Validation Loss')\n",
    "\n",
    "plt.legend()\n",
    "plt.title('Training and Validation Loss in binary')\n",
    "plt.xlabel('Epoch')\n",
    "plt.ylabel('Loss')\n",
    "\n",
    "plt.show()"
   ],
   "metadata": {
    "collapsed": false,
    "ExecuteTime": {
     "start_time": "2023-04-28T16:09:29.797828Z",
     "end_time": "2023-04-28T16:09:29.846007Z"
    }
   }
  },
  {
   "cell_type": "code",
   "execution_count": 57,
   "outputs": [
    {
     "data": {
      "text/plain": "<Figure size 432x288 with 1 Axes>",
      "image/png": "[encoded data removed]"
     },
     "metadata": {
      "needs_background": "light"
     },
     "output_type": "display_data"
    }
   ],
   "source": [
    "train_accuracy = history_binary.history['accuracy']\n",
    "val_accuracy = history_binary.history['val_accuracy']\n",
    "\n",
    "epochs_range = range(1, epochs + 1)\n",
    "\n",
    "plt.plot(epochs_range, train_accuracy, label='Training Accuracy')\n",
    "plt.plot(epochs_range, val_accuracy, label='Validation Accuracy')\n",
    "\n",
    "plt.legend()\n",
    "plt.title('Training and Validation Accuracy in binary')\n",
    "plt.xlabel('Epoch')\n",
    "plt.ylabel('Accuracy')\n",
    "\n",
    "plt.show()"
   ],
   "metadata": {
    "collapsed": false,
    "ExecuteTime": {
     "start_time": "2023-04-28T16:09:29.864248Z",
     "end_time": "2023-04-28T16:09:29.912314Z"
    }
   }
  },
  {
   "cell_type": "markdown",
   "source": [
    "评估不可见数据集的表现"
   ],
   "metadata": {
    "collapsed": false
   }
  },
  {
   "cell_type": "code",
   "execution_count": 64,
   "outputs": [
    {
     "name": "stdout",
     "output_type": "stream",
     "text": [
      "62/62 [==============================] - 2s 28ms/step - loss: 0.4236 - accuracy: 0.9414\n",
      "Loss: 0.4236, Accuracy: 0.9414\n"
     ]
    }
   ],
   "source": [
    "loss, accuracy = model_binary.evaluate(test_isCancerous_generator)\n",
    "print(f\"Loss: {loss:.4f}, Accuracy: {accuracy:.4f}\")"
   ],
   "metadata": {
    "collapsed": false,
    "ExecuteTime": {
     "start_time": "2023-04-28T16:27:47.524000Z",
     "end_time": "2023-04-28T16:27:49.267391Z"
    }
   }
  },
  {
   "cell_type": "markdown",
   "source": [
    "# 训练多分类"
   ],
   "metadata": {
    "collapsed": false
   }
  },
  {
   "cell_type": "code",
   "execution_count": 115,
   "outputs": [
    {
     "name": "stdout",
     "output_type": "stream",
     "text": [
      "Epoch 1/100\n",
      "197/197 [==============================] - 16s 72ms/step - loss: 19.2293 - accuracy: 0.5692 - val_loss: 17.2923 - val_accuracy: 0.4088 - lr: 5.0000e-04\n",
      "Epoch 2/100\n",
      "197/197 [==============================] - 12s 61ms/step - loss: 17.1087 - accuracy: 0.6254 - val_loss: 14.5520 - val_accuracy: 0.4407 - lr: 5.0000e-04\n",
      "Epoch 3/100\n",
      "197/197 [==============================] - 12s 62ms/step - loss: 15.4242 - accuracy: 0.6479 - val_loss: 11.8550 - val_accuracy: 0.6339 - lr: 5.0000e-04\n",
      "Epoch 4/100\n",
      "197/197 [==============================] - 12s 61ms/step - loss: 13.8270 - accuracy: 0.6614 - val_loss: 10.7854 - val_accuracy: 0.6467 - lr: 5.0000e-04\n",
      "Epoch 5/100\n",
      "197/197 [==============================] - 12s 61ms/step - loss: 12.2969 - accuracy: 0.6843 - val_loss: 8.9642 - val_accuracy: 0.7258 - lr: 5.0000e-04\n",
      "Epoch 6/100\n",
      "197/197 [==============================] - 12s 61ms/step - loss: 10.9253 - accuracy: 0.6908 - val_loss: 8.4763 - val_accuracy: 0.4184 - lr: 5.0000e-04\n",
      "Epoch 7/100\n",
      "197/197 [==============================] - 12s 61ms/step - loss: 9.7333 - accuracy: 0.7019 - val_loss: 6.6804 - val_accuracy: 0.7162 - lr: 5.0000e-04\n",
      "Epoch 8/100\n",
      "197/197 [==============================] - 12s 62ms/step - loss: 8.6333 - accuracy: 0.7167 - val_loss: 5.8103 - val_accuracy: 0.6843 - lr: 5.0000e-04\n",
      "Epoch 9/100\n",
      "197/197 [==============================] - 12s 62ms/step - loss: 7.7436 - accuracy: 0.7152 - val_loss: 4.8317 - val_accuracy: 0.7481 - lr: 5.0000e-04\n",
      "Epoch 10/100\n",
      "197/197 [==============================] - 12s 61ms/step - loss: 6.9596 - accuracy: 0.7205 - val_loss: 4.5637 - val_accuracy: 0.5950 - lr: 5.0000e-04\n",
      "Epoch 11/100\n",
      "197/197 [==============================] - 12s 60ms/step - loss: 6.2870 - accuracy: 0.7251 - val_loss: 3.6192 - val_accuracy: 0.7487 - lr: 5.0000e-04\n",
      "Epoch 12/100\n",
      "197/197 [==============================] - 12s 61ms/step - loss: 5.8211 - accuracy: 0.7216 - val_loss: 3.2931 - val_accuracy: 0.6958 - lr: 5.0000e-04\n",
      "Epoch 13/100\n",
      "197/197 [==============================] - 12s 61ms/step - loss: 5.3873 - accuracy: 0.7297 - val_loss: 3.2675 - val_accuracy: 0.5478 - lr: 5.0000e-04\n",
      "Epoch 14/100\n",
      "197/197 [==============================] - 12s 61ms/step - loss: 5.1281 - accuracy: 0.7230 - val_loss: 2.6187 - val_accuracy: 0.7334 - lr: 5.0000e-04\n",
      "Epoch 15/100\n",
      "197/197 [==============================] - 12s 61ms/step - loss: 4.8830 - accuracy: 0.7252 - val_loss: 2.9868 - val_accuracy: 0.5670 - lr: 5.0000e-04\n",
      "Epoch 16/100\n",
      "197/197 [==============================] - 12s 61ms/step - loss: 4.6713 - accuracy: 0.7333 - val_loss: 2.3831 - val_accuracy: 0.7251 - lr: 5.0000e-04\n",
      "Epoch 17/100\n",
      "197/197 [==============================] - 12s 61ms/step - loss: 4.3857 - accuracy: 0.7357 - val_loss: 2.1007 - val_accuracy: 0.7309 - lr: 5.0000e-04\n",
      "Epoch 18/100\n",
      "197/197 [==============================] - 12s 60ms/step - loss: 4.2749 - accuracy: 0.7465 - val_loss: 2.4264 - val_accuracy: 0.5300 - lr: 5.0000e-04\n",
      "Epoch 19/100\n",
      "197/197 [==============================] - 12s 63ms/step - loss: 4.1312 - accuracy: 0.7479 - val_loss: 2.2432 - val_accuracy: 0.5721 - lr: 5.0000e-04\n",
      "Epoch 20/100\n",
      "197/197 [==============================] - 12s 63ms/step - loss: 4.0054 - accuracy: 0.7519 - val_loss: 2.5118 - val_accuracy: 0.4381 - lr: 5.0000e-04\n",
      "Epoch 21/100\n",
      "197/197 [==============================] - 12s 63ms/step - loss: 3.7279 - accuracy: 0.7740 - val_loss: 1.6815 - val_accuracy: 0.7621 - lr: 1.5811e-04\n",
      "Epoch 22/100\n",
      "197/197 [==============================] - 12s 62ms/step - loss: 3.6120 - accuracy: 0.7724 - val_loss: 1.5933 - val_accuracy: 0.7787 - lr: 1.5811e-04\n",
      "Epoch 23/100\n",
      "197/197 [==============================] - 12s 63ms/step - loss: 3.5810 - accuracy: 0.7765 - val_loss: 1.6712 - val_accuracy: 0.7379 - lr: 1.5811e-04\n",
      "Epoch 24/100\n",
      "197/197 [==============================] - 12s 62ms/step - loss: 3.4786 - accuracy: 0.7925 - val_loss: 1.6220 - val_accuracy: 0.7366 - lr: 1.5811e-04\n",
      "Epoch 25/100\n",
      "197/197 [==============================] - 12s 62ms/step - loss: 3.4559 - accuracy: 0.7806 - val_loss: 1.4886 - val_accuracy: 0.7812 - lr: 1.5811e-04\n",
      "Epoch 26/100\n",
      "197/197 [==============================] - 12s 62ms/step - loss: 3.4412 - accuracy: 0.7890 - val_loss: 1.5913 - val_accuracy: 0.7124 - lr: 1.5811e-04\n",
      "Epoch 27/100\n",
      "197/197 [==============================] - 12s 62ms/step - loss: 3.3201 - accuracy: 0.7929 - val_loss: 1.5126 - val_accuracy: 0.7449 - lr: 1.5811e-04\n",
      "Epoch 28/100\n",
      "197/197 [==============================] - 12s 62ms/step - loss: 3.3852 - accuracy: 0.7822 - val_loss: 1.6149 - val_accuracy: 0.7143 - lr: 1.5811e-04\n",
      "Epoch 29/100\n",
      "197/197 [==============================] - 12s 61ms/step - loss: 3.2084 - accuracy: 0.8006 - val_loss: 1.2807 - val_accuracy: 0.8304 - lr: 5.0000e-05\n",
      "Epoch 30/100\n",
      "197/197 [==============================] - 12s 62ms/step - loss: 3.1378 - accuracy: 0.7998 - val_loss: 1.3298 - val_accuracy: 0.7991 - lr: 5.0000e-05\n",
      "Epoch 31/100\n",
      "197/197 [==============================] - 12s 61ms/step - loss: 3.0772 - accuracy: 0.8033 - val_loss: 1.2984 - val_accuracy: 0.8048 - lr: 5.0000e-05\n",
      "Epoch 32/100\n",
      "197/197 [==============================] - 12s 62ms/step - loss: 3.0810 - accuracy: 0.8029 - val_loss: 1.2419 - val_accuracy: 0.8208 - lr: 5.0000e-05\n",
      "Epoch 33/100\n",
      "197/197 [==============================] - 12s 63ms/step - loss: 3.0276 - accuracy: 0.8119 - val_loss: 1.2336 - val_accuracy: 0.8227 - lr: 5.0000e-05\n",
      "Epoch 34/100\n",
      "197/197 [==============================] - 12s 63ms/step - loss: 3.0598 - accuracy: 0.7989 - val_loss: 1.2322 - val_accuracy: 0.8176 - lr: 5.0000e-05\n",
      "Epoch 35/100\n",
      "197/197 [==============================] - 12s 63ms/step - loss: 2.9445 - accuracy: 0.8117 - val_loss: 1.2078 - val_accuracy: 0.8246 - lr: 5.0000e-05\n",
      "Epoch 36/100\n",
      "197/197 [==============================] - 13s 64ms/step - loss: 2.9981 - accuracy: 0.8124 - val_loss: 1.2163 - val_accuracy: 0.8157 - lr: 5.0000e-05\n",
      "Epoch 37/100\n",
      "197/197 [==============================] - 12s 62ms/step - loss: 3.0010 - accuracy: 0.8084 - val_loss: 1.2220 - val_accuracy: 0.8170 - lr: 5.0000e-05\n",
      "Epoch 38/100\n",
      "197/197 [==============================] - 12s 62ms/step - loss: 2.9124 - accuracy: 0.8146 - val_loss: 1.1833 - val_accuracy: 0.8227 - lr: 5.0000e-05\n",
      "Epoch 39/100\n",
      "197/197 [==============================] - 12s 62ms/step - loss: 2.9220 - accuracy: 0.8132 - val_loss: 1.2416 - val_accuracy: 0.8023 - lr: 5.0000e-05\n",
      "Epoch 40/100\n",
      "197/197 [==============================] - 12s 62ms/step - loss: 2.9393 - accuracy: 0.8097 - val_loss: 1.1900 - val_accuracy: 0.8099 - lr: 5.0000e-05\n",
      "Epoch 41/100\n",
      "197/197 [==============================] - 13s 64ms/step - loss: 2.9006 - accuracy: 0.8117 - val_loss: 1.1532 - val_accuracy: 0.8297 - lr: 5.0000e-05\n",
      "Epoch 42/100\n",
      "197/197 [==============================] - 12s 62ms/step - loss: 2.9180 - accuracy: 0.8097 - val_loss: 1.2004 - val_accuracy: 0.7966 - lr: 5.0000e-05\n",
      "Epoch 43/100\n",
      "197/197 [==============================] - 12s 62ms/step - loss: 2.8689 - accuracy: 0.8141 - val_loss: 1.1837 - val_accuracy: 0.8131 - lr: 5.0000e-05\n",
      "Epoch 44/100\n",
      "197/197 [==============================] - 12s 62ms/step - loss: 2.8515 - accuracy: 0.8144 - val_loss: 1.1605 - val_accuracy: 0.8163 - lr: 5.0000e-05\n",
      "Epoch 45/100\n",
      "197/197 [==============================] - 12s 62ms/step - loss: 2.8211 - accuracy: 0.8195 - val_loss: 1.1250 - val_accuracy: 0.8246 - lr: 1.5811e-05\n",
      "Epoch 46/100\n",
      "197/197 [==============================] - 12s 62ms/step - loss: 2.7650 - accuracy: 0.8224 - val_loss: 1.1333 - val_accuracy: 0.8265 - lr: 1.5811e-05\n",
      "Epoch 47/100\n",
      "197/197 [==============================] - 12s 63ms/step - loss: 2.8135 - accuracy: 0.8189 - val_loss: 1.1309 - val_accuracy: 0.8240 - lr: 1.5811e-05\n",
      "Epoch 48/100\n",
      "197/197 [==============================] - 12s 62ms/step - loss: 2.7755 - accuracy: 0.8162 - val_loss: 1.1176 - val_accuracy: 0.8265 - lr: 1.5811e-05\n",
      "Epoch 49/100\n",
      "197/197 [==============================] - 12s 62ms/step - loss: 2.7919 - accuracy: 0.8189 - val_loss: 1.1290 - val_accuracy: 0.8214 - lr: 1.5811e-05\n",
      "Epoch 50/100\n",
      "197/197 [==============================] - 12s 62ms/step - loss: 2.8070 - accuracy: 0.8198 - val_loss: 1.1116 - val_accuracy: 0.8291 - lr: 1.5811e-05\n",
      "Epoch 51/100\n",
      "197/197 [==============================] - 12s 62ms/step - loss: 2.7625 - accuracy: 0.8208 - val_loss: 1.0947 - val_accuracy: 0.8355 - lr: 1.5811e-05\n",
      "Epoch 52/100\n",
      "197/197 [==============================] - 12s 62ms/step - loss: 2.7642 - accuracy: 0.8203 - val_loss: 1.1068 - val_accuracy: 0.8272 - lr: 1.5811e-05\n",
      "Epoch 53/100\n",
      "197/197 [==============================] - 12s 61ms/step - loss: 2.7128 - accuracy: 0.8256 - val_loss: 1.1123 - val_accuracy: 0.8284 - lr: 1.5811e-05\n",
      "Epoch 54/100\n",
      "197/197 [==============================] - 12s 62ms/step - loss: 2.7782 - accuracy: 0.8186 - val_loss: 1.1066 - val_accuracy: 0.8259 - lr: 1.5811e-05\n",
      "Epoch 55/100\n",
      "197/197 [==============================] - 12s 61ms/step - loss: 2.7247 - accuracy: 0.8221 - val_loss: 1.0994 - val_accuracy: 0.8265 - lr: 5.0000e-06\n",
      "Epoch 56/100\n",
      "197/197 [==============================] - 12s 61ms/step - loss: 2.7273 - accuracy: 0.8233 - val_loss: 1.1028 - val_accuracy: 0.8259 - lr: 5.0000e-06\n",
      "Epoch 57/100\n",
      "197/197 [==============================] - 12s 63ms/step - loss: 2.6665 - accuracy: 0.8297 - val_loss: 1.0958 - val_accuracy: 0.8323 - lr: 5.0000e-06\n",
      "Epoch 58/100\n",
      "197/197 [==============================] - 12s 62ms/step - loss: 2.7205 - accuracy: 0.8200 - val_loss: 1.0988 - val_accuracy: 0.8272 - lr: 1.5811e-06\n",
      "Epoch 59/100\n",
      "197/197 [==============================] - 12s 62ms/step - loss: 2.6734 - accuracy: 0.8263 - val_loss: 1.1001 - val_accuracy: 0.8259 - lr: 1.5811e-06\n",
      "Epoch 60/100\n",
      "197/197 [==============================] - 12s 62ms/step - loss: 2.7110 - accuracy: 0.8259 - val_loss: 1.0970 - val_accuracy: 0.8278 - lr: 1.5811e-06\n",
      "Epoch 61/100\n",
      "197/197 [==============================] - 12s 61ms/step - loss: 2.6639 - accuracy: 0.8333 - val_loss: 1.0953 - val_accuracy: 0.8272 - lr: 5.0000e-07\n",
      "Epoch 62/100\n",
      "197/197 [==============================] - 12s 62ms/step - loss: 2.6826 - accuracy: 0.8232 - val_loss: 1.0930 - val_accuracy: 0.8272 - lr: 5.0000e-07\n",
      "Epoch 63/100\n",
      "197/197 [==============================] - 12s 63ms/step - loss: 2.6318 - accuracy: 0.8360 - val_loss: 1.0973 - val_accuracy: 0.8265 - lr: 5.0000e-07\n",
      "Epoch 64/100\n",
      "197/197 [==============================] - 12s 62ms/step - loss: 2.7011 - accuracy: 0.8317 - val_loss: 1.0969 - val_accuracy: 0.8259 - lr: 5.0000e-07\n",
      "Epoch 65/100\n",
      "197/197 [==============================] - 12s 63ms/step - loss: 2.6604 - accuracy: 0.8270 - val_loss: 1.0938 - val_accuracy: 0.8284 - lr: 5.0000e-07\n",
      "Epoch 66/100\n",
      "197/197 [==============================] - 12s 62ms/step - loss: 2.7071 - accuracy: 0.8271 - val_loss: 1.1010 - val_accuracy: 0.8259 - lr: 1.5811e-07\n",
      "Epoch 67/100\n",
      "197/197 [==============================] - 12s 62ms/step - loss: 2.6431 - accuracy: 0.8305 - val_loss: 1.0980 - val_accuracy: 0.8278 - lr: 1.5811e-07\n",
      "Epoch 68/100\n",
      "197/197 [==============================] - 12s 62ms/step - loss: 2.6497 - accuracy: 0.8303 - val_loss: 1.0981 - val_accuracy: 0.8253 - lr: 1.5811e-07\n",
      "Epoch 69/100\n",
      "197/197 [==============================] - 12s 62ms/step - loss: 2.6390 - accuracy: 0.8302 - val_loss: 1.0933 - val_accuracy: 0.8272 - lr: 5.0000e-08\n",
      "Epoch 70/100\n",
      "197/197 [==============================] - 12s 62ms/step - loss: 2.7355 - accuracy: 0.8171 - val_loss: 1.0967 - val_accuracy: 0.8272 - lr: 5.0000e-08\n",
      "Epoch 71/100\n",
      "197/197 [==============================] - 12s 63ms/step - loss: 2.7120 - accuracy: 0.8206 - val_loss: 1.0937 - val_accuracy: 0.8278 - lr: 5.0000e-08\n",
      "Epoch 72/100\n",
      "197/197 [==============================] - 12s 62ms/step - loss: 2.6764 - accuracy: 0.8249 - val_loss: 1.0954 - val_accuracy: 0.8259 - lr: 1.5811e-08\n",
      "Epoch 73/100\n",
      "197/197 [==============================] - 12s 61ms/step - loss: 2.6291 - accuracy: 0.8314 - val_loss: 1.0997 - val_accuracy: 0.8259 - lr: 1.5811e-08\n",
      "Epoch 74/100\n",
      "197/197 [==============================] - 12s 62ms/step - loss: 2.6576 - accuracy: 0.8317 - val_loss: 1.0962 - val_accuracy: 0.8278 - lr: 1.5811e-08\n",
      "Epoch 75/100\n",
      "197/197 [==============================] - 12s 62ms/step - loss: 2.6737 - accuracy: 0.8290 - val_loss: 1.0976 - val_accuracy: 0.8265 - lr: 5.0000e-09\n",
      "Epoch 76/100\n",
      "197/197 [==============================] - 12s 62ms/step - loss: 2.7222 - accuracy: 0.8219 - val_loss: 1.0981 - val_accuracy: 0.8272 - lr: 5.0000e-09\n",
      "Epoch 77/100\n",
      "197/197 [==============================] - 12s 63ms/step - loss: 2.6909 - accuracy: 0.8268 - val_loss: 1.0993 - val_accuracy: 0.8259 - lr: 5.0000e-09\n",
      "Epoch 78/100\n",
      "197/197 [==============================] - 12s 62ms/step - loss: 2.6376 - accuracy: 0.8327 - val_loss: 1.0918 - val_accuracy: 0.8278 - lr: 1.5811e-09\n",
      "Epoch 79/100\n",
      "197/197 [==============================] - 12s 62ms/step - loss: 2.6490 - accuracy: 0.8313 - val_loss: 1.0960 - val_accuracy: 0.8284 - lr: 1.5811e-09\n",
      "Epoch 80/100\n",
      "197/197 [==============================] - 12s 63ms/step - loss: 2.6824 - accuracy: 0.8308 - val_loss: 1.0967 - val_accuracy: 0.8259 - lr: 1.5811e-09\n",
      "Epoch 81/100\n",
      "197/197 [==============================] - 12s 61ms/step - loss: 2.7268 - accuracy: 0.8254 - val_loss: 1.0910 - val_accuracy: 0.8265 - lr: 1.5811e-09\n",
      "Epoch 82/100\n",
      "197/197 [==============================] - 12s 62ms/step - loss: 2.6943 - accuracy: 0.8241 - val_loss: 1.0951 - val_accuracy: 0.8278 - lr: 1.5811e-09\n",
      "Epoch 83/100\n",
      "197/197 [==============================] - 12s 62ms/step - loss: 2.6557 - accuracy: 0.8308 - val_loss: 1.0977 - val_accuracy: 0.8253 - lr: 1.5811e-09\n",
      "Epoch 84/100\n",
      "197/197 [==============================] - 12s 61ms/step - loss: 2.6719 - accuracy: 0.8227 - val_loss: 1.0957 - val_accuracy: 0.8259 - lr: 1.5811e-09\n",
      "Epoch 85/100\n",
      "197/197 [==============================] - 12s 62ms/step - loss: 2.7291 - accuracy: 0.8251 - val_loss: 1.0940 - val_accuracy: 0.8265 - lr: 5.0000e-10\n",
      "Epoch 86/100\n",
      "197/197 [==============================] - 12s 62ms/step - loss: 2.6522 - accuracy: 0.8324 - val_loss: 1.0969 - val_accuracy: 0.8284 - lr: 5.0000e-10\n",
      "Epoch 87/100\n",
      "197/197 [==============================] - 12s 62ms/step - loss: 2.6978 - accuracy: 0.8286 - val_loss: 1.0974 - val_accuracy: 0.8278 - lr: 5.0000e-10\n",
      "Epoch 88/100\n",
      "197/197 [==============================] - 12s 61ms/step - loss: 2.7104 - accuracy: 0.8232 - val_loss: 1.0926 - val_accuracy: 0.8278 - lr: 1.5811e-10\n",
      "Epoch 89/100\n",
      "197/197 [==============================] - 12s 61ms/step - loss: 2.6835 - accuracy: 0.8332 - val_loss: 1.0944 - val_accuracy: 0.8291 - lr: 1.5811e-10\n",
      "Epoch 90/100\n",
      "197/197 [==============================] - 12s 61ms/step - loss: 2.6904 - accuracy: 0.8243 - val_loss: 1.0967 - val_accuracy: 0.8278 - lr: 1.5811e-10\n",
      "Epoch 91/100\n",
      "197/197 [==============================] - 12s 62ms/step - loss: 2.6975 - accuracy: 0.8206 - val_loss: 1.0991 - val_accuracy: 0.8272 - lr: 5.0000e-11\n",
      "Epoch 92/100\n",
      "197/197 [==============================] - 12s 63ms/step - loss: 2.6715 - accuracy: 0.8268 - val_loss: 1.0958 - val_accuracy: 0.8259 - lr: 5.0000e-11\n",
      "Epoch 93/100\n",
      "197/197 [==============================] - 12s 62ms/step - loss: 2.6871 - accuracy: 0.8240 - val_loss: 1.0943 - val_accuracy: 0.8253 - lr: 5.0000e-11\n",
      "Epoch 94/100\n",
      "197/197 [==============================] - 12s 63ms/step - loss: 2.7272 - accuracy: 0.8197 - val_loss: 1.0918 - val_accuracy: 0.8272 - lr: 1.5811e-11\n",
      "Epoch 95/100\n",
      "197/197 [==============================] - 13s 65ms/step - loss: 2.7158 - accuracy: 0.8295 - val_loss: 1.0955 - val_accuracy: 0.8265 - lr: 1.5811e-11\n",
      "Epoch 96/100\n",
      "197/197 [==============================] - 12s 63ms/step - loss: 2.6809 - accuracy: 0.8292 - val_loss: 1.0978 - val_accuracy: 0.8259 - lr: 1.5811e-11\n",
      "Epoch 97/100\n",
      "197/197 [==============================] - 13s 65ms/step - loss: 2.6836 - accuracy: 0.8239 - val_loss: 1.0945 - val_accuracy: 0.8284 - lr: 5.0000e-12\n",
      "Epoch 98/100\n",
      "197/197 [==============================] - 12s 63ms/step - loss: 2.6503 - accuracy: 0.8289 - val_loss: 1.0928 - val_accuracy: 0.8272 - lr: 5.0000e-12\n",
      "Epoch 99/100\n",
      "197/197 [==============================] - 12s 62ms/step - loss: 2.6860 - accuracy: 0.8210 - val_loss: 1.0959 - val_accuracy: 0.8291 - lr: 5.0000e-12\n",
      "Epoch 100/100\n",
      "197/197 [==============================] - 12s 63ms/step - loss: 2.6704 - accuracy: 0.8271 - val_loss: 1.0964 - val_accuracy: 0.8278 - lr: 1.5811e-12\n"
     ]
    }
   ],
   "source": [
    "epochs = 100\n",
    "history_categorical = model_categorical.fit(\n",
    "    train_cellType_generator,\n",
    "    steps_per_epoch=len(train_data) // batch_size,\n",
    "    epochs=epochs,\n",
    "    validation_data=val_cellType_generator,\n",
    "    validation_steps=len(val_data) // batch_size,\n",
    "    class_weight=class_weight_dict_cellType\n",
    "    , callbacks=[lr_reducer]\n",
    ")"
   ],
   "metadata": {
    "collapsed": false,
    "ExecuteTime": {
     "start_time": "2023-04-28T18:29:52.557576Z",
     "end_time": "2023-04-28T18:50:18.579897Z"
    }
   }
  },
  {
   "cell_type": "code",
   "execution_count": 116,
   "outputs": [
    {
     "data": {
      "text/plain": "<Figure size 432x288 with 1 Axes>",
      "image/png": "[encoded data removed]"
     },
     "metadata": {
      "needs_background": "light"
     },
     "output_type": "display_data"
    }
   ],
   "source": [
    "train_loss = history_categorical.history['loss']\n",
    "val_loss = history_categorical.history['val_loss']\n",
    "\n",
    "epochs_range = range(1, epochs + 1)\n",
    "\n",
    "plt.plot(epochs_range, train_loss, label='Training Loss')\n",
    "plt.plot(epochs_range, val_loss, label='Validation Loss')\n",
    "\n",
    "plt.legend()\n",
    "plt.title('Training and Validation Loss in multi-category')\n",
    "plt.xlabel('Epoch')\n",
    "plt.ylabel('Loss')\n",
    "\n",
    "plt.show()"
   ],
   "metadata": {
    "collapsed": false,
    "ExecuteTime": {
     "start_time": "2023-04-28T18:50:23.760278Z",
     "end_time": "2023-04-28T18:50:23.824482Z"
    }
   }
  },
  {
   "cell_type": "code",
   "execution_count": 117,
   "outputs": [
    {
     "data": {
      "text/plain": "<Figure size 432x288 with 1 Axes>",
      "image/png": "[encoded data removed]"
     },
     "metadata": {
      "needs_background": "light"
     },
     "output_type": "display_data"
    }
   ],
   "source": [
    "train_accuracy = history_categorical.history['accuracy']\n",
    "val_accuracy = history_categorical.history['val_accuracy']\n",
    "\n",
    "epochs_range = range(1, epochs + 1)\n",
    "\n",
    "plt.plot(epochs_range, train_accuracy, label='Training Accuracy')\n",
    "plt.plot(epochs_range, val_accuracy, label='Validation Accuracy')\n",
    "\n",
    "plt.legend()\n",
    "plt.title('Training and Validation Accuracy in multi-category')\n",
    "plt.xlabel('Epoch')\n",
    "plt.ylabel('Accuracy')\n",
    "\n",
    "plt.show()"
   ],
   "metadata": {
    "collapsed": false,
    "ExecuteTime": {
     "start_time": "2023-04-28T18:50:27.332053Z",
     "end_time": "2023-04-28T18:50:27.384160Z"
    }
   }
  },
  {
   "cell_type": "code",
   "execution_count": 118,
   "outputs": [
    {
     "name": "stdout",
     "output_type": "stream",
     "text": [
      "62/62 [==============================] - 3s 52ms/step - loss: 1.1483 - accuracy: 0.8172\n",
      "Loss: 1.1483, Accuracy: 0.8172\n"
     ]
    }
   ],
   "source": [
    "# # 预测\n",
    "# predictions = model_categorical.predict(test_cellType_generator)\n",
    "#\n",
    "# # 获取预测标签\n",
    "# predicted_labels = np.argmax(predictions, axis=-1)\n",
    "#\n",
    "# # 计算准确度\n",
    "# true_labels = test_cellType_generator.classes\n",
    "# accuracy = accuracy_score(true_labels, predicted_labels)\n",
    "# print(f\"Accuracy: {accuracy}\")\n",
    "#\n",
    "# # 计算损失\n",
    "# y_true = tf.keras.utils.to_categorical(true_labels, num_classes=4) # 根据您的类别数量更改 num_classes\n",
    "# loss = tf.reduce_mean(tf.keras.losses.categorical_crossentropy(y_true, predictions))\n",
    "# print(f\"Loss: {loss}\")\n",
    "\n",
    "loss, accuracy = model_categorical.evaluate(test_cellType_generator)\n",
    "print(f\"Loss: {loss:.4f}, Accuracy: {accuracy:.4f}\")"
   ],
   "metadata": {
    "collapsed": false,
    "ExecuteTime": {
     "start_time": "2023-04-28T18:50:42.572062Z",
     "end_time": "2023-04-28T18:50:45.818863Z"
    }
   }
  },
  {
   "cell_type": "code",
   "execution_count": 119,
   "outputs": [
    {
     "name": "stderr",
     "output_type": "stream",
     "text": [
      "WARNING:absl:Found untraced functions such as _jit_compiled_convolution_op, _jit_compiled_convolution_op, _jit_compiled_convolution_op, _jit_compiled_convolution_op while saving (showing 4 of 4). These functions will not be directly callable after loading.\n"
     ]
    },
    {
     "name": "stdout",
     "output_type": "stream",
     "text": [
      "INFO:tensorflow:Assets written to: saved_model/model_categorical/assets\n"
     ]
    },
    {
     "name": "stderr",
     "output_type": "stream",
     "text": [
      "INFO:tensorflow:Assets written to: saved_model/model_categorical/assets\n"
     ]
    }
   ],
   "source": [
    "model_categorical.save('saved_model/model_categorical')"
   ],
   "metadata": {
    "collapsed": false,
    "ExecuteTime": {
     "start_time": "2023-04-28T18:50:53.625465Z",
     "end_time": "2023-04-28T18:50:55.453005Z"
    }
   }
  },
  {
   "cell_type": "markdown",
   "source": [
    "# DI/HD 使用data_labels_extraData对多分类的模型进行增强\n",
    "通过半监督学习。我们将采用UDA。\n",
    "首先先获取额外的数据集并且进行相关处理。\n",
    "我们从数据集可以观察到，没有癌症在多分类中为2。所以我们可以将不是癌症的样本之间指定其多分类的类别为2."
   ],
   "metadata": {
    "collapsed": false
   }
  },
  {
   "cell_type": "code",
   "execution_count": 65,
   "outputs": [],
   "source": [
    "model_categorical = tf.keras.models.load_model('saved_model/model_categorical')\n",
    "data_extra = pd.read_csv('./Image_classification_data/data_labels_extraData.csv')\n",
    "data_extra['isCancerous'] = data_extra['isCancerous'].astype(str)\n",
    "# data_extra['cellType'] = np.nan\n",
    "# data_extra.loc[data_extra['isCancerous'] == '1', 'cellType'] = 2\n",
    "# data_extra_unlabeled = data_extra[data_extra['cellType'].isna()]\n",
    "# data_extra_labeled = data_extra[data_extra['cellType'] == 2]\n",
    "# undivided_train_data = pd.concat([undivided_train_data, data_extra_labeled], axis=0).reset_index(drop=True)\n",
    "# undivided_train_data['cellType'] = undivided_train_data['cellType'].astype(int)\n",
    "# train_data, val_data = train_test_split(undivided_train_data, test_size=0.2, random_state=42)"
   ],
   "metadata": {
    "collapsed": false,
    "ExecuteTime": {
     "start_time": "2023-04-29T13:41:42.714516Z",
     "end_time": "2023-04-29T13:41:43.484198Z"
    }
   }
  },
  {
   "cell_type": "code",
   "execution_count": 40,
   "outputs": [
    {
     "name": "stderr",
     "output_type": "stream",
     "text": [
      "/var/folders/qx/28c_j79n3zn_3rkwzsdcmn240000gn/T/ipykernel_6794/742382656.py:7: SettingWithCopyWarning: \n",
      "A value is trying to be set on a copy of a slice from a DataFrame.\n",
      "Try using .loc[row_indexer,col_indexer] = value instead\n",
      "\n",
      "See the caveats in the documentation: https://pandas.pydata.org/pandas-docs/stable/user_guide/indexing.html#returning-a-view-versus-a-copy\n",
      "  data_extra_unlabeled['isCancerous'] = data_extra_unlabeled['isCancerous'].astype(str)\n"
     ]
    }
   ],
   "source": [
    "# cellType(多分类)的比例\n",
    "# class_samples_cellType = train_data['cellType'].value_counts()\n",
    "# total_samples = np.sum(class_samples_cellType)\n",
    "# class_weights_cellType = total_samples / class_samples_cellType\n",
    "# class_weight_dict_cellType = {int(k): v for k, v in class_weights_cellType.to_dict().items()}\n",
    "#\n",
    "# data_extra_unlabeled['isCancerous'] = data_extra_unlabeled['isCancerous'].astype(str)\n",
    "# train_data['cellType'] = train_data['cellType'].astype(str)\n",
    "# val_data['cellType'] = val_data['cellType'].astype(str)"
   ],
   "metadata": {
    "collapsed": false,
    "ExecuteTime": {
     "start_time": "2023-04-29T13:15:00.777083Z",
     "end_time": "2023-04-29T13:15:00.784094Z"
    }
   }
  },
  {
   "cell_type": "markdown",
   "source": [
    "重新生成新的train_generator"
   ],
   "metadata": {
    "collapsed": false
   }
  },
  {
   "cell_type": "code",
   "execution_count": 66,
   "outputs": [
    {
     "name": "stdout",
     "output_type": "stream",
     "text": [
      "Found 6332 validated image filenames belonging to 4 classes.\n",
      "Found 10384 validated image filenames belonging to 2 classes.\n",
      "Found 1584 validated image filenames belonging to 4 classes.\n"
     ]
    }
   ],
   "source": [
    "batch_size = 32\n",
    "train_datagen = tf.keras.preprocessing.image.ImageDataGenerator(\n",
    "    rescale=1./255,\n",
    "    rotation_range=40,\n",
    "    width_shift_range=0.2,\n",
    "    height_shift_range=0.2,\n",
    "    shear_range=0.2,\n",
    "    zoom_range=0.2,\n",
    "    horizontal_flip=True,\n",
    "    vertical_flip=True,\n",
    "    fill_mode='nearest'\n",
    ")\n",
    "\n",
    "train_generator = train_datagen.flow_from_dataframe(\n",
    "    train_data,\n",
    "    directory='./Image_classification_data/patch_images',\n",
    "    x_col='ImageName',\n",
    "    y_col='cellType',\n",
    "    target_size=(27, 27),\n",
    "    batch_size=batch_size,\n",
    "    class_mode='categorical')\n",
    "\n",
    "unlabeled_datagen = tf.keras.preprocessing.image.ImageDataGenerator(\n",
    "    rescale=1./255,\n",
    "    rotation_range=40,\n",
    "    width_shift_range=0.2,\n",
    "    height_shift_range=0.2,\n",
    "    shear_range=0.2,\n",
    "    zoom_range=0.2,\n",
    "    horizontal_flip=True,\n",
    "    vertical_flip=True,\n",
    "    fill_mode='nearest'\n",
    ")\n",
    "\n",
    "unlabeled_generator = unlabeled_datagen.flow_from_dataframe(\n",
    "    data_extra,\n",
    "    directory='./Image_classification_data/patch_images',\n",
    "    x_col='ImageName',\n",
    "    y_col='isCancerous', # 我们并不关心y_col。只是为了防止报错\n",
    "    target_size=(27, 27),\n",
    "    batch_size=batch_size,\n",
    "    class_mode='categorical')\n",
    "\n",
    "val_datagen = tf.keras.preprocessing.image.ImageDataGenerator(\n",
    "    rescale=1./255\n",
    ")\n",
    "\n",
    "test_data['cellType'] = test_data['cellType'].astype(str)\n",
    "validation_cellType_generator = val_datagen.flow_from_dataframe(\n",
    "    val_data,\n",
    "    directory='./Image_classification_data/patch_images',\n",
    "    x_col='ImageName',\n",
    "    y_col='cellType',\n",
    "    target_size=(27, 27),\n",
    "    batch_size=batch_size,\n",
    "    class_mode='categorical')"
   ],
   "metadata": {
    "collapsed": false,
    "ExecuteTime": {
     "start_time": "2023-04-29T13:41:44.345085Z",
     "end_time": "2023-04-29T13:41:44.510005Z"
    }
   }
  },
  {
   "cell_type": "markdown",
   "source": [
    "## UDA实现"
   ],
   "metadata": {
    "collapsed": false
   }
  },
  {
   "cell_type": "code",
   "execution_count": 67,
   "outputs": [],
   "source": [
    "# 定义数据增强策略\n",
    "data_augmentation = tf.keras.Sequential([\n",
    "    tf.keras.layers.RandomFlip(\"horizontal\"),\n",
    "    tf.keras.layers.RandomFlip(\"vertical\"),\n",
    "    tf.keras.layers.RandomRotation(0.1),\n",
    "    tf.keras.layers.RandomTranslation(height_factor=(-0.1, 0.1), width_factor=(-0.1, 0.1)),\n",
    "    tf.keras.layers.RandomZoom(height_factor=(-0.1, 0.1), width_factor=(-0.1, 0.1)),\n",
    "    tf.keras.layers.RandomContrast(factor=(0.8, 1.2)),\n",
    "    tf.keras.layers.RandomBrightness(factor=0.1),\n",
    "])"
   ],
   "metadata": {
    "collapsed": false,
    "ExecuteTime": {
     "start_time": "2023-04-29T13:41:45.836279Z",
     "end_time": "2023-04-29T13:41:45.847723Z"
    }
   }
  },
  {
   "cell_type": "code",
   "execution_count": 68,
   "outputs": [],
   "source": [
    "def apply_uda(x_batch, y_batch, x_unlabeled, model, optimizer, training=True, class_weight_dict=None, consistency_weight=1, confidence_threshold=0.5, temperature=0.5):\n",
    "    x_unlabeled_augmented = None\n",
    "    if x_unlabeled is not None:\n",
    "        # 对无标签数据进行数据增强\n",
    "        x_unlabeled_augmented = data_augmentation(x_unlabeled)\n",
    "\n",
    "    # 计算模型在原始无标签数据和增强无标签数据上的输出\n",
    "    with tf.GradientTape() as tape:\n",
    "        y_pred_labeled = model(x_batch)\n",
    "        if x_unlabeled is not None:\n",
    "            y_pred_unlabeled = model(x_unlabeled)\n",
    "            y_pred_unlabeled_augmented = model(x_unlabeled_augmented)\n",
    "\n",
    "            # Sharpening Predictions\n",
    "            y_pred_unlabeled = tf.nn.softmax(y_pred_unlabeled / temperature, axis=-1)\n",
    "            y_pred_unlabeled_augmented = tf.nn.softmax(y_pred_unlabeled_augmented / temperature, axis=-1)\n",
    "\n",
    "            # Confidence-based masking\n",
    "            max_probs = tf.reduce_max(y_pred_unlabeled, axis=-1)\n",
    "            mask = max_probs > confidence_threshold\n",
    "            y_pred_unlabeled = tf.boolean_mask(y_pred_unlabeled, mask)\n",
    "            y_pred_unlabeled_augmented = tf.boolean_mask(y_pred_unlabeled_augmented, mask)\n",
    "\n",
    "        # 计算有监督损失\n",
    "        # 如果是训练并且给定了类别权重，则根据权重计算损失。\n",
    "        if class_weight_dict is not None and training:\n",
    "            sample_weights = tf.gather(class_weight_dict, tf.argmax(y_batch, axis=-1))\n",
    "            supervised_loss = tf.reduce_mean(tf.keras.losses.categorical_crossentropy(y_batch, y_pred_labeled) * sample_weights)\n",
    "        else:\n",
    "            supervised_loss = tf.reduce_mean(tf.keras.losses.categorical_crossentropy(y_batch, y_pred_labeled))\n",
    "\n",
    "        # 如果提供了无标签数据，则计算一致性损失，(半监督学习)\n",
    "        if x_unlabeled is not None:\n",
    "            consistency_loss = tf.reduce_mean(tf.keras.losses.mean_squared_error(y_pred_unlabeled, y_pred_unlabeled_augmented))\n",
    "            total_loss = supervised_loss + consistency_weight * consistency_loss\n",
    "        else:\n",
    "            total_loss = supervised_loss\n",
    "\n",
    "        # 计算准确度\n",
    "        accuracy = tf.keras.metrics.categorical_accuracy(y_batch, y_pred_labeled)\n",
    "\n",
    "        if training:\n",
    "            # 反向传播和优化\n",
    "            grads = tape.gradient(total_loss, model_categorical.trainable_variables)\n",
    "            optimizer.apply_gradients(zip(grads, model_categorical.trainable_variables))\n",
    "    return total_loss, supervised_loss, consistency_loss if x_unlabeled is not None else None, accuracy"
   ],
   "metadata": {
    "collapsed": false,
    "ExecuteTime": {
     "start_time": "2023-04-29T13:41:47.028993Z",
     "end_time": "2023-04-29T13:41:47.033887Z"
    }
   }
  },
  {
   "cell_type": "markdown",
   "source": [
    "### 训练半监督"
   ],
   "metadata": {
    "collapsed": false
   }
  },
  {
   "cell_type": "code",
   "execution_count": 69,
   "outputs": [
    {
     "name": "stdout",
     "output_type": "stream",
     "text": [
      "Epoch 1/20\n"
     ]
    },
    {
     "name": "stderr",
     "output_type": "stream",
     "text": [
      "Training: 100%|███████████████████████████████████████████████████| 198/198 [00:30<00:00,  6.59it/s]\n"
     ]
    },
    {
     "name": "stdout",
     "output_type": "stream",
     "text": [
      " - loss: 0.5180, supervised_loss: 0.4168, consistency_loss: 0.1012, accuracy: 0.8518\n",
      "Validation set： - loss: 0.4440, accuracy: 0.8317, learning rate: 9.99999993922529e-09\n",
      "Epoch 2/20\n"
     ]
    },
    {
     "name": "stderr",
     "output_type": "stream",
     "text": [
      "Training: 100%|███████████████████████████████████████████████████| 198/198 [00:28<00:00,  7.05it/s]\n"
     ]
    },
    {
     "name": "stdout",
     "output_type": "stream",
     "text": [
      " - loss: 0.5153, supervised_loss: 0.4142, consistency_loss: 0.1011, accuracy: 0.8515\n",
      "Validation set： - loss: 0.4582, accuracy: 0.8216, learning rate: 9.99999993922529e-09\n",
      "Epoch 3/20\n"
     ]
    },
    {
     "name": "stderr",
     "output_type": "stream",
     "text": [
      "Training: 100%|███████████████████████████████████████████████████| 198/198 [00:30<00:00,  6.41it/s]\n"
     ]
    },
    {
     "name": "stdout",
     "output_type": "stream",
     "text": [
      " - loss: 0.5108, supervised_loss: 0.4100, consistency_loss: 0.1009, accuracy: 0.8507\n",
      "Validation set： - loss: 0.4210, accuracy: 0.8352, learning rate: 9.99999993922529e-09\n",
      "Epoch 4/20\n"
     ]
    },
    {
     "name": "stderr",
     "output_type": "stream",
     "text": [
      "Training: 100%|███████████████████████████████████████████████████| 198/198 [00:30<00:00,  6.59it/s]\n"
     ]
    },
    {
     "name": "stdout",
     "output_type": "stream",
     "text": [
      " - loss: 0.5148, supervised_loss: 0.4139, consistency_loss: 0.1009, accuracy: 0.8479\n",
      "Validation set： - loss: 0.4629, accuracy: 0.8221, learning rate: 9.99999993922529e-09\n",
      "Epoch 5/20\n"
     ]
    },
    {
     "name": "stderr",
     "output_type": "stream",
     "text": [
      "Training: 100%|███████████████████████████████████████████████████| 198/198 [00:29<00:00,  6.76it/s]\n"
     ]
    },
    {
     "name": "stdout",
     "output_type": "stream",
     "text": [
      " - loss: 0.5154, supervised_loss: 0.4148, consistency_loss: 0.1006, accuracy: 0.8475\n",
      "Validation set： - loss: 0.4442, accuracy: 0.8286, learning rate: 9.99999993922529e-09\n",
      "Epoch 6/20\n"
     ]
    },
    {
     "name": "stderr",
     "output_type": "stream",
     "text": [
      "Training: 100%|███████████████████████████████████████████████████| 198/198 [00:29<00:00,  6.78it/s]\n"
     ]
    },
    {
     "name": "stdout",
     "output_type": "stream",
     "text": [
      " - loss: 0.5139, supervised_loss: 0.4158, consistency_loss: 0.0981, accuracy: 0.8490\n",
      "Validation set： - loss: 0.4407, accuracy: 0.8291, learning rate: 3.162277640949729e-09\n",
      "Epoch 7/20\n"
     ]
    },
    {
     "name": "stderr",
     "output_type": "stream",
     "text": [
      "Training: 100%|███████████████████████████████████████████████████| 198/198 [00:29<00:00,  6.66it/s]\n"
     ]
    },
    {
     "name": "stdout",
     "output_type": "stream",
     "text": [
      " - loss: 0.5088, supervised_loss: 0.4097, consistency_loss: 0.0991, accuracy: 0.8563\n",
      "Validation set： - loss: 0.4394, accuracy: 0.8311, learning rate: 3.162277640949729e-09\n",
      "Epoch 8/20\n"
     ]
    },
    {
     "name": "stderr",
     "output_type": "stream",
     "text": [
      "Training: 100%|███████████████████████████████████████████████████| 198/198 [00:27<00:00,  7.09it/s]\n"
     ]
    },
    {
     "name": "stdout",
     "output_type": "stream",
     "text": [
      " - loss: 0.5106, supervised_loss: 0.4115, consistency_loss: 0.0992, accuracy: 0.8496\n",
      "Validation set： - loss: 0.4507, accuracy: 0.8281, learning rate: 3.162277640949729e-09\n",
      "Epoch 9/20\n"
     ]
    },
    {
     "name": "stderr",
     "output_type": "stream",
     "text": [
      "Training: 100%|███████████████████████████████████████████████████| 198/198 [00:29<00:00,  6.61it/s]\n"
     ]
    },
    {
     "name": "stdout",
     "output_type": "stream",
     "text": [
      " - loss: 0.5111, supervised_loss: 0.4119, consistency_loss: 0.0993, accuracy: 0.8491\n",
      "Validation set： - loss: 0.4554, accuracy: 0.8276, learning rate: 9.999999939225292e-10\n",
      "Epoch 10/20\n"
     ]
    },
    {
     "name": "stderr",
     "output_type": "stream",
     "text": [
      "Training: 100%|███████████████████████████████████████████████████| 198/198 [00:29<00:00,  6.65it/s]\n"
     ]
    },
    {
     "name": "stdout",
     "output_type": "stream",
     "text": [
      " - loss: 0.5129, supervised_loss: 0.4131, consistency_loss: 0.0998, accuracy: 0.8487\n",
      "Validation set： - loss: 0.4343, accuracy: 0.8286, learning rate: 9.999999939225292e-10\n",
      "Epoch 11/20\n"
     ]
    },
    {
     "name": "stderr",
     "output_type": "stream",
     "text": [
      "Training: 100%|███████████████████████████████████████████████████| 198/198 [00:28<00:00,  6.98it/s]\n"
     ]
    },
    {
     "name": "stdout",
     "output_type": "stream",
     "text": [
      " - loss: 0.5037, supervised_loss: 0.4073, consistency_loss: 0.0963, accuracy: 0.8506\n",
      "Validation set： - loss: 0.4584, accuracy: 0.8251, learning rate: 9.999999939225292e-10\n",
      "Epoch 12/20\n"
     ]
    },
    {
     "name": "stderr",
     "output_type": "stream",
     "text": [
      "Training: 100%|███████████████████████████████████████████████████| 198/198 [00:28<00:00,  6.86it/s]\n"
     ]
    },
    {
     "name": "stdout",
     "output_type": "stream",
     "text": [
      " - loss: 0.5138, supervised_loss: 0.4144, consistency_loss: 0.0995, accuracy: 0.8486\n",
      "Validation set： - loss: 0.4308, accuracy: 0.8377, learning rate: 3.1622776409497293e-10\n",
      "Epoch 13/20\n"
     ]
    },
    {
     "name": "stderr",
     "output_type": "stream",
     "text": [
      "Training: 100%|███████████████████████████████████████████████████| 198/198 [00:30<00:00,  6.42it/s]\n"
     ]
    },
    {
     "name": "stdout",
     "output_type": "stream",
     "text": [
      " - loss: 0.5173, supervised_loss: 0.4176, consistency_loss: 0.0997, accuracy: 0.8484\n",
      "Validation set： - loss: 0.4582, accuracy: 0.8236, learning rate: 3.1622776409497293e-10\n",
      "Epoch 14/20\n"
     ]
    },
    {
     "name": "stderr",
     "output_type": "stream",
     "text": [
      "Training: 100%|███████████████████████████████████████████████████| 198/198 [00:29<00:00,  6.81it/s]\n"
     ]
    },
    {
     "name": "stdout",
     "output_type": "stream",
     "text": [
      " - loss: 0.5154, supervised_loss: 0.4170, consistency_loss: 0.0984, accuracy: 0.8527\n",
      "Validation set： - loss: 0.4410, accuracy: 0.8301, learning rate: 3.1622776409497293e-10\n",
      "Epoch 15/20\n"
     ]
    },
    {
     "name": "stderr",
     "output_type": "stream",
     "text": [
      "Training: 100%|███████████████████████████████████████████████████| 198/198 [00:29<00:00,  6.77it/s]\n"
     ]
    },
    {
     "name": "stdout",
     "output_type": "stream",
     "text": [
      " - loss: 0.5072, supervised_loss: 0.4074, consistency_loss: 0.0998, accuracy: 0.8579\n",
      "Validation set： - loss: 0.4278, accuracy: 0.8342, learning rate: 9.999999939225292e-11\n",
      "Epoch 16/20\n"
     ]
    },
    {
     "name": "stderr",
     "output_type": "stream",
     "text": [
      "Training: 100%|███████████████████████████████████████████████████| 198/198 [00:29<00:00,  6.61it/s]\n"
     ]
    },
    {
     "name": "stdout",
     "output_type": "stream",
     "text": [
      " - loss: 0.5112, supervised_loss: 0.4120, consistency_loss: 0.0992, accuracy: 0.8518\n",
      "Validation set： - loss: 0.4616, accuracy: 0.8261, learning rate: 9.999999939225292e-11\n",
      "Epoch 17/20\n"
     ]
    },
    {
     "name": "stderr",
     "output_type": "stream",
     "text": [
      "Training: 100%|███████████████████████████████████████████████████| 198/198 [00:30<00:00,  6.45it/s]\n"
     ]
    },
    {
     "name": "stdout",
     "output_type": "stream",
     "text": [
      " - loss: 0.5154, supervised_loss: 0.4158, consistency_loss: 0.0997, accuracy: 0.8504\n",
      "Validation set： - loss: 0.4360, accuracy: 0.8337, learning rate: 9.999999939225292e-11\n",
      "Epoch 18/20\n"
     ]
    },
    {
     "name": "stderr",
     "output_type": "stream",
     "text": [
      "Training: 100%|███████████████████████████████████████████████████| 198/198 [00:28<00:00,  6.98it/s]\n"
     ]
    },
    {
     "name": "stdout",
     "output_type": "stream",
     "text": [
      " - loss: 0.5134, supervised_loss: 0.4139, consistency_loss: 0.0995, accuracy: 0.8513\n",
      "Validation set： - loss: 0.4499, accuracy: 0.8246, learning rate: 3.162277640949729e-11\n",
      "Epoch 19/20\n"
     ]
    },
    {
     "name": "stderr",
     "output_type": "stream",
     "text": [
      "Training: 100%|███████████████████████████████████████████████████| 198/198 [00:27<00:00,  7.18it/s]\n"
     ]
    },
    {
     "name": "stdout",
     "output_type": "stream",
     "text": [
      " - loss: 0.5103, supervised_loss: 0.4136, consistency_loss: 0.0966, accuracy: 0.8526\n",
      "Validation set： - loss: 0.4431, accuracy: 0.8311, learning rate: 3.162277640949729e-11\n",
      "Epoch 20/20\n"
     ]
    },
    {
     "name": "stderr",
     "output_type": "stream",
     "text": [
      "Training: 100%|███████████████████████████████████████████████████| 198/198 [00:27<00:00,  7.09it/s]\n"
     ]
    },
    {
     "name": "stdout",
     "output_type": "stream",
     "text": [
      " - loss: 0.5137, supervised_loss: 0.4159, consistency_loss: 0.0977, accuracy: 0.8491\n",
      "Validation set： - loss: 0.4415, accuracy: 0.8301, learning rate: 3.162277640949729e-11\n"
     ]
    }
   ],
   "source": [
    "optimizer = tf.keras.optimizers.legacy.Adam(learning_rate=1e-08)\n",
    "epochs = 20\n",
    "min_val_loss = float('inf')\n",
    "num_epochs_no_improvement = 0\n",
    "current_learning_rate = optimizer.learning_rate.numpy()\n",
    "history = {\"loss\": [], \"val_loss\": [], \"accuracy\": [], \"val_accuracy\": []}\n",
    "\n",
    "for epoch in range(epochs):\n",
    "    print(f\"Epoch {epoch + 1}/{epochs}\")\n",
    "\n",
    "    total_loss = 0\n",
    "    total_supervised_loss = 0\n",
    "    total_consistency_loss = 0\n",
    "    total_accuracy = 0\n",
    "    steps = 0\n",
    "\n",
    "    total_batches = math.ceil(len(train_data) / batch_size)\n",
    "    with tqdm(total=total_batches, desc=\"Training\", ncols=100) as progress_bar:\n",
    "        for (x_batch, y_batch), (x_unlabeled, _) in zip(train_generator, unlabeled_generator):\n",
    "            progress_bar.update(1)\n",
    "            loss, supervised_loss, consistency_loss, accuracy = apply_uda(x_batch,\n",
    "                                                                          y_batch,\n",
    "                                                                          x_unlabeled,\n",
    "                                                                          model_categorical,\n",
    "                                                                          optimizer,\n",
    "                                                                          class_weight_dict_cellType)\n",
    "            total_loss += loss\n",
    "            total_supervised_loss += supervised_loss\n",
    "            total_consistency_loss += consistency_loss\n",
    "            total_accuracy += tf.reduce_mean(accuracy)\n",
    "            steps += 1\n",
    "            # 检查是否已经处理了所有批次\n",
    "            if steps * batch_size >= len(train_data):\n",
    "                break\n",
    "\n",
    "        # 计算并打印平均损失和准确率\n",
    "        avg_loss = total_loss / steps\n",
    "        avg_supervised_loss = total_supervised_loss / steps\n",
    "        avg_consistency_loss = total_consistency_loss / steps\n",
    "        avg_accuracy = total_accuracy / steps\n",
    "        history[\"loss\"].append(avg_loss.numpy())\n",
    "        history[\"accuracy\"].append(avg_accuracy.numpy())\n",
    "        print(f\" - loss: {avg_loss.numpy():.4f}, supervised_loss: {avg_supervised_loss.numpy():.4f}, consistency_loss: {avg_consistency_loss.numpy():.4f}, accuracy: {avg_accuracy.numpy():.4f}\")\n",
    "\n",
    "    total_loss = 0\n",
    "    total_accuracy = 0\n",
    "    steps = 0\n",
    "    for x_batch, y_batch in validation_cellType_generator:\n",
    "        loss, _, _, accuracy = apply_uda(x_batch, y_batch, None, model_categorical, optimizer, False)\n",
    "        total_loss += loss\n",
    "        total_accuracy += tf.reduce_mean(accuracy)\n",
    "        steps += 1\n",
    "\n",
    "        if steps * batch_size >= len(test_data):\n",
    "            break\n",
    "\n",
    "    avg_loss = total_loss / steps\n",
    "    avg_accuracy = total_accuracy / steps\n",
    "    history[\"val_loss\"].append(avg_loss.numpy())\n",
    "    history[\"val_accuracy\"].append(avg_accuracy.numpy())\n",
    "    print(f\"Validation set： - loss: {avg_loss.numpy():.4f}, accuracy: {avg_accuracy.numpy():.4f}, learning rate: {current_learning_rate}\")\n",
    "\n",
    "    # 检查是否需要更新学习率\n",
    "    if avg_loss < min_val_loss:\n",
    "        min_val_loss = loss\n",
    "        num_epochs_no_improvement = 0\n",
    "    else:\n",
    "        num_epochs_no_improvement += 1\n",
    "\n",
    "    if num_epochs_no_improvement >= 3:\n",
    "        current_learning_rate *= np.sqrt(0.1)\n",
    "        current_learning_rate = max(current_learning_rate, 0.5e-15)\n",
    "        optimizer.learning_rate.assign(current_learning_rate)\n",
    "        num_epochs_no_improvement = 0"
   ],
   "metadata": {
    "collapsed": false,
    "ExecuteTime": {
     "start_time": "2023-04-29T13:41:48.313615Z",
     "end_time": "2023-04-29T13:52:00.623542Z"
    }
   }
  },
  {
   "cell_type": "code",
   "execution_count": 70,
   "outputs": [
    {
     "data": {
      "text/plain": "<Figure size 432x288 with 1 Axes>",
      "image/png": "[encoded data removed]"
     },
     "metadata": {
      "needs_background": "light"
     },
     "output_type": "display_data"
    }
   ],
   "source": [
    "train_accuracy = history['accuracy']\n",
    "val_accuracy = history['val_accuracy']\n",
    "\n",
    "epochs_range = range(1, epochs + 1)\n",
    "\n",
    "plt.plot(epochs_range, train_accuracy, label='Training Accuracy')\n",
    "plt.plot(epochs_range, val_accuracy, label='Validation Accuracy')\n",
    "\n",
    "plt.legend()\n",
    "plt.title('Training and Validation Accuracy in binary')\n",
    "plt.xlabel('Epoch')\n",
    "plt.ylabel('Accuracy')\n",
    "\n",
    "plt.show()"
   ],
   "metadata": {
    "collapsed": false,
    "ExecuteTime": {
     "start_time": "2023-04-29T13:52:03.668809Z",
     "end_time": "2023-04-29T13:52:03.726101Z"
    }
   }
  },
  {
   "cell_type": "code",
   "execution_count": 71,
   "outputs": [
    {
     "name": "stdout",
     "output_type": "stream",
     "text": [
      "62/62 [==============================] - 2s 24ms/step - loss: 1.1442 - accuracy: 0.8167\n",
      "Loss: 1.1442, Accuracy: 0.8167\n"
     ]
    }
   ],
   "source": [
    "loss, accuracy = model_categorical.evaluate(test_cellType_generator)\n",
    "print(f\"Loss: {loss:.4f}, Accuracy: {accuracy:.4f}\")"
   ],
   "metadata": {
    "collapsed": false,
    "ExecuteTime": {
     "start_time": "2023-04-29T13:52:10.572024Z",
     "end_time": "2023-04-29T13:52:12.278548Z"
    }
   }
  }
 ],
 "metadata": {
  "kernelspec": {
   "display_name": "Python 3",
   "language": "python",
   "name": "python3"
  },
  "language_info": {
   "codemirror_mode": {
    "name": "ipython",
    "version": 2
   },
   "file_extension": ".py",
   "mimetype": "text/x-python",
   "name": "python",
   "nbconvert_exporter": "python",
   "pygments_lexer": "ipython2",
   "version": "2.7.6"
  }
 },
 "nbformat": 4,
 "nbformat_minor": 0
}
