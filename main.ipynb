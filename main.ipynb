{
 "cells": [
  {
   "cell_type": "markdown",
   "source": [
    "导包"
   ],
   "metadata": {
    "collapsed": false
   }
  },
  {
   "cell_type": "code",
   "execution_count": 1,
   "metadata": {
    "collapsed": true,
    "ExecuteTime": {
     "start_time": "2023-05-05T18:14:18.390595Z",
     "end_time": "2023-05-05T18:14:21.289932Z"
    }
   },
   "outputs": [],
   "source": [
    "import pandas as pd\n",
    "import matplotlib.pyplot as plt\n",
    "import numpy as np\n",
    "import tensorflow as tf\n",
    "from imgaug import augmenters as iaa\n",
    "import imgaug as ia\n",
    "from sklearn.model_selection import train_test_split\n",
    "from tqdm import tqdm\n",
    "import math\n",
    "import random"
   ]
  },
  {
   "cell_type": "markdown",
   "source": [
    "获取主数据集\n",
    "test_data 为不可见数据集"
   ],
   "metadata": {
    "collapsed": false
   }
  },
  {
   "cell_type": "code",
   "execution_count": 2,
   "outputs": [],
   "source": [
    "seed_value = 42\n",
    "np.random.seed(seed_value)\n",
    "tf.random.set_seed(seed_value)\n",
    "random.seed(seed_value)\n",
    "ia.seed(seed_value)\n",
    "\n",
    "data = pd.read_csv('./Image_classification_data/data_labels_mainData.csv')\n",
    "data['isCancerous'] = data['isCancerous'].astype(str)\n",
    "data['cellType'] = data['cellType'].astype(str)\n",
    "undivided_train_data, test_data = train_test_split(data, test_size=0.2, random_state=42)\n",
    "train_data, val_data = train_test_split(undivided_train_data, test_size=0.2, random_state=42)"
   ],
   "metadata": {
    "collapsed": false,
    "ExecuteTime": {
     "start_time": "2023-05-05T18:14:21.287657Z",
     "end_time": "2023-05-05T18:14:21.303602Z"
    }
   }
  },
  {
   "cell_type": "code",
   "execution_count": 159,
   "outputs": [
    {
     "data": {
      "text/plain": "([0, 1], [Text(0, 0, '0'), Text(1, 0, '1')])"
     },
     "execution_count": 159,
     "metadata": {},
     "output_type": "execute_result"
    },
    {
     "data": {
      "text/plain": "<Figure size 432x288 with 1 Axes>",
      "image/png": "[encoded data removed]"
     },
     "metadata": {
      "needs_background": "light"
     },
     "output_type": "display_data"
    }
   ],
   "source": [
    "plt.hist(train_data['isCancerous'], alpha=0.3, color='b', label='Train', density=True)\n",
    "plt.hist(test_data['isCancerous'], alpha=0.3, color='r', label='Test',  density=True)\n",
    "plt.hist(val_data['isCancerous'], alpha=0.3, color='g', label='Val',  density=True)\n",
    "plt.title('isCancerous')\n",
    "plt.xticks(rotation='vertical')"
   ],
   "metadata": {
    "collapsed": false,
    "ExecuteTime": {
     "start_time": "2023-05-04T20:00:41.871744Z",
     "end_time": "2023-05-04T20:00:42.011861Z"
    }
   }
  },
  {
   "cell_type": "code",
   "execution_count": 160,
   "outputs": [
    {
     "data": {
      "text/plain": "([0, 1, 2, 3],\n [Text(0, 0, '1'), Text(1, 0, '0'), Text(2, 0, '2'), Text(3, 0, '3')])"
     },
     "execution_count": 160,
     "metadata": {},
     "output_type": "execute_result"
    },
    {
     "data": {
      "text/plain": "<Figure size 432x288 with 1 Axes>",
      "image/png": "[encoded data removed]"
     },
     "metadata": {
      "needs_background": "light"
     },
     "output_type": "display_data"
    }
   ],
   "source": [
    "plt.hist(train_data['cellType'], alpha=0.3, color='b', label='Train', density=True)\n",
    "plt.hist(test_data['cellType'], alpha=0.3, color='r', label='Test',  density=True)\n",
    "plt.hist(val_data['cellType'], alpha=0.3, color='g', density=True)\n",
    "plt.title('cellType')\n",
    "plt.xticks(rotation='vertical')"
   ],
   "metadata": {
    "collapsed": false,
    "ExecuteTime": {
     "start_time": "2023-05-04T20:00:42.029085Z",
     "end_time": "2023-05-04T20:00:42.163562Z"
    }
   }
  },
  {
   "cell_type": "code",
   "execution_count": 3,
   "outputs": [],
   "source": [
    "class_samples_isCancerous = train_data['isCancerous'].value_counts()\n",
    "total_samples = np.sum(class_samples_isCancerous)\n",
    "class_weights_isCancerous = total_samples / class_samples_isCancerous\n",
    "class_weight_dict_isCancerous = {int(k): v for k, v in class_weights_isCancerous.to_dict().items()}\n",
    "\n",
    "class_samples_cellType = train_data['cellType'].value_counts()\n",
    "total_samples = np.sum(class_samples_cellType)\n",
    "class_weights_cellType = total_samples / class_samples_cellType\n",
    "class_weight_dict_cellType = {int(k): v for k, v in class_weights_cellType.to_dict().items()}"
   ],
   "metadata": {
    "collapsed": false,
    "ExecuteTime": {
     "start_time": "2023-05-05T18:14:22.171861Z",
     "end_time": "2023-05-05T18:14:22.176705Z"
    }
   }
  },
  {
   "cell_type": "code",
   "execution_count": 4,
   "outputs": [],
   "source": [
    "class CustomImageDataGenerator(tf.keras.preprocessing.image.ImageDataGenerator):\n",
    "    def __init__(self, num_augmentations=3, *args, **kwargs):\n",
    "        super().__init__(*args, **kwargs)\n",
    "        self.num_augmentations = num_augmentations\n",
    "\n",
    "    def apply_transform(self, x, transform_parameters):\n",
    "        augmentations = [\n",
    "            \"theta\",\n",
    "            \"tx\",\n",
    "            \"ty\",\n",
    "            \"shear\",\n",
    "            \"zx\",\n",
    "            \"zy\",\n",
    "            \"flip_horizontal\",\n",
    "            \"flip_vertical\",\n",
    "            \"brightness\",\n",
    "        ]\n",
    "\n",
    "        selected_augmentations = random.sample(augmentations, self.num_augmentations)\n",
    "        filtered_transform_parameters = {\n",
    "            key: value for key, value in transform_parameters.items() if key in selected_augmentations\n",
    "        }\n",
    "\n",
    "        return super().apply_transform(x, filtered_transform_parameters)"
   ],
   "metadata": {
    "collapsed": false,
    "ExecuteTime": {
     "start_time": "2023-05-05T18:14:24.032984Z",
     "end_time": "2023-05-05T18:14:24.040284Z"
    }
   }
  },
  {
   "cell_type": "code",
   "execution_count": 5,
   "outputs": [
    {
     "name": "stdout",
     "output_type": "stream",
     "text": [
      "Found 6332 validated image filenames belonging to 2 classes.\n",
      "Found 1584 validated image filenames belonging to 2 classes.\n",
      "Found 1980 validated image filenames belonging to 2 classes.\n"
     ]
    }
   ],
   "source": [
    "batch_size = 32\n",
    "train_datagen = CustomImageDataGenerator(\n",
    "    num_augmentations=3,\n",
    "    rescale=1./255,\n",
    "    rotation_range=40,\n",
    "    width_shift_range=0.2,\n",
    "    height_shift_range=0.2,\n",
    "    shear_range=0.2,\n",
    "    zoom_range=0.2,\n",
    "    brightness_range=[0.2,1.0],\n",
    "    horizontal_flip=True,\n",
    "    vertical_flip=True,\n",
    "    fill_mode='nearest'\n",
    ")\n",
    "\n",
    "val_datagen = tf.keras.preprocessing.image.ImageDataGenerator(\n",
    "    rescale=1./255\n",
    ")\n",
    "\n",
    "test_datagen = tf.keras.preprocessing.image.ImageDataGenerator(\n",
    "    rescale=1./255\n",
    ")\n",
    "\n",
    "train_isCancerous_generator = train_datagen.flow_from_dataframe(\n",
    "    train_data,\n",
    "    directory='./Image_classification_data/patch_images',\n",
    "    x_col='ImageName',\n",
    "    y_col='isCancerous',\n",
    "    target_size=(27, 27),\n",
    "    batch_size=batch_size,\n",
    "    class_mode='binary')\n",
    "\n",
    "val_isCancerous_generator = val_datagen.flow_from_dataframe(\n",
    "    val_data,\n",
    "    directory='./Image_classification_data/patch_images',\n",
    "    x_col='ImageName',\n",
    "    y_col='isCancerous',\n",
    "    target_size=(27, 27),\n",
    "    batch_size=batch_size,\n",
    "    class_mode='binary')\n",
    "\n",
    "test_isCancerous_generator = test_datagen.flow_from_dataframe(\n",
    "    test_data,\n",
    "    directory='./Image_classification_data/patch_images',\n",
    "    x_col='ImageName',\n",
    "    y_col='isCancerous',\n",
    "    target_size=(27, 27),\n",
    "    batch_size=batch_size,\n",
    "    class_mode='binary')"
   ],
   "metadata": {
    "collapsed": false,
    "ExecuteTime": {
     "start_time": "2023-05-05T18:14:25.629488Z",
     "end_time": "2023-05-05T18:14:25.746883Z"
    }
   }
  },
  {
   "cell_type": "code",
   "execution_count": 6,
   "outputs": [
    {
     "name": "stdout",
     "output_type": "stream",
     "text": [
      "Found 6332 validated image filenames belonging to 4 classes.\n",
      "Found 1584 validated image filenames belonging to 4 classes.\n",
      "Found 1980 validated image filenames belonging to 4 classes.\n"
     ]
    }
   ],
   "source": [
    "train_cellType_generator = train_datagen.flow_from_dataframe(\n",
    "    train_data,\n",
    "    directory='./Image_classification_data/patch_images',\n",
    "    x_col='ImageName',\n",
    "    y_col='cellType',\n",
    "    target_size=(27, 27),\n",
    "    batch_size=batch_size,\n",
    "    class_mode='categorical')\n",
    "\n",
    "val_cellType_generator = val_datagen.flow_from_dataframe(\n",
    "    val_data,\n",
    "    directory='./Image_classification_data/patch_images',\n",
    "    x_col='ImageName',\n",
    "    y_col='cellType',\n",
    "    target_size=(27, 27),\n",
    "    batch_size=batch_size,\n",
    "    class_mode='categorical')\n",
    "\n",
    "test_cellType_generator = test_datagen.flow_from_dataframe(\n",
    "    test_data,\n",
    "    directory='./Image_classification_data/patch_images',\n",
    "    x_col='ImageName',\n",
    "    y_col='cellType',\n",
    "    target_size=(27, 27),\n",
    "    batch_size=batch_size,\n",
    "    class_mode='categorical')"
   ],
   "metadata": {
    "collapsed": false,
    "ExecuteTime": {
     "start_time": "2023-05-05T18:14:27.825561Z",
     "end_time": "2023-05-05T18:14:27.928932Z"
    }
   }
  },
  {
   "cell_type": "code",
   "execution_count": 7,
   "outputs": [],
   "source": [
    "class F1Score(tf.keras.metrics.Metric):\n",
    "    def __init__(self, name='f1_score', **kwargs):\n",
    "        super().__init__(name=name, **kwargs)\n",
    "        self.precision = tf.keras.metrics.Precision()\n",
    "        self.recall = tf.keras.metrics.Recall()\n",
    "\n",
    "    def update_state(self, y_true, y_pred, sample_weight=None):\n",
    "        self.precision.update_state(y_true, y_pred, sample_weight)\n",
    "        self.recall.update_state(y_true, y_pred, sample_weight)\n",
    "\n",
    "    def result(self):\n",
    "        precision = self.precision.result()\n",
    "        recall = self.recall.result()\n",
    "        return 2 * ((precision * recall) / (precision + recall + tf.keras.backend.epsilon()))\n",
    "\n",
    "    def reset_state(self):\n",
    "        self.precision.reset_states()\n",
    "        self.recall.reset_states()\n",
    "\n",
    "    def get_config(self):\n",
    "        return super().get_config()\n",
    "\n",
    "    @classmethod\n",
    "    def from_config(cls, config):\n",
    "        return cls(**config)\n",
    "\n",
    "\n",
    "class MultiCategoryF1Score(tf.keras.metrics.Metric):\n",
    "    def __init__(self, num_category=4, average='macro', name='f1_score', **kwargs):\n",
    "        super().__init__(name=name, **kwargs)\n",
    "        self.num_classes = num_category\n",
    "        self.average = average\n",
    "        self.confusion_matrix = self.add_weight(name=\"confusion_matrix\", shape=(num_classes, num_classes), initializer=\"zeros\", dtype=tf.float32)\n",
    "\n",
    "\n",
    "    def update_state(self, y_true, y_pred, sample_weight=None):\n",
    "        y_true = tf.argmax(y_true, axis=-1)\n",
    "        y_pred = tf.argmax(y_pred, axis=-1)\n",
    "        current_confusion_matrix = tf.math.confusion_matrix(y_true, y_pred, num_classes=self.num_classes, dtype=tf.float32)\n",
    "        self.confusion_matrix.assign_add(current_confusion_matrix)\n",
    "\n",
    "\n",
    "    def result(self):\n",
    "        confusion_matrix = self.total_confusion_matrix\n",
    "        tp = tf.linalg.diag_part(confusion_matrix)\n",
    "        fp = tf.reduce_sum(confusion_matrix, axis=0) - tp\n",
    "        fn = tf.reduce_sum(confusion_matrix, axis=1) - tp\n",
    "\n",
    "        precision_per_class = tp / (tp + fp)\n",
    "        recall_per_class = tp / (tp + fn)\n",
    "\n",
    "        if self.average == 'micro':\n",
    "            precision = tf.reduce_sum(tp) / (tf.reduce_sum(tp) + tf.reduce_sum(fp))\n",
    "            recall = tf.reduce_sum(tp) / (tf.reduce_sum(tp) + tf.reduce_sum(fn))\n",
    "        elif self.average == 'macro':\n",
    "            precision = tf.reduce_mean(precision_per_class)\n",
    "            recall = tf.reduce_mean(recall_per_class)\n",
    "        elif self.average == 'weighted':\n",
    "            weights = tf.reduce_sum(confusion_matrix, axis=1)\n",
    "            precision = tf.reduce_sum(precision_per_class * weights) / tf.reduce_sum(weights)\n",
    "            recall = tf.reduce_sum(recall_per_class * weights) / tf.reduce_sum(weights)\n",
    "        else:\n",
    "            raise ValueError(\"Invalid average type. Accepted values are: 'micro', 'macro', 'weighted'\")\n",
    "\n",
    "        return 2 * ((precision * recall) / (precision + recall + tf.keras.backend.epsilon()))\n",
    "\n",
    "    def reset_states(self):\n",
    "        self.confusion_matrix.assign(tf.zeros_like(self.confusion_matrix))\n",
    "\n",
    "    def get_config(self):\n",
    "        config = super().get_config()\n",
    "        config.update({\"num_classes\": self.num_classes, \"average\": self.average})\n",
    "        return config\n",
    "\n",
    "    @classmethod\n",
    "    def from_config(cls, config):\n",
    "        return cls(**config)\n"
   ],
   "metadata": {
    "collapsed": false,
    "ExecuteTime": {
     "start_time": "2023-05-05T18:14:32.301514Z",
     "end_time": "2023-05-05T18:14:32.311570Z"
    }
   }
  },
  {
   "cell_type": "code",
   "execution_count": 8,
   "outputs": [
    {
     "name": "stdout",
     "output_type": "stream",
     "text": [
      "Metal device set to: Apple M1 Pro\n"
     ]
    }
   ],
   "source": [
    "input_shape = (27, 27, 3)\n",
    "num_classes = 4\n",
    "l2_coeff = 0.01\n",
    "baseline_binary = tf.keras.models.Sequential([\n",
    "    tf.keras.layers.Flatten(),\n",
    "    tf.keras.layers.Dense(512, activation='relu'),\n",
    "    tf.keras.layers.Dense(512, activation='relu'),\n",
    "    tf.keras.layers.Dense(1, activation='sigmoid')\n",
    "])"
   ],
   "metadata": {
    "collapsed": false,
    "ExecuteTime": {
     "start_time": "2023-05-05T18:14:35.742679Z",
     "end_time": "2023-05-05T18:14:35.746510Z"
    }
   }
  },
  {
   "cell_type": "code",
   "execution_count": 167,
   "outputs": [],
   "source": [
    "baseline_categorical = tf.keras.models.Sequential([\n",
    "    tf.keras.layers.Flatten(),\n",
    "    tf.keras.layers.Dense(512, activation='relu'),\n",
    "    tf.keras.layers.Dense(512, activation='relu'),\n",
    "    tf.keras.layers.Dense(num_classes, activation='softmax')\n",
    "])"
   ],
   "metadata": {
    "collapsed": false,
    "ExecuteTime": {
     "start_time": "2023-05-04T20:00:42.461665Z",
     "end_time": "2023-05-04T20:00:42.466174Z"
    }
   }
  },
  {
   "cell_type": "code",
   "execution_count": 15,
   "outputs": [
    {
     "ename": "NameError",
     "evalue": "name 'baseline_categorical' is not defined",
     "output_type": "error",
     "traceback": [
      "\u001B[0;31m---------------------------------------------------------------------------\u001B[0m",
      "\u001B[0;31mNameError\u001B[0m                                 Traceback (most recent call last)",
      "Input \u001B[0;32mIn [15]\u001B[0m, in \u001B[0;36m<cell line: 8>\u001B[0;34m()\u001B[0m\n\u001B[1;32m      1\u001B[0m baseline_binary\u001B[38;5;241m.\u001B[39mcompile(loss\u001B[38;5;241m=\u001B[39m\u001B[38;5;124m'\u001B[39m\u001B[38;5;124mbinary_crossentropy\u001B[39m\u001B[38;5;124m'\u001B[39m,\n\u001B[1;32m      2\u001B[0m                      optimizer\u001B[38;5;241m=\u001B[39mtf\u001B[38;5;241m.\u001B[39mkeras\u001B[38;5;241m.\u001B[39moptimizers\u001B[38;5;241m.\u001B[39mlegacy\u001B[38;5;241m.\u001B[39mAdam(learning_rate\u001B[38;5;241m=\u001B[39m\u001B[38;5;241m0.0001\u001B[39m),\n\u001B[1;32m      3\u001B[0m                      metrics\u001B[38;5;241m=\u001B[39m[\u001B[38;5;124m'\u001B[39m\u001B[38;5;124maccuracy\u001B[39m\u001B[38;5;124m'\u001B[39m,\n\u001B[1;32m      4\u001B[0m                               tf\u001B[38;5;241m.\u001B[39mkeras\u001B[38;5;241m.\u001B[39mmetrics\u001B[38;5;241m.\u001B[39mPrecision(name\u001B[38;5;241m=\u001B[39m\u001B[38;5;124m'\u001B[39m\u001B[38;5;124mprecision\u001B[39m\u001B[38;5;124m'\u001B[39m),\n\u001B[1;32m      5\u001B[0m                               tf\u001B[38;5;241m.\u001B[39mkeras\u001B[38;5;241m.\u001B[39mmetrics\u001B[38;5;241m.\u001B[39mRecall(name\u001B[38;5;241m=\u001B[39m\u001B[38;5;124m'\u001B[39m\u001B[38;5;124mrecall\u001B[39m\u001B[38;5;124m'\u001B[39m),\n\u001B[1;32m      6\u001B[0m                               F1Score()])\n\u001B[0;32m----> 8\u001B[0m \u001B[43mbaseline_categorical\u001B[49m\u001B[38;5;241m.\u001B[39mcompile(loss\u001B[38;5;241m=\u001B[39m\u001B[38;5;124m'\u001B[39m\u001B[38;5;124mcategorical_crossentropy\u001B[39m\u001B[38;5;124m'\u001B[39m,\n\u001B[1;32m      9\u001B[0m                              optimizer\u001B[38;5;241m=\u001B[39mtf\u001B[38;5;241m.\u001B[39mkeras\u001B[38;5;241m.\u001B[39moptimizers\u001B[38;5;241m.\u001B[39mlegacy\u001B[38;5;241m.\u001B[39mAdam(learning_rate\u001B[38;5;241m=\u001B[39m\u001B[38;5;241m0.0005\u001B[39m),\n\u001B[1;32m     10\u001B[0m                              metrics\u001B[38;5;241m=\u001B[39m[\u001B[38;5;124m'\u001B[39m\u001B[38;5;124maccuracy\u001B[39m\u001B[38;5;124m'\u001B[39m,\n\u001B[1;32m     11\u001B[0m                                       tf\u001B[38;5;241m.\u001B[39mkeras\u001B[38;5;241m.\u001B[39mmetrics\u001B[38;5;241m.\u001B[39mPrecision(name\u001B[38;5;241m=\u001B[39m\u001B[38;5;124m'\u001B[39m\u001B[38;5;124mprecision\u001B[39m\u001B[38;5;124m'\u001B[39m),\n\u001B[1;32m     12\u001B[0m                                       tf\u001B[38;5;241m.\u001B[39mkeras\u001B[38;5;241m.\u001B[39mmetrics\u001B[38;5;241m.\u001B[39mRecall(name\u001B[38;5;241m=\u001B[39m\u001B[38;5;124m'\u001B[39m\u001B[38;5;124mrecall\u001B[39m\u001B[38;5;124m'\u001B[39m),\n\u001B[1;32m     13\u001B[0m                                       MultiCategoryF1Score(num_category\u001B[38;5;241m=\u001B[39m\u001B[38;5;241m4\u001B[39m)])\n",
      "\u001B[0;31mNameError\u001B[0m: name 'baseline_categorical' is not defined"
     ]
    }
   ],
   "source": [
    "baseline_binary.compile(loss='binary_crossentropy',\n",
    "                     optimizer=tf.keras.optimizers.legacy.Adam(learning_rate=0.0001),\n",
    "                     metrics=['accuracy',\n",
    "                              tf.keras.metrics.Precision(name='precision'),\n",
    "                              tf.keras.metrics.Recall(name='recall'),\n",
    "                              F1Score()])\n",
    "\n",
    "baseline_categorical.compile(loss='categorical_crossentropy',\n",
    "                             optimizer=tf.keras.optimizers.legacy.Adam(learning_rate=0.0005),\n",
    "                             metrics=['accuracy',\n",
    "                                      tf.keras.metrics.Precision(name='precision'),\n",
    "                                      tf.keras.metrics.Recall(name='recall'),\n",
    "                                      MultiCategoryF1Score(num_category=4)])"
   ],
   "metadata": {
    "collapsed": false,
    "ExecuteTime": {
     "start_time": "2023-05-04T20:00:42.469417Z",
     "end_time": "2023-05-04T20:00:42.514252Z"
    }
   }
  },
  {
   "cell_type": "code",
   "execution_count": 169,
   "outputs": [
    {
     "name": "stdout",
     "output_type": "stream",
     "text": [
      "Epoch 1/100\n",
      "197/197 [==============================] - 4s 17ms/step - loss: 1.1347 - accuracy: 0.7189 - precision: 0.6511 - recall: 0.7033 - f1_score: 0.6762 - val_loss: 0.4557 - val_accuracy: 0.7889 - val_precision: 0.6760 - val_recall: 0.9332 - val_f1_score: 0.7841\n",
      "Epoch 2/100\n",
      "197/197 [==============================] - 3s 14ms/step - loss: 0.8647 - accuracy: 0.8127 - precision: 0.7513 - recall: 0.8223 - f1_score: 0.7852 - val_loss: 0.3487 - val_accuracy: 0.8527 - val_precision: 0.8627 - val_recall: 0.7621 - val_f1_score: 0.8092\n",
      "Epoch 3/100\n",
      "197/197 [==============================] - 3s 14ms/step - loss: 0.8815 - accuracy: 0.8010 - precision: 0.7353 - recall: 0.8170 - f1_score: 0.7740 - val_loss: 0.3470 - val_accuracy: 0.8457 - val_precision: 0.8667 - val_recall: 0.7335 - val_f1_score: 0.7946\n",
      "Epoch 4/100\n",
      "197/197 [==============================] - 3s 13ms/step - loss: 0.8251 - accuracy: 0.8202 - precision: 0.7518 - recall: 0.8483 - f1_score: 0.7971 - val_loss: 0.5132 - val_accuracy: 0.7685 - val_precision: 0.9266 - val_recall: 0.4720 - val_f1_score: 0.6254\n",
      "Epoch 5/100\n",
      "197/197 [==============================] - 3s 13ms/step - loss: 0.8118 - accuracy: 0.8256 - precision: 0.7569 - recall: 0.8564 - f1_score: 0.8036 - val_loss: 0.3512 - val_accuracy: 0.8489 - val_precision: 0.7554 - val_recall: 0.9295 - val_f1_score: 0.8335\n",
      "Epoch 6/100\n",
      "197/197 [==============================] - 3s 13ms/step - loss: 0.8095 - accuracy: 0.8279 - precision: 0.7603 - recall: 0.8581 - f1_score: 0.8062 - val_loss: 0.3215 - val_accuracy: 0.8635 - val_precision: 0.8105 - val_recall: 0.8687 - val_f1_score: 0.8386\n",
      "Epoch 7/100\n",
      "197/197 [==============================] - 3s 13ms/step - loss: 0.7844 - accuracy: 0.8279 - precision: 0.7585 - recall: 0.8613 - f1_score: 0.8066 - val_loss: 0.3227 - val_accuracy: 0.8622 - val_precision: 0.8387 - val_recall: 0.8203 - val_f1_score: 0.8294\n",
      "Epoch 8/100\n",
      "197/197 [==============================] - 3s 13ms/step - loss: 0.7792 - accuracy: 0.8300 - precision: 0.7615 - recall: 0.8616 - f1_score: 0.8084 - val_loss: 0.3238 - val_accuracy: 0.8552 - val_precision: 0.8412 - val_recall: 0.7981 - val_f1_score: 0.8191\n",
      "Epoch 9/100\n",
      "197/197 [==============================] - 3s 13ms/step - loss: 0.7796 - accuracy: 0.8305 - precision: 0.7617 - recall: 0.8632 - f1_score: 0.8093 - val_loss: 0.4102 - val_accuracy: 0.8017 - val_precision: 0.6817 - val_recall: 0.9673 - val_f1_score: 0.7997\n",
      "Epoch 10/100\n",
      "197/197 [==============================] - 3s 13ms/step - loss: 0.7741 - accuracy: 0.8306 - precision: 0.7603 - recall: 0.8666 - f1_score: 0.8100 - val_loss: 0.3126 - val_accuracy: 0.8661 - val_precision: 0.8127 - val_recall: 0.8758 - val_f1_score: 0.8430\n",
      "Epoch 11/100\n",
      "197/197 [==============================] - 3s 13ms/step - loss: 0.7767 - accuracy: 0.8310 - precision: 0.7630 - recall: 0.8626 - f1_score: 0.8097 - val_loss: 0.3269 - val_accuracy: 0.8540 - val_precision: 0.8576 - val_recall: 0.7740 - val_f1_score: 0.8137\n",
      "Epoch 12/100\n",
      "197/197 [==============================] - 3s 13ms/step - loss: 0.7639 - accuracy: 0.8376 - precision: 0.7681 - recall: 0.8743 - f1_score: 0.8177 - val_loss: 0.3062 - val_accuracy: 0.8680 - val_precision: 0.8349 - val_recall: 0.8440 - val_f1_score: 0.8394\n",
      "Epoch 13/100\n",
      "197/197 [==============================] - 3s 13ms/step - loss: 0.7619 - accuracy: 0.8370 - precision: 0.7693 - recall: 0.8698 - f1_score: 0.8164 - val_loss: 0.3067 - val_accuracy: 0.8661 - val_precision: 0.8333 - val_recall: 0.8411 - val_f1_score: 0.8372\n",
      "Epoch 14/100\n",
      "197/197 [==============================] - 3s 13ms/step - loss: 0.7326 - accuracy: 0.8405 - precision: 0.7731 - recall: 0.8740 - f1_score: 0.8204 - val_loss: 0.3071 - val_accuracy: 0.8661 - val_precision: 0.8273 - val_recall: 0.8505 - val_f1_score: 0.8387\n",
      "Epoch 15/100\n",
      "197/197 [==============================] - 3s 13ms/step - loss: 0.7460 - accuracy: 0.8410 - precision: 0.7731 - recall: 0.8750 - f1_score: 0.8209 - val_loss: 0.3261 - val_accuracy: 0.8533 - val_precision: 0.7696 - val_recall: 0.9159 - val_f1_score: 0.8364\n",
      "Epoch 16/100\n",
      "197/197 [==============================] - 3s 13ms/step - loss: 0.7239 - accuracy: 0.8459 - precision: 0.7814 - recall: 0.8751 - f1_score: 0.8256 - val_loss: 0.2997 - val_accuracy: 0.8737 - val_precision: 0.8407 - val_recall: 0.8538 - val_f1_score: 0.8472\n",
      "Epoch 17/100\n",
      "197/197 [==============================] - 3s 13ms/step - loss: 0.7222 - accuracy: 0.8456 - precision: 0.7802 - recall: 0.8757 - f1_score: 0.8252 - val_loss: 0.3135 - val_accuracy: 0.8648 - val_precision: 0.7919 - val_recall: 0.9099 - val_f1_score: 0.8468\n",
      "Epoch 18/100\n",
      "197/197 [==============================] - 3s 13ms/step - loss: 0.7210 - accuracy: 0.8454 - precision: 0.7806 - recall: 0.8761 - f1_score: 0.8256 - val_loss: 0.3125 - val_accuracy: 0.8724 - val_precision: 0.8625 - val_recall: 0.8196 - val_f1_score: 0.8405\n",
      "Epoch 19/100\n",
      "197/197 [==============================] - 3s 13ms/step - loss: 0.7114 - accuracy: 0.8483 - precision: 0.7836 - recall: 0.8785 - f1_score: 0.8284 - val_loss: 0.2971 - val_accuracy: 0.8712 - val_precision: 0.8062 - val_recall: 0.8997 - val_f1_score: 0.8504\n",
      "Epoch 20/100\n",
      "197/197 [==============================] - 3s 13ms/step - loss: 0.7431 - accuracy: 0.8424 - precision: 0.7786 - recall: 0.8691 - f1_score: 0.8214 - val_loss: 0.2995 - val_accuracy: 0.8712 - val_precision: 0.8069 - val_recall: 0.9022 - val_f1_score: 0.8519\n",
      "Epoch 21/100\n",
      "197/197 [==============================] - 3s 13ms/step - loss: 0.7297 - accuracy: 0.8389 - precision: 0.7701 - recall: 0.8757 - f1_score: 0.8195 - val_loss: 0.2938 - val_accuracy: 0.8782 - val_precision: 0.8388 - val_recall: 0.8713 - val_f1_score: 0.8548\n",
      "Epoch 22/100\n",
      "197/197 [==============================] - 3s 13ms/step - loss: 0.6881 - accuracy: 0.8505 - precision: 0.7854 - recall: 0.8823 - f1_score: 0.8310 - val_loss: 0.3358 - val_accuracy: 0.8476 - val_precision: 0.7522 - val_recall: 0.9379 - val_f1_score: 0.8348\n",
      "Epoch 23/100\n",
      "197/197 [==============================] - 2s 12ms/step - loss: 0.7114 - accuracy: 0.8522 - precision: 0.7894 - recall: 0.8805 - f1_score: 0.8325 - val_loss: 0.3005 - val_accuracy: 0.8756 - val_precision: 0.8691 - val_recall: 0.8220 - val_f1_score: 0.8449\n",
      "Epoch 24/100\n",
      "197/197 [==============================] - 2s 12ms/step - loss: 0.7151 - accuracy: 0.8492 - precision: 0.7887 - recall: 0.8711 - f1_score: 0.8278 - val_loss: 0.2884 - val_accuracy: 0.8744 - val_precision: 0.8213 - val_recall: 0.8865 - val_f1_score: 0.8527\n",
      "Epoch 25/100\n",
      "197/197 [==============================] - 2s 12ms/step - loss: 0.7319 - accuracy: 0.8413 - precision: 0.7788 - recall: 0.8653 - f1_score: 0.8198 - val_loss: 0.3347 - val_accuracy: 0.8520 - val_precision: 0.7569 - val_recall: 0.9391 - val_f1_score: 0.8382\n",
      "Epoch 26/100\n",
      "197/197 [==============================] - 2s 12ms/step - loss: 0.7045 - accuracy: 0.8502 - precision: 0.7881 - recall: 0.8753 - f1_score: 0.8294 - val_loss: 0.2974 - val_accuracy: 0.8731 - val_precision: 0.8132 - val_recall: 0.8977 - val_f1_score: 0.8534\n",
      "Epoch 27/100\n",
      "197/197 [==============================] - 2s 12ms/step - loss: 0.6918 - accuracy: 0.8544 - precision: 0.7942 - recall: 0.8791 - f1_score: 0.8345 - val_loss: 0.2980 - val_accuracy: 0.8731 - val_precision: 0.8075 - val_recall: 0.9067 - val_f1_score: 0.8542\n",
      "Epoch 28/100\n",
      "197/197 [==============================] - 2s 12ms/step - loss: 0.6916 - accuracy: 0.8611 - precision: 0.8004 - recall: 0.8880 - f1_score: 0.8419 - val_loss: 0.2935 - val_accuracy: 0.8763 - val_precision: 0.8175 - val_recall: 0.8989 - val_f1_score: 0.8563\n",
      "Epoch 29/100\n",
      "197/197 [==============================] - 2s 12ms/step - loss: 0.6818 - accuracy: 0.8540 - precision: 0.7939 - recall: 0.8769 - f1_score: 0.8333 - val_loss: 0.3165 - val_accuracy: 0.8680 - val_precision: 0.8776 - val_recall: 0.7891 - val_f1_score: 0.8310\n",
      "Epoch 30/100\n",
      "197/197 [==============================] - 2s 12ms/step - loss: 0.6943 - accuracy: 0.8522 - precision: 0.7905 - recall: 0.8786 - f1_score: 0.8322 - val_loss: 0.3141 - val_accuracy: 0.8648 - val_precision: 0.7823 - val_recall: 0.9266 - val_f1_score: 0.8484\n",
      "Epoch 31/100\n",
      "197/197 [==============================] - 2s 12ms/step - loss: 0.6880 - accuracy: 0.8573 - precision: 0.7979 - recall: 0.8808 - f1_score: 0.8373 - val_loss: 0.2986 - val_accuracy: 0.8693 - val_precision: 0.7981 - val_recall: 0.9132 - val_f1_score: 0.8518\n",
      "Epoch 32/100\n",
      "197/197 [==============================] - 2s 12ms/step - loss: 0.6883 - accuracy: 0.8559 - precision: 0.7953 - recall: 0.8812 - f1_score: 0.8360 - val_loss: 0.3333 - val_accuracy: 0.8476 - val_precision: 0.7535 - val_recall: 0.9312 - val_f1_score: 0.8330\n",
      "Epoch 33/100\n",
      "197/197 [==============================] - 2s 12ms/step - loss: 0.6706 - accuracy: 0.8616 - precision: 0.8031 - recall: 0.8845 - f1_score: 0.8419 - val_loss: 0.2869 - val_accuracy: 0.8833 - val_precision: 0.8314 - val_recall: 0.8974 - val_f1_score: 0.8631\n",
      "Epoch 34/100\n",
      "197/197 [==============================] - 2s 12ms/step - loss: 0.6750 - accuracy: 0.8570 - precision: 0.7978 - recall: 0.8796 - f1_score: 0.8367 - val_loss: 0.3154 - val_accuracy: 0.8565 - val_precision: 0.7733 - val_recall: 0.9190 - val_f1_score: 0.8399\n",
      "Epoch 35/100\n",
      "197/197 [==============================] - 2s 12ms/step - loss: 0.6821 - accuracy: 0.8537 - precision: 0.7933 - recall: 0.8768 - f1_score: 0.8330 - val_loss: 0.2818 - val_accuracy: 0.8788 - val_precision: 0.8378 - val_recall: 0.8719 - val_f1_score: 0.8545\n",
      "Epoch 36/100\n",
      "197/197 [==============================] - 2s 12ms/step - loss: 0.6957 - accuracy: 0.8554 - precision: 0.7957 - recall: 0.8790 - f1_score: 0.8353 - val_loss: 0.2870 - val_accuracy: 0.8807 - val_precision: 0.8250 - val_recall: 0.9006 - val_f1_score: 0.8612\n",
      "Epoch 37/100\n",
      "197/197 [==============================] - 2s 13ms/step - loss: 0.6806 - accuracy: 0.8557 - precision: 0.7973 - recall: 0.8776 - f1_score: 0.8355 - val_loss: 0.3099 - val_accuracy: 0.8724 - val_precision: 0.8847 - val_recall: 0.7944 - val_f1_score: 0.8371\n",
      "Epoch 38/100\n",
      "197/197 [==============================] - 2s 12ms/step - loss: 0.6743 - accuracy: 0.8587 - precision: 0.8010 - recall: 0.8792 - f1_score: 0.8383 - val_loss: 0.2839 - val_accuracy: 0.8782 - val_precision: 0.8527 - val_recall: 0.8487 - val_f1_score: 0.8507\n",
      "Epoch 39/100\n",
      "197/197 [==============================] - 2s 12ms/step - loss: 0.6507 - accuracy: 0.8635 - precision: 0.8081 - recall: 0.8819 - f1_score: 0.8434 - val_loss: 0.3285 - val_accuracy: 0.8616 - val_precision: 0.7712 - val_recall: 0.9390 - val_f1_score: 0.8469\n",
      "Epoch 40/100\n",
      "197/197 [==============================] - 2s 12ms/step - loss: 0.6653 - accuracy: 0.8619 - precision: 0.8008 - recall: 0.8899 - f1_score: 0.8430 - val_loss: 0.3237 - val_accuracy: 0.8514 - val_precision: 0.7598 - val_recall: 0.9332 - val_f1_score: 0.8376\n",
      "Epoch 41/100\n",
      "197/197 [==============================] - 2s 12ms/step - loss: 0.6643 - accuracy: 0.8659 - precision: 0.8101 - recall: 0.8862 - f1_score: 0.8464 - val_loss: 0.2879 - val_accuracy: 0.8795 - val_precision: 0.8358 - val_recall: 0.8787 - val_f1_score: 0.8567\n",
      "Epoch 42/100\n",
      "197/197 [==============================] - 2s 12ms/step - loss: 0.6930 - accuracy: 0.8489 - precision: 0.7905 - recall: 0.8665 - f1_score: 0.8267 - val_loss: 0.3264 - val_accuracy: 0.8591 - val_precision: 0.8750 - val_recall: 0.7682 - val_f1_score: 0.8181\n",
      "Epoch 43/100\n",
      "197/197 [==============================] - 2s 12ms/step - loss: 0.6611 - accuracy: 0.8610 - precision: 0.8049 - recall: 0.8797 - f1_score: 0.8407 - val_loss: 0.2809 - val_accuracy: 0.8801 - val_precision: 0.8455 - val_recall: 0.8665 - val_f1_score: 0.8558\n",
      "Epoch 44/100\n",
      "197/197 [==============================] - 2s 12ms/step - loss: 0.6747 - accuracy: 0.8570 - precision: 0.8016 - recall: 0.8722 - f1_score: 0.8354 - val_loss: 0.2776 - val_accuracy: 0.8801 - val_precision: 0.8549 - val_recall: 0.8523 - val_f1_score: 0.8536\n",
      "Epoch 45/100\n",
      "197/197 [==============================] - 2s 12ms/step - loss: 0.6582 - accuracy: 0.8616 - precision: 0.8035 - recall: 0.8838 - f1_score: 0.8417 - val_loss: 0.3121 - val_accuracy: 0.8718 - val_precision: 0.9033 - val_recall: 0.7698 - val_f1_score: 0.8312\n",
      "Epoch 46/100\n",
      "197/197 [==============================] - 2s 12ms/step - loss: 0.6555 - accuracy: 0.8627 - precision: 0.8063 - recall: 0.8827 - f1_score: 0.8428 - val_loss: 0.2932 - val_accuracy: 0.8744 - val_precision: 0.8590 - val_recall: 0.8310 - val_f1_score: 0.8448\n",
      "Epoch 47/100\n",
      "197/197 [==============================] - 2s 12ms/step - loss: 0.6290 - accuracy: 0.8660 - precision: 0.8149 - recall: 0.8777 - f1_score: 0.8451 - val_loss: 0.2844 - val_accuracy: 0.8820 - val_precision: 0.8562 - val_recall: 0.8549 - val_f1_score: 0.8556\n",
      "Epoch 48/100\n",
      "197/197 [==============================] - 2s 13ms/step - loss: 0.6554 - accuracy: 0.8610 - precision: 0.8052 - recall: 0.8783 - f1_score: 0.8402 - val_loss: 0.2865 - val_accuracy: 0.8782 - val_precision: 0.8201 - val_recall: 0.9005 - val_f1_score: 0.8584\n",
      "Epoch 49/100\n",
      "197/197 [==============================] - 2s 12ms/step - loss: 0.6435 - accuracy: 0.8662 - precision: 0.8106 - recall: 0.8867 - f1_score: 0.8470 - val_loss: 0.2747 - val_accuracy: 0.8839 - val_precision: 0.8519 - val_recall: 0.8678 - val_f1_score: 0.8598\n",
      "Epoch 50/100\n",
      "197/197 [==============================] - 2s 12ms/step - loss: 0.6521 - accuracy: 0.8673 - precision: 0.8160 - recall: 0.8800 - f1_score: 0.8468 - val_loss: 0.3903 - val_accuracy: 0.8189 - val_precision: 0.7009 - val_recall: 0.9703 - val_f1_score: 0.8139\n",
      "Epoch 51/100\n",
      "197/197 [==============================] - 2s 12ms/step - loss: 0.6827 - accuracy: 0.8557 - precision: 0.7987 - recall: 0.8744 - f1_score: 0.8349 - val_loss: 0.2853 - val_accuracy: 0.8820 - val_precision: 0.8562 - val_recall: 0.8549 - val_f1_score: 0.8556\n",
      "Epoch 52/100\n",
      "197/197 [==============================] - 2s 12ms/step - loss: 0.6471 - accuracy: 0.8625 - precision: 0.8055 - recall: 0.8839 - f1_score: 0.8429 - val_loss: 0.4297 - val_accuracy: 0.8272 - val_precision: 0.9129 - val_recall: 0.6381 - val_f1_score: 0.7511\n",
      "Epoch 53/100\n",
      "197/197 [==============================] - 2s 12ms/step - loss: 0.6805 - accuracy: 0.8617 - precision: 0.8053 - recall: 0.8816 - f1_score: 0.8417 - val_loss: 0.3171 - val_accuracy: 0.8616 - val_precision: 0.8879 - val_recall: 0.7559 - val_f1_score: 0.8166\n",
      "Epoch 54/100\n",
      "197/197 [==============================] - 2s 12ms/step - loss: 0.6568 - accuracy: 0.8630 - precision: 0.8077 - recall: 0.8822 - f1_score: 0.8433 - val_loss: 0.2959 - val_accuracy: 0.8807 - val_precision: 0.8878 - val_recall: 0.8118 - val_f1_score: 0.8481\n",
      "Epoch 55/100\n",
      "197/197 [==============================] - 2s 13ms/step - loss: 0.6405 - accuracy: 0.8676 - precision: 0.8136 - recall: 0.8849 - f1_score: 0.8478 - val_loss: 0.3070 - val_accuracy: 0.8699 - val_precision: 0.8852 - val_recall: 0.7828 - val_f1_score: 0.8308\n",
      "Epoch 56/100\n",
      "197/197 [==============================] - 2s 12ms/step - loss: 0.6354 - accuracy: 0.8683 - precision: 0.8149 - recall: 0.8850 - f1_score: 0.8485 - val_loss: 0.2803 - val_accuracy: 0.8788 - val_precision: 0.8265 - val_recall: 0.8887 - val_f1_score: 0.8565\n",
      "Epoch 57/100\n",
      "197/197 [==============================] - 2s 12ms/step - loss: 0.6442 - accuracy: 0.8675 - precision: 0.8111 - recall: 0.8887 - f1_score: 0.8482 - val_loss: 0.2796 - val_accuracy: 0.8846 - val_precision: 0.8477 - val_recall: 0.8754 - val_f1_score: 0.8613\n",
      "Epoch 58/100\n",
      "197/197 [==============================] - 2s 12ms/step - loss: 0.6428 - accuracy: 0.8659 - precision: 0.8140 - recall: 0.8793 - f1_score: 0.8454 - val_loss: 0.3018 - val_accuracy: 0.8763 - val_precision: 0.8795 - val_recall: 0.8081 - val_f1_score: 0.8423\n",
      "Epoch 59/100\n",
      "197/197 [==============================] - 2s 12ms/step - loss: 0.6437 - accuracy: 0.8627 - precision: 0.8064 - recall: 0.8823 - f1_score: 0.8426 - val_loss: 0.2878 - val_accuracy: 0.8795 - val_precision: 0.8136 - val_recall: 0.9141 - val_f1_score: 0.8609\n",
      "Epoch 60/100\n",
      "197/197 [==============================] - 2s 12ms/step - loss: 0.6547 - accuracy: 0.8679 - precision: 0.8152 - recall: 0.8840 - f1_score: 0.8482 - val_loss: 0.3320 - val_accuracy: 0.8540 - val_precision: 0.7598 - val_recall: 0.9391 - val_f1_score: 0.8400\n",
      "Epoch 61/100\n",
      "197/197 [==============================] - 2s 12ms/step - loss: 0.6425 - accuracy: 0.8652 - precision: 0.8096 - recall: 0.8841 - f1_score: 0.8452 - val_loss: 0.2916 - val_accuracy: 0.8795 - val_precision: 0.8261 - val_recall: 0.8920 - val_f1_score: 0.8578\n",
      "Epoch 62/100\n",
      "197/197 [==============================] - 2s 12ms/step - loss: 0.6333 - accuracy: 0.8678 - precision: 0.8152 - recall: 0.8832 - f1_score: 0.8479 - val_loss: 0.3100 - val_accuracy: 0.8635 - val_precision: 0.8605 - val_recall: 0.7931 - val_f1_score: 0.8254\n",
      "Epoch 63/100\n",
      "197/197 [==============================] - 2s 12ms/step - loss: 0.6407 - accuracy: 0.8663 - precision: 0.8118 - recall: 0.8842 - f1_score: 0.8465 - val_loss: 0.2878 - val_accuracy: 0.8801 - val_precision: 0.8134 - val_recall: 0.9154 - val_f1_score: 0.8614\n",
      "Epoch 64/100\n",
      "197/197 [==============================] - 2s 12ms/step - loss: 0.6308 - accuracy: 0.8692 - precision: 0.8161 - recall: 0.8863 - f1_score: 0.8497 - val_loss: 0.3036 - val_accuracy: 0.8648 - val_precision: 0.7827 - val_recall: 0.9286 - val_f1_score: 0.8494\n",
      "Epoch 65/100\n",
      "197/197 [==============================] - 2s 13ms/step - loss: 0.6426 - accuracy: 0.8621 - precision: 0.8060 - recall: 0.8817 - f1_score: 0.8421 - val_loss: 0.2963 - val_accuracy: 0.8776 - val_precision: 0.8784 - val_recall: 0.8125 - val_f1_score: 0.8442\n",
      "Epoch 66/100\n",
      "197/197 [==============================] - 2s 12ms/step - loss: 0.6145 - accuracy: 0.8744 - precision: 0.8248 - recall: 0.8873 - f1_score: 0.8549 - val_loss: 0.2872 - val_accuracy: 0.8839 - val_precision: 0.8574 - val_recall: 0.8600 - val_f1_score: 0.8587\n",
      "Epoch 67/100\n",
      "197/197 [==============================] - 2s 12ms/step - loss: 0.6334 - accuracy: 0.8695 - precision: 0.8174 - recall: 0.8846 - f1_score: 0.8497 - val_loss: 0.2978 - val_accuracy: 0.8788 - val_precision: 0.8153 - val_recall: 0.9115 - val_f1_score: 0.8607\n",
      "Epoch 68/100\n",
      "197/197 [==============================] - 2s 12ms/step - loss: 0.6299 - accuracy: 0.8706 - precision: 0.8175 - recall: 0.8881 - f1_score: 0.8514 - val_loss: 0.2788 - val_accuracy: 0.8846 - val_precision: 0.8321 - val_recall: 0.8984 - val_f1_score: 0.8640\n",
      "Epoch 69/100\n",
      "197/197 [==============================] - 2s 12ms/step - loss: 0.6337 - accuracy: 0.8659 - precision: 0.8171 - recall: 0.8729 - f1_score: 0.8441 - val_loss: 0.2750 - val_accuracy: 0.8897 - val_precision: 0.8598 - val_recall: 0.8719 - val_f1_score: 0.8658\n",
      "Epoch 70/100\n",
      "197/197 [==============================] - 2s 12ms/step - loss: 0.6448 - accuracy: 0.8651 - precision: 0.8102 - recall: 0.8841 - f1_score: 0.8455 - val_loss: 0.2762 - val_accuracy: 0.8846 - val_precision: 0.8464 - val_recall: 0.8768 - val_f1_score: 0.8613\n",
      "Epoch 71/100\n",
      "197/197 [==============================] - 2s 12ms/step - loss: 0.6394 - accuracy: 0.8662 - precision: 0.8124 - recall: 0.8827 - f1_score: 0.8461 - val_loss: 0.3026 - val_accuracy: 0.8699 - val_precision: 0.7866 - val_recall: 0.9343 - val_f1_score: 0.8541\n",
      "Epoch 72/100\n",
      "197/197 [==============================] - 2s 12ms/step - loss: 0.6233 - accuracy: 0.8671 - precision: 0.8155 - recall: 0.8809 - f1_score: 0.8470 - val_loss: 0.3298 - val_accuracy: 0.8533 - val_precision: 0.9155 - val_recall: 0.7076 - val_f1_score: 0.7982\n",
      "Epoch 73/100\n",
      "197/197 [==============================] - 2s 12ms/step - loss: 0.6173 - accuracy: 0.8719 - precision: 0.8231 - recall: 0.8829 - f1_score: 0.8520 - val_loss: 0.2858 - val_accuracy: 0.8801 - val_precision: 0.8872 - val_recall: 0.8097 - val_f1_score: 0.8467\n",
      "Epoch 74/100\n",
      "197/197 [==============================] - 2s 12ms/step - loss: 0.6258 - accuracy: 0.8711 - precision: 0.8197 - recall: 0.8847 - f1_score: 0.8510 - val_loss: 0.2923 - val_accuracy: 0.8839 - val_precision: 0.8819 - val_recall: 0.8268 - val_f1_score: 0.8535\n",
      "Epoch 75/100\n",
      "197/197 [==============================] - 2s 13ms/step - loss: 0.6238 - accuracy: 0.8727 - precision: 0.8249 - recall: 0.8826 - f1_score: 0.8527 - val_loss: 0.2831 - val_accuracy: 0.8871 - val_precision: 0.8455 - val_recall: 0.8863 - val_f1_score: 0.8654\n",
      "Epoch 76/100\n",
      "197/197 [==============================] - 2s 12ms/step - loss: 0.6085 - accuracy: 0.8676 - precision: 0.8151 - recall: 0.8828 - f1_score: 0.8476 - val_loss: 0.2759 - val_accuracy: 0.8814 - val_precision: 0.8519 - val_recall: 0.8598 - val_f1_score: 0.8558\n",
      "Epoch 77/100\n",
      "197/197 [==============================] - 2s 12ms/step - loss: 0.6215 - accuracy: 0.8684 - precision: 0.8151 - recall: 0.8839 - f1_score: 0.8481 - val_loss: 0.2836 - val_accuracy: 0.8820 - val_precision: 0.8237 - val_recall: 0.9068 - val_f1_score: 0.8633\n",
      "Epoch 78/100\n",
      "197/197 [==============================] - 2s 12ms/step - loss: 0.6073 - accuracy: 0.8713 - precision: 0.8192 - recall: 0.8864 - f1_score: 0.8515 - val_loss: 0.2834 - val_accuracy: 0.8776 - val_precision: 0.8424 - val_recall: 0.8634 - val_f1_score: 0.8528\n",
      "Epoch 79/100\n",
      "197/197 [==============================] - 2s 13ms/step - loss: 0.6210 - accuracy: 0.8692 - precision: 0.8160 - recall: 0.8862 - f1_score: 0.8497 - val_loss: 0.2991 - val_accuracy: 0.8724 - val_precision: 0.8055 - val_recall: 0.9082 - val_f1_score: 0.8538\n",
      "Epoch 80/100\n",
      "197/197 [==============================] - 2s 13ms/step - loss: 0.6330 - accuracy: 0.8662 - precision: 0.8131 - recall: 0.8816 - f1_score: 0.8460 - val_loss: 0.3394 - val_accuracy: 0.8469 - val_precision: 0.7475 - val_recall: 0.9455 - val_f1_score: 0.8349\n",
      "Epoch 81/100\n",
      "197/197 [==============================] - 2s 12ms/step - loss: 0.6115 - accuracy: 0.8705 - precision: 0.8176 - recall: 0.8868 - f1_score: 0.8508 - val_loss: 0.2676 - val_accuracy: 0.8903 - val_precision: 0.8516 - val_recall: 0.8885 - val_f1_score: 0.8697\n",
      "Epoch 82/100\n",
      "197/197 [==============================] - 2s 12ms/step - loss: 0.6066 - accuracy: 0.8724 - precision: 0.8230 - recall: 0.8838 - f1_score: 0.8523 - val_loss: 0.2785 - val_accuracy: 0.8858 - val_precision: 0.8718 - val_recall: 0.8460 - val_f1_score: 0.8587\n",
      "Epoch 83/100\n",
      "197/197 [==============================] - 2s 12ms/step - loss: 0.6337 - accuracy: 0.8646 - precision: 0.8122 - recall: 0.8776 - f1_score: 0.8436 - val_loss: 0.2758 - val_accuracy: 0.8814 - val_precision: 0.8505 - val_recall: 0.8612 - val_f1_score: 0.8558\n",
      "Epoch 84/100\n",
      "197/197 [==============================] - 2s 12ms/step - loss: 0.6144 - accuracy: 0.8702 - precision: 0.8221 - recall: 0.8790 - f1_score: 0.8496 - val_loss: 0.2642 - val_accuracy: 0.8909 - val_precision: 0.8917 - val_recall: 0.8346 - val_f1_score: 0.8622\n",
      "Epoch 85/100\n",
      "197/197 [==============================] - 2s 12ms/step - loss: 0.6218 - accuracy: 0.8713 - precision: 0.8203 - recall: 0.8855 - f1_score: 0.8517 - val_loss: 0.2837 - val_accuracy: 0.8846 - val_precision: 0.8295 - val_recall: 0.9011 - val_f1_score: 0.8638\n",
      "Epoch 86/100\n",
      "197/197 [==============================] - 2s 12ms/step - loss: 0.6162 - accuracy: 0.8692 - precision: 0.8215 - recall: 0.8760 - f1_score: 0.8479 - val_loss: 0.2734 - val_accuracy: 0.8839 - val_precision: 0.8787 - val_recall: 0.8323 - val_f1_score: 0.8549\n",
      "Epoch 87/100\n",
      "197/197 [==============================] - 2s 12ms/step - loss: 0.6081 - accuracy: 0.8740 - precision: 0.8250 - recall: 0.8848 - f1_score: 0.8539 - val_loss: 0.2765 - val_accuracy: 0.8833 - val_precision: 0.8766 - val_recall: 0.8315 - val_f1_score: 0.8535\n",
      "Epoch 88/100\n",
      "197/197 [==============================] - 2s 12ms/step - loss: 0.6292 - accuracy: 0.8681 - precision: 0.8148 - recall: 0.8835 - f1_score: 0.8478 - val_loss: 0.2844 - val_accuracy: 0.8756 - val_precision: 0.8782 - val_recall: 0.8084 - val_f1_score: 0.8418\n",
      "Epoch 89/100\n",
      "197/197 [==============================] - 2s 12ms/step - loss: 0.6125 - accuracy: 0.8722 - precision: 0.8230 - recall: 0.8835 - f1_score: 0.8522 - val_loss: 0.3239 - val_accuracy: 0.8540 - val_precision: 0.9204 - val_recall: 0.7036 - val_f1_score: 0.7975\n",
      "Epoch 90/100\n",
      "197/197 [==============================] - 2s 12ms/step - loss: 0.6165 - accuracy: 0.8706 - precision: 0.8201 - recall: 0.8840 - f1_score: 0.8509 - val_loss: 0.2668 - val_accuracy: 0.8922 - val_precision: 0.8742 - val_recall: 0.8592 - val_f1_score: 0.8666\n",
      "Epoch 91/100\n",
      "197/197 [==============================] - 2s 12ms/step - loss: 0.6212 - accuracy: 0.8679 - precision: 0.8149 - recall: 0.8838 - f1_score: 0.8480 - val_loss: 0.2734 - val_accuracy: 0.8833 - val_precision: 0.8787 - val_recall: 0.8279 - val_f1_score: 0.8525\n",
      "Epoch 92/100\n",
      "197/197 [==============================] - 2s 12ms/step - loss: 0.6064 - accuracy: 0.8735 - precision: 0.8267 - recall: 0.8811 - f1_score: 0.8530 - val_loss: 0.2821 - val_accuracy: 0.8827 - val_precision: 0.8694 - val_recall: 0.8396 - val_f1_score: 0.8542\n",
      "Epoch 93/100\n",
      "197/197 [==============================] - 2s 12ms/step - loss: 0.5923 - accuracy: 0.8783 - precision: 0.8275 - recall: 0.8946 - f1_score: 0.8597 - val_loss: 0.2622 - val_accuracy: 0.8954 - val_precision: 0.8740 - val_recall: 0.8713 - val_f1_score: 0.8727\n",
      "Epoch 94/100\n",
      "197/197 [==============================] - 2s 13ms/step - loss: 0.5943 - accuracy: 0.8767 - precision: 0.8287 - recall: 0.8866 - f1_score: 0.8567 - val_loss: 0.3252 - val_accuracy: 0.8597 - val_precision: 0.7652 - val_recall: 0.9469 - val_f1_score: 0.8464\n",
      "Epoch 95/100\n",
      "197/197 [==============================] - 2s 12ms/step - loss: 0.6248 - accuracy: 0.8708 - precision: 0.8197 - recall: 0.8841 - f1_score: 0.8507 - val_loss: 0.2666 - val_accuracy: 0.8897 - val_precision: 0.8799 - val_recall: 0.8456 - val_f1_score: 0.8624\n",
      "Epoch 96/100\n",
      "197/197 [==============================] - 2s 12ms/step - loss: 0.6115 - accuracy: 0.8730 - precision: 0.8228 - recall: 0.8861 - f1_score: 0.8533 - val_loss: 0.2952 - val_accuracy: 0.8731 - val_precision: 0.7947 - val_recall: 0.9298 - val_f1_score: 0.8569\n",
      "Epoch 97/100\n",
      "197/197 [==============================] - 2s 13ms/step - loss: 0.6213 - accuracy: 0.8687 - precision: 0.8198 - recall: 0.8781 - f1_score: 0.8479 - val_loss: 0.3080 - val_accuracy: 0.8693 - val_precision: 0.7852 - val_recall: 0.9378 - val_f1_score: 0.8547\n",
      "Epoch 98/100\n",
      "197/197 [==============================] - 2s 12ms/step - loss: 0.6161 - accuracy: 0.8686 - precision: 0.8178 - recall: 0.8818 - f1_score: 0.8486 - val_loss: 0.2933 - val_accuracy: 0.8705 - val_precision: 0.7925 - val_recall: 0.9250 - val_f1_score: 0.8536\n",
      "Epoch 99/100\n",
      "197/197 [==============================] - 2s 12ms/step - loss: 0.6170 - accuracy: 0.8716 - precision: 0.8238 - recall: 0.8800 - f1_score: 0.8509 - val_loss: 0.2772 - val_accuracy: 0.8820 - val_precision: 0.8736 - val_recall: 0.8313 - val_f1_score: 0.8519\n",
      "Epoch 100/100\n",
      "197/197 [==============================] - 2s 12ms/step - loss: 0.6170 - accuracy: 0.8729 - precision: 0.8270 - recall: 0.8789 - f1_score: 0.8522 - val_loss: 0.3003 - val_accuracy: 0.8705 - val_precision: 0.7905 - val_recall: 0.9298 - val_f1_score: 0.8545\n"
     ]
    },
    {
     "data": {
      "text/plain": "<keras.callbacks.History at 0x3954daf20>"
     },
     "execution_count": 169,
     "metadata": {},
     "output_type": "execute_result"
    }
   ],
   "source": [
    "epochs = 100\n",
    "baseline_binary.fit(\n",
    "    train_isCancerous_generator,\n",
    "    steps_per_epoch=len(train_data) // batch_size,\n",
    "    epochs=epochs,\n",
    "    validation_data=val_isCancerous_generator,\n",
    "    validation_steps=len(val_data) // batch_size,\n",
    "    class_weight=class_weight_dict_isCancerous\n",
    ")"
   ],
   "metadata": {
    "collapsed": false,
    "ExecuteTime": {
     "start_time": "2023-05-04T20:00:42.510985Z",
     "end_time": "2023-05-04T20:04:53.756419Z"
    }
   }
  },
  {
   "cell_type": "code",
   "execution_count": 24,
   "outputs": [
    {
     "name": "stdout",
     "output_type": "stream",
     "text": [
      "62/62 [==============================] - 1s 9ms/step - loss: 0.7133 - accuracy: 0.3869 - precision: 0.3339 - recall: 0.5373 - f1_score: 0.4118\n"
     ]
    },
    {
     "data": {
      "text/plain": "[0.7132663726806641,\n 0.3868686854839325,\n 0.3338570296764374,\n 0.5372945666313171,\n 0.4118216633796692]"
     },
     "execution_count": 24,
     "metadata": {},
     "output_type": "execute_result"
    }
   ],
   "source": [
    "baseline_binary.evaluate(test_isCancerous_generator)"
   ],
   "metadata": {
    "collapsed": false,
    "ExecuteTime": {
     "start_time": "2023-05-05T12:58:58.336142Z",
     "end_time": "2023-05-05T12:58:59.292392Z"
    }
   }
  },
  {
   "cell_type": "code",
   "execution_count": 171,
   "outputs": [
    {
     "name": "stdout",
     "output_type": "stream",
     "text": [
      "Epoch 1/100\n",
      "196/197 [============================>.] - ETA: 0s - loss: 5.4951 - accuracy: 0.3821 - precision: 0.5519 - recall: 0.0593 - f1_score: 0.3429"
     ]
    },
    {
     "name": "stderr",
     "output_type": "stream",
     "text": [
      "/Users/hueybai/miniconda3/envs/DL/lib/python3.10/site-packages/keras/engine/training.py:2448: UserWarning: Metric MultiCategoryF1Score implements a `reset_states()` method; rename it to `reset_state()` (without the final \"s\"). The name `reset_states()` has been deprecated to improve API consistency.\n",
      "  m.reset_state()\n"
     ]
    },
    {
     "name": "stdout",
     "output_type": "stream",
     "text": [
      "197/197 [==============================] - 5s 22ms/step - loss: 5.4910 - accuracy: 0.3817 - precision: 0.5519 - recall: 0.0590 - f1_score: 0.3428 - val_loss: 1.0731 - val_accuracy: 0.5389 - val_precision: 0.9053 - val_recall: 0.2073 - val_f1_score: 0.5241\n",
      "Epoch 2/100\n",
      "197/197 [==============================] - 4s 19ms/step - loss: 4.8049 - accuracy: 0.5271 - precision: 0.7911 - recall: 0.2206 - f1_score: 0.4491 - val_loss: 0.9488 - val_accuracy: 0.6365 - val_precision: 0.8762 - val_recall: 0.2800 - val_f1_score: 0.5807\n",
      "Epoch 3/100\n",
      "197/197 [==============================] - 4s 19ms/step - loss: 4.6116 - accuracy: 0.5551 - precision: 0.7447 - recall: 0.2763 - f1_score: 0.4774 - val_loss: 1.2706 - val_accuracy: 0.4974 - val_precision: 0.7358 - val_recall: 0.2487 - val_f1_score: 0.4921\n",
      "Epoch 4/100\n",
      "197/197 [==============================] - 4s 19ms/step - loss: 4.4493 - accuracy: 0.5863 - precision: 0.7553 - recall: 0.3287 - f1_score: 0.5087 - val_loss: 0.8866 - val_accuracy: 0.6690 - val_precision: 0.7743 - val_recall: 0.4617 - val_f1_score: 0.6304\n",
      "Epoch 5/100\n",
      "197/197 [==============================] - 4s 19ms/step - loss: 4.3303 - accuracy: 0.6073 - precision: 0.7453 - recall: 0.3762 - f1_score: 0.5279 - val_loss: 0.8737 - val_accuracy: 0.6716 - val_precision: 0.8087 - val_recall: 0.4503 - val_f1_score: 0.6069\n",
      "Epoch 6/100\n",
      "197/197 [==============================] - 4s 19ms/step - loss: 4.3530 - accuracy: 0.6059 - precision: 0.7310 - recall: 0.3727 - f1_score: 0.5318 - val_loss: 0.8474 - val_accuracy: 0.6964 - val_precision: 0.7886 - val_recall: 0.5140 - val_f1_score: 0.6491\n",
      "Epoch 7/100\n",
      "197/197 [==============================] - 4s 19ms/step - loss: 4.3518 - accuracy: 0.6113 - precision: 0.7152 - recall: 0.3690 - f1_score: 0.5368 - val_loss: 0.9322 - val_accuracy: 0.6511 - val_precision: 0.7778 - val_recall: 0.4196 - val_f1_score: 0.5941\n",
      "Epoch 8/100\n",
      "197/197 [==============================] - 4s 19ms/step - loss: 4.2254 - accuracy: 0.6283 - precision: 0.7407 - recall: 0.4022 - f1_score: 0.5524 - val_loss: 0.8376 - val_accuracy: 0.6901 - val_precision: 0.7930 - val_recall: 0.5230 - val_f1_score: 0.6275\n",
      "Epoch 9/100\n",
      "197/197 [==============================] - 4s 19ms/step - loss: 4.2325 - accuracy: 0.6214 - precision: 0.7391 - recall: 0.4065 - f1_score: 0.5499 - val_loss: 0.8770 - val_accuracy: 0.6658 - val_precision: 0.7579 - val_recall: 0.5510 - val_f1_score: 0.6399\n",
      "Epoch 10/100\n",
      "197/197 [==============================] - 4s 19ms/step - loss: 4.2037 - accuracy: 0.6302 - precision: 0.7267 - recall: 0.4098 - f1_score: 0.5554 - val_loss: 0.8927 - val_accuracy: 0.6645 - val_precision: 0.7563 - val_recall: 0.5325 - val_f1_score: 0.6319\n",
      "Epoch 11/100\n",
      "197/197 [==============================] - 4s 19ms/step - loss: 4.2451 - accuracy: 0.6152 - precision: 0.7407 - recall: 0.4054 - f1_score: 0.5441 - val_loss: 0.8418 - val_accuracy: 0.6952 - val_precision: 0.7805 - val_recall: 0.5510 - val_f1_score: 0.6389\n",
      "Epoch 12/100\n",
      "197/197 [==============================] - 4s 19ms/step - loss: 4.2296 - accuracy: 0.6200 - precision: 0.7341 - recall: 0.4010 - f1_score: 0.5480 - val_loss: 0.8334 - val_accuracy: 0.6875 - val_precision: 0.7708 - val_recall: 0.5319 - val_f1_score: 0.6473\n",
      "Epoch 13/100\n",
      "197/197 [==============================] - 4s 19ms/step - loss: 4.2220 - accuracy: 0.6248 - precision: 0.7352 - recall: 0.4192 - f1_score: 0.5544 - val_loss: 0.8146 - val_accuracy: 0.7105 - val_precision: 0.7901 - val_recall: 0.5784 - val_f1_score: 0.6557\n",
      "Epoch 14/100\n",
      "197/197 [==============================] - 4s 19ms/step - loss: 4.1839 - accuracy: 0.6286 - precision: 0.7397 - recall: 0.4240 - f1_score: 0.5575 - val_loss: 1.0010 - val_accuracy: 0.6371 - val_precision: 0.7871 - val_recall: 0.4056 - val_f1_score: 0.5955\n",
      "Epoch 15/100\n",
      "197/197 [==============================] - 4s 19ms/step - loss: 4.1111 - accuracy: 0.6413 - precision: 0.7397 - recall: 0.4348 - f1_score: 0.5692 - val_loss: 0.8218 - val_accuracy: 0.7047 - val_precision: 0.7777 - val_recall: 0.5733 - val_f1_score: 0.6336\n",
      "Epoch 16/100\n",
      "197/197 [==============================] - 4s 19ms/step - loss: 4.1426 - accuracy: 0.6251 - precision: 0.7403 - recall: 0.4267 - f1_score: 0.5537 - val_loss: 0.8508 - val_accuracy: 0.6677 - val_precision: 0.7506 - val_recall: 0.5625 - val_f1_score: 0.6168\n",
      "Epoch 17/100\n",
      "197/197 [==============================] - 4s 19ms/step - loss: 4.1455 - accuracy: 0.6333 - precision: 0.7453 - recall: 0.4306 - f1_score: 0.5627 - val_loss: 0.8268 - val_accuracy: 0.7105 - val_precision: 0.7950 - val_recall: 0.5466 - val_f1_score: 0.6615\n",
      "Epoch 18/100\n",
      "197/197 [==============================] - 4s 19ms/step - loss: 4.0950 - accuracy: 0.6402 - precision: 0.7431 - recall: 0.4527 - f1_score: 0.5698 - val_loss: 0.8677 - val_accuracy: 0.6677 - val_precision: 0.7705 - val_recall: 0.5223 - val_f1_score: 0.5702\n",
      "Epoch 19/100\n",
      "197/197 [==============================] - 4s 19ms/step - loss: 4.0696 - accuracy: 0.6483 - precision: 0.7457 - recall: 0.4567 - f1_score: 0.5777 - val_loss: 0.8464 - val_accuracy: 0.6760 - val_precision: 0.8060 - val_recall: 0.4981 - val_f1_score: 0.6095\n",
      "Epoch 20/100\n",
      "197/197 [==============================] - 4s 19ms/step - loss: 4.0459 - accuracy: 0.6427 - precision: 0.7475 - recall: 0.4586 - f1_score: 0.5733 - val_loss: 0.8678 - val_accuracy: 0.6792 - val_precision: 0.7837 - val_recall: 0.5153 - val_f1_score: 0.6268\n",
      "Epoch 21/100\n",
      "197/197 [==============================] - 4s 19ms/step - loss: 4.0716 - accuracy: 0.6429 - precision: 0.7523 - recall: 0.4483 - f1_score: 0.5690 - val_loss: 0.8508 - val_accuracy: 0.6856 - val_precision: 0.7920 - val_recall: 0.5440 - val_f1_score: 0.6320\n",
      "Epoch 22/100\n",
      "197/197 [==============================] - 4s 19ms/step - loss: 4.0760 - accuracy: 0.6390 - precision: 0.7419 - recall: 0.4467 - f1_score: 0.5686 - val_loss: 0.8220 - val_accuracy: 0.6964 - val_precision: 0.7828 - val_recall: 0.5587 - val_f1_score: 0.6573\n",
      "Epoch 23/100\n",
      "197/197 [==============================] - 4s 19ms/step - loss: 4.0486 - accuracy: 0.6405 - precision: 0.7545 - recall: 0.4600 - f1_score: 0.5711 - val_loss: 0.7933 - val_accuracy: 0.7066 - val_precision: 0.7747 - val_recall: 0.5810 - val_f1_score: 0.6633\n",
      "Epoch 24/100\n",
      "197/197 [==============================] - 4s 19ms/step - loss: 3.9931 - accuracy: 0.6478 - precision: 0.7518 - recall: 0.4756 - f1_score: 0.5762 - val_loss: 0.8623 - val_accuracy: 0.6824 - val_precision: 0.7562 - val_recall: 0.5657 - val_f1_score: 0.6363\n",
      "Epoch 25/100\n",
      "197/197 [==============================] - 4s 19ms/step - loss: 4.0297 - accuracy: 0.6429 - precision: 0.7497 - recall: 0.4611 - f1_score: 0.5709 - val_loss: 0.8568 - val_accuracy: 0.7003 - val_precision: 0.8097 - val_recall: 0.5210 - val_f1_score: 0.6458\n",
      "Epoch 26/100\n",
      "197/197 [==============================] - 4s 19ms/step - loss: 4.0403 - accuracy: 0.6446 - precision: 0.7586 - recall: 0.4614 - f1_score: 0.5768 - val_loss: 0.8579 - val_accuracy: 0.6703 - val_precision: 0.7669 - val_recall: 0.5415 - val_f1_score: 0.6302\n",
      "Epoch 27/100\n",
      "197/197 [==============================] - 4s 19ms/step - loss: 4.0591 - accuracy: 0.6337 - precision: 0.7406 - recall: 0.4478 - f1_score: 0.5650 - val_loss: 0.9640 - val_accuracy: 0.6352 - val_precision: 0.7237 - val_recall: 0.4209 - val_f1_score: 0.6001\n",
      "Epoch 28/100\n",
      "197/197 [==============================] - 4s 19ms/step - loss: 4.0064 - accuracy: 0.6460 - precision: 0.7550 - recall: 0.4597 - f1_score: 0.5749 - val_loss: 0.8620 - val_accuracy: 0.6639 - val_precision: 0.7856 - val_recall: 0.5236 - val_f1_score: 0.6067\n",
      "Epoch 29/100\n",
      "197/197 [==============================] - 4s 19ms/step - loss: 4.0077 - accuracy: 0.6463 - precision: 0.7439 - recall: 0.4638 - f1_score: 0.5783 - val_loss: 0.9575 - val_accuracy: 0.6333 - val_precision: 0.7551 - val_recall: 0.4503 - val_f1_score: 0.6015\n",
      "Epoch 30/100\n",
      "197/197 [==============================] - 4s 19ms/step - loss: 4.0824 - accuracy: 0.6327 - precision: 0.7457 - recall: 0.4459 - f1_score: 0.5649 - val_loss: 0.9057 - val_accuracy: 0.6569 - val_precision: 0.8100 - val_recall: 0.4649 - val_f1_score: 0.5941\n",
      "Epoch 31/100\n",
      "197/197 [==============================] - 4s 19ms/step - loss: 3.9796 - accuracy: 0.6475 - precision: 0.7530 - recall: 0.4733 - f1_score: 0.5804 - val_loss: 0.7513 - val_accuracy: 0.7232 - val_precision: 0.7818 - val_recall: 0.6237 - val_f1_score: 0.6771\n",
      "Epoch 32/100\n",
      "197/197 [==============================] - 4s 19ms/step - loss: 3.9669 - accuracy: 0.6463 - precision: 0.7550 - recall: 0.4841 - f1_score: 0.5779 - val_loss: 0.8673 - val_accuracy: 0.6747 - val_precision: 0.8055 - val_recall: 0.5204 - val_f1_score: 0.6254\n",
      "Epoch 33/100\n",
      "197/197 [==============================] - 4s 19ms/step - loss: 3.9119 - accuracy: 0.6508 - precision: 0.7584 - recall: 0.4913 - f1_score: 0.5833 - val_loss: 0.8163 - val_accuracy: 0.6920 - val_precision: 0.7948 - val_recall: 0.5631 - val_f1_score: 0.6352\n",
      "Epoch 34/100\n",
      "197/197 [==============================] - 4s 19ms/step - loss: 3.9551 - accuracy: 0.6438 - precision: 0.7534 - recall: 0.4727 - f1_score: 0.5752 - val_loss: 0.9026 - val_accuracy: 0.6588 - val_precision: 0.7305 - val_recall: 0.5255 - val_f1_score: 0.6233\n",
      "Epoch 35/100\n",
      "197/197 [==============================] - 4s 19ms/step - loss: 3.8876 - accuracy: 0.6548 - precision: 0.7609 - recall: 0.5037 - f1_score: 0.5873 - val_loss: 0.8478 - val_accuracy: 0.6709 - val_precision: 0.7784 - val_recall: 0.5153 - val_f1_score: 0.6121\n",
      "Epoch 36/100\n",
      "197/197 [==============================] - 4s 19ms/step - loss: 3.9981 - accuracy: 0.6400 - precision: 0.7479 - recall: 0.4703 - f1_score: 0.5717 - val_loss: 0.7962 - val_accuracy: 0.7162 - val_precision: 0.8175 - val_recall: 0.5657 - val_f1_score: 0.6631\n",
      "Epoch 37/100\n",
      "197/197 [==============================] - 4s 19ms/step - loss: 3.9020 - accuracy: 0.6513 - precision: 0.7588 - recall: 0.4763 - f1_score: 0.5831 - val_loss: 0.9152 - val_accuracy: 0.6480 - val_precision: 0.7646 - val_recall: 0.4828 - val_f1_score: 0.6066\n",
      "Epoch 38/100\n",
      "197/197 [==============================] - 4s 19ms/step - loss: 3.8700 - accuracy: 0.6544 - precision: 0.7669 - recall: 0.4935 - f1_score: 0.5864 - val_loss: 0.9596 - val_accuracy: 0.6429 - val_precision: 0.7623 - val_recall: 0.4726 - val_f1_score: 0.6223\n",
      "Epoch 39/100\n",
      "197/197 [==============================] - 4s 19ms/step - loss: 3.9315 - accuracy: 0.6408 - precision: 0.7507 - recall: 0.4832 - f1_score: 0.5724 - val_loss: 0.8099 - val_accuracy: 0.7054 - val_precision: 0.8092 - val_recall: 0.5599 - val_f1_score: 0.6527\n",
      "Epoch 40/100\n",
      "197/197 [==============================] - 4s 19ms/step - loss: 3.8973 - accuracy: 0.6533 - precision: 0.7605 - recall: 0.4925 - f1_score: 0.5839 - val_loss: 0.8326 - val_accuracy: 0.6907 - val_precision: 0.8058 - val_recall: 0.5529 - val_f1_score: 0.6469\n",
      "Epoch 41/100\n",
      "197/197 [==============================] - 4s 19ms/step - loss: 3.8629 - accuracy: 0.6606 - precision: 0.7673 - recall: 0.4976 - f1_score: 0.5958 - val_loss: 0.7922 - val_accuracy: 0.6932 - val_precision: 0.7494 - val_recall: 0.6180 - val_f1_score: 0.6217\n",
      "Epoch 42/100\n",
      "197/197 [==============================] - 4s 19ms/step - loss: 3.9325 - accuracy: 0.6492 - precision: 0.7543 - recall: 0.4981 - f1_score: 0.5822 - val_loss: 0.7405 - val_accuracy: 0.7328 - val_precision: 0.8106 - val_recall: 0.6033 - val_f1_score: 0.6854\n",
      "Epoch 43/100\n",
      "197/197 [==============================] - 4s 19ms/step - loss: 3.8079 - accuracy: 0.6659 - precision: 0.7662 - recall: 0.5067 - f1_score: 0.5993 - val_loss: 0.7921 - val_accuracy: 0.7028 - val_precision: 0.8052 - val_recall: 0.5772 - val_f1_score: 0.6530\n",
      "Epoch 44/100\n",
      "197/197 [==============================] - 4s 19ms/step - loss: 3.7726 - accuracy: 0.6657 - precision: 0.7636 - recall: 0.5203 - f1_score: 0.6004 - val_loss: 0.7807 - val_accuracy: 0.7085 - val_precision: 0.8072 - val_recall: 0.5606 - val_f1_score: 0.6477\n",
      "Epoch 45/100\n",
      "197/197 [==============================] - 4s 19ms/step - loss: 3.8296 - accuracy: 0.6571 - precision: 0.7574 - recall: 0.5110 - f1_score: 0.5892 - val_loss: 0.8412 - val_accuracy: 0.6754 - val_precision: 0.7837 - val_recall: 0.5153 - val_f1_score: 0.6418\n",
      "Epoch 46/100\n",
      "197/197 [==============================] - 4s 19ms/step - loss: 3.8299 - accuracy: 0.6533 - precision: 0.7600 - recall: 0.5051 - f1_score: 0.5870 - val_loss: 0.8001 - val_accuracy: 0.7066 - val_precision: 0.7947 - val_recall: 0.5874 - val_f1_score: 0.6565\n",
      "Epoch 47/100\n",
      "197/197 [==============================] - 4s 19ms/step - loss: 3.8412 - accuracy: 0.6568 - precision: 0.7640 - recall: 0.5056 - f1_score: 0.5918 - val_loss: 0.7913 - val_accuracy: 0.6932 - val_precision: 0.8008 - val_recall: 0.5434 - val_f1_score: 0.6286\n",
      "Epoch 48/100\n",
      "197/197 [==============================] - 4s 19ms/step - loss: 3.8017 - accuracy: 0.6548 - precision: 0.7610 - recall: 0.5049 - f1_score: 0.5872 - val_loss: 0.7972 - val_accuracy: 0.6932 - val_precision: 0.7959 - val_recall: 0.5695 - val_f1_score: 0.6446\n",
      "Epoch 49/100\n",
      "197/197 [==============================] - 4s 19ms/step - loss: 3.7804 - accuracy: 0.6652 - precision: 0.7680 - recall: 0.5160 - f1_score: 0.6004 - val_loss: 0.7299 - val_accuracy: 0.7239 - val_precision: 0.7863 - val_recall: 0.6358 - val_f1_score: 0.6721\n",
      "Epoch 50/100\n",
      "197/197 [==============================] - 4s 19ms/step - loss: 3.7965 - accuracy: 0.6565 - precision: 0.7578 - recall: 0.5141 - f1_score: 0.5918 - val_loss: 0.8861 - val_accuracy: 0.6562 - val_precision: 0.7859 - val_recall: 0.4962 - val_f1_score: 0.6191\n",
      "Epoch 51/100\n",
      "197/197 [==============================] - 4s 19ms/step - loss: 3.7796 - accuracy: 0.6658 - precision: 0.7605 - recall: 0.5127 - f1_score: 0.6037 - val_loss: 0.8400 - val_accuracy: 0.6843 - val_precision: 0.7446 - val_recall: 0.5969 - val_f1_score: 0.6593\n",
      "Epoch 52/100\n",
      "197/197 [==============================] - 4s 19ms/step - loss: 3.8026 - accuracy: 0.6681 - precision: 0.7662 - recall: 0.5165 - f1_score: 0.6027 - val_loss: 0.7812 - val_accuracy: 0.7009 - val_precision: 0.7475 - val_recall: 0.6193 - val_f1_score: 0.6644\n",
      "Epoch 53/100\n",
      "197/197 [==============================] - 4s 19ms/step - loss: 3.8100 - accuracy: 0.6527 - precision: 0.7548 - recall: 0.5130 - f1_score: 0.5844 - val_loss: 0.8160 - val_accuracy: 0.6875 - val_precision: 0.7551 - val_recall: 0.5880 - val_f1_score: 0.6461\n",
      "Epoch 54/100\n",
      "197/197 [==============================] - 4s 19ms/step - loss: 3.7772 - accuracy: 0.6571 - precision: 0.7595 - recall: 0.5132 - f1_score: 0.5924 - val_loss: 0.8622 - val_accuracy: 0.6569 - val_precision: 0.7306 - val_recall: 0.5395 - val_f1_score: 0.6297\n",
      "Epoch 55/100\n",
      "197/197 [==============================] - 4s 19ms/step - loss: 3.7535 - accuracy: 0.6676 - precision: 0.7670 - recall: 0.5241 - f1_score: 0.6028 - val_loss: 0.7681 - val_accuracy: 0.6971 - val_precision: 0.7849 - val_recall: 0.5886 - val_f1_score: 0.6441\n",
      "Epoch 56/100\n",
      "197/197 [==============================] - 4s 19ms/step - loss: 3.7549 - accuracy: 0.6637 - precision: 0.7673 - recall: 0.5275 - f1_score: 0.5948 - val_loss: 0.8015 - val_accuracy: 0.7054 - val_precision: 0.8046 - val_recall: 0.5306 - val_f1_score: 0.6512\n",
      "Epoch 57/100\n",
      "197/197 [==============================] - 4s 19ms/step - loss: 3.7291 - accuracy: 0.6656 - precision: 0.7627 - recall: 0.5279 - f1_score: 0.5995 - val_loss: 0.7624 - val_accuracy: 0.7034 - val_precision: 0.7965 - val_recall: 0.5791 - val_f1_score: 0.6496\n",
      "Epoch 58/100\n",
      "197/197 [==============================] - 4s 19ms/step - loss: 3.7894 - accuracy: 0.6611 - precision: 0.7628 - recall: 0.5167 - f1_score: 0.5958 - val_loss: 0.7986 - val_accuracy: 0.6837 - val_precision: 0.7773 - val_recall: 0.5676 - val_f1_score: 0.6528\n",
      "Epoch 59/100\n",
      "197/197 [==============================] - 4s 19ms/step - loss: 3.7920 - accuracy: 0.6579 - precision: 0.7590 - recall: 0.5073 - f1_score: 0.5911 - val_loss: 0.8939 - val_accuracy: 0.6575 - val_precision: 0.7381 - val_recall: 0.5357 - val_f1_score: 0.6415\n",
      "Epoch 60/100\n",
      "197/197 [==============================] - 4s 19ms/step - loss: 3.8108 - accuracy: 0.6570 - precision: 0.7545 - recall: 0.5146 - f1_score: 0.5902 - val_loss: 0.7962 - val_accuracy: 0.6920 - val_precision: 0.7520 - val_recall: 0.6052 - val_f1_score: 0.6645\n",
      "Epoch 61/100\n",
      "197/197 [==============================] - 4s 19ms/step - loss: 3.7581 - accuracy: 0.6624 - precision: 0.7666 - recall: 0.5197 - f1_score: 0.5977 - val_loss: 0.8098 - val_accuracy: 0.6818 - val_precision: 0.7841 - val_recall: 0.5580 - val_f1_score: 0.6339\n",
      "Epoch 62/100\n",
      "197/197 [==============================] - 4s 19ms/step - loss: 3.7405 - accuracy: 0.6649 - precision: 0.7617 - recall: 0.5267 - f1_score: 0.6026 - val_loss: 0.8488 - val_accuracy: 0.6767 - val_precision: 0.7810 - val_recall: 0.5415 - val_f1_score: 0.6466\n",
      "Epoch 63/100\n",
      "197/197 [==============================] - 4s 19ms/step - loss: 3.7448 - accuracy: 0.6629 - precision: 0.7619 - recall: 0.5213 - f1_score: 0.5971 - val_loss: 0.8339 - val_accuracy: 0.6856 - val_precision: 0.7851 - val_recall: 0.5523 - val_f1_score: 0.6546\n",
      "Epoch 64/100\n",
      "197/197 [==============================] - 4s 19ms/step - loss: 3.7503 - accuracy: 0.6648 - precision: 0.7635 - recall: 0.5170 - f1_score: 0.6031 - val_loss: 0.7517 - val_accuracy: 0.7034 - val_precision: 0.7625 - val_recall: 0.6224 - val_f1_score: 0.6398\n",
      "Epoch 65/100\n",
      "197/197 [==============================] - 4s 19ms/step - loss: 3.8173 - accuracy: 0.6595 - precision: 0.7564 - recall: 0.5176 - f1_score: 0.5936 - val_loss: 0.7741 - val_accuracy: 0.7098 - val_precision: 0.7911 - val_recall: 0.6014 - val_f1_score: 0.6548\n",
      "Epoch 66/100\n",
      "197/197 [==============================] - 4s 19ms/step - loss: 3.7656 - accuracy: 0.6575 - precision: 0.7553 - recall: 0.5192 - f1_score: 0.5922 - val_loss: 0.7993 - val_accuracy: 0.6881 - val_precision: 0.7802 - val_recall: 0.5638 - val_f1_score: 0.6349\n",
      "Epoch 67/100\n",
      "197/197 [==============================] - 4s 19ms/step - loss: 3.7057 - accuracy: 0.6695 - precision: 0.7635 - recall: 0.5227 - f1_score: 0.6086 - val_loss: 0.8698 - val_accuracy: 0.6652 - val_precision: 0.7591 - val_recall: 0.5446 - val_f1_score: 0.6347\n",
      "Epoch 68/100\n",
      "197/197 [==============================] - 4s 19ms/step - loss: 3.7486 - accuracy: 0.6633 - precision: 0.7539 - recall: 0.5275 - f1_score: 0.5997 - val_loss: 0.7815 - val_accuracy: 0.7003 - val_precision: 0.7848 - val_recall: 0.5746 - val_f1_score: 0.6474\n",
      "Epoch 69/100\n",
      "197/197 [==============================] - 4s 19ms/step - loss: 3.6671 - accuracy: 0.6784 - precision: 0.7692 - recall: 0.5422 - f1_score: 0.6169 - val_loss: 0.7749 - val_accuracy: 0.7092 - val_precision: 0.7915 - val_recall: 0.5835 - val_f1_score: 0.6611\n",
      "Epoch 70/100\n",
      "197/197 [==============================] - 4s 19ms/step - loss: 3.6985 - accuracy: 0.6673 - precision: 0.7658 - recall: 0.5341 - f1_score: 0.6033 - val_loss: 0.7785 - val_accuracy: 0.7060 - val_precision: 0.8031 - val_recall: 0.5880 - val_f1_score: 0.6562\n",
      "Epoch 71/100\n",
      "197/197 [==============================] - 4s 19ms/step - loss: 3.6861 - accuracy: 0.6692 - precision: 0.7626 - recall: 0.5373 - f1_score: 0.6090 - val_loss: 0.7815 - val_accuracy: 0.7098 - val_precision: 0.8072 - val_recall: 0.5874 - val_f1_score: 0.6581\n",
      "Epoch 72/100\n",
      "197/197 [==============================] - 4s 19ms/step - loss: 3.7107 - accuracy: 0.6652 - precision: 0.7675 - recall: 0.5229 - f1_score: 0.6029 - val_loss: 0.8487 - val_accuracy: 0.6569 - val_precision: 0.7713 - val_recall: 0.5140 - val_f1_score: 0.6081\n",
      "Epoch 73/100\n",
      "197/197 [==============================] - 4s 19ms/step - loss: 3.7027 - accuracy: 0.6714 - precision: 0.7577 - recall: 0.5340 - f1_score: 0.6071 - val_loss: 0.7802 - val_accuracy: 0.7079 - val_precision: 0.8018 - val_recall: 0.5727 - val_f1_score: 0.6621\n",
      "Epoch 74/100\n",
      "197/197 [==============================] - 4s 19ms/step - loss: 3.7795 - accuracy: 0.6629 - precision: 0.7525 - recall: 0.5237 - f1_score: 0.5983 - val_loss: 0.7720 - val_accuracy: 0.6939 - val_precision: 0.7685 - val_recall: 0.6097 - val_f1_score: 0.6420\n",
      "Epoch 75/100\n",
      "197/197 [==============================] - 4s 19ms/step - loss: 3.7540 - accuracy: 0.6611 - precision: 0.7627 - recall: 0.5219 - f1_score: 0.5950 - val_loss: 0.8494 - val_accuracy: 0.6684 - val_precision: 0.7719 - val_recall: 0.5223 - val_f1_score: 0.6253\n",
      "Epoch 76/100\n",
      "197/197 [==============================] - 4s 19ms/step - loss: 3.7267 - accuracy: 0.6721 - precision: 0.7619 - recall: 0.5338 - f1_score: 0.6098 - val_loss: 0.8423 - val_accuracy: 0.6722 - val_precision: 0.7708 - val_recall: 0.5427 - val_f1_score: 0.6293\n",
      "Epoch 77/100\n",
      "197/197 [==============================] - 4s 19ms/step - loss: 3.7049 - accuracy: 0.6633 - precision: 0.7649 - recall: 0.5284 - f1_score: 0.6004 - val_loss: 0.7023 - val_accuracy: 0.7334 - val_precision: 0.8049 - val_recall: 0.6263 - val_f1_score: 0.6767\n",
      "Epoch 78/100\n",
      "197/197 [==============================] - 4s 19ms/step - loss: 3.7664 - accuracy: 0.6629 - precision: 0.7616 - recall: 0.5224 - f1_score: 0.5975 - val_loss: 0.7605 - val_accuracy: 0.7098 - val_precision: 0.7905 - val_recall: 0.6135 - val_f1_score: 0.6646\n",
      "Epoch 79/100\n",
      "197/197 [==============================] - 4s 19ms/step - loss: 3.6972 - accuracy: 0.6695 - precision: 0.7544 - recall: 0.5362 - f1_score: 0.6065 - val_loss: 0.7748 - val_accuracy: 0.7066 - val_precision: 0.7898 - val_recall: 0.5944 - val_f1_score: 0.6721\n",
      "Epoch 80/100\n",
      "197/197 [==============================] - 4s 19ms/step - loss: 3.6940 - accuracy: 0.6756 - precision: 0.7654 - recall: 0.5402 - f1_score: 0.6100 - val_loss: 0.8195 - val_accuracy: 0.6990 - val_precision: 0.7857 - val_recall: 0.5797 - val_f1_score: 0.6610\n",
      "Epoch 81/100\n",
      "197/197 [==============================] - 4s 19ms/step - loss: 3.6893 - accuracy: 0.6690 - precision: 0.7599 - recall: 0.5386 - f1_score: 0.6061 - val_loss: 0.9170 - val_accuracy: 0.6518 - val_precision: 0.7534 - val_recall: 0.5300 - val_f1_score: 0.6235\n",
      "Epoch 82/100\n",
      "197/197 [==============================] - 4s 19ms/step - loss: 3.6715 - accuracy: 0.6725 - precision: 0.7715 - recall: 0.5365 - f1_score: 0.6100 - val_loss: 0.8230 - val_accuracy: 0.6977 - val_precision: 0.7838 - val_recall: 0.5874 - val_f1_score: 0.6688\n",
      "Epoch 83/100\n",
      "197/197 [==============================] - 4s 19ms/step - loss: 3.6945 - accuracy: 0.6727 - precision: 0.7612 - recall: 0.5373 - f1_score: 0.6097 - val_loss: 0.8594 - val_accuracy: 0.6582 - val_precision: 0.7544 - val_recall: 0.5485 - val_f1_score: 0.6286\n",
      "Epoch 84/100\n",
      "197/197 [==============================] - 4s 19ms/step - loss: 3.6804 - accuracy: 0.6635 - precision: 0.7597 - recall: 0.5303 - f1_score: 0.6023 - val_loss: 0.7919 - val_accuracy: 0.7111 - val_precision: 0.7981 - val_recall: 0.5899 - val_f1_score: 0.6597\n",
      "Epoch 85/100\n",
      "197/197 [==============================] - 4s 19ms/step - loss: 3.6513 - accuracy: 0.6748 - precision: 0.7658 - recall: 0.5435 - f1_score: 0.6088 - val_loss: 0.7981 - val_accuracy: 0.6932 - val_precision: 0.7751 - val_recall: 0.5912 - val_f1_score: 0.6541\n",
      "Epoch 86/100\n",
      "197/197 [==============================] - 4s 19ms/step - loss: 3.6532 - accuracy: 0.6787 - precision: 0.7623 - recall: 0.5489 - f1_score: 0.6163 - val_loss: 0.7639 - val_accuracy: 0.7130 - val_precision: 0.7988 - val_recall: 0.6078 - val_f1_score: 0.6606\n",
      "Epoch 87/100\n",
      "197/197 [==============================] - 4s 19ms/step - loss: 3.6444 - accuracy: 0.6716 - precision: 0.7671 - recall: 0.5417 - f1_score: 0.6103 - val_loss: 0.8379 - val_accuracy: 0.6869 - val_precision: 0.7719 - val_recall: 0.5721 - val_f1_score: 0.6498\n",
      "Epoch 88/100\n",
      "197/197 [==============================] - 4s 19ms/step - loss: 3.7022 - accuracy: 0.6613 - precision: 0.7597 - recall: 0.5303 - f1_score: 0.6000 - val_loss: 0.8547 - val_accuracy: 0.6862 - val_precision: 0.7887 - val_recall: 0.5261 - val_f1_score: 0.6477\n",
      "Epoch 89/100\n",
      "197/197 [==============================] - 4s 19ms/step - loss: 3.7052 - accuracy: 0.6614 - precision: 0.7578 - recall: 0.5279 - f1_score: 0.5997 - val_loss: 0.7593 - val_accuracy: 0.7066 - val_precision: 0.8019 - val_recall: 0.5886 - val_f1_score: 0.6590\n",
      "Epoch 90/100\n",
      "197/197 [==============================] - 4s 19ms/step - loss: 3.6466 - accuracy: 0.6741 - precision: 0.7619 - recall: 0.5421 - f1_score: 0.6133 - val_loss: 0.7427 - val_accuracy: 0.7258 - val_precision: 0.8016 - val_recall: 0.6288 - val_f1_score: 0.6795\n",
      "Epoch 91/100\n",
      "197/197 [==============================] - 4s 19ms/step - loss: 3.7007 - accuracy: 0.6687 - precision: 0.7642 - recall: 0.5413 - f1_score: 0.6089 - val_loss: 0.8034 - val_accuracy: 0.6964 - val_precision: 0.7558 - val_recall: 0.6199 - val_f1_score: 0.6764\n",
      "Epoch 92/100\n",
      "197/197 [==============================] - 4s 19ms/step - loss: 3.7089 - accuracy: 0.6654 - precision: 0.7608 - recall: 0.5351 - f1_score: 0.5997 - val_loss: 0.8023 - val_accuracy: 0.6952 - val_precision: 0.8031 - val_recall: 0.5568 - val_f1_score: 0.6454\n",
      "Epoch 93/100\n",
      "197/197 [==============================] - 4s 19ms/step - loss: 3.6377 - accuracy: 0.6697 - precision: 0.7698 - recall: 0.5329 - f1_score: 0.6085 - val_loss: 0.8135 - val_accuracy: 0.6811 - val_precision: 0.7643 - val_recall: 0.5791 - val_f1_score: 0.6411\n",
      "Epoch 94/100\n",
      "197/197 [==============================] - 4s 19ms/step - loss: 3.6562 - accuracy: 0.6702 - precision: 0.7608 - recall: 0.5429 - f1_score: 0.6097 - val_loss: 0.8258 - val_accuracy: 0.6639 - val_precision: 0.7323 - val_recall: 0.5740 - val_f1_score: 0.6325\n",
      "Epoch 95/100\n",
      "197/197 [==============================] - 4s 19ms/step - loss: 3.6471 - accuracy: 0.6697 - precision: 0.7620 - recall: 0.5403 - f1_score: 0.6070 - val_loss: 0.8079 - val_accuracy: 0.6971 - val_precision: 0.7780 - val_recall: 0.5721 - val_f1_score: 0.6476\n",
      "Epoch 96/100\n",
      "197/197 [==============================] - 4s 19ms/step - loss: 3.6417 - accuracy: 0.6765 - precision: 0.7632 - recall: 0.5429 - f1_score: 0.6144 - val_loss: 0.7138 - val_accuracy: 0.7296 - val_precision: 0.8080 - val_recall: 0.6091 - val_f1_score: 0.6840\n",
      "Epoch 97/100\n",
      "197/197 [==============================] - 4s 19ms/step - loss: 3.6611 - accuracy: 0.6689 - precision: 0.7651 - recall: 0.5397 - f1_score: 0.6041 - val_loss: 0.7994 - val_accuracy: 0.6958 - val_precision: 0.7816 - val_recall: 0.5797 - val_f1_score: 0.6531\n",
      "Epoch 98/100\n",
      "197/197 [==============================] - 4s 19ms/step - loss: 3.6510 - accuracy: 0.6737 - precision: 0.7686 - recall: 0.5441 - f1_score: 0.6115 - val_loss: 0.7750 - val_accuracy: 0.7085 - val_precision: 0.7897 - val_recall: 0.5867 - val_f1_score: 0.6499\n",
      "Epoch 99/100\n",
      "197/197 [==============================] - 4s 19ms/step - loss: 3.6317 - accuracy: 0.6724 - precision: 0.7677 - recall: 0.5486 - f1_score: 0.6109 - val_loss: 0.8131 - val_accuracy: 0.6907 - val_precision: 0.7869 - val_recall: 0.5300 - val_f1_score: 0.6333\n",
      "Epoch 100/100\n",
      "197/197 [==============================] - 4s 19ms/step - loss: 3.6839 - accuracy: 0.6722 - precision: 0.7708 - recall: 0.5321 - f1_score: 0.6125 - val_loss: 0.7407 - val_accuracy: 0.7200 - val_precision: 0.8108 - val_recall: 0.5957 - val_f1_score: 0.6700\n"
     ]
    },
    {
     "data": {
      "text/plain": "<keras.callbacks.History at 0x337975a80>"
     },
     "execution_count": 171,
     "metadata": {},
     "output_type": "execute_result"
    }
   ],
   "source": [
    "epochs = 100\n",
    "baseline_categorical.fit(\n",
    "    train_cellType_generator,\n",
    "    steps_per_epoch=len(train_data) // batch_size,\n",
    "    epochs=epochs,\n",
    "    validation_data=val_cellType_generator,\n",
    "    validation_steps=len(val_data) // batch_size,\n",
    "    class_weight=class_weight_dict_cellType\n",
    ")"
   ],
   "metadata": {
    "collapsed": false,
    "ExecuteTime": {
     "start_time": "2023-05-04T20:04:54.304497Z",
     "end_time": "2023-05-04T20:11:13.911029Z"
    }
   }
  },
  {
   "cell_type": "code",
   "execution_count": 172,
   "outputs": [
    {
     "name": "stdout",
     "output_type": "stream",
     "text": [
      "62/62 [==============================] - 1s 15ms/step - loss: 0.7535 - accuracy: 0.7152 - precision: 0.8066 - recall: 0.5833 - f1_score: 0.6683\n"
     ]
    },
    {
     "data": {
      "text/plain": "[0.7534627914428711,\n 0.7151514887809753,\n 0.8065642714500427,\n 0.5833333134651184,\n 0.6682605147361755]"
     },
     "execution_count": 172,
     "metadata": {},
     "output_type": "execute_result"
    }
   ],
   "source": [
    "baseline_categorical.evaluate(test_cellType_generator)"
   ],
   "metadata": {
    "collapsed": false,
    "ExecuteTime": {
     "start_time": "2023-05-04T20:11:13.911354Z",
     "end_time": "2023-05-04T20:11:14.868909Z"
    }
   }
  },
  {
   "cell_type": "markdown",
   "source": [
    "两层卷积一层池化，32，64。两层512感知器。"
   ],
   "metadata": {
    "collapsed": false
   }
  },
  {
   "cell_type": "code",
   "execution_count": 9,
   "outputs": [
    {
     "name": "stdout",
     "output_type": "stream",
     "text": [
      "Model: \"sequential_1\"\n",
      "_________________________________________________________________\n",
      " Layer (type)                Output Shape              Param #   \n",
      "=================================================================\n",
      " conv2d (Conv2D)             (None, 27, 27, 32)        896       \n",
      "                                                                 \n",
      " batch_normalization (BatchN  (None, 27, 27, 32)       128       \n",
      " ormalization)                                                   \n",
      "                                                                 \n",
      " conv2d_1 (Conv2D)           (None, 25, 25, 32)        9248      \n",
      "                                                                 \n",
      " batch_normalization_1 (Batc  (None, 25, 25, 32)       128       \n",
      " hNormalization)                                                 \n",
      "                                                                 \n",
      " max_pooling2d (MaxPooling2D  (None, 12, 12, 32)       0         \n",
      " )                                                               \n",
      "                                                                 \n",
      " conv2d_2 (Conv2D)           (None, 12, 12, 64)        18496     \n",
      "                                                                 \n",
      " batch_normalization_2 (Batc  (None, 12, 12, 64)       256       \n",
      " hNormalization)                                                 \n",
      "                                                                 \n",
      " conv2d_3 (Conv2D)           (None, 10, 10, 64)        36928     \n",
      "                                                                 \n",
      " batch_normalization_3 (Batc  (None, 10, 10, 64)       256       \n",
      " hNormalization)                                                 \n",
      "                                                                 \n",
      " max_pooling2d_1 (MaxPooling  (None, 5, 5, 64)         0         \n",
      " 2D)                                                             \n",
      "                                                                 \n",
      " flatten_1 (Flatten)         (None, 1600)              0         \n",
      "                                                                 \n",
      " dense_3 (Dense)             (None, 512)               819712    \n",
      "                                                                 \n",
      " batch_normalization_4 (Batc  (None, 512)              2048      \n",
      " hNormalization)                                                 \n",
      "                                                                 \n",
      " dropout (Dropout)           (None, 512)               0         \n",
      "                                                                 \n",
      " dense_4 (Dense)             (None, 512)               262656    \n",
      "                                                                 \n",
      " batch_normalization_5 (Batc  (None, 512)              2048      \n",
      " hNormalization)                                                 \n",
      "                                                                 \n",
      " dropout_1 (Dropout)         (None, 512)               0         \n",
      "                                                                 \n",
      " dense_5 (Dense)             (None, 1)                 513       \n",
      "                                                                 \n",
      "=================================================================\n",
      "Total params: 1,153,313\n",
      "Trainable params: 1,150,881\n",
      "Non-trainable params: 2,432\n",
      "_________________________________________________________________\n"
     ]
    }
   ],
   "source": [
    "model_binary = tf.keras.models.Sequential([\n",
    "    tf.keras.layers.Conv2D(32, (3,3), activation='relu', input_shape=input_shape, padding='same', kernel_regularizer=tf.keras.regularizers.l2(l2_coeff)),\n",
    "    tf.keras.layers.BatchNormalization(),\n",
    "    tf.keras.layers.Conv2D(32, (3,3), activation='relu', kernel_regularizer=tf.keras.regularizers.l2(l2_coeff)),\n",
    "    tf.keras.layers.BatchNormalization(),\n",
    "    tf.keras.layers.MaxPooling2D(2, 2),\n",
    "    tf.keras.layers.Conv2D(64, (3,3), activation='relu', padding='same', kernel_regularizer=tf.keras.regularizers.l2(l2_coeff)),\n",
    "    tf.keras.layers.BatchNormalization(),\n",
    "    tf.keras.layers.Conv2D(64, (3,3), activation='relu', kernel_regularizer=tf.keras.regularizers.l2(l2_coeff)),\n",
    "    tf.keras.layers.BatchNormalization(),\n",
    "    tf.keras.layers.MaxPooling2D(2, 2),\n",
    "    tf.keras.layers.Flatten(),\n",
    "    tf.keras.layers.Dense(512, activation='relu', kernel_regularizer=tf.keras.regularizers.l2(l2_coeff)),\n",
    "    tf.keras.layers.BatchNormalization(),\n",
    "    tf.keras.layers.Dropout(0.2, seed=seed_value),\n",
    "    tf.keras.layers.Dense(512, activation='relu', kernel_regularizer=tf.keras.regularizers.l2(l2_coeff)),\n",
    "    tf.keras.layers.BatchNormalization(),\n",
    "    tf.keras.layers.Dropout(0.2, seed=seed_value),\n",
    "    tf.keras.layers.Dense(1, activation='sigmoid')\n",
    "])\n",
    "model_binary.summary()"
   ],
   "metadata": {
    "collapsed": false,
    "ExecuteTime": {
     "start_time": "2023-05-05T18:14:41.226403Z",
     "end_time": "2023-05-05T18:14:41.514891Z"
    }
   }
  },
  {
   "cell_type": "code",
   "execution_count": 10,
   "outputs": [
    {
     "name": "stdout",
     "output_type": "stream",
     "text": [
      "Model: \"sequential_2\"\n",
      "_________________________________________________________________\n",
      " Layer (type)                Output Shape              Param #   \n",
      "=================================================================\n",
      " conv2d_4 (Conv2D)           (None, 27, 27, 32)        896       \n",
      "                                                                 \n",
      " batch_normalization_6 (Batc  (None, 27, 27, 32)       128       \n",
      " hNormalization)                                                 \n",
      "                                                                 \n",
      " conv2d_5 (Conv2D)           (None, 25, 25, 32)        9248      \n",
      "                                                                 \n",
      " batch_normalization_7 (Batc  (None, 25, 25, 32)       128       \n",
      " hNormalization)                                                 \n",
      "                                                                 \n",
      " max_pooling2d_2 (MaxPooling  (None, 12, 12, 32)       0         \n",
      " 2D)                                                             \n",
      "                                                                 \n",
      " conv2d_6 (Conv2D)           (None, 12, 12, 64)        18496     \n",
      "                                                                 \n",
      " batch_normalization_8 (Batc  (None, 12, 12, 64)       256       \n",
      " hNormalization)                                                 \n",
      "                                                                 \n",
      " conv2d_7 (Conv2D)           (None, 10, 10, 64)        36928     \n",
      "                                                                 \n",
      " batch_normalization_9 (Batc  (None, 10, 10, 64)       256       \n",
      " hNormalization)                                                 \n",
      "                                                                 \n",
      " max_pooling2d_3 (MaxPooling  (None, 5, 5, 64)         0         \n",
      " 2D)                                                             \n",
      "                                                                 \n",
      " flatten_2 (Flatten)         (None, 1600)              0         \n",
      "                                                                 \n",
      " dense_6 (Dense)             (None, 512)               819712    \n",
      "                                                                 \n",
      " batch_normalization_10 (Bat  (None, 512)              2048      \n",
      " chNormalization)                                                \n",
      "                                                                 \n",
      " dropout_2 (Dropout)         (None, 512)               0         \n",
      "                                                                 \n",
      " dense_7 (Dense)             (None, 512)               262656    \n",
      "                                                                 \n",
      " batch_normalization_11 (Bat  (None, 512)              2048      \n",
      " chNormalization)                                                \n",
      "                                                                 \n",
      " dropout_3 (Dropout)         (None, 512)               0         \n",
      "                                                                 \n",
      " dense_8 (Dense)             (None, 4)                 2052      \n",
      "                                                                 \n",
      "=================================================================\n",
      "Total params: 1,154,852\n",
      "Trainable params: 1,152,420\n",
      "Non-trainable params: 2,432\n",
      "_________________________________________________________________\n"
     ]
    }
   ],
   "source": [
    "model_categorical = tf.keras.models.Sequential([\n",
    "    tf.keras.layers.Conv2D(32, (3,3), activation='relu', input_shape=input_shape, padding='same', kernel_regularizer=tf.keras.regularizers.l2(l2_coeff)),\n",
    "    tf.keras.layers.BatchNormalization(),\n",
    "    tf.keras.layers.Conv2D(32, (3,3), activation='relu', kernel_regularizer=tf.keras.regularizers.l2(l2_coeff)),\n",
    "    tf.keras.layers.BatchNormalization(),\n",
    "    tf.keras.layers.MaxPooling2D(2, 2),\n",
    "    tf.keras.layers.Conv2D(64, (3,3), activation='relu', padding='same', kernel_regularizer=tf.keras.regularizers.l2(l2_coeff)),\n",
    "    tf.keras.layers.BatchNormalization(),\n",
    "    tf.keras.layers.Conv2D(64, (3,3), activation='relu', kernel_regularizer=tf.keras.regularizers.l2(l2_coeff)),\n",
    "    tf.keras.layers.BatchNormalization(),\n",
    "    tf.keras.layers.MaxPooling2D(2, 2),\n",
    "    tf.keras.layers.Flatten(),\n",
    "    tf.keras.layers.Dense(512, activation='relu', kernel_regularizer=tf.keras.regularizers.l2(l2_coeff)),\n",
    "    tf.keras.layers.BatchNormalization(),\n",
    "    tf.keras.layers.Dropout(0.2),\n",
    "    tf.keras.layers.Dense(512, activation='relu', kernel_regularizer=tf.keras.regularizers.l2(l2_coeff)),\n",
    "    tf.keras.layers.BatchNormalization(),\n",
    "    tf.keras.layers.Dropout(0.2),\n",
    "    tf.keras.layers.Dense(num_classes, activation='softmax')\n",
    "])\n",
    "model_categorical.summary()"
   ],
   "metadata": {
    "collapsed": false,
    "ExecuteTime": {
     "start_time": "2023-05-05T18:14:43.990044Z",
     "end_time": "2023-05-05T18:14:44.126379Z"
    }
   }
  },
  {
   "cell_type": "code",
   "execution_count": 11,
   "outputs": [],
   "source": [
    "model_binary.compile(loss='binary_crossentropy',\n",
    "                     optimizer=tf.keras.optimizers.legacy.Adam(learning_rate=0.0001),\n",
    "                     metrics=['accuracy',\n",
    "                       tf.keras.metrics.Precision(name='precision'),\n",
    "                       tf.keras.metrics.Recall(name='recall'),\n",
    "                       F1Score()])\n",
    "\n",
    "model_categorical.compile(loss='categorical_crossentropy',\n",
    "                          optimizer=tf.keras.optimizers.legacy.Adam(learning_rate=0.0005),\n",
    "                          metrics=['accuracy',\n",
    "                                   tf.keras.metrics.Precision(name='precision'),\n",
    "                                   tf.keras.metrics.Recall(name='recall'),\n",
    "                                   F1Score()])"
   ],
   "metadata": {
    "collapsed": false,
    "ExecuteTime": {
     "start_time": "2023-05-05T18:14:45.548415Z",
     "end_time": "2023-05-05T18:14:45.586486Z"
    }
   }
  },
  {
   "cell_type": "code",
   "execution_count": 12,
   "outputs": [],
   "source": [
    "lr_reducer = tf.keras.callbacks.ReduceLROnPlateau(monitor='val_loss', factor=np.sqrt(0.1), cooldown=0, patience=3, min_lr=0.5e-15)"
   ],
   "metadata": {
    "collapsed": false,
    "ExecuteTime": {
     "start_time": "2023-05-05T18:14:46.922163Z",
     "end_time": "2023-05-05T18:14:47.036497Z"
    }
   }
  },
  {
   "cell_type": "code",
   "execution_count": 12,
   "outputs": [
    {
     "ename": "NameError",
     "evalue": "name 'epochs' is not defined",
     "output_type": "error",
     "traceback": [
      "\u001B[0;31m---------------------------------------------------------------------------\u001B[0m",
      "\u001B[0;31mNameError\u001B[0m                                 Traceback (most recent call last)",
      "Input \u001B[0;32mIn [12]\u001B[0m, in \u001B[0;36m<cell line: 1>\u001B[0;34m()\u001B[0m\n\u001B[1;32m      1\u001B[0m history_binary \u001B[38;5;241m=\u001B[39m model_binary\u001B[38;5;241m.\u001B[39mfit(\n\u001B[1;32m      2\u001B[0m     train_isCancerous_generator,\n\u001B[1;32m      3\u001B[0m     steps_per_epoch\u001B[38;5;241m=\u001B[39m\u001B[38;5;28mlen\u001B[39m(train_data) \u001B[38;5;241m/\u001B[39m\u001B[38;5;241m/\u001B[39m batch_size,\n\u001B[0;32m----> 4\u001B[0m     epochs\u001B[38;5;241m=\u001B[39m\u001B[43mepochs\u001B[49m,\n\u001B[1;32m      5\u001B[0m     validation_data\u001B[38;5;241m=\u001B[39mval_isCancerous_generator,\n\u001B[1;32m      6\u001B[0m     validation_steps\u001B[38;5;241m=\u001B[39m\u001B[38;5;28mlen\u001B[39m(val_data) \u001B[38;5;241m/\u001B[39m\u001B[38;5;241m/\u001B[39m batch_size,\n\u001B[1;32m      7\u001B[0m     class_weight\u001B[38;5;241m=\u001B[39mclass_weight_dict_isCancerous\n\u001B[1;32m      8\u001B[0m     , callbacks\u001B[38;5;241m=\u001B[39m[lr_reducer]\n\u001B[1;32m      9\u001B[0m )\n",
      "\u001B[0;31mNameError\u001B[0m: name 'epochs' is not defined"
     ]
    }
   ],
   "source": [
    "epochs = 100\n",
    "history_binary = model_binary.fit(\n",
    "    train_isCancerous_generator,\n",
    "    steps_per_epoch=len(train_data) // batch_size,\n",
    "    epochs=epochs,\n",
    "    validation_data=val_isCancerous_generator,\n",
    "    validation_steps=len(val_data) // batch_size,\n",
    "    class_weight=class_weight_dict_isCancerous\n",
    "    , callbacks=[lr_reducer]\n",
    ")"
   ],
   "metadata": {
    "collapsed": false,
    "ExecuteTime": {
     "start_time": "2023-05-04T20:11:15.261142Z",
     "end_time": "2023-05-04T20:25:37.838809Z"
    }
   }
  },
  {
   "cell_type": "code",
   "execution_count": 178,
   "outputs": [
    {
     "data": {
      "text/plain": "<Figure size 432x288 with 1 Axes>",
      "image/png": "[encoded data removed]"
     },
     "metadata": {
      "needs_background": "light"
     },
     "output_type": "display_data"
    }
   ],
   "source": [
    "train_loss = history_binary.history['loss']\n",
    "val_loss = history_binary.history['val_loss']\n",
    "\n",
    "epochs_range = range(1, epochs + 1)\n",
    "\n",
    "plt.plot(epochs_range, train_loss, label='Training Loss')\n",
    "plt.plot(epochs_range, val_loss, label='Validation Loss')\n",
    "\n",
    "plt.legend()\n",
    "plt.title('Training and Validation Loss in binary')\n",
    "plt.xlabel('Epoch')\n",
    "plt.ylabel('Loss')\n",
    "\n",
    "plt.show()"
   ],
   "metadata": {
    "collapsed": false,
    "ExecuteTime": {
     "start_time": "2023-05-04T20:25:37.879063Z",
     "end_time": "2023-05-04T20:25:37.970970Z"
    }
   }
  },
  {
   "cell_type": "code",
   "execution_count": 179,
   "outputs": [
    {
     "data": {
      "text/plain": "<Figure size 432x288 with 1 Axes>",
      "image/png": "[encoded data removed]"
     },
     "metadata": {
      "needs_background": "light"
     },
     "output_type": "display_data"
    }
   ],
   "source": [
    "train_accuracy = history_binary.history['accuracy']\n",
    "val_accuracy = history_binary.history['val_accuracy']\n",
    "\n",
    "epochs_range = range(1, epochs + 1)\n",
    "\n",
    "plt.plot(epochs_range, train_accuracy, label='Training Accuracy')\n",
    "plt.plot(epochs_range, val_accuracy, label='Validation Accuracy')\n",
    "\n",
    "plt.legend()\n",
    "plt.title('Training and Validation Accuracy in binary')\n",
    "plt.xlabel('Epoch')\n",
    "plt.ylabel('Accuracy')\n",
    "\n",
    "plt.show()"
   ],
   "metadata": {
    "collapsed": false,
    "ExecuteTime": {
     "start_time": "2023-05-04T20:25:37.996157Z",
     "end_time": "2023-05-04T20:25:38.095850Z"
    }
   }
  },
  {
   "cell_type": "markdown",
   "source": [
    "评估不可见数据集的表现"
   ],
   "metadata": {
    "collapsed": false
   }
  },
  {
   "cell_type": "code",
   "execution_count": 180,
   "outputs": [
    {
     "name": "stdout",
     "output_type": "stream",
     "text": [
      "62/62 [==============================] - 2s 30ms/step - loss: 0.5743 - accuracy: 0.9323 - precision: 0.9001 - recall: 0.9343 - f1_score: 0.9169\n"
     ]
    },
    {
     "data": {
      "text/plain": "[0.5742926597595215,\n 0.9323232173919678,\n 0.900121808052063,\n 0.9342604279518127,\n 0.9168733358383179]"
     },
     "execution_count": 180,
     "metadata": {},
     "output_type": "execute_result"
    }
   ],
   "source": [
    "model_binary.evaluate(test_isCancerous_generator)"
   ],
   "metadata": {
    "collapsed": false,
    "ExecuteTime": {
     "start_time": "2023-05-04T20:25:38.096804Z",
     "end_time": "2023-05-04T20:25:39.983641Z"
    }
   }
  },
  {
   "cell_type": "markdown",
   "source": [
    "# 训练多分类"
   ],
   "metadata": {
    "collapsed": false
   }
  },
  {
   "cell_type": "code",
   "execution_count": 70,
   "outputs": [
    {
     "name": "stdout",
     "output_type": "stream",
     "text": [
      "Epoch 1/100\n",
      "197/197 [==============================] - 11s 51ms/step - loss: 19.2475 - accuracy: 0.5597 - precision: 0.6010 - recall: 0.5011 - f1_score: 0.5465 - val_loss: 15.5416 - val_accuracy: 0.2870 - val_precision: 0.2860 - val_recall: 0.2812 - val_f1_score: 0.2836 - lr: 5.0000e-04\n",
      "Epoch 2/100\n",
      "197/197 [==============================] - 9s 45ms/step - loss: 16.9749 - accuracy: 0.6035 - precision: 0.6572 - recall: 0.5340 - f1_score: 0.5892 - val_loss: 13.2214 - val_accuracy: 0.5383 - val_precision: 0.5739 - val_recall: 0.5128 - val_f1_score: 0.5416 - lr: 5.0000e-04\n",
      "Epoch 3/100\n",
      "197/197 [==============================] - 9s 46ms/step - loss: 15.2587 - accuracy: 0.6302 - precision: 0.6860 - recall: 0.5527 - f1_score: 0.6122 - val_loss: 11.2268 - val_accuracy: 0.7136 - val_precision: 0.7950 - val_recall: 0.6135 - val_f1_score: 0.6926 - lr: 5.0000e-04\n",
      "Epoch 4/100\n",
      "197/197 [==============================] - 9s 48ms/step - loss: 13.5708 - accuracy: 0.6467 - precision: 0.7153 - recall: 0.5710 - f1_score: 0.6350 - val_loss: 10.6987 - val_accuracy: 0.4139 - val_precision: 0.4382 - val_recall: 0.3412 - val_f1_score: 0.3836 - lr: 5.0000e-04\n",
      "Epoch 5/100\n",
      "197/197 [==============================] - 9s 47ms/step - loss: 12.0576 - accuracy: 0.6643 - precision: 0.7298 - recall: 0.5856 - f1_score: 0.6498 - val_loss: 8.4181 - val_accuracy: 0.7034 - val_precision: 0.7617 - val_recall: 0.6422 - val_f1_score: 0.6969 - lr: 5.0000e-04\n",
      "Epoch 6/100\n",
      "197/197 [==============================] - 9s 47ms/step - loss: 10.6581 - accuracy: 0.6762 - precision: 0.7413 - recall: 0.5952 - f1_score: 0.6603 - val_loss: 7.4624 - val_accuracy: 0.6307 - val_precision: 0.6619 - val_recall: 0.5657 - val_f1_score: 0.6100 - lr: 5.0000e-04\n",
      "Epoch 7/100\n",
      "197/197 [==============================] - 9s 46ms/step - loss: 9.4658 - accuracy: 0.6821 - precision: 0.7426 - recall: 0.6017 - f1_score: 0.6648 - val_loss: 6.1566 - val_accuracy: 0.7283 - val_precision: 0.7839 - val_recall: 0.6639 - val_f1_score: 0.7189 - lr: 5.0000e-04\n",
      "Epoch 8/100\n",
      "197/197 [==============================] - 9s 47ms/step - loss: 8.4196 - accuracy: 0.6938 - precision: 0.7598 - recall: 0.6176 - f1_score: 0.6814 - val_loss: 5.2502 - val_accuracy: 0.7538 - val_precision: 0.8092 - val_recall: 0.6709 - val_f1_score: 0.7336 - lr: 5.0000e-04\n",
      "Epoch 9/100\n",
      "197/197 [==============================] - 9s 47ms/step - loss: 7.5956 - accuracy: 0.6906 - precision: 0.7495 - recall: 0.6208 - f1_score: 0.6791 - val_loss: 4.9366 - val_accuracy: 0.6193 - val_precision: 0.6491 - val_recall: 0.5804 - val_f1_score: 0.6128 - lr: 5.0000e-04\n",
      "Epoch 10/100\n",
      "197/197 [==============================] - 9s 48ms/step - loss: 6.9143 - accuracy: 0.6946 - precision: 0.7534 - recall: 0.6217 - f1_score: 0.6813 - val_loss: 3.9268 - val_accuracy: 0.7653 - val_precision: 0.8178 - val_recall: 0.7015 - val_f1_score: 0.7552 - lr: 5.0000e-04\n",
      "Epoch 11/100\n",
      "197/197 [==============================] - 9s 47ms/step - loss: 6.3564 - accuracy: 0.6948 - precision: 0.7571 - recall: 0.6297 - f1_score: 0.6875 - val_loss: 3.7417 - val_accuracy: 0.6135 - val_precision: 0.6831 - val_recall: 0.5555 - val_f1_score: 0.6127 - lr: 5.0000e-04\n",
      "Epoch 12/100\n",
      "197/197 [==============================] - 9s 46ms/step - loss: 5.8555 - accuracy: 0.7148 - precision: 0.7756 - recall: 0.6456 - f1_score: 0.7046 - val_loss: 4.1579 - val_accuracy: 0.5217 - val_precision: 0.5397 - val_recall: 0.5070 - val_f1_score: 0.5229 - lr: 5.0000e-04\n",
      "Epoch 13/100\n",
      "197/197 [==============================] - 10s 48ms/step - loss: 5.5073 - accuracy: 0.7125 - precision: 0.7717 - recall: 0.6467 - f1_score: 0.7037 - val_loss: 3.0263 - val_accuracy: 0.6148 - val_precision: 0.6738 - val_recall: 0.5427 - val_f1_score: 0.6012 - lr: 5.0000e-04\n",
      "Epoch 14/100\n",
      "197/197 [==============================] - 9s 46ms/step - loss: 5.1801 - accuracy: 0.7219 - precision: 0.7771 - recall: 0.6579 - f1_score: 0.7126 - val_loss: 2.6354 - val_accuracy: 0.7302 - val_precision: 0.7714 - val_recall: 0.6996 - val_f1_score: 0.7338 - lr: 5.0000e-04\n",
      "Epoch 15/100\n",
      "197/197 [==============================] - 9s 46ms/step - loss: 5.0345 - accuracy: 0.7161 - precision: 0.7743 - recall: 0.6491 - f1_score: 0.7062 - val_loss: 2.3417 - val_accuracy: 0.7774 - val_precision: 0.8389 - val_recall: 0.7073 - val_f1_score: 0.7675 - lr: 5.0000e-04\n",
      "Epoch 16/100\n",
      "197/197 [==============================] - 9s 48ms/step - loss: 4.7716 - accuracy: 0.7192 - precision: 0.7721 - recall: 0.6538 - f1_score: 0.7080 - val_loss: 2.1823 - val_accuracy: 0.7755 - val_precision: 0.8465 - val_recall: 0.6964 - val_f1_score: 0.7642 - lr: 5.0000e-04\n",
      "Epoch 17/100\n",
      "197/197 [==============================] - 9s 45ms/step - loss: 4.6927 - accuracy: 0.7157 - precision: 0.7682 - recall: 0.6427 - f1_score: 0.6999 - val_loss: 3.1774 - val_accuracy: 0.3973 - val_precision: 0.4020 - val_recall: 0.3571 - val_f1_score: 0.3783 - lr: 5.0000e-04\n",
      "Epoch 18/100\n",
      "197/197 [==============================] - 9s 44ms/step - loss: 4.5570 - accuracy: 0.7248 - precision: 0.7774 - recall: 0.6557 - f1_score: 0.7114 - val_loss: 2.1695 - val_accuracy: 0.7277 - val_precision: 0.7608 - val_recall: 0.6716 - val_f1_score: 0.7134 - lr: 5.0000e-04\n",
      "Epoch 19/100\n",
      "197/197 [==============================] - 9s 45ms/step - loss: 4.3071 - accuracy: 0.7443 - precision: 0.7984 - recall: 0.6860 - f1_score: 0.7380 - val_loss: 2.0045 - val_accuracy: 0.7468 - val_precision: 0.8024 - val_recall: 0.6786 - val_f1_score: 0.7353 - lr: 5.0000e-04\n",
      "Epoch 20/100\n",
      "197/197 [==============================] - 9s 44ms/step - loss: 4.3356 - accuracy: 0.7419 - precision: 0.7895 - recall: 0.6757 - f1_score: 0.7282 - val_loss: 1.9079 - val_accuracy: 0.7640 - val_precision: 0.8088 - val_recall: 0.7149 - val_f1_score: 0.7590 - lr: 5.0000e-04\n",
      "Epoch 21/100\n",
      "197/197 [==============================] - 9s 44ms/step - loss: 4.2249 - accuracy: 0.7413 - precision: 0.7929 - recall: 0.6794 - f1_score: 0.7317 - val_loss: 1.8843 - val_accuracy: 0.7615 - val_precision: 0.7994 - val_recall: 0.7015 - val_f1_score: 0.7473 - lr: 5.0000e-04\n",
      "Epoch 22/100\n",
      "197/197 [==============================] - 9s 44ms/step - loss: 4.1371 - accuracy: 0.7422 - precision: 0.7961 - recall: 0.6854 - f1_score: 0.7366 - val_loss: 1.8301 - val_accuracy: 0.7812 - val_precision: 0.8139 - val_recall: 0.7392 - val_f1_score: 0.7747 - lr: 5.0000e-04\n",
      "Epoch 23/100\n",
      "197/197 [==============================] - 9s 44ms/step - loss: 4.0448 - accuracy: 0.7502 - precision: 0.7991 - recall: 0.6870 - f1_score: 0.7388 - val_loss: 1.7146 - val_accuracy: 0.7838 - val_precision: 0.8167 - val_recall: 0.7500 - val_f1_score: 0.7819 - lr: 5.0000e-04\n",
      "Epoch 24/100\n",
      "197/197 [==============================] - 9s 45ms/step - loss: 4.0131 - accuracy: 0.7402 - precision: 0.7887 - recall: 0.6827 - f1_score: 0.7319 - val_loss: 1.9255 - val_accuracy: 0.6690 - val_precision: 0.7102 - val_recall: 0.6173 - val_f1_score: 0.6605 - lr: 5.0000e-04\n",
      "Epoch 25/100\n",
      "197/197 [==============================] - 9s 45ms/step - loss: 3.9287 - accuracy: 0.7478 - precision: 0.7993 - recall: 0.6943 - f1_score: 0.7431 - val_loss: 1.9572 - val_accuracy: 0.6531 - val_precision: 0.7018 - val_recall: 0.5855 - val_f1_score: 0.6384 - lr: 5.0000e-04\n",
      "Epoch 26/100\n",
      "197/197 [==============================] - 9s 45ms/step - loss: 3.8962 - accuracy: 0.7540 - precision: 0.8046 - recall: 0.6924 - f1_score: 0.7443 - val_loss: 1.6523 - val_accuracy: 0.7755 - val_precision: 0.8148 - val_recall: 0.7296 - val_f1_score: 0.7699 - lr: 5.0000e-04\n",
      "Epoch 27/100\n",
      "197/197 [==============================] - 9s 43ms/step - loss: 3.8235 - accuracy: 0.7565 - precision: 0.8074 - recall: 0.7032 - f1_score: 0.7517 - val_loss: 1.6714 - val_accuracy: 0.7691 - val_precision: 0.8201 - val_recall: 0.7009 - val_f1_score: 0.7558 - lr: 5.0000e-04\n",
      "Epoch 28/100\n",
      "197/197 [==============================] - 9s 43ms/step - loss: 3.8222 - accuracy: 0.7578 - precision: 0.8069 - recall: 0.7019 - f1_score: 0.7508 - val_loss: 1.5774 - val_accuracy: 0.7946 - val_precision: 0.8394 - val_recall: 0.7468 - val_f1_score: 0.7904 - lr: 5.0000e-04\n",
      "Epoch 29/100\n",
      "197/197 [==============================] - 9s 44ms/step - loss: 3.8776 - accuracy: 0.7495 - precision: 0.7989 - recall: 0.6887 - f1_score: 0.7397 - val_loss: 1.7683 - val_accuracy: 0.7009 - val_precision: 0.7448 - val_recall: 0.6569 - val_f1_score: 0.6981 - lr: 5.0000e-04\n",
      "Epoch 30/100\n",
      "197/197 [==============================] - 9s 46ms/step - loss: 3.8650 - accuracy: 0.7556 - precision: 0.8073 - recall: 0.7027 - f1_score: 0.7514 - val_loss: 1.6956 - val_accuracy: 0.7392 - val_precision: 0.7854 - val_recall: 0.6932 - val_f1_score: 0.7364 - lr: 5.0000e-04\n",
      "Epoch 31/100\n",
      "197/197 [==============================] - 9s 45ms/step - loss: 3.8239 - accuracy: 0.7495 - precision: 0.8015 - recall: 0.6987 - f1_score: 0.7466 - val_loss: 2.2719 - val_accuracy: 0.5491 - val_precision: 0.5737 - val_recall: 0.5210 - val_f1_score: 0.5461 - lr: 5.0000e-04\n",
      "Epoch 32/100\n",
      "197/197 [==============================] - 9s 45ms/step - loss: 3.4863 - accuracy: 0.7829 - precision: 0.8243 - recall: 0.7292 - f1_score: 0.7739 - val_loss: 1.4816 - val_accuracy: 0.7959 - val_precision: 0.8375 - val_recall: 0.7494 - val_f1_score: 0.7910 - lr: 1.5811e-04\n",
      "Epoch 33/100\n",
      "197/197 [==============================] - 9s 46ms/step - loss: 3.2928 - accuracy: 0.7895 - precision: 0.8328 - recall: 0.7470 - f1_score: 0.7875 - val_loss: 1.3434 - val_accuracy: 0.8182 - val_precision: 0.8618 - val_recall: 0.7793 - val_f1_score: 0.8185 - lr: 1.5811e-04\n",
      "Epoch 34/100\n",
      "197/197 [==============================] - 10s 48ms/step - loss: 3.1745 - accuracy: 0.8032 - precision: 0.8365 - recall: 0.7600 - f1_score: 0.7964 - val_loss: 1.3362 - val_accuracy: 0.7972 - val_precision: 0.8403 - val_recall: 0.7551 - val_f1_score: 0.7954 - lr: 1.5811e-04\n",
      "Epoch 35/100\n",
      "197/197 [==============================] - 10s 49ms/step - loss: 3.1435 - accuracy: 0.8008 - precision: 0.8396 - recall: 0.7608 - f1_score: 0.7983 - val_loss: 1.2759 - val_accuracy: 0.8278 - val_precision: 0.8560 - val_recall: 0.7921 - val_f1_score: 0.8228 - lr: 1.5811e-04\n",
      "Epoch 36/100\n",
      "197/197 [==============================] - 10s 49ms/step - loss: 3.0989 - accuracy: 0.8038 - precision: 0.8400 - recall: 0.7641 - f1_score: 0.8003 - val_loss: 1.3170 - val_accuracy: 0.8036 - val_precision: 0.8369 - val_recall: 0.7557 - val_f1_score: 0.7942 - lr: 1.5811e-04\n",
      "Epoch 37/100\n",
      "197/197 [==============================] - 10s 49ms/step - loss: 3.0351 - accuracy: 0.8048 - precision: 0.8371 - recall: 0.7675 - f1_score: 0.8008 - val_loss: 1.3844 - val_accuracy: 0.7602 - val_precision: 0.7992 - val_recall: 0.7207 - val_f1_score: 0.7579 - lr: 1.5811e-04\n",
      "Epoch 38/100\n",
      "197/197 [==============================] - 9s 46ms/step - loss: 3.0362 - accuracy: 0.8065 - precision: 0.8425 - recall: 0.7673 - f1_score: 0.8031 - val_loss: 1.4006 - val_accuracy: 0.7506 - val_precision: 0.7828 - val_recall: 0.7009 - val_f1_score: 0.7396 - lr: 1.5811e-04\n",
      "Epoch 39/100\n",
      "197/197 [==============================] - 9s 46ms/step - loss: 2.9217 - accuracy: 0.8198 - precision: 0.8504 - recall: 0.7832 - f1_score: 0.8154 - val_loss: 1.1859 - val_accuracy: 0.8374 - val_precision: 0.8682 - val_recall: 0.7940 - val_f1_score: 0.8294 - lr: 5.0000e-05\n",
      "Epoch 40/100\n",
      "197/197 [==============================] - 10s 49ms/step - loss: 2.7659 - accuracy: 0.8281 - precision: 0.8585 - recall: 0.7878 - f1_score: 0.8216 - val_loss: 1.1947 - val_accuracy: 0.8246 - val_precision: 0.8546 - val_recall: 0.7946 - val_f1_score: 0.8235 - lr: 5.0000e-05\n",
      "Epoch 41/100\n",
      "197/197 [==============================] - 9s 48ms/step - loss: 2.7900 - accuracy: 0.8268 - precision: 0.8565 - recall: 0.7949 - f1_score: 0.8246 - val_loss: 1.1478 - val_accuracy: 0.8361 - val_precision: 0.8636 - val_recall: 0.7997 - val_f1_score: 0.8305 - lr: 5.0000e-05\n",
      "Epoch 42/100\n",
      "197/197 [==============================] - 9s 46ms/step - loss: 2.7437 - accuracy: 0.8257 - precision: 0.8578 - recall: 0.7910 - f1_score: 0.8230 - val_loss: 1.1557 - val_accuracy: 0.8342 - val_precision: 0.8571 - val_recall: 0.7959 - val_f1_score: 0.8254 - lr: 5.0000e-05\n",
      "Epoch 43/100\n",
      "197/197 [==============================] - 9s 45ms/step - loss: 2.6427 - accuracy: 0.8356 - precision: 0.8660 - recall: 0.8022 - f1_score: 0.8329 - val_loss: 1.1352 - val_accuracy: 0.8380 - val_precision: 0.8656 - val_recall: 0.8093 - val_f1_score: 0.8365 - lr: 5.0000e-05\n",
      "Epoch 44/100\n",
      "197/197 [==============================] - 9s 46ms/step - loss: 2.6912 - accuracy: 0.8322 - precision: 0.8603 - recall: 0.8022 - f1_score: 0.8302 - val_loss: 1.1182 - val_accuracy: 0.8348 - val_precision: 0.8584 - val_recall: 0.8042 - val_f1_score: 0.8304 - lr: 5.0000e-05\n",
      "Epoch 45/100\n",
      "197/197 [==============================] - 9s 47ms/step - loss: 2.6726 - accuracy: 0.8346 - precision: 0.8637 - recall: 0.8005 - f1_score: 0.8309 - val_loss: 1.1057 - val_accuracy: 0.8444 - val_precision: 0.8673 - val_recall: 0.8170 - val_f1_score: 0.8414 - lr: 5.0000e-05\n",
      "Epoch 46/100\n",
      "197/197 [==============================] - 9s 46ms/step - loss: 2.6044 - accuracy: 0.8417 - precision: 0.8693 - recall: 0.8111 - f1_score: 0.8392 - val_loss: 1.1053 - val_accuracy: 0.8399 - val_precision: 0.8622 - val_recall: 0.8138 - val_f1_score: 0.8373 - lr: 5.0000e-05\n",
      "Epoch 47/100\n",
      "197/197 [==============================] - 9s 46ms/step - loss: 2.5824 - accuracy: 0.8402 - precision: 0.8648 - recall: 0.8071 - f1_score: 0.8350 - val_loss: 1.0814 - val_accuracy: 0.8406 - val_precision: 0.8649 - val_recall: 0.8208 - val_f1_score: 0.8423 - lr: 5.0000e-05\n",
      "Epoch 48/100\n",
      "197/197 [==============================] - 9s 47ms/step - loss: 2.6010 - accuracy: 0.8367 - precision: 0.8628 - recall: 0.8056 - f1_score: 0.8332 - val_loss: 1.0994 - val_accuracy: 0.8329 - val_precision: 0.8640 - val_recall: 0.7978 - val_f1_score: 0.8296 - lr: 5.0000e-05\n",
      "Epoch 49/100\n",
      "197/197 [==============================] - 9s 47ms/step - loss: 2.5226 - accuracy: 0.8390 - precision: 0.8630 - recall: 0.8089 - f1_score: 0.8351 - val_loss: 1.0890 - val_accuracy: 0.8348 - val_precision: 0.8619 - val_recall: 0.8042 - val_f1_score: 0.8321 - lr: 5.0000e-05\n",
      "Epoch 50/100\n",
      "197/197 [==============================] - 9s 47ms/step - loss: 2.5414 - accuracy: 0.8365 - precision: 0.8649 - recall: 0.8067 - f1_score: 0.8348 - val_loss: 1.0812 - val_accuracy: 0.8393 - val_precision: 0.8633 - val_recall: 0.8138 - val_f1_score: 0.8378 - lr: 5.0000e-05\n",
      "Epoch 51/100\n",
      "197/197 [==============================] - 9s 47ms/step - loss: 2.5134 - accuracy: 0.8462 - precision: 0.8737 - recall: 0.8171 - f1_score: 0.8445 - val_loss: 1.1067 - val_accuracy: 0.8253 - val_precision: 0.8569 - val_recall: 0.7985 - val_f1_score: 0.8267 - lr: 5.0000e-05\n",
      "Epoch 52/100\n",
      "197/197 [==============================] - 9s 46ms/step - loss: 2.4788 - accuracy: 0.8459 - precision: 0.8717 - recall: 0.8189 - f1_score: 0.8445 - val_loss: 1.0840 - val_accuracy: 0.8380 - val_precision: 0.8564 - val_recall: 0.8176 - val_f1_score: 0.8365 - lr: 5.0000e-05\n",
      "Epoch 53/100\n",
      "197/197 [==============================] - 9s 46ms/step - loss: 2.4936 - accuracy: 0.8449 - precision: 0.8715 - recall: 0.8162 - f1_score: 0.8430 - val_loss: 1.1182 - val_accuracy: 0.8202 - val_precision: 0.8424 - val_recall: 0.7978 - val_f1_score: 0.8195 - lr: 5.0000e-05\n",
      "Epoch 54/100\n",
      "197/197 [==============================] - 9s 46ms/step - loss: 2.4229 - accuracy: 0.8483 - precision: 0.8735 - recall: 0.8195 - f1_score: 0.8456 - val_loss: 1.0726 - val_accuracy: 0.8374 - val_precision: 0.8595 - val_recall: 0.8157 - val_f1_score: 0.8370 - lr: 1.5811e-05\n",
      "Epoch 55/100\n",
      "197/197 [==============================] - 9s 48ms/step - loss: 2.4235 - accuracy: 0.8494 - precision: 0.8727 - recall: 0.8240 - f1_score: 0.8476 - val_loss: 1.0744 - val_accuracy: 0.8412 - val_precision: 0.8614 - val_recall: 0.8125 - val_f1_score: 0.8362 - lr: 1.5811e-05\n",
      "Epoch 56/100\n",
      "197/197 [==============================] - 9s 46ms/step - loss: 2.3466 - accuracy: 0.8549 - precision: 0.8785 - recall: 0.8297 - f1_score: 0.8534 - val_loss: 1.0668 - val_accuracy: 0.8463 - val_precision: 0.8639 - val_recall: 0.8176 - val_f1_score: 0.8401 - lr: 1.5811e-05\n",
      "Epoch 57/100\n",
      "197/197 [==============================] - 9s 45ms/step - loss: 2.4273 - accuracy: 0.8473 - precision: 0.8724 - recall: 0.8195 - f1_score: 0.8451 - val_loss: 1.0689 - val_accuracy: 0.8393 - val_precision: 0.8597 - val_recall: 0.8131 - val_f1_score: 0.8358 - lr: 1.5811e-05\n",
      "Epoch 58/100\n",
      "197/197 [==============================] - 9s 46ms/step - loss: 2.3679 - accuracy: 0.8541 - precision: 0.8778 - recall: 0.8310 - f1_score: 0.8537 - val_loss: 1.0542 - val_accuracy: 0.8431 - val_precision: 0.8611 - val_recall: 0.8182 - val_f1_score: 0.8391 - lr: 1.5811e-05\n",
      "Epoch 59/100\n",
      "197/197 [==============================] - 9s 45ms/step - loss: 2.3463 - accuracy: 0.8602 - precision: 0.8815 - recall: 0.8321 - f1_score: 0.8560 - val_loss: 1.0728 - val_accuracy: 0.8374 - val_precision: 0.8610 - val_recall: 0.8099 - val_f1_score: 0.8347 - lr: 1.5811e-05\n",
      "Epoch 60/100\n",
      "197/197 [==============================] - 9s 44ms/step - loss: 2.3437 - accuracy: 0.8546 - precision: 0.8786 - recall: 0.8281 - f1_score: 0.8526 - val_loss: 1.0591 - val_accuracy: 0.8438 - val_precision: 0.8631 - val_recall: 0.8119 - val_f1_score: 0.8367 - lr: 1.5811e-05\n",
      "Epoch 61/100\n",
      "197/197 [==============================] - 9s 44ms/step - loss: 2.3579 - accuracy: 0.8529 - precision: 0.8781 - recall: 0.8298 - f1_score: 0.8533 - val_loss: 1.0720 - val_accuracy: 0.8348 - val_precision: 0.8546 - val_recall: 0.8099 - val_f1_score: 0.8317 - lr: 1.5811e-05\n",
      "Epoch 62/100\n",
      "197/197 [==============================] - 9s 44ms/step - loss: 2.2868 - accuracy: 0.8565 - precision: 0.8807 - recall: 0.8283 - f1_score: 0.8537 - val_loss: 1.0550 - val_accuracy: 0.8444 - val_precision: 0.8592 - val_recall: 0.8176 - val_f1_score: 0.8379 - lr: 5.0000e-06\n",
      "Epoch 63/100\n",
      "197/197 [==============================] - 9s 45ms/step - loss: 2.3599 - accuracy: 0.8576 - precision: 0.8811 - recall: 0.8313 - f1_score: 0.8554 - val_loss: 1.0517 - val_accuracy: 0.8425 - val_precision: 0.8596 - val_recall: 0.8202 - val_f1_score: 0.8394 - lr: 5.0000e-06\n",
      "Epoch 64/100\n",
      "197/197 [==============================] - 9s 45ms/step - loss: 2.3152 - accuracy: 0.8619 - precision: 0.8830 - recall: 0.8376 - f1_score: 0.8597 - val_loss: 1.0473 - val_accuracy: 0.8425 - val_precision: 0.8631 - val_recall: 0.8163 - val_f1_score: 0.8391 - lr: 5.0000e-06\n",
      "Epoch 65/100\n",
      "197/197 [==============================] - 9s 44ms/step - loss: 2.2655 - accuracy: 0.8632 - precision: 0.8837 - recall: 0.8359 - f1_score: 0.8591 - val_loss: 1.0500 - val_accuracy: 0.8406 - val_precision: 0.8624 - val_recall: 0.8195 - val_f1_score: 0.8404 - lr: 5.0000e-06\n",
      "Epoch 66/100\n",
      "197/197 [==============================] - 9s 44ms/step - loss: 2.3064 - accuracy: 0.8600 - precision: 0.8824 - recall: 0.8352 - f1_score: 0.8582 - val_loss: 1.0605 - val_accuracy: 0.8386 - val_precision: 0.8575 - val_recall: 0.8176 - val_f1_score: 0.8371 - lr: 5.0000e-06\n",
      "Epoch 67/100\n",
      "197/197 [==============================] - 9s 44ms/step - loss: 2.2430 - accuracy: 0.8667 - precision: 0.8868 - recall: 0.8421 - f1_score: 0.8639 - val_loss: 1.0538 - val_accuracy: 0.8431 - val_precision: 0.8592 - val_recall: 0.8170 - val_f1_score: 0.8375 - lr: 5.0000e-06\n",
      "Epoch 68/100\n",
      "197/197 [==============================] - 9s 48ms/step - loss: 2.2541 - accuracy: 0.8610 - precision: 0.8822 - recall: 0.8356 - f1_score: 0.8582 - val_loss: 1.0526 - val_accuracy: 0.8406 - val_precision: 0.8590 - val_recall: 0.8157 - val_f1_score: 0.8368 - lr: 1.5811e-06\n",
      "Epoch 69/100\n",
      "197/197 [==============================] - 9s 47ms/step - loss: 2.2530 - accuracy: 0.8579 - precision: 0.8826 - recall: 0.8367 - f1_score: 0.8590 - val_loss: 1.0494 - val_accuracy: 0.8438 - val_precision: 0.8614 - val_recall: 0.8208 - val_f1_score: 0.8406 - lr: 1.5811e-06\n",
      "Epoch 70/100\n",
      "197/197 [==============================] - 9s 46ms/step - loss: 2.2903 - accuracy: 0.8606 - precision: 0.8859 - recall: 0.8379 - f1_score: 0.8612 - val_loss: 1.0501 - val_accuracy: 0.8438 - val_precision: 0.8599 - val_recall: 0.8182 - val_f1_score: 0.8386 - lr: 1.5811e-06\n",
      "Epoch 71/100\n",
      "197/197 [==============================] - 9s 46ms/step - loss: 2.2622 - accuracy: 0.8597 - precision: 0.8830 - recall: 0.8365 - f1_score: 0.8591 - val_loss: 1.0511 - val_accuracy: 0.8425 - val_precision: 0.8576 - val_recall: 0.8182 - val_f1_score: 0.8375 - lr: 5.0000e-07\n",
      "Epoch 72/100\n",
      "197/197 [==============================] - 9s 45ms/step - loss: 2.2472 - accuracy: 0.8624 - precision: 0.8861 - recall: 0.8368 - f1_score: 0.8607 - val_loss: 1.0499 - val_accuracy: 0.8438 - val_precision: 0.8598 - val_recall: 0.8214 - val_f1_score: 0.8402 - lr: 5.0000e-07\n",
      "Epoch 73/100\n",
      "197/197 [==============================] - 9s 44ms/step - loss: 2.2731 - accuracy: 0.8602 - precision: 0.8844 - recall: 0.8381 - f1_score: 0.8606 - val_loss: 1.0518 - val_accuracy: 0.8425 - val_precision: 0.8589 - val_recall: 0.8189 - val_f1_score: 0.8384 - lr: 5.0000e-07\n",
      "Epoch 74/100\n",
      "197/197 [==============================] - 9s 46ms/step - loss: 2.2905 - accuracy: 0.8594 - precision: 0.8814 - recall: 0.8352 - f1_score: 0.8577 - val_loss: 1.0523 - val_accuracy: 0.8418 - val_precision: 0.8595 - val_recall: 0.8195 - val_f1_score: 0.8390 - lr: 1.5811e-07\n",
      "Epoch 75/100\n",
      "197/197 [==============================] - 9s 46ms/step - loss: 2.2559 - accuracy: 0.8581 - precision: 0.8819 - recall: 0.8337 - f1_score: 0.8571 - val_loss: 1.0526 - val_accuracy: 0.8431 - val_precision: 0.8601 - val_recall: 0.8195 - val_f1_score: 0.8393 - lr: 1.5811e-07\n",
      "Epoch 76/100\n",
      "197/197 [==============================] - 9s 46ms/step - loss: 2.2118 - accuracy: 0.8619 - precision: 0.8830 - recall: 0.8400 - f1_score: 0.8610 - val_loss: 1.0488 - val_accuracy: 0.8438 - val_precision: 0.8607 - val_recall: 0.8195 - val_f1_score: 0.8396 - lr: 1.5811e-07\n",
      "Epoch 77/100\n",
      "197/197 [==============================] - 9s 45ms/step - loss: 2.2218 - accuracy: 0.8665 - precision: 0.8905 - recall: 0.8416 - f1_score: 0.8654 - val_loss: 1.0568 - val_accuracy: 0.8399 - val_precision: 0.8572 - val_recall: 0.8157 - val_f1_score: 0.8359 - lr: 5.0000e-08\n",
      "Epoch 78/100\n",
      "197/197 [==============================] - 9s 46ms/step - loss: 2.2596 - accuracy: 0.8613 - precision: 0.8844 - recall: 0.8351 - f1_score: 0.8590 - val_loss: 1.0482 - val_accuracy: 0.8444 - val_precision: 0.8603 - val_recall: 0.8208 - val_f1_score: 0.8401 - lr: 5.0000e-08\n",
      "Epoch 79/100\n",
      "197/197 [==============================] - 9s 47ms/step - loss: 2.2271 - accuracy: 0.8684 - precision: 0.8914 - recall: 0.8446 - f1_score: 0.8674 - val_loss: 1.0506 - val_accuracy: 0.8444 - val_precision: 0.8600 - val_recall: 0.8227 - val_f1_score: 0.8409 - lr: 5.0000e-08\n",
      "Epoch 80/100\n",
      "197/197 [==============================] - 9s 47ms/step - loss: 2.2147 - accuracy: 0.8654 - precision: 0.8924 - recall: 0.8449 - f1_score: 0.8680 - val_loss: 1.0493 - val_accuracy: 0.8438 - val_precision: 0.8586 - val_recall: 0.8208 - val_f1_score: 0.8393 - lr: 1.5811e-08\n",
      "Epoch 81/100\n",
      "197/197 [==============================] - 9s 46ms/step - loss: 2.2847 - accuracy: 0.8603 - precision: 0.8847 - recall: 0.8352 - f1_score: 0.8592 - val_loss: 1.0531 - val_accuracy: 0.8412 - val_precision: 0.8583 - val_recall: 0.8189 - val_f1_score: 0.8381 - lr: 1.5811e-08\n",
      "Epoch 82/100\n",
      "197/197 [==============================] - 9s 46ms/step - loss: 2.2421 - accuracy: 0.8633 - precision: 0.8858 - recall: 0.8387 - f1_score: 0.8616 - val_loss: 1.0463 - val_accuracy: 0.8444 - val_precision: 0.8600 - val_recall: 0.8189 - val_f1_score: 0.8389 - lr: 1.5811e-08\n",
      "Epoch 83/100\n",
      "197/197 [==============================] - 9s 44ms/step - loss: 2.2421 - accuracy: 0.8670 - precision: 0.8881 - recall: 0.8427 - f1_score: 0.8648 - val_loss: 1.0529 - val_accuracy: 0.8418 - val_precision: 0.8577 - val_recall: 0.8189 - val_f1_score: 0.8378 - lr: 1.5811e-08\n",
      "Epoch 84/100\n",
      "197/197 [==============================] - 9s 45ms/step - loss: 2.2306 - accuracy: 0.8638 - precision: 0.8888 - recall: 0.8402 - f1_score: 0.8638 - val_loss: 1.0538 - val_accuracy: 0.8425 - val_precision: 0.8580 - val_recall: 0.8208 - val_f1_score: 0.8390 - lr: 1.5811e-08\n",
      "Epoch 85/100\n",
      "197/197 [==============================] - 9s 44ms/step - loss: 2.2657 - accuracy: 0.8605 - precision: 0.8823 - recall: 0.8352 - f1_score: 0.8581 - val_loss: 1.0448 - val_accuracy: 0.8444 - val_precision: 0.8617 - val_recall: 0.8227 - val_f1_score: 0.8418 - lr: 1.5811e-08\n",
      "Epoch 86/100\n",
      "197/197 [==============================] - 9s 44ms/step - loss: 2.2428 - accuracy: 0.8668 - precision: 0.8881 - recall: 0.8444 - f1_score: 0.8657 - val_loss: 1.0531 - val_accuracy: 0.8418 - val_precision: 0.8590 - val_recall: 0.8195 - val_f1_score: 0.8388 - lr: 1.5811e-08\n",
      "Epoch 87/100\n",
      "197/197 [==============================] - 9s 44ms/step - loss: 2.2830 - accuracy: 0.8590 - precision: 0.8821 - recall: 0.8351 - f1_score: 0.8580 - val_loss: 1.0542 - val_accuracy: 0.8425 - val_precision: 0.8582 - val_recall: 0.8182 - val_f1_score: 0.8377 - lr: 1.5811e-08\n",
      "Epoch 88/100\n",
      "197/197 [==============================] - 9s 44ms/step - loss: 2.2886 - accuracy: 0.8532 - precision: 0.8787 - recall: 0.8329 - f1_score: 0.8552 - val_loss: 1.0472 - val_accuracy: 0.8463 - val_precision: 0.8617 - val_recall: 0.8227 - val_f1_score: 0.8418 - lr: 1.5811e-08\n",
      "Epoch 89/100\n",
      "197/197 [==============================] - 9s 45ms/step - loss: 2.2534 - accuracy: 0.8622 - precision: 0.8852 - recall: 0.8397 - f1_score: 0.8618 - val_loss: 1.0529 - val_accuracy: 0.8438 - val_precision: 0.8599 - val_recall: 0.8182 - val_f1_score: 0.8386 - lr: 5.0000e-09\n",
      "Epoch 90/100\n",
      "197/197 [==============================] - 9s 45ms/step - loss: 2.3199 - accuracy: 0.8573 - precision: 0.8786 - recall: 0.8343 - f1_score: 0.8559 - val_loss: 1.0521 - val_accuracy: 0.8425 - val_precision: 0.8599 - val_recall: 0.8182 - val_f1_score: 0.8386 - lr: 5.0000e-09\n",
      "Epoch 91/100\n",
      "197/197 [==============================] - 9s 45ms/step - loss: 2.2589 - accuracy: 0.8621 - precision: 0.8865 - recall: 0.8422 - f1_score: 0.8638 - val_loss: 1.0532 - val_accuracy: 0.8438 - val_precision: 0.8601 - val_recall: 0.8195 - val_f1_score: 0.8393 - lr: 5.0000e-09\n",
      "Epoch 92/100\n",
      "197/197 [==============================] - 9s 45ms/step - loss: 2.2894 - accuracy: 0.8595 - precision: 0.8803 - recall: 0.8368 - f1_score: 0.8580 - val_loss: 1.0511 - val_accuracy: 0.8425 - val_precision: 0.8604 - val_recall: 0.8176 - val_f1_score: 0.8385 - lr: 1.5811e-09\n",
      "Epoch 93/100\n",
      "197/197 [==============================] - 9s 47ms/step - loss: 2.2578 - accuracy: 0.8600 - precision: 0.8844 - recall: 0.8376 - f1_score: 0.8604 - val_loss: 1.0483 - val_accuracy: 0.8463 - val_precision: 0.8633 - val_recall: 0.8214 - val_f1_score: 0.8418 - lr: 1.5811e-09\n",
      "Epoch 94/100\n",
      "197/197 [==============================] - 10s 48ms/step - loss: 2.2169 - accuracy: 0.8638 - precision: 0.8880 - recall: 0.8422 - f1_score: 0.8645 - val_loss: 1.0456 - val_accuracy: 0.8450 - val_precision: 0.8618 - val_recall: 0.8233 - val_f1_score: 0.8421 - lr: 1.5811e-09\n",
      "Epoch 95/100\n",
      "197/197 [==============================] - 9s 46ms/step - loss: 2.2711 - accuracy: 0.8610 - precision: 0.8837 - recall: 0.8360 - f1_score: 0.8592 - val_loss: 1.0533 - val_accuracy: 0.8425 - val_precision: 0.8589 - val_recall: 0.8189 - val_f1_score: 0.8384 - lr: 5.0000e-10\n",
      "Epoch 96/100\n",
      "197/197 [==============================] - 9s 47ms/step - loss: 2.2160 - accuracy: 0.8662 - precision: 0.8888 - recall: 0.8433 - f1_score: 0.8655 - val_loss: 1.0521 - val_accuracy: 0.8438 - val_precision: 0.8592 - val_recall: 0.8214 - val_f1_score: 0.8399 - lr: 5.0000e-10\n",
      "Epoch 97/100\n",
      "197/197 [==============================] - 9s 46ms/step - loss: 2.2907 - accuracy: 0.8514 - precision: 0.8760 - recall: 0.8302 - f1_score: 0.8525 - val_loss: 1.0499 - val_accuracy: 0.8418 - val_precision: 0.8605 - val_recall: 0.8221 - val_f1_score: 0.8408 - lr: 5.0000e-10\n",
      "Epoch 98/100\n",
      "197/197 [==============================] - 9s 46ms/step - loss: 2.2344 - accuracy: 0.8640 - precision: 0.8847 - recall: 0.8406 - f1_score: 0.8621 - val_loss: 1.0544 - val_accuracy: 0.8431 - val_precision: 0.8599 - val_recall: 0.8182 - val_f1_score: 0.8386 - lr: 1.5811e-10\n",
      "Epoch 99/100\n",
      "197/197 [==============================] - 10s 49ms/step - loss: 2.2790 - accuracy: 0.8556 - precision: 0.8789 - recall: 0.8321 - f1_score: 0.8549 - val_loss: 1.0497 - val_accuracy: 0.8425 - val_precision: 0.8591 - val_recall: 0.8202 - val_f1_score: 0.8392 - lr: 1.5811e-10\n",
      "Epoch 100/100\n",
      "197/197 [==============================] - 9s 48ms/step - loss: 2.3033 - accuracy: 0.8613 - precision: 0.8821 - recall: 0.8346 - f1_score: 0.8577 - val_loss: 1.0500 - val_accuracy: 0.8431 - val_precision: 0.8598 - val_recall: 0.8214 - val_f1_score: 0.8402 - lr: 1.5811e-10\n"
     ]
    }
   ],
   "source": [
    "epochs = 100\n",
    "history_categorical = model_categorical.fit(\n",
    "    train_cellType_generator,\n",
    "    steps_per_epoch=len(train_data) // batch_size,\n",
    "    epochs=epochs,\n",
    "    validation_data=val_cellType_generator,\n",
    "    validation_steps=len(val_data) // batch_size,\n",
    "    class_weight=class_weight_dict_cellType\n",
    "    , callbacks=[lr_reducer]\n",
    ")"
   ],
   "metadata": {
    "collapsed": false,
    "ExecuteTime": {
     "start_time": "2023-05-05T13:34:35.981108Z",
     "end_time": "2023-05-05T13:49:43.092780Z"
    }
   }
  },
  {
   "cell_type": "code",
   "execution_count": 71,
   "outputs": [
    {
     "data": {
      "text/plain": "<Figure size 432x288 with 1 Axes>",
      "image/png": "[encoded data removed]"
     },
     "metadata": {
      "needs_background": "light"
     },
     "output_type": "display_data"
    }
   ],
   "source": [
    "train_loss = history_categorical.history['loss']\n",
    "val_loss = history_categorical.history['val_loss']\n",
    "\n",
    "epochs_range = range(1, epochs + 1)\n",
    "\n",
    "plt.plot(epochs_range, train_loss, label='Training Loss')\n",
    "plt.plot(epochs_range, val_loss, label='Validation Loss')\n",
    "\n",
    "plt.legend()\n",
    "plt.title('Training and Validation Loss in multi-category')\n",
    "plt.xlabel('Epoch')\n",
    "plt.ylabel('Loss')\n",
    "\n",
    "plt.show()"
   ],
   "metadata": {
    "collapsed": false,
    "ExecuteTime": {
     "start_time": "2023-05-05T13:53:55.858135Z",
     "end_time": "2023-05-05T13:53:55.971928Z"
    }
   }
  },
  {
   "cell_type": "code",
   "execution_count": 72,
   "outputs": [
    {
     "data": {
      "text/plain": "<Figure size 432x288 with 1 Axes>",
      "image/png": "[encoded data removed]"
     },
     "metadata": {
      "needs_background": "light"
     },
     "output_type": "display_data"
    }
   ],
   "source": [
    "train_accuracy = history_categorical.history['accuracy']\n",
    "val_accuracy = history_categorical.history['val_accuracy']\n",
    "\n",
    "epochs_range = range(1, epochs + 1)\n",
    "\n",
    "plt.plot(epochs_range, train_accuracy, label='Training Accuracy')\n",
    "plt.plot(epochs_range, val_accuracy, label='Validation Accuracy')\n",
    "\n",
    "plt.legend()\n",
    "plt.title('Training and Validation Accuracy in multi-category')\n",
    "plt.xlabel('Epoch')\n",
    "plt.ylabel('Accuracy')\n",
    "\n",
    "plt.show()"
   ],
   "metadata": {
    "collapsed": false,
    "ExecuteTime": {
     "start_time": "2023-05-05T13:53:57.562864Z",
     "end_time": "2023-05-05T13:53:57.615911Z"
    }
   }
  },
  {
   "cell_type": "code",
   "execution_count": 14,
   "outputs": [
    {
     "name": "stderr",
     "output_type": "stream",
     "text": [
      "2023-05-05 18:14:58.463602: W tensorflow/tsl/platform/profile_utils/cpu_utils.cc:128] Failed to get CPU frequency: 0 Hz\n"
     ]
    },
    {
     "name": "stdout",
     "output_type": "stream",
     "text": [
      "62/62 [==============================] - 2s 26ms/step - loss: 1.1468 - accuracy: 0.8323 - precision: 0.8496 - recall: 0.8162 - f1_score: 0.8326\n"
     ]
    },
    {
     "data": {
      "text/plain": "[1.1467695236206055,\n 0.8323232531547546,\n 0.8496319651603699,\n 0.8161616325378418,\n 0.8325604796409607]"
     },
     "execution_count": 14,
     "metadata": {},
     "output_type": "execute_result"
    }
   ],
   "source": [
    "model_categorical.evaluate(test_cellType_generator)\n",
    "# loss: 1.1398 - accuracy: 0.8338 - precision: 0.8502 - recall: 0.8172 - f1_score: 0.8334"
   ],
   "metadata": {
    "collapsed": false,
    "ExecuteTime": {
     "start_time": "2023-05-05T18:14:58.432205Z",
     "end_time": "2023-05-05T18:15:00.517148Z"
    }
   }
  },
  {
   "cell_type": "code",
   "execution_count": 48,
   "outputs": [],
   "source": [
    "model_categorical.save_weights('saved_model/model_categorical_weights')"
   ],
   "metadata": {
    "collapsed": false,
    "ExecuteTime": {
     "start_time": "2023-05-05T13:23:07.761248Z",
     "end_time": "2023-05-05T13:23:07.891158Z"
    }
   }
  },
  {
   "cell_type": "markdown",
   "source": [
    "# DI/HD 使用data_labels_extraData对多分类的模型进行增强\n",
    "通过半监督学习。我们将采用UDA。\n",
    "首先先获取额外的数据集并且进行相关处理。\n",
    "我们从数据集可以观察到，没有癌症在多分类中为2。所以我们可以将不是癌症的样本之间指定其多分类的类别为2."
   ],
   "metadata": {
    "collapsed": false
   }
  },
  {
   "cell_type": "code",
   "execution_count": 26,
   "outputs": [
    {
     "data": {
      "text/plain": "<tensorflow.python.checkpoint.checkpoint.CheckpointLoadStatus at 0x2fb308850>"
     },
     "execution_count": 26,
     "metadata": {},
     "output_type": "execute_result"
    }
   ],
   "source": [
    "model_categorical.load_weights('saved_model/model_categorical_weights')"
   ],
   "metadata": {
    "collapsed": false,
    "ExecuteTime": {
     "start_time": "2023-05-05T18:25:57.092130Z",
     "end_time": "2023-05-05T18:25:57.147149Z"
    }
   }
  },
  {
   "cell_type": "markdown",
   "source": [
    "冻结卷积和BN"
   ],
   "metadata": {
    "collapsed": false
   }
  },
  {
   "cell_type": "code",
   "execution_count": 28,
   "outputs": [],
   "source": [
    "for layer in model_categorical.layers:\n",
    "    if isinstance(layer, (tf.keras.layers.Conv2D, tf.keras.layers.BatchNormalization)):\n",
    "        layer.trainable = False"
   ],
   "metadata": {
    "collapsed": false,
    "ExecuteTime": {
     "start_time": "2023-05-05T18:25:59.916772Z",
     "end_time": "2023-05-05T18:25:59.924161Z"
    }
   }
  },
  {
   "cell_type": "code",
   "execution_count": 16,
   "outputs": [],
   "source": [
    "data_extra = pd.read_csv('./Image_classification_data/data_labels_extraData.csv')\n",
    "data_extra['isCancerous'] = data_extra['isCancerous'].astype(str)\n",
    "data_extra['cellType'] = np.nan\n",
    "data_extra.loc[data_extra['isCancerous'] == '1', 'cellType'] = 2\n",
    "data_extra_unlabeled = data_extra[data_extra['cellType'].isna()]\n",
    "data_extra_labeled = data_extra[data_extra['cellType'] == 2]\n",
    "undivided_train_data = pd.concat([undivided_train_data, data_extra_labeled], axis=0).reset_index(drop=True)\n",
    "undivided_train_data['cellType'] = undivided_train_data['cellType'].astype(int)\n",
    "train_data, val_data = train_test_split(undivided_train_data, test_size=0.2, random_state=42)\n",
    "train_data['cellType'] = train_data['cellType'].astype(str)\n",
    "val_data['cellType'] = val_data['cellType'].astype(str)"
   ],
   "metadata": {
    "collapsed": false,
    "ExecuteTime": {
     "start_time": "2023-05-05T18:15:07.516506Z",
     "end_time": "2023-05-05T18:15:07.535767Z"
    }
   }
  },
  {
   "cell_type": "code",
   "execution_count": null,
   "outputs": [],
   "source": [
    "# cellType(多分类)的比例\n",
    "# class_samples_cellType = train_data['cellType'].value_counts()\n",
    "# total_samples = np.sum(class_samples_cellType)\n",
    "# class_weights_cellType = total_samples / class_samples_cellType\n",
    "# class_weight_dict_cellType = {int(k): v for k, v in class_weights_cellType.to_dict().items()}\n",
    "#\n",
    "# data_extra_unlabeled['isCancerous'] = data_extra_unlabeled['isCancerous'].astype(str)\n",
    "# train_data['cellType'] = train_data['cellType'].astype(str)\n",
    "# val_data['cellType'] = val_data['cellType'].astype(str)"
   ],
   "metadata": {
    "collapsed": false
   }
  },
  {
   "cell_type": "code",
   "execution_count": 17,
   "outputs": [],
   "source": [
    "# 图片RandAugment增强\n",
    "class RandAugmentGenerator(tf.keras.preprocessing.image.ImageDataGenerator):\n",
    "    def __init__(self, n, m, *args, **kwargs):\n",
    "        super().__init__(*args, **kwargs)\n",
    "        self.rand_aug = iaa.RandAugment(n=n, m=m)\n",
    "\n",
    "    def apply_transform(self, x, transform_parameters):\n",
    "        x = tf.cast(x, tf.uint8)\n",
    "        x_aug = self.rand_aug(image=x.numpy())\n",
    "        x_aug = tf.cast(x_aug, tf.float64)\n",
    "        return super().apply_transform(x_aug, transform_parameters)"
   ],
   "metadata": {
    "collapsed": false,
    "ExecuteTime": {
     "start_time": "2023-05-05T18:15:09.463919Z",
     "end_time": "2023-05-05T18:15:09.475541Z"
    }
   }
  },
  {
   "cell_type": "markdown",
   "source": [
    "重新生成新的train_generator"
   ],
   "metadata": {
    "collapsed": false
   }
  },
  {
   "cell_type": "code",
   "execution_count": 18,
   "outputs": [
    {
     "name": "stdout",
     "output_type": "stream",
     "text": [
      "Found 8724 validated image filenames belonging to 4 classes.\n",
      "Found 10384 validated image filenames belonging to 2 classes.\n",
      "Found 10384 validated image filenames belonging to 2 classes.\n",
      "Found 2182 validated image filenames belonging to 4 classes.\n"
     ]
    }
   ],
   "source": [
    "batch_size = 32\n",
    "train_datagen = tf.keras.preprocessing.image.ImageDataGenerator(\n",
    "    rescale=1./255,\n",
    "    horizontal_flip=True,\n",
    "    vertical_flip=True,\n",
    ")\n",
    "\n",
    "train_generator = train_datagen.flow_from_dataframe(\n",
    "    train_data,\n",
    "    directory='./Image_classification_data/patch_images',\n",
    "    x_col='ImageName',\n",
    "    y_col='cellType',\n",
    "    target_size=(27, 27),\n",
    "    batch_size=batch_size,\n",
    "    class_mode='categorical')\n",
    "\n",
    "unlabeled_datagen_weak = tf.keras.preprocessing.image.ImageDataGenerator(\n",
    "    rescale=1./255,\n",
    "    horizontal_flip=True,\n",
    "    vertical_flip=True,\n",
    ")\n",
    "\n",
    "unlabeled_generator_weak = unlabeled_datagen_weak.flow_from_dataframe(\n",
    "    data_extra,\n",
    "    directory='./Image_classification_data/patch_images',\n",
    "    x_col='ImageName',\n",
    "    y_col='isCancerous', # 我们并不关心y_col。只是为了防止报错\n",
    "    target_size=(27, 27),\n",
    "    batch_size=batch_size,\n",
    "    class_mode='categorical')\n",
    "\n",
    "\n",
    "unlabeled_datagen_strong = RandAugmentGenerator(n=3, m=5, rescale=1./255, fill_mode='nearest')\n",
    "\n",
    "unlabeled_generator_strong = unlabeled_datagen_strong.flow_from_dataframe(\n",
    "    data_extra,\n",
    "    directory='./Image_classification_data/patch_images',\n",
    "    x_col='ImageName',\n",
    "    y_col='isCancerous', # 我们并不关心y_col。只是为了防止报错\n",
    "    target_size=(27, 27),\n",
    "    batch_size=batch_size,\n",
    "    class_mode='categorical')\n",
    "\n",
    "val_datagen = tf.keras.preprocessing.image.ImageDataGenerator(\n",
    "    rescale=1./255,\n",
    "    fill_mode='nearest'\n",
    ")\n",
    "\n",
    "test_data['cellType'] = test_data['cellType'].astype(str)\n",
    "validation_cellType_generator = val_datagen.flow_from_dataframe(\n",
    "    val_data,\n",
    "    directory='./Image_classification_data/patch_images',\n",
    "    x_col='ImageName',\n",
    "    y_col='cellType',\n",
    "    target_size=(27, 27),\n",
    "    batch_size=batch_size,\n",
    "    class_mode='categorical')"
   ],
   "metadata": {
    "collapsed": false,
    "ExecuteTime": {
     "start_time": "2023-05-05T18:15:10.634456Z",
     "end_time": "2023-05-05T18:15:10.912314Z"
    }
   }
  },
  {
   "cell_type": "markdown",
   "source": [
    "## FixMatch 实现"
   ],
   "metadata": {
    "collapsed": false
   }
  },
  {
   "cell_type": "code",
   "execution_count": 29,
   "outputs": [
    {
     "name": "stdout",
     "output_type": "stream",
     "text": [
      "Epoch 1/15\n"
     ]
    },
    {
     "name": "stderr",
     "output_type": "stream",
     "text": [
      "Training: 100%|███████████████████████████████████████████████████| 273/273 [00:43<00:00,  6.26it/s]\n"
     ]
    },
    {
     "name": "stdout",
     "output_type": "stream",
     "text": [
      " - loss: 1.5305, supervised_loss: 0.2753, consistency_loss: 2.6517, accuracy: 0.9000\n",
      "Validation set： - loss: 0.2241, accuracy: 0.9284， lr: 5.00e-08\n",
      "Epoch 2/15\n"
     ]
    },
    {
     "name": "stderr",
     "output_type": "stream",
     "text": [
      "Training: 100%|███████████████████████████████████████████████████| 273/273 [00:42<00:00,  6.42it/s]\n"
     ]
    },
    {
     "name": "stdout",
     "output_type": "stream",
     "text": [
      " - loss: 1.5299, supervised_loss: 0.2567, consistency_loss: 2.8342, accuracy: 0.9088\n",
      "Validation set： - loss: 0.2149, accuracy: 0.9345， lr: 5.00e-08\n",
      "Epoch 3/15\n"
     ]
    },
    {
     "name": "stderr",
     "output_type": "stream",
     "text": [
      "Training: 100%|███████████████████████████████████████████████████| 273/273 [00:42<00:00,  6.45it/s]\n"
     ]
    },
    {
     "name": "stdout",
     "output_type": "stream",
     "text": [
      " - loss: 1.5258, supervised_loss: 0.2647, consistency_loss: 2.7125, accuracy: 0.9062\n",
      "Validation set： - loss: 0.2266, accuracy: 0.9219， lr: 5.00e-08\n",
      "Epoch 4/15\n"
     ]
    },
    {
     "name": "stderr",
     "output_type": "stream",
     "text": [
      "Training: 100%|███████████████████████████████████████████████████| 273/273 [00:42<00:00,  6.44it/s]\n"
     ]
    },
    {
     "name": "stdout",
     "output_type": "stream",
     "text": [
      " - loss: 1.5208, supervised_loss: 0.2614, consistency_loss: 2.6972, accuracy: 0.9086\n",
      "Validation set： - loss: 0.2180, accuracy: 0.9320， lr: 5.00e-08\n",
      "Epoch 5/15\n"
     ]
    },
    {
     "name": "stderr",
     "output_type": "stream",
     "text": [
      "Training: 100%|███████████████████████████████████████████████████| 273/273 [00:42<00:00,  6.43it/s]\n"
     ]
    },
    {
     "name": "stdout",
     "output_type": "stream",
     "text": [
      " - loss: 1.5431, supervised_loss: 0.2709, consistency_loss: 2.8262, accuracy: 0.9062\n",
      "Validation set： - loss: 0.2101, accuracy: 0.9390， lr: 5.00e-08\n",
      "Epoch 6/15\n"
     ]
    },
    {
     "name": "stderr",
     "output_type": "stream",
     "text": [
      "Training: 100%|███████████████████████████████████████████████████| 273/273 [00:43<00:00,  6.26it/s]\n"
     ]
    },
    {
     "name": "stdout",
     "output_type": "stream",
     "text": [
      " - loss: 1.5332, supervised_loss: 0.2621, consistency_loss: 2.8160, accuracy: 0.9063\n",
      "Validation set： - loss: 0.2193, accuracy: 0.9278， lr: 5.00e-08\n",
      "Epoch 7/15\n"
     ]
    },
    {
     "name": "stderr",
     "output_type": "stream",
     "text": [
      "Training: 100%|███████████████████████████████████████████████████| 273/273 [00:43<00:00,  6.27it/s]\n"
     ]
    },
    {
     "name": "stdout",
     "output_type": "stream",
     "text": [
      " - loss: 1.5310, supervised_loss: 0.2690, consistency_loss: 2.7278, accuracy: 0.9048\n",
      "Validation set： - loss: 0.2187, accuracy: 0.9299， lr: 5.00e-08\n",
      "Epoch 8/15\n"
     ]
    },
    {
     "name": "stderr",
     "output_type": "stream",
     "text": [
      "Training: 100%|███████████████████████████████████████████████████| 273/273 [00:43<00:00,  6.34it/s]\n"
     ]
    },
    {
     "name": "stdout",
     "output_type": "stream",
     "text": [
      " - loss: 1.5097, supervised_loss: 0.2624, consistency_loss: 2.5764, accuracy: 0.9084\n",
      "Validation set： - loss: 0.2200, accuracy: 0.9304， lr: 5.00e-08\n",
      "Epoch 9/15\n"
     ]
    },
    {
     "name": "stderr",
     "output_type": "stream",
     "text": [
      "Training: 100%|███████████████████████████████████████████████████| 273/273 [00:43<00:00,  6.27it/s]\n"
     ]
    },
    {
     "name": "stdout",
     "output_type": "stream",
     "text": [
      " - loss: 1.5047, supervised_loss: 0.2545, consistency_loss: 2.6117, accuracy: 0.9106\n",
      "Validation set： - loss: 0.2174, accuracy: 0.9315， lr: 1.58e-08\n",
      "Epoch 10/15\n"
     ]
    },
    {
     "name": "stderr",
     "output_type": "stream",
     "text": [
      "Training: 100%|███████████████████████████████████████████████████| 273/273 [00:42<00:00,  6.35it/s]\n"
     ]
    },
    {
     "name": "stdout",
     "output_type": "stream",
     "text": [
      " - loss: 1.5140, supervised_loss: 0.2717, consistency_loss: 2.5339, accuracy: 0.9047\n",
      "Validation set： - loss: 0.2226, accuracy: 0.9325， lr: 1.58e-08\n",
      "Epoch 11/15\n"
     ]
    },
    {
     "name": "stderr",
     "output_type": "stream",
     "text": [
      "Training: 100%|███████████████████████████████████████████████████| 273/273 [00:43<00:00,  6.24it/s]\n"
     ]
    },
    {
     "name": "stdout",
     "output_type": "stream",
     "text": [
      " - loss: 1.5091, supervised_loss: 0.2679, consistency_loss: 2.5219, accuracy: 0.9033\n",
      "Validation set： - loss: 0.2080, accuracy: 0.9293， lr: 1.58e-08\n",
      "Epoch 12/15\n"
     ]
    },
    {
     "name": "stderr",
     "output_type": "stream",
     "text": [
      "Training: 100%|███████████████████████████████████████████████████| 273/273 [00:43<00:00,  6.31it/s]\n"
     ]
    },
    {
     "name": "stdout",
     "output_type": "stream",
     "text": [
      " - loss: 1.5018, supervised_loss: 0.2630, consistency_loss: 2.4943, accuracy: 0.9057\n",
      "Validation set： - loss: 0.2275, accuracy: 0.9254， lr: 1.58e-08\n",
      "Epoch 13/15\n"
     ]
    },
    {
     "name": "stderr",
     "output_type": "stream",
     "text": [
      "Training: 100%|███████████████████████████████████████████████████| 273/273 [00:43<00:00,  6.27it/s]\n"
     ]
    },
    {
     "name": "stdout",
     "output_type": "stream",
     "text": [
      " - loss: 1.5158, supervised_loss: 0.2678, consistency_loss: 2.5905, accuracy: 0.9062\n",
      "Validation set： - loss: 0.2131, accuracy: 0.9325， lr: 1.58e-08\n",
      "Epoch 14/15\n"
     ]
    },
    {
     "name": "stderr",
     "output_type": "stream",
     "text": [
      "Training: 100%|███████████████████████████████████████████████████| 273/273 [00:43<00:00,  6.23it/s]\n"
     ]
    },
    {
     "name": "stdout",
     "output_type": "stream",
     "text": [
      " - loss: 1.4978, supervised_loss: 0.2664, consistency_loss: 2.4229, accuracy: 0.9070\n",
      "Validation set： - loss: 0.2143, accuracy: 0.9333， lr: 1.58e-08\n",
      "Epoch 15/15\n"
     ]
    },
    {
     "name": "stderr",
     "output_type": "stream",
     "text": [
      "Training: 100%|███████████████████████████████████████████████████| 273/273 [00:43<00:00,  6.22it/s]\n"
     ]
    },
    {
     "name": "stdout",
     "output_type": "stream",
     "text": [
      " - loss: 1.5175, supervised_loss: 0.2668, consistency_loss: 2.6157, accuracy: 0.9058\n",
      "Validation set： - loss: 0.2144, accuracy: 0.9309， lr: 5.00e-09\n"
     ]
    }
   ],
   "source": [
    "def apply_fixmatch(x, y_true, x_unlabeled, model, optimizer, training=True, consistency_weight=1, category_2_weight=1, confidence_threshold=0.95):\n",
    "    # 计算模型在原始无标签数据和增强无标签数据上的输出\n",
    "    with tf.GradientTape() as tape:\n",
    "        if x_unlabeled is not None:\n",
    "            # 对无标签数据进行数据增强\n",
    "            y_pred_unlabeled_weak = model(x_unlabeled[0])\n",
    "            y_pred_unlabeled_strong = model(x_unlabeled[1])\n",
    "            # 计算伪标签\n",
    "            pseudo_labels = tf.argmax(y_pred_unlabeled_weak, axis=-1)\n",
    "            # 计算最大概率\n",
    "            max_probs = tf.reduce_max(y_pred_unlabeled_weak, axis=-1)\n",
    "            # Confidence-based masking 基于置信度的掩码\n",
    "            mask = max_probs > confidence_threshold\n",
    "            pseudo_labels_one_hot = tf.one_hot(pseudo_labels, depth=tf.shape(y_pred_unlabeled_weak)[-1])\n",
    "\n",
    "            # 计算预测为类别2的损失\n",
    "            category_2_mask = tf.equal(pseudo_labels, 2)\n",
    "            remaining_mask = tf.logical_not(category_2_mask)\n",
    "            category_2_mask = tf.logical_and(category_2_mask, mask)\n",
    "            category_2_probabilities = tf.boolean_mask(y_pred_unlabeled_weak[:, 2], category_2_mask)\n",
    "            category_2_loss = tf.reduce_mean(category_2_probabilities)\n",
    "\n",
    "            # 从伪标签中删除结果为2的样本\n",
    "            remaining_mask = tf.logical_and(remaining_mask, mask)\n",
    "            per_example_loss = tf.keras.losses.categorical_crossentropy(pseudo_labels_one_hot, y_pred_unlabeled_strong)\n",
    "            consistency_loss = tf.reduce_sum(per_example_loss * tf.cast(remaining_mask, per_example_loss.dtype)) / tf.reduce_sum(tf.cast(remaining_mask, tf.float32)+ tf.keras.backend.epsilon())\n",
    "\n",
    "        y_pred_labeled = model(x)\n",
    "        # 计算有监督损失\n",
    "        # 如果是训练并且给定了类别权重，则根据权重计算损失。\n",
    "        supervised_loss = tf.reduce_mean(tf.keras.losses.categorical_crossentropy(y_true, y_pred_labeled))\n",
    "\n",
    "        # 如果提供了无标签数据，则计算一致性损失，(半监督学习)\n",
    "        if x_unlabeled is not None:\n",
    "            final_loss = supervised_loss + consistency_weight * consistency_loss + category_2_weight * category_2_loss\n",
    "        else:\n",
    "            final_loss = supervised_loss\n",
    "\n",
    "        # 计算准确度\n",
    "        accuracy = tf.keras.metrics.CategoricalAccuracy()\n",
    "        accuracy.update_state(y_true, y_pred_labeled)\n",
    "\n",
    "        if training:\n",
    "            # 反向传播和优化\n",
    "            grads = tape.gradient(final_loss, model_categorical.trainable_variables)\n",
    "            optimizer.apply_gradients(zip(grads, model_categorical.trainable_variables))\n",
    "\n",
    "    return {\"loss\": final_loss,\n",
    "            \"supervised_loss\": supervised_loss,\n",
    "            \"consistency_loss\" :consistency_loss if x_unlabeled is not None else None,\n",
    "            \"accuracy\": accuracy.result()}\n",
    "\n",
    "adam = tf.keras.optimizers.legacy.Adam(learning_rate=5e-8)\n",
    "epochs = 15\n",
    "min_val_loss = float('inf')\n",
    "num_epochs_no_improvement = 0\n",
    "current_learning_rate = adam.learning_rate.numpy()\n",
    "history = {\"loss\": [], \"val_loss\": [], \"accuracy\": [], \"val_accuracy\": [], \"precision\":[],\n",
    "           \"recall\":[], \"f1\":[], \"val_precision\":[], \"val_recall\":[], \"val_f1\":[]}\n",
    "\n",
    "for epoch in range(epochs):\n",
    "    print(f\"Epoch {epoch + 1}/{epochs}\")\n",
    "\n",
    "    total_loss = 0\n",
    "    total_supervised_loss = 0\n",
    "    total_consistency_loss = 0\n",
    "    total_accuracy = 0\n",
    "    total_precision = 0\n",
    "    total_recall = 0\n",
    "    total_f1_score = 0\n",
    "    steps = 0\n",
    "\n",
    "    total_batches = math.ceil(len(train_data) / batch_size)\n",
    "    with tqdm(total=total_batches, desc=\"Training\", ncols=100) as progress_bar:\n",
    "        for (x_batch, y_batch), (x_unlabeled_weak, _), (x_unlabeled_strong, _) in zip(train_generator, unlabeled_generator_weak, unlabeled_generator_strong):\n",
    "            progress_bar.update(1)\n",
    "            result = apply_fixmatch(x_batch, y_batch, (x_unlabeled_weak, x_unlabeled_strong), model_categorical, adam, True, consistency_weight=0.1)\n",
    "            total_loss += result[\"loss\"]\n",
    "            total_supervised_loss += result[\"supervised_loss\"]\n",
    "            total_consistency_loss += result[\"consistency_loss\"]\n",
    "            total_accuracy += result[\"accuracy\"]\n",
    "            steps += 1\n",
    "            # 检查是否已经处理了所有批次\n",
    "            if steps * batch_size >= len(train_data):\n",
    "                break\n",
    "\n",
    "        # 计算并打印平均损失和准确率\n",
    "        avg_loss = total_loss / steps\n",
    "        avg_supervised_loss = total_supervised_loss / steps\n",
    "        avg_consistency_loss = total_consistency_loss / steps\n",
    "        avg_accuracy = total_accuracy / steps\n",
    "\n",
    "        history[\"loss\"].append(avg_loss.numpy())\n",
    "        history[\"accuracy\"].append(avg_accuracy.numpy())\n",
    "        print(f\" - loss: {avg_loss.numpy():.4f}, supervised_loss: {avg_supervised_loss.numpy():.4f}, consistency_loss: {avg_consistency_loss.numpy():.4f}, accuracy: {avg_accuracy.numpy():.4f}\")\n",
    "\n",
    "    total_loss = 0\n",
    "    total_accuracy = 0\n",
    "    total_recall = 0\n",
    "    total_precision = 0\n",
    "    total_f1_score = 0\n",
    "    steps = 0\n",
    "    for x_batch, y_batch in validation_cellType_generator:\n",
    "        result = apply_fixmatch(x_batch, y_batch, None, model_categorical, adam, False)\n",
    "        total_loss += result[\"loss\"]\n",
    "        total_accuracy += result[\"accuracy\"]\n",
    "        steps += 1\n",
    "\n",
    "        if steps * batch_size >= len(test_data):\n",
    "            break\n",
    "\n",
    "    avg_loss = total_loss / steps\n",
    "    avg_accuracy = total_accuracy / steps\n",
    "\n",
    "    history[\"val_loss\"].append(avg_loss.numpy())\n",
    "    history[\"val_accuracy\"].append(avg_accuracy.numpy())\n",
    "\n",
    "    print(f\"Validation set： - loss: {avg_loss.numpy():.4f}, accuracy: {avg_accuracy.numpy():.4f}， lr: {current_learning_rate:.2e}\")\n",
    "\n",
    "    # 检查是否需要更新学习率\n",
    "    if avg_loss < min_val_loss:\n",
    "        min_val_loss = avg_loss\n",
    "        num_epochs_no_improvement = 0\n",
    "    else:\n",
    "        num_epochs_no_improvement += 1\n",
    "    if num_epochs_no_improvement >= 3:\n",
    "        current_learning_rate *= np.sqrt(0.1)\n",
    "        current_learning_rate = max(current_learning_rate, 0.5e-15)\n",
    "        adam.learning_rate.assign(current_learning_rate)\n",
    "        num_epochs_no_improvement = 0"
   ],
   "metadata": {
    "collapsed": false,
    "ExecuteTime": {
     "start_time": "2023-05-05T18:26:03.079783Z",
     "end_time": "2023-05-05T18:37:12.652692Z"
    }
   }
  },
  {
   "cell_type": "code",
   "execution_count": 30,
   "outputs": [
    {
     "data": {
      "text/plain": "<Figure size 432x288 with 1 Axes>",
      "image/png": "[encoded data removed]"
     },
     "metadata": {
      "needs_background": "light"
     },
     "output_type": "display_data"
    }
   ],
   "source": [
    "train_accuracy = history['accuracy']\n",
    "val_accuracy = history['val_accuracy']\n",
    "\n",
    "epochs_range = range(1, epochs + 1)\n",
    "\n",
    "plt.plot(epochs_range, train_accuracy, label='Training Accuracy')\n",
    "plt.plot(epochs_range, val_accuracy, label='Validation Accuracy')\n",
    "\n",
    "plt.legend()\n",
    "plt.title('Training and Validation Accuracy')\n",
    "plt.xlabel('Epoch')\n",
    "plt.ylabel('Accuracy')\n",
    "\n",
    "plt.show()"
   ],
   "metadata": {
    "collapsed": false,
    "ExecuteTime": {
     "start_time": "2023-05-05T18:37:16.290273Z",
     "end_time": "2023-05-05T18:37:16.383483Z"
    }
   }
  },
  {
   "cell_type": "code",
   "execution_count": 31,
   "outputs": [
    {
     "data": {
      "text/plain": "<Figure size 432x288 with 1 Axes>",
      "image/png": "[encoded data removed]"
     },
     "metadata": {
      "needs_background": "light"
     },
     "output_type": "display_data"
    }
   ],
   "source": [
    "train_loss = history['loss']\n",
    "val_loss = history['val_loss']\n",
    "\n",
    "epochs_range = range(1, epochs + 1)\n",
    "\n",
    "plt.plot(epochs_range, train_loss, label='Training Loss')\n",
    "plt.plot(epochs_range, val_loss, label='Validation Loss')\n",
    "\n",
    "plt.legend()\n",
    "plt.title('Training and Validation Loss')\n",
    "plt.xlabel('Epoch')\n",
    "plt.ylabel('Loss')\n",
    "\n",
    "plt.show()"
   ],
   "metadata": {
    "collapsed": false,
    "ExecuteTime": {
     "start_time": "2023-05-05T18:37:22.991443Z",
     "end_time": "2023-05-05T18:37:23.068931Z"
    }
   }
  },
  {
   "cell_type": "code",
   "execution_count": 32,
   "outputs": [
    {
     "name": "stdout",
     "output_type": "stream",
     "text": [
      "62/62 [==============================] - 2s 26ms/step - loss: 1.1398 - accuracy: 0.8338 - precision: 0.8502 - recall: 0.8172 - f1_score: 0.8334\n"
     ]
    },
    {
     "data": {
      "text/plain": "[1.1397671699523926,\n 0.8338384032249451,\n 0.8502364754676819,\n 0.8171716928482056,\n 0.8333761692047119]"
     },
     "execution_count": 32,
     "metadata": {},
     "output_type": "execute_result"
    }
   ],
   "source": [
    "model_categorical.evaluate(test_cellType_generator)"
   ],
   "metadata": {
    "collapsed": false,
    "ExecuteTime": {
     "start_time": "2023-05-05T18:37:27.414222Z",
     "end_time": "2023-05-05T18:37:29.063959Z"
    }
   }
  }
 ],
 "metadata": {
  "kernelspec": {
   "display_name": "Python 3",
   "language": "python",
   "name": "python3"
  },
  "language_info": {
   "codemirror_mode": {
    "name": "ipython",
    "version": 2
   },
   "file_extension": ".py",
   "mimetype": "text/x-python",
   "name": "python",
   "nbconvert_exporter": "python",
   "pygments_lexer": "ipython2",
   "version": "2.7.6"
  }
 },
 "nbformat": 4,
 "nbformat_minor": 0
}
