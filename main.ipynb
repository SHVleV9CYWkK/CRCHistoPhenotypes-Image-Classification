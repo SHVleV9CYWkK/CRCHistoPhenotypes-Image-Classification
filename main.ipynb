{
 "cells": [
  {
   "cell_type": "code",
   "execution_count": 25,
   "metadata": {
    "collapsed": true,
    "ExecuteTime": {
     "start_time": "2023-04-24T15:05:26.883557Z",
     "end_time": "2023-04-24T15:05:26.903642Z"
    }
   },
   "outputs": [],
   "source": [
    "import pandas as pd\n",
    "import matplotlib.pyplot as plt\n",
    "import numpy as np\n",
    "import tensorflow as tf\n",
    "import tensorflow_addons as tfa\n",
    "from sklearn.model_selection import train_test_split"
   ]
  },
  {
   "cell_type": "code",
   "execution_count": 26,
   "outputs": [],
   "source": [
    "data = pd.read_csv('./Image_classification_data/data_labels_mainData.csv')\n",
    "data['cellType'] = data['cellType'].astype(str)\n",
    "train_data, test_data = train_test_split(data, test_size=0.2, random_state=42)"
   ],
   "metadata": {
    "collapsed": false,
    "ExecuteTime": {
     "start_time": "2023-04-24T15:05:26.888529Z",
     "end_time": "2023-04-24T15:05:26.918305Z"
    }
   }
  },
  {
   "cell_type": "code",
   "execution_count": 27,
   "outputs": [
    {
     "data": {
      "text/plain": "([0, 1, 2, 3],\n [Text(0, 0, '2'), Text(1, 0, '0'), Text(2, 0, '3'), Text(3, 0, '1')])"
     },
     "execution_count": 27,
     "metadata": {},
     "output_type": "execute_result"
    },
    {
     "data": {
      "text/plain": "<Figure size 432x288 with 1 Axes>",
      "image/png": "[encoded data removed]"
     },
     "metadata": {
      "needs_background": "light"
     },
     "output_type": "display_data"
    }
   ],
   "source": [
    "plt.hist(train_data['cellType'], alpha=0.3, color='b', label='Train', density=True)\n",
    "plt.hist(test_data['cellType'], alpha=0.3, color='r', label='Test',  density=True)\n",
    "plt.hist(data['cellType'], alpha=0.3, color='g', density=True)\n",
    "plt.title('cellType')\n",
    "plt.xticks(rotation='vertical')"
   ],
   "metadata": {
    "collapsed": false,
    "ExecuteTime": {
     "start_time": "2023-04-24T15:05:26.907622Z",
     "end_time": "2023-04-24T15:05:26.982039Z"
    }
   }
  },
  {
   "cell_type": "code",
   "execution_count": 28,
   "outputs": [],
   "source": [
    "class_samples = train_data['cellType'].value_counts()\n",
    "total_samples = np.sum(class_samples)\n",
    "class_weights = total_samples / class_samples\n",
    "\n",
    "class_weight_dict = {int(k): v for k, v in class_weights.to_dict().items()}"
   ],
   "metadata": {
    "collapsed": false,
    "ExecuteTime": {
     "start_time": "2023-04-24T15:05:26.983143Z",
     "end_time": "2023-04-24T15:05:26.984997Z"
    }
   }
  },
  {
   "cell_type": "code",
   "execution_count": 29,
   "outputs": [
    {
     "name": "stdout",
     "output_type": "stream",
     "text": [
      "Found 7916 validated image filenames belonging to 4 classes.\n",
      "Found 1980 validated image filenames belonging to 4 classes.\n"
     ]
    }
   ],
   "source": [
    "batch_size = 32\n",
    "train_datagen = tf.keras.preprocessing.image.ImageDataGenerator(\n",
    "    rescale=1./255,\n",
    "    rotation_range=40,\n",
    "    width_shift_range=0.2,\n",
    "    height_shift_range=0.2,\n",
    "    shear_range=0.2,\n",
    "    zoom_range=0.2,\n",
    "    horizontal_flip=True,\n",
    "    vertical_flip=True,\n",
    "    fill_mode='nearest'\n",
    ")\n",
    "\n",
    "test_datagen = tf.keras.preprocessing.image.ImageDataGenerator(\n",
    "    rescale=1./255\n",
    ")\n",
    "\n",
    "train_generator = train_datagen.flow_from_dataframe(\n",
    "    train_data,\n",
    "    directory='./Image_classification_data/patch_images',\n",
    "    x_col='ImageName',\n",
    "    y_col='cellType',\n",
    "    target_size=(27, 27),\n",
    "    batch_size=batch_size,\n",
    "    class_mode='categorical')\n",
    "\n",
    "validation_generator = test_datagen.flow_from_dataframe(\n",
    "    test_data,\n",
    "    directory='./Image_classification_data/patch_images',\n",
    "    x_col='ImageName',\n",
    "    y_col='cellType',\n",
    "    target_size=(27, 27),\n",
    "    batch_size=batch_size,\n",
    "    class_mode='categorical')"
   ],
   "metadata": {
    "collapsed": false,
    "ExecuteTime": {
     "start_time": "2023-04-24T15:05:26.993613Z",
     "end_time": "2023-04-24T15:05:27.080280Z"
    }
   }
  },
  {
   "cell_type": "markdown",
   "source": [
    "三层卷积，池化。+64，32，16MPL。bc=16，lr=0.001。目前表现最佳。"
   ],
   "metadata": {
    "collapsed": false
   }
  },
  {
   "cell_type": "code",
   "execution_count": 30,
   "outputs": [
    {
     "name": "stdout",
     "output_type": "stream",
     "text": [
      "Model: \"sequential_3\"\n",
      "_________________________________________________________________\n",
      " Layer (type)                Output Shape              Param #   \n",
      "=================================================================\n",
      " conv2d_12 (Conv2D)          (None, 27, 27, 32)        896       \n",
      "                                                                 \n",
      " batch_normalization_18 (Bat  (None, 27, 27, 32)       128       \n",
      " chNormalization)                                                \n",
      "                                                                 \n",
      " conv2d_13 (Conv2D)          (None, 25, 25, 32)        9248      \n",
      "                                                                 \n",
      " batch_normalization_19 (Bat  (None, 25, 25, 32)       128       \n",
      " chNormalization)                                                \n",
      "                                                                 \n",
      " max_pooling2d_6 (MaxPooling  (None, 12, 12, 32)       0         \n",
      " 2D)                                                             \n",
      "                                                                 \n",
      " conv2d_14 (Conv2D)          (None, 12, 12, 64)        18496     \n",
      "                                                                 \n",
      " batch_normalization_20 (Bat  (None, 12, 12, 64)       256       \n",
      " chNormalization)                                                \n",
      "                                                                 \n",
      " conv2d_15 (Conv2D)          (None, 10, 10, 64)        36928     \n",
      "                                                                 \n",
      " batch_normalization_21 (Bat  (None, 10, 10, 64)       256       \n",
      " chNormalization)                                                \n",
      "                                                                 \n",
      " max_pooling2d_7 (MaxPooling  (None, 5, 5, 64)         0         \n",
      " 2D)                                                             \n",
      "                                                                 \n",
      " flatten_3 (Flatten)         (None, 1600)              0         \n",
      "                                                                 \n",
      " dense_9 (Dense)             (None, 512)               819712    \n",
      "                                                                 \n",
      " batch_normalization_22 (Bat  (None, 512)              2048      \n",
      " chNormalization)                                                \n",
      "                                                                 \n",
      " dropout_6 (Dropout)         (None, 512)               0         \n",
      "                                                                 \n",
      " dense_10 (Dense)            (None, 512)               262656    \n",
      "                                                                 \n",
      " batch_normalization_23 (Bat  (None, 512)              2048      \n",
      " chNormalization)                                                \n",
      "                                                                 \n",
      " dropout_7 (Dropout)         (None, 512)               0         \n",
      "                                                                 \n",
      " dense_11 (Dense)            (None, 4)                 2052      \n",
      "                                                                 \n",
      "=================================================================\n",
      "Total params: 1,154,852\n",
      "Trainable params: 1,152,420\n",
      "Non-trainable params: 2,432\n",
      "_________________________________________________________________\n"
     ]
    }
   ],
   "source": [
    "input_shape = (27, 27, 3)\n",
    "num_classes = 4\n",
    "l2_coeff = 0.01\n",
    "\n",
    "model = tf.keras.models.Sequential([\n",
    "    tf.keras.layers.Conv2D(32, (3,3), activation='relu', input_shape=input_shape, padding='same'),\n",
    "    tf.keras.layers.BatchNormalization(),\n",
    "    tf.keras.layers.Conv2D(32, (3,3), activation='relu'),\n",
    "    tf.keras.layers.BatchNormalization(),\n",
    "    tf.keras.layers.MaxPooling2D(2, 2),\n",
    "    tf.keras.layers.Conv2D(64, (3,3), activation='relu', padding='same'),\n",
    "    tf.keras.layers.BatchNormalization(),\n",
    "    tf.keras.layers.Conv2D(64, (3,3), activation='relu'),\n",
    "    tf.keras.layers.BatchNormalization(),\n",
    "    tf.keras.layers.MaxPooling2D(2, 2),\n",
    "    # tf.keras.layers.Conv2D(128, (3,3), activation='relu', padding='same'),\n",
    "    # tf.keras.layers.BatchNormalization(),\n",
    "    # tf.keras.layers.Conv2D(128, (3,3), activation='relu'),\n",
    "    # tf.keras.layers.BatchNormalization(),\n",
    "    tf.keras.layers.Flatten(),\n",
    "    tf.keras.layers.Dense(512, activation='relu', kernel_regularizer=tf.keras.regularizers.l2(l2_coeff)),\n",
    "    tf.keras.layers.BatchNormalization(),\n",
    "    tf.keras.layers.Dropout(0.2),\n",
    "    tf.keras.layers.Dense(512, activation='relu', kernel_regularizer=tf.keras.regularizers.l2(l2_coeff)),\n",
    "    tf.keras.layers.BatchNormalization(),\n",
    "    tf.keras.layers.Dropout(0.2),\n",
    "    tf.keras.layers.Dense(num_classes, activation='softmax')\n",
    "])\n",
    "\n",
    "model.summary()"
   ],
   "metadata": {
    "collapsed": false,
    "ExecuteTime": {
     "start_time": "2023-04-24T15:05:27.090576Z",
     "end_time": "2023-04-24T15:05:27.179771Z"
    }
   }
  },
  {
   "cell_type": "code",
   "execution_count": 31,
   "outputs": [],
   "source": [
    "model.compile(loss='categorical_crossentropy',\n",
    "              optimizer=tf.keras.optimizers.legacy.Adam(learning_rate=0.00005),\n",
    "              metrics=['accuracy', tf.keras.metrics.Precision(), tf.keras.metrics.Recall(), tfa.metrics.F1Score(num_classes=4, average='macro')])"
   ],
   "metadata": {
    "collapsed": false,
    "ExecuteTime": {
     "start_time": "2023-04-24T15:05:27.187539Z",
     "end_time": "2023-04-24T15:05:27.197853Z"
    }
   }
  },
  {
   "cell_type": "code",
   "execution_count": null,
   "outputs": [
    {
     "name": "stdout",
     "output_type": "stream",
     "text": [
      "Epoch 1/200\n",
      "247/247 [==============================] - 11s 41ms/step - loss: 17.0699 - accuracy: 0.5911 - precision_3: 0.6300 - recall_3: 0.5382 - f1_score: 0.5422 - val_loss: 15.5454 - val_accuracy: 0.3996 - val_precision_3: 0.3996 - val_recall_3: 0.3996 - val_f1_score: 0.1499 - lr: 0.0010\n",
      "Epoch 2/200\n",
      "247/247 [==============================] - 9s 36ms/step - loss: 12.5495 - accuracy: 0.6622 - precision_3: 0.7159 - recall_3: 0.5850 - f1_score: 0.6139 - val_loss: 8.5996 - val_accuracy: 0.4677 - val_precision_3: 0.4952 - val_recall_3: 0.4472 - val_f1_score: 0.2636 - lr: 0.0010\n",
      "Epoch 3/200\n",
      "247/247 [==============================] - 9s 36ms/step - loss: 9.2061 - accuracy: 0.6816 - precision_3: 0.7447 - recall_3: 0.6060 - f1_score: 0.6359 - val_loss: 5.1937 - val_accuracy: 0.7377 - val_precision_3: 0.7873 - val_recall_3: 0.6732 - val_f1_score: 0.6746 - lr: 0.0010\n",
      "Epoch 4/200\n",
      "247/247 [==============================] - 9s 36ms/step - loss: 6.9427 - accuracy: 0.6941 - precision_3: 0.7540 - recall_3: 0.6192 - f1_score: 0.6478 - val_loss: 3.6249 - val_accuracy: 0.7044 - val_precision_3: 0.7398 - val_recall_3: 0.6393 - val_f1_score: 0.6685 - lr: 0.0010\n",
      "Epoch 5/200\n",
      "247/247 [==============================] - 9s 36ms/step - loss: 5.5695 - accuracy: 0.6977 - precision_3: 0.7604 - recall_3: 0.6304 - f1_score: 0.6521 - val_loss: 2.6055 - val_accuracy: 0.6988 - val_precision_3: 0.7537 - val_recall_3: 0.6019 - val_f1_score: 0.6470 - lr: 0.0010\n",
      "Epoch 6/200\n",
      "247/247 [==============================] - 9s 36ms/step - loss: 4.6562 - accuracy: 0.7278 - precision_3: 0.7873 - recall_3: 0.6611 - f1_score: 0.6870 - val_loss: 2.1768 - val_accuracy: 0.7162 - val_precision_3: 0.7852 - val_recall_3: 0.6404 - val_f1_score: 0.6827 - lr: 3.1623e-04\n",
      "Epoch 7/200\n",
      "247/247 [==============================] - 9s 36ms/step - loss: 4.2743 - accuracy: 0.7410 - precision_3: 0.7996 - recall_3: 0.6735 - f1_score: 0.6991 - val_loss: 1.9573 - val_accuracy: 0.7121 - val_precision_3: 0.7550 - val_recall_3: 0.6537 - val_f1_score: 0.6722 - lr: 3.1623e-04\n",
      "Epoch 8/200\n",
      "247/247 [==============================] - 9s 36ms/step - loss: 3.9868 - accuracy: 0.7510 - precision_3: 0.8066 - recall_3: 0.6870 - f1_score: 0.7108 - val_loss: 1.8314 - val_accuracy: 0.7213 - val_precision_3: 0.7683 - val_recall_3: 0.6660 - val_f1_score: 0.6820 - lr: 1.0000e-04\n",
      "Epoch 9/200\n",
      "247/247 [==============================] - 9s 37ms/step - loss: 3.8260 - accuracy: 0.7497 - precision_3: 0.8079 - recall_3: 0.6885 - f1_score: 0.7092 - val_loss: 1.6588 - val_accuracy: 0.7515 - val_precision_3: 0.7933 - val_recall_3: 0.7080 - val_f1_score: 0.6959 - lr: 1.0000e-04\n",
      "Epoch 10/200\n",
      "247/247 [==============================] - 9s 37ms/step - loss: 3.7162 - accuracy: 0.7609 - precision_3: 0.8132 - recall_3: 0.7003 - f1_score: 0.7235 - val_loss: 1.5967 - val_accuracy: 0.7341 - val_precision_3: 0.7789 - val_recall_3: 0.6875 - val_f1_score: 0.6955 - lr: 1.0000e-04\n",
      "Epoch 11/200\n",
      "247/247 [==============================] - 9s 36ms/step - loss: 3.5852 - accuracy: 0.7643 - precision_3: 0.8116 - recall_3: 0.7074 - f1_score: 0.7267 - val_loss: 1.5335 - val_accuracy: 0.7454 - val_precision_3: 0.7834 - val_recall_3: 0.6947 - val_f1_score: 0.7127 - lr: 1.0000e-04\n",
      "Epoch 12/200\n",
      "247/247 [==============================] - 9s 37ms/step - loss: 3.4961 - accuracy: 0.7667 - precision_3: 0.8159 - recall_3: 0.7089 - f1_score: 0.7309 - val_loss: 1.4405 - val_accuracy: 0.7695 - val_precision_3: 0.8149 - val_recall_3: 0.7193 - val_f1_score: 0.7355 - lr: 3.1623e-05\n",
      "Epoch 13/200\n",
      "247/247 [==============================] - 9s 36ms/step - loss: 3.4540 - accuracy: 0.7695 - precision_3: 0.8222 - recall_3: 0.7133 - f1_score: 0.7343 - val_loss: 1.4247 - val_accuracy: 0.7633 - val_precision_3: 0.8040 - val_recall_3: 0.7167 - val_f1_score: 0.7314 - lr: 3.1623e-05\n",
      "Epoch 14/200\n",
      "247/247 [==============================] - 9s 36ms/step - loss: 3.4127 - accuracy: 0.7721 - precision_3: 0.8162 - recall_3: 0.7155 - f1_score: 0.7360 - val_loss: 1.3674 - val_accuracy: 0.7777 - val_precision_3: 0.8102 - val_recall_3: 0.7259 - val_f1_score: 0.7405 - lr: 3.1623e-05\n",
      "Epoch 15/200\n",
      "247/247 [==============================] - 9s 37ms/step - loss: 3.3653 - accuracy: 0.7760 - precision_3: 0.8239 - recall_3: 0.7227 - f1_score: 0.7397 - val_loss: 1.3513 - val_accuracy: 0.7731 - val_precision_3: 0.8049 - val_recall_3: 0.7269 - val_f1_score: 0.7340 - lr: 3.1623e-05\n",
      "Epoch 16/200\n",
      "247/247 [==============================] - 9s 37ms/step - loss: 3.3165 - accuracy: 0.7797 - precision_3: 0.8244 - recall_3: 0.7213 - f1_score: 0.7446 - val_loss: 1.3245 - val_accuracy: 0.7802 - val_precision_3: 0.8202 - val_recall_3: 0.7336 - val_f1_score: 0.7484 - lr: 3.1623e-05\n",
      "Epoch 17/200\n",
      "247/247 [==============================] - 9s 37ms/step - loss: 3.2666 - accuracy: 0.7773 - precision_3: 0.8300 - recall_3: 0.7241 - f1_score: 0.7419 - val_loss: 1.2959 - val_accuracy: 0.7797 - val_precision_3: 0.8090 - val_recall_3: 0.7377 - val_f1_score: 0.7405 - lr: 3.1623e-05\n",
      "Epoch 18/200\n",
      "247/247 [==============================] - 9s 36ms/step - loss: 3.2467 - accuracy: 0.7797 - precision_3: 0.8257 - recall_3: 0.7288 - f1_score: 0.7465 - val_loss: 1.2947 - val_accuracy: 0.7720 - val_precision_3: 0.8039 - val_recall_3: 0.7264 - val_f1_score: 0.7372 - lr: 3.1623e-05\n",
      "Epoch 19/200\n",
      "247/247 [==============================] - 9s 36ms/step - loss: 3.2367 - accuracy: 0.7718 - precision_3: 0.8177 - recall_3: 0.7220 - f1_score: 0.7362 - val_loss: 1.2640 - val_accuracy: 0.7869 - val_precision_3: 0.8162 - val_recall_3: 0.7418 - val_f1_score: 0.7552 - lr: 1.0000e-05\n",
      "Epoch 20/200\n",
      "247/247 [==============================] - 9s 37ms/step - loss: 3.2142 - accuracy: 0.7766 - precision_3: 0.8247 - recall_3: 0.7260 - f1_score: 0.7410 - val_loss: 1.2590 - val_accuracy: 0.7853 - val_precision_3: 0.8164 - val_recall_3: 0.7428 - val_f1_score: 0.7491 - lr: 1.0000e-05\n",
      "Epoch 21/200\n",
      "247/247 [==============================] - 9s 37ms/step - loss: 3.1941 - accuracy: 0.7792 - precision_3: 0.8274 - recall_3: 0.7286 - f1_score: 0.7440 - val_loss: 1.2538 - val_accuracy: 0.7797 - val_precision_3: 0.8126 - val_recall_3: 0.7418 - val_f1_score: 0.7461 - lr: 1.0000e-05\n",
      "Epoch 22/200\n",
      "247/247 [==============================] - 9s 36ms/step - loss: 3.1671 - accuracy: 0.7801 - precision_3: 0.8244 - recall_3: 0.7331 - f1_score: 0.7453 - val_loss: 1.2479 - val_accuracy: 0.7792 - val_precision_3: 0.8100 - val_recall_3: 0.7403 - val_f1_score: 0.7451 - lr: 3.1623e-06\n",
      "Epoch 23/200\n",
      "247/247 [==============================] - 9s 36ms/step - loss: 3.1903 - accuracy: 0.7790 - precision_3: 0.8228 - recall_3: 0.7279 - f1_score: 0.7434 - val_loss: 1.2367 - val_accuracy: 0.7853 - val_precision_3: 0.8200 - val_recall_3: 0.7423 - val_f1_score: 0.7519 - lr: 3.1623e-06\n",
      "Epoch 24/200\n",
      "247/247 [==============================] - 9s 38ms/step - loss: 3.1492 - accuracy: 0.7870 - precision_3: 0.8313 - recall_3: 0.7354 - f1_score: 0.7527 - val_loss: 1.2368 - val_accuracy: 0.7848 - val_precision_3: 0.8159 - val_recall_3: 0.7403 - val_f1_score: 0.7512 - lr: 1.0000e-06\n",
      "Epoch 25/200\n",
      "247/247 [==============================] - 9s 38ms/step - loss: 3.1664 - accuracy: 0.7775 - precision_3: 0.8248 - recall_3: 0.7302 - f1_score: 0.7425 - val_loss: 1.2411 - val_accuracy: 0.7818 - val_precision_3: 0.8126 - val_recall_3: 0.7398 - val_f1_score: 0.7479 - lr: 1.0000e-06\n",
      "Epoch 26/200\n",
      "247/247 [==============================] - 9s 38ms/step - loss: 3.1581 - accuracy: 0.7794 - precision_3: 0.8280 - recall_3: 0.7295 - f1_score: 0.7453 - val_loss: 1.2447 - val_accuracy: 0.7807 - val_precision_3: 0.8132 - val_recall_3: 0.7403 - val_f1_score: 0.7454 - lr: 3.1623e-07\n",
      "Epoch 27/200\n",
      "247/247 [==============================] - 9s 36ms/step - loss: 3.1475 - accuracy: 0.7802 - precision_3: 0.8244 - recall_3: 0.7302 - f1_score: 0.7453 - val_loss: 1.2420 - val_accuracy: 0.7823 - val_precision_3: 0.8119 - val_recall_3: 0.7387 - val_f1_score: 0.7488 - lr: 3.1623e-07\n",
      "Epoch 28/200\n",
      "247/247 [==============================] - 9s 37ms/step - loss: 3.1642 - accuracy: 0.7831 - precision_3: 0.8277 - recall_3: 0.7300 - f1_score: 0.7518 - val_loss: 1.2441 - val_accuracy: 0.7807 - val_precision_3: 0.8130 - val_recall_3: 0.7418 - val_f1_score: 0.7468 - lr: 1.0000e-07\n",
      "Epoch 29/200\n",
      "247/247 [==============================] - 9s 36ms/step - loss: 3.1383 - accuracy: 0.7804 - precision_3: 0.8268 - recall_3: 0.7308 - f1_score: 0.7461 - val_loss: 1.2431 - val_accuracy: 0.7802 - val_precision_3: 0.8114 - val_recall_3: 0.7382 - val_f1_score: 0.7464 - lr: 1.0000e-07\n",
      "Epoch 30/200\n",
      "247/247 [==============================] - 9s 37ms/step - loss: 3.1435 - accuracy: 0.7830 - precision_3: 0.8287 - recall_3: 0.7347 - f1_score: 0.7491 - val_loss: 1.2362 - val_accuracy: 0.7833 - val_precision_3: 0.8148 - val_recall_3: 0.7413 - val_f1_score: 0.7492 - lr: 3.1623e-08\n",
      "Epoch 31/200\n",
      "247/247 [==============================] - 9s 38ms/step - loss: 3.1531 - accuracy: 0.7789 - precision_3: 0.8271 - recall_3: 0.7249 - f1_score: 0.7444 - val_loss: 1.2378 - val_accuracy: 0.7812 - val_precision_3: 0.8144 - val_recall_3: 0.7418 - val_f1_score: 0.7466 - lr: 3.1623e-08\n",
      "Epoch 32/200\n",
      "247/247 [==============================] - 9s 36ms/step - loss: 3.1670 - accuracy: 0.7850 - precision_3: 0.8274 - recall_3: 0.7283 - f1_score: 0.7511 - val_loss: 1.2369 - val_accuracy: 0.7848 - val_precision_3: 0.8147 - val_recall_3: 0.7433 - val_f1_score: 0.7516 - lr: 1.0000e-08\n",
      "Epoch 33/200\n",
      "247/247 [==============================] - 9s 37ms/step - loss: 3.1272 - accuracy: 0.7887 - precision_3: 0.8362 - recall_3: 0.7387 - f1_score: 0.7552 - val_loss: 1.2413 - val_accuracy: 0.7787 - val_precision_3: 0.8111 - val_recall_3: 0.7392 - val_f1_score: 0.7437 - lr: 1.0000e-08\n",
      "Epoch 34/200\n",
      "247/247 [==============================] - 9s 36ms/step - loss: 3.1396 - accuracy: 0.7832 - precision_3: 0.8272 - recall_3: 0.7341 - f1_score: 0.7481 - val_loss: 1.2360 - val_accuracy: 0.7848 - val_precision_3: 0.8145 - val_recall_3: 0.7423 - val_f1_score: 0.7510 - lr: 3.1623e-09\n",
      "Epoch 35/200\n",
      "247/247 [==============================] - 9s 38ms/step - loss: 3.1590 - accuracy: 0.7808 - precision_3: 0.8285 - recall_3: 0.7298 - f1_score: 0.7453 - val_loss: 1.2420 - val_accuracy: 0.7818 - val_precision_3: 0.8132 - val_recall_3: 0.7403 - val_f1_score: 0.7480 - lr: 3.1623e-09\n",
      "Epoch 36/200\n",
      "247/247 [==============================] - 9s 37ms/step - loss: 3.1380 - accuracy: 0.7846 - precision_3: 0.8302 - recall_3: 0.7310 - f1_score: 0.7521 - val_loss: 1.2396 - val_accuracy: 0.7818 - val_precision_3: 0.8156 - val_recall_3: 0.7408 - val_f1_score: 0.7468 - lr: 1.0000e-09\n",
      "Epoch 37/200\n",
      "247/247 [==============================] - 9s 36ms/step - loss: 3.1246 - accuracy: 0.7874 - precision_3: 0.8318 - recall_3: 0.7357 - f1_score: 0.7530 - val_loss: 1.2369 - val_accuracy: 0.7838 - val_precision_3: 0.8153 - val_recall_3: 0.7418 - val_f1_score: 0.7508 - lr: 1.0000e-09\n",
      "Epoch 38/200\n",
      "247/247 [==============================] - 9s 36ms/step - loss: 3.1868 - accuracy: 0.7879 - precision_3: 0.8291 - recall_3: 0.7355 - f1_score: 0.7559 - val_loss: 1.2404 - val_accuracy: 0.7828 - val_precision_3: 0.8159 - val_recall_3: 0.7423 - val_f1_score: 0.7493 - lr: 3.1623e-10\n",
      "Epoch 39/200\n",
      "247/247 [==============================] - 9s 36ms/step - loss: 3.1415 - accuracy: 0.7907 - precision_3: 0.8359 - recall_3: 0.7397 - f1_score: 0.7586 - val_loss: 1.2383 - val_accuracy: 0.7833 - val_precision_3: 0.8134 - val_recall_3: 0.7413 - val_f1_score: 0.7489 - lr: 3.1623e-10\n",
      "Epoch 40/200\n",
      "247/247 [==============================] - 9s 36ms/step - loss: 3.1215 - accuracy: 0.7856 - precision_3: 0.8332 - recall_3: 0.7355 - f1_score: 0.7509 - val_loss: 1.2395 - val_accuracy: 0.7818 - val_precision_3: 0.8148 - val_recall_3: 0.7413 - val_f1_score: 0.7479 - lr: 1.0000e-10\n",
      "Epoch 41/200\n",
      "247/247 [==============================] - 9s 36ms/step - loss: 3.1326 - accuracy: 0.7877 - precision_3: 0.8296 - recall_3: 0.7367 - f1_score: 0.7551 - val_loss: 1.2412 - val_accuracy: 0.7823 - val_precision_3: 0.8154 - val_recall_3: 0.7398 - val_f1_score: 0.7489 - lr: 1.0000e-10\n",
      "Epoch 42/200\n",
      "247/247 [==============================] - 9s 36ms/step - loss: 3.1443 - accuracy: 0.7822 - precision_3: 0.8281 - recall_3: 0.7296 - f1_score: 0.7485 - val_loss: 1.2361 - val_accuracy: 0.7833 - val_precision_3: 0.8159 - val_recall_3: 0.7423 - val_f1_score: 0.7497 - lr: 3.1623e-11\n",
      "Epoch 43/200\n",
      "247/247 [==============================] - 9s 36ms/step - loss: 3.1313 - accuracy: 0.7844 - precision_3: 0.8290 - recall_3: 0.7336 - f1_score: 0.7503 - val_loss: 1.2366 - val_accuracy: 0.7828 - val_precision_3: 0.8152 - val_recall_3: 0.7413 - val_f1_score: 0.7488 - lr: 3.1623e-11\n",
      "Epoch 44/200\n",
      "247/247 [==============================] - 9s 36ms/step - loss: 3.1315 - accuracy: 0.7848 - precision_3: 0.8292 - recall_3: 0.7297 - f1_score: 0.7516 - val_loss: 1.2412 - val_accuracy: 0.7818 - val_precision_3: 0.8133 - val_recall_3: 0.7408 - val_f1_score: 0.7482 - lr: 1.0000e-11\n",
      "Epoch 45/200\n",
      "247/247 [==============================] - 9s 36ms/step - loss: 3.1082 - accuracy: 0.7853 - precision_3: 0.8299 - recall_3: 0.7383 - f1_score: 0.7511 - val_loss: 1.2458 - val_accuracy: 0.7792 - val_precision_3: 0.8109 - val_recall_3: 0.7382 - val_f1_score: 0.7462 - lr: 1.0000e-11\n",
      "Epoch 46/200\n",
      "247/247 [==============================] - 9s 36ms/step - loss: 3.1266 - accuracy: 0.7877 - precision_3: 0.8316 - recall_3: 0.7381 - f1_score: 0.7556 - val_loss: 1.2441 - val_accuracy: 0.7812 - val_precision_3: 0.8122 - val_recall_3: 0.7377 - val_f1_score: 0.7466 - lr: 3.1623e-12\n",
      "Epoch 47/200\n",
      "247/247 [==============================] - 9s 37ms/step - loss: 3.1154 - accuracy: 0.7867 - precision_3: 0.8342 - recall_3: 0.7369 - f1_score: 0.7529 - val_loss: 1.2365 - val_accuracy: 0.7838 - val_precision_3: 0.8178 - val_recall_3: 0.7428 - val_f1_score: 0.7497 - lr: 3.1623e-12\n",
      "Epoch 48/200\n",
      "247/247 [==============================] - 9s 38ms/step - loss: 3.1471 - accuracy: 0.7822 - precision_3: 0.8264 - recall_3: 0.7300 - f1_score: 0.7484 - val_loss: 1.2389 - val_accuracy: 0.7812 - val_precision_3: 0.8137 - val_recall_3: 0.7408 - val_f1_score: 0.7474 - lr: 1.0000e-12\n",
      "Epoch 49/200\n",
      "247/247 [==============================] - 9s 37ms/step - loss: 3.1232 - accuracy: 0.7889 - precision_3: 0.8324 - recall_3: 0.7354 - f1_score: 0.7557 - val_loss: 1.2339 - val_accuracy: 0.7869 - val_precision_3: 0.8195 - val_recall_3: 0.7444 - val_f1_score: 0.7529 - lr: 1.0000e-12\n",
      "Epoch 50/200\n",
      "247/247 [==============================] - 9s 37ms/step - loss: 3.1259 - accuracy: 0.7867 - precision_3: 0.8305 - recall_3: 0.7298 - f1_score: 0.7528 - val_loss: 1.2435 - val_accuracy: 0.7792 - val_precision_3: 0.8112 - val_recall_3: 0.7398 - val_f1_score: 0.7456 - lr: 3.1623e-13\n",
      "Epoch 51/200\n",
      "247/247 [==============================] - 9s 36ms/step - loss: 3.1224 - accuracy: 0.7861 - precision_3: 0.8317 - recall_3: 0.7302 - f1_score: 0.7538 - val_loss: 1.2409 - val_accuracy: 0.7797 - val_precision_3: 0.8117 - val_recall_3: 0.7398 - val_f1_score: 0.7453 - lr: 3.1623e-13\n",
      "Epoch 52/200\n",
      "247/247 [==============================] - 9s 37ms/step - loss: 3.1280 - accuracy: 0.7853 - precision_3: 0.8314 - recall_3: 0.7369 - f1_score: 0.7515 - val_loss: 1.2399 - val_accuracy: 0.7828 - val_precision_3: 0.8116 - val_recall_3: 0.7413 - val_f1_score: 0.7493 - lr: 1.0000e-13\n",
      "Epoch 53/200\n",
      "247/247 [==============================] - 9s 35ms/step - loss: 3.1112 - accuracy: 0.7855 - precision_3: 0.8328 - recall_3: 0.7352 - f1_score: 0.7530 - val_loss: 1.2415 - val_accuracy: 0.7818 - val_precision_3: 0.8150 - val_recall_3: 0.7403 - val_f1_score: 0.7478 - lr: 1.0000e-13\n",
      "Epoch 54/200\n",
      "247/247 [==============================] - 9s 35ms/step - loss: 3.1496 - accuracy: 0.7863 - precision_3: 0.8329 - recall_3: 0.7377 - f1_score: 0.7505 - val_loss: 1.2383 - val_accuracy: 0.7838 - val_precision_3: 0.8145 - val_recall_3: 0.7403 - val_f1_score: 0.7503 - lr: 3.1623e-14\n",
      "Epoch 55/200\n",
      "247/247 [==============================] - 9s 35ms/step - loss: 3.1702 - accuracy: 0.7777 - precision_3: 0.8251 - recall_3: 0.7275 - f1_score: 0.7426 - val_loss: 1.2453 - val_accuracy: 0.7802 - val_precision_3: 0.8126 - val_recall_3: 0.7377 - val_f1_score: 0.7470 - lr: 3.1623e-14\n",
      "Epoch 56/200\n",
      "247/247 [==============================] - 9s 35ms/step - loss: 3.1822 - accuracy: 0.7823 - precision_3: 0.8279 - recall_3: 0.7350 - f1_score: 0.7474 - val_loss: 1.2429 - val_accuracy: 0.7818 - val_precision_3: 0.8134 - val_recall_3: 0.7392 - val_f1_score: 0.7486 - lr: 1.0000e-14\n",
      "Epoch 57/200\n",
      "247/247 [==============================] - 9s 35ms/step - loss: 3.1795 - accuracy: 0.7801 - precision_3: 0.8274 - recall_3: 0.7292 - f1_score: 0.7471 - val_loss: 1.2418 - val_accuracy: 0.7797 - val_precision_3: 0.8116 - val_recall_3: 0.7392 - val_f1_score: 0.7457 - lr: 1.0000e-14\n",
      "Epoch 58/200\n",
      "247/247 [==============================] - 9s 35ms/step - loss: 3.1563 - accuracy: 0.7798 - precision_3: 0.8277 - recall_3: 0.7301 - f1_score: 0.7453 - val_loss: 1.2414 - val_accuracy: 0.7828 - val_precision_3: 0.8149 - val_recall_3: 0.7418 - val_f1_score: 0.7492 - lr: 3.1623e-15\n",
      "Epoch 59/200\n",
      "247/247 [==============================] - 9s 38ms/step - loss: 3.1534 - accuracy: 0.7808 - precision_3: 0.8255 - recall_3: 0.7312 - f1_score: 0.7476 - val_loss: 1.2464 - val_accuracy: 0.7797 - val_precision_3: 0.8100 - val_recall_3: 0.7362 - val_f1_score: 0.7463 - lr: 3.1623e-15\n",
      "Epoch 60/200\n",
      "247/247 [==============================] - 9s 38ms/step - loss: 3.1469 - accuracy: 0.7840 - precision_3: 0.8250 - recall_3: 0.7324 - f1_score: 0.7508 - val_loss: 1.2437 - val_accuracy: 0.7802 - val_precision_3: 0.8109 - val_recall_3: 0.7382 - val_f1_score: 0.7463 - lr: 1.0000e-15\n",
      "Epoch 61/200\n",
      "247/247 [==============================] - 9s 36ms/step - loss: 3.1340 - accuracy: 0.7869 - precision_3: 0.8306 - recall_3: 0.7357 - f1_score: 0.7534 - val_loss: 1.2431 - val_accuracy: 0.7812 - val_precision_3: 0.8143 - val_recall_3: 0.7413 - val_f1_score: 0.7472 - lr: 1.0000e-15\n",
      "Epoch 62/200\n",
      "247/247 [==============================] - 9s 36ms/step - loss: 3.1708 - accuracy: 0.7849 - precision_3: 0.8312 - recall_3: 0.7350 - f1_score: 0.7509 - val_loss: 1.2411 - val_accuracy: 0.7818 - val_precision_3: 0.8132 - val_recall_3: 0.7403 - val_f1_score: 0.7488 - lr: 5.0000e-16\n",
      "Epoch 63/200\n",
      "247/247 [==============================] - 9s 36ms/step - loss: 3.1690 - accuracy: 0.7822 - precision_3: 0.8280 - recall_3: 0.7301 - f1_score: 0.7483 - val_loss: 1.2412 - val_accuracy: 0.7818 - val_precision_3: 0.8118 - val_recall_3: 0.7403 - val_f1_score: 0.7483 - lr: 5.0000e-16\n",
      "Epoch 64/200\n",
      "247/247 [==============================] - 9s 36ms/step - loss: 3.1714 - accuracy: 0.7798 - precision_3: 0.8268 - recall_3: 0.7307 - f1_score: 0.7446 - val_loss: 1.2391 - val_accuracy: 0.7802 - val_precision_3: 0.8129 - val_recall_3: 0.7413 - val_f1_score: 0.7455 - lr: 5.0000e-16\n",
      "Epoch 65/200\n",
      "247/247 [==============================] - 9s 36ms/step - loss: 3.1675 - accuracy: 0.7806 - precision_3: 0.8280 - recall_3: 0.7284 - f1_score: 0.7459 - val_loss: 1.2380 - val_accuracy: 0.7828 - val_precision_3: 0.8145 - val_recall_3: 0.7423 - val_f1_score: 0.7488 - lr: 5.0000e-16\n",
      "Epoch 66/200\n",
      "247/247 [==============================] - 9s 37ms/step - loss: 3.1759 - accuracy: 0.7790 - precision_3: 0.8285 - recall_3: 0.7327 - f1_score: 0.7446 - val_loss: 1.2418 - val_accuracy: 0.7812 - val_precision_3: 0.8130 - val_recall_3: 0.7418 - val_f1_score: 0.7472 - lr: 5.0000e-16\n",
      "Epoch 67/200\n",
      "247/247 [==============================] - 9s 37ms/step - loss: 3.1569 - accuracy: 0.7818 - precision_3: 0.8278 - recall_3: 0.7330 - f1_score: 0.7492 - val_loss: 1.2412 - val_accuracy: 0.7802 - val_precision_3: 0.8118 - val_recall_3: 0.7403 - val_f1_score: 0.7459 - lr: 5.0000e-16\n",
      "Epoch 68/200\n",
      " 57/247 [=====>........................] - ETA: 6s - loss: 3.2313 - accuracy: 0.7686 - precision_3: 0.8197 - recall_3: 0.7303 - f1_score: 0.7319"
     ]
    }
   ],
   "source": [
    "epochs = 200\n",
    "lr_reducer = tf.keras.callbacks.ReduceLROnPlateau(monitor='val_loss', factor=np.sqrt(0.1), cooldown=0, patience=5, min_lr=0.5e-15)\n",
    "history = model.fit(\n",
    "    train_generator,\n",
    "    steps_per_epoch=len(train_data) // batch_size,\n",
    "    epochs=epochs,\n",
    "    validation_data=validation_generator,\n",
    "    validation_steps=len(test_data) // batch_size,\n",
    "    class_weight=class_weight_dict\n",
    "    , callbacks=[lr_reducer]\n",
    ")"
   ],
   "metadata": {
    "collapsed": false,
    "ExecuteTime": {
     "start_time": "2023-04-24T14:33:45.907262Z",
     "end_time": "2023-04-24T14:47:55.837520Z"
    }
   }
  },
  {
   "cell_type": "code",
   "execution_count": null,
   "outputs": [],
   "source": [
    "train_loss = history.history['loss']\n",
    "val_loss = history.history['val_loss']\n",
    "\n",
    "epochs_range = range(1, epochs + 1)\n",
    "\n",
    "plt.plot(epochs_range, train_loss, label='Training Loss')\n",
    "plt.plot(epochs_range, val_loss, label='Validation Loss')\n",
    "\n",
    "plt.legend()\n",
    "plt.title('Training and Validation Loss')\n",
    "plt.xlabel('Epoch')\n",
    "plt.ylabel('Loss')\n",
    "\n",
    "plt.show()"
   ],
   "metadata": {
    "collapsed": false,
    "ExecuteTime": {
     "start_time": "2023-04-24T14:47:55.843195Z",
     "end_time": "2023-04-24T14:47:55.902624Z"
    }
   }
  },
  {
   "cell_type": "code",
   "execution_count": null,
   "outputs": [],
   "source": [
    "train_accuracy = history.history['accuracy']\n",
    "val_accuracy = history.history['val_accuracy']\n",
    "\n",
    "epochs_range = range(1, epochs + 1)\n",
    "\n",
    "plt.plot(epochs_range, train_accuracy, label='Training Accuracy')\n",
    "plt.plot(epochs_range, val_accuracy, label='Validation Accuracy')\n",
    "\n",
    "plt.legend()\n",
    "plt.title('Training and Validation Accuracy')\n",
    "plt.xlabel('Epoch')\n",
    "plt.ylabel('Accuracy')\n",
    "\n",
    "plt.show()"
   ],
   "metadata": {
    "collapsed": false,
    "ExecuteTime": {
     "start_time": "2023-04-24T14:47:55.911001Z",
     "end_time": "2023-04-24T14:47:55.971686Z"
    }
   }
  },
  {
   "cell_type": "code",
   "execution_count": null,
   "outputs": [],
   "source": [
    "train_precision = history.history['precision_3']\n",
    "val_precision = history.history['val_precision_3']\n",
    "\n",
    "epochs_range = range(1, epochs + 1)\n",
    "\n",
    "plt.plot(epochs_range, train_precision, label='Training Precision')\n",
    "plt.plot(epochs_range, val_precision, label='Validation Precision')\n",
    "\n",
    "plt.legend()\n",
    "plt.title('Training and Validation Precision')\n",
    "plt.xlabel('Epoch')\n",
    "plt.ylabel('Precision')\n",
    "\n",
    "plt.show()"
   ],
   "metadata": {
    "collapsed": false,
    "ExecuteTime": {
     "start_time": "2023-04-24T13:36:48.762882Z",
     "end_time": "2023-04-24T13:36:49.113032Z"
    }
   }
  },
  {
   "cell_type": "code",
   "execution_count": null,
   "outputs": [],
   "source": [
    "train_recall = history.history['recall_3']\n",
    "val_recall = history.history['val_recall_3']\n",
    "\n",
    "epochs_range = range(1, epochs + 1)\n",
    "\n",
    "plt.plot(epochs_range, train_recall, label='Training Recall')\n",
    "plt.plot(epochs_range, val_recall, label='Validation Recall')\n",
    "\n",
    "plt.legend()\n",
    "plt.title('Training and Validation Recall')\n",
    "plt.xlabel('Epoch')\n",
    "plt.ylabel('Recall')\n",
    "\n",
    "plt.show()"
   ],
   "metadata": {
    "collapsed": false,
    "ExecuteTime": {
     "start_time": "2023-04-24T13:36:50.276624Z",
     "end_time": "2023-04-24T13:36:50.355222Z"
    }
   }
  },
  {
   "cell_type": "code",
   "execution_count": null,
   "outputs": [],
   "source": [
    "train_f1 = history.history['f1_score']\n",
    "val_f1 = history.history['val_f1_score']\n",
    "\n",
    "epochs_range = range(1, epochs + 1)\n",
    "\n",
    "plt.plot(epochs_range, train_f1, label='Training F1')\n",
    "plt.plot(epochs_range, val_f1, label='Validation F1')\n",
    "\n",
    "plt.legend()\n",
    "plt.title('Training and Validation F1 Score')\n",
    "plt.xlabel('Epoch')\n",
    "plt.ylabel('Recall')\n",
    "\n",
    "plt.show()"
   ],
   "metadata": {
    "collapsed": false,
    "ExecuteTime": {
     "start_time": "2023-04-24T13:36:53.429497Z",
     "end_time": "2023-04-24T13:36:53.500714Z"
    }
   }
  }
 ],
 "metadata": {
  "kernelspec": {
   "display_name": "Python 3",
   "language": "python",
   "name": "python3"
  },
  "language_info": {
   "codemirror_mode": {
    "name": "ipython",
    "version": 2
   },
   "file_extension": ".py",
   "mimetype": "text/x-python",
   "name": "python",
   "nbconvert_exporter": "python",
   "pygments_lexer": "ipython2",
   "version": "2.7.6"
  }
 },
 "nbformat": 4,
 "nbformat_minor": 0
}
