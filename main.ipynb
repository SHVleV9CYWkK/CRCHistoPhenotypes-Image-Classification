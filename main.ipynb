{
 "cells": [
  {
   "cell_type": "markdown",
   "source": [
    "导包"
   ],
   "metadata": {
    "collapsed": false
   }
  },
  {
   "cell_type": "code",
   "execution_count": 45,
   "metadata": {
    "collapsed": true,
    "ExecuteTime": {
     "start_time": "2023-04-28T15:55:50.507750Z",
     "end_time": "2023-04-28T15:55:50.544026Z"
    }
   },
   "outputs": [],
   "source": [
    "import pandas as pd\n",
    "import matplotlib.pyplot as plt\n",
    "import numpy as np\n",
    "import tensorflow as tf\n",
    "import tensorflow_addons as tfa\n",
    "from sklearn.model_selection import train_test_split\n",
    "from sklearn.metrics import accuracy_score\n",
    "from tqdm import tqdm"
   ]
  },
  {
   "cell_type": "markdown",
   "source": [
    "获取主数据集\n",
    "test_data 为不可见数据集"
   ],
   "metadata": {
    "collapsed": false
   }
  },
  {
   "cell_type": "code",
   "execution_count": 46,
   "outputs": [],
   "source": [
    "data = pd.read_csv('./Image_classification_data/data_labels_mainData.csv')\n",
    "data['isCancerous'] = data['isCancerous'].astype(str)\n",
    "data['cellType'] = data['cellType'].astype(str)\n",
    "undivided_train_data, test_data = train_test_split(data, test_size=0.2, random_state=42)\n",
    "train_data, val_data = train_test_split(undivided_train_data, test_size=0.2, random_state=42)"
   ],
   "metadata": {
    "collapsed": false,
    "ExecuteTime": {
     "start_time": "2023-04-28T15:55:50.513840Z",
     "end_time": "2023-04-28T15:55:50.585875Z"
    }
   }
  },
  {
   "cell_type": "code",
   "execution_count": 47,
   "outputs": [
    {
     "data": {
      "text/plain": "([0, 1], [Text(0, 0, '0'), Text(1, 0, '1')])"
     },
     "execution_count": 47,
     "metadata": {},
     "output_type": "execute_result"
    },
    {
     "data": {
      "text/plain": "<Figure size 432x288 with 1 Axes>",
      "image/png": "[encoded data removed]"
     },
     "metadata": {
      "needs_background": "light"
     },
     "output_type": "display_data"
    }
   ],
   "source": [
    "plt.hist(train_data['isCancerous'], alpha=0.3, color='b', label='Train', density=True)\n",
    "plt.hist(test_data['isCancerous'], alpha=0.3, color='r', label='Test',  density=True)\n",
    "plt.hist(val_data['isCancerous'], alpha=0.3, color='g', label='Val',  density=True)\n",
    "plt.title('isCancerous')\n",
    "plt.xticks(rotation='vertical')"
   ],
   "metadata": {
    "collapsed": false,
    "ExecuteTime": {
     "start_time": "2023-04-28T15:55:50.537278Z",
     "end_time": "2023-04-28T15:55:50.596347Z"
    }
   }
  },
  {
   "cell_type": "code",
   "execution_count": 48,
   "outputs": [
    {
     "data": {
      "text/plain": "([0, 1, 2, 3],\n [Text(0, 0, '1'), Text(1, 0, '0'), Text(2, 0, '2'), Text(3, 0, '3')])"
     },
     "execution_count": 48,
     "metadata": {},
     "output_type": "execute_result"
    },
    {
     "data": {
      "text/plain": "<Figure size 432x288 with 1 Axes>",
      "image/png": "[encoded data removed]"
     },
     "metadata": {
      "needs_background": "light"
     },
     "output_type": "display_data"
    }
   ],
   "source": [
    "plt.hist(train_data['cellType'], alpha=0.3, color='b', label='Train', density=True)\n",
    "plt.hist(test_data['cellType'], alpha=0.3, color='r', label='Test',  density=True)\n",
    "plt.hist(val_data['cellType'], alpha=0.3, color='g', density=True)\n",
    "plt.title('cellType')\n",
    "plt.xticks(rotation='vertical')"
   ],
   "metadata": {
    "collapsed": false,
    "ExecuteTime": {
     "start_time": "2023-04-28T15:55:50.604377Z",
     "end_time": "2023-04-28T15:55:50.674990Z"
    }
   }
  },
  {
   "cell_type": "code",
   "execution_count": 49,
   "outputs": [],
   "source": [
    "class_samples_isCancerous = train_data['isCancerous'].value_counts()\n",
    "total_samples = np.sum(class_samples_isCancerous)\n",
    "class_weights_isCancerous = total_samples / class_samples_isCancerous\n",
    "class_weight_dict_isCancerous = {int(k): v for k, v in class_weights_isCancerous.to_dict().items()}\n",
    "\n",
    "class_samples_cellType = train_data['cellType'].value_counts()\n",
    "total_samples = np.sum(class_samples_cellType)\n",
    "class_weights_cellType = total_samples / class_samples_cellType\n",
    "class_weight_dict_cellType = {int(k): v for k, v in class_weights_cellType.to_dict().items()}"
   ],
   "metadata": {
    "collapsed": false,
    "ExecuteTime": {
     "start_time": "2023-04-28T15:55:50.677156Z",
     "end_time": "2023-04-28T15:55:50.679945Z"
    }
   }
  },
  {
   "cell_type": "code",
   "execution_count": 50,
   "outputs": [
    {
     "name": "stdout",
     "output_type": "stream",
     "text": [
      "Found 6332 validated image filenames belonging to 2 classes.\n",
      "Found 1584 validated image filenames belonging to 2 classes.\n",
      "Found 1980 validated image filenames belonging to 2 classes.\n"
     ]
    }
   ],
   "source": [
    "batch_size = 32\n",
    "train_datagen = tf.keras.preprocessing.image.ImageDataGenerator(\n",
    "    rescale=1./255,\n",
    "    rotation_range=40,\n",
    "    width_shift_range=0.2,\n",
    "    height_shift_range=0.2,\n",
    "    shear_range=0.2,\n",
    "    zoom_range=0.2,\n",
    "    horizontal_flip=True,\n",
    "    vertical_flip=True,\n",
    "    fill_mode='nearest'\n",
    ")\n",
    "\n",
    "val_datagen = tf.keras.preprocessing.image.ImageDataGenerator(\n",
    "    rescale=1./255\n",
    ")\n",
    "\n",
    "test_datagen = tf.keras.preprocessing.image.ImageDataGenerator(\n",
    "    rescale=1./255\n",
    ")\n",
    "\n",
    "train_isCancerous_generator = train_datagen.flow_from_dataframe(\n",
    "    train_data,\n",
    "    directory='./Image_classification_data/patch_images',\n",
    "    x_col='ImageName',\n",
    "    y_col='isCancerous',\n",
    "    target_size=(27, 27),\n",
    "    batch_size=batch_size,\n",
    "    class_mode='binary')\n",
    "\n",
    "val_isCancerous_generator = val_datagen.flow_from_dataframe(\n",
    "    val_data,\n",
    "    directory='./Image_classification_data/patch_images',\n",
    "    x_col='ImageName',\n",
    "    y_col='isCancerous',\n",
    "    target_size=(27, 27),\n",
    "    batch_size=batch_size,\n",
    "    class_mode='binary')\n",
    "\n",
    "test_isCancerous_generator = test_datagen.flow_from_dataframe(\n",
    "    test_data,\n",
    "    directory='./Image_classification_data/patch_images',\n",
    "    x_col='ImageName',\n",
    "    y_col='isCancerous',\n",
    "    target_size=(27, 27),\n",
    "    batch_size=batch_size,\n",
    "    class_mode='binary')"
   ],
   "metadata": {
    "collapsed": false,
    "ExecuteTime": {
     "start_time": "2023-04-28T15:55:50.687086Z",
     "end_time": "2023-04-28T15:55:50.792920Z"
    }
   }
  },
  {
   "cell_type": "code",
   "execution_count": 51,
   "outputs": [
    {
     "name": "stdout",
     "output_type": "stream",
     "text": [
      "Found 6332 validated image filenames belonging to 4 classes.\n",
      "Found 1584 validated image filenames belonging to 4 classes.\n",
      "Found 1980 validated image filenames belonging to 4 classes.\n"
     ]
    }
   ],
   "source": [
    "train_cellType_generator = train_datagen.flow_from_dataframe(\n",
    "    train_data,\n",
    "    directory='./Image_classification_data/patch_images',\n",
    "    x_col='ImageName',\n",
    "    y_col='cellType',\n",
    "    target_size=(27, 27),\n",
    "    batch_size=batch_size,\n",
    "    class_mode='categorical')\n",
    "\n",
    "val_cellType_generator = val_datagen.flow_from_dataframe(\n",
    "    val_data,\n",
    "    directory='./Image_classification_data/patch_images',\n",
    "    x_col='ImageName',\n",
    "    y_col='cellType',\n",
    "    target_size=(27, 27),\n",
    "    batch_size=batch_size,\n",
    "    class_mode='categorical')\n",
    "\n",
    "test_cellType_generator = test_datagen.flow_from_dataframe(\n",
    "    test_data,\n",
    "    directory='./Image_classification_data/patch_images',\n",
    "    x_col='ImageName',\n",
    "    y_col='cellType',\n",
    "    target_size=(27, 27),\n",
    "    batch_size=batch_size,\n",
    "    class_mode='categorical')"
   ],
   "metadata": {
    "collapsed": false,
    "ExecuteTime": {
     "start_time": "2023-04-28T15:55:50.774313Z",
     "end_time": "2023-04-28T15:55:50.869114Z"
    }
   }
  },
  {
   "cell_type": "markdown",
   "source": [
    "两层卷积一层池化，32，64。两层512感知器。"
   ],
   "metadata": {
    "collapsed": false
   }
  },
  {
   "cell_type": "code",
   "execution_count": 89,
   "outputs": [
    {
     "name": "stdout",
     "output_type": "stream",
     "text": [
      "Model: \"sequential_15\"\n",
      "_________________________________________________________________\n",
      " Layer (type)                Output Shape              Param #   \n",
      "=================================================================\n",
      " conv2d_60 (Conv2D)          (None, 27, 27, 32)        896       \n",
      "                                                                 \n",
      " batch_normalization_90 (Bat  (None, 27, 27, 32)       128       \n",
      " chNormalization)                                                \n",
      "                                                                 \n",
      " conv2d_61 (Conv2D)          (None, 25, 25, 32)        9248      \n",
      "                                                                 \n",
      " batch_normalization_91 (Bat  (None, 25, 25, 32)       128       \n",
      " chNormalization)                                                \n",
      "                                                                 \n",
      " max_pooling2d_30 (MaxPoolin  (None, 12, 12, 32)       0         \n",
      " g2D)                                                            \n",
      "                                                                 \n",
      " conv2d_62 (Conv2D)          (None, 12, 12, 64)        18496     \n",
      "                                                                 \n",
      " batch_normalization_92 (Bat  (None, 12, 12, 64)       256       \n",
      " chNormalization)                                                \n",
      "                                                                 \n",
      " conv2d_63 (Conv2D)          (None, 10, 10, 64)        36928     \n",
      "                                                                 \n",
      " batch_normalization_93 (Bat  (None, 10, 10, 64)       256       \n",
      " chNormalization)                                                \n",
      "                                                                 \n",
      " max_pooling2d_31 (MaxPoolin  (None, 5, 5, 64)         0         \n",
      " g2D)                                                            \n",
      "                                                                 \n",
      " flatten_15 (Flatten)        (None, 1600)              0         \n",
      "                                                                 \n",
      " dense_45 (Dense)            (None, 512)               819712    \n",
      "                                                                 \n",
      " batch_normalization_94 (Bat  (None, 512)              2048      \n",
      " chNormalization)                                                \n",
      "                                                                 \n",
      " dropout_30 (Dropout)        (None, 512)               0         \n",
      "                                                                 \n",
      " dense_46 (Dense)            (None, 512)               262656    \n",
      "                                                                 \n",
      " batch_normalization_95 (Bat  (None, 512)              2048      \n",
      " chNormalization)                                                \n",
      "                                                                 \n",
      " dropout_31 (Dropout)        (None, 512)               0         \n",
      "                                                                 \n",
      " dense_47 (Dense)            (None, 1)                 513       \n",
      "                                                                 \n",
      "=================================================================\n",
      "Total params: 1,153,313\n",
      "Trainable params: 1,150,881\n",
      "Non-trainable params: 2,432\n",
      "_________________________________________________________________\n"
     ]
    }
   ],
   "source": [
    "input_shape = (27, 27, 3)\n",
    "num_classes = 4\n",
    "l2_coeff = 0.01\n",
    "\n",
    "model_binary = tf.keras.models.Sequential([\n",
    "    tf.keras.layers.Conv2D(32, (3,3), activation='relu', input_shape=input_shape, padding='same', kernel_regularizer=tf.keras.regularizers.l2(l2_coeff)),\n",
    "    tf.keras.layers.BatchNormalization(),\n",
    "    tf.keras.layers.Conv2D(32, (3,3), activation='relu', kernel_regularizer=tf.keras.regularizers.l2(l2_coeff)),\n",
    "    tf.keras.layers.BatchNormalization(),\n",
    "    tf.keras.layers.MaxPooling2D(2, 2),\n",
    "    tf.keras.layers.Conv2D(64, (3,3), activation='relu', padding='same', kernel_regularizer=tf.keras.regularizers.l2(l2_coeff)),\n",
    "    tf.keras.layers.BatchNormalization(),\n",
    "    tf.keras.layers.Conv2D(64, (3,3), activation='relu', kernel_regularizer=tf.keras.regularizers.l2(l2_coeff)),\n",
    "    tf.keras.layers.BatchNormalization(),\n",
    "    tf.keras.layers.MaxPooling2D(2, 2),\n",
    "    tf.keras.layers.Flatten(),\n",
    "    tf.keras.layers.Dense(512, activation='relu', kernel_regularizer=tf.keras.regularizers.l2(l2_coeff)),\n",
    "    tf.keras.layers.BatchNormalization(),\n",
    "    tf.keras.layers.Dropout(0.2),\n",
    "    tf.keras.layers.Dense(512, activation='relu', kernel_regularizer=tf.keras.regularizers.l2(l2_coeff)),\n",
    "    tf.keras.layers.BatchNormalization(),\n",
    "    tf.keras.layers.Dropout(0.2),\n",
    "    tf.keras.layers.Dense(1, activation='sigmoid')\n",
    "])\n",
    "model_binary.summary()"
   ],
   "metadata": {
    "collapsed": false,
    "ExecuteTime": {
     "start_time": "2023-04-28T17:17:22.222372Z",
     "end_time": "2023-04-28T17:17:22.316733Z"
    }
   }
  },
  {
   "cell_type": "code",
   "execution_count": 101,
   "outputs": [
    {
     "name": "stdout",
     "output_type": "stream",
     "text": [
      "Model: \"sequential_18\"\n",
      "_________________________________________________________________\n",
      " Layer (type)                Output Shape              Param #   \n",
      "=================================================================\n",
      " conv2d_72 (Conv2D)          (None, 27, 27, 32)        896       \n",
      "                                                                 \n",
      " batch_normalization_108 (Ba  (None, 27, 27, 32)       128       \n",
      " tchNormalization)                                               \n",
      "                                                                 \n",
      " conv2d_73 (Conv2D)          (None, 25, 25, 32)        9248      \n",
      "                                                                 \n",
      " batch_normalization_109 (Ba  (None, 25, 25, 32)       128       \n",
      " tchNormalization)                                               \n",
      "                                                                 \n",
      " max_pooling2d_36 (MaxPoolin  (None, 12, 12, 32)       0         \n",
      " g2D)                                                            \n",
      "                                                                 \n",
      " conv2d_74 (Conv2D)          (None, 12, 12, 64)        18496     \n",
      "                                                                 \n",
      " batch_normalization_110 (Ba  (None, 12, 12, 64)       256       \n",
      " tchNormalization)                                               \n",
      "                                                                 \n",
      " conv2d_75 (Conv2D)          (None, 10, 10, 64)        36928     \n",
      "                                                                 \n",
      " batch_normalization_111 (Ba  (None, 10, 10, 64)       256       \n",
      " tchNormalization)                                               \n",
      "                                                                 \n",
      " max_pooling2d_37 (MaxPoolin  (None, 5, 5, 64)         0         \n",
      " g2D)                                                            \n",
      "                                                                 \n",
      " flatten_18 (Flatten)        (None, 1600)              0         \n",
      "                                                                 \n",
      " dense_54 (Dense)            (None, 512)               819712    \n",
      "                                                                 \n",
      " batch_normalization_112 (Ba  (None, 512)              2048      \n",
      " tchNormalization)                                               \n",
      "                                                                 \n",
      " dropout_36 (Dropout)        (None, 512)               0         \n",
      "                                                                 \n",
      " dense_55 (Dense)            (None, 512)               262656    \n",
      "                                                                 \n",
      " batch_normalization_113 (Ba  (None, 512)              2048      \n",
      " tchNormalization)                                               \n",
      "                                                                 \n",
      " dropout_37 (Dropout)        (None, 512)               0         \n",
      "                                                                 \n",
      " dense_56 (Dense)            (None, 4)                 2052      \n",
      "                                                                 \n",
      "=================================================================\n",
      "Total params: 1,154,852\n",
      "Trainable params: 1,152,420\n",
      "Non-trainable params: 2,432\n",
      "_________________________________________________________________\n"
     ]
    }
   ],
   "source": [
    "model_categorical = tf.keras.models.Sequential([\n",
    "    tf.keras.layers.Conv2D(32, (3,3), activation='relu', input_shape=input_shape, padding='same', kernel_regularizer=tf.keras.regularizers.l2(l2_coeff)),\n",
    "    tf.keras.layers.BatchNormalization(),\n",
    "    tf.keras.layers.Conv2D(32, (3,3), activation='relu', kernel_regularizer=tf.keras.regularizers.l2(l2_coeff)),\n",
    "    tf.keras.layers.BatchNormalization(),\n",
    "    tf.keras.layers.MaxPooling2D(2, 2),\n",
    "    tf.keras.layers.Conv2D(64, (3,3), activation='relu', padding='same', kernel_regularizer=tf.keras.regularizers.l2(l2_coeff)),\n",
    "    tf.keras.layers.BatchNormalization(),\n",
    "    tf.keras.layers.Conv2D(64, (3,3), activation='relu', kernel_regularizer=tf.keras.regularizers.l2(l2_coeff)),\n",
    "    tf.keras.layers.BatchNormalization(),\n",
    "    tf.keras.layers.MaxPooling2D(2, 2),\n",
    "    tf.keras.layers.Flatten(),\n",
    "    tf.keras.layers.Dense(512, activation='relu', kernel_regularizer=tf.keras.regularizers.l2(l2_coeff)),\n",
    "    tf.keras.layers.BatchNormalization(),\n",
    "    tf.keras.layers.Dropout(0.2),\n",
    "    tf.keras.layers.Dense(512, activation='relu', kernel_regularizer=tf.keras.regularizers.l2(l2_coeff)),\n",
    "    tf.keras.layers.BatchNormalization(),\n",
    "    tf.keras.layers.Dropout(0.2),\n",
    "    tf.keras.layers.Dense(num_classes, activation='softmax')\n",
    "])\n",
    "model_categorical.summary()"
   ],
   "metadata": {
    "collapsed": false,
    "ExecuteTime": {
     "start_time": "2023-04-28T17:49:36.006815Z",
     "end_time": "2023-04-28T17:49:36.102713Z"
    }
   }
  },
  {
   "cell_type": "code",
   "execution_count": 103,
   "outputs": [],
   "source": [
    "model_binary.compile(loss='binary_crossentropy',\n",
    "              optimizer=tf.keras.optimizers.legacy.Adam(learning_rate=0.0001),\n",
    "              metrics=['accuracy'])\n",
    "\n",
    "model_categorical.compile(loss='categorical_crossentropy',\n",
    "              optimizer=tf.keras.optimizers.legacy.Adam(learning_rate=0.001), metrics=['accuracy'])"
   ],
   "metadata": {
    "collapsed": false,
    "ExecuteTime": {
     "start_time": "2023-04-28T17:49:46.951192Z",
     "end_time": "2023-04-28T17:49:46.963389Z"
    }
   }
  },
  {
   "cell_type": "code",
   "execution_count": 55,
   "outputs": [
    {
     "name": "stdout",
     "output_type": "stream",
     "text": [
      "Epoch 1/100\n",
      "197/197 [==============================] - 10s 47ms/step - loss: 14.5660 - accuracy: 0.8124 - val_loss: 14.6045 - val_accuracy: 0.4114 - lr: 1.0000e-04\n",
      "Epoch 2/100\n",
      "197/197 [==============================] - 8s 41ms/step - loss: 13.2736 - accuracy: 0.8437 - val_loss: 12.6382 - val_accuracy: 0.6971 - lr: 1.0000e-04\n",
      "Epoch 3/100\n",
      "197/197 [==============================] - 8s 42ms/step - loss: 12.2033 - accuracy: 0.8554 - val_loss: 11.4967 - val_accuracy: 0.7883 - lr: 1.0000e-04\n",
      "Epoch 4/100\n",
      "197/197 [==============================] - 9s 44ms/step - loss: 11.2488 - accuracy: 0.8630 - val_loss: 10.4482 - val_accuracy: 0.8807 - lr: 1.0000e-04\n",
      "Epoch 5/100\n",
      "197/197 [==============================] - 9s 44ms/step - loss: 10.3964 - accuracy: 0.8681 - val_loss: 9.6345 - val_accuracy: 0.8865 - lr: 1.0000e-04\n",
      "Epoch 6/100\n",
      "197/197 [==============================] - 9s 45ms/step - loss: 9.6395 - accuracy: 0.8678 - val_loss: 8.9217 - val_accuracy: 0.8897 - lr: 1.0000e-04\n",
      "Epoch 7/100\n",
      "197/197 [==============================] - 8s 42ms/step - loss: 8.9582 - accuracy: 0.8735 - val_loss: 8.2599 - val_accuracy: 0.8865 - lr: 1.0000e-04\n",
      "Epoch 8/100\n",
      "197/197 [==============================] - 8s 42ms/step - loss: 8.2743 - accuracy: 0.8737 - val_loss: 7.6175 - val_accuracy: 0.8948 - lr: 1.0000e-04\n",
      "Epoch 9/100\n",
      "197/197 [==============================] - 8s 41ms/step - loss: 7.6870 - accuracy: 0.8759 - val_loss: 7.0441 - val_accuracy: 0.9011 - lr: 1.0000e-04\n",
      "Epoch 10/100\n",
      "197/197 [==============================] - 8s 42ms/step - loss: 7.1163 - accuracy: 0.8840 - val_loss: 6.5273 - val_accuracy: 0.8954 - lr: 1.0000e-04\n",
      "Epoch 11/100\n",
      "197/197 [==============================] - 8s 41ms/step - loss: 6.5914 - accuracy: 0.8854 - val_loss: 6.0466 - val_accuracy: 0.8858 - lr: 1.0000e-04\n",
      "Epoch 12/100\n",
      "197/197 [==============================] - 8s 40ms/step - loss: 6.0985 - accuracy: 0.8862 - val_loss: 5.5642 - val_accuracy: 0.8986 - lr: 1.0000e-04\n",
      "Epoch 13/100\n",
      "197/197 [==============================] - 8s 40ms/step - loss: 5.6485 - accuracy: 0.8898 - val_loss: 5.1568 - val_accuracy: 0.9043 - lr: 1.0000e-04\n",
      "Epoch 14/100\n",
      "197/197 [==============================] - 8s 41ms/step - loss: 5.2566 - accuracy: 0.8900 - val_loss: 4.7368 - val_accuracy: 0.9114 - lr: 1.0000e-04\n",
      "Epoch 15/100\n",
      "197/197 [==============================] - 8s 41ms/step - loss: 4.8628 - accuracy: 0.8905 - val_loss: 4.3566 - val_accuracy: 0.9126 - lr: 1.0000e-04\n",
      "Epoch 16/100\n",
      "197/197 [==============================] - 8s 42ms/step - loss: 4.4992 - accuracy: 0.8933 - val_loss: 4.0194 - val_accuracy: 0.9171 - lr: 1.0000e-04\n",
      "Epoch 17/100\n",
      "197/197 [==============================] - 8s 42ms/step - loss: 4.1764 - accuracy: 0.8944 - val_loss: 3.7108 - val_accuracy: 0.9069 - lr: 1.0000e-04\n",
      "Epoch 18/100\n",
      "197/197 [==============================] - 8s 42ms/step - loss: 3.8600 - accuracy: 0.8997 - val_loss: 3.4207 - val_accuracy: 0.9126 - lr: 1.0000e-04\n",
      "Epoch 19/100\n",
      "197/197 [==============================] - 8s 43ms/step - loss: 3.5882 - accuracy: 0.8921 - val_loss: 3.1628 - val_accuracy: 0.9145 - lr: 1.0000e-04\n",
      "Epoch 20/100\n",
      "197/197 [==============================] - 8s 43ms/step - loss: 3.3156 - accuracy: 0.9010 - val_loss: 2.8949 - val_accuracy: 0.9165 - lr: 1.0000e-04\n",
      "Epoch 21/100\n",
      "197/197 [==============================] - 8s 40ms/step - loss: 3.0726 - accuracy: 0.9016 - val_loss: 2.6764 - val_accuracy: 0.9133 - lr: 1.0000e-04\n",
      "Epoch 22/100\n",
      "197/197 [==============================] - 8s 39ms/step - loss: 2.8683 - accuracy: 0.8986 - val_loss: 2.4795 - val_accuracy: 0.9177 - lr: 1.0000e-04\n",
      "Epoch 23/100\n",
      "197/197 [==============================] - 8s 40ms/step - loss: 2.6743 - accuracy: 0.9033 - val_loss: 2.2821 - val_accuracy: 0.9152 - lr: 1.0000e-04\n",
      "Epoch 24/100\n",
      "197/197 [==============================] - 8s 41ms/step - loss: 2.4873 - accuracy: 0.9060 - val_loss: 2.1181 - val_accuracy: 0.9171 - lr: 1.0000e-04\n",
      "Epoch 25/100\n",
      "197/197 [==============================] - 8s 41ms/step - loss: 2.3407 - accuracy: 0.9002 - val_loss: 1.9948 - val_accuracy: 0.9101 - lr: 1.0000e-04\n",
      "Epoch 26/100\n",
      "197/197 [==============================] - 8s 40ms/step - loss: 2.1992 - accuracy: 0.9000 - val_loss: 1.8593 - val_accuracy: 0.9062 - lr: 1.0000e-04\n",
      "Epoch 27/100\n",
      "197/197 [==============================] - 8s 43ms/step - loss: 2.0452 - accuracy: 0.9016 - val_loss: 1.7407 - val_accuracy: 0.9133 - lr: 1.0000e-04\n",
      "Epoch 28/100\n",
      "197/197 [==============================] - 8s 42ms/step - loss: 1.9175 - accuracy: 0.9030 - val_loss: 1.5917 - val_accuracy: 0.9171 - lr: 1.0000e-04\n",
      "Epoch 29/100\n",
      "197/197 [==============================] - 8s 41ms/step - loss: 1.8051 - accuracy: 0.9086 - val_loss: 1.5133 - val_accuracy: 0.9120 - lr: 1.0000e-04\n",
      "Epoch 30/100\n",
      "197/197 [==============================] - 8s 42ms/step - loss: 1.7229 - accuracy: 0.9013 - val_loss: 1.3887 - val_accuracy: 0.9235 - lr: 1.0000e-04\n",
      "Epoch 31/100\n",
      "197/197 [==============================] - 9s 43ms/step - loss: 1.5951 - accuracy: 0.9124 - val_loss: 1.3088 - val_accuracy: 0.9171 - lr: 1.0000e-04\n",
      "Epoch 32/100\n",
      "197/197 [==============================] - 8s 41ms/step - loss: 1.5445 - accuracy: 0.9052 - val_loss: 1.2093 - val_accuracy: 0.9305 - lr: 1.0000e-04\n",
      "Epoch 33/100\n",
      "197/197 [==============================] - 8s 42ms/step - loss: 1.4635 - accuracy: 0.9100 - val_loss: 1.1948 - val_accuracy: 0.8986 - lr: 1.0000e-04\n",
      "Epoch 34/100\n",
      "197/197 [==============================] - 8s 41ms/step - loss: 1.4157 - accuracy: 0.9097 - val_loss: 1.0914 - val_accuracy: 0.9286 - lr: 1.0000e-04\n",
      "Epoch 35/100\n",
      "197/197 [==============================] - 9s 44ms/step - loss: 1.3306 - accuracy: 0.9105 - val_loss: 1.0418 - val_accuracy: 0.9222 - lr: 1.0000e-04\n",
      "Epoch 36/100\n",
      "197/197 [==============================] - 8s 42ms/step - loss: 1.2881 - accuracy: 0.9084 - val_loss: 1.0285 - val_accuracy: 0.8973 - lr: 1.0000e-04\n",
      "Epoch 37/100\n",
      "197/197 [==============================] - 8s 43ms/step - loss: 1.2372 - accuracy: 0.9083 - val_loss: 0.9570 - val_accuracy: 0.9260 - lr: 1.0000e-04\n",
      "Epoch 38/100\n",
      "197/197 [==============================] - 8s 43ms/step - loss: 1.1967 - accuracy: 0.9083 - val_loss: 0.9104 - val_accuracy: 0.9260 - lr: 1.0000e-04\n",
      "Epoch 39/100\n",
      "197/197 [==============================] - 9s 44ms/step - loss: 1.1549 - accuracy: 0.9095 - val_loss: 0.8748 - val_accuracy: 0.9235 - lr: 1.0000e-04\n",
      "Epoch 40/100\n",
      "197/197 [==============================] - 9s 45ms/step - loss: 1.1225 - accuracy: 0.9098 - val_loss: 0.8327 - val_accuracy: 0.9273 - lr: 1.0000e-04\n",
      "Epoch 41/100\n",
      "197/197 [==============================] - 9s 44ms/step - loss: 1.0818 - accuracy: 0.9121 - val_loss: 0.8170 - val_accuracy: 0.9190 - lr: 1.0000e-04\n",
      "Epoch 42/100\n",
      "197/197 [==============================] - 9s 44ms/step - loss: 1.0504 - accuracy: 0.9076 - val_loss: 0.7682 - val_accuracy: 0.9279 - lr: 1.0000e-04\n",
      "Epoch 43/100\n",
      "197/197 [==============================] - 9s 43ms/step - loss: 1.0065 - accuracy: 0.9190 - val_loss: 0.7447 - val_accuracy: 0.9292 - lr: 1.0000e-04\n",
      "Epoch 44/100\n",
      "197/197 [==============================] - 8s 42ms/step - loss: 0.9765 - accuracy: 0.9149 - val_loss: 0.7239 - val_accuracy: 0.9273 - lr: 1.0000e-04\n",
      "Epoch 45/100\n",
      "197/197 [==============================] - 8s 41ms/step - loss: 0.9680 - accuracy: 0.9133 - val_loss: 0.7135 - val_accuracy: 0.9165 - lr: 1.0000e-04\n",
      "Epoch 46/100\n",
      "197/197 [==============================] - 8s 43ms/step - loss: 0.9547 - accuracy: 0.9117 - val_loss: 0.7221 - val_accuracy: 0.9037 - lr: 1.0000e-04\n",
      "Epoch 47/100\n",
      "197/197 [==============================] - 8s 41ms/step - loss: 0.9177 - accuracy: 0.9151 - val_loss: 0.6816 - val_accuracy: 0.9247 - lr: 1.0000e-04\n",
      "Epoch 48/100\n",
      "197/197 [==============================] - 8s 39ms/step - loss: 0.9252 - accuracy: 0.9070 - val_loss: 0.6369 - val_accuracy: 0.9311 - lr: 1.0000e-04\n",
      "Epoch 49/100\n",
      "197/197 [==============================] - 8s 40ms/step - loss: 0.8963 - accuracy: 0.9159 - val_loss: 0.6976 - val_accuracy: 0.8878 - lr: 1.0000e-04\n",
      "Epoch 50/100\n",
      "197/197 [==============================] - 8s 39ms/step - loss: 0.8868 - accuracy: 0.9079 - val_loss: 0.6498 - val_accuracy: 0.9069 - lr: 1.0000e-04\n",
      "Epoch 51/100\n",
      "197/197 [==============================] - 8s 41ms/step - loss: 0.8790 - accuracy: 0.9078 - val_loss: 0.6342 - val_accuracy: 0.9152 - lr: 1.0000e-04\n",
      "Epoch 52/100\n",
      "197/197 [==============================] - 8s 41ms/step - loss: 0.8451 - accuracy: 0.9160 - val_loss: 0.6036 - val_accuracy: 0.9254 - lr: 1.0000e-04\n",
      "Epoch 53/100\n",
      "197/197 [==============================] - 8s 40ms/step - loss: 0.8455 - accuracy: 0.9110 - val_loss: 0.6382 - val_accuracy: 0.8948 - lr: 1.0000e-04\n",
      "Epoch 54/100\n",
      "197/197 [==============================] - 8s 40ms/step - loss: 0.8230 - accuracy: 0.9135 - val_loss: 0.6019 - val_accuracy: 0.9190 - lr: 1.0000e-04\n",
      "Epoch 55/100\n",
      "197/197 [==============================] - 8s 41ms/step - loss: 0.8185 - accuracy: 0.9098 - val_loss: 0.5667 - val_accuracy: 0.9228 - lr: 1.0000e-04\n",
      "Epoch 56/100\n",
      "197/197 [==============================] - 8s 41ms/step - loss: 0.7995 - accuracy: 0.9163 - val_loss: 0.5878 - val_accuracy: 0.9075 - lr: 1.0000e-04\n",
      "Epoch 57/100\n",
      "197/197 [==============================] - 8s 41ms/step - loss: 0.7986 - accuracy: 0.9144 - val_loss: 0.5582 - val_accuracy: 0.9228 - lr: 1.0000e-04\n",
      "Epoch 58/100\n",
      "197/197 [==============================] - 8s 41ms/step - loss: 0.7770 - accuracy: 0.9140 - val_loss: 0.6194 - val_accuracy: 0.8814 - lr: 1.0000e-04\n",
      "Epoch 59/100\n",
      "197/197 [==============================] - 8s 42ms/step - loss: 0.7691 - accuracy: 0.9137 - val_loss: 0.5123 - val_accuracy: 0.9343 - lr: 1.0000e-04\n",
      "Epoch 60/100\n",
      "197/197 [==============================] - 8s 41ms/step - loss: 0.7724 - accuracy: 0.9143 - val_loss: 0.5633 - val_accuracy: 0.9171 - lr: 1.0000e-04\n",
      "Epoch 61/100\n",
      "197/197 [==============================] - 8s 41ms/step - loss: 0.7641 - accuracy: 0.9149 - val_loss: 0.4934 - val_accuracy: 0.9337 - lr: 1.0000e-04\n",
      "Epoch 62/100\n",
      "197/197 [==============================] - 8s 42ms/step - loss: 0.7510 - accuracy: 0.9129 - val_loss: 0.5397 - val_accuracy: 0.9088 - lr: 1.0000e-04\n",
      "Epoch 63/100\n",
      "197/197 [==============================] - 8s 42ms/step - loss: 0.7400 - accuracy: 0.9170 - val_loss: 0.5664 - val_accuracy: 0.9024 - lr: 1.0000e-04\n",
      "Epoch 64/100\n",
      "197/197 [==============================] - 8s 42ms/step - loss: 0.7465 - accuracy: 0.9159 - val_loss: 0.5366 - val_accuracy: 0.9082 - lr: 1.0000e-04\n",
      "Epoch 65/100\n",
      "197/197 [==============================] - 8s 40ms/step - loss: 0.6949 - accuracy: 0.9237 - val_loss: 0.4757 - val_accuracy: 0.9343 - lr: 3.1623e-05\n",
      "Epoch 66/100\n",
      "197/197 [==============================] - 8s 41ms/step - loss: 0.6693 - accuracy: 0.9275 - val_loss: 0.4901 - val_accuracy: 0.9273 - lr: 3.1623e-05\n",
      "Epoch 67/100\n",
      "197/197 [==============================] - 8s 41ms/step - loss: 0.6721 - accuracy: 0.9260 - val_loss: 0.4663 - val_accuracy: 0.9337 - lr: 3.1623e-05\n",
      "Epoch 68/100\n",
      "197/197 [==============================] - 8s 43ms/step - loss: 0.6550 - accuracy: 0.9275 - val_loss: 0.4595 - val_accuracy: 0.9394 - lr: 3.1623e-05\n",
      "Epoch 69/100\n",
      "197/197 [==============================] - 8s 42ms/step - loss: 0.6638 - accuracy: 0.9251 - val_loss: 0.4403 - val_accuracy: 0.9381 - lr: 3.1623e-05\n",
      "Epoch 70/100\n",
      "197/197 [==============================] - 8s 43ms/step - loss: 0.6570 - accuracy: 0.9278 - val_loss: 0.4379 - val_accuracy: 0.9420 - lr: 3.1623e-05\n",
      "Epoch 71/100\n",
      "197/197 [==============================] - 8s 43ms/step - loss: 0.6406 - accuracy: 0.9300 - val_loss: 0.4531 - val_accuracy: 0.9343 - lr: 3.1623e-05\n",
      "Epoch 72/100\n",
      "197/197 [==============================] - 8s 42ms/step - loss: 0.6358 - accuracy: 0.9286 - val_loss: 0.4478 - val_accuracy: 0.9298 - lr: 3.1623e-05\n",
      "Epoch 73/100\n",
      "197/197 [==============================] - 8s 42ms/step - loss: 0.6612 - accuracy: 0.9246 - val_loss: 0.4411 - val_accuracy: 0.9362 - lr: 3.1623e-05\n",
      "Epoch 74/100\n",
      "197/197 [==============================] - 8s 42ms/step - loss: 0.6147 - accuracy: 0.9322 - val_loss: 0.4214 - val_accuracy: 0.9452 - lr: 1.0000e-05\n",
      "Epoch 75/100\n",
      "197/197 [==============================] - 8s 41ms/step - loss: 0.6213 - accuracy: 0.9322 - val_loss: 0.4148 - val_accuracy: 0.9458 - lr: 1.0000e-05\n",
      "Epoch 76/100\n",
      "197/197 [==============================] - 8s 41ms/step - loss: 0.6214 - accuracy: 0.9332 - val_loss: 0.4190 - val_accuracy: 0.9464 - lr: 1.0000e-05\n",
      "Epoch 77/100\n",
      "197/197 [==============================] - 8s 40ms/step - loss: 0.6207 - accuracy: 0.9322 - val_loss: 0.4194 - val_accuracy: 0.9432 - lr: 1.0000e-05\n",
      "Epoch 78/100\n",
      "197/197 [==============================] - 8s 41ms/step - loss: 0.6064 - accuracy: 0.9338 - val_loss: 0.4150 - val_accuracy: 0.9452 - lr: 1.0000e-05\n",
      "Epoch 79/100\n",
      "197/197 [==============================] - 8s 40ms/step - loss: 0.6019 - accuracy: 0.9327 - val_loss: 0.4155 - val_accuracy: 0.9452 - lr: 3.1623e-06\n",
      "Epoch 80/100\n",
      "197/197 [==============================] - 8s 40ms/step - loss: 0.6152 - accuracy: 0.9308 - val_loss: 0.4144 - val_accuracy: 0.9471 - lr: 3.1623e-06\n",
      "Epoch 81/100\n",
      "197/197 [==============================] - 8s 39ms/step - loss: 0.6037 - accuracy: 0.9319 - val_loss: 0.4126 - val_accuracy: 0.9464 - lr: 3.1623e-06\n",
      "Epoch 82/100\n",
      "197/197 [==============================] - 8s 41ms/step - loss: 0.6173 - accuracy: 0.9319 - val_loss: 0.4147 - val_accuracy: 0.9439 - lr: 3.1623e-06\n",
      "Epoch 83/100\n",
      "197/197 [==============================] - 8s 40ms/step - loss: 0.6110 - accuracy: 0.9351 - val_loss: 0.4126 - val_accuracy: 0.9471 - lr: 3.1623e-06\n",
      "Epoch 84/100\n",
      "197/197 [==============================] - 8s 40ms/step - loss: 0.5893 - accuracy: 0.9365 - val_loss: 0.4118 - val_accuracy: 0.9458 - lr: 3.1623e-06\n",
      "Epoch 85/100\n",
      "197/197 [==============================] - 8s 39ms/step - loss: 0.6007 - accuracy: 0.9365 - val_loss: 0.4096 - val_accuracy: 0.9490 - lr: 3.1623e-06\n",
      "Epoch 86/100\n",
      "197/197 [==============================] - 8s 40ms/step - loss: 0.6160 - accuracy: 0.9303 - val_loss: 0.4107 - val_accuracy: 0.9471 - lr: 3.1623e-06\n",
      "Epoch 87/100\n",
      "197/197 [==============================] - 8s 41ms/step - loss: 0.6010 - accuracy: 0.9367 - val_loss: 0.4104 - val_accuracy: 0.9458 - lr: 3.1623e-06\n",
      "Epoch 88/100\n",
      "197/197 [==============================] - 8s 42ms/step - loss: 0.5852 - accuracy: 0.9402 - val_loss: 0.4094 - val_accuracy: 0.9471 - lr: 3.1623e-06\n",
      "Epoch 89/100\n",
      "197/197 [==============================] - 8s 40ms/step - loss: 0.5945 - accuracy: 0.9365 - val_loss: 0.4113 - val_accuracy: 0.9439 - lr: 3.1623e-06\n",
      "Epoch 90/100\n",
      "197/197 [==============================] - 8s 38ms/step - loss: 0.5925 - accuracy: 0.9373 - val_loss: 0.4095 - val_accuracy: 0.9452 - lr: 3.1623e-06\n",
      "Epoch 91/100\n",
      "197/197 [==============================] - 8s 41ms/step - loss: 0.6076 - accuracy: 0.9333 - val_loss: 0.4103 - val_accuracy: 0.9439 - lr: 3.1623e-06\n",
      "Epoch 92/100\n",
      "197/197 [==============================] - 8s 42ms/step - loss: 0.5928 - accuracy: 0.9356 - val_loss: 0.4088 - val_accuracy: 0.9445 - lr: 1.0000e-06\n",
      "Epoch 93/100\n",
      "197/197 [==============================] - 8s 41ms/step - loss: 0.5928 - accuracy: 0.9335 - val_loss: 0.4074 - val_accuracy: 0.9464 - lr: 1.0000e-06\n",
      "Epoch 94/100\n",
      "197/197 [==============================] - 8s 42ms/step - loss: 0.6001 - accuracy: 0.9354 - val_loss: 0.4091 - val_accuracy: 0.9452 - lr: 1.0000e-06\n",
      "Epoch 95/100\n",
      "197/197 [==============================] - 8s 41ms/step - loss: 0.5905 - accuracy: 0.9376 - val_loss: 0.4079 - val_accuracy: 0.9452 - lr: 1.0000e-06\n",
      "Epoch 96/100\n",
      "197/197 [==============================] - 8s 41ms/step - loss: 0.6077 - accuracy: 0.9340 - val_loss: 0.4021 - val_accuracy: 0.9496 - lr: 1.0000e-06\n",
      "Epoch 97/100\n",
      "197/197 [==============================] - 8s 42ms/step - loss: 0.5832 - accuracy: 0.9379 - val_loss: 0.4068 - val_accuracy: 0.9477 - lr: 1.0000e-06\n",
      "Epoch 98/100\n",
      "197/197 [==============================] - 8s 42ms/step - loss: 0.5886 - accuracy: 0.9376 - val_loss: 0.4075 - val_accuracy: 0.9471 - lr: 1.0000e-06\n",
      "Epoch 99/100\n",
      "197/197 [==============================] - 8s 42ms/step - loss: 0.5947 - accuracy: 0.9368 - val_loss: 0.4073 - val_accuracy: 0.9464 - lr: 1.0000e-06\n",
      "Epoch 100/100\n",
      "197/197 [==============================] - 8s 40ms/step - loss: 0.5870 - accuracy: 0.9376 - val_loss: 0.4083 - val_accuracy: 0.9477 - lr: 3.1623e-07\n"
     ]
    }
   ],
   "source": [
    "epochs = 100\n",
    "lr_reducer = tf.keras.callbacks.ReduceLROnPlateau(monitor='val_loss', factor=np.sqrt(0.1), cooldown=0, patience=3, min_lr=0.5e-15)\n",
    "history_binary = model_binary.fit(\n",
    "    train_isCancerous_generator,\n",
    "    steps_per_epoch=len(train_data) // batch_size,\n",
    "    epochs=epochs,\n",
    "    validation_data=val_isCancerous_generator,\n",
    "    validation_steps=len(val_data) // batch_size,\n",
    "    class_weight=class_weight_dict_isCancerous\n",
    "    , callbacks=[lr_reducer]\n",
    ")"
   ],
   "metadata": {
    "collapsed": false,
    "ExecuteTime": {
     "start_time": "2023-04-28T15:55:51.089125Z",
     "end_time": "2023-04-28T16:09:29.779166Z"
    }
   }
  },
  {
   "cell_type": "code",
   "execution_count": 56,
   "outputs": [
    {
     "data": {
      "text/plain": "<Figure size 432x288 with 1 Axes>",
      "image/png": "[encoded data removed]"
     },
     "metadata": {
      "needs_background": "light"
     },
     "output_type": "display_data"
    }
   ],
   "source": [
    "train_loss = history_binary.history['loss']\n",
    "val_loss = history_binary.history['val_loss']\n",
    "\n",
    "epochs_range = range(1, epochs + 1)\n",
    "\n",
    "plt.plot(epochs_range, train_loss, label='Training Loss')\n",
    "plt.plot(epochs_range, val_loss, label='Validation Loss')\n",
    "\n",
    "plt.legend()\n",
    "plt.title('Training and Validation Loss in binary')\n",
    "plt.xlabel('Epoch')\n",
    "plt.ylabel('Loss')\n",
    "\n",
    "plt.show()"
   ],
   "metadata": {
    "collapsed": false,
    "ExecuteTime": {
     "start_time": "2023-04-28T16:09:29.797828Z",
     "end_time": "2023-04-28T16:09:29.846007Z"
    }
   }
  },
  {
   "cell_type": "code",
   "execution_count": 57,
   "outputs": [
    {
     "data": {
      "text/plain": "<Figure size 432x288 with 1 Axes>",
      "image/png": "[encoded data removed]"
     },
     "metadata": {
      "needs_background": "light"
     },
     "output_type": "display_data"
    }
   ],
   "source": [
    "train_accuracy = history_binary.history['accuracy']\n",
    "val_accuracy = history_binary.history['val_accuracy']\n",
    "\n",
    "epochs_range = range(1, epochs + 1)\n",
    "\n",
    "plt.plot(epochs_range, train_accuracy, label='Training Accuracy')\n",
    "plt.plot(epochs_range, val_accuracy, label='Validation Accuracy')\n",
    "\n",
    "plt.legend()\n",
    "plt.title('Training and Validation Accuracy in binary')\n",
    "plt.xlabel('Epoch')\n",
    "plt.ylabel('Accuracy')\n",
    "\n",
    "plt.show()"
   ],
   "metadata": {
    "collapsed": false,
    "ExecuteTime": {
     "start_time": "2023-04-28T16:09:29.864248Z",
     "end_time": "2023-04-28T16:09:29.912314Z"
    }
   }
  },
  {
   "cell_type": "markdown",
   "source": [
    "评估不可见数据集的表现"
   ],
   "metadata": {
    "collapsed": false
   }
  },
  {
   "cell_type": "code",
   "execution_count": 64,
   "outputs": [
    {
     "name": "stdout",
     "output_type": "stream",
     "text": [
      "62/62 [==============================] - 2s 28ms/step - loss: 0.4236 - accuracy: 0.9414\n",
      "Loss: 0.4236, Accuracy: 0.9414\n"
     ]
    }
   ],
   "source": [
    "loss, accuracy = model_binary.evaluate(test_isCancerous_generator)\n",
    "print(f\"Loss: {loss:.4f}, Accuracy: {accuracy:.4f}\")"
   ],
   "metadata": {
    "collapsed": false,
    "ExecuteTime": {
     "start_time": "2023-04-28T16:27:47.524000Z",
     "end_time": "2023-04-28T16:27:49.267391Z"
    }
   }
  },
  {
   "cell_type": "markdown",
   "source": [
    "# 训练多分类"
   ],
   "metadata": {
    "collapsed": false
   }
  },
  {
   "cell_type": "code",
   "execution_count": 104,
   "outputs": [
    {
     "name": "stdout",
     "output_type": "stream",
     "text": [
      "Epoch 1/150\n",
      "197/197 [==============================] - 14s 63ms/step - loss: 18.7328 - accuracy: 0.5959 - val_loss: 17.0920 - val_accuracy: 0.4114 - lr: 0.0010\n",
      "Epoch 2/150\n",
      "197/197 [==============================] - 11s 55ms/step - loss: 14.7899 - accuracy: 0.6394 - val_loss: 11.0560 - val_accuracy: 0.3744 - lr: 0.0010\n",
      "Epoch 3/150\n",
      "197/197 [==============================] - 11s 55ms/step - loss: 11.6306 - accuracy: 0.6614 - val_loss: 7.5364 - val_accuracy: 0.7085 - lr: 0.0010\n",
      "Epoch 4/150\n",
      "197/197 [==============================] - 11s 55ms/step - loss: 9.1577 - accuracy: 0.6873 - val_loss: 6.7329 - val_accuracy: 0.2666 - lr: 0.0010\n",
      "Epoch 5/150\n",
      "197/197 [==============================] - 11s 53ms/step - loss: 7.4854 - accuracy: 0.6841 - val_loss: 4.1767 - val_accuracy: 0.6964 - lr: 0.0010\n",
      "Epoch 6/150\n",
      "197/197 [==============================] - 10s 53ms/step - loss: 6.3317 - accuracy: 0.6919 - val_loss: 3.5502 - val_accuracy: 0.5670 - lr: 0.0010\n",
      "Epoch 7/150\n",
      "197/197 [==============================] - 11s 54ms/step - loss: 5.5486 - accuracy: 0.6948 - val_loss: 2.9588 - val_accuracy: 0.5989 - lr: 0.0010\n",
      "Epoch 8/150\n",
      "197/197 [==============================] - 11s 54ms/step - loss: 4.9982 - accuracy: 0.7156 - val_loss: 2.5142 - val_accuracy: 0.6614 - lr: 0.0010\n",
      "Epoch 9/150\n",
      "197/197 [==============================] - 11s 53ms/step - loss: 4.7236 - accuracy: 0.7095 - val_loss: 4.2264 - val_accuracy: 0.2825 - lr: 0.0010\n",
      "Epoch 10/150\n",
      "197/197 [==============================] - 11s 54ms/step - loss: 4.5726 - accuracy: 0.7021 - val_loss: 1.8156 - val_accuracy: 0.7800 - lr: 0.0010\n",
      "Epoch 11/150\n",
      "197/197 [==============================] - 10s 53ms/step - loss: 4.3566 - accuracy: 0.7167 - val_loss: 1.7950 - val_accuracy: 0.7462 - lr: 0.0010\n",
      "Epoch 12/150\n",
      "197/197 [==============================] - 11s 55ms/step - loss: 4.2570 - accuracy: 0.7198 - val_loss: 7.0513 - val_accuracy: 0.1550 - lr: 0.0010\n",
      "Epoch 13/150\n",
      "197/197 [==============================] - 11s 54ms/step - loss: 4.1748 - accuracy: 0.7113 - val_loss: 1.9780 - val_accuracy: 0.6033 - lr: 0.0010\n",
      "Epoch 14/150\n",
      "197/197 [==============================] - 11s 53ms/step - loss: 4.1170 - accuracy: 0.7314 - val_loss: 2.4166 - val_accuracy: 0.6180 - lr: 0.0010\n",
      "Epoch 15/150\n",
      "197/197 [==============================] - 10s 53ms/step - loss: 3.7665 - accuracy: 0.7508 - val_loss: 1.5832 - val_accuracy: 0.7111 - lr: 3.1623e-04\n",
      "Epoch 16/150\n",
      "197/197 [==============================] - 11s 53ms/step - loss: 3.5867 - accuracy: 0.7519 - val_loss: 1.5745 - val_accuracy: 0.6594 - lr: 3.1623e-04\n",
      "Epoch 17/150\n",
      "197/197 [==============================] - 11s 54ms/step - loss: 3.4740 - accuracy: 0.7592 - val_loss: 1.2891 - val_accuracy: 0.7710 - lr: 3.1623e-04\n",
      "Epoch 18/150\n",
      "197/197 [==============================] - 11s 55ms/step - loss: 3.4797 - accuracy: 0.7540 - val_loss: 1.2464 - val_accuracy: 0.7908 - lr: 3.1623e-04\n",
      "Epoch 19/150\n",
      "197/197 [==============================] - 10s 53ms/step - loss: 3.4801 - accuracy: 0.7583 - val_loss: 1.4336 - val_accuracy: 0.7379 - lr: 3.1623e-04\n",
      "Epoch 20/150\n",
      "197/197 [==============================] - 11s 56ms/step - loss: 3.4120 - accuracy: 0.7592 - val_loss: 1.9640 - val_accuracy: 0.4974 - lr: 3.1623e-04\n",
      "Epoch 21/150\n",
      "197/197 [==============================] - 10s 53ms/step - loss: 3.4095 - accuracy: 0.7570 - val_loss: 1.4234 - val_accuracy: 0.7136 - lr: 3.1623e-04\n",
      "Epoch 22/150\n",
      "197/197 [==============================] - 11s 54ms/step - loss: 3.2100 - accuracy: 0.7713 - val_loss: 1.1193 - val_accuracy: 0.8061 - lr: 1.0000e-04\n",
      "Epoch 23/150\n",
      "197/197 [==============================] - 11s 54ms/step - loss: 3.0992 - accuracy: 0.7825 - val_loss: 1.1651 - val_accuracy: 0.7889 - lr: 1.0000e-04\n",
      "Epoch 24/150\n",
      "197/197 [==============================] - 11s 55ms/step - loss: 3.0458 - accuracy: 0.7849 - val_loss: 1.2196 - val_accuracy: 0.7570 - lr: 1.0000e-04\n",
      "Epoch 25/150\n",
      "197/197 [==============================] - 11s 54ms/step - loss: 3.0588 - accuracy: 0.7852 - val_loss: 1.1309 - val_accuracy: 0.7819 - lr: 1.0000e-04\n",
      "Epoch 26/150\n",
      "197/197 [==============================] - 11s 53ms/step - loss: 2.9400 - accuracy: 0.7957 - val_loss: 1.0120 - val_accuracy: 0.8227 - lr: 3.1623e-05\n",
      "Epoch 27/150\n",
      "197/197 [==============================] - 11s 53ms/step - loss: 2.9482 - accuracy: 0.7908 - val_loss: 0.9889 - val_accuracy: 0.8348 - lr: 3.1623e-05\n",
      "Epoch 28/150\n",
      "197/197 [==============================] - 11s 55ms/step - loss: 2.9673 - accuracy: 0.7914 - val_loss: 1.0082 - val_accuracy: 0.8240 - lr: 3.1623e-05\n",
      "Epoch 29/150\n",
      "197/197 [==============================] - 11s 54ms/step - loss: 2.8522 - accuracy: 0.7967 - val_loss: 0.9718 - val_accuracy: 0.8310 - lr: 3.1623e-05\n",
      "Epoch 30/150\n",
      "197/197 [==============================] - 11s 54ms/step - loss: 2.8596 - accuracy: 0.8021 - val_loss: 0.9851 - val_accuracy: 0.8189 - lr: 3.1623e-05\n",
      "Epoch 31/150\n",
      "197/197 [==============================] - 11s 56ms/step - loss: 2.8218 - accuracy: 0.8022 - val_loss: 0.9722 - val_accuracy: 0.8265 - lr: 3.1623e-05\n",
      "Epoch 32/150\n",
      "197/197 [==============================] - 10s 52ms/step - loss: 2.8091 - accuracy: 0.8000 - val_loss: 0.9502 - val_accuracy: 0.8227 - lr: 3.1623e-05\n",
      "Epoch 33/150\n",
      "197/197 [==============================] - 11s 54ms/step - loss: 2.8147 - accuracy: 0.8019 - val_loss: 0.9407 - val_accuracy: 0.8329 - lr: 3.1623e-05\n",
      "Epoch 34/150\n",
      "197/197 [==============================] - 11s 55ms/step - loss: 2.7609 - accuracy: 0.8022 - val_loss: 1.0057 - val_accuracy: 0.8176 - lr: 3.1623e-05\n",
      "Epoch 35/150\n",
      "197/197 [==============================] - 11s 55ms/step - loss: 2.8074 - accuracy: 0.8006 - val_loss: 0.9445 - val_accuracy: 0.8278 - lr: 3.1623e-05\n",
      "Epoch 36/150\n",
      "197/197 [==============================] - 11s 54ms/step - loss: 2.7939 - accuracy: 0.7962 - val_loss: 0.9331 - val_accuracy: 0.8304 - lr: 3.1623e-05\n",
      "Epoch 37/150\n",
      "197/197 [==============================] - 10s 51ms/step - loss: 2.7628 - accuracy: 0.8073 - val_loss: 0.9616 - val_accuracy: 0.8068 - lr: 3.1623e-05\n",
      "Epoch 38/150\n",
      "197/197 [==============================] - 11s 54ms/step - loss: 2.6958 - accuracy: 0.8149 - val_loss: 0.9523 - val_accuracy: 0.8125 - lr: 3.1623e-05\n",
      "Epoch 39/150\n",
      "197/197 [==============================] - 10s 53ms/step - loss: 2.6933 - accuracy: 0.8073 - val_loss: 0.9307 - val_accuracy: 0.8297 - lr: 3.1623e-05\n",
      "Epoch 40/150\n",
      "197/197 [==============================] - 11s 54ms/step - loss: 2.7111 - accuracy: 0.8079 - val_loss: 0.9247 - val_accuracy: 0.8259 - lr: 3.1623e-05\n",
      "Epoch 41/150\n",
      "197/197 [==============================] - 11s 53ms/step - loss: 2.6672 - accuracy: 0.8086 - val_loss: 0.9113 - val_accuracy: 0.8310 - lr: 3.1623e-05\n",
      "Epoch 42/150\n",
      "197/197 [==============================] - 11s 54ms/step - loss: 2.6727 - accuracy: 0.8133 - val_loss: 0.8985 - val_accuracy: 0.8284 - lr: 3.1623e-05\n",
      "Epoch 43/150\n",
      "197/197 [==============================] - 10s 53ms/step - loss: 2.6789 - accuracy: 0.8063 - val_loss: 0.8956 - val_accuracy: 0.8304 - lr: 3.1623e-05\n",
      "Epoch 44/150\n",
      "197/197 [==============================] - 11s 55ms/step - loss: 2.6258 - accuracy: 0.8135 - val_loss: 0.9333 - val_accuracy: 0.8195 - lr: 3.1623e-05\n",
      "Epoch 45/150\n",
      "197/197 [==============================] - 11s 54ms/step - loss: 2.6808 - accuracy: 0.8106 - val_loss: 0.8998 - val_accuracy: 0.8316 - lr: 3.1623e-05\n",
      "Epoch 46/150\n",
      "197/197 [==============================] - 10s 53ms/step - loss: 2.6415 - accuracy: 0.8129 - val_loss: 0.9249 - val_accuracy: 0.8157 - lr: 3.1623e-05\n",
      "Epoch 47/150\n",
      "197/197 [==============================] - 11s 54ms/step - loss: 2.5872 - accuracy: 0.8113 - val_loss: 0.8931 - val_accuracy: 0.8310 - lr: 1.0000e-05\n",
      "Epoch 48/150\n",
      "197/197 [==============================] - 10s 53ms/step - loss: 2.5840 - accuracy: 0.8211 - val_loss: 0.8714 - val_accuracy: 0.8361 - lr: 1.0000e-05\n",
      "Epoch 49/150\n",
      "197/197 [==============================] - 10s 53ms/step - loss: 2.6437 - accuracy: 0.8054 - val_loss: 0.8845 - val_accuracy: 0.8329 - lr: 1.0000e-05\n",
      "Epoch 50/150\n",
      "197/197 [==============================] - 11s 53ms/step - loss: 2.6195 - accuracy: 0.8149 - val_loss: 0.8963 - val_accuracy: 0.8278 - lr: 1.0000e-05\n",
      "Epoch 51/150\n",
      "197/197 [==============================] - 11s 55ms/step - loss: 2.6593 - accuracy: 0.8113 - val_loss: 0.8852 - val_accuracy: 0.8342 - lr: 1.0000e-05\n",
      "Epoch 52/150\n",
      "197/197 [==============================] - 11s 55ms/step - loss: 2.5772 - accuracy: 0.8138 - val_loss: 0.8842 - val_accuracy: 0.8367 - lr: 3.1623e-06\n",
      "Epoch 53/150\n",
      "197/197 [==============================] - 11s 54ms/step - loss: 2.5949 - accuracy: 0.8162 - val_loss: 0.8810 - val_accuracy: 0.8374 - lr: 3.1623e-06\n",
      "Epoch 54/150\n",
      "197/197 [==============================] - 11s 54ms/step - loss: 2.5755 - accuracy: 0.8181 - val_loss: 0.8900 - val_accuracy: 0.8342 - lr: 3.1623e-06\n",
      "Epoch 55/150\n",
      "197/197 [==============================] - 11s 54ms/step - loss: 2.5746 - accuracy: 0.8198 - val_loss: 0.8870 - val_accuracy: 0.8335 - lr: 1.0000e-06\n",
      "Epoch 56/150\n",
      "197/197 [==============================] - 11s 54ms/step - loss: 2.5561 - accuracy: 0.8176 - val_loss: 0.8812 - val_accuracy: 0.8348 - lr: 1.0000e-06\n",
      "Epoch 57/150\n",
      "197/197 [==============================] - 11s 54ms/step - loss: 2.6011 - accuracy: 0.8143 - val_loss: 0.8888 - val_accuracy: 0.8355 - lr: 1.0000e-06\n",
      "Epoch 58/150\n",
      "197/197 [==============================] - 11s 54ms/step - loss: 2.5666 - accuracy: 0.8138 - val_loss: 0.8858 - val_accuracy: 0.8342 - lr: 3.1623e-07\n",
      "Epoch 59/150\n",
      "197/197 [==============================] - 11s 55ms/step - loss: 2.5684 - accuracy: 0.8149 - val_loss: 0.8847 - val_accuracy: 0.8355 - lr: 3.1623e-07\n",
      "Epoch 60/150\n",
      "197/197 [==============================] - 11s 55ms/step - loss: 2.5616 - accuracy: 0.8178 - val_loss: 0.8817 - val_accuracy: 0.8355 - lr: 3.1623e-07\n",
      "Epoch 61/150\n",
      "197/197 [==============================] - 11s 54ms/step - loss: 2.5707 - accuracy: 0.8146 - val_loss: 0.8843 - val_accuracy: 0.8355 - lr: 1.0000e-07\n",
      "Epoch 62/150\n",
      "197/197 [==============================] - 11s 54ms/step - loss: 2.5667 - accuracy: 0.8227 - val_loss: 0.8853 - val_accuracy: 0.8348 - lr: 1.0000e-07\n",
      "Epoch 63/150\n",
      "197/197 [==============================] - 11s 56ms/step - loss: 2.5624 - accuracy: 0.8135 - val_loss: 0.8837 - val_accuracy: 0.8355 - lr: 1.0000e-07\n",
      "Epoch 64/150\n",
      "197/197 [==============================] - 11s 53ms/step - loss: 2.5499 - accuracy: 0.8200 - val_loss: 0.8797 - val_accuracy: 0.8348 - lr: 3.1623e-08\n",
      "Epoch 65/150\n",
      "197/197 [==============================] - 11s 55ms/step - loss: 2.5357 - accuracy: 0.8229 - val_loss: 0.8828 - val_accuracy: 0.8361 - lr: 3.1623e-08\n",
      "Epoch 66/150\n",
      "197/197 [==============================] - 11s 55ms/step - loss: 2.5694 - accuracy: 0.8197 - val_loss: 0.8780 - val_accuracy: 0.8361 - lr: 3.1623e-08\n",
      "Epoch 67/150\n",
      "197/197 [==============================] - 11s 54ms/step - loss: 2.5924 - accuracy: 0.8130 - val_loss: 0.8834 - val_accuracy: 0.8361 - lr: 1.0000e-08\n",
      "Epoch 68/150\n",
      "197/197 [==============================] - 11s 55ms/step - loss: 2.5912 - accuracy: 0.8190 - val_loss: 0.8825 - val_accuracy: 0.8367 - lr: 1.0000e-08\n",
      "Epoch 69/150\n",
      "197/197 [==============================] - 11s 55ms/step - loss: 2.6133 - accuracy: 0.8159 - val_loss: 0.8811 - val_accuracy: 0.8342 - lr: 1.0000e-08\n",
      "Epoch 70/150\n",
      "197/197 [==============================] - 11s 53ms/step - loss: 2.5567 - accuracy: 0.8170 - val_loss: 0.8823 - val_accuracy: 0.8355 - lr: 3.1623e-09\n",
      "Epoch 71/150\n",
      "197/197 [==============================] - 10s 53ms/step - loss: 2.5694 - accuracy: 0.8219 - val_loss: 0.8797 - val_accuracy: 0.8348 - lr: 3.1623e-09\n",
      "Epoch 72/150\n",
      "197/197 [==============================] - 11s 54ms/step - loss: 2.5201 - accuracy: 0.8235 - val_loss: 0.8846 - val_accuracy: 0.8342 - lr: 3.1623e-09\n",
      "Epoch 73/150\n",
      "197/197 [==============================] - 10s 53ms/step - loss: 2.5766 - accuracy: 0.8149 - val_loss: 0.8810 - val_accuracy: 0.8348 - lr: 1.0000e-09\n",
      "Epoch 74/150\n",
      "197/197 [==============================] - 11s 55ms/step - loss: 2.5774 - accuracy: 0.8133 - val_loss: 0.8888 - val_accuracy: 0.8323 - lr: 1.0000e-09\n",
      "Epoch 75/150\n",
      "197/197 [==============================] - 10s 53ms/step - loss: 2.5194 - accuracy: 0.8202 - val_loss: 0.8827 - val_accuracy: 0.8335 - lr: 1.0000e-09\n",
      "Epoch 76/150\n",
      "197/197 [==============================] - 11s 56ms/step - loss: 2.5483 - accuracy: 0.8186 - val_loss: 0.8870 - val_accuracy: 0.8335 - lr: 3.1623e-10\n",
      "Epoch 77/150\n",
      "197/197 [==============================] - 11s 57ms/step - loss: 2.5288 - accuracy: 0.8162 - val_loss: 0.8768 - val_accuracy: 0.8386 - lr: 3.1623e-10\n",
      "Epoch 78/150\n",
      "197/197 [==============================] - 11s 55ms/step - loss: 2.5949 - accuracy: 0.8165 - val_loss: 0.8850 - val_accuracy: 0.8348 - lr: 3.1623e-10\n",
      "Epoch 79/150\n",
      "197/197 [==============================] - 11s 53ms/step - loss: 2.5831 - accuracy: 0.8111 - val_loss: 0.8832 - val_accuracy: 0.8348 - lr: 1.0000e-10\n",
      "Epoch 80/150\n",
      "197/197 [==============================] - 11s 54ms/step - loss: 2.5607 - accuracy: 0.8160 - val_loss: 0.8834 - val_accuracy: 0.8342 - lr: 1.0000e-10\n",
      "Epoch 81/150\n",
      "197/197 [==============================] - 11s 54ms/step - loss: 2.5594 - accuracy: 0.8178 - val_loss: 0.8834 - val_accuracy: 0.8348 - lr: 1.0000e-10\n",
      "Epoch 82/150\n",
      "197/197 [==============================] - 10s 53ms/step - loss: 2.6008 - accuracy: 0.8141 - val_loss: 0.8864 - val_accuracy: 0.8348 - lr: 3.1623e-11\n",
      "Epoch 83/150\n",
      "197/197 [==============================] - 10s 52ms/step - loss: 2.5739 - accuracy: 0.8175 - val_loss: 0.8810 - val_accuracy: 0.8355 - lr: 3.1623e-11\n",
      "Epoch 84/150\n",
      "197/197 [==============================] - 10s 52ms/step - loss: 2.5864 - accuracy: 0.8179 - val_loss: 0.8857 - val_accuracy: 0.8335 - lr: 3.1623e-11\n",
      "Epoch 85/150\n",
      "197/197 [==============================] - 11s 54ms/step - loss: 2.5733 - accuracy: 0.8178 - val_loss: 0.8868 - val_accuracy: 0.8335 - lr: 1.0000e-11\n",
      "Epoch 86/150\n",
      "197/197 [==============================] - 11s 54ms/step - loss: 2.6068 - accuracy: 0.8124 - val_loss: 0.8808 - val_accuracy: 0.8361 - lr: 1.0000e-11\n",
      "Epoch 87/150\n",
      "197/197 [==============================] - 11s 56ms/step - loss: 2.5418 - accuracy: 0.8206 - val_loss: 0.8824 - val_accuracy: 0.8380 - lr: 1.0000e-11\n",
      "Epoch 88/150\n",
      "197/197 [==============================] - 10s 53ms/step - loss: 2.5457 - accuracy: 0.8184 - val_loss: 0.8833 - val_accuracy: 0.8355 - lr: 3.1623e-12\n",
      "Epoch 89/150\n",
      "197/197 [==============================] - 11s 55ms/step - loss: 2.5707 - accuracy: 0.8181 - val_loss: 0.8877 - val_accuracy: 0.8342 - lr: 3.1623e-12\n",
      "Epoch 90/150\n",
      "197/197 [==============================] - 11s 54ms/step - loss: 2.5461 - accuracy: 0.8167 - val_loss: 0.8798 - val_accuracy: 0.8367 - lr: 3.1623e-12\n",
      "Epoch 91/150\n",
      "197/197 [==============================] - 11s 56ms/step - loss: 2.5383 - accuracy: 0.8222 - val_loss: 0.8829 - val_accuracy: 0.8348 - lr: 1.0000e-12\n",
      "Epoch 92/150\n",
      "197/197 [==============================] - 11s 53ms/step - loss: 2.6195 - accuracy: 0.8135 - val_loss: 0.8829 - val_accuracy: 0.8335 - lr: 1.0000e-12\n",
      "Epoch 93/150\n",
      "197/197 [==============================] - 11s 55ms/step - loss: 2.5452 - accuracy: 0.8195 - val_loss: 0.8799 - val_accuracy: 0.8348 - lr: 1.0000e-12\n",
      "Epoch 94/150\n",
      "197/197 [==============================] - 11s 53ms/step - loss: 2.6566 - accuracy: 0.8122 - val_loss: 0.8801 - val_accuracy: 0.8342 - lr: 3.1623e-13\n",
      "Epoch 95/150\n",
      "197/197 [==============================] - 11s 54ms/step - loss: 2.5497 - accuracy: 0.8178 - val_loss: 0.8847 - val_accuracy: 0.8355 - lr: 3.1623e-13\n",
      "Epoch 96/150\n",
      "197/197 [==============================] - 11s 55ms/step - loss: 2.5804 - accuracy: 0.8157 - val_loss: 0.8866 - val_accuracy: 0.8335 - lr: 3.1623e-13\n",
      "Epoch 97/150\n",
      "197/197 [==============================] - 10s 52ms/step - loss: 2.5645 - accuracy: 0.8173 - val_loss: 0.8838 - val_accuracy: 0.8361 - lr: 1.0000e-13\n",
      "Epoch 98/150\n",
      "197/197 [==============================] - 11s 54ms/step - loss: 2.6146 - accuracy: 0.8105 - val_loss: 0.8837 - val_accuracy: 0.8342 - lr: 1.0000e-13\n",
      "Epoch 99/150\n",
      "197/197 [==============================] - 11s 54ms/step - loss: 2.6100 - accuracy: 0.8159 - val_loss: 0.8831 - val_accuracy: 0.8348 - lr: 1.0000e-13\n",
      "Epoch 100/150\n",
      "197/197 [==============================] - 10s 53ms/step - loss: 2.5799 - accuracy: 0.8124 - val_loss: 0.8861 - val_accuracy: 0.8355 - lr: 3.1623e-14\n",
      "Epoch 101/150\n",
      "197/197 [==============================] - 11s 55ms/step - loss: 2.5684 - accuracy: 0.8162 - val_loss: 0.8883 - val_accuracy: 0.8329 - lr: 3.1623e-14\n",
      "Epoch 102/150\n",
      "197/197 [==============================] - 11s 54ms/step - loss: 2.5826 - accuracy: 0.8127 - val_loss: 0.8772 - val_accuracy: 0.8374 - lr: 3.1623e-14\n",
      "Epoch 103/150\n",
      "197/197 [==============================] - 11s 54ms/step - loss: 2.6019 - accuracy: 0.8157 - val_loss: 0.8851 - val_accuracy: 0.8355 - lr: 1.0000e-14\n",
      "Epoch 104/150\n",
      "197/197 [==============================] - 11s 56ms/step - loss: 2.5706 - accuracy: 0.8156 - val_loss: 0.8840 - val_accuracy: 0.8335 - lr: 1.0000e-14\n",
      "Epoch 105/150\n",
      "197/197 [==============================] - 11s 56ms/step - loss: 2.5887 - accuracy: 0.8127 - val_loss: 0.8831 - val_accuracy: 0.8361 - lr: 1.0000e-14\n",
      "Epoch 106/150\n",
      "197/197 [==============================] - 10s 53ms/step - loss: 2.5581 - accuracy: 0.8187 - val_loss: 0.8857 - val_accuracy: 0.8335 - lr: 3.1623e-15\n",
      "Epoch 107/150\n",
      "197/197 [==============================] - 11s 54ms/step - loss: 2.5934 - accuracy: 0.8149 - val_loss: 0.8867 - val_accuracy: 0.8329 - lr: 3.1623e-15\n",
      "Epoch 108/150\n",
      "197/197 [==============================] - 11s 54ms/step - loss: 2.6196 - accuracy: 0.8114 - val_loss: 0.8836 - val_accuracy: 0.8355 - lr: 3.1623e-15\n",
      "Epoch 109/150\n",
      "197/197 [==============================] - 11s 56ms/step - loss: 2.5722 - accuracy: 0.8183 - val_loss: 0.8811 - val_accuracy: 0.8342 - lr: 1.0000e-15\n",
      "Epoch 110/150\n",
      "197/197 [==============================] - 11s 55ms/step - loss: 2.5568 - accuracy: 0.8224 - val_loss: 0.8872 - val_accuracy: 0.8342 - lr: 1.0000e-15\n",
      "Epoch 111/150\n",
      "197/197 [==============================] - 11s 54ms/step - loss: 2.5321 - accuracy: 0.8165 - val_loss: 0.8851 - val_accuracy: 0.8348 - lr: 1.0000e-15\n",
      "Epoch 112/150\n",
      "197/197 [==============================] - 11s 54ms/step - loss: 2.5144 - accuracy: 0.8213 - val_loss: 0.8828 - val_accuracy: 0.8348 - lr: 5.0000e-16\n",
      "Epoch 113/150\n",
      "197/197 [==============================] - 10s 53ms/step - loss: 2.5906 - accuracy: 0.8175 - val_loss: 0.8876 - val_accuracy: 0.8329 - lr: 5.0000e-16\n",
      "Epoch 114/150\n",
      "197/197 [==============================] - 11s 54ms/step - loss: 2.5892 - accuracy: 0.8175 - val_loss: 0.8821 - val_accuracy: 0.8367 - lr: 5.0000e-16\n",
      "Epoch 115/150\n",
      "197/197 [==============================] - 11s 54ms/step - loss: 2.5997 - accuracy: 0.8143 - val_loss: 0.8817 - val_accuracy: 0.8361 - lr: 5.0000e-16\n",
      "Epoch 116/150\n",
      "197/197 [==============================] - 11s 55ms/step - loss: 2.5918 - accuracy: 0.8170 - val_loss: 0.8875 - val_accuracy: 0.8297 - lr: 5.0000e-16\n",
      "Epoch 117/150\n",
      "197/197 [==============================] - 11s 54ms/step - loss: 2.5717 - accuracy: 0.8197 - val_loss: 0.8853 - val_accuracy: 0.8348 - lr: 5.0000e-16\n",
      "Epoch 118/150\n",
      "197/197 [==============================] - 11s 53ms/step - loss: 2.5386 - accuracy: 0.8225 - val_loss: 0.8851 - val_accuracy: 0.8348 - lr: 5.0000e-16\n",
      "Epoch 119/150\n",
      "197/197 [==============================] - 11s 54ms/step - loss: 2.6006 - accuracy: 0.8175 - val_loss: 0.8809 - val_accuracy: 0.8367 - lr: 5.0000e-16\n",
      "Epoch 120/150\n",
      "197/197 [==============================] - 11s 55ms/step - loss: 2.5963 - accuracy: 0.8135 - val_loss: 0.8819 - val_accuracy: 0.8361 - lr: 5.0000e-16\n",
      "Epoch 121/150\n",
      "197/197 [==============================] - 11s 54ms/step - loss: 2.5793 - accuracy: 0.8113 - val_loss: 0.8790 - val_accuracy: 0.8355 - lr: 5.0000e-16\n",
      "Epoch 122/150\n",
      "197/197 [==============================] - 10s 53ms/step - loss: 2.5197 - accuracy: 0.8171 - val_loss: 0.8809 - val_accuracy: 0.8335 - lr: 5.0000e-16\n",
      "Epoch 123/150\n",
      "197/197 [==============================] - 11s 55ms/step - loss: 2.5286 - accuracy: 0.8224 - val_loss: 0.8820 - val_accuracy: 0.8361 - lr: 5.0000e-16\n",
      "Epoch 124/150\n",
      "197/197 [==============================] - 11s 56ms/step - loss: 2.5696 - accuracy: 0.8205 - val_loss: 0.8789 - val_accuracy: 0.8342 - lr: 5.0000e-16\n",
      "Epoch 125/150\n",
      "197/197 [==============================] - 11s 55ms/step - loss: 2.5485 - accuracy: 0.8165 - val_loss: 0.8865 - val_accuracy: 0.8342 - lr: 5.0000e-16\n",
      "Epoch 126/150\n",
      "197/197 [==============================] - 11s 54ms/step - loss: 2.5744 - accuracy: 0.8149 - val_loss: 0.8800 - val_accuracy: 0.8361 - lr: 5.0000e-16\n",
      "Epoch 127/150\n",
      "197/197 [==============================] - 10s 52ms/step - loss: 2.5767 - accuracy: 0.8195 - val_loss: 0.8822 - val_accuracy: 0.8361 - lr: 5.0000e-16\n",
      "Epoch 128/150\n",
      "197/197 [==============================] - 10s 53ms/step - loss: 2.5719 - accuracy: 0.8149 - val_loss: 0.8807 - val_accuracy: 0.8355 - lr: 5.0000e-16\n",
      "Epoch 129/150\n",
      "197/197 [==============================] - 11s 53ms/step - loss: 2.5685 - accuracy: 0.8160 - val_loss: 0.8842 - val_accuracy: 0.8348 - lr: 5.0000e-16\n",
      "Epoch 130/150\n",
      "197/197 [==============================] - 11s 54ms/step - loss: 2.5804 - accuracy: 0.8149 - val_loss: 0.8843 - val_accuracy: 0.8335 - lr: 5.0000e-16\n",
      "Epoch 131/150\n",
      "197/197 [==============================] - 11s 54ms/step - loss: 2.6038 - accuracy: 0.8125 - val_loss: 0.8838 - val_accuracy: 0.8342 - lr: 5.0000e-16\n",
      "Epoch 132/150\n",
      "197/197 [==============================] - 11s 55ms/step - loss: 2.5947 - accuracy: 0.8149 - val_loss: 0.8837 - val_accuracy: 0.8348 - lr: 5.0000e-16\n",
      "Epoch 133/150\n",
      "197/197 [==============================] - 11s 55ms/step - loss: 2.5809 - accuracy: 0.8133 - val_loss: 0.8877 - val_accuracy: 0.8348 - lr: 5.0000e-16\n",
      "Epoch 134/150\n",
      "197/197 [==============================] - 10s 53ms/step - loss: 2.5416 - accuracy: 0.8205 - val_loss: 0.8783 - val_accuracy: 0.8361 - lr: 5.0000e-16\n",
      "Epoch 135/150\n",
      "197/197 [==============================] - 11s 55ms/step - loss: 2.5242 - accuracy: 0.8186 - val_loss: 0.8825 - val_accuracy: 0.8335 - lr: 5.0000e-16\n",
      "Epoch 136/150\n",
      "197/197 [==============================] - 11s 55ms/step - loss: 2.5802 - accuracy: 0.8163 - val_loss: 0.8878 - val_accuracy: 0.8335 - lr: 5.0000e-16\n",
      "Epoch 137/150\n",
      "197/197 [==============================] - 11s 54ms/step - loss: 2.5568 - accuracy: 0.8210 - val_loss: 0.8854 - val_accuracy: 0.8329 - lr: 5.0000e-16\n",
      "Epoch 138/150\n",
      "197/197 [==============================] - 11s 55ms/step - loss: 2.5854 - accuracy: 0.8162 - val_loss: 0.8855 - val_accuracy: 0.8329 - lr: 5.0000e-16\n",
      "Epoch 139/150\n",
      "197/197 [==============================] - 10s 53ms/step - loss: 2.6026 - accuracy: 0.8195 - val_loss: 0.8801 - val_accuracy: 0.8367 - lr: 5.0000e-16\n",
      "Epoch 140/150\n",
      "197/197 [==============================] - 11s 55ms/step - loss: 2.5739 - accuracy: 0.8162 - val_loss: 0.8834 - val_accuracy: 0.8361 - lr: 5.0000e-16\n",
      "Epoch 141/150\n",
      "197/197 [==============================] - 11s 56ms/step - loss: 2.5616 - accuracy: 0.8197 - val_loss: 0.8798 - val_accuracy: 0.8355 - lr: 5.0000e-16\n",
      "Epoch 142/150\n",
      "197/197 [==============================] - 10s 53ms/step - loss: 2.5830 - accuracy: 0.8154 - val_loss: 0.8839 - val_accuracy: 0.8348 - lr: 5.0000e-16\n",
      "Epoch 143/150\n",
      "197/197 [==============================] - 11s 54ms/step - loss: 2.5709 - accuracy: 0.8183 - val_loss: 0.8822 - val_accuracy: 0.8367 - lr: 5.0000e-16\n",
      "Epoch 144/150\n",
      "197/197 [==============================] - 11s 54ms/step - loss: 2.6021 - accuracy: 0.8152 - val_loss: 0.8853 - val_accuracy: 0.8335 - lr: 5.0000e-16\n",
      "Epoch 145/150\n",
      "197/197 [==============================] - 11s 57ms/step - loss: 2.5710 - accuracy: 0.8194 - val_loss: 0.8835 - val_accuracy: 0.8348 - lr: 5.0000e-16\n",
      "Epoch 146/150\n",
      "197/197 [==============================] - 10s 52ms/step - loss: 2.5741 - accuracy: 0.8178 - val_loss: 0.8863 - val_accuracy: 0.8342 - lr: 5.0000e-16\n",
      "Epoch 147/150\n",
      "197/197 [==============================] - 11s 54ms/step - loss: 2.5889 - accuracy: 0.8181 - val_loss: 0.8792 - val_accuracy: 0.8355 - lr: 5.0000e-16\n",
      "Epoch 148/150\n",
      "197/197 [==============================] - 11s 54ms/step - loss: 2.5602 - accuracy: 0.8152 - val_loss: 0.8824 - val_accuracy: 0.8348 - lr: 5.0000e-16\n",
      "Epoch 149/150\n",
      "197/197 [==============================] - 11s 58ms/step - loss: 2.5500 - accuracy: 0.8171 - val_loss: 0.8844 - val_accuracy: 0.8335 - lr: 5.0000e-16\n",
      "Epoch 150/150\n",
      "197/197 [==============================] - 12s 59ms/step - loss: 2.5570 - accuracy: 0.8138 - val_loss: 0.8814 - val_accuracy: 0.8342 - lr: 5.0000e-16\n"
     ]
    }
   ],
   "source": [
    "epochs = 150\n",
    "history_categorical = model_categorical.fit(\n",
    "    train_cellType_generator,\n",
    "    steps_per_epoch=len(train_data) // batch_size,\n",
    "    epochs=epochs,\n",
    "    validation_data=val_cellType_generator,\n",
    "    validation_steps=len(val_data) // batch_size,\n",
    "    class_weight=class_weight_dict_cellType\n",
    "    , callbacks=[lr_reducer]\n",
    ")"
   ],
   "metadata": {
    "collapsed": false,
    "ExecuteTime": {
     "start_time": "2023-04-28T17:49:48.888083Z",
     "end_time": "2023-04-28T18:16:33.638362Z"
    }
   }
  },
  {
   "cell_type": "code",
   "execution_count": 105,
   "outputs": [
    {
     "data": {
      "text/plain": "<Figure size 432x288 with 1 Axes>",
      "image/png": "[encoded data removed]"
     },
     "metadata": {
      "needs_background": "light"
     },
     "output_type": "display_data"
    }
   ],
   "source": [
    "train_loss = history_categorical.history['loss']\n",
    "val_loss = history_categorical.history['val_loss']\n",
    "\n",
    "epochs_range = range(1, epochs + 1)\n",
    "\n",
    "plt.plot(epochs_range, train_loss, label='Training Loss')\n",
    "plt.plot(epochs_range, val_loss, label='Validation Loss')\n",
    "\n",
    "plt.legend()\n",
    "plt.title('Training and Validation Loss in multi-category')\n",
    "plt.xlabel('Epoch')\n",
    "plt.ylabel('Loss')\n",
    "\n",
    "plt.show()"
   ],
   "metadata": {
    "collapsed": false,
    "ExecuteTime": {
     "start_time": "2023-04-28T18:16:35.670013Z",
     "end_time": "2023-04-28T18:16:35.741288Z"
    }
   }
  },
  {
   "cell_type": "code",
   "execution_count": 106,
   "outputs": [
    {
     "data": {
      "text/plain": "<Figure size 432x288 with 1 Axes>",
      "image/png": "[encoded data removed]"
     },
     "metadata": {
      "needs_background": "light"
     },
     "output_type": "display_data"
    }
   ],
   "source": [
    "train_accuracy = history_categorical.history['accuracy']\n",
    "val_accuracy = history_categorical.history['val_accuracy']\n",
    "\n",
    "epochs_range = range(1, epochs + 1)\n",
    "\n",
    "plt.plot(epochs_range, train_accuracy, label='Training Accuracy')\n",
    "plt.plot(epochs_range, val_accuracy, label='Validation Accuracy')\n",
    "\n",
    "plt.legend()\n",
    "plt.title('Training and Validation Accuracy in multi-category')\n",
    "plt.xlabel('Epoch')\n",
    "plt.ylabel('Accuracy')\n",
    "\n",
    "plt.show()"
   ],
   "metadata": {
    "collapsed": false,
    "ExecuteTime": {
     "start_time": "2023-04-28T18:16:40.550989Z",
     "end_time": "2023-04-28T18:16:40.606282Z"
    }
   }
  },
  {
   "cell_type": "code",
   "execution_count": null,
   "outputs": [],
   "source": [
    "# 预测\n",
    "predictions = model_categorical.predict(test_cellType_generator)\n",
    "\n",
    "# 获取预测标签\n",
    "predicted_labels = np.argmax(predictions, axis=-1)\n",
    "\n",
    "# 计算准确度\n",
    "true_labels = test_cellType_generator.classes\n",
    "accuracy = accuracy_score(true_labels, predicted_labels)\n",
    "print(f\"Accuracy: {accuracy}\")\n",
    "\n",
    "# 计算损失\n",
    "y_true = tf.keras.utils.to_categorical(true_labels, num_classes=4) # 根据您的类别数量更改 num_classes\n",
    "loss = tf.reduce_mean(tf.keras.losses.categorical_crossentropy(y_true, predictions))\n",
    "print(f\"Loss: {loss}\")\n"
   ],
   "metadata": {
    "collapsed": false
   }
  },
  {
   "cell_type": "code",
   "execution_count": null,
   "outputs": [],
   "source": [
    "model_categorical.save('saved_model/model_categorical')"
   ],
   "metadata": {
    "collapsed": false,
    "ExecuteTime": {
     "start_time": "2023-04-27T17:31:24.689438Z",
     "end_time": "2023-04-27T17:31:25.883402Z"
    }
   }
  },
  {
   "cell_type": "markdown",
   "source": [
    "# DI/HD 使用data_labels_extraData对多分类的模型进行增强\n",
    "通过半监督学习。我们将采用UDA。\n",
    "首先先获取额外的数据集并且进行相关处理。\n",
    "我们从数据集可以观察到，没有癌症在多分类中为2。所以我们可以将不是癌症的样本之间指定其多分类的类别为2."
   ],
   "metadata": {
    "collapsed": false
   }
  },
  {
   "cell_type": "code",
   "execution_count": null,
   "outputs": [],
   "source": [
    "model_categorical = tf.keras.models.load_model('saved_model/model_categorical')\n",
    "data_extra = pd.read_csv('./Image_classification_data/data_labels_extraData.csv')\n",
    "data_extra['isCancerous'] = data_extra['isCancerous'].astype(str)\n",
    "data_extra['cellType'] = np.nan\n",
    "data_extra.loc[data_extra['isCancerous'] == '1', 'cellType'] = 2\n",
    "data_extra_unlabeled = data_extra[data_extra['cellType'].isna()]\n",
    "data_extra_labeled = data_extra[data_extra['cellType'] == 2]\n",
    "undivided_train_data = pd.concat([undivided_train_data, data_extra_labeled], axis=0).reset_index(drop=True)\n",
    "train_data, val_data = train_test_split(undivided_train_data, test_size=0.2, random_state=42)"
   ],
   "metadata": {
    "collapsed": false,
    "ExecuteTime": {
     "start_time": "2023-04-27T17:29:06.589270Z",
     "end_time": "2023-04-27T17:29:06.600317Z"
    }
   }
  },
  {
   "cell_type": "code",
   "execution_count": null,
   "outputs": [],
   "source": [
    "# cellType(多分类)的比例\n",
    "class_samples_cellType = train_data['cellType'].value_counts()\n",
    "total_samples = np.sum(class_samples_cellType)\n",
    "class_weights_cellType = total_samples / class_samples_cellType\n",
    "class_weight_dict_cellType = {int(k): v for k, v in class_weights_cellType.to_dict().items()}\n",
    "\n",
    "data_extra_unlabeled['isCancerous'] = data_extra_unlabeled['isCancerous'].astype(str)\n",
    "train_data['cellType'] = train_data['cellType'].astype(str)"
   ],
   "metadata": {
    "collapsed": false
   }
  },
  {
   "cell_type": "markdown",
   "source": [
    "重新生成新的train_generator"
   ],
   "metadata": {
    "collapsed": false
   }
  },
  {
   "cell_type": "code",
   "execution_count": null,
   "outputs": [],
   "source": [
    "tbatch_size = 32\n",
    "train_datagen = tf.keras.preprocessing.image.ImageDataGenerator(\n",
    "    rescale=1./255,\n",
    "    rotation_range=40,\n",
    "    width_shift_range=0.2,\n",
    "    height_shift_range=0.2,\n",
    "    shear_range=0.2,\n",
    "    zoom_range=0.2,\n",
    "    horizontal_flip=True,\n",
    "    vertical_flip=True,\n",
    "    fill_mode='nearest'\n",
    ")\n",
    "\n",
    "train_generator = train_datagen.flow_from_dataframe(\n",
    "    train_data,\n",
    "    directory='./Image_classification_data/patch_images',\n",
    "    x_col='ImageName',\n",
    "    y_col='cellType',\n",
    "    target_size=(27, 27),\n",
    "    batch_size=batch_size,\n",
    "    class_mode='categorical')\n",
    "\n",
    "unlabeled_datagen = tf.keras.preprocessing.image.ImageDataGenerator(\n",
    "    rescale=1./255,\n",
    "    rotation_range=40,\n",
    "    width_shift_range=0.2,\n",
    "    height_shift_range=0.2,\n",
    "    shear_range=0.2,\n",
    "    zoom_range=0.2,\n",
    "    horizontal_flip=True,\n",
    "    vertical_flip=True,\n",
    "    fill_mode='nearest'\n",
    ")\n",
    "\n",
    "unlabeled_generator = unlabeled_datagen.flow_from_dataframe(\n",
    "    data_extra_unlabeled,\n",
    "    directory='./Image_classification_data/patch_images',\n",
    "    x_col='ImageName',\n",
    "    y_col='isCancerous', # 我们并不关心y_col。只是为了防止报错\n",
    "    target_size=(27, 27),\n",
    "    batch_size=batch_size,\n",
    "    class_mode='categorical')\n",
    "\n",
    "val_datagen = tf.keras.preprocessing.image.ImageDataGenerator(\n",
    "    rescale=1./255\n",
    ")\n",
    "\n",
    "test_data['cellType'] = test_data['cellType'].astype(str)\n",
    "validation_cellType_generator = val_datagen.flow_from_dataframe(\n",
    "    val_data,\n",
    "    directory='./Image_classification_data/patch_images',\n",
    "    x_col='ImageName',\n",
    "    y_col='cellType',\n",
    "    target_size=(27, 27),\n",
    "    batch_size=batch_size,\n",
    "    class_mode='categorical')"
   ],
   "metadata": {
    "collapsed": false
   }
  },
  {
   "cell_type": "markdown",
   "source": [
    "## UDA实现"
   ],
   "metadata": {
    "collapsed": false
   }
  },
  {
   "cell_type": "code",
   "execution_count": null,
   "outputs": [],
   "source": [
    "# 定义数据增强策略\n",
    "data_augmentation = tf.keras.Sequential([\n",
    "    tf.keras.layers.RandomFlip(\"horizontal\"),\n",
    "    tf.keras.layers.RandomFlip(\"vertical\"),\n",
    "    tf.keras.layers.RandomRotation(0.1),\n",
    "    tf.keras.layers.RandomTranslation(height_factor=(-0.1, 0.1), width_factor=(-0.1, 0.1)),\n",
    "    tf.keras.layers.RandomZoom(height_factor=(-0.1, 0.1), width_factor=(-0.1, 0.1)),\n",
    "    tf.keras.layers.RandomContrast(factor=(0.8, 1.2)),\n",
    "    tf.keras.layers.RandomBrightness(factor=0.1),\n",
    "])"
   ],
   "metadata": {
    "collapsed": false
   }
  },
  {
   "cell_type": "code",
   "execution_count": null,
   "outputs": [],
   "source": [
    "def apply_uda(x_batch, y_batch, x_unlabeled, model, optimizer, training=True, class_weight_dict=None):\n",
    "    x_unlabeled_augmented = None\n",
    "    if x_unlabeled is not None:\n",
    "        # 对无标签数据进行数据增强\n",
    "        x_unlabeled_augmented = data_augmentation(x_unlabeled)\n",
    "\n",
    "    # 计算模型在原始无标签数据和增强无标签数据上的输出\n",
    "    with tf.GradientTape() as tape:\n",
    "        y_pred_labeled = model(x_batch)\n",
    "        if x_unlabeled is not None:\n",
    "            y_pred_unlabeled = model(x_unlabeled)\n",
    "            y_pred_unlabeled_augmented = model(x_unlabeled_augmented)\n",
    "\n",
    "        # 计算有监督损失\n",
    "        # 如果是训练并且给定了类别权重，则根据权重计算损失。\n",
    "        if class_weight_dict is not None and training:\n",
    "            sample_weights = tf.gather(class_weight_dict, tf.argmax(y_batch, axis=-1))\n",
    "            supervised_loss = tf.reduce_mean(tf.keras.losses.categorical_crossentropy(y_batch, y_pred_labeled) * sample_weights)\n",
    "        else:\n",
    "            supervised_loss = tf.reduce_mean(tf.keras.losses.categorical_crossentropy(y_batch, y_pred_labeled))\n",
    "\n",
    "        # 如果提供了无标签数据，则计算一致性损失，(半监督学习)\n",
    "        if x_unlabeled is not None:\n",
    "            consistency_loss = tf.reduce_mean(tf.keras.losses.mean_squared_error(y_pred_unlabeled, y_pred_unlabeled_augmented))\n",
    "            total_loss = supervised_loss + consistency_weight * consistency_loss\n",
    "        else:\n",
    "            total_loss = supervised_loss\n",
    "\n",
    "        # 计算准确度\n",
    "        accuracy = tf.keras.metrics.categorical_accuracy(y_batch, y_pred_labeled)\n",
    "\n",
    "        if training:\n",
    "            # 反向传播和优化\n",
    "            grads = tape.gradient(total_loss, model_categorical.trainable_variables)\n",
    "            optimizer.apply_gradients(zip(grads, model_categorical.trainable_variables))\n",
    "    return total_loss, supervised_loss, consistency_loss if x_unlabeled is not None else None, accuracy"
   ],
   "metadata": {
    "collapsed": false
   }
  },
  {
   "cell_type": "markdown",
   "source": [
    "### 训练半监督"
   ],
   "metadata": {
    "collapsed": false
   }
  },
  {
   "cell_type": "code",
   "execution_count": null,
   "outputs": [],
   "source": [
    "consistency_weight = 1\n",
    "optimizer = tf.keras.optimizers.legacy.Adam(learning_rate=1e-08)\n",
    "epochs = 20\n",
    "min_val_loss = float('inf')\n",
    "num_epochs_no_improvement = 0\n",
    "current_learning_rate = optimizer.learning_rate.numpy()\n",
    "history = {\"loss\": [], \"val_loss\": [], \"accuracy\": [], \"val_accuracy\": []}\n",
    "\n",
    "for epoch in range(epochs):\n",
    "    print(f\"Epoch {epoch + 1}/{epochs}\")\n",
    "\n",
    "    total_loss = 0\n",
    "    total_supervised_loss = 0\n",
    "    total_consistency_loss = 0\n",
    "    total_accuracy = 0\n",
    "    steps = 0\n",
    "\n",
    "    with tqdm(total=round((len(data_extra_unlabeled) if len(data_extra_unlabeled) > len(train_data) else len(train_data)) / batch_size),\n",
    "              desc=\"Training\", ncols=100) as progress_bar:\n",
    "        for (x_batch, y_batch), (x_unlabeled, _) in zip(train_generator, unlabeled_generator):\n",
    "            progress_bar.update(1)\n",
    "            loss, supervised_loss, consistency_loss, accuracy = apply_uda(x_batch,\n",
    "                                                                          y_batch,\n",
    "                                                                          x_unlabeled,\n",
    "                                                                          model_categorical,\n",
    "                                                                          optimizer,\n",
    "                                                                          class_weight_dict_cellType)\n",
    "            total_loss += loss\n",
    "            total_supervised_loss += supervised_loss\n",
    "            total_consistency_loss += consistency_loss\n",
    "            total_accuracy += tf.reduce_mean(accuracy)\n",
    "            steps += 1\n",
    "            # 检查是否已经处理了所有批次\n",
    "            if steps * batch_size >= len(train_data):\n",
    "                break\n",
    "\n",
    "        # 计算并打印平均损失和准确率\n",
    "        avg_loss = total_loss / steps\n",
    "        avg_supervised_loss = total_supervised_loss / steps\n",
    "        avg_consistency_loss = total_consistency_loss / steps\n",
    "        avg_accuracy = total_accuracy / steps\n",
    "        history[\"loss\"].append(avg_loss.numpy())\n",
    "        history[\"accuracy\"].append(avg_accuracy.numpy())\n",
    "        print(f\" - loss: {avg_loss.numpy():.4f}, supervised_loss: {avg_supervised_loss.numpy():.4f}, consistency_loss: {avg_consistency_loss.numpy():.4f}, accuracy: {avg_accuracy.numpy():.4f}\")\n",
    "\n",
    "    total_loss = 0\n",
    "    total_accuracy = 0\n",
    "    steps = 0\n",
    "    for x_batch, y_batch in validation_cellType_generator:\n",
    "        loss, _, _, accuracy = apply_uda(x_batch, y_batch, None, model_categorical, optimizer, False)\n",
    "        total_loss += loss\n",
    "        total_accuracy += tf.reduce_mean(accuracy)\n",
    "        steps += 1\n",
    "\n",
    "        if steps * batch_size >= len(test_data):\n",
    "            break\n",
    "\n",
    "    avg_loss = total_loss / steps\n",
    "    avg_accuracy = total_accuracy / steps\n",
    "    history[\"val_loss\"].append(avg_loss.numpy())\n",
    "    history[\"val_accuracy\"].append(avg_accuracy.numpy())\n",
    "    print(f\"Validation set： - loss: {avg_loss.numpy():.4f}, accuracy: {avg_accuracy.numpy():.4f}, learning rate: {current_learning_rate}\")\n",
    "\n",
    "    # 检查是否需要更新学习率\n",
    "    if avg_loss < min_val_loss:\n",
    "        min_val_loss = loss\n",
    "        num_epochs_no_improvement = 0\n",
    "    else:\n",
    "        num_epochs_no_improvement += 1\n",
    "\n",
    "    if num_epochs_no_improvement >= 3:\n",
    "        current_learning_rate *= np.sqrt(0.1)\n",
    "        current_learning_rate = max(current_learning_rate, 0.5e-15)\n",
    "        optimizer.learning_rate.assign(current_learning_rate)\n",
    "        num_epochs_no_improvement = 0"
   ],
   "metadata": {
    "collapsed": false
   }
  }
 ],
 "metadata": {
  "kernelspec": {
   "display_name": "Python 3",
   "language": "python",
   "name": "python3"
  },
  "language_info": {
   "codemirror_mode": {
    "name": "ipython",
    "version": 2
   },
   "file_extension": ".py",
   "mimetype": "text/x-python",
   "name": "python",
   "nbconvert_exporter": "python",
   "pygments_lexer": "ipython2",
   "version": "2.7.6"
  }
 },
 "nbformat": 4,
 "nbformat_minor": 0
}
