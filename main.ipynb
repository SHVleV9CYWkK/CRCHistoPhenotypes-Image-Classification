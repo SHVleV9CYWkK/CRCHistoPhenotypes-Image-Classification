{
 "cells": [
  {
   "cell_type": "markdown",
   "source": [
    "导包"
   ],
   "metadata": {
    "collapsed": false
   }
  },
  {
   "cell_type": "code",
   "execution_count": 1,
   "metadata": {
    "collapsed": true,
    "ExecuteTime": {
     "start_time": "2023-05-03T19:41:29.609566Z",
     "end_time": "2023-05-03T19:41:32.203417Z"
    }
   },
   "outputs": [],
   "source": [
    "import pandas as pd\n",
    "import matplotlib.pyplot as plt\n",
    "import numpy as np\n",
    "import tensorflow as tf\n",
    "from sklearn.model_selection import train_test_split\n",
    "from tqdm import tqdm\n",
    "import math\n",
    "import random"
   ]
  },
  {
   "cell_type": "markdown",
   "source": [
    "获取主数据集\n",
    "test_data 为不可见数据集"
   ],
   "metadata": {
    "collapsed": false
   }
  },
  {
   "cell_type": "code",
   "execution_count": 2,
   "outputs": [],
   "source": [
    "seed_value = 42\n",
    "np.random.seed(seed_value)\n",
    "tf.random.set_seed(seed_value)\n",
    "random.seed(seed_value)\n",
    "\n",
    "data = pd.read_csv('./Image_classification_data/data_labels_mainData.csv')\n",
    "data['isCancerous'] = data['isCancerous'].astype(str)\n",
    "data['cellType'] = data['cellType'].astype(str)\n",
    "undivided_train_data, test_data = train_test_split(data, test_size=0.2, random_state=42)\n",
    "train_data, val_data = train_test_split(undivided_train_data, test_size=0.2, random_state=42)"
   ],
   "metadata": {
    "collapsed": false,
    "ExecuteTime": {
     "start_time": "2023-05-03T19:41:33.240363Z",
     "end_time": "2023-05-03T19:41:33.261655Z"
    }
   }
  },
  {
   "cell_type": "code",
   "execution_count": 3,
   "outputs": [
    {
     "data": {
      "text/plain": "([0, 1], [Text(0, 0, '0'), Text(1, 0, '1')])"
     },
     "execution_count": 3,
     "metadata": {},
     "output_type": "execute_result"
    },
    {
     "data": {
      "text/plain": "<Figure size 432x288 with 1 Axes>",
      "image/png": "[encoded data removed]"
     },
     "metadata": {
      "needs_background": "light"
     },
     "output_type": "display_data"
    }
   ],
   "source": [
    "plt.hist(train_data['isCancerous'], alpha=0.3, color='b', label='Train', density=True)\n",
    "plt.hist(test_data['isCancerous'], alpha=0.3, color='r', label='Test',  density=True)\n",
    "plt.hist(val_data['isCancerous'], alpha=0.3, color='g', label='Val',  density=True)\n",
    "plt.title('isCancerous')\n",
    "plt.xticks(rotation='vertical')"
   ],
   "metadata": {
    "collapsed": false,
    "ExecuteTime": {
     "start_time": "2023-05-03T19:41:35.298007Z",
     "end_time": "2023-05-03T19:41:35.448089Z"
    }
   }
  },
  {
   "cell_type": "code",
   "execution_count": 4,
   "outputs": [
    {
     "data": {
      "text/plain": "([0, 1, 2, 3],\n [Text(0, 0, '1'), Text(1, 0, '0'), Text(2, 0, '2'), Text(3, 0, '3')])"
     },
     "execution_count": 4,
     "metadata": {},
     "output_type": "execute_result"
    },
    {
     "data": {
      "text/plain": "<Figure size 432x288 with 1 Axes>",
      "image/png": "[encoded data removed]"
     },
     "metadata": {
      "needs_background": "light"
     },
     "output_type": "display_data"
    }
   ],
   "source": [
    "plt.hist(train_data['cellType'], alpha=0.3, color='b', label='Train', density=True)\n",
    "plt.hist(test_data['cellType'], alpha=0.3, color='r', label='Test',  density=True)\n",
    "plt.hist(val_data['cellType'], alpha=0.3, color='g', density=True)\n",
    "plt.title('cellType')\n",
    "plt.xticks(rotation='vertical')"
   ],
   "metadata": {
    "collapsed": false,
    "ExecuteTime": {
     "start_time": "2023-05-03T19:41:36.728664Z",
     "end_time": "2023-05-03T19:41:36.798849Z"
    }
   }
  },
  {
   "cell_type": "code",
   "execution_count": 5,
   "outputs": [],
   "source": [
    "class_samples_isCancerous = train_data['isCancerous'].value_counts()\n",
    "total_samples = np.sum(class_samples_isCancerous)\n",
    "class_weights_isCancerous = total_samples / class_samples_isCancerous\n",
    "class_weight_dict_isCancerous = {int(k): v for k, v in class_weights_isCancerous.to_dict().items()}\n",
    "\n",
    "class_samples_cellType = train_data['cellType'].value_counts()\n",
    "total_samples = np.sum(class_samples_cellType)\n",
    "class_weights_cellType = total_samples / class_samples_cellType\n",
    "class_weight_dict_cellType = {int(k): v for k, v in class_weights_cellType.to_dict().items()}"
   ],
   "metadata": {
    "collapsed": false,
    "ExecuteTime": {
     "start_time": "2023-05-03T19:41:38.226877Z",
     "end_time": "2023-05-03T19:41:38.229533Z"
    }
   }
  },
  {
   "cell_type": "code",
   "execution_count": 6,
   "outputs": [],
   "source": [
    "class CustomImageDataGenerator(tf.keras.preprocessing.image.ImageDataGenerator):\n",
    "    def __init__(self, num_augmentations=3, *args, **kwargs):\n",
    "        super().__init__(*args, **kwargs)\n",
    "        self.num_augmentations = num_augmentations\n",
    "\n",
    "    def apply_transform(self, x, transform_parameters):\n",
    "        augmentations = [\n",
    "            \"theta\",\n",
    "            \"tx\",\n",
    "            \"ty\",\n",
    "            \"shear\",\n",
    "            \"zx\",\n",
    "            \"zy\",\n",
    "            \"flip_horizontal\",\n",
    "            \"flip_vertical\",\n",
    "            \"brightness\",\n",
    "        ]\n",
    "\n",
    "        selected_augmentations = random.sample(augmentations, self.num_augmentations)\n",
    "        filtered_transform_parameters = {\n",
    "            key: value for key, value in transform_parameters.items() if key in selected_augmentations\n",
    "        }\n",
    "\n",
    "        return super().apply_transform(x, filtered_transform_parameters)\n",
    "\n",
    "train_datagen = CustomImageDataGenerator(\n",
    "    num_augmentations=3,\n",
    "    rescale=1./255,\n",
    "    rotation_range=40,\n",
    "    width_shift_range=0.2,\n",
    "    height_shift_range=0.2,\n",
    "    shear_range=0.2,\n",
    "    zoom_range=0.2,\n",
    "    brightness_range=[0.2,1.0],\n",
    "    horizontal_flip=True,\n",
    "    vertical_flip=True,\n",
    "    fill_mode='nearest'\n",
    ")"
   ],
   "metadata": {
    "collapsed": false,
    "ExecuteTime": {
     "start_time": "2023-05-03T19:41:39.554444Z",
     "end_time": "2023-05-03T19:41:39.557858Z"
    }
   }
  },
  {
   "cell_type": "code",
   "execution_count": 7,
   "outputs": [
    {
     "name": "stdout",
     "output_type": "stream",
     "text": [
      "Found 6332 validated image filenames belonging to 2 classes.\n",
      "Found 1584 validated image filenames belonging to 2 classes.\n",
      "Found 1980 validated image filenames belonging to 2 classes.\n"
     ]
    }
   ],
   "source": [
    "batch_size = 32\n",
    "val_datagen = tf.keras.preprocessing.image.ImageDataGenerator(\n",
    "    rescale=1./255\n",
    ")\n",
    "\n",
    "test_datagen = tf.keras.preprocessing.image.ImageDataGenerator(\n",
    "    rescale=1./255\n",
    ")\n",
    "\n",
    "train_isCancerous_generator = train_datagen.flow_from_dataframe(\n",
    "    train_data,\n",
    "    directory='./Image_classification_data/patch_images',\n",
    "    x_col='ImageName',\n",
    "    y_col='isCancerous',\n",
    "    target_size=(27, 27),\n",
    "    batch_size=batch_size,\n",
    "    class_mode='binary')\n",
    "\n",
    "val_isCancerous_generator = val_datagen.flow_from_dataframe(\n",
    "    val_data,\n",
    "    directory='./Image_classification_data/patch_images',\n",
    "    x_col='ImageName',\n",
    "    y_col='isCancerous',\n",
    "    target_size=(27, 27),\n",
    "    batch_size=batch_size,\n",
    "    class_mode='binary')\n",
    "\n",
    "test_isCancerous_generator = test_datagen.flow_from_dataframe(\n",
    "    test_data,\n",
    "    directory='./Image_classification_data/patch_images',\n",
    "    x_col='ImageName',\n",
    "    y_col='isCancerous',\n",
    "    target_size=(27, 27),\n",
    "    batch_size=batch_size,\n",
    "    class_mode='binary')"
   ],
   "metadata": {
    "collapsed": false,
    "ExecuteTime": {
     "start_time": "2023-05-03T19:41:46.381782Z",
     "end_time": "2023-05-03T19:41:46.480070Z"
    }
   }
  },
  {
   "cell_type": "code",
   "execution_count": 8,
   "outputs": [
    {
     "name": "stdout",
     "output_type": "stream",
     "text": [
      "Found 6332 validated image filenames belonging to 4 classes.\n",
      "Found 1584 validated image filenames belonging to 4 classes.\n",
      "Found 1980 validated image filenames belonging to 4 classes.\n"
     ]
    }
   ],
   "source": [
    "train_cellType_generator = train_datagen.flow_from_dataframe(\n",
    "    train_data,\n",
    "    directory='./Image_classification_data/patch_images',\n",
    "    x_col='ImageName',\n",
    "    y_col='cellType',\n",
    "    target_size=(27, 27),\n",
    "    batch_size=batch_size,\n",
    "    class_mode='categorical')\n",
    "\n",
    "val_cellType_generator = val_datagen.flow_from_dataframe(\n",
    "    val_data,\n",
    "    directory='./Image_classification_data/patch_images',\n",
    "    x_col='ImageName',\n",
    "    y_col='cellType',\n",
    "    target_size=(27, 27),\n",
    "    batch_size=batch_size,\n",
    "    class_mode='categorical')\n",
    "\n",
    "test_cellType_generator = test_datagen.flow_from_dataframe(\n",
    "    test_data,\n",
    "    directory='./Image_classification_data/patch_images',\n",
    "    x_col='ImageName',\n",
    "    y_col='cellType',\n",
    "    target_size=(27, 27),\n",
    "    batch_size=batch_size,\n",
    "    class_mode='categorical')"
   ],
   "metadata": {
    "collapsed": false,
    "ExecuteTime": {
     "start_time": "2023-05-03T19:41:48.585211Z",
     "end_time": "2023-05-03T19:41:48.696551Z"
    }
   }
  },
  {
   "cell_type": "code",
   "execution_count": 15,
   "outputs": [],
   "source": [
    "class F1Score(tf.keras.metrics.Metric):\n",
    "    def __init__(self, name='f1_score', **kwargs):\n",
    "        super().__init__(name=name, **kwargs)\n",
    "        self.precision = tf.keras.metrics.Precision()\n",
    "        self.recall = tf.keras.metrics.Recall()\n",
    "\n",
    "    def update_state(self, y_true, y_pred, sample_weight=None):\n",
    "        self.precision.update_state(y_true, y_pred, sample_weight)\n",
    "        self.recall.update_state(y_true, y_pred, sample_weight)\n",
    "\n",
    "    def result(self):\n",
    "        precision = self.precision.result()\n",
    "        recall = self.recall.result()\n",
    "        return 2 * ((precision * recall) / (precision + recall + tf.keras.backend.epsilon()))\n",
    "\n",
    "    def reset_state(self):\n",
    "        self.precision.reset_states()\n",
    "        self.recall.reset_states()\n",
    "\n",
    "    def get_config(self):\n",
    "        return super().get_config()\n",
    "\n",
    "    @classmethod\n",
    "    def from_config(cls, config):\n",
    "        return cls(**config)"
   ],
   "metadata": {
    "collapsed": false,
    "ExecuteTime": {
     "start_time": "2023-05-03T19:43:47.597516Z",
     "end_time": "2023-05-03T19:43:47.602610Z"
    }
   }
  },
  {
   "cell_type": "code",
   "execution_count": 21,
   "outputs": [],
   "source": [
    "input_shape = (27, 27, 3)\n",
    "num_classes = 4\n",
    "l2_coeff = 0.01\n",
    "baseline_binary = tf.keras.models.Sequential([\n",
    "    tf.keras.layers.Flatten(),\n",
    "    tf.keras.layers.Dense(512, activation='relu'),\n",
    "    tf.keras.layers.Dense(512, activation='relu'),\n",
    "    tf.keras.layers.Dense(1, activation='sigmoid')\n",
    "])"
   ],
   "metadata": {
    "collapsed": false,
    "ExecuteTime": {
     "start_time": "2023-05-03T19:53:10.801070Z",
     "end_time": "2023-05-03T19:53:10.807865Z"
    }
   }
  },
  {
   "cell_type": "code",
   "execution_count": 33,
   "outputs": [],
   "source": [
    "baseline_categorical = tf.keras.models.Sequential([\n",
    "    tf.keras.layers.Flatten(),\n",
    "    tf.keras.layers.Dense(512, activation='relu'),\n",
    "    tf.keras.layers.Dense(512, activation='relu'),\n",
    "    tf.keras.layers.Dense(num_classes, activation='softmax')\n",
    "])"
   ],
   "metadata": {
    "collapsed": false,
    "ExecuteTime": {
     "start_time": "2023-05-03T20:06:16.616044Z",
     "end_time": "2023-05-03T20:06:16.621600Z"
    }
   }
  },
  {
   "cell_type": "code",
   "execution_count": 34,
   "outputs": [],
   "source": [
    "baseline_binary.compile(loss='binary_crossentropy',\n",
    "                     optimizer=tf.keras.optimizers.legacy.Adam(learning_rate=0.0001),\n",
    "                     metrics=['accuracy',\n",
    "                              tf.keras.metrics.Precision(name='precision'),\n",
    "                              tf.keras.metrics.Recall(name='recall'),\n",
    "                              F1Score(name='f1_score')])\n",
    "\n",
    "baseline_categorical.compile(loss='categorical_crossentropy',\n",
    "                          optimizer=tf.keras.optimizers.legacy.Adam(learning_rate=0.0005),\n",
    "                          metrics=['accuracy',\n",
    "                                   tf.keras.metrics.Precision(name='precision'),\n",
    "                                   tf.keras.metrics.Recall(name='recall'),\n",
    "                                   F1Score(name='f1_score')])"
   ],
   "metadata": {
    "collapsed": false,
    "ExecuteTime": {
     "start_time": "2023-05-03T20:06:17.947530Z",
     "end_time": "2023-05-03T20:06:17.972695Z"
    }
   }
  },
  {
   "cell_type": "code",
   "execution_count": 23,
   "outputs": [
    {
     "name": "stdout",
     "output_type": "stream",
     "text": [
      "Epoch 1/100\n",
      "197/197 [==============================] - 3s 13ms/step - loss: 1.1575 - accuracy: 0.7078 - precision: 0.6383 - recall: 0.6854 - f1_score: 0.6610 - val_loss: 0.4059 - val_accuracy: 0.8425 - val_precision: 0.8214 - val_recall: 0.7869 - val_f1_score: 0.8038\n",
      "Epoch 2/100\n",
      "197/197 [==============================] - 2s 12ms/step - loss: 0.9073 - accuracy: 0.8060 - precision: 0.7453 - recall: 0.8117 - f1_score: 0.7771 - val_loss: 0.3612 - val_accuracy: 0.8348 - val_precision: 0.8615 - val_recall: 0.7094 - val_f1_score: 0.7781\n",
      "Epoch 3/100\n",
      "197/197 [==============================] - 3s 13ms/step - loss: 0.8533 - accuracy: 0.8151 - precision: 0.7488 - recall: 0.8380 - f1_score: 0.7909 - val_loss: 0.3381 - val_accuracy: 0.8527 - val_precision: 0.8447 - val_recall: 0.7857 - val_f1_score: 0.8142\n",
      "Epoch 4/100\n",
      "197/197 [==============================] - 2s 12ms/step - loss: 0.8058 - accuracy: 0.8297 - precision: 0.7667 - recall: 0.8500 - f1_score: 0.8062 - val_loss: 0.3884 - val_accuracy: 0.8189 - val_precision: 0.7096 - val_recall: 0.9439 - val_f1_score: 0.8102\n",
      "Epoch 5/100\n",
      "197/197 [==============================] - 2s 12ms/step - loss: 0.8227 - accuracy: 0.8243 - precision: 0.7598 - recall: 0.8452 - f1_score: 0.8002 - val_loss: 0.4071 - val_accuracy: 0.8099 - val_precision: 0.8811 - val_recall: 0.6211 - val_f1_score: 0.7286\n",
      "Epoch 6/100\n",
      "197/197 [==============================] - 2s 12ms/step - loss: 0.8055 - accuracy: 0.8240 - precision: 0.7603 - recall: 0.8434 - f1_score: 0.7997 - val_loss: 0.3229 - val_accuracy: 0.8616 - val_precision: 0.8362 - val_recall: 0.8219 - val_f1_score: 0.8290\n",
      "Epoch 7/100\n",
      "197/197 [==============================] - 2s 12ms/step - loss: 0.7780 - accuracy: 0.8349 - precision: 0.7701 - recall: 0.8615 - f1_score: 0.8133 - val_loss: 0.3318 - val_accuracy: 0.8508 - val_precision: 0.7709 - val_recall: 0.9051 - val_f1_score: 0.8326\n",
      "Epoch 8/100\n",
      "197/197 [==============================] - 2s 12ms/step - loss: 0.8081 - accuracy: 0.8224 - precision: 0.7543 - recall: 0.8516 - f1_score: 0.8000 - val_loss: 0.3573 - val_accuracy: 0.8361 - val_precision: 0.7391 - val_recall: 0.9268 - val_f1_score: 0.8224\n",
      "Epoch 9/100\n",
      "197/197 [==============================] - 2s 12ms/step - loss: 0.7866 - accuracy: 0.8279 - precision: 0.7592 - recall: 0.8588 - f1_score: 0.8059 - val_loss: 0.3235 - val_accuracy: 0.8616 - val_precision: 0.8384 - val_recall: 0.8214 - val_f1_score: 0.8298\n",
      "Epoch 10/100\n",
      "197/197 [==============================] - 2s 12ms/step - loss: 0.7636 - accuracy: 0.8324 - precision: 0.7607 - recall: 0.8710 - f1_score: 0.8122 - val_loss: 0.3172 - val_accuracy: 0.8603 - val_precision: 0.8161 - val_recall: 0.8505 - val_f1_score: 0.8330\n",
      "Epoch 11/100\n",
      "197/197 [==============================] - 2s 12ms/step - loss: 0.7953 - accuracy: 0.8265 - precision: 0.7593 - recall: 0.8535 - f1_score: 0.8037 - val_loss: 0.4625 - val_accuracy: 0.7876 - val_precision: 0.9096 - val_recall: 0.5335 - val_f1_score: 0.6726\n",
      "Epoch 12/100\n",
      "197/197 [==============================] - 2s 12ms/step - loss: 0.7873 - accuracy: 0.8290 - precision: 0.7605 - recall: 0.8610 - f1_score: 0.8076 - val_loss: 0.3419 - val_accuracy: 0.8469 - val_precision: 0.7544 - val_recall: 0.9283 - val_f1_score: 0.8324\n",
      "Epoch 13/100\n",
      "197/197 [==============================] - 2s 12ms/step - loss: 0.7579 - accuracy: 0.8376 - precision: 0.7692 - recall: 0.8720 - f1_score: 0.8174 - val_loss: 0.3891 - val_accuracy: 0.8240 - val_precision: 0.8915 - val_recall: 0.6506 - val_f1_score: 0.7522\n",
      "Epoch 14/100\n",
      "197/197 [==============================] - 2s 12ms/step - loss: 0.7465 - accuracy: 0.8402 - precision: 0.7736 - recall: 0.8717 - f1_score: 0.8198 - val_loss: 0.3112 - val_accuracy: 0.8654 - val_precision: 0.8349 - val_recall: 0.8388 - val_f1_score: 0.8368\n",
      "Epoch 15/100\n",
      "197/197 [==============================] - 2s 12ms/step - loss: 0.7498 - accuracy: 0.8363 - precision: 0.7676 - recall: 0.8713 - f1_score: 0.8162 - val_loss: 0.3113 - val_accuracy: 0.8635 - val_precision: 0.8025 - val_recall: 0.8849 - val_f1_score: 0.8417\n",
      "Epoch 16/100\n",
      "197/197 [==============================] - 3s 13ms/step - loss: 0.7446 - accuracy: 0.8403 - precision: 0.7716 - recall: 0.8762 - f1_score: 0.8205 - val_loss: 0.3163 - val_accuracy: 0.8699 - val_precision: 0.8741 - val_recall: 0.7981 - val_f1_score: 0.8344\n",
      "Epoch 17/100\n",
      "197/197 [==============================] - 2s 12ms/step - loss: 0.7453 - accuracy: 0.8411 - precision: 0.7737 - recall: 0.8748 - f1_score: 0.8212 - val_loss: 0.3206 - val_accuracy: 0.8546 - val_precision: 0.7757 - val_recall: 0.9064 - val_f1_score: 0.8360\n",
      "Epoch 18/100\n",
      "197/197 [==============================] - 2s 12ms/step - loss: 0.7509 - accuracy: 0.8389 - precision: 0.7713 - recall: 0.8715 - f1_score: 0.8183 - val_loss: 0.3050 - val_accuracy: 0.8629 - val_precision: 0.8011 - val_recall: 0.8847 - val_f1_score: 0.8409\n",
      "Epoch 19/100\n",
      "197/197 [==============================] - 3s 13ms/step - loss: 0.7423 - accuracy: 0.8375 - precision: 0.7697 - recall: 0.8700 - f1_score: 0.8168 - val_loss: 0.3006 - val_accuracy: 0.8686 - val_precision: 0.8215 - val_recall: 0.8676 - val_f1_score: 0.8439\n",
      "Epoch 20/100\n",
      "197/197 [==============================] - 2s 13ms/step - loss: 0.7317 - accuracy: 0.8443 - precision: 0.7783 - recall: 0.8758 - f1_score: 0.8242 - val_loss: 0.3133 - val_accuracy: 0.8648 - val_precision: 0.7879 - val_recall: 0.9158 - val_f1_score: 0.8470\n",
      "Epoch 21/100\n",
      "197/197 [==============================] - 2s 12ms/step - loss: 0.7408 - accuracy: 0.8398 - precision: 0.7744 - recall: 0.8685 - f1_score: 0.8188 - val_loss: 0.3089 - val_accuracy: 0.8667 - val_precision: 0.8579 - val_recall: 0.8084 - val_f1_score: 0.8324\n",
      "Epoch 22/100\n",
      "197/197 [==============================] - 3s 13ms/step - loss: 0.7195 - accuracy: 0.8465 - precision: 0.7819 - recall: 0.8762 - f1_score: 0.8264 - val_loss: 0.2991 - val_accuracy: 0.8667 - val_precision: 0.8321 - val_recall: 0.8463 - val_f1_score: 0.8391\n",
      "Epoch 23/100\n",
      "197/197 [==============================] - 3s 13ms/step - loss: 0.6993 - accuracy: 0.8529 - precision: 0.7867 - recall: 0.8877 - f1_score: 0.8341 - val_loss: 0.3147 - val_accuracy: 0.8616 - val_precision: 0.7801 - val_recall: 0.9203 - val_f1_score: 0.8444\n",
      "Epoch 24/100\n",
      "197/197 [==============================] - 2s 12ms/step - loss: 0.7301 - accuracy: 0.8470 - precision: 0.7839 - recall: 0.8745 - f1_score: 0.8267 - val_loss: 0.3021 - val_accuracy: 0.8705 - val_precision: 0.8039 - val_recall: 0.9051 - val_f1_score: 0.8515\n",
      "Epoch 25/100\n",
      "197/197 [==============================] - 2s 12ms/step - loss: 0.7263 - accuracy: 0.8389 - precision: 0.7723 - recall: 0.8712 - f1_score: 0.8188 - val_loss: 0.3181 - val_accuracy: 0.8661 - val_precision: 0.8737 - val_recall: 0.7866 - val_f1_score: 0.8279\n",
      "Epoch 26/100\n",
      "197/197 [==============================] - 2s 12ms/step - loss: 0.7233 - accuracy: 0.8468 - precision: 0.7830 - recall: 0.8751 - f1_score: 0.8265 - val_loss: 0.3044 - val_accuracy: 0.8661 - val_precision: 0.8522 - val_recall: 0.8122 - val_f1_score: 0.8317\n",
      "Epoch 27/100\n",
      "197/197 [==============================] - 2s 12ms/step - loss: 0.7070 - accuracy: 0.8489 - precision: 0.7843 - recall: 0.8788 - f1_score: 0.8288 - val_loss: 0.3086 - val_accuracy: 0.8648 - val_precision: 0.8605 - val_recall: 0.7988 - val_f1_score: 0.8285\n",
      "Epoch 28/100\n",
      "197/197 [==============================] - 2s 12ms/step - loss: 0.7112 - accuracy: 0.8476 - precision: 0.7850 - recall: 0.8745 - f1_score: 0.8273 - val_loss: 0.3323 - val_accuracy: 0.8552 - val_precision: 0.7597 - val_recall: 0.9455 - val_f1_score: 0.8425\n",
      "Epoch 29/100\n",
      "197/197 [==============================] - 2s 12ms/step - loss: 0.6985 - accuracy: 0.8503 - precision: 0.7843 - recall: 0.8843 - f1_score: 0.8313 - val_loss: 0.2943 - val_accuracy: 0.8737 - val_precision: 0.8369 - val_recall: 0.8602 - val_f1_score: 0.8484\n",
      "Epoch 30/100\n",
      "197/197 [==============================] - 2s 13ms/step - loss: 0.6841 - accuracy: 0.8548 - precision: 0.7949 - recall: 0.8787 - f1_score: 0.8347 - val_loss: 0.2939 - val_accuracy: 0.8705 - val_precision: 0.8259 - val_recall: 0.8658 - val_f1_score: 0.8454\n",
      "Epoch 31/100\n",
      "197/197 [==============================] - 2s 12ms/step - loss: 0.7020 - accuracy: 0.8498 - precision: 0.7874 - recall: 0.8752 - f1_score: 0.8290 - val_loss: 0.2965 - val_accuracy: 0.8705 - val_precision: 0.8149 - val_recall: 0.8847 - val_f1_score: 0.8484\n",
      "Epoch 32/100\n",
      "197/197 [==============================] - 3s 13ms/step - loss: 0.6883 - accuracy: 0.8544 - precision: 0.7913 - recall: 0.8833 - f1_score: 0.8347 - val_loss: 0.2954 - val_accuracy: 0.8699 - val_precision: 0.8481 - val_recall: 0.8323 - val_f1_score: 0.8401\n",
      "Epoch 33/100\n",
      "197/197 [==============================] - 2s 12ms/step - loss: 0.6840 - accuracy: 0.8546 - precision: 0.7943 - recall: 0.8789 - f1_score: 0.8345 - val_loss: 0.2894 - val_accuracy: 0.8807 - val_precision: 0.8324 - val_recall: 0.8903 - val_f1_score: 0.8603\n",
      "Epoch 34/100\n",
      "197/197 [==============================] - 2s 12ms/step - loss: 0.6695 - accuracy: 0.8592 - precision: 0.8007 - recall: 0.8826 - f1_score: 0.8396 - val_loss: 0.3153 - val_accuracy: 0.8552 - val_precision: 0.7643 - val_recall: 0.9346 - val_f1_score: 0.8409\n",
      "Epoch 35/100\n",
      "197/197 [==============================] - 2s 12ms/step - loss: 0.6843 - accuracy: 0.8513 - precision: 0.7904 - recall: 0.8760 - f1_score: 0.8310 - val_loss: 0.3097 - val_accuracy: 0.8629 - val_precision: 0.7838 - val_recall: 0.9191 - val_f1_score: 0.8461\n",
      "Epoch 36/100\n",
      "197/197 [==============================] - 2s 12ms/step - loss: 0.6913 - accuracy: 0.8532 - precision: 0.7949 - recall: 0.8732 - f1_score: 0.8322 - val_loss: 0.2931 - val_accuracy: 0.8699 - val_precision: 0.8506 - val_recall: 0.8295 - val_f1_score: 0.8399\n",
      "Epoch 37/100\n",
      "197/197 [==============================] - 2s 12ms/step - loss: 0.6918 - accuracy: 0.8565 - precision: 0.7970 - recall: 0.8801 - f1_score: 0.8365 - val_loss: 0.3847 - val_accuracy: 0.8399 - val_precision: 0.8947 - val_recall: 0.6895 - val_f1_score: 0.7789\n",
      "Epoch 38/100\n",
      "197/197 [==============================] - 2s 12ms/step - loss: 0.6687 - accuracy: 0.8576 - precision: 0.7997 - recall: 0.8780 - f1_score: 0.8371 - val_loss: 0.3109 - val_accuracy: 0.8584 - val_precision: 0.7765 - val_recall: 0.9172 - val_f1_score: 0.8410\n",
      "Epoch 39/100\n",
      "197/197 [==============================] - 2s 12ms/step - loss: 0.6599 - accuracy: 0.8622 - precision: 0.8025 - recall: 0.8870 - f1_score: 0.8426 - val_loss: 0.2966 - val_accuracy: 0.8769 - val_precision: 0.8397 - val_recall: 0.8621 - val_f1_score: 0.8507\n",
      "Epoch 40/100\n",
      "197/197 [==============================] - 2s 12ms/step - loss: 0.6561 - accuracy: 0.8617 - precision: 0.8056 - recall: 0.8813 - f1_score: 0.8417 - val_loss: 0.2827 - val_accuracy: 0.8833 - val_precision: 0.8651 - val_recall: 0.8476 - val_f1_score: 0.8562\n",
      "Epoch 41/100\n",
      "197/197 [==============================] - 2s 12ms/step - loss: 0.6668 - accuracy: 0.8603 - precision: 0.7988 - recall: 0.8878 - f1_score: 0.8409 - val_loss: 0.3014 - val_accuracy: 0.8648 - val_precision: 0.7856 - val_recall: 0.9204 - val_f1_score: 0.8477\n",
      "Epoch 42/100\n",
      "197/197 [==============================] - 2s 12ms/step - loss: 0.6786 - accuracy: 0.8571 - precision: 0.7968 - recall: 0.8823 - f1_score: 0.8374 - val_loss: 0.2894 - val_accuracy: 0.8814 - val_precision: 0.8885 - val_recall: 0.8106 - val_f1_score: 0.8478\n",
      "Epoch 43/100\n",
      "197/197 [==============================] - 2s 12ms/step - loss: 0.6529 - accuracy: 0.8610 - precision: 0.8023 - recall: 0.8842 - f1_score: 0.8413 - val_loss: 0.2911 - val_accuracy: 0.8718 - val_precision: 0.8316 - val_recall: 0.8614 - val_f1_score: 0.8462\n",
      "Epoch 44/100\n",
      "197/197 [==============================] - 2s 12ms/step - loss: 0.6591 - accuracy: 0.8598 - precision: 0.8019 - recall: 0.8816 - f1_score: 0.8398 - val_loss: 0.2933 - val_accuracy: 0.8712 - val_precision: 0.8571 - val_recall: 0.8224 - val_f1_score: 0.8394\n",
      "Epoch 45/100\n",
      "197/197 [==============================] - 2s 12ms/step - loss: 0.6645 - accuracy: 0.8613 - precision: 0.8050 - recall: 0.8809 - f1_score: 0.8413 - val_loss: 0.2993 - val_accuracy: 0.8693 - val_precision: 0.8424 - val_recall: 0.8385 - val_f1_score: 0.8405\n",
      "Epoch 46/100\n",
      "197/197 [==============================] - 2s 13ms/step - loss: 0.6678 - accuracy: 0.8551 - precision: 0.7961 - recall: 0.8770 - f1_score: 0.8346 - val_loss: 0.2798 - val_accuracy: 0.8814 - val_precision: 0.8248 - val_recall: 0.9019 - val_f1_score: 0.8616\n",
      "Epoch 47/100\n",
      "197/197 [==============================] - 3s 13ms/step - loss: 0.6515 - accuracy: 0.8629 - precision: 0.8052 - recall: 0.8855 - f1_score: 0.8434 - val_loss: 0.2910 - val_accuracy: 0.8724 - val_precision: 0.8321 - val_recall: 0.8631 - val_f1_score: 0.8473\n",
      "Epoch 48/100\n",
      "197/197 [==============================] - 3s 13ms/step - loss: 0.6512 - accuracy: 0.8617 - precision: 0.8042 - recall: 0.8835 - f1_score: 0.8420 - val_loss: 0.2846 - val_accuracy: 0.8820 - val_precision: 0.8748 - val_recall: 0.8297 - val_f1_score: 0.8516\n",
      "Epoch 49/100\n",
      "197/197 [==============================] - 2s 12ms/step - loss: 0.6506 - accuracy: 0.8676 - precision: 0.8105 - recall: 0.8907 - f1_score: 0.8487 - val_loss: 0.3144 - val_accuracy: 0.8616 - val_precision: 0.8926 - val_recall: 0.7520 - val_f1_score: 0.8163\n",
      "Epoch 50/100\n",
      "197/197 [==============================] - 2s 12ms/step - loss: 0.6547 - accuracy: 0.8597 - precision: 0.8050 - recall: 0.8755 - f1_score: 0.8388 - val_loss: 0.3052 - val_accuracy: 0.8744 - val_precision: 0.8944 - val_recall: 0.7876 - val_f1_score: 0.8376\n",
      "Epoch 51/100\n",
      "197/197 [==============================] - 2s 12ms/step - loss: 0.6491 - accuracy: 0.8638 - precision: 0.8094 - recall: 0.8814 - f1_score: 0.8438 - val_loss: 0.2831 - val_accuracy: 0.8788 - val_precision: 0.8341 - val_recall: 0.8806 - val_f1_score: 0.8567\n",
      "Epoch 52/100\n",
      "197/197 [==============================] - 2s 12ms/step - loss: 0.6630 - accuracy: 0.8619 - precision: 0.8096 - recall: 0.8743 - f1_score: 0.8407 - val_loss: 0.2993 - val_accuracy: 0.8686 - val_precision: 0.7900 - val_recall: 0.9271 - val_f1_score: 0.8531\n",
      "Epoch 53/100\n",
      "197/197 [==============================] - 2s 12ms/step - loss: 0.6537 - accuracy: 0.8630 - precision: 0.8071 - recall: 0.8824 - f1_score: 0.8431 - val_loss: 0.2865 - val_accuracy: 0.8865 - val_precision: 0.9086 - val_recall: 0.8040 - val_f1_score: 0.8531\n",
      "Epoch 54/100\n",
      "197/197 [==============================] - 2s 12ms/step - loss: 0.6498 - accuracy: 0.8632 - precision: 0.8077 - recall: 0.8810 - f1_score: 0.8428 - val_loss: 0.2822 - val_accuracy: 0.8776 - val_precision: 0.8379 - val_recall: 0.8668 - val_f1_score: 0.8521\n",
      "Epoch 55/100\n",
      "197/197 [==============================] - 2s 12ms/step - loss: 0.6508 - accuracy: 0.8625 - precision: 0.8116 - recall: 0.8723 - f1_score: 0.8409 - val_loss: 0.3012 - val_accuracy: 0.8750 - val_precision: 0.8824 - val_recall: 0.7994 - val_f1_score: 0.8388\n",
      "Epoch 56/100\n",
      "197/197 [==============================] - 2s 12ms/step - loss: 0.6653 - accuracy: 0.8587 - precision: 0.8033 - recall: 0.8755 - f1_score: 0.8378 - val_loss: 0.2836 - val_accuracy: 0.8814 - val_precision: 0.8521 - val_recall: 0.8600 - val_f1_score: 0.8560\n",
      "Epoch 57/100\n",
      "197/197 [==============================] - 2s 12ms/step - loss: 0.6318 - accuracy: 0.8673 - precision: 0.8153 - recall: 0.8811 - f1_score: 0.8469 - val_loss: 0.2690 - val_accuracy: 0.8820 - val_precision: 0.8348 - val_recall: 0.8880 - val_f1_score: 0.8606\n",
      "Epoch 58/100\n",
      "197/197 [==============================] - 2s 12ms/step - loss: 0.6643 - accuracy: 0.8605 - precision: 0.8041 - recall: 0.8787 - f1_score: 0.8397 - val_loss: 0.2811 - val_accuracy: 0.8801 - val_precision: 0.8360 - val_recall: 0.8802 - val_f1_score: 0.8576\n",
      "Epoch 59/100\n",
      "197/197 [==============================] - 2s 12ms/step - loss: 0.6438 - accuracy: 0.8637 - precision: 0.8112 - recall: 0.8775 - f1_score: 0.8430 - val_loss: 0.2702 - val_accuracy: 0.8852 - val_precision: 0.8671 - val_recall: 0.8509 - val_f1_score: 0.8589\n",
      "Epoch 60/100\n",
      "197/197 [==============================] - 2s 12ms/step - loss: 0.6306 - accuracy: 0.8670 - precision: 0.8112 - recall: 0.8862 - f1_score: 0.8470 - val_loss: 0.3113 - val_accuracy: 0.8673 - val_precision: 0.8076 - val_recall: 0.8880 - val_f1_score: 0.8459\n",
      "Epoch 61/100\n",
      "197/197 [==============================] - 2s 12ms/step - loss: 0.6566 - accuracy: 0.8567 - precision: 0.7983 - recall: 0.8772 - f1_score: 0.8359 - val_loss: 0.2777 - val_accuracy: 0.8865 - val_precision: 0.8598 - val_recall: 0.8625 - val_f1_score: 0.8612\n",
      "Epoch 62/100\n",
      "197/197 [==============================] - 2s 12ms/step - loss: 0.6321 - accuracy: 0.8714 - precision: 0.8198 - recall: 0.8860 - f1_score: 0.8516 - val_loss: 0.2753 - val_accuracy: 0.8795 - val_precision: 0.8518 - val_recall: 0.8531 - val_f1_score: 0.8525\n",
      "Epoch 63/100\n",
      "197/197 [==============================] - 2s 12ms/step - loss: 0.6759 - accuracy: 0.8605 - precision: 0.8057 - recall: 0.8766 - f1_score: 0.8397 - val_loss: 0.2914 - val_accuracy: 0.8763 - val_precision: 0.8135 - val_recall: 0.9048 - val_f1_score: 0.8567\n",
      "Epoch 64/100\n",
      "197/197 [==============================] - 2s 12ms/step - loss: 0.6485 - accuracy: 0.8605 - precision: 0.8059 - recall: 0.8751 - f1_score: 0.8391 - val_loss: 0.2827 - val_accuracy: 0.8763 - val_precision: 0.8742 - val_recall: 0.8173 - val_f1_score: 0.8448\n",
      "Epoch 65/100\n",
      "197/197 [==============================] - 2s 13ms/step - loss: 0.6359 - accuracy: 0.8649 - precision: 0.8116 - recall: 0.8805 - f1_score: 0.8446 - val_loss: 0.2729 - val_accuracy: 0.8865 - val_precision: 0.8582 - val_recall: 0.8663 - val_f1_score: 0.8622\n",
      "Epoch 66/100\n",
      "197/197 [==============================] - 2s 12ms/step - loss: 0.6406 - accuracy: 0.8638 - precision: 0.8055 - recall: 0.8877 - f1_score: 0.8446 - val_loss: 0.2796 - val_accuracy: 0.8776 - val_precision: 0.8108 - val_recall: 0.9124 - val_f1_score: 0.8586\n",
      "Epoch 67/100\n",
      "197/197 [==============================] - 2s 12ms/step - loss: 0.6607 - accuracy: 0.8551 - precision: 0.7968 - recall: 0.8754 - f1_score: 0.8343 - val_loss: 0.2681 - val_accuracy: 0.8884 - val_precision: 0.8533 - val_recall: 0.8785 - val_f1_score: 0.8657\n",
      "Epoch 68/100\n",
      "197/197 [==============================] - 2s 12ms/step - loss: 0.5996 - accuracy: 0.8767 - precision: 0.8270 - recall: 0.8898 - f1_score: 0.8572 - val_loss: 0.2829 - val_accuracy: 0.8788 - val_precision: 0.8136 - val_recall: 0.9126 - val_f1_score: 0.8603\n",
      "Epoch 69/100\n",
      "197/197 [==============================] - 2s 12ms/step - loss: 0.6184 - accuracy: 0.8749 - precision: 0.8233 - recall: 0.8905 - f1_score: 0.8556 - val_loss: 0.2671 - val_accuracy: 0.8846 - val_precision: 0.8430 - val_recall: 0.8813 - val_f1_score: 0.8617\n",
      "Epoch 70/100\n",
      "197/197 [==============================] - 2s 12ms/step - loss: 0.6082 - accuracy: 0.8721 - precision: 0.8177 - recall: 0.8919 - f1_score: 0.8532 - val_loss: 0.2733 - val_accuracy: 0.8795 - val_precision: 0.8360 - val_recall: 0.8789 - val_f1_score: 0.8569\n",
      "Epoch 71/100\n",
      "197/197 [==============================] - 2s 12ms/step - loss: 0.6243 - accuracy: 0.8711 - precision: 0.8220 - recall: 0.8820 - f1_score: 0.8510 - val_loss: 0.2762 - val_accuracy: 0.8814 - val_precision: 0.8378 - val_recall: 0.8797 - val_f1_score: 0.8582\n",
      "Epoch 72/100\n",
      "197/197 [==============================] - 2s 12ms/step - loss: 0.6404 - accuracy: 0.8648 - precision: 0.8133 - recall: 0.8771 - f1_score: 0.8440 - val_loss: 0.2824 - val_accuracy: 0.8839 - val_precision: 0.8783 - val_recall: 0.8318 - val_f1_score: 0.8544\n",
      "Epoch 73/100\n",
      "197/197 [==============================] - 2s 12ms/step - loss: 0.6259 - accuracy: 0.8700 - precision: 0.8201 - recall: 0.8811 - f1_score: 0.8495 - val_loss: 0.2712 - val_accuracy: 0.8846 - val_precision: 0.8417 - val_recall: 0.8849 - val_f1_score: 0.8628\n",
      "Epoch 74/100\n",
      "197/197 [==============================] - 2s 12ms/step - loss: 0.6309 - accuracy: 0.8706 - precision: 0.8173 - recall: 0.8885 - f1_score: 0.8514 - val_loss: 0.2694 - val_accuracy: 0.8903 - val_precision: 0.8531 - val_recall: 0.8849 - val_f1_score: 0.8687\n",
      "Epoch 75/100\n",
      "197/197 [==============================] - 2s 12ms/step - loss: 0.6283 - accuracy: 0.8702 - precision: 0.8219 - recall: 0.8789 - f1_score: 0.8495 - val_loss: 0.2747 - val_accuracy: 0.8820 - val_precision: 0.8293 - val_recall: 0.8975 - val_f1_score: 0.8620\n",
      "Epoch 76/100\n",
      "197/197 [==============================] - 2s 12ms/step - loss: 0.6227 - accuracy: 0.8663 - precision: 0.8173 - recall: 0.8757 - f1_score: 0.8455 - val_loss: 0.2911 - val_accuracy: 0.8718 - val_precision: 0.8016 - val_recall: 0.9128 - val_f1_score: 0.8536\n",
      "Epoch 77/100\n",
      "197/197 [==============================] - 2s 12ms/step - loss: 0.6187 - accuracy: 0.8762 - precision: 0.8252 - recall: 0.8919 - f1_score: 0.8572 - val_loss: 0.2974 - val_accuracy: 0.8756 - val_precision: 0.8642 - val_recall: 0.8250 - val_f1_score: 0.8441\n",
      "Epoch 78/100\n",
      "197/197 [==============================] - 3s 13ms/step - loss: 0.6343 - accuracy: 0.8683 - precision: 0.8195 - recall: 0.8770 - f1_score: 0.8473 - val_loss: 0.2704 - val_accuracy: 0.8871 - val_precision: 0.8530 - val_recall: 0.8756 - val_f1_score: 0.8642\n",
      "Epoch 79/100\n",
      "197/197 [==============================] - 2s 12ms/step - loss: 0.6355 - accuracy: 0.8656 - precision: 0.8143 - recall: 0.8779 - f1_score: 0.8449 - val_loss: 0.2681 - val_accuracy: 0.8833 - val_precision: 0.8653 - val_recall: 0.8478 - val_f1_score: 0.8565\n",
      "Epoch 80/100\n",
      "197/197 [==============================] - 2s 12ms/step - loss: 0.6264 - accuracy: 0.8689 - precision: 0.8158 - recall: 0.8844 - f1_score: 0.8487 - val_loss: 0.2850 - val_accuracy: 0.8788 - val_precision: 0.8245 - val_recall: 0.8939 - val_f1_score: 0.8578\n",
      "Epoch 81/100\n",
      "197/197 [==============================] - 2s 12ms/step - loss: 0.6147 - accuracy: 0.8748 - precision: 0.8254 - recall: 0.8873 - f1_score: 0.8552 - val_loss: 0.2825 - val_accuracy: 0.8858 - val_precision: 0.8843 - val_recall: 0.8307 - val_f1_score: 0.8567\n",
      "Epoch 82/100\n",
      "197/197 [==============================] - 3s 14ms/step - loss: 0.6080 - accuracy: 0.8717 - precision: 0.8223 - recall: 0.8836 - f1_score: 0.8519 - val_loss: 0.2982 - val_accuracy: 0.8718 - val_precision: 0.7882 - val_recall: 0.9374 - val_f1_score: 0.8563\n",
      "Epoch 83/100\n",
      "197/197 [==============================] - 3s 13ms/step - loss: 0.6303 - accuracy: 0.8706 - precision: 0.8206 - recall: 0.8833 - f1_score: 0.8508 - val_loss: 0.2696 - val_accuracy: 0.8865 - val_precision: 0.8412 - val_recall: 0.8910 - val_f1_score: 0.8654\n",
      "Epoch 84/100\n",
      "197/197 [==============================] - 2s 12ms/step - loss: 0.6308 - accuracy: 0.8695 - precision: 0.8184 - recall: 0.8832 - f1_score: 0.8496 - val_loss: 0.3085 - val_accuracy: 0.8693 - val_precision: 0.8982 - val_recall: 0.7683 - val_f1_score: 0.8282\n",
      "Epoch 85/100\n",
      "197/197 [==============================] - 2s 12ms/step - loss: 0.6149 - accuracy: 0.8724 - precision: 0.8252 - recall: 0.8799 - f1_score: 0.8517 - val_loss: 0.2651 - val_accuracy: 0.8916 - val_precision: 0.8635 - val_recall: 0.8742 - val_f1_score: 0.8688\n",
      "Epoch 86/100\n",
      "197/197 [==============================] - 2s 12ms/step - loss: 0.6239 - accuracy: 0.8694 - precision: 0.8159 - recall: 0.8865 - f1_score: 0.8497 - val_loss: 0.3085 - val_accuracy: 0.8661 - val_precision: 0.7779 - val_recall: 0.9425 - val_f1_score: 0.8523\n",
      "Epoch 87/100\n",
      "197/197 [==============================] - 2s 12ms/step - loss: 0.6143 - accuracy: 0.8694 - precision: 0.8186 - recall: 0.8825 - f1_score: 0.8494 - val_loss: 0.2858 - val_accuracy: 0.8737 - val_precision: 0.8089 - val_recall: 0.9068 - val_f1_score: 0.8551\n",
      "Epoch 88/100\n",
      "197/197 [==============================] - 2s 12ms/step - loss: 0.6099 - accuracy: 0.8681 - precision: 0.8174 - recall: 0.8794 - f1_score: 0.8473 - val_loss: 0.2814 - val_accuracy: 0.8801 - val_precision: 0.8659 - val_recall: 0.8362 - val_f1_score: 0.8508\n",
      "Epoch 89/100\n",
      "197/197 [==============================] - 2s 12ms/step - loss: 0.6001 - accuracy: 0.8754 - precision: 0.8292 - recall: 0.8831 - f1_score: 0.8553 - val_loss: 0.2664 - val_accuracy: 0.8852 - val_precision: 0.8372 - val_recall: 0.8944 - val_f1_score: 0.8649\n",
      "Epoch 90/100\n",
      "197/197 [==============================] - 2s 12ms/step - loss: 0.6109 - accuracy: 0.8717 - precision: 0.8246 - recall: 0.8792 - f1_score: 0.8510 - val_loss: 0.2640 - val_accuracy: 0.8878 - val_precision: 0.8787 - val_recall: 0.8401 - val_f1_score: 0.8590\n",
      "Epoch 91/100\n",
      "197/197 [==============================] - 2s 12ms/step - loss: 0.6010 - accuracy: 0.8711 - precision: 0.8224 - recall: 0.8813 - f1_score: 0.8508 - val_loss: 0.3047 - val_accuracy: 0.8686 - val_precision: 0.7861 - val_recall: 0.9330 - val_f1_score: 0.8533\n",
      "Epoch 92/100\n",
      "197/197 [==============================] - 2s 11ms/step - loss: 0.6142 - accuracy: 0.8708 - precision: 0.8191 - recall: 0.8848 - f1_score: 0.8507 - val_loss: 0.2623 - val_accuracy: 0.8948 - val_precision: 0.8652 - val_recall: 0.8801 - val_f1_score: 0.8726\n",
      "Epoch 93/100\n",
      "197/197 [==============================] - 2s 11ms/step - loss: 0.6097 - accuracy: 0.8751 - precision: 0.8261 - recall: 0.8868 - f1_score: 0.8554 - val_loss: 0.2834 - val_accuracy: 0.8776 - val_precision: 0.8110 - val_recall: 0.9145 - val_f1_score: 0.8596\n",
      "Epoch 94/100\n",
      "197/197 [==============================] - 2s 11ms/step - loss: 0.5987 - accuracy: 0.8708 - precision: 0.8185 - recall: 0.8865 - f1_score: 0.8511 - val_loss: 0.3965 - val_accuracy: 0.8291 - val_precision: 0.9217 - val_recall: 0.6388 - val_f1_score: 0.7546\n",
      "Epoch 95/100\n",
      "197/197 [==============================] - 2s 11ms/step - loss: 0.6265 - accuracy: 0.8710 - precision: 0.8225 - recall: 0.8804 - f1_score: 0.8505 - val_loss: 0.2704 - val_accuracy: 0.8890 - val_precision: 0.8679 - val_recall: 0.8598 - val_f1_score: 0.8638\n",
      "Epoch 96/100\n",
      "197/197 [==============================] - 2s 11ms/step - loss: 0.6052 - accuracy: 0.8754 - precision: 0.8280 - recall: 0.8850 - f1_score: 0.8556 - val_loss: 0.2635 - val_accuracy: 0.8916 - val_precision: 0.8595 - val_recall: 0.8783 - val_f1_score: 0.8688\n",
      "Epoch 97/100\n",
      "197/197 [==============================] - 2s 11ms/step - loss: 0.6135 - accuracy: 0.8684 - precision: 0.8179 - recall: 0.8799 - f1_score: 0.8478 - val_loss: 0.2864 - val_accuracy: 0.8801 - val_precision: 0.8766 - val_recall: 0.8251 - val_f1_score: 0.8501\n",
      "Epoch 98/100\n",
      "197/197 [==============================] - 2s 11ms/step - loss: 0.6059 - accuracy: 0.8727 - precision: 0.8215 - recall: 0.8877 - f1_score: 0.8533 - val_loss: 0.2694 - val_accuracy: 0.8858 - val_precision: 0.8399 - val_recall: 0.8910 - val_f1_score: 0.8647\n",
      "Epoch 99/100\n",
      "197/197 [==============================] - 2s 11ms/step - loss: 0.5965 - accuracy: 0.8756 - precision: 0.8265 - recall: 0.8876 - f1_score: 0.8559 - val_loss: 0.2578 - val_accuracy: 0.8922 - val_precision: 0.8641 - val_recall: 0.8762 - val_f1_score: 0.8701\n",
      "Epoch 100/100\n",
      "197/197 [==============================] - 2s 11ms/step - loss: 0.6137 - accuracy: 0.8708 - precision: 0.8214 - recall: 0.8815 - f1_score: 0.8504 - val_loss: 0.2721 - val_accuracy: 0.8858 - val_precision: 0.8828 - val_recall: 0.8320 - val_f1_score: 0.8567\n"
     ]
    },
    {
     "data": {
      "text/plain": "<keras.callbacks.History at 0x2d0248f40>"
     },
     "execution_count": 23,
     "metadata": {},
     "output_type": "execute_result"
    }
   ],
   "source": [
    "epochs = 100\n",
    "baseline_binary.fit(\n",
    "    train_isCancerous_generator,\n",
    "    steps_per_epoch=len(train_data) // batch_size,\n",
    "    epochs=epochs,\n",
    "    validation_data=val_isCancerous_generator,\n",
    "    validation_steps=len(val_data) // batch_size,\n",
    "    class_weight=class_weight_dict_isCancerous\n",
    ")"
   ],
   "metadata": {
    "collapsed": false,
    "ExecuteTime": {
     "start_time": "2023-05-03T19:53:19.323718Z",
     "end_time": "2023-05-03T19:57:20.612363Z"
    }
   }
  },
  {
   "cell_type": "code",
   "execution_count": 28,
   "outputs": [
    {
     "name": "stdout",
     "output_type": "stream",
     "text": [
      "62/62 [==============================] - 1s 8ms/step - loss: 0.2564 - accuracy: 0.8975 - precision: 0.8930 - recall: 0.8445 - f1_score: 0.8681\n"
     ]
    },
    {
     "data": {
      "text/plain": "[0.2563781440258026,\n 0.8974747657775879,\n 0.893048107624054,\n 0.8445006608963013,\n 0.8680960536003113]"
     },
     "execution_count": 28,
     "metadata": {},
     "output_type": "execute_result"
    }
   ],
   "source": [
    "baseline_binary.evaluate(test_isCancerous_generator)"
   ],
   "metadata": {
    "collapsed": false,
    "ExecuteTime": {
     "start_time": "2023-05-03T20:04:12.614603Z",
     "end_time": "2023-05-03T20:04:13.403963Z"
    }
   }
  },
  {
   "cell_type": "code",
   "execution_count": 35,
   "outputs": [
    {
     "name": "stdout",
     "output_type": "stream",
     "text": [
      "Epoch 1/100\n",
      "197/197 [==============================] - 4s 17ms/step - loss: 5.3803 - accuracy: 0.4005 - precision: 0.6534 - recall: 0.0835 - f1_score: 0.1481 - val_loss: 1.3440 - val_accuracy: 0.3291 - val_precision: 0.7183 - val_recall: 0.0976 - val_f1_score: 0.1718\n",
      "Epoch 2/100\n",
      "197/197 [==============================] - 3s 15ms/step - loss: 4.6659 - accuracy: 0.5522 - precision: 0.7980 - recall: 0.2502 - f1_score: 0.3809 - val_loss: 1.1076 - val_accuracy: 0.5230 - val_precision: 0.8210 - val_recall: 0.2545 - val_f1_score: 0.3885\n",
      "Epoch 3/100\n",
      "197/197 [==============================] - 3s 15ms/step - loss: 4.4606 - accuracy: 0.5848 - precision: 0.7498 - recall: 0.3206 - f1_score: 0.4492 - val_loss: 0.9858 - val_accuracy: 0.6186 - val_precision: 0.8138 - val_recall: 0.3374 - val_f1_score: 0.4770\n",
      "Epoch 4/100\n",
      "197/197 [==============================] - 3s 15ms/step - loss: 4.4061 - accuracy: 0.5962 - precision: 0.7347 - recall: 0.3424 - f1_score: 0.4671 - val_loss: 0.9859 - val_accuracy: 0.6186 - val_precision: 0.7758 - val_recall: 0.4834 - val_f1_score: 0.5957\n",
      "Epoch 5/100\n",
      "197/197 [==============================] - 3s 15ms/step - loss: 4.4218 - accuracy: 0.5873 - precision: 0.7457 - recall: 0.3444 - f1_score: 0.4712 - val_loss: 0.8695 - val_accuracy: 0.6652 - val_precision: 0.7529 - val_recall: 0.5440 - val_f1_score: 0.6316\n",
      "Epoch 6/100\n",
      "197/197 [==============================] - 3s 15ms/step - loss: 4.3183 - accuracy: 0.6033 - precision: 0.7263 - recall: 0.3740 - f1_score: 0.4937 - val_loss: 1.0777 - val_accuracy: 0.5312 - val_precision: 0.6650 - val_recall: 0.2621 - val_f1_score: 0.3760\n",
      "Epoch 7/100\n",
      "197/197 [==============================] - 3s 15ms/step - loss: 4.3329 - accuracy: 0.6113 - precision: 0.7301 - recall: 0.3676 - f1_score: 0.4890 - val_loss: 0.8437 - val_accuracy: 0.6907 - val_precision: 0.7781 - val_recall: 0.5255 - val_f1_score: 0.6273\n",
      "Epoch 8/100\n",
      "197/197 [==============================] - 3s 15ms/step - loss: 4.2470 - accuracy: 0.6178 - precision: 0.7486 - recall: 0.3895 - f1_score: 0.5124 - val_loss: 0.8200 - val_accuracy: 0.6990 - val_precision: 0.7749 - val_recall: 0.5466 - val_f1_score: 0.6410\n",
      "Epoch 9/100\n",
      "197/197 [==============================] - 3s 15ms/step - loss: 4.4109 - accuracy: 0.6046 - precision: 0.7284 - recall: 0.3652 - f1_score: 0.4865 - val_loss: 0.9686 - val_accuracy: 0.6390 - val_precision: 0.7682 - val_recall: 0.4566 - val_f1_score: 0.5728\n",
      "Epoch 10/100\n",
      "197/197 [==============================] - 3s 15ms/step - loss: 4.2593 - accuracy: 0.6195 - precision: 0.7418 - recall: 0.3917 - f1_score: 0.5127 - val_loss: 1.0753 - val_accuracy: 0.5638 - val_precision: 0.7407 - val_recall: 0.3699 - val_f1_score: 0.4934\n",
      "Epoch 11/100\n",
      "197/197 [==============================] - 3s 15ms/step - loss: 4.2075 - accuracy: 0.6256 - precision: 0.7364 - recall: 0.4054 - f1_score: 0.5229 - val_loss: 0.8659 - val_accuracy: 0.6786 - val_precision: 0.7911 - val_recall: 0.5338 - val_f1_score: 0.6375\n",
      "Epoch 12/100\n",
      "197/197 [==============================] - 3s 15ms/step - loss: 4.2088 - accuracy: 0.6211 - precision: 0.7387 - recall: 0.4143 - f1_score: 0.5309 - val_loss: 0.8636 - val_accuracy: 0.6945 - val_precision: 0.7962 - val_recall: 0.5083 - val_f1_score: 0.6205\n",
      "Epoch 13/100\n",
      "197/197 [==============================] - 3s 15ms/step - loss: 4.1643 - accuracy: 0.6278 - precision: 0.7326 - recall: 0.4122 - f1_score: 0.5276 - val_loss: 0.8589 - val_accuracy: 0.6735 - val_precision: 0.7571 - val_recall: 0.5606 - val_f1_score: 0.6442\n",
      "Epoch 14/100\n",
      "197/197 [==============================] - 3s 15ms/step - loss: 4.1937 - accuracy: 0.6292 - precision: 0.7464 - recall: 0.4163 - f1_score: 0.5345 - val_loss: 0.8674 - val_accuracy: 0.6849 - val_precision: 0.7946 - val_recall: 0.5281 - val_f1_score: 0.6345\n",
      "Epoch 15/100\n",
      "197/197 [==============================] - 3s 15ms/step - loss: 4.1881 - accuracy: 0.6233 - precision: 0.7356 - recall: 0.4230 - f1_score: 0.5371 - val_loss: 0.9452 - val_accuracy: 0.6409 - val_precision: 0.7737 - val_recall: 0.4688 - val_f1_score: 0.5838\n",
      "Epoch 16/100\n",
      "197/197 [==============================] - 3s 15ms/step - loss: 4.1342 - accuracy: 0.6325 - precision: 0.7457 - recall: 0.4230 - f1_score: 0.5398 - val_loss: 0.9153 - val_accuracy: 0.6665 - val_precision: 0.7719 - val_recall: 0.5332 - val_f1_score: 0.6307\n",
      "Epoch 17/100\n",
      "197/197 [==============================] - 3s 15ms/step - loss: 4.1320 - accuracy: 0.6333 - precision: 0.7361 - recall: 0.4330 - f1_score: 0.5453 - val_loss: 0.8313 - val_accuracy: 0.7130 - val_precision: 0.8224 - val_recall: 0.5344 - val_f1_score: 0.6479\n",
      "Epoch 18/100\n",
      "197/197 [==============================] - 3s 15ms/step - loss: 4.0525 - accuracy: 0.6411 - precision: 0.7501 - recall: 0.4435 - f1_score: 0.5574 - val_loss: 0.9221 - val_accuracy: 0.6575 - val_precision: 0.7615 - val_recall: 0.5153 - val_f1_score: 0.6147\n",
      "Epoch 19/100\n",
      "197/197 [==============================] - 3s 15ms/step - loss: 4.1006 - accuracy: 0.6330 - precision: 0.7425 - recall: 0.4421 - f1_score: 0.5542 - val_loss: 0.8112 - val_accuracy: 0.7149 - val_precision: 0.8002 - val_recall: 0.5695 - val_f1_score: 0.6654\n",
      "Epoch 20/100\n",
      "197/197 [==============================] - 3s 15ms/step - loss: 4.0498 - accuracy: 0.6346 - precision: 0.7478 - recall: 0.4494 - f1_score: 0.5614 - val_loss: 0.9518 - val_accuracy: 0.6556 - val_precision: 0.7925 - val_recall: 0.4458 - val_f1_score: 0.5706\n",
      "Epoch 21/100\n",
      "197/197 [==============================] - 3s 15ms/step - loss: 4.0739 - accuracy: 0.6365 - precision: 0.7411 - recall: 0.4457 - f1_score: 0.5566 - val_loss: 0.9974 - val_accuracy: 0.5976 - val_precision: 0.6716 - val_recall: 0.4592 - val_f1_score: 0.5455\n",
      "Epoch 22/100\n",
      "197/197 [==============================] - 3s 15ms/step - loss: 4.0544 - accuracy: 0.6360 - precision: 0.7401 - recall: 0.4435 - f1_score: 0.5546 - val_loss: 0.9923 - val_accuracy: 0.5855 - val_precision: 0.6983 - val_recall: 0.3941 - val_f1_score: 0.5039\n",
      "Epoch 23/100\n",
      "197/197 [==============================] - 3s 15ms/step - loss: 4.0830 - accuracy: 0.6337 - precision: 0.7407 - recall: 0.4425 - f1_score: 0.5541 - val_loss: 0.8936 - val_accuracy: 0.6371 - val_precision: 0.7555 - val_recall: 0.4790 - val_f1_score: 0.5863\n",
      "Epoch 24/100\n",
      "197/197 [==============================] - 3s 16ms/step - loss: 4.0638 - accuracy: 0.6403 - precision: 0.7471 - recall: 0.4538 - f1_score: 0.5646 - val_loss: 0.8441 - val_accuracy: 0.6958 - val_precision: 0.7873 - val_recall: 0.5523 - val_f1_score: 0.6492\n",
      "Epoch 25/100\n",
      "197/197 [==============================] - 3s 16ms/step - loss: 4.0333 - accuracy: 0.6408 - precision: 0.7471 - recall: 0.4576 - f1_score: 0.5676 - val_loss: 0.9034 - val_accuracy: 0.6614 - val_precision: 0.7415 - val_recall: 0.5013 - val_f1_score: 0.5982\n",
      "Epoch 26/100\n",
      "197/197 [==============================] - 3s 15ms/step - loss: 4.0611 - accuracy: 0.6357 - precision: 0.7417 - recall: 0.4484 - f1_score: 0.5589 - val_loss: 0.9756 - val_accuracy: 0.6429 - val_precision: 0.7794 - val_recall: 0.4821 - val_f1_score: 0.5957\n",
      "Epoch 27/100\n",
      "197/197 [==============================] - 3s 15ms/step - loss: 4.0685 - accuracy: 0.6306 - precision: 0.7411 - recall: 0.4430 - f1_score: 0.5545 - val_loss: 0.8815 - val_accuracy: 0.6779 - val_precision: 0.7902 - val_recall: 0.5261 - val_f1_score: 0.6317\n",
      "Epoch 28/100\n",
      "197/197 [==============================] - 3s 15ms/step - loss: 4.0538 - accuracy: 0.6444 - precision: 0.7516 - recall: 0.4581 - f1_score: 0.5692 - val_loss: 0.7919 - val_accuracy: 0.7149 - val_precision: 0.8095 - val_recall: 0.5529 - val_f1_score: 0.6571\n",
      "Epoch 29/100\n",
      "197/197 [==============================] - 3s 15ms/step - loss: 4.0031 - accuracy: 0.6406 - precision: 0.7568 - recall: 0.4584 - f1_score: 0.5710 - val_loss: 0.8521 - val_accuracy: 0.6830 - val_precision: 0.7763 - val_recall: 0.5357 - val_f1_score: 0.6340\n",
      "Epoch 30/100\n",
      "197/197 [==============================] - 3s 15ms/step - loss: 4.0197 - accuracy: 0.6403 - precision: 0.7393 - recall: 0.4614 - f1_score: 0.5682 - val_loss: 0.8203 - val_accuracy: 0.6945 - val_precision: 0.7849 - val_recall: 0.5421 - val_f1_score: 0.6413\n",
      "Epoch 31/100\n",
      "197/197 [==============================] - 3s 15ms/step - loss: 4.0410 - accuracy: 0.6376 - precision: 0.7509 - recall: 0.4641 - f1_score: 0.5737 - val_loss: 0.9769 - val_accuracy: 0.6237 - val_precision: 0.7592 - val_recall: 0.4605 - val_f1_score: 0.5732\n",
      "Epoch 32/100\n",
      "197/197 [==============================] - 3s 15ms/step - loss: 3.9862 - accuracy: 0.6422 - precision: 0.7537 - recall: 0.4663 - f1_score: 0.5762 - val_loss: 0.8199 - val_accuracy: 0.7149 - val_precision: 0.7897 - val_recall: 0.5651 - val_f1_score: 0.6587\n",
      "Epoch 33/100\n",
      "197/197 [==============================] - 3s 15ms/step - loss: 4.0017 - accuracy: 0.6456 - precision: 0.7578 - recall: 0.4694 - f1_score: 0.5797 - val_loss: 0.8565 - val_accuracy: 0.6741 - val_precision: 0.7921 - val_recall: 0.5006 - val_f1_score: 0.6135\n",
      "Epoch 34/100\n",
      "197/197 [==============================] - 3s 15ms/step - loss: 3.9989 - accuracy: 0.6460 - precision: 0.7585 - recall: 0.4586 - f1_score: 0.5716 - val_loss: 0.8032 - val_accuracy: 0.6945 - val_precision: 0.7648 - val_recall: 0.5867 - val_f1_score: 0.6640\n",
      "Epoch 35/100\n",
      "197/197 [==============================] - 3s 15ms/step - loss: 4.0053 - accuracy: 0.6422 - precision: 0.7422 - recall: 0.4657 - f1_score: 0.5723 - val_loss: 0.8892 - val_accuracy: 0.6658 - val_precision: 0.7643 - val_recall: 0.5210 - val_f1_score: 0.6196\n",
      "Epoch 36/100\n",
      "197/197 [==============================] - 3s 15ms/step - loss: 3.9588 - accuracy: 0.6530 - precision: 0.7627 - recall: 0.4800 - f1_score: 0.5892 - val_loss: 0.7954 - val_accuracy: 0.7034 - val_precision: 0.7653 - val_recall: 0.5906 - val_f1_score: 0.6667\n",
      "Epoch 37/100\n",
      "197/197 [==============================] - 3s 15ms/step - loss: 3.9534 - accuracy: 0.6468 - precision: 0.7472 - recall: 0.4771 - f1_score: 0.5824 - val_loss: 0.8127 - val_accuracy: 0.7034 - val_precision: 0.8063 - val_recall: 0.5708 - val_f1_score: 0.6684\n",
      "Epoch 38/100\n",
      "197/197 [==============================] - 3s 15ms/step - loss: 3.9725 - accuracy: 0.6473 - precision: 0.7452 - recall: 0.4703 - f1_score: 0.5767 - val_loss: 0.8266 - val_accuracy: 0.6913 - val_precision: 0.7457 - val_recall: 0.5874 - val_f1_score: 0.6572\n",
      "Epoch 39/100\n",
      "197/197 [==============================] - 3s 15ms/step - loss: 4.0022 - accuracy: 0.6424 - precision: 0.7518 - recall: 0.4754 - f1_score: 0.5825 - val_loss: 0.8055 - val_accuracy: 0.6971 - val_precision: 0.7957 - val_recall: 0.5415 - val_f1_score: 0.6444\n",
      "Epoch 40/100\n",
      "197/197 [==============================] - 3s 15ms/step - loss: 3.9685 - accuracy: 0.6468 - precision: 0.7499 - recall: 0.4751 - f1_score: 0.5817 - val_loss: 0.8538 - val_accuracy: 0.6703 - val_precision: 0.7960 - val_recall: 0.4802 - val_f1_score: 0.5990\n",
      "Epoch 41/100\n",
      "197/197 [==============================] - 3s 15ms/step - loss: 3.9780 - accuracy: 0.6422 - precision: 0.7495 - recall: 0.4787 - f1_score: 0.5843 - val_loss: 0.8067 - val_accuracy: 0.7060 - val_precision: 0.8011 - val_recall: 0.5702 - val_f1_score: 0.6662\n",
      "Epoch 42/100\n",
      "197/197 [==============================] - 3s 15ms/step - loss: 3.9236 - accuracy: 0.6508 - precision: 0.7565 - recall: 0.4917 - f1_score: 0.5961 - val_loss: 0.8849 - val_accuracy: 0.6722 - val_precision: 0.7763 - val_recall: 0.5555 - val_f1_score: 0.6476\n",
      "Epoch 43/100\n",
      "197/197 [==============================] - 3s 15ms/step - loss: 3.9265 - accuracy: 0.6495 - precision: 0.7538 - recall: 0.4933 - f1_score: 0.5964 - val_loss: 0.8338 - val_accuracy: 0.6983 - val_precision: 0.7697 - val_recall: 0.5606 - val_f1_score: 0.6487\n",
      "Epoch 44/100\n",
      "197/197 [==============================] - 3s 15ms/step - loss: 3.9202 - accuracy: 0.6478 - precision: 0.7589 - recall: 0.4922 - f1_score: 0.5971 - val_loss: 0.8691 - val_accuracy: 0.6684 - val_precision: 0.7911 - val_recall: 0.5191 - val_f1_score: 0.6269\n",
      "Epoch 45/100\n",
      "197/197 [==============================] - 3s 15ms/step - loss: 3.9481 - accuracy: 0.6341 - precision: 0.7452 - recall: 0.4732 - f1_score: 0.5788 - val_loss: 0.8510 - val_accuracy: 0.6677 - val_precision: 0.7942 - val_recall: 0.5045 - val_f1_score: 0.6170\n",
      "Epoch 46/100\n",
      "197/197 [==============================] - 3s 15ms/step - loss: 3.9302 - accuracy: 0.6459 - precision: 0.7591 - recall: 0.4752 - f1_score: 0.5845 - val_loss: 0.8057 - val_accuracy: 0.7047 - val_precision: 0.7930 - val_recall: 0.5765 - val_f1_score: 0.6677\n",
      "Epoch 47/100\n",
      "197/197 [==============================] - 3s 15ms/step - loss: 3.9125 - accuracy: 0.6513 - precision: 0.7518 - recall: 0.4895 - f1_score: 0.5930 - val_loss: 0.8037 - val_accuracy: 0.6837 - val_precision: 0.7751 - val_recall: 0.5606 - val_f1_score: 0.6506\n",
      "Epoch 48/100\n",
      "197/197 [==============================] - 3s 15ms/step - loss: 3.9178 - accuracy: 0.6465 - precision: 0.7608 - recall: 0.4817 - f1_score: 0.5900 - val_loss: 0.8440 - val_accuracy: 0.6703 - val_precision: 0.7552 - val_recall: 0.5370 - val_f1_score: 0.6277\n",
      "Epoch 49/100\n",
      "197/197 [==============================] - 3s 15ms/step - loss: 3.9170 - accuracy: 0.6490 - precision: 0.7540 - recall: 0.4856 - f1_score: 0.5907 - val_loss: 0.8051 - val_accuracy: 0.7015 - val_precision: 0.7906 - val_recall: 0.5561 - val_f1_score: 0.6529\n",
      "Epoch 50/100\n",
      "197/197 [==============================] - 3s 15ms/step - loss: 3.9153 - accuracy: 0.6448 - precision: 0.7518 - recall: 0.4890 - f1_score: 0.5926 - val_loss: 0.8536 - val_accuracy: 0.6754 - val_precision: 0.7671 - val_recall: 0.5523 - val_f1_score: 0.6422\n",
      "Epoch 51/100\n",
      "197/197 [==============================] - 3s 15ms/step - loss: 3.8753 - accuracy: 0.6563 - precision: 0.7647 - recall: 0.5010 - f1_score: 0.6054 - val_loss: 0.8233 - val_accuracy: 0.6939 - val_precision: 0.7835 - val_recall: 0.5587 - val_f1_score: 0.6523\n",
      "Epoch 52/100\n",
      "197/197 [==============================] - 3s 15ms/step - loss: 3.8771 - accuracy: 0.6483 - precision: 0.7567 - recall: 0.4903 - f1_score: 0.5951 - val_loss: 0.8803 - val_accuracy: 0.6633 - val_precision: 0.7749 - val_recall: 0.4962 - val_f1_score: 0.6050\n",
      "Epoch 53/100\n",
      "197/197 [==============================] - 3s 15ms/step - loss: 3.9223 - accuracy: 0.6441 - precision: 0.7554 - recall: 0.4937 - f1_score: 0.5971 - val_loss: 0.8199 - val_accuracy: 0.6798 - val_precision: 0.7639 - val_recall: 0.5364 - val_f1_score: 0.6302\n",
      "Epoch 54/100\n",
      "197/197 [==============================] - 3s 15ms/step - loss: 3.8269 - accuracy: 0.6573 - precision: 0.7656 - recall: 0.4998 - f1_score: 0.6048 - val_loss: 0.8983 - val_accuracy: 0.6531 - val_precision: 0.7373 - val_recall: 0.5083 - val_f1_score: 0.6017\n",
      "Epoch 55/100\n",
      "197/197 [==============================] - 3s 15ms/step - loss: 3.8407 - accuracy: 0.6543 - precision: 0.7603 - recall: 0.5025 - f1_score: 0.6051 - val_loss: 0.8087 - val_accuracy: 0.6990 - val_precision: 0.7882 - val_recall: 0.5599 - val_f1_score: 0.6547\n",
      "Epoch 56/100\n",
      "197/197 [==============================] - 3s 15ms/step - loss: 3.8208 - accuracy: 0.6575 - precision: 0.7543 - recall: 0.5059 - f1_score: 0.6056 - val_loss: 0.7581 - val_accuracy: 0.7302 - val_precision: 0.8114 - val_recall: 0.5816 - val_f1_score: 0.6776\n",
      "Epoch 57/100\n",
      "197/197 [==============================] - 3s 15ms/step - loss: 3.8432 - accuracy: 0.6507 - precision: 0.7590 - recall: 0.5000 - f1_score: 0.6028 - val_loss: 0.9266 - val_accuracy: 0.6435 - val_precision: 0.7419 - val_recall: 0.4841 - val_f1_score: 0.5859\n",
      "Epoch 58/100\n",
      "197/197 [==============================] - 3s 15ms/step - loss: 3.8074 - accuracy: 0.6560 - precision: 0.7632 - recall: 0.5065 - f1_score: 0.6089 - val_loss: 0.8400 - val_accuracy: 0.6856 - val_precision: 0.7858 - val_recall: 0.5287 - val_f1_score: 0.6321\n",
      "Epoch 59/100\n",
      "197/197 [==============================] - 3s 15ms/step - loss: 3.7987 - accuracy: 0.6592 - precision: 0.7588 - recall: 0.5043 - f1_score: 0.6059 - val_loss: 0.7605 - val_accuracy: 0.7136 - val_precision: 0.7935 - val_recall: 0.6078 - val_f1_score: 0.6883\n",
      "Epoch 60/100\n",
      "197/197 [==============================] - 3s 15ms/step - loss: 3.7935 - accuracy: 0.6584 - precision: 0.7565 - recall: 0.5149 - f1_score: 0.6128 - val_loss: 0.8272 - val_accuracy: 0.6837 - val_precision: 0.8033 - val_recall: 0.5210 - val_f1_score: 0.6321\n",
      "Epoch 61/100\n",
      "197/197 [==============================] - 3s 15ms/step - loss: 3.7338 - accuracy: 0.6673 - precision: 0.7666 - recall: 0.5167 - f1_score: 0.6173 - val_loss: 0.7835 - val_accuracy: 0.7111 - val_precision: 0.8053 - val_recall: 0.5778 - val_f1_score: 0.6729\n",
      "Epoch 62/100\n",
      "197/197 [==============================] - 3s 15ms/step - loss: 3.7672 - accuracy: 0.6624 - precision: 0.7604 - recall: 0.5148 - f1_score: 0.6139 - val_loss: 0.8325 - val_accuracy: 0.6913 - val_precision: 0.7743 - val_recall: 0.5491 - val_f1_score: 0.6425\n",
      "Epoch 63/100\n",
      "197/197 [==============================] - 3s 15ms/step - loss: 3.7580 - accuracy: 0.6597 - precision: 0.7758 - recall: 0.5190 - f1_score: 0.6220 - val_loss: 0.7602 - val_accuracy: 0.7105 - val_precision: 0.8046 - val_recall: 0.5778 - val_f1_score: 0.6726\n",
      "Epoch 64/100\n",
      "197/197 [==============================] - 3s 15ms/step - loss: 3.7513 - accuracy: 0.6567 - precision: 0.7639 - recall: 0.5119 - f1_score: 0.6130 - val_loss: 0.7583 - val_accuracy: 0.7149 - val_precision: 0.7964 - val_recall: 0.5714 - val_f1_score: 0.6654\n",
      "Epoch 65/100\n",
      "197/197 [==============================] - 3s 15ms/step - loss: 3.7496 - accuracy: 0.6673 - precision: 0.7594 - recall: 0.5149 - f1_score: 0.6137 - val_loss: 0.7742 - val_accuracy: 0.7034 - val_precision: 0.7953 - val_recall: 0.5797 - val_f1_score: 0.6706\n",
      "Epoch 66/100\n",
      "197/197 [==============================] - 3s 15ms/step - loss: 3.7765 - accuracy: 0.6581 - precision: 0.7525 - recall: 0.5100 - f1_score: 0.6079 - val_loss: 0.8302 - val_accuracy: 0.6862 - val_precision: 0.7858 - val_recall: 0.5593 - val_f1_score: 0.6535\n",
      "Epoch 67/100\n",
      "197/197 [==============================] - 3s 15ms/step - loss: 3.7256 - accuracy: 0.6652 - precision: 0.7650 - recall: 0.5233 - f1_score: 0.6215 - val_loss: 0.7325 - val_accuracy: 0.7239 - val_precision: 0.7884 - val_recall: 0.6154 - val_f1_score: 0.6913\n",
      "Epoch 68/100\n",
      "197/197 [==============================] - 3s 15ms/step - loss: 3.7143 - accuracy: 0.6637 - precision: 0.7660 - recall: 0.5352 - f1_score: 0.6302 - val_loss: 0.8045 - val_accuracy: 0.7105 - val_precision: 0.7977 - val_recall: 0.5759 - val_f1_score: 0.6689\n",
      "Epoch 69/100\n",
      "197/197 [==============================] - 3s 15ms/step - loss: 3.6750 - accuracy: 0.6659 - precision: 0.7655 - recall: 0.5202 - f1_score: 0.6194 - val_loss: 0.7799 - val_accuracy: 0.7175 - val_precision: 0.8235 - val_recall: 0.5593 - val_f1_score: 0.6662\n",
      "Epoch 70/100\n",
      "197/197 [==============================] - 3s 15ms/step - loss: 3.7185 - accuracy: 0.6679 - precision: 0.7669 - recall: 0.5354 - f1_score: 0.6306 - val_loss: 0.8373 - val_accuracy: 0.6818 - val_precision: 0.7662 - val_recall: 0.5791 - val_f1_score: 0.6596\n",
      "Epoch 71/100\n",
      "197/197 [==============================] - 3s 15ms/step - loss: 3.7332 - accuracy: 0.6625 - precision: 0.7642 - recall: 0.5225 - f1_score: 0.6207 - val_loss: 0.8076 - val_accuracy: 0.6939 - val_precision: 0.7662 - val_recall: 0.6122 - val_f1_score: 0.6806\n",
      "Epoch 72/100\n",
      "197/197 [==============================] - 3s 15ms/step - loss: 3.7827 - accuracy: 0.6563 - precision: 0.7592 - recall: 0.5216 - f1_score: 0.6184 - val_loss: 0.8040 - val_accuracy: 0.6920 - val_precision: 0.7659 - val_recall: 0.5842 - val_f1_score: 0.6628\n",
      "Epoch 73/100\n",
      "197/197 [==============================] - 3s 15ms/step - loss: 3.6828 - accuracy: 0.6713 - precision: 0.7740 - recall: 0.5295 - f1_score: 0.6288 - val_loss: 0.7516 - val_accuracy: 0.7149 - val_precision: 0.8064 - val_recall: 0.5976 - val_f1_score: 0.6864\n",
      "Epoch 74/100\n",
      "197/197 [==============================] - 3s 15ms/step - loss: 3.6948 - accuracy: 0.6689 - precision: 0.7622 - recall: 0.5179 - f1_score: 0.6168 - val_loss: 0.8041 - val_accuracy: 0.7009 - val_precision: 0.7989 - val_recall: 0.5625 - val_f1_score: 0.6602\n",
      "Epoch 75/100\n",
      "197/197 [==============================] - 3s 15ms/step - loss: 3.6657 - accuracy: 0.6752 - precision: 0.7656 - recall: 0.5417 - f1_score: 0.6345 - val_loss: 0.8679 - val_accuracy: 0.6684 - val_precision: 0.7752 - val_recall: 0.5147 - val_f1_score: 0.6186\n",
      "Epoch 76/100\n",
      "197/197 [==============================] - 3s 15ms/step - loss: 3.7482 - accuracy: 0.6621 - precision: 0.7645 - recall: 0.5117 - f1_score: 0.6131 - val_loss: 0.7324 - val_accuracy: 0.7143 - val_precision: 0.7957 - val_recall: 0.6135 - val_f1_score: 0.6928\n",
      "Epoch 77/100\n",
      "197/197 [==============================] - 3s 15ms/step - loss: 3.6870 - accuracy: 0.6705 - precision: 0.7655 - recall: 0.5249 - f1_score: 0.6228 - val_loss: 0.7584 - val_accuracy: 0.7143 - val_precision: 0.8116 - val_recall: 0.5823 - val_f1_score: 0.6781\n",
      "Epoch 78/100\n",
      "197/197 [==============================] - 3s 15ms/step - loss: 3.6425 - accuracy: 0.6708 - precision: 0.7687 - recall: 0.5379 - f1_score: 0.6329 - val_loss: 0.8411 - val_accuracy: 0.6677 - val_precision: 0.7474 - val_recall: 0.5472 - val_f1_score: 0.6318\n",
      "Epoch 79/100\n",
      "197/197 [==============================] - 3s 15ms/step - loss: 3.6394 - accuracy: 0.6679 - precision: 0.7614 - recall: 0.5348 - f1_score: 0.6283 - val_loss: 0.7945 - val_accuracy: 0.7054 - val_precision: 0.7905 - val_recall: 0.6135 - val_f1_score: 0.6908\n",
      "Epoch 80/100\n",
      "197/197 [==============================] - 3s 15ms/step - loss: 3.6828 - accuracy: 0.6749 - precision: 0.7654 - recall: 0.5349 - f1_score: 0.6297 - val_loss: 0.7436 - val_accuracy: 0.7302 - val_precision: 0.8208 - val_recall: 0.6046 - val_f1_score: 0.6963\n",
      "Epoch 81/100\n",
      "197/197 [==============================] - 3s 15ms/step - loss: 3.6169 - accuracy: 0.6816 - precision: 0.7781 - recall: 0.5476 - f1_score: 0.6428 - val_loss: 0.7552 - val_accuracy: 0.7143 - val_precision: 0.7801 - val_recall: 0.6110 - val_f1_score: 0.6853\n",
      "Epoch 82/100\n",
      "197/197 [==============================] - 3s 15ms/step - loss: 3.6746 - accuracy: 0.6749 - precision: 0.7635 - recall: 0.5441 - f1_score: 0.6354 - val_loss: 0.7299 - val_accuracy: 0.7245 - val_precision: 0.7987 - val_recall: 0.6224 - val_f1_score: 0.6996\n",
      "Epoch 83/100\n",
      "197/197 [==============================] - 3s 15ms/step - loss: 3.6374 - accuracy: 0.6711 - precision: 0.7748 - recall: 0.5438 - f1_score: 0.6391 - val_loss: 0.7689 - val_accuracy: 0.6837 - val_precision: 0.7688 - val_recall: 0.5663 - val_f1_score: 0.6522\n",
      "Epoch 84/100\n",
      "197/197 [==============================] - 3s 15ms/step - loss: 3.6374 - accuracy: 0.6754 - precision: 0.7747 - recall: 0.5452 - f1_score: 0.6400 - val_loss: 0.8016 - val_accuracy: 0.7060 - val_precision: 0.8018 - val_recall: 0.5727 - val_f1_score: 0.6682\n",
      "Epoch 85/100\n",
      "197/197 [==============================] - 3s 15ms/step - loss: 3.6005 - accuracy: 0.6746 - precision: 0.7713 - recall: 0.5397 - f1_score: 0.6350 - val_loss: 0.7465 - val_accuracy: 0.7239 - val_precision: 0.8160 - val_recall: 0.5995 - val_f1_score: 0.6912\n",
      "Epoch 86/100\n",
      "197/197 [==============================] - 3s 15ms/step - loss: 3.5619 - accuracy: 0.6868 - precision: 0.7733 - recall: 0.5567 - f1_score: 0.6473 - val_loss: 0.7326 - val_accuracy: 0.7264 - val_precision: 0.8031 - val_recall: 0.6218 - val_f1_score: 0.7009\n",
      "Epoch 87/100\n",
      "197/197 [==============================] - 3s 15ms/step - loss: 3.6359 - accuracy: 0.6790 - precision: 0.7671 - recall: 0.5489 - f1_score: 0.6399 - val_loss: 0.7482 - val_accuracy: 0.7239 - val_precision: 0.7963 - val_recall: 0.5835 - val_f1_score: 0.6735\n",
      "Epoch 88/100\n",
      "197/197 [==============================] - 3s 15ms/step - loss: 3.5261 - accuracy: 0.6870 - precision: 0.7785 - recall: 0.5575 - f1_score: 0.6497 - val_loss: 0.7248 - val_accuracy: 0.7188 - val_precision: 0.7898 - val_recall: 0.6327 - val_f1_score: 0.7025\n",
      "Epoch 89/100\n",
      "197/197 [==============================] - 3s 15ms/step - loss: 3.6040 - accuracy: 0.6789 - precision: 0.7663 - recall: 0.5533 - f1_score: 0.6426 - val_loss: 0.8584 - val_accuracy: 0.6633 - val_precision: 0.7504 - val_recall: 0.5351 - val_f1_score: 0.6247\n",
      "Epoch 90/100\n",
      "197/197 [==============================] - 3s 15ms/step - loss: 3.6152 - accuracy: 0.6706 - precision: 0.7701 - recall: 0.5483 - f1_score: 0.6405 - val_loss: 0.7146 - val_accuracy: 0.7270 - val_precision: 0.7887 - val_recall: 0.6594 - val_f1_score: 0.7183\n",
      "Epoch 91/100\n",
      "197/197 [==============================] - 3s 15ms/step - loss: 3.5827 - accuracy: 0.6797 - precision: 0.7750 - recall: 0.5589 - f1_score: 0.6495 - val_loss: 0.8066 - val_accuracy: 0.6862 - val_precision: 0.7704 - val_recall: 0.5842 - val_f1_score: 0.6645\n",
      "Epoch 92/100\n",
      "197/197 [==============================] - 3s 17ms/step - loss: 3.5935 - accuracy: 0.6794 - precision: 0.7719 - recall: 0.5513 - f1_score: 0.6432 - val_loss: 0.6926 - val_accuracy: 0.7360 - val_precision: 0.8078 - val_recall: 0.6435 - val_f1_score: 0.7164\n",
      "Epoch 93/100\n",
      "197/197 [==============================] - 3s 15ms/step - loss: 3.5889 - accuracy: 0.6817 - precision: 0.7730 - recall: 0.5530 - f1_score: 0.6448 - val_loss: 0.7304 - val_accuracy: 0.7156 - val_precision: 0.7829 - val_recall: 0.6231 - val_f1_score: 0.6939\n",
      "Epoch 94/100\n",
      "197/197 [==============================] - 3s 17ms/step - loss: 3.5805 - accuracy: 0.6814 - precision: 0.7748 - recall: 0.5483 - f1_score: 0.6421 - val_loss: 0.7206 - val_accuracy: 0.7270 - val_precision: 0.7913 - val_recall: 0.6384 - val_f1_score: 0.7067\n",
      "Epoch 95/100\n",
      "197/197 [==============================] - 3s 15ms/step - loss: 3.5332 - accuracy: 0.6854 - precision: 0.7771 - recall: 0.5571 - f1_score: 0.6490 - val_loss: 0.7165 - val_accuracy: 0.7162 - val_precision: 0.8066 - val_recall: 0.6276 - val_f1_score: 0.7059\n",
      "Epoch 96/100\n",
      "197/197 [==============================] - 3s 15ms/step - loss: 3.5678 - accuracy: 0.6802 - precision: 0.7698 - recall: 0.5479 - f1_score: 0.6402 - val_loss: 0.8004 - val_accuracy: 0.6977 - val_precision: 0.7523 - val_recall: 0.6237 - val_f1_score: 0.6820\n",
      "Epoch 97/100\n",
      "197/197 [==============================] - 3s 15ms/step - loss: 3.5858 - accuracy: 0.6763 - precision: 0.7629 - recall: 0.5475 - f1_score: 0.6375 - val_loss: 0.7601 - val_accuracy: 0.7054 - val_precision: 0.7915 - val_recall: 0.6027 - val_f1_score: 0.6843\n",
      "Epoch 98/100\n",
      "197/197 [==============================] - 3s 15ms/step - loss: 3.5075 - accuracy: 0.6825 - precision: 0.7715 - recall: 0.5638 - f1_score: 0.6515 - val_loss: 0.7114 - val_accuracy: 0.7315 - val_precision: 0.8048 - val_recall: 0.6365 - val_f1_score: 0.7108\n",
      "Epoch 99/100\n",
      "197/197 [==============================] - 3s 15ms/step - loss: 3.5544 - accuracy: 0.6838 - precision: 0.7713 - recall: 0.5659 - f1_score: 0.6528 - val_loss: 0.7007 - val_accuracy: 0.7296 - val_precision: 0.8215 - val_recall: 0.6397 - val_f1_score: 0.7193\n",
      "Epoch 100/100\n",
      "197/197 [==============================] - 3s 15ms/step - loss: 3.5085 - accuracy: 0.6848 - precision: 0.7761 - recall: 0.5602 - f1_score: 0.6507 - val_loss: 0.7085 - val_accuracy: 0.7296 - val_precision: 0.8147 - val_recall: 0.6282 - val_f1_score: 0.7094\n"
     ]
    }
   ],
   "source": [
    "history_categorical = baseline_categorical.fit(\n",
    "    train_cellType_generator,\n",
    "    steps_per_epoch=len(train_data) // batch_size,\n",
    "    epochs=epochs,\n",
    "    validation_data=val_cellType_generator,\n",
    "    validation_steps=len(val_data) // batch_size,\n",
    "    class_weight=class_weight_dict_cellType\n",
    ")"
   ],
   "metadata": {
    "collapsed": false,
    "ExecuteTime": {
     "start_time": "2023-05-03T20:06:20.472954Z",
     "end_time": "2023-05-03T20:11:18.050196Z"
    }
   }
  },
  {
   "cell_type": "code",
   "execution_count": 37,
   "outputs": [
    {
     "name": "stdout",
     "output_type": "stream",
     "text": [
      "62/62 [==============================] - 1s 12ms/step - loss: 0.7155 - accuracy: 0.7207 - precision: 0.7983 - recall: 0.6116 - f1_score: 0.6926\n"
     ]
    },
    {
     "data": {
      "text/plain": "[0.7155326008796692,\n 0.7207070589065552,\n 0.7982860803604126,\n 0.6116161346435547,\n 0.6925935745239258]"
     },
     "execution_count": 37,
     "metadata": {},
     "output_type": "execute_result"
    }
   ],
   "source": [
    "baseline_categorical.evaluate(test_cellType_generator)"
   ],
   "metadata": {
    "collapsed": false,
    "ExecuteTime": {
     "start_time": "2023-05-03T20:13:37.850731Z",
     "end_time": "2023-05-03T20:13:38.635383Z"
    }
   }
  },
  {
   "cell_type": "markdown",
   "source": [
    "两层卷积一层池化，32，64。两层512感知器。"
   ],
   "metadata": {
    "collapsed": false
   }
  },
  {
   "cell_type": "code",
   "execution_count": 11,
   "outputs": [
    {
     "name": "stdout",
     "output_type": "stream",
     "text": [
      "Model: \"sequential_2\"\n",
      "_________________________________________________________________\n",
      " Layer (type)                Output Shape              Param #   \n",
      "=================================================================\n",
      " conv2d (Conv2D)             (None, 27, 27, 32)        896       \n",
      "                                                                 \n",
      " batch_normalization (BatchN  (None, 27, 27, 32)       128       \n",
      " ormalization)                                                   \n",
      "                                                                 \n",
      " conv2d_1 (Conv2D)           (None, 25, 25, 32)        9248      \n",
      "                                                                 \n",
      " batch_normalization_1 (Batc  (None, 25, 25, 32)       128       \n",
      " hNormalization)                                                 \n",
      "                                                                 \n",
      " max_pooling2d (MaxPooling2D  (None, 12, 12, 32)       0         \n",
      " )                                                               \n",
      "                                                                 \n",
      " conv2d_2 (Conv2D)           (None, 12, 12, 64)        18496     \n",
      "                                                                 \n",
      " batch_normalization_2 (Batc  (None, 12, 12, 64)       256       \n",
      " hNormalization)                                                 \n",
      "                                                                 \n",
      " conv2d_3 (Conv2D)           (None, 10, 10, 64)        36928     \n",
      "                                                                 \n",
      " batch_normalization_3 (Batc  (None, 10, 10, 64)       256       \n",
      " hNormalization)                                                 \n",
      "                                                                 \n",
      " max_pooling2d_1 (MaxPooling  (None, 5, 5, 64)         0         \n",
      " 2D)                                                             \n",
      "                                                                 \n",
      " flatten_2 (Flatten)         (None, 1600)              0         \n",
      "                                                                 \n",
      " dense_6 (Dense)             (None, 512)               819712    \n",
      "                                                                 \n",
      " batch_normalization_4 (Batc  (None, 512)              2048      \n",
      " hNormalization)                                                 \n",
      "                                                                 \n",
      " dropout (Dropout)           (None, 512)               0         \n",
      "                                                                 \n",
      " dense_7 (Dense)             (None, 512)               262656    \n",
      "                                                                 \n",
      " batch_normalization_5 (Batc  (None, 512)              2048      \n",
      " hNormalization)                                                 \n",
      "                                                                 \n",
      " dropout_1 (Dropout)         (None, 512)               0         \n",
      "                                                                 \n",
      " dense_8 (Dense)             (None, 1)                 513       \n",
      "                                                                 \n",
      "=================================================================\n",
      "Total params: 1,153,313\n",
      "Trainable params: 1,150,881\n",
      "Non-trainable params: 2,432\n",
      "_________________________________________________________________\n"
     ]
    }
   ],
   "source": [
    "model_binary = tf.keras.models.Sequential([\n",
    "    tf.keras.layers.Conv2D(32, (3,3), activation='relu', input_shape=input_shape, padding='same', kernel_regularizer=tf.keras.regularizers.l2(l2_coeff)),\n",
    "    tf.keras.layers.BatchNormalization(),\n",
    "    tf.keras.layers.Conv2D(32, (3,3), activation='relu', kernel_regularizer=tf.keras.regularizers.l2(l2_coeff)),\n",
    "    tf.keras.layers.BatchNormalization(),\n",
    "    tf.keras.layers.MaxPooling2D(2, 2),\n",
    "    tf.keras.layers.Conv2D(64, (3,3), activation='relu', padding='same', kernel_regularizer=tf.keras.regularizers.l2(l2_coeff)),\n",
    "    tf.keras.layers.BatchNormalization(),\n",
    "    tf.keras.layers.Conv2D(64, (3,3), activation='relu', kernel_regularizer=tf.keras.regularizers.l2(l2_coeff)),\n",
    "    tf.keras.layers.BatchNormalization(),\n",
    "    tf.keras.layers.MaxPooling2D(2, 2),\n",
    "    tf.keras.layers.Flatten(),\n",
    "    tf.keras.layers.Dense(512, activation='relu', kernel_regularizer=tf.keras.regularizers.l2(l2_coeff)),\n",
    "    tf.keras.layers.BatchNormalization(),\n",
    "    tf.keras.layers.Dropout(0.2),\n",
    "    tf.keras.layers.Dense(512, activation='relu', kernel_regularizer=tf.keras.regularizers.l2(l2_coeff)),\n",
    "    tf.keras.layers.BatchNormalization(),\n",
    "    tf.keras.layers.Dropout(0.2),\n",
    "    tf.keras.layers.Dense(1, activation='sigmoid')\n",
    "])\n",
    "model_binary.summary()"
   ],
   "metadata": {
    "collapsed": false,
    "ExecuteTime": {
     "start_time": "2023-05-03T19:42:10.123705Z",
     "end_time": "2023-05-03T19:42:10.401105Z"
    }
   }
  },
  {
   "cell_type": "code",
   "execution_count": 110,
   "outputs": [
    {
     "name": "stdout",
     "output_type": "stream",
     "text": [
      "Model: \"sequential_4\"\n",
      "_________________________________________________________________\n",
      " Layer (type)                Output Shape              Param #   \n",
      "=================================================================\n",
      " conv2d_16 (Conv2D)          (None, 27, 27, 32)        896       \n",
      "                                                                 \n",
      " batch_normalization_24 (Bat  (None, 27, 27, 32)       128       \n",
      " chNormalization)                                                \n",
      "                                                                 \n",
      " conv2d_17 (Conv2D)          (None, 25, 25, 32)        9248      \n",
      "                                                                 \n",
      " batch_normalization_25 (Bat  (None, 25, 25, 32)       128       \n",
      " chNormalization)                                                \n",
      "                                                                 \n",
      " max_pooling2d_8 (MaxPooling  (None, 12, 12, 32)       0         \n",
      " 2D)                                                             \n",
      "                                                                 \n",
      " conv2d_18 (Conv2D)          (None, 12, 12, 64)        18496     \n",
      "                                                                 \n",
      " batch_normalization_26 (Bat  (None, 12, 12, 64)       256       \n",
      " chNormalization)                                                \n",
      "                                                                 \n",
      " conv2d_19 (Conv2D)          (None, 10, 10, 64)        36928     \n",
      "                                                                 \n",
      " batch_normalization_27 (Bat  (None, 10, 10, 64)       256       \n",
      " chNormalization)                                                \n",
      "                                                                 \n",
      " max_pooling2d_9 (MaxPooling  (None, 5, 5, 64)         0         \n",
      " 2D)                                                             \n",
      "                                                                 \n",
      " flatten_4 (Flatten)         (None, 1600)              0         \n",
      "                                                                 \n",
      " dense_12 (Dense)            (None, 512)               819712    \n",
      "                                                                 \n",
      " batch_normalization_28 (Bat  (None, 512)              2048      \n",
      " chNormalization)                                                \n",
      "                                                                 \n",
      " dropout_8 (Dropout)         (None, 512)               0         \n",
      "                                                                 \n",
      " dense_13 (Dense)            (None, 512)               262656    \n",
      "                                                                 \n",
      " batch_normalization_29 (Bat  (None, 512)              2048      \n",
      " chNormalization)                                                \n",
      "                                                                 \n",
      " dropout_9 (Dropout)         (None, 512)               0         \n",
      "                                                                 \n",
      " dense_14 (Dense)            (None, 4)                 2052      \n",
      "                                                                 \n",
      "=================================================================\n",
      "Total params: 1,154,852\n",
      "Trainable params: 1,152,420\n",
      "Non-trainable params: 2,432\n",
      "_________________________________________________________________\n"
     ]
    }
   ],
   "source": [
    "model_categorical = tf.keras.models.Sequential([\n",
    "    tf.keras.layers.Conv2D(32, (3,3), activation='relu', input_shape=input_shape, padding='same', kernel_regularizer=tf.keras.regularizers.l2(l2_coeff)),\n",
    "    tf.keras.layers.BatchNormalization(),\n",
    "    tf.keras.layers.Conv2D(32, (3,3), activation='relu', kernel_regularizer=tf.keras.regularizers.l2(l2_coeff)),\n",
    "    tf.keras.layers.BatchNormalization(),\n",
    "    tf.keras.layers.MaxPooling2D(2, 2),\n",
    "    tf.keras.layers.Conv2D(64, (3,3), activation='relu', padding='same', kernel_regularizer=tf.keras.regularizers.l2(l2_coeff)),\n",
    "    tf.keras.layers.BatchNormalization(),\n",
    "    tf.keras.layers.Conv2D(64, (3,3), activation='relu', kernel_regularizer=tf.keras.regularizers.l2(l2_coeff)),\n",
    "    tf.keras.layers.BatchNormalization(),\n",
    "    tf.keras.layers.MaxPooling2D(2, 2),\n",
    "    tf.keras.layers.Flatten(),\n",
    "    tf.keras.layers.Dense(512, activation='relu', kernel_regularizer=tf.keras.regularizers.l2(l2_coeff)),\n",
    "    tf.keras.layers.BatchNormalization(),\n",
    "    tf.keras.layers.Dropout(0.2),\n",
    "    tf.keras.layers.Dense(512, activation='relu', kernel_regularizer=tf.keras.regularizers.l2(l2_coeff)),\n",
    "    tf.keras.layers.BatchNormalization(),\n",
    "    tf.keras.layers.Dropout(0.2),\n",
    "    tf.keras.layers.Dense(num_classes, activation='softmax')\n",
    "])\n",
    "model_categorical.summary()"
   ],
   "metadata": {
    "collapsed": false,
    "ExecuteTime": {
     "start_time": "2023-05-03T15:32:22.266050Z",
     "end_time": "2023-05-03T15:32:22.363809Z"
    }
   }
  },
  {
   "cell_type": "code",
   "execution_count": 111,
   "outputs": [],
   "source": [
    "model_binary.compile(loss='binary_crossentropy',\n",
    "                     optimizer=tf.keras.optimizers.legacy.Adam(learning_rate=0.0001),\n",
    "                     metrics=['accuracy',\n",
    "                       tf.keras.metrics.Precision(name='precision'),\n",
    "                       tf.keras.metrics.Recall(name='recall'),\n",
    "                       F1Score(name='f1_score')])\n",
    "\n",
    "model_categorical.compile(loss='categorical_crossentropy',\n",
    "                          optimizer=tf.keras.optimizers.legacy.Adam(learning_rate=0.0005),\n",
    "                          metrics=['accuracy',\n",
    "                                   tf.keras.metrics.Precision(name='precision'),\n",
    "                                   tf.keras.metrics.Recall(name='recall'),\n",
    "                                   F1Score(name='f1_score')])"
   ],
   "metadata": {
    "collapsed": false,
    "ExecuteTime": {
     "start_time": "2023-05-03T15:32:24.492588Z",
     "end_time": "2023-05-03T15:32:24.528728Z"
    }
   }
  },
  {
   "cell_type": "code",
   "execution_count": 100,
   "outputs": [],
   "source": [
    "lr_reducer = tf.keras.callbacks.ReduceLROnPlateau(monitor='val_loss', factor=np.sqrt(0.1), cooldown=0, patience=3, min_lr=0.5e-15)"
   ],
   "metadata": {
    "collapsed": false,
    "ExecuteTime": {
     "start_time": "2023-05-03T14:52:56.767094Z",
     "end_time": "2023-05-03T14:52:56.774772Z"
    }
   }
  },
  {
   "cell_type": "code",
   "execution_count": 65,
   "outputs": [
    {
     "name": "stdout",
     "output_type": "stream",
     "text": [
      "Epoch 1/100\n",
      "197/197 [==============================] - 9s 42ms/step - loss: 14.7858 - accuracy: 0.7695 - precision: 0.6901 - recall: 0.8092 - f1_score: 0.7449 - val_loss: 14.1096 - val_accuracy: 0.4107 - val_precision: 0.4107 - val_recall: 1.0000 - val_f1_score: 0.5823 - lr: 1.0000e-04\n",
      "Epoch 2/100\n",
      "197/197 [==============================] - 8s 39ms/step - loss: 13.4769 - accuracy: 0.8302 - precision: 0.7676 - recall: 0.8511 - f1_score: 0.8072 - val_loss: 13.3681 - val_accuracy: 0.4643 - val_precision: 0.4336 - val_recall: 1.0000 - val_f1_score: 0.6049 - lr: 1.0000e-04\n",
      "Epoch 3/100\n",
      "197/197 [==============================] - 8s 39ms/step - loss: 12.4152 - accuracy: 0.8406 - precision: 0.7811 - recall: 0.8584 - f1_score: 0.8179 - val_loss: 11.7309 - val_accuracy: 0.7717 - val_precision: 0.6431 - val_recall: 0.9859 - val_f1_score: 0.7785 - lr: 1.0000e-04\n",
      "Epoch 4/100\n",
      "197/197 [==============================] - 8s 39ms/step - loss: 11.4577 - accuracy: 0.8533 - precision: 0.7987 - recall: 0.8662 - f1_score: 0.8311 - val_loss: 10.6073 - val_accuracy: 0.8878 - val_precision: 0.8541 - val_recall: 0.8754 - val_f1_score: 0.8646 - lr: 1.0000e-04\n",
      "Epoch 5/100\n",
      "197/197 [==============================] - 8s 39ms/step - loss: 10.6211 - accuracy: 0.8549 - precision: 0.8044 - recall: 0.8614 - f1_score: 0.8319 - val_loss: 9.8137 - val_accuracy: 0.8852 - val_precision: 0.8754 - val_recall: 0.8370 - val_f1_score: 0.8558 - lr: 1.0000e-04\n",
      "Epoch 6/100\n",
      "197/197 [==============================] - 8s 41ms/step - loss: 9.8152 - accuracy: 0.8603 - precision: 0.8108 - recall: 0.8676 - f1_score: 0.8382 - val_loss: 9.0897 - val_accuracy: 0.8814 - val_precision: 0.8144 - val_recall: 0.9187 - val_f1_score: 0.8634 - lr: 1.0000e-04\n",
      "Epoch 7/100\n",
      "197/197 [==============================] - 8s 40ms/step - loss: 9.1184 - accuracy: 0.8560 - precision: 0.8055 - recall: 0.8629 - f1_score: 0.8332 - val_loss: 8.5008 - val_accuracy: 0.8253 - val_precision: 0.7080 - val_recall: 0.9734 - val_f1_score: 0.8197 - lr: 1.0000e-04\n",
      "Epoch 8/100\n",
      "197/197 [==============================] - 8s 39ms/step - loss: 8.4294 - accuracy: 0.8595 - precision: 0.8124 - recall: 0.8616 - f1_score: 0.8363 - val_loss: 7.7373 - val_accuracy: 0.8807 - val_precision: 0.8169 - val_recall: 0.9146 - val_f1_score: 0.8630 - lr: 1.0000e-04\n",
      "Epoch 9/100\n",
      "197/197 [==============================] - 8s 39ms/step - loss: 7.8275 - accuracy: 0.8632 - precision: 0.8105 - recall: 0.8766 - f1_score: 0.8422 - val_loss: 7.1728 - val_accuracy: 0.8782 - val_precision: 0.9122 - val_recall: 0.7773 - val_f1_score: 0.8394 - lr: 1.0000e-04\n",
      "Epoch 10/100\n",
      "197/197 [==============================] - 8s 40ms/step - loss: 7.2102 - accuracy: 0.8729 - precision: 0.8268 - recall: 0.8788 - f1_score: 0.8520 - val_loss: 6.5912 - val_accuracy: 0.8973 - val_precision: 0.8475 - val_recall: 0.9146 - val_f1_score: 0.8798 - lr: 1.0000e-04\n",
      "Epoch 11/100\n",
      "197/197 [==============================] - 8s 40ms/step - loss: 6.6877 - accuracy: 0.8778 - precision: 0.8303 - recall: 0.8885 - f1_score: 0.8584 - val_loss: 6.0650 - val_accuracy: 0.9139 - val_precision: 0.8998 - val_recall: 0.8901 - val_f1_score: 0.8949 - lr: 1.0000e-04\n",
      "Epoch 12/100\n",
      "197/197 [==============================] - 8s 38ms/step - loss: 6.1845 - accuracy: 0.8770 - precision: 0.8330 - recall: 0.8815 - f1_score: 0.8566 - val_loss: 5.6510 - val_accuracy: 0.8948 - val_precision: 0.8269 - val_recall: 0.9392 - val_f1_score: 0.8795 - lr: 1.0000e-04\n",
      "Epoch 13/100\n",
      "197/197 [==============================] - 8s 38ms/step - loss: 5.7337 - accuracy: 0.8802 - precision: 0.8413 - recall: 0.8781 - f1_score: 0.8593 - val_loss: 5.1864 - val_accuracy: 0.8980 - val_precision: 0.8292 - val_recall: 0.9455 - val_f1_score: 0.8836 - lr: 1.0000e-04\n",
      "Epoch 14/100\n",
      "197/197 [==============================] - 8s 40ms/step - loss: 5.3084 - accuracy: 0.8821 - precision: 0.8372 - recall: 0.8904 - f1_score: 0.8629 - val_loss: 4.7636 - val_accuracy: 0.9018 - val_precision: 0.8935 - val_recall: 0.8629 - val_f1_score: 0.8780 - lr: 1.0000e-04\n",
      "Epoch 15/100\n",
      "197/197 [==============================] - 8s 39ms/step - loss: 4.9045 - accuracy: 0.8900 - precision: 0.8518 - recall: 0.8910 - f1_score: 0.8710 - val_loss: 4.3959 - val_accuracy: 0.9107 - val_precision: 0.8826 - val_recall: 0.9019 - val_f1_score: 0.8921 - lr: 1.0000e-04\n",
      "Epoch 16/100\n",
      "197/197 [==============================] - 8s 39ms/step - loss: 4.5993 - accuracy: 0.8768 - precision: 0.8354 - recall: 0.8774 - f1_score: 0.8559 - val_loss: 4.1664 - val_accuracy: 0.8769 - val_precision: 0.7870 - val_recall: 0.9596 - val_f1_score: 0.8648 - lr: 1.0000e-04\n",
      "Epoch 17/100\n",
      "197/197 [==============================] - 8s 39ms/step - loss: 4.2552 - accuracy: 0.8906 - precision: 0.8547 - recall: 0.8883 - f1_score: 0.8711 - val_loss: 4.0982 - val_accuracy: 0.7634 - val_precision: 0.6361 - val_recall: 0.9907 - val_f1_score: 0.7747 - lr: 1.0000e-04\n",
      "Epoch 18/100\n",
      "197/197 [==============================] - 8s 41ms/step - loss: 3.9440 - accuracy: 0.8892 - precision: 0.8488 - recall: 0.8940 - f1_score: 0.8708 - val_loss: 3.5019 - val_accuracy: 0.9043 - val_precision: 0.8506 - val_recall: 0.9300 - val_f1_score: 0.8886 - lr: 1.0000e-04\n",
      "Epoch 19/100\n",
      "197/197 [==============================] - 8s 41ms/step - loss: 3.6899 - accuracy: 0.8879 - precision: 0.8522 - recall: 0.8846 - f1_score: 0.8681 - val_loss: 3.2641 - val_accuracy: 0.8884 - val_precision: 0.9461 - val_recall: 0.7696 - val_f1_score: 0.8487 - lr: 1.0000e-04\n",
      "Epoch 20/100\n",
      "197/197 [==============================] - 8s 39ms/step - loss: 3.4530 - accuracy: 0.8833 - precision: 0.8465 - recall: 0.8797 - f1_score: 0.8628 - val_loss: 3.0345 - val_accuracy: 0.8922 - val_precision: 0.8776 - val_recall: 0.8571 - val_f1_score: 0.8672 - lr: 1.0000e-04\n",
      "Epoch 21/100\n",
      "197/197 [==============================] - 8s 39ms/step - loss: 3.2113 - accuracy: 0.8881 - precision: 0.8459 - recall: 0.8951 - f1_score: 0.8698 - val_loss: 2.7799 - val_accuracy: 0.9082 - val_precision: 0.8884 - val_recall: 0.8884 - val_f1_score: 0.8884 - lr: 1.0000e-04\n",
      "Epoch 22/100\n",
      "197/197 [==============================] - 8s 39ms/step - loss: 2.9722 - accuracy: 0.8937 - precision: 0.8566 - recall: 0.8945 - f1_score: 0.8751 - val_loss: 2.5802 - val_accuracy: 0.9222 - val_precision: 0.9003 - val_recall: 0.9115 - val_f1_score: 0.9059 - lr: 1.0000e-04\n",
      "Epoch 23/100\n",
      "197/197 [==============================] - 8s 39ms/step - loss: 2.8104 - accuracy: 0.8922 - precision: 0.8544 - recall: 0.8938 - f1_score: 0.8737 - val_loss: 2.4195 - val_accuracy: 0.9050 - val_precision: 0.9080 - val_recall: 0.8560 - val_f1_score: 0.8813 - lr: 1.0000e-04\n",
      "Epoch 24/100\n",
      "197/197 [==============================] - 8s 39ms/step - loss: 2.6412 - accuracy: 0.8917 - precision: 0.8564 - recall: 0.8890 - f1_score: 0.8724 - val_loss: 2.3240 - val_accuracy: 0.8673 - val_precision: 0.9112 - val_recall: 0.7496 - val_f1_score: 0.8225 - lr: 1.0000e-04\n",
      "Epoch 25/100\n",
      "197/197 [==============================] - 8s 39ms/step - loss: 2.4987 - accuracy: 0.8903 - precision: 0.8565 - recall: 0.8855 - f1_score: 0.8707 - val_loss: 2.1571 - val_accuracy: 0.8871 - val_precision: 0.8066 - val_recall: 0.9516 - val_f1_score: 0.8731 - lr: 1.0000e-04\n",
      "Epoch 26/100\n",
      "197/197 [==============================] - 8s 39ms/step - loss: 2.3360 - accuracy: 0.8978 - precision: 0.8647 - recall: 0.8944 - f1_score: 0.8793 - val_loss: 1.9760 - val_accuracy: 0.9120 - val_precision: 0.8658 - val_recall: 0.9302 - val_f1_score: 0.8969 - lr: 1.0000e-04\n",
      "Epoch 27/100\n",
      "197/197 [==============================] - 8s 40ms/step - loss: 2.2036 - accuracy: 0.8997 - precision: 0.8675 - recall: 0.8966 - f1_score: 0.8818 - val_loss: 1.8863 - val_accuracy: 0.8871 - val_precision: 0.9331 - val_recall: 0.7807 - val_f1_score: 0.8501 - lr: 1.0000e-04\n",
      "Epoch 28/100\n",
      "197/197 [==============================] - 8s 39ms/step - loss: 2.0947 - accuracy: 0.8914 - precision: 0.8514 - recall: 0.8956 - f1_score: 0.8730 - val_loss: 1.8394 - val_accuracy: 0.8782 - val_precision: 0.7966 - val_recall: 0.9440 - val_f1_score: 0.8641 - lr: 1.0000e-04\n",
      "Epoch 29/100\n",
      "197/197 [==============================] - 8s 39ms/step - loss: 1.9742 - accuracy: 0.9019 - precision: 0.8660 - recall: 0.9043 - f1_score: 0.8847 - val_loss: 1.6551 - val_accuracy: 0.9133 - val_precision: 0.8444 - val_recall: 0.9674 - val_f1_score: 0.9017 - lr: 1.0000e-04\n",
      "Epoch 30/100\n",
      "197/197 [==============================] - 8s 38ms/step - loss: 1.8507 - accuracy: 0.9035 - precision: 0.8675 - recall: 0.9072 - f1_score: 0.8869 - val_loss: 1.5402 - val_accuracy: 0.9222 - val_precision: 0.8854 - val_recall: 0.9297 - val_f1_score: 0.9070 - lr: 1.0000e-04\n",
      "Epoch 31/100\n",
      "197/197 [==============================] - 8s 39ms/step - loss: 1.8017 - accuracy: 0.8925 - precision: 0.8540 - recall: 0.8953 - f1_score: 0.8741 - val_loss: 1.4450 - val_accuracy: 0.9235 - val_precision: 0.8959 - val_recall: 0.9209 - val_f1_score: 0.9083 - lr: 1.0000e-04\n",
      "Epoch 32/100\n",
      "197/197 [==============================] - 8s 39ms/step - loss: 1.7154 - accuracy: 0.8957 - precision: 0.8621 - recall: 0.8927 - f1_score: 0.8771 - val_loss: 1.3875 - val_accuracy: 0.9133 - val_precision: 0.9078 - val_recall: 0.8766 - val_f1_score: 0.8919 - lr: 1.0000e-04\n",
      "Epoch 33/100\n",
      "197/197 [==============================] - 8s 39ms/step - loss: 1.6336 - accuracy: 0.9013 - precision: 0.8635 - recall: 0.9062 - f1_score: 0.8843 - val_loss: 1.3185 - val_accuracy: 0.9165 - val_precision: 0.8765 - val_recall: 0.9269 - val_f1_score: 0.9010 - lr: 1.0000e-04\n",
      "Epoch 34/100\n",
      "197/197 [==============================] - 8s 39ms/step - loss: 1.5637 - accuracy: 0.9027 - precision: 0.8682 - recall: 0.9036 - f1_score: 0.8855 - val_loss: 1.2421 - val_accuracy: 0.9216 - val_precision: 0.8950 - val_recall: 0.9159 - val_f1_score: 0.9053 - lr: 1.0000e-04\n",
      "Epoch 35/100\n",
      "197/197 [==============================] - 8s 39ms/step - loss: 1.4945 - accuracy: 0.8957 - precision: 0.8603 - recall: 0.8947 - f1_score: 0.8772 - val_loss: 1.1912 - val_accuracy: 0.9177 - val_precision: 0.9075 - val_recall: 0.8891 - val_f1_score: 0.8982 - lr: 1.0000e-04\n",
      "Epoch 36/100\n",
      "197/197 [==============================] - 8s 38ms/step - loss: 1.4368 - accuracy: 0.9016 - precision: 0.8654 - recall: 0.9049 - f1_score: 0.8847 - val_loss: 1.1305 - val_accuracy: 0.9260 - val_precision: 0.8782 - val_recall: 0.9519 - val_f1_score: 0.9136 - lr: 1.0000e-04\n",
      "Epoch 37/100\n",
      "197/197 [==============================] - 8s 39ms/step - loss: 1.3967 - accuracy: 0.9017 - precision: 0.8672 - recall: 0.9031 - f1_score: 0.8848 - val_loss: 1.1093 - val_accuracy: 0.9158 - val_precision: 0.8759 - val_recall: 0.9274 - val_f1_score: 0.9009 - lr: 1.0000e-04\n",
      "Epoch 38/100\n",
      "197/197 [==============================] - 8s 39ms/step - loss: 1.3397 - accuracy: 0.9046 - precision: 0.8750 - recall: 0.8994 - f1_score: 0.8871 - val_loss: 1.0609 - val_accuracy: 0.9094 - val_precision: 0.8979 - val_recall: 0.8783 - val_f1_score: 0.8880 - lr: 1.0000e-04\n",
      "Epoch 39/100\n",
      "197/197 [==============================] - 8s 38ms/step - loss: 1.2950 - accuracy: 0.9092 - precision: 0.8773 - recall: 0.9094 - f1_score: 0.8930 - val_loss: 1.0534 - val_accuracy: 0.9062 - val_precision: 0.8306 - val_recall: 0.9671 - val_f1_score: 0.8937 - lr: 1.0000e-04\n",
      "Epoch 40/100\n",
      "197/197 [==============================] - 8s 40ms/step - loss: 1.2575 - accuracy: 0.9068 - precision: 0.8760 - recall: 0.9044 - f1_score: 0.8900 - val_loss: 1.0001 - val_accuracy: 0.9037 - val_precision: 0.9185 - val_recall: 0.8401 - val_f1_score: 0.8775 - lr: 1.0000e-04\n",
      "Epoch 41/100\n",
      "197/197 [==============================] - 8s 40ms/step - loss: 1.2348 - accuracy: 0.9044 - precision: 0.8686 - recall: 0.9083 - f1_score: 0.8880 - val_loss: 0.9914 - val_accuracy: 0.8973 - val_precision: 0.9446 - val_recall: 0.7963 - val_f1_score: 0.8641 - lr: 1.0000e-04\n",
      "Epoch 42/100\n",
      "197/197 [==============================] - 8s 39ms/step - loss: 1.1988 - accuracy: 0.9056 - precision: 0.8730 - recall: 0.9046 - f1_score: 0.8885 - val_loss: 0.9393 - val_accuracy: 0.9075 - val_precision: 0.9631 - val_recall: 0.8068 - val_f1_score: 0.8780 - lr: 1.0000e-04\n",
      "Epoch 43/100\n",
      "197/197 [==============================] - 8s 39ms/step - loss: 1.1687 - accuracy: 0.9052 - precision: 0.8740 - recall: 0.9029 - f1_score: 0.8882 - val_loss: 0.9039 - val_accuracy: 0.9190 - val_precision: 0.8656 - val_recall: 0.9503 - val_f1_score: 0.9060 - lr: 1.0000e-04\n",
      "Epoch 44/100\n",
      "197/197 [==============================] - 8s 39ms/step - loss: 1.1489 - accuracy: 0.9076 - precision: 0.8772 - recall: 0.9047 - f1_score: 0.8907 - val_loss: 0.9007 - val_accuracy: 0.9062 - val_precision: 0.8899 - val_recall: 0.8802 - val_f1_score: 0.8851 - lr: 1.0000e-04\n",
      "Epoch 45/100\n",
      "197/197 [==============================] - 8s 40ms/step - loss: 1.1210 - accuracy: 0.9073 - precision: 0.8734 - recall: 0.9093 - f1_score: 0.8910 - val_loss: 0.8626 - val_accuracy: 0.9216 - val_precision: 0.9101 - val_recall: 0.8974 - val_f1_score: 0.9037 - lr: 1.0000e-04\n",
      "Epoch 46/100\n",
      "197/197 [==============================] - 8s 39ms/step - loss: 1.0854 - accuracy: 0.9110 - precision: 0.8831 - recall: 0.9063 - f1_score: 0.8946 - val_loss: 0.8707 - val_accuracy: 0.9037 - val_precision: 0.8293 - val_recall: 0.9643 - val_f1_score: 0.8918 - lr: 1.0000e-04\n",
      "Epoch 47/100\n",
      "197/197 [==============================] - 8s 40ms/step - loss: 1.0657 - accuracy: 0.9116 - precision: 0.8807 - recall: 0.9112 - f1_score: 0.8957 - val_loss: 0.7992 - val_accuracy: 0.9216 - val_precision: 0.8948 - val_recall: 0.9158 - val_f1_score: 0.9052 - lr: 1.0000e-04\n",
      "Epoch 48/100\n",
      "197/197 [==============================] - 8s 40ms/step - loss: 1.0646 - accuracy: 0.9017 - precision: 0.8711 - recall: 0.8966 - f1_score: 0.8837 - val_loss: 0.8162 - val_accuracy: 0.9075 - val_precision: 0.9293 - val_recall: 0.8383 - val_f1_score: 0.8814 - lr: 1.0000e-04\n",
      "Epoch 49/100\n",
      "197/197 [==============================] - 8s 39ms/step - loss: 1.0424 - accuracy: 0.9098 - precision: 0.8808 - recall: 0.9069 - f1_score: 0.8936 - val_loss: 0.8122 - val_accuracy: 0.8960 - val_precision: 0.8175 - val_recall: 0.9611 - val_f1_score: 0.8835 - lr: 1.0000e-04\n",
      "Epoch 50/100\n",
      "197/197 [==============================] - 8s 39ms/step - loss: 1.0146 - accuracy: 0.9078 - precision: 0.8772 - recall: 0.9056 - f1_score: 0.8911 - val_loss: 0.7343 - val_accuracy: 0.9292 - val_precision: 0.9002 - val_recall: 0.9297 - val_f1_score: 0.9147 - lr: 1.0000e-04\n",
      "Epoch 51/100\n",
      "197/197 [==============================] - 8s 39ms/step - loss: 0.9782 - accuracy: 0.9146 - precision: 0.8839 - recall: 0.9155 - f1_score: 0.8994 - val_loss: 0.7205 - val_accuracy: 0.9362 - val_precision: 0.9287 - val_recall: 0.9142 - val_f1_score: 0.9214 - lr: 1.0000e-04\n",
      "Epoch 52/100\n",
      "197/197 [==============================] - 8s 39ms/step - loss: 0.9664 - accuracy: 0.9121 - precision: 0.8799 - recall: 0.9140 - f1_score: 0.8966 - val_loss: 0.7092 - val_accuracy: 0.9235 - val_precision: 0.9039 - val_recall: 0.9095 - val_f1_score: 0.9067 - lr: 1.0000e-04\n",
      "Epoch 53/100\n",
      "197/197 [==============================] - 8s 39ms/step - loss: 0.9626 - accuracy: 0.9159 - precision: 0.8905 - recall: 0.9102 - f1_score: 0.9002 - val_loss: 0.7111 - val_accuracy: 0.9184 - val_precision: 0.8594 - val_recall: 0.9562 - val_f1_score: 0.9052 - lr: 1.0000e-04\n",
      "Epoch 54/100\n",
      "197/197 [==============================] - 8s 39ms/step - loss: 0.9372 - accuracy: 0.9111 - precision: 0.8812 - recall: 0.9100 - f1_score: 0.8953 - val_loss: 0.6821 - val_accuracy: 0.9209 - val_precision: 0.9206 - val_recall: 0.8834 - val_f1_score: 0.9016 - lr: 1.0000e-04\n",
      "Epoch 55/100\n",
      "197/197 [==============================] - 8s 39ms/step - loss: 0.9260 - accuracy: 0.9117 - precision: 0.8801 - recall: 0.9123 - f1_score: 0.8960 - val_loss: 0.7136 - val_accuracy: 0.9158 - val_precision: 0.8499 - val_recall: 0.9641 - val_f1_score: 0.9034 - lr: 1.0000e-04\n",
      "Epoch 56/100\n",
      "197/197 [==============================] - 8s 39ms/step - loss: 0.9107 - accuracy: 0.9187 - precision: 0.8947 - recall: 0.9124 - f1_score: 0.9035 - val_loss: 0.6601 - val_accuracy: 0.9228 - val_precision: 0.9231 - val_recall: 0.8840 - val_f1_score: 0.9031 - lr: 1.0000e-04\n",
      "Epoch 57/100\n",
      "197/197 [==============================] - 8s 39ms/step - loss: 0.9060 - accuracy: 0.9149 - precision: 0.8910 - recall: 0.9066 - f1_score: 0.8988 - val_loss: 0.6479 - val_accuracy: 0.9273 - val_precision: 0.8826 - val_recall: 0.9486 - val_f1_score: 0.9144 - lr: 1.0000e-04\n",
      "Epoch 58/100\n",
      "197/197 [==============================] - 8s 39ms/step - loss: 0.8852 - accuracy: 0.9165 - precision: 0.8886 - recall: 0.9144 - f1_score: 0.9013 - val_loss: 0.6324 - val_accuracy: 0.9311 - val_precision: 0.9376 - val_recall: 0.8908 - val_f1_score: 0.9136 - lr: 1.0000e-04\n",
      "Epoch 59/100\n",
      "197/197 [==============================] - 8s 39ms/step - loss: 0.8663 - accuracy: 0.9156 - precision: 0.8874 - recall: 0.9131 - f1_score: 0.9001 - val_loss: 0.6299 - val_accuracy: 0.9286 - val_precision: 0.9000 - val_recall: 0.9281 - val_f1_score: 0.9138 - lr: 1.0000e-04\n",
      "Epoch 60/100\n",
      "197/197 [==============================] - 8s 41ms/step - loss: 0.8538 - accuracy: 0.9222 - precision: 0.8919 - recall: 0.9258 - f1_score: 0.9085 - val_loss: 0.7424 - val_accuracy: 0.8750 - val_precision: 0.9549 - val_recall: 0.7281 - val_f1_score: 0.8262 - lr: 1.0000e-04\n",
      "Epoch 61/100\n",
      "197/197 [==============================] - 8s 40ms/step - loss: 0.8588 - accuracy: 0.9165 - precision: 0.8937 - recall: 0.9073 - f1_score: 0.9005 - val_loss: 0.6568 - val_accuracy: 0.9101 - val_precision: 0.9220 - val_recall: 0.8513 - val_f1_score: 0.8853 - lr: 1.0000e-04\n",
      "Epoch 62/100\n",
      "197/197 [==============================] - 8s 40ms/step - loss: 0.8327 - accuracy: 0.9213 - precision: 0.8931 - recall: 0.9216 - f1_score: 0.9071 - val_loss: 0.6268 - val_accuracy: 0.9184 - val_precision: 0.8739 - val_recall: 0.9342 - val_f1_score: 0.9030 - lr: 1.0000e-04\n",
      "Epoch 63/100\n",
      "197/197 [==============================] - 8s 39ms/step - loss: 0.8525 - accuracy: 0.9132 - precision: 0.8820 - recall: 0.9139 - f1_score: 0.8977 - val_loss: 0.5955 - val_accuracy: 0.9279 - val_precision: 0.9353 - val_recall: 0.8840 - val_f1_score: 0.9089 - lr: 1.0000e-04\n",
      "Epoch 64/100\n",
      "197/197 [==============================] - 8s 39ms/step - loss: 0.8392 - accuracy: 0.9171 - precision: 0.8889 - recall: 0.9159 - f1_score: 0.9022 - val_loss: 0.6193 - val_accuracy: 0.9190 - val_precision: 0.8971 - val_recall: 0.9068 - val_f1_score: 0.9019 - lr: 1.0000e-04\n",
      "Epoch 65/100\n",
      "197/197 [==============================] - 8s 39ms/step - loss: 0.8266 - accuracy: 0.9189 - precision: 0.8868 - recall: 0.9235 - f1_score: 0.9048 - val_loss: 0.6809 - val_accuracy: 0.8916 - val_precision: 0.9304 - val_recall: 0.7937 - val_f1_score: 0.8567 - lr: 1.0000e-04\n",
      "Epoch 66/100\n",
      "197/197 [==============================] - 7s 38ms/step - loss: 0.8099 - accuracy: 0.9194 - precision: 0.8899 - recall: 0.9204 - f1_score: 0.9049 - val_loss: 0.6073 - val_accuracy: 0.9177 - val_precision: 0.8661 - val_recall: 0.9456 - val_f1_score: 0.9041 - lr: 1.0000e-04\n",
      "Epoch 67/100\n",
      "197/197 [==============================] - 7s 37ms/step - loss: 0.7666 - accuracy: 0.9233 - precision: 0.8979 - recall: 0.9208 - f1_score: 0.9092 - val_loss: 0.5529 - val_accuracy: 0.9426 - val_precision: 0.9210 - val_recall: 0.9410 - val_f1_score: 0.9309 - lr: 3.1623e-05\n",
      "Epoch 68/100\n",
      "197/197 [==============================] - 8s 39ms/step - loss: 0.7501 - accuracy: 0.9289 - precision: 0.9055 - recall: 0.9262 - f1_score: 0.9157 - val_loss: 0.5527 - val_accuracy: 0.9394 - val_precision: 0.9199 - val_recall: 0.9328 - val_f1_score: 0.9263 - lr: 3.1623e-05\n",
      "Epoch 69/100\n",
      "197/197 [==============================] - 8s 39ms/step - loss: 0.7375 - accuracy: 0.9308 - precision: 0.9081 - recall: 0.9275 - f1_score: 0.9177 - val_loss: 0.5349 - val_accuracy: 0.9458 - val_precision: 0.9289 - val_recall: 0.9391 - val_f1_score: 0.9340 - lr: 3.1623e-05\n",
      "Epoch 70/100\n",
      "197/197 [==============================] - 8s 39ms/step - loss: 0.7318 - accuracy: 0.9338 - precision: 0.9128 - recall: 0.9304 - f1_score: 0.9215 - val_loss: 0.5490 - val_accuracy: 0.9369 - val_precision: 0.9195 - val_recall: 0.9267 - val_f1_score: 0.9231 - lr: 3.1623e-05\n",
      "Epoch 71/100\n",
      "197/197 [==============================] - 8s 40ms/step - loss: 0.7308 - accuracy: 0.9305 - precision: 0.9064 - recall: 0.9291 - f1_score: 0.9176 - val_loss: 0.5301 - val_accuracy: 0.9407 - val_precision: 0.9252 - val_recall: 0.9296 - val_f1_score: 0.9274 - lr: 3.1623e-05\n",
      "Epoch 72/100\n",
      "197/197 [==============================] - 8s 40ms/step - loss: 0.7249 - accuracy: 0.9278 - precision: 0.9038 - recall: 0.9254 - f1_score: 0.9145 - val_loss: 0.5255 - val_accuracy: 0.9420 - val_precision: 0.9340 - val_recall: 0.9238 - val_f1_score: 0.9289 - lr: 3.1623e-05\n",
      "Epoch 73/100\n",
      "197/197 [==============================] - 8s 38ms/step - loss: 0.7115 - accuracy: 0.9373 - precision: 0.9165 - recall: 0.9350 - f1_score: 0.9257 - val_loss: 0.5335 - val_accuracy: 0.9318 - val_precision: 0.9009 - val_recall: 0.9360 - val_f1_score: 0.9181 - lr: 3.1623e-05\n",
      "Epoch 74/100\n",
      "197/197 [==============================] - 7s 38ms/step - loss: 0.7076 - accuracy: 0.9313 - precision: 0.9082 - recall: 0.9286 - f1_score: 0.9183 - val_loss: 0.5219 - val_accuracy: 0.9401 - val_precision: 0.9321 - val_recall: 0.9204 - val_f1_score: 0.9262 - lr: 3.1623e-05\n",
      "Epoch 75/100\n",
      "197/197 [==============================] - 8s 38ms/step - loss: 0.7027 - accuracy: 0.9325 - precision: 0.9088 - recall: 0.9320 - f1_score: 0.9202 - val_loss: 0.5191 - val_accuracy: 0.9452 - val_precision: 0.9277 - val_recall: 0.9393 - val_f1_score: 0.9334 - lr: 3.1623e-05\n",
      "Epoch 76/100\n",
      "197/197 [==============================] - 8s 41ms/step - loss: 0.6931 - accuracy: 0.9360 - precision: 0.9149 - recall: 0.9334 - f1_score: 0.9241 - val_loss: 0.5154 - val_accuracy: 0.9439 - val_precision: 0.9301 - val_recall: 0.9330 - val_f1_score: 0.9316 - lr: 3.1623e-05\n",
      "Epoch 77/100\n",
      "197/197 [==============================] - 8s 39ms/step - loss: 0.7044 - accuracy: 0.9313 - precision: 0.9081 - recall: 0.9286 - f1_score: 0.9182 - val_loss: 0.5125 - val_accuracy: 0.9401 - val_precision: 0.9365 - val_recall: 0.9161 - val_f1_score: 0.9262 - lr: 3.1623e-05\n",
      "Epoch 78/100\n",
      "197/197 [==============================] - 8s 39ms/step - loss: 0.6851 - accuracy: 0.9398 - precision: 0.9183 - recall: 0.9390 - f1_score: 0.9286 - val_loss: 0.5365 - val_accuracy: 0.9318 - val_precision: 0.8908 - val_recall: 0.9503 - val_f1_score: 0.9196 - lr: 3.1623e-05\n",
      "Epoch 79/100\n",
      "197/197 [==============================] - 8s 39ms/step - loss: 0.6932 - accuracy: 0.9354 - precision: 0.9139 - recall: 0.9330 - f1_score: 0.9234 - val_loss: 0.5106 - val_accuracy: 0.9369 - val_precision: 0.9359 - val_recall: 0.9082 - val_f1_score: 0.9219 - lr: 3.1623e-05\n",
      "Epoch 80/100\n",
      "197/197 [==============================] - 8s 39ms/step - loss: 0.6824 - accuracy: 0.9360 - precision: 0.9158 - recall: 0.9322 - f1_score: 0.9239 - val_loss: 0.5349 - val_accuracy: 0.9311 - val_precision: 0.8892 - val_recall: 0.9502 - val_f1_score: 0.9187 - lr: 3.1623e-05\n",
      "Epoch 81/100\n",
      "197/197 [==============================] - 8s 39ms/step - loss: 0.6636 - accuracy: 0.9405 - precision: 0.9191 - recall: 0.9398 - f1_score: 0.9293 - val_loss: 0.5054 - val_accuracy: 0.9426 - val_precision: 0.9277 - val_recall: 0.9334 - val_f1_score: 0.9306 - lr: 3.1623e-05\n",
      "Epoch 82/100\n",
      "197/197 [==============================] - 7s 37ms/step - loss: 0.6654 - accuracy: 0.9386 - precision: 0.9169 - recall: 0.9375 - f1_score: 0.9271 - val_loss: 0.5042 - val_accuracy: 0.9401 - val_precision: 0.9204 - val_recall: 0.9347 - val_f1_score: 0.9275 - lr: 3.1623e-05\n",
      "Epoch 83/100\n",
      "197/197 [==============================] - 7s 37ms/step - loss: 0.6575 - accuracy: 0.9419 - precision: 0.9247 - recall: 0.9367 - f1_score: 0.9307 - val_loss: 0.5061 - val_accuracy: 0.9375 - val_precision: 0.9236 - val_recall: 0.9236 - val_f1_score: 0.9236 - lr: 3.1623e-05\n",
      "Epoch 84/100\n",
      "197/197 [==============================] - 7s 37ms/step - loss: 0.6418 - accuracy: 0.9440 - precision: 0.9202 - recall: 0.9479 - f1_score: 0.9339 - val_loss: 0.4931 - val_accuracy: 0.9426 - val_precision: 0.9181 - val_recall: 0.9438 - val_f1_score: 0.9308 - lr: 3.1623e-05\n",
      "Epoch 85/100\n",
      "197/197 [==============================] - 8s 41ms/step - loss: 0.6479 - accuracy: 0.9397 - precision: 0.9194 - recall: 0.9376 - f1_score: 0.9284 - val_loss: 0.5007 - val_accuracy: 0.9407 - val_precision: 0.9146 - val_recall: 0.9419 - val_f1_score: 0.9281 - lr: 3.1623e-05\n",
      "Epoch 86/100\n",
      "197/197 [==============================] - 8s 40ms/step - loss: 0.6487 - accuracy: 0.9424 - precision: 0.9203 - recall: 0.9432 - f1_score: 0.9316 - val_loss: 0.4974 - val_accuracy: 0.9369 - val_precision: 0.9238 - val_recall: 0.9224 - val_f1_score: 0.9231 - lr: 3.1623e-05\n",
      "Epoch 87/100\n",
      "197/197 [==============================] - 8s 40ms/step - loss: 0.6349 - accuracy: 0.9421 - precision: 0.9219 - recall: 0.9405 - f1_score: 0.9311 - val_loss: 0.5187 - val_accuracy: 0.9349 - val_precision: 0.9271 - val_recall: 0.9126 - val_f1_score: 0.9198 - lr: 3.1623e-05\n",
      "Epoch 88/100\n",
      "197/197 [==============================] - 8s 39ms/step - loss: 0.6465 - accuracy: 0.9360 - precision: 0.9144 - recall: 0.9336 - f1_score: 0.9239 - val_loss: 0.4864 - val_accuracy: 0.9439 - val_precision: 0.9172 - val_recall: 0.9486 - val_f1_score: 0.9326 - lr: 1.0000e-05\n",
      "Epoch 89/100\n",
      "197/197 [==============================] - 8s 39ms/step - loss: 0.6216 - accuracy: 0.9429 - precision: 0.9193 - recall: 0.9459 - f1_score: 0.9324 - val_loss: 0.4868 - val_accuracy: 0.9426 - val_precision: 0.9219 - val_recall: 0.9392 - val_f1_score: 0.9304 - lr: 1.0000e-05\n",
      "Epoch 90/100\n",
      "197/197 [==============================] - 8s 39ms/step - loss: 0.6157 - accuracy: 0.9452 - precision: 0.9252 - recall: 0.9452 - f1_score: 0.9351 - val_loss: 0.4866 - val_accuracy: 0.9420 - val_precision: 0.9139 - val_recall: 0.9468 - val_f1_score: 0.9301 - lr: 1.0000e-05\n",
      "Epoch 91/100\n",
      "197/197 [==============================] - 8s 39ms/step - loss: 0.6085 - accuracy: 0.9468 - precision: 0.9276 - recall: 0.9463 - f1_score: 0.9368 - val_loss: 0.4862 - val_accuracy: 0.9388 - val_precision: 0.9158 - val_recall: 0.9358 - val_f1_score: 0.9257 - lr: 1.0000e-05\n",
      "Epoch 92/100\n",
      "197/197 [==============================] - 8s 39ms/step - loss: 0.6168 - accuracy: 0.9454 - precision: 0.9248 - recall: 0.9459 - f1_score: 0.9352 - val_loss: 0.4778 - val_accuracy: 0.9426 - val_precision: 0.9233 - val_recall: 0.9377 - val_f1_score: 0.9304 - lr: 1.0000e-05\n",
      "Epoch 93/100\n",
      "197/197 [==============================] - 8s 39ms/step - loss: 0.5926 - accuracy: 0.9517 - precision: 0.9339 - recall: 0.9517 - f1_score: 0.9427 - val_loss: 0.4823 - val_accuracy: 0.9458 - val_precision: 0.9230 - val_recall: 0.9473 - val_f1_score: 0.9350 - lr: 1.0000e-05\n",
      "Epoch 94/100\n",
      "197/197 [==============================] - 8s 39ms/step - loss: 0.6027 - accuracy: 0.9484 - precision: 0.9325 - recall: 0.9443 - f1_score: 0.9383 - val_loss: 0.4837 - val_accuracy: 0.9388 - val_precision: 0.9237 - val_recall: 0.9266 - val_f1_score: 0.9251 - lr: 1.0000e-05\n",
      "Epoch 95/100\n",
      "197/197 [==============================] - 8s 39ms/step - loss: 0.6086 - accuracy: 0.9476 - precision: 0.9254 - recall: 0.9508 - f1_score: 0.9379 - val_loss: 0.4779 - val_accuracy: 0.9426 - val_precision: 0.9143 - val_recall: 0.9485 - val_f1_score: 0.9311 - lr: 1.0000e-05\n",
      "Epoch 96/100\n",
      "197/197 [==============================] - 8s 39ms/step - loss: 0.6029 - accuracy: 0.9479 - precision: 0.9297 - recall: 0.9467 - f1_score: 0.9381 - val_loss: 0.4762 - val_accuracy: 0.9426 - val_precision: 0.9245 - val_recall: 0.9360 - val_f1_score: 0.9302 - lr: 3.1623e-06\n",
      "Epoch 97/100\n",
      "197/197 [==============================] - 8s 39ms/step - loss: 0.5962 - accuracy: 0.9530 - precision: 0.9370 - recall: 0.9513 - f1_score: 0.9441 - val_loss: 0.4787 - val_accuracy: 0.9407 - val_precision: 0.9192 - val_recall: 0.9378 - val_f1_score: 0.9284 - lr: 3.1623e-06\n",
      "Epoch 98/100\n",
      "197/197 [==============================] - 8s 39ms/step - loss: 0.5814 - accuracy: 0.9510 - precision: 0.9329 - recall: 0.9510 - f1_score: 0.9418 - val_loss: 0.4778 - val_accuracy: 0.9388 - val_precision: 0.9072 - val_recall: 0.9469 - val_f1_score: 0.9266 - lr: 3.1623e-06\n",
      "Epoch 99/100\n",
      "197/197 [==============================] - 8s 39ms/step - loss: 0.5841 - accuracy: 0.9532 - precision: 0.9363 - recall: 0.9524 - f1_score: 0.9443 - val_loss: 0.4741 - val_accuracy: 0.9407 - val_precision: 0.9253 - val_recall: 0.9297 - val_f1_score: 0.9275 - lr: 3.1623e-06\n",
      "Epoch 100/100\n",
      "197/197 [==============================] - 8s 39ms/step - loss: 0.6036 - accuracy: 0.9452 - precision: 0.9302 - recall: 0.9391 - f1_score: 0.9346 - val_loss: 0.4752 - val_accuracy: 0.9413 - val_precision: 0.9243 - val_recall: 0.9329 - val_f1_score: 0.9286 - lr: 3.1623e-06\n"
     ]
    }
   ],
   "source": [
    "history_binary = model_binary.fit(\n",
    "    train_isCancerous_generator,\n",
    "    steps_per_epoch=len(train_data) // batch_size,\n",
    "    epochs=epochs,\n",
    "    validation_data=val_isCancerous_generator,\n",
    "    validation_steps=len(val_data) // batch_size,\n",
    "    class_weight=class_weight_dict_isCancerous\n",
    "    , callbacks=[lr_reducer]\n",
    ")"
   ],
   "metadata": {
    "collapsed": false,
    "ExecuteTime": {
     "start_time": "2023-05-03T14:07:38.869464Z",
     "end_time": "2023-05-03T14:20:30.195299Z"
    }
   }
  },
  {
   "cell_type": "code",
   "execution_count": 66,
   "outputs": [
    {
     "data": {
      "text/plain": "<Figure size 432x288 with 1 Axes>",
      "image/png": "[encoded data removed]"
     },
     "metadata": {
      "needs_background": "light"
     },
     "output_type": "display_data"
    }
   ],
   "source": [
    "train_loss = history_binary.history['loss']\n",
    "val_loss = history_binary.history['val_loss']\n",
    "\n",
    "epochs_range = range(1, epochs + 1)\n",
    "\n",
    "plt.plot(epochs_range, train_loss, label='Training Loss')\n",
    "plt.plot(epochs_range, val_loss, label='Validation Loss')\n",
    "\n",
    "plt.legend()\n",
    "plt.title('Training and Validation Loss in binary')\n",
    "plt.xlabel('Epoch')\n",
    "plt.ylabel('Loss')\n",
    "\n",
    "plt.show()"
   ],
   "metadata": {
    "collapsed": false,
    "ExecuteTime": {
     "start_time": "2023-05-03T14:20:30.216740Z",
     "end_time": "2023-05-03T14:20:30.267416Z"
    }
   }
  },
  {
   "cell_type": "code",
   "execution_count": 67,
   "outputs": [
    {
     "data": {
      "text/plain": "<Figure size 432x288 with 1 Axes>",
      "image/png": "[encoded data removed]"
     },
     "metadata": {
      "needs_background": "light"
     },
     "output_type": "display_data"
    }
   ],
   "source": [
    "train_accuracy = history_binary.history['accuracy']\n",
    "val_accuracy = history_binary.history['val_accuracy']\n",
    "\n",
    "epochs_range = range(1, epochs + 1)\n",
    "\n",
    "plt.plot(epochs_range, train_accuracy, label='Training Accuracy')\n",
    "plt.plot(epochs_range, val_accuracy, label='Validation Accuracy')\n",
    "\n",
    "plt.legend()\n",
    "plt.title('Training and Validation Accuracy in binary')\n",
    "plt.xlabel('Epoch')\n",
    "plt.ylabel('Accuracy')\n",
    "\n",
    "plt.show()"
   ],
   "metadata": {
    "collapsed": false,
    "ExecuteTime": {
     "start_time": "2023-05-03T14:20:30.283477Z",
     "end_time": "2023-05-03T14:20:30.333558Z"
    }
   }
  },
  {
   "cell_type": "markdown",
   "source": [
    "评估不可见数据集的表现"
   ],
   "metadata": {
    "collapsed": false
   }
  },
  {
   "cell_type": "code",
   "execution_count": 95,
   "outputs": [
    {
     "name": "stdout",
     "output_type": "stream",
     "text": [
      "62/62 [==============================] - 2s 28ms/step - loss: 0.5177 - accuracy: 0.9328 - precision: 0.9123 - recall: 0.9204 - f1_score: 0.9163\n"
     ]
    },
    {
     "data": {
      "text/plain": "[0.5177003145217896,\n 0.9328283071517944,\n 0.9122806787490845,\n 0.9203540086746216,\n 0.9162995219230652]"
     },
     "execution_count": 95,
     "metadata": {},
     "output_type": "execute_result"
    }
   ],
   "source": [
    "model_binary.evaluate(test_isCancerous_generator)\n",
    "# TODO: 添加二分类混淆矩阵评估"
   ],
   "metadata": {
    "collapsed": false,
    "ExecuteTime": {
     "start_time": "2023-05-03T14:52:09.299434Z",
     "end_time": "2023-05-03T14:52:11.076384Z"
    }
   }
  },
  {
   "cell_type": "markdown",
   "source": [
    "# 训练多分类"
   ],
   "metadata": {
    "collapsed": false
   }
  },
  {
   "cell_type": "code",
   "execution_count": 112,
   "outputs": [
    {
     "name": "stdout",
     "output_type": "stream",
     "text": [
      "Epoch 1/100\n",
      "197/197 [==============================] - 12s 54ms/step - loss: 19.1581 - accuracy: 0.5543 - precision: 0.5917 - recall: 0.4984 - f1_score: 0.5411 - val_loss: 15.8573 - val_accuracy: 0.2136 - val_precision: 0.2114 - val_recall: 0.2060 - val_f1_score: 0.2087 - lr: 5.0000e-04\n",
      "Epoch 2/100\n",
      "197/197 [==============================] - 10s 51ms/step - loss: 16.8626 - accuracy: 0.6175 - precision: 0.6687 - recall: 0.5467 - f1_score: 0.6016 - val_loss: 13.1966 - val_accuracy: 0.5536 - val_precision: 0.5987 - val_recall: 0.5281 - val_f1_score: 0.5612 - lr: 5.0000e-04\n",
      "Epoch 3/100\n",
      "197/197 [==============================] - 10s 50ms/step - loss: 15.0133 - accuracy: 0.6521 - precision: 0.7154 - recall: 0.5781 - f1_score: 0.6395 - val_loss: 11.2607 - val_accuracy: 0.6614 - val_precision: 0.7313 - val_recall: 0.5797 - val_f1_score: 0.6467 - lr: 5.0000e-04\n",
      "Epoch 4/100\n",
      "197/197 [==============================] - 10s 52ms/step - loss: 13.4465 - accuracy: 0.6557 - precision: 0.7217 - recall: 0.5756 - f1_score: 0.6404 - val_loss: 9.6518 - val_accuracy: 0.7494 - val_precision: 0.7846 - val_recall: 0.6945 - val_f1_score: 0.7368 - lr: 5.0000e-04\n",
      "Epoch 5/100\n",
      "197/197 [==============================] - 10s 51ms/step - loss: 11.8477 - accuracy: 0.6779 - precision: 0.7431 - recall: 0.6032 - f1_score: 0.6658 - val_loss: 8.5212 - val_accuracy: 0.6588 - val_precision: 0.7292 - val_recall: 0.5702 - val_f1_score: 0.6399 - lr: 5.0000e-04\n",
      "Epoch 6/100\n",
      "197/197 [==============================] - 10s 49ms/step - loss: 10.4107 - accuracy: 0.6889 - precision: 0.7495 - recall: 0.6178 - f1_score: 0.6773 - val_loss: 7.1653 - val_accuracy: 0.7162 - val_precision: 0.7646 - val_recall: 0.6422 - val_f1_score: 0.6981 - lr: 5.0000e-04\n",
      "Epoch 7/100\n",
      "197/197 [==============================] - 10s 50ms/step - loss: 9.3910 - accuracy: 0.6759 - precision: 0.7338 - recall: 0.6060 - f1_score: 0.6638 - val_loss: 6.2867 - val_accuracy: 0.6333 - val_precision: 0.6746 - val_recall: 0.5778 - val_f1_score: 0.6225 - lr: 5.0000e-04\n",
      "Epoch 8/100\n",
      "197/197 [==============================] - 10s 50ms/step - loss: 8.3880 - accuracy: 0.6924 - precision: 0.7537 - recall: 0.6202 - f1_score: 0.6804 - val_loss: 5.1674 - val_accuracy: 0.7564 - val_precision: 0.8272 - val_recall: 0.6747 - val_f1_score: 0.7432 - lr: 5.0000e-04\n",
      "Epoch 9/100\n",
      "197/197 [==============================] - 10s 50ms/step - loss: 7.4379 - accuracy: 0.6992 - precision: 0.7573 - recall: 0.6302 - f1_score: 0.6879 - val_loss: 4.5401 - val_accuracy: 0.7143 - val_precision: 0.7512 - val_recall: 0.6798 - val_f1_score: 0.7138 - lr: 5.0000e-04\n",
      "Epoch 10/100\n",
      "197/197 [==============================] - 10s 48ms/step - loss: 6.7875 - accuracy: 0.7059 - precision: 0.7642 - recall: 0.6379 - f1_score: 0.6954 - val_loss: 3.8473 - val_accuracy: 0.7704 - val_precision: 0.8290 - val_recall: 0.6894 - val_f1_score: 0.7528 - lr: 5.0000e-04\n",
      "Epoch 11/100\n",
      "197/197 [==============================] - 10s 49ms/step - loss: 6.2548 - accuracy: 0.7056 - precision: 0.7643 - recall: 0.6314 - f1_score: 0.6915 - val_loss: 3.6385 - val_accuracy: 0.6473 - val_precision: 0.6880 - val_recall: 0.5976 - val_f1_score: 0.6396 - lr: 5.0000e-04\n",
      "Epoch 12/100\n",
      "197/197 [==============================] - 10s 50ms/step - loss: 5.8144 - accuracy: 0.7067 - precision: 0.7684 - recall: 0.6376 - f1_score: 0.6969 - val_loss: 3.4388 - val_accuracy: 0.5950 - val_precision: 0.6312 - val_recall: 0.5568 - val_f1_score: 0.5917 - lr: 5.0000e-04\n",
      "Epoch 13/100\n",
      "197/197 [==============================] - 10s 49ms/step - loss: 5.4271 - accuracy: 0.7119 - precision: 0.7628 - recall: 0.6467 - f1_score: 0.6999 - val_loss: 2.8908 - val_accuracy: 0.6703 - val_precision: 0.7375 - val_recall: 0.6020 - val_f1_score: 0.6629 - lr: 5.0000e-04\n",
      "Epoch 14/100\n",
      "197/197 [==============================] - 10s 48ms/step - loss: 5.1166 - accuracy: 0.7179 - precision: 0.7737 - recall: 0.6513 - f1_score: 0.7072 - val_loss: 2.5342 - val_accuracy: 0.7379 - val_precision: 0.7954 - val_recall: 0.6645 - val_f1_score: 0.7241 - lr: 5.0000e-04\n",
      "Epoch 15/100\n",
      "197/197 [==============================] - 10s 50ms/step - loss: 4.8447 - accuracy: 0.7229 - precision: 0.7787 - recall: 0.6562 - f1_score: 0.7122 - val_loss: 2.4011 - val_accuracy: 0.7079 - val_precision: 0.7606 - val_recall: 0.6645 - val_f1_score: 0.7093 - lr: 5.0000e-04\n",
      "Epoch 16/100\n",
      "197/197 [==============================] - 10s 50ms/step - loss: 4.8010 - accuracy: 0.7129 - precision: 0.7681 - recall: 0.6437 - f1_score: 0.7004 - val_loss: 2.9229 - val_accuracy: 0.4337 - val_precision: 0.4380 - val_recall: 0.3782 - val_f1_score: 0.4059 - lr: 5.0000e-04\n",
      "Epoch 17/100\n",
      "197/197 [==============================] - 10s 50ms/step - loss: 4.8033 - accuracy: 0.7003 - precision: 0.7597 - recall: 0.6294 - f1_score: 0.6884 - val_loss: 2.3373 - val_accuracy: 0.6690 - val_precision: 0.7309 - val_recall: 0.5784 - val_f1_score: 0.6458 - lr: 5.0000e-04\n",
      "Epoch 18/100\n",
      "197/197 [==============================] - 10s 51ms/step - loss: 4.4608 - accuracy: 0.7278 - precision: 0.7879 - recall: 0.6529 - f1_score: 0.7141 - val_loss: 1.9190 - val_accuracy: 0.7985 - val_precision: 0.8532 - val_recall: 0.7156 - val_f1_score: 0.7784 - lr: 5.0000e-04\n",
      "Epoch 19/100\n",
      "197/197 [==============================] - 10s 50ms/step - loss: 4.3637 - accuracy: 0.7278 - precision: 0.7808 - recall: 0.6614 - f1_score: 0.7162 - val_loss: 1.9513 - val_accuracy: 0.7334 - val_precision: 0.7805 - val_recall: 0.6690 - val_f1_score: 0.7205 - lr: 5.0000e-04\n",
      "Epoch 20/100\n",
      "197/197 [==============================] - 10s 49ms/step - loss: 4.2230 - accuracy: 0.7335 - precision: 0.7834 - recall: 0.6667 - f1_score: 0.7203 - val_loss: 1.9078 - val_accuracy: 0.7513 - val_precision: 0.7962 - val_recall: 0.6901 - val_f1_score: 0.7393 - lr: 5.0000e-04\n",
      "Epoch 21/100\n",
      "197/197 [==============================] - 10s 49ms/step - loss: 4.1581 - accuracy: 0.7325 - precision: 0.7884 - recall: 0.6625 - f1_score: 0.7200 - val_loss: 1.7553 - val_accuracy: 0.7717 - val_precision: 0.8094 - val_recall: 0.7283 - val_f1_score: 0.7667 - lr: 5.0000e-04\n",
      "Epoch 22/100\n",
      "197/197 [==============================] - 10s 49ms/step - loss: 4.0135 - accuracy: 0.7405 - precision: 0.7941 - recall: 0.6814 - f1_score: 0.7335 - val_loss: 2.1082 - val_accuracy: 0.6747 - val_precision: 0.6987 - val_recall: 0.6403 - val_f1_score: 0.6682 - lr: 5.0000e-04\n",
      "Epoch 23/100\n",
      "197/197 [==============================] - 11s 54ms/step - loss: 3.9833 - accuracy: 0.7435 - precision: 0.7911 - recall: 0.6805 - f1_score: 0.7316 - val_loss: 2.0868 - val_accuracy: 0.6065 - val_precision: 0.6486 - val_recall: 0.5510 - val_f1_score: 0.5959 - lr: 5.0000e-04\n",
      "Epoch 24/100\n",
      "197/197 [==============================] - 10s 52ms/step - loss: 3.9810 - accuracy: 0.7406 - precision: 0.7898 - recall: 0.6800 - f1_score: 0.7308 - val_loss: 1.6714 - val_accuracy: 0.7672 - val_precision: 0.8087 - val_recall: 0.7226 - val_f1_score: 0.7632 - lr: 5.0000e-04\n",
      "Epoch 25/100\n",
      "197/197 [==============================] - 10s 51ms/step - loss: 3.9194 - accuracy: 0.7498 - precision: 0.8019 - recall: 0.6881 - f1_score: 0.7406 - val_loss: 1.7922 - val_accuracy: 0.7596 - val_precision: 0.7882 - val_recall: 0.7309 - val_f1_score: 0.7584 - lr: 5.0000e-04\n",
      "Epoch 26/100\n",
      "197/197 [==============================] - 10s 52ms/step - loss: 3.9048 - accuracy: 0.7492 - precision: 0.7987 - recall: 0.6895 - f1_score: 0.7401 - val_loss: 1.7268 - val_accuracy: 0.7385 - val_precision: 0.7748 - val_recall: 0.6977 - val_f1_score: 0.7342 - lr: 5.0000e-04\n",
      "Epoch 27/100\n",
      "197/197 [==============================] - 10s 52ms/step - loss: 3.8153 - accuracy: 0.7570 - precision: 0.7995 - recall: 0.7008 - f1_score: 0.7469 - val_loss: 2.1936 - val_accuracy: 0.5415 - val_precision: 0.5793 - val_recall: 0.4962 - val_f1_score: 0.5345 - lr: 5.0000e-04\n",
      "Epoch 28/100\n",
      "197/197 [==============================] - 10s 51ms/step - loss: 3.4994 - accuracy: 0.7762 - precision: 0.8230 - recall: 0.7300 - f1_score: 0.7737 - val_loss: 1.4233 - val_accuracy: 0.8010 - val_precision: 0.8483 - val_recall: 0.7526 - val_f1_score: 0.7976 - lr: 1.5811e-04\n",
      "Epoch 29/100\n",
      "197/197 [==============================] - 10s 51ms/step - loss: 3.3322 - accuracy: 0.7873 - precision: 0.8282 - recall: 0.7346 - f1_score: 0.7786 - val_loss: 1.3519 - val_accuracy: 0.8125 - val_precision: 0.8513 - val_recall: 0.7774 - val_f1_score: 0.8127 - lr: 1.5811e-04\n",
      "Epoch 30/100\n",
      "197/197 [==============================] - 10s 53ms/step - loss: 3.2430 - accuracy: 0.7906 - precision: 0.8345 - recall: 0.7484 - f1_score: 0.7891 - val_loss: 1.3142 - val_accuracy: 0.8131 - val_precision: 0.8496 - val_recall: 0.7672 - val_f1_score: 0.8063 - lr: 1.5811e-04\n",
      "Epoch 31/100\n",
      "197/197 [==============================] - 10s 53ms/step - loss: 3.2397 - accuracy: 0.7843 - precision: 0.8284 - recall: 0.7373 - f1_score: 0.7802 - val_loss: 1.4085 - val_accuracy: 0.7634 - val_precision: 0.8047 - val_recall: 0.7041 - val_f1_score: 0.7510 - lr: 1.5811e-04\n",
      "Epoch 32/100\n",
      "197/197 [==============================] - 11s 53ms/step - loss: 3.2213 - accuracy: 0.7917 - precision: 0.8288 - recall: 0.7368 - f1_score: 0.7801 - val_loss: 1.2276 - val_accuracy: 0.8310 - val_precision: 0.8616 - val_recall: 0.7940 - val_f1_score: 0.8264 - lr: 1.5811e-04\n",
      "Epoch 33/100\n",
      "197/197 [==============================] - 10s 52ms/step - loss: 3.0940 - accuracy: 0.7995 - precision: 0.8404 - recall: 0.7575 - f1_score: 0.7968 - val_loss: 1.2407 - val_accuracy: 0.8233 - val_precision: 0.8534 - val_recall: 0.7870 - val_f1_score: 0.8188 - lr: 1.5811e-04\n",
      "Epoch 34/100\n",
      "197/197 [==============================] - 10s 50ms/step - loss: 3.1462 - accuracy: 0.7937 - precision: 0.8316 - recall: 0.7532 - f1_score: 0.7904 - val_loss: 1.2126 - val_accuracy: 0.8259 - val_precision: 0.8558 - val_recall: 0.7870 - val_f1_score: 0.8199 - lr: 1.5811e-04\n",
      "Epoch 35/100\n",
      "197/197 [==============================] - 10s 51ms/step - loss: 3.1144 - accuracy: 0.7965 - precision: 0.8351 - recall: 0.7540 - f1_score: 0.7925 - val_loss: 1.3620 - val_accuracy: 0.7500 - val_precision: 0.7899 - val_recall: 0.7098 - val_f1_score: 0.7477 - lr: 1.5811e-04\n",
      "Epoch 36/100\n",
      "197/197 [==============================] - 10s 51ms/step - loss: 3.0201 - accuracy: 0.8035 - precision: 0.8410 - recall: 0.7608 - f1_score: 0.7989 - val_loss: 1.1887 - val_accuracy: 0.8284 - val_precision: 0.8587 - val_recall: 0.7870 - val_f1_score: 0.8213 - lr: 1.5811e-04\n",
      "Epoch 37/100\n",
      "197/197 [==============================] - 10s 51ms/step - loss: 3.0666 - accuracy: 0.7963 - precision: 0.8337 - recall: 0.7616 - f1_score: 0.7960 - val_loss: 1.2246 - val_accuracy: 0.8163 - val_precision: 0.8526 - val_recall: 0.7749 - val_f1_score: 0.8119 - lr: 1.5811e-04\n",
      "Epoch 38/100\n",
      "197/197 [==============================] - 10s 49ms/step - loss: 3.0213 - accuracy: 0.8043 - precision: 0.8432 - recall: 0.7586 - f1_score: 0.7986 - val_loss: 1.3111 - val_accuracy: 0.7793 - val_precision: 0.8076 - val_recall: 0.7494 - val_f1_score: 0.7774 - lr: 1.5811e-04\n",
      "Epoch 39/100\n",
      "197/197 [==============================] - 10s 51ms/step - loss: 3.0221 - accuracy: 0.8019 - precision: 0.8408 - recall: 0.7621 - f1_score: 0.7995 - val_loss: 1.1694 - val_accuracy: 0.8380 - val_precision: 0.8699 - val_recall: 0.8017 - val_f1_score: 0.8344 - lr: 1.5811e-04\n",
      "Epoch 40/100\n",
      "197/197 [==============================] - 10s 52ms/step - loss: 2.9872 - accuracy: 0.8024 - precision: 0.8392 - recall: 0.7613 - f1_score: 0.7983 - val_loss: 1.2602 - val_accuracy: 0.7997 - val_precision: 0.8370 - val_recall: 0.7596 - val_f1_score: 0.7964 - lr: 1.5811e-04\n",
      "Epoch 41/100\n",
      "197/197 [==============================] - 10s 52ms/step - loss: 2.9473 - accuracy: 0.8087 - precision: 0.8457 - recall: 0.7697 - f1_score: 0.8059 - val_loss: 1.3396 - val_accuracy: 0.7596 - val_precision: 0.7987 - val_recall: 0.7188 - val_f1_score: 0.7566 - lr: 1.5811e-04\n",
      "Epoch 42/100\n",
      "197/197 [==============================] - 10s 51ms/step - loss: 2.9422 - accuracy: 0.8090 - precision: 0.8450 - recall: 0.7752 - f1_score: 0.8086 - val_loss: 1.2185 - val_accuracy: 0.8125 - val_precision: 0.8490 - val_recall: 0.7742 - val_f1_score: 0.8099 - lr: 1.5811e-04\n",
      "Epoch 43/100\n",
      "197/197 [==============================] - 10s 52ms/step - loss: 2.8051 - accuracy: 0.8198 - precision: 0.8542 - recall: 0.7819 - f1_score: 0.8164 - val_loss: 1.1827 - val_accuracy: 0.8265 - val_precision: 0.8546 - val_recall: 0.7908 - val_f1_score: 0.8215 - lr: 5.0000e-05\n",
      "Epoch 44/100\n",
      "197/197 [==============================] - 10s 51ms/step - loss: 2.7360 - accuracy: 0.8270 - precision: 0.8557 - recall: 0.7938 - f1_score: 0.8236 - val_loss: 1.1785 - val_accuracy: 0.8227 - val_precision: 0.8559 - val_recall: 0.7876 - val_f1_score: 0.8203 - lr: 5.0000e-05\n",
      "Epoch 45/100\n",
      "197/197 [==============================] - 10s 52ms/step - loss: 2.6982 - accuracy: 0.8270 - precision: 0.8621 - recall: 0.7959 - f1_score: 0.8277 - val_loss: 1.1233 - val_accuracy: 0.8355 - val_precision: 0.8604 - val_recall: 0.8061 - val_f1_score: 0.8324 - lr: 5.0000e-05\n",
      "Epoch 46/100\n",
      "197/197 [==============================] - 10s 50ms/step - loss: 2.6448 - accuracy: 0.8314 - precision: 0.8603 - recall: 0.7968 - f1_score: 0.8274 - val_loss: 1.1361 - val_accuracy: 0.8272 - val_precision: 0.8576 - val_recall: 0.7953 - val_f1_score: 0.8253 - lr: 5.0000e-05\n",
      "Epoch 47/100\n",
      "197/197 [==============================] - 10s 49ms/step - loss: 2.5713 - accuracy: 0.8359 - precision: 0.8675 - recall: 0.8067 - f1_score: 0.8360 - val_loss: 1.1537 - val_accuracy: 0.8176 - val_precision: 0.8486 - val_recall: 0.7864 - val_f1_score: 0.8163 - lr: 5.0000e-05\n",
      "Epoch 48/100\n",
      "197/197 [==============================] - 10s 50ms/step - loss: 2.6214 - accuracy: 0.8373 - precision: 0.8658 - recall: 0.8089 - f1_score: 0.8364 - val_loss: 1.1004 - val_accuracy: 0.8463 - val_precision: 0.8676 - val_recall: 0.8151 - val_f1_score: 0.8405 - lr: 5.0000e-05\n",
      "Epoch 49/100\n",
      "197/197 [==============================] - 10s 50ms/step - loss: 2.5555 - accuracy: 0.8405 - precision: 0.8694 - recall: 0.8114 - f1_score: 0.8394 - val_loss: 1.1353 - val_accuracy: 0.8253 - val_precision: 0.8534 - val_recall: 0.8017 - val_f1_score: 0.8267 - lr: 5.0000e-05\n",
      "Epoch 50/100\n",
      "197/197 [==============================] - 10s 49ms/step - loss: 2.4684 - accuracy: 0.8497 - precision: 0.8732 - recall: 0.8179 - f1_score: 0.8447 - val_loss: 1.1018 - val_accuracy: 0.8348 - val_precision: 0.8670 - val_recall: 0.8106 - val_f1_score: 0.8378 - lr: 5.0000e-05\n",
      "Epoch 51/100\n",
      "197/197 [==============================] - 10s 48ms/step - loss: 2.5550 - accuracy: 0.8373 - precision: 0.8641 - recall: 0.8114 - f1_score: 0.8369 - val_loss: 1.0878 - val_accuracy: 0.8431 - val_precision: 0.8697 - val_recall: 0.8176 - val_f1_score: 0.8429 - lr: 5.0000e-05\n",
      "Epoch 52/100\n",
      "197/197 [==============================] - 10s 49ms/step - loss: 2.4874 - accuracy: 0.8416 - precision: 0.8685 - recall: 0.8156 - f1_score: 0.8412 - val_loss: 1.1003 - val_accuracy: 0.8380 - val_precision: 0.8639 - val_recall: 0.8138 - val_f1_score: 0.8381 - lr: 5.0000e-05\n",
      "Epoch 53/100\n",
      "197/197 [==============================] - 10s 51ms/step - loss: 2.4953 - accuracy: 0.8468 - precision: 0.8709 - recall: 0.8171 - f1_score: 0.8432 - val_loss: 1.1008 - val_accuracy: 0.8444 - val_precision: 0.8625 - val_recall: 0.8080 - val_f1_score: 0.8344 - lr: 5.0000e-05\n",
      "Epoch 54/100\n",
      "197/197 [==============================] - 10s 52ms/step - loss: 2.5167 - accuracy: 0.8435 - precision: 0.8668 - recall: 0.8149 - f1_score: 0.8401 - val_loss: 1.1152 - val_accuracy: 0.8170 - val_precision: 0.8430 - val_recall: 0.7946 - val_f1_score: 0.8181 - lr: 5.0000e-05\n",
      "Epoch 55/100\n",
      "197/197 [==============================] - 10s 52ms/step - loss: 2.3954 - accuracy: 0.8530 - precision: 0.8810 - recall: 0.8260 - f1_score: 0.8526 - val_loss: 1.0810 - val_accuracy: 0.8355 - val_precision: 0.8599 - val_recall: 0.8106 - val_f1_score: 0.8345 - lr: 1.5811e-05\n",
      "Epoch 56/100\n",
      "197/197 [==============================] - 10s 52ms/step - loss: 2.3661 - accuracy: 0.8559 - precision: 0.8810 - recall: 0.8259 - f1_score: 0.8525 - val_loss: 1.0799 - val_accuracy: 0.8348 - val_precision: 0.8605 - val_recall: 0.8068 - val_f1_score: 0.8328 - lr: 1.5811e-05\n",
      "Epoch 57/100\n",
      "197/197 [==============================] - 10s 51ms/step - loss: 2.3491 - accuracy: 0.8448 - precision: 0.8733 - recall: 0.8195 - f1_score: 0.8456 - val_loss: 1.0854 - val_accuracy: 0.8367 - val_precision: 0.8544 - val_recall: 0.8048 - val_f1_score: 0.8289 - lr: 1.5811e-05\n",
      "Epoch 58/100\n",
      "197/197 [==============================] - 10s 50ms/step - loss: 2.3557 - accuracy: 0.8540 - precision: 0.8791 - recall: 0.8276 - f1_score: 0.8526 - val_loss: 1.0768 - val_accuracy: 0.8425 - val_precision: 0.8663 - val_recall: 0.8138 - val_f1_score: 0.8392 - lr: 1.5811e-05\n",
      "Epoch 59/100\n",
      "197/197 [==============================] - 11s 53ms/step - loss: 2.3215 - accuracy: 0.8530 - precision: 0.8753 - recall: 0.8254 - f1_score: 0.8496 - val_loss: 1.0699 - val_accuracy: 0.8399 - val_precision: 0.8572 - val_recall: 0.8157 - val_f1_score: 0.8359 - lr: 1.5811e-05\n",
      "Epoch 60/100\n",
      "197/197 [==============================] - 10s 52ms/step - loss: 2.3628 - accuracy: 0.8549 - precision: 0.8804 - recall: 0.8333 - f1_score: 0.8562 - val_loss: 1.0738 - val_accuracy: 0.8386 - val_precision: 0.8582 - val_recall: 0.8182 - val_f1_score: 0.8377 - lr: 1.5811e-05\n",
      "Epoch 61/100\n",
      "197/197 [==============================] - 10s 50ms/step - loss: 2.3217 - accuracy: 0.8556 - precision: 0.8785 - recall: 0.8322 - f1_score: 0.8547 - val_loss: 1.0646 - val_accuracy: 0.8399 - val_precision: 0.8624 - val_recall: 0.8195 - val_f1_score: 0.8404 - lr: 1.5811e-05\n",
      "Epoch 62/100\n",
      "197/197 [==============================] - 10s 51ms/step - loss: 2.2793 - accuracy: 0.8579 - precision: 0.8838 - recall: 0.8351 - f1_score: 0.8587 - val_loss: 1.0724 - val_accuracy: 0.8399 - val_precision: 0.8577 - val_recall: 0.8189 - val_f1_score: 0.8378 - lr: 1.5811e-05\n",
      "Epoch 63/100\n",
      "197/197 [==============================] - 10s 52ms/step - loss: 2.3149 - accuracy: 0.8621 - precision: 0.8845 - recall: 0.8371 - f1_score: 0.8601 - val_loss: 1.0615 - val_accuracy: 0.8425 - val_precision: 0.8643 - val_recall: 0.8163 - val_f1_score: 0.8396 - lr: 1.5811e-05\n",
      "Epoch 64/100\n",
      "197/197 [==============================] - 10s 49ms/step - loss: 2.2731 - accuracy: 0.8570 - precision: 0.8819 - recall: 0.8354 - f1_score: 0.8580 - val_loss: 1.0894 - val_accuracy: 0.8329 - val_precision: 0.8535 - val_recall: 0.8061 - val_f1_score: 0.8291 - lr: 1.5811e-05\n",
      "Epoch 65/100\n",
      "197/197 [==============================] - 10s 50ms/step - loss: 2.2732 - accuracy: 0.8567 - precision: 0.8780 - recall: 0.8338 - f1_score: 0.8553 - val_loss: 1.0572 - val_accuracy: 0.8418 - val_precision: 0.8629 - val_recall: 0.8151 - val_f1_score: 0.8383 - lr: 1.5811e-05\n",
      "Epoch 66/100\n",
      "197/197 [==============================] - 10s 50ms/step - loss: 2.1807 - accuracy: 0.8714 - precision: 0.8915 - recall: 0.8427 - f1_score: 0.8664 - val_loss: 1.0645 - val_accuracy: 0.8374 - val_precision: 0.8585 - val_recall: 0.8163 - val_f1_score: 0.8369 - lr: 1.5811e-05\n",
      "Epoch 67/100\n",
      "197/197 [==============================] - 11s 54ms/step - loss: 2.2020 - accuracy: 0.8637 - precision: 0.8869 - recall: 0.8438 - f1_score: 0.8648 - val_loss: 1.0485 - val_accuracy: 0.8495 - val_precision: 0.8655 - val_recall: 0.8246 - val_f1_score: 0.8445 - lr: 1.5811e-05\n",
      "Epoch 68/100\n",
      "197/197 [==============================] - 10s 51ms/step - loss: 2.2519 - accuracy: 0.8590 - precision: 0.8802 - recall: 0.8354 - f1_score: 0.8572 - val_loss: 1.0628 - val_accuracy: 0.8406 - val_precision: 0.8573 - val_recall: 0.8202 - val_f1_score: 0.8383 - lr: 1.5811e-05\n",
      "Epoch 69/100\n",
      "197/197 [==============================] - 10s 50ms/step - loss: 2.2359 - accuracy: 0.8573 - precision: 0.8850 - recall: 0.8365 - f1_score: 0.8601 - val_loss: 1.0689 - val_accuracy: 0.8418 - val_precision: 0.8603 - val_recall: 0.8170 - val_f1_score: 0.8381 - lr: 1.5811e-05\n",
      "Epoch 70/100\n",
      "197/197 [==============================] - 10s 52ms/step - loss: 2.1882 - accuracy: 0.8638 - precision: 0.8865 - recall: 0.8395 - f1_score: 0.8624 - val_loss: 1.0611 - val_accuracy: 0.8393 - val_precision: 0.8587 - val_recall: 0.8214 - val_f1_score: 0.8396 - lr: 1.5811e-05\n",
      "Epoch 71/100\n",
      "197/197 [==============================] - 10s 52ms/step - loss: 2.1917 - accuracy: 0.8637 - precision: 0.8878 - recall: 0.8427 - f1_score: 0.8647 - val_loss: 1.0558 - val_accuracy: 0.8406 - val_precision: 0.8606 - val_recall: 0.8189 - val_f1_score: 0.8392 - lr: 5.0000e-06\n",
      "Epoch 72/100\n",
      "197/197 [==============================] - 10s 52ms/step - loss: 2.1831 - accuracy: 0.8656 - precision: 0.8880 - recall: 0.8446 - f1_score: 0.8658 - val_loss: 1.0424 - val_accuracy: 0.8476 - val_precision: 0.8674 - val_recall: 0.8259 - val_f1_score: 0.8461 - lr: 5.0000e-06\n",
      "Epoch 73/100\n",
      "197/197 [==============================] - 10s 52ms/step - loss: 2.1412 - accuracy: 0.8683 - precision: 0.8893 - recall: 0.8444 - f1_score: 0.8663 - val_loss: 1.0464 - val_accuracy: 0.8450 - val_precision: 0.8650 - val_recall: 0.8253 - val_f1_score: 0.8446 - lr: 5.0000e-06\n",
      "Epoch 74/100\n",
      "197/197 [==============================] - 10s 52ms/step - loss: 2.2487 - accuracy: 0.8603 - precision: 0.8814 - recall: 0.8376 - f1_score: 0.8590 - val_loss: 1.0439 - val_accuracy: 0.8438 - val_precision: 0.8668 - val_recall: 0.8214 - val_f1_score: 0.8435 - lr: 5.0000e-06\n",
      "Epoch 75/100\n",
      "197/197 [==============================] - 10s 52ms/step - loss: 2.1122 - accuracy: 0.8711 - precision: 0.8919 - recall: 0.8475 - f1_score: 0.8691 - val_loss: 1.0434 - val_accuracy: 0.8444 - val_precision: 0.8618 - val_recall: 0.8195 - val_f1_score: 0.8401 - lr: 5.0000e-06\n",
      "Epoch 76/100\n",
      "197/197 [==============================] - 10s 53ms/step - loss: 2.1498 - accuracy: 0.8671 - precision: 0.8910 - recall: 0.8451 - f1_score: 0.8675 - val_loss: 1.0479 - val_accuracy: 0.8431 - val_precision: 0.8626 - val_recall: 0.8208 - val_f1_score: 0.8412 - lr: 1.5811e-06\n",
      "Epoch 77/100\n",
      "197/197 [==============================] - 10s 53ms/step - loss: 2.1560 - accuracy: 0.8773 - precision: 0.8964 - recall: 0.8533 - f1_score: 0.8744 - val_loss: 1.0513 - val_accuracy: 0.8418 - val_precision: 0.8600 - val_recall: 0.8189 - val_f1_score: 0.8389 - lr: 1.5811e-06\n",
      "Epoch 78/100\n",
      "197/197 [==============================] - 10s 52ms/step - loss: 2.1466 - accuracy: 0.8690 - precision: 0.8904 - recall: 0.8449 - f1_score: 0.8671 - val_loss: 1.0499 - val_accuracy: 0.8431 - val_precision: 0.8622 - val_recall: 0.8182 - val_f1_score: 0.8397 - lr: 1.5811e-06\n",
      "Epoch 79/100\n",
      "197/197 [==============================] - 10s 53ms/step - loss: 2.1860 - accuracy: 0.8700 - precision: 0.8898 - recall: 0.8497 - f1_score: 0.8693 - val_loss: 1.0459 - val_accuracy: 0.8450 - val_precision: 0.8642 - val_recall: 0.8195 - val_f1_score: 0.8412 - lr: 5.0000e-07\n",
      "Epoch 80/100\n",
      "197/197 [==============================] - 10s 51ms/step - loss: 2.1447 - accuracy: 0.8716 - precision: 0.8943 - recall: 0.8505 - f1_score: 0.8719 - val_loss: 1.0463 - val_accuracy: 0.8469 - val_precision: 0.8645 - val_recall: 0.8221 - val_f1_score: 0.8428 - lr: 5.0000e-07\n",
      "Epoch 81/100\n",
      "197/197 [==============================] - 10s 51ms/step - loss: 2.1792 - accuracy: 0.8629 - precision: 0.8854 - recall: 0.8403 - f1_score: 0.8623 - val_loss: 1.0441 - val_accuracy: 0.8469 - val_precision: 0.8663 - val_recall: 0.8221 - val_f1_score: 0.8436 - lr: 5.0000e-07\n",
      "Epoch 82/100\n",
      "197/197 [==============================] - 10s 49ms/step - loss: 2.1636 - accuracy: 0.8683 - precision: 0.8896 - recall: 0.8432 - f1_score: 0.8658 - val_loss: 1.0471 - val_accuracy: 0.8450 - val_precision: 0.8643 - val_recall: 0.8208 - val_f1_score: 0.8420 - lr: 1.5811e-07\n",
      "Epoch 83/100\n",
      "197/197 [==============================] - 10s 49ms/step - loss: 2.1467 - accuracy: 0.8667 - precision: 0.8879 - recall: 0.8451 - f1_score: 0.8660 - val_loss: 1.0460 - val_accuracy: 0.8450 - val_precision: 0.8649 - val_recall: 0.8208 - val_f1_score: 0.8423 - lr: 1.5811e-07\n",
      "Epoch 84/100\n",
      "197/197 [==============================] - 10s 52ms/step - loss: 2.1829 - accuracy: 0.8665 - precision: 0.8884 - recall: 0.8430 - f1_score: 0.8651 - val_loss: 1.0489 - val_accuracy: 0.8438 - val_precision: 0.8623 - val_recall: 0.8189 - val_f1_score: 0.8400 - lr: 1.5811e-07\n",
      "Epoch 85/100\n",
      "197/197 [==============================] - 10s 51ms/step - loss: 2.1375 - accuracy: 0.8681 - precision: 0.8917 - recall: 0.8483 - f1_score: 0.8694 - val_loss: 1.0436 - val_accuracy: 0.8438 - val_precision: 0.8631 - val_recall: 0.8240 - val_f1_score: 0.8431 - lr: 5.0000e-08\n",
      "Epoch 86/100\n",
      "197/197 [==============================] - 10s 53ms/step - loss: 2.1257 - accuracy: 0.8676 - precision: 0.8885 - recall: 0.8473 - f1_score: 0.8674 - val_loss: 1.0444 - val_accuracy: 0.8469 - val_precision: 0.8635 - val_recall: 0.8233 - val_f1_score: 0.8430 - lr: 5.0000e-08\n",
      "Epoch 87/100\n",
      "197/197 [==============================] - 10s 51ms/step - loss: 2.1486 - accuracy: 0.8703 - precision: 0.8911 - recall: 0.8471 - f1_score: 0.8686 - val_loss: 1.0492 - val_accuracy: 0.8450 - val_precision: 0.8629 - val_recall: 0.8189 - val_f1_score: 0.8403 - lr: 5.0000e-08\n",
      "Epoch 88/100\n",
      "197/197 [==============================] - 10s 52ms/step - loss: 2.1931 - accuracy: 0.8584 - precision: 0.8822 - recall: 0.8354 - f1_score: 0.8581 - val_loss: 1.0446 - val_accuracy: 0.8444 - val_precision: 0.8645 - val_recall: 0.8221 - val_f1_score: 0.8428 - lr: 1.5811e-08\n",
      "Epoch 89/100\n",
      "197/197 [==============================] - 10s 52ms/step - loss: 2.1459 - accuracy: 0.8622 - precision: 0.8846 - recall: 0.8433 - f1_score: 0.8635 - val_loss: 1.0487 - val_accuracy: 0.8425 - val_precision: 0.8631 - val_recall: 0.8202 - val_f1_score: 0.8411 - lr: 1.5811e-08\n",
      "Epoch 90/100\n",
      "197/197 [==============================] - 10s 53ms/step - loss: 2.1630 - accuracy: 0.8668 - precision: 0.8864 - recall: 0.8443 - f1_score: 0.8648 - val_loss: 1.0469 - val_accuracy: 0.8438 - val_precision: 0.8636 - val_recall: 0.8195 - val_f1_score: 0.8410 - lr: 1.5811e-08\n",
      "Epoch 91/100\n",
      "197/197 [==============================] - 10s 52ms/step - loss: 2.1897 - accuracy: 0.8640 - precision: 0.8864 - recall: 0.8425 - f1_score: 0.8639 - val_loss: 1.0473 - val_accuracy: 0.8463 - val_precision: 0.8638 - val_recall: 0.8170 - val_f1_score: 0.8397 - lr: 5.0000e-09\n",
      "Epoch 92/100\n",
      "197/197 [==============================] - 10s 52ms/step - loss: 2.1177 - accuracy: 0.8710 - precision: 0.8921 - recall: 0.8503 - f1_score: 0.8707 - val_loss: 1.0490 - val_accuracy: 0.8450 - val_precision: 0.8638 - val_recall: 0.8208 - val_f1_score: 0.8417 - lr: 5.0000e-09\n",
      "Epoch 93/100\n",
      "197/197 [==============================] - 10s 50ms/step - loss: 2.1600 - accuracy: 0.8629 - precision: 0.8861 - recall: 0.8437 - f1_score: 0.8644 - val_loss: 1.0454 - val_accuracy: 0.8444 - val_precision: 0.8638 - val_recall: 0.8214 - val_f1_score: 0.8421 - lr: 5.0000e-09\n",
      "Epoch 94/100\n",
      "197/197 [==============================] - 10s 51ms/step - loss: 2.2109 - accuracy: 0.8649 - precision: 0.8890 - recall: 0.8432 - f1_score: 0.8655 - val_loss: 1.0484 - val_accuracy: 0.8450 - val_precision: 0.8621 - val_recall: 0.8214 - val_f1_score: 0.8413 - lr: 1.5811e-09\n",
      "Epoch 95/100\n",
      "197/197 [==============================] - 10s 49ms/step - loss: 2.1250 - accuracy: 0.8721 - precision: 0.8939 - recall: 0.8502 - f1_score: 0.8715 - val_loss: 1.0466 - val_accuracy: 0.8431 - val_precision: 0.8644 - val_recall: 0.8214 - val_f1_score: 0.8424 - lr: 1.5811e-09\n",
      "Epoch 96/100\n",
      "197/197 [==============================] - 10s 53ms/step - loss: 2.1907 - accuracy: 0.8643 - precision: 0.8866 - recall: 0.8441 - f1_score: 0.8649 - val_loss: 1.0470 - val_accuracy: 0.8457 - val_precision: 0.8631 - val_recall: 0.8202 - val_f1_score: 0.8411 - lr: 1.5811e-09\n",
      "Epoch 97/100\n",
      "197/197 [==============================] - 10s 53ms/step - loss: 2.1020 - accuracy: 0.8706 - precision: 0.8937 - recall: 0.8514 - f1_score: 0.8721 - val_loss: 1.0499 - val_accuracy: 0.8438 - val_precision: 0.8635 - val_recall: 0.8189 - val_f1_score: 0.8406 - lr: 5.0000e-10\n",
      "Epoch 98/100\n",
      "197/197 [==============================] - 10s 52ms/step - loss: 2.1586 - accuracy: 0.8695 - precision: 0.8916 - recall: 0.8475 - f1_score: 0.8690 - val_loss: 1.0428 - val_accuracy: 0.8463 - val_precision: 0.8648 - val_recall: 0.8240 - val_f1_score: 0.8439 - lr: 5.0000e-10\n",
      "Epoch 99/100\n",
      "197/197 [==============================] - 10s 51ms/step - loss: 2.1498 - accuracy: 0.8675 - precision: 0.8920 - recall: 0.8473 - f1_score: 0.8691 - val_loss: 1.0509 - val_accuracy: 0.8438 - val_precision: 0.8619 - val_recall: 0.8202 - val_f1_score: 0.8405 - lr: 5.0000e-10\n",
      "Epoch 100/100\n",
      "197/197 [==============================] - 11s 55ms/step - loss: 2.1050 - accuracy: 0.8751 - precision: 0.8967 - recall: 0.8514 - f1_score: 0.8735 - val_loss: 1.0482 - val_accuracy: 0.8457 - val_precision: 0.8627 - val_recall: 0.8214 - val_f1_score: 0.8416 - lr: 1.5811e-10\n"
     ]
    }
   ],
   "source": [
    "epochs = 100\n",
    "history_categorical = model_categorical.fit(\n",
    "    train_cellType_generator,\n",
    "    steps_per_epoch=len(train_data) // batch_size,\n",
    "    epochs=epochs,\n",
    "    validation_data=val_cellType_generator,\n",
    "    validation_steps=len(val_data) // batch_size,\n",
    "    class_weight=class_weight_dict_cellType\n",
    "    , callbacks=[lr_reducer]\n",
    ")"
   ],
   "metadata": {
    "collapsed": false,
    "ExecuteTime": {
     "start_time": "2023-05-03T15:32:31.233324Z",
     "end_time": "2023-05-03T15:49:19.769610Z"
    }
   }
  },
  {
   "cell_type": "code",
   "execution_count": 113,
   "outputs": [
    {
     "data": {
      "text/plain": "<Figure size 432x288 with 1 Axes>",
      "image/png": "[encoded data removed]"
     },
     "metadata": {
      "needs_background": "light"
     },
     "output_type": "display_data"
    }
   ],
   "source": [
    "train_loss = history_categorical.history['loss']\n",
    "val_loss = history_categorical.history['val_loss']\n",
    "\n",
    "epochs_range = range(1, epochs + 1)\n",
    "\n",
    "plt.plot(epochs_range, train_loss, label='Training Loss')\n",
    "plt.plot(epochs_range, val_loss, label='Validation Loss')\n",
    "\n",
    "plt.legend()\n",
    "plt.title('Training and Validation Loss in multi-category')\n",
    "plt.xlabel('Epoch')\n",
    "plt.ylabel('Loss')\n",
    "\n",
    "plt.show()"
   ],
   "metadata": {
    "collapsed": false,
    "ExecuteTime": {
     "start_time": "2023-05-03T15:56:00.457735Z",
     "end_time": "2023-05-03T15:56:00.531161Z"
    }
   }
  },
  {
   "cell_type": "code",
   "execution_count": 114,
   "outputs": [
    {
     "data": {
      "text/plain": "<Figure size 432x288 with 1 Axes>",
      "image/png": "[encoded data removed]"
     },
     "metadata": {
      "needs_background": "light"
     },
     "output_type": "display_data"
    }
   ],
   "source": [
    "train_accuracy = history_categorical.history['accuracy']\n",
    "val_accuracy = history_categorical.history['val_accuracy']\n",
    "\n",
    "epochs_range = range(1, epochs + 1)\n",
    "\n",
    "plt.plot(epochs_range, train_accuracy, label='Training Accuracy')\n",
    "plt.plot(epochs_range, val_accuracy, label='Validation Accuracy')\n",
    "\n",
    "plt.legend()\n",
    "plt.title('Training and Validation Accuracy in multi-category')\n",
    "plt.xlabel('Epoch')\n",
    "plt.ylabel('Accuracy')\n",
    "\n",
    "plt.show()"
   ],
   "metadata": {
    "collapsed": false,
    "ExecuteTime": {
     "start_time": "2023-05-03T15:56:02.686612Z",
     "end_time": "2023-05-03T15:56:02.743730Z"
    }
   }
  },
  {
   "cell_type": "code",
   "execution_count": 179,
   "outputs": [
    {
     "name": "stdout",
     "output_type": "stream",
     "text": [
      "62/62 [==============================] - 3s 44ms/step - loss: 1.1019 - accuracy: 0.8318 - precision: 0.8493 - recall: 0.8141 - f1_score: 0.8314\n"
     ]
    },
    {
     "data": {
      "text/plain": "[1.1018544435501099,\n 0.831818163394928,\n 0.8493150472640991,\n 0.8141413927078247,\n 0.8313562870025635]"
     },
     "execution_count": 179,
     "metadata": {},
     "output_type": "execute_result"
    }
   ],
   "source": [
    "# # 预测\n",
    "# predictions = model_categorical.predict(test_cellType_generator)\n",
    "#\n",
    "# # 获取预测标签\n",
    "# predicted_labels = np.argmax(predictions, axis=-1)\n",
    "#\n",
    "# # 计算准确度\n",
    "# true_labels = test_cellType_generator.classes\n",
    "# accuracy = accuracy_score(true_labels, predicted_labels)\n",
    "# print(f\"Accuracy: {accuracy}\")\n",
    "#\n",
    "# # 计算损失\n",
    "# y_true = tf.keras.utils.to_categorical(true_labels, num_classes=4) # 根据您的类别数量更改 num_classes\n",
    "# loss = tf.reduce_mean(tf.keras.losses.categorical_crossentropy(y_true, predictions))\n",
    "# print(f\"Loss: {loss}\")\n",
    "\n",
    "model_categorical.evaluate(test_cellType_generator)"
   ],
   "metadata": {
    "collapsed": false,
    "ExecuteTime": {
     "start_time": "2023-05-03T16:58:36.540703Z",
     "end_time": "2023-05-03T16:58:39.686925Z"
    }
   }
  },
  {
   "cell_type": "code",
   "execution_count": 116,
   "outputs": [
    {
     "name": "stderr",
     "output_type": "stream",
     "text": [
      "WARNING:absl:Found untraced functions such as _jit_compiled_convolution_op, _jit_compiled_convolution_op, _jit_compiled_convolution_op, _jit_compiled_convolution_op while saving (showing 4 of 4). These functions will not be directly callable after loading.\n"
     ]
    },
    {
     "name": "stdout",
     "output_type": "stream",
     "text": [
      "INFO:tensorflow:Assets written to: saved_model/model_categorical/assets\n"
     ]
    },
    {
     "name": "stderr",
     "output_type": "stream",
     "text": [
      "INFO:tensorflow:Assets written to: saved_model/model_categorical/assets\n"
     ]
    }
   ],
   "source": [
    "model_categorical.save('saved_model/model_categorical')"
   ],
   "metadata": {
    "collapsed": false,
    "ExecuteTime": {
     "start_time": "2023-05-03T15:56:14.237926Z",
     "end_time": "2023-05-03T15:56:15.664062Z"
    }
   }
  },
  {
   "cell_type": "markdown",
   "source": [
    "# DI/HD 使用data_labels_extraData对多分类的模型进行增强\n",
    "通过半监督学习。我们将采用UDA。\n",
    "首先先获取额外的数据集并且进行相关处理。\n",
    "我们从数据集可以观察到，没有癌症在多分类中为2。所以我们可以将不是癌症的样本之间指定其多分类的类别为2."
   ],
   "metadata": {
    "collapsed": false
   }
  },
  {
   "cell_type": "code",
   "execution_count": 209,
   "outputs": [],
   "source": [
    "model_categorical = tf.keras.models.load_model('saved_model/model_categorical', custom_objects={\"F1Score\": F1Score})\n",
    "data_extra = pd.read_csv('./Image_classification_data/data_labels_extraData.csv')\n",
    "data_extra['isCancerous'] = data_extra['isCancerous'].astype(str)\n",
    "data_extra['cellType'] = np.nan\n",
    "data_extra.loc[data_extra['isCancerous'] == '1', 'cellType'] = 2\n",
    "data_extra_unlabeled = data_extra[data_extra['cellType'].isna()]\n",
    "# data_extra_labeled = data_extra[data_extra['cellType'] == 2]\n",
    "# undivided_train_data = pd.concat([undivided_train_data, data_extra_labeled], axis=0).reset_index(drop=True)\n",
    "# undivided_train_data['cellType'] = undivided_train_data['cellType'].astype(int)\n",
    "# train_data, val_data = train_test_split(undivided_train_data, test_size=0.2, random_state=42)"
   ],
   "metadata": {
    "collapsed": false,
    "ExecuteTime": {
     "start_time": "2023-05-03T17:53:37.911884Z",
     "end_time": "2023-05-03T17:53:38.725808Z"
    }
   }
  },
  {
   "cell_type": "code",
   "execution_count": 75,
   "outputs": [],
   "source": [
    "# cellType(多分类)的比例\n",
    "# class_samples_cellType = train_data['cellType'].value_counts()\n",
    "# total_samples = np.sum(class_samples_cellType)\n",
    "# class_weights_cellType = total_samples / class_samples_cellType\n",
    "# class_weight_dict_cellType = {int(k): v for k, v in class_weights_cellType.to_dict().items()}\n",
    "#\n",
    "# data_extra_unlabeled['isCancerous'] = data_extra_unlabeled['isCancerous'].astype(str)\n",
    "# train_data['cellType'] = train_data['cellType'].astype(str)\n",
    "# val_data['cellType'] = val_data['cellType'].astype(str)"
   ],
   "metadata": {
    "collapsed": false,
    "ExecuteTime": {
     "start_time": "2023-05-03T14:35:10.020182Z",
     "end_time": "2023-05-03T14:35:10.021296Z"
    }
   }
  },
  {
   "cell_type": "markdown",
   "source": [
    "重新生成新的train_generator"
   ],
   "metadata": {
    "collapsed": false
   }
  },
  {
   "cell_type": "code",
   "execution_count": 210,
   "outputs": [
    {
     "name": "stdout",
     "output_type": "stream",
     "text": [
      "Found 6332 validated image filenames belonging to 4 classes.\n",
      "Found 7394 validated image filenames belonging to 1 classes.\n",
      "Found 1584 validated image filenames belonging to 4 classes.\n"
     ]
    }
   ],
   "source": [
    "batch_size = 32\n",
    "train_datagen = CustomImageDataGenerator(\n",
    "    num_augmentations=3,\n",
    "    rescale=1./255,\n",
    "    rotation_range=40,\n",
    "    width_shift_range=0.2,\n",
    "    height_shift_range=0.2,\n",
    "    shear_range=0.2,\n",
    "    zoom_range=0.2,\n",
    "    brightness_range=[0.2,1.0],\n",
    "    horizontal_flip=True,\n",
    "    vertical_flip=True,\n",
    "    fill_mode='nearest'\n",
    ")\n",
    "\n",
    "train_generator = train_datagen.flow_from_dataframe(\n",
    "    train_data,\n",
    "    directory='./Image_classification_data/patch_images',\n",
    "    x_col='ImageName',\n",
    "    y_col='cellType',\n",
    "    target_size=(27, 27),\n",
    "    batch_size=batch_size,\n",
    "    class_mode='categorical')\n",
    "\n",
    "unlabeled_datagen = tf.keras.preprocessing.image.ImageDataGenerator(\n",
    "    rescale=1./255\n",
    ")\n",
    "\n",
    "unlabeled_generator = unlabeled_datagen.flow_from_dataframe(\n",
    "    data_extra_unlabeled,\n",
    "    directory='./Image_classification_data/patch_images',\n",
    "    x_col='ImageName',\n",
    "    y_col='isCancerous', # 我们并不关心y_col。只是为了防止报错\n",
    "    target_size=(27, 27),\n",
    "    batch_size=batch_size,\n",
    "    class_mode='categorical')\n",
    "\n",
    "val_datagen = tf.keras.preprocessing.image.ImageDataGenerator(\n",
    "    rescale=1./255\n",
    ")\n",
    "\n",
    "test_data['cellType'] = test_data['cellType'].astype(str)\n",
    "validation_cellType_generator = val_datagen.flow_from_dataframe(\n",
    "    val_data,\n",
    "    directory='./Image_classification_data/patch_images',\n",
    "    x_col='ImageName',\n",
    "    y_col='cellType',\n",
    "    target_size=(27, 27),\n",
    "    batch_size=batch_size,\n",
    "    class_mode='categorical')"
   ],
   "metadata": {
    "collapsed": false,
    "ExecuteTime": {
     "start_time": "2023-05-03T17:53:39.341879Z",
     "end_time": "2023-05-03T17:53:39.479553Z"
    }
   }
  },
  {
   "cell_type": "markdown",
   "source": [
    "## FixMatch 实现"
   ],
   "metadata": {
    "collapsed": false
   }
  },
  {
   "cell_type": "code",
   "execution_count": 211,
   "outputs": [],
   "source": [
    "# 定义数据增强层\n",
    "class RandAugment(tf.keras.layers.Layer):\n",
    "    def __init__(self, num_layers, magnitude, **kwargs):\n",
    "        super().__init__(**kwargs)\n",
    "        self.num_layers = num_layers\n",
    "        self.magnitude = magnitude\n",
    "        self.operations = [\n",
    "            tf.keras.layers.RandomFlip(\"horizontal_and_vertical\"),\n",
    "            tf.keras.layers.RandomRotation(factor=(0.1 * magnitude, 0.1 * magnitude)),\n",
    "            tf.keras.layers.RandomTranslation(height_factor=(-0.1 * magnitude, 0.1 * magnitude), width_factor=(-0.1 * magnitude, 0.1 * magnitude)),\n",
    "            tf.keras.layers.RandomZoom(height_factor=(-0.1 * magnitude, 0.1 * magnitude), width_factor=(-0.1 * magnitude, 0.1 * magnitude)),\n",
    "            tf.keras.layers.RandomContrast(factor=(1 - 0.1 * magnitude, 1 + 0.1 * magnitude)),\n",
    "            tf.keras.layers.RandomBrightness(factor=(0.2 * magnitude)),\n",
    "        ]\n",
    "\n",
    "    def call(self, inputs, **kwargs):\n",
    "        if kwargs.get('training'):\n",
    "            for _ in range(self.num_layers):\n",
    "                operation = random.choice(self.operations)\n",
    "                inputs = operation(inputs, training=kwargs.get('training'))\n",
    "        return inputs"
   ],
   "metadata": {
    "collapsed": false,
    "ExecuteTime": {
     "start_time": "2023-05-03T17:53:41.988669Z",
     "end_time": "2023-05-03T17:53:41.994739Z"
    }
   }
  },
  {
   "cell_type": "code",
   "execution_count": 212,
   "outputs": [],
   "source": [
    "def apply_fixmatch(x_batch, y_batch, x_unlabeled, model, optimizer, training=True, class_weight_dict=None, consistency_weight=1, confidence_threshold=0.95):\n",
    "    # 计算模型在原始无标签数据和增强无标签数据上的输出\n",
    "    with tf.GradientTape() as tape:\n",
    "        if x_unlabeled is not None:\n",
    "            # 对无标签数据进行数据增强\n",
    "            # x_unlabeled_augmented = data_augmentation(x_unlabeled)\n",
    "            rand_augment = RandAugment(num_layers=5, magnitude=0.9)\n",
    "            x_unlabeled_augmented_strong = rand_augment(x_unlabeled, training=training)\n",
    "            rand_augment = RandAugment(num_layers=1, magnitude=0.9)\n",
    "            x_unlabeled_augmented_weak = rand_augment(x_unlabeled, training=training)\n",
    "            y_pred_unlabeled_weak = model(x_unlabeled_augmented_weak)\n",
    "            y_pred_unlabeled_augmented = model(x_unlabeled_augmented_strong)\n",
    "\n",
    "            # Confidence-based masking\n",
    "            max_probs = tf.reduce_max(y_pred_unlabeled_weak, axis=-1)\n",
    "            mask = max_probs > confidence_threshold\n",
    "            y_pred_unlabeled = tf.boolean_mask(y_pred_unlabeled_weak, mask)\n",
    "            y_pred_unlabeled_augmented = tf.boolean_mask(y_pred_unlabeled_augmented, mask)\n",
    "\n",
    "        y_pred_labeled = model(x_batch)\n",
    "        # 计算有监督损失\n",
    "        # 如果是训练并且给定了类别权重，则根据权重计算损失。\n",
    "        if class_weight_dict is not None and training:\n",
    "            sample_weights = tf.gather(class_weight_dict, tf.argmax(y_batch, axis=-1))\n",
    "            supervised_loss = tf.reduce_mean(tf.keras.losses.categorical_crossentropy(y_batch, y_pred_labeled) * sample_weights)\n",
    "        else:\n",
    "            supervised_loss = tf.reduce_mean(tf.keras.losses.categorical_crossentropy(y_batch, y_pred_labeled))\n",
    "\n",
    "        # 如果提供了无标签数据，则计算一致性损失，(半监督学习)\n",
    "        if x_unlabeled is not None:\n",
    "            consistency_loss = tf.reduce_mean(tf.keras.losses.categorical_crossentropy(y_pred_unlabeled, y_pred_unlabeled_augmented))\n",
    "            total_loss = supervised_loss + consistency_weight * consistency_loss\n",
    "        else:\n",
    "            total_loss = supervised_loss\n",
    "\n",
    "        # 计算准确度\n",
    "        accuracy = tf.keras.metrics.categorical_accuracy(y_batch, y_pred_labeled)\n",
    "\n",
    "        # 计算Precision\n",
    "        precision = tf.keras.metrics.Precision()\n",
    "        precision.update_state(tf.argmax(y_batch, axis=-1), tf.argmax(y_pred_labeled, axis=-1))\n",
    "\n",
    "        # 计算Recall\n",
    "        recall = tf.keras.metrics.Recall()\n",
    "        recall.update_state(tf.argmax(y_batch, axis=-1), tf.argmax(y_pred_labeled, axis=-1))\n",
    "\n",
    "        # 计算F1分数\n",
    "        f1_score = 2 * ((precision.result() * recall.result()) / (precision.result() + recall.result() + tf.keras.backend.epsilon()))\n",
    "\n",
    "        if training:\n",
    "            # 反向传播和优化\n",
    "            grads = tape.gradient(total_loss, model_categorical.trainable_variables)\n",
    "            optimizer.apply_gradients(zip(grads, model_categorical.trainable_variables))\n",
    "    return total_loss, supervised_loss, consistency_loss if x_unlabeled is not None else None, accuracy, precision.result(), recall.result(), f1_score"
   ],
   "metadata": {
    "collapsed": false,
    "ExecuteTime": {
     "start_time": "2023-05-03T17:53:46.027522Z",
     "end_time": "2023-05-03T17:53:46.031289Z"
    }
   }
  },
  {
   "cell_type": "markdown",
   "source": [
    "### 训练半监督"
   ],
   "metadata": {
    "collapsed": false
   }
  },
  {
   "cell_type": "code",
   "execution_count": 213,
   "outputs": [
    {
     "name": "stdout",
     "output_type": "stream",
     "text": [
      "Epoch 1/5\n"
     ]
    },
    {
     "name": "stderr",
     "output_type": "stream",
     "text": [
      "Training: 100%|███████████████████████████████████████████████████| 198/198 [00:35<00:00,  5.65it/s]"
     ]
    },
    {
     "name": "stdout",
     "output_type": "stream",
     "text": [
      " - loss: 6.0741, supervised_loss: 0.3005, consistency_loss: 5.7735, accuracy: 0.8971, precision: 0.9728, recall: 0.9609, f1_score: 0.9661\n"
     ]
    },
    {
     "name": "stderr",
     "output_type": "stream",
     "text": [
      "\n"
     ]
    },
    {
     "name": "stdout",
     "output_type": "stream",
     "text": [
      "Validation set： - loss: 0.4254, accuracy: 0.8553, precision: 0.9488, recall: 0.9628, f1_score: 0.9547\n",
      "Epoch 2/5\n"
     ]
    },
    {
     "name": "stderr",
     "output_type": "stream",
     "text": [
      "Training: 100%|███████████████████████████████████████████████████| 198/198 [00:35<00:00,  5.61it/s]"
     ]
    },
    {
     "name": "stdout",
     "output_type": "stream",
     "text": [
      " - loss: 5.2895, supervised_loss: 0.2922, consistency_loss: 4.9973, accuracy: 0.8997, precision: 0.9732, recall: 0.9671, f1_score: 0.9695\n"
     ]
    },
    {
     "name": "stderr",
     "output_type": "stream",
     "text": [
      "\n"
     ]
    },
    {
     "name": "stdout",
     "output_type": "stream",
     "text": [
      "Validation set： - loss: 0.4441, accuracy: 0.8478, precision: 0.9459, recall: 0.9608, f1_score: 0.9525\n",
      "Epoch 3/5\n"
     ]
    },
    {
     "name": "stderr",
     "output_type": "stream",
     "text": [
      "Training: 100%|███████████████████████████████████████████████████| 198/198 [00:35<00:00,  5.54it/s]"
     ]
    },
    {
     "name": "stdout",
     "output_type": "stream",
     "text": [
      " - loss: 5.2431, supervised_loss: 0.3012, consistency_loss: 4.9419, accuracy: 0.8956, precision: 0.9697, recall: 0.9637, f1_score: 0.9660\n"
     ]
    },
    {
     "name": "stderr",
     "output_type": "stream",
     "text": [
      "\n"
     ]
    },
    {
     "name": "stdout",
     "output_type": "stream",
     "text": [
      "Validation set： - loss: 0.4603, accuracy: 0.8478, precision: 0.9405, recall: 0.9678, f1_score: 0.9530\n",
      "Epoch 4/5\n"
     ]
    },
    {
     "name": "stderr",
     "output_type": "stream",
     "text": [
      "Training: 100%|███████████████████████████████████████████████████| 198/198 [00:35<00:00,  5.56it/s]"
     ]
    },
    {
     "name": "stdout",
     "output_type": "stream",
     "text": [
      " - loss: 5.2086, supervised_loss: 0.2986, consistency_loss: 4.9100, accuracy: 0.8944, precision: 0.9675, recall: 0.9664, f1_score: 0.9662\n"
     ]
    },
    {
     "name": "stderr",
     "output_type": "stream",
     "text": [
      "\n"
     ]
    },
    {
     "name": "stdout",
     "output_type": "stream",
     "text": [
      "Validation set： - loss: 0.4433, accuracy: 0.8453, precision: 0.9413, recall: 0.9656, f1_score: 0.9525\n",
      "Epoch 5/5\n"
     ]
    },
    {
     "name": "stderr",
     "output_type": "stream",
     "text": [
      "Training: 100%|███████████████████████████████████████████████████| 198/198 [00:34<00:00,  5.72it/s]"
     ]
    },
    {
     "name": "stdout",
     "output_type": "stream",
     "text": [
      " - loss: 2.4640, supervised_loss: 0.3052, consistency_loss: 2.1588, accuracy: 0.8966, precision: 0.9667, recall: 0.9709, f1_score: 0.9681\n"
     ]
    },
    {
     "name": "stderr",
     "output_type": "stream",
     "text": [
      "\n"
     ]
    },
    {
     "name": "stdout",
     "output_type": "stream",
     "text": [
      "Validation set： - loss: 0.4431, accuracy: 0.8508, precision: 0.9443, recall: 0.9690, f1_score: 0.9558\n"
     ]
    }
   ],
   "source": [
    "optimizer = tf.keras.optimizers.legacy.Adam(learning_rate=1e-5)\n",
    "epochs = 5\n",
    "min_val_loss = float('inf')\n",
    "num_epochs_no_improvement = 0\n",
    "current_learning_rate = optimizer.learning_rate.numpy()\n",
    "history = {\"loss\": [], \"val_loss\": [], \"accuracy\": [], \"val_accuracy\": [], \"precision\":[],\n",
    "           \"recall\":[], \"f1\":[], \"val_precision\":[], \"val_recall\":[], \"val_f1\":[]}\n",
    "\n",
    "for epoch in range(epochs):\n",
    "    print(f\"Epoch {epoch + 1}/{epochs}\")\n",
    "\n",
    "    total_loss = 0\n",
    "    total_supervised_loss = 0\n",
    "    total_consistency_loss = 0\n",
    "    total_accuracy = 0\n",
    "    total_precision = 0\n",
    "    total_recall = 0\n",
    "    total_f1_score = 0\n",
    "    steps = 0\n",
    "\n",
    "    total_batches = math.ceil(len(train_data) / batch_size)\n",
    "    with tqdm(total=total_batches, desc=\"Training\", ncols=100) as progress_bar:\n",
    "        for (x_batch, y_batch), (x_unlabeled, _) in zip(train_generator, unlabeled_generator):\n",
    "            progress_bar.update(1)\n",
    "            loss, supervised_loss, consistency_loss, accuracy, precision, recall, f1_score = apply_fixmatch(x_batch,\n",
    "                                                                                                            y_batch,\n",
    "                                                                                                            x_unlabeled,\n",
    "\n",
    "                                                                                                            model_categorical,\n",
    "                                                                                                            optimizer,\n",
    "                                                                                                            class_weight_dict_cellType)\n",
    "            total_loss += loss\n",
    "            total_supervised_loss += supervised_loss\n",
    "            total_consistency_loss += consistency_loss\n",
    "            total_precision += precision\n",
    "            total_recall += recall\n",
    "            total_f1_score += f1_score\n",
    "            total_accuracy += tf.reduce_mean(accuracy)\n",
    "            steps += 1\n",
    "            # 检查是否已经处理了所有批次\n",
    "            if steps * batch_size >= len(train_data):\n",
    "                break\n",
    "\n",
    "        # 计算并打印平均损失和准确率\n",
    "        avg_loss = total_loss / steps\n",
    "        avg_supervised_loss = total_supervised_loss / steps\n",
    "        avg_consistency_loss = total_consistency_loss / steps\n",
    "        avg_accuracy = total_accuracy / steps\n",
    "        avg_precision = total_precision / steps\n",
    "        avg_recall = total_recall / steps\n",
    "        avg_f1_score = total_f1_score / steps\n",
    "\n",
    "        history[\"loss\"].append(avg_loss.numpy())\n",
    "        history[\"accuracy\"].append(avg_accuracy.numpy())\n",
    "        history[\"precision\"].append(avg_precision.numpy())\n",
    "        history[\"recall\"].append(avg_recall.numpy())\n",
    "        history[\"f1\"].append(avg_f1_score.numpy())\n",
    "        print(f\" - loss: {avg_loss.numpy():.4f}, supervised_loss: {avg_supervised_loss.numpy():.4f}, consistency_loss: {avg_consistency_loss.numpy():.4f}, accuracy: {avg_accuracy.numpy():.4f}, precision: {avg_precision.numpy():.4f}, recall: {avg_recall.numpy():.4f}, f1_score: {avg_f1_score.numpy():.4f}\")\n",
    "\n",
    "    total_loss = 0\n",
    "    total_accuracy = 0\n",
    "    total_recall = 0\n",
    "    total_precision = 0\n",
    "    total_f1_score = 0\n",
    "    steps = 0\n",
    "    for x_batch, y_batch in validation_cellType_generator:\n",
    "        loss, _, _, accuracy, precision, recall, f1_score = apply_fixmatch(x_batch, y_batch, None, model_categorical, optimizer, False)\n",
    "        total_loss += loss\n",
    "        total_precision += precision\n",
    "        total_recall += recall\n",
    "        total_f1_score += f1_score\n",
    "        total_accuracy += tf.reduce_mean(accuracy)\n",
    "        steps += 1\n",
    "\n",
    "        if steps * batch_size >= len(test_data):\n",
    "            break\n",
    "\n",
    "    avg_loss = total_loss / steps\n",
    "    avg_accuracy = total_accuracy / steps\n",
    "    avg_precision = total_precision / steps\n",
    "    avg_recall = total_recall / steps\n",
    "    avg_f1_score = total_f1_score / steps\n",
    "\n",
    "    history[\"val_loss\"].append(avg_loss.numpy())\n",
    "    history[\"val_accuracy\"].append(avg_accuracy.numpy())\n",
    "    history[\"val_precision\"].append(avg_precision.numpy())\n",
    "    history[\"val_recall\"].append(avg_recall.numpy())\n",
    "    history[\"val_f1\"].append(avg_f1_score.numpy())\n",
    "    print(f\"Validation set： - loss: {avg_loss.numpy():.4f}, accuracy: {avg_accuracy.numpy():.4f}, precision: {avg_precision.numpy():.4f}, recall: {avg_recall.numpy():.4f}, f1_score: {avg_f1_score.numpy():.4f}\")\n",
    "\n",
    "    # 检查是否需要更新学习率\n",
    "    if avg_loss < min_val_loss:\n",
    "        min_val_loss = loss\n",
    "        num_epochs_no_improvement = 0\n",
    "    else:\n",
    "        num_epochs_no_improvement += 1\n",
    "\n",
    "    if num_epochs_no_improvement >= 3:\n",
    "        current_learning_rate *= np.sqrt(0.1)\n",
    "        current_learning_rate = max(current_learning_rate, 0.5e-15)\n",
    "        optimizer.learning_rate.assign(current_learning_rate)\n",
    "        num_epochs_no_improvement = 0"
   ],
   "metadata": {
    "collapsed": false,
    "ExecuteTime": {
     "start_time": "2023-05-03T17:53:47.787961Z",
     "end_time": "2023-05-03T17:56:56.153487Z"
    }
   }
  },
  {
   "cell_type": "code",
   "execution_count": 214,
   "outputs": [
    {
     "data": {
      "text/plain": "<Figure size 432x288 with 1 Axes>",
      "image/png": "[encoded data removed]"
     },
     "metadata": {
      "needs_background": "light"
     },
     "output_type": "display_data"
    }
   ],
   "source": [
    "train_accuracy = history['accuracy']\n",
    "val_accuracy = history['val_accuracy']\n",
    "\n",
    "epochs_range = range(1, epochs + 1)\n",
    "\n",
    "plt.plot(epochs_range, train_accuracy, label='Training Accuracy')\n",
    "plt.plot(epochs_range, val_accuracy, label='Validation Accuracy')\n",
    "\n",
    "plt.legend()\n",
    "plt.title('Training and Validation Accuracy in binary')\n",
    "plt.xlabel('Epoch')\n",
    "plt.ylabel('Accuracy')\n",
    "\n",
    "plt.show()"
   ],
   "metadata": {
    "collapsed": false,
    "ExecuteTime": {
     "start_time": "2023-05-03T17:57:16.888917Z",
     "end_time": "2023-05-03T17:57:16.962006Z"
    }
   }
  },
  {
   "cell_type": "code",
   "execution_count": 215,
   "outputs": [
    {
     "name": "stdout",
     "output_type": "stream",
     "text": [
      "62/62 [==============================] - 3s 43ms/step - loss: 1.0995 - accuracy: 0.8313 - precision: 0.8512 - recall: 0.8091 - f1_score: 0.8296\n"
     ]
    },
    {
     "data": {
      "text/plain": "[1.0995135307312012,\n 0.8313131332397461,\n 0.8512220978736877,\n 0.8090909123420715,\n 0.8296219110488892]"
     },
     "execution_count": 215,
     "metadata": {},
     "output_type": "execute_result"
    }
   ],
   "source": [
    "model_categorical.evaluate(test_cellType_generator)"
   ],
   "metadata": {
    "collapsed": false,
    "ExecuteTime": {
     "start_time": "2023-05-03T17:57:19.847179Z",
     "end_time": "2023-05-03T17:57:23.048901Z"
    }
   }
  }
 ],
 "metadata": {
  "kernelspec": {
   "display_name": "Python 3",
   "language": "python",
   "name": "python3"
  },
  "language_info": {
   "codemirror_mode": {
    "name": "ipython",
    "version": 2
   },
   "file_extension": ".py",
   "mimetype": "text/x-python",
   "name": "python",
   "nbconvert_exporter": "python",
   "pygments_lexer": "ipython2",
   "version": "2.7.6"
  }
 },
 "nbformat": 4,
 "nbformat_minor": 0
}
