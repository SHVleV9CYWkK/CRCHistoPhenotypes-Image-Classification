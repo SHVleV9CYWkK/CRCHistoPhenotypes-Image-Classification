{
 "cells": [
  {
   "cell_type": "markdown",
   "source": [
    "导包"
   ],
   "metadata": {
    "collapsed": false
   }
  },
  {
   "cell_type": "code",
   "execution_count": 1,
   "metadata": {
    "collapsed": true,
    "ExecuteTime": {
     "start_time": "2023-05-01T18:54:31.654101Z",
     "end_time": "2023-05-01T18:54:33.740797Z"
    }
   },
   "outputs": [],
   "source": [
    "import pandas as pd\n",
    "import matplotlib.pyplot as plt\n",
    "import numpy as np\n",
    "import tensorflow as tf\n",
    "# import tensorflow_addons as tfa\n",
    "from sklearn.model_selection import train_test_split\n",
    "from tqdm import tqdm\n",
    "import math\n",
    "import random"
   ]
  },
  {
   "cell_type": "markdown",
   "source": [
    "获取主数据集\n",
    "test_data 为不可见数据集"
   ],
   "metadata": {
    "collapsed": false
   }
  },
  {
   "cell_type": "code",
   "execution_count": 2,
   "outputs": [],
   "source": [
    "data = pd.read_csv('./Image_classification_data/data_labels_mainData.csv')\n",
    "data['isCancerous'] = data['isCancerous'].astype(str)\n",
    "data['cellType'] = data['cellType'].astype(str)\n",
    "undivided_train_data, test_data = train_test_split(data, test_size=0.2, random_state=42)\n",
    "train_data, val_data = train_test_split(undivided_train_data, test_size=0.2, random_state=42)"
   ],
   "metadata": {
    "collapsed": false,
    "ExecuteTime": {
     "start_time": "2023-05-01T18:54:33.741968Z",
     "end_time": "2023-05-01T18:54:33.753395Z"
    }
   }
  },
  {
   "cell_type": "code",
   "execution_count": 3,
   "outputs": [
    {
     "data": {
      "text/plain": "([0, 1], [Text(0, 0, '0'), Text(1, 0, '1')])"
     },
     "execution_count": 3,
     "metadata": {},
     "output_type": "execute_result"
    },
    {
     "data": {
      "text/plain": "<Figure size 432x288 with 1 Axes>",
      "image/png": "[encoded data removed]"
     },
     "metadata": {
      "needs_background": "light"
     },
     "output_type": "display_data"
    }
   ],
   "source": [
    "plt.hist(train_data['isCancerous'], alpha=0.3, color='b', label='Train', density=True)\n",
    "plt.hist(test_data['isCancerous'], alpha=0.3, color='r', label='Test',  density=True)\n",
    "plt.hist(val_data['isCancerous'], alpha=0.3, color='g', label='Val',  density=True)\n",
    "plt.title('isCancerous')\n",
    "plt.xticks(rotation='vertical')"
   ],
   "metadata": {
    "collapsed": false,
    "ExecuteTime": {
     "start_time": "2023-05-01T18:54:33.754071Z",
     "end_time": "2023-05-01T18:54:33.892667Z"
    }
   }
  },
  {
   "cell_type": "code",
   "execution_count": 4,
   "outputs": [
    {
     "data": {
      "text/plain": "([0, 1, 2, 3],\n [Text(0, 0, '1'), Text(1, 0, '0'), Text(2, 0, '2'), Text(3, 0, '3')])"
     },
     "execution_count": 4,
     "metadata": {},
     "output_type": "execute_result"
    },
    {
     "data": {
      "text/plain": "<Figure size 432x288 with 1 Axes>",
      "image/png": "[encoded data removed]"
     },
     "metadata": {
      "needs_background": "light"
     },
     "output_type": "display_data"
    }
   ],
   "source": [
    "plt.hist(train_data['cellType'], alpha=0.3, color='b', label='Train', density=True)\n",
    "plt.hist(test_data['cellType'], alpha=0.3, color='r', label='Test',  density=True)\n",
    "plt.hist(val_data['cellType'], alpha=0.3, color='g', density=True)\n",
    "plt.title('cellType')\n",
    "plt.xticks(rotation='vertical')"
   ],
   "metadata": {
    "collapsed": false,
    "ExecuteTime": {
     "start_time": "2023-05-01T18:54:33.898621Z",
     "end_time": "2023-05-01T18:54:33.964561Z"
    }
   }
  },
  {
   "cell_type": "code",
   "execution_count": 5,
   "outputs": [],
   "source": [
    "class_samples_isCancerous = train_data['isCancerous'].value_counts()\n",
    "total_samples = np.sum(class_samples_isCancerous)\n",
    "class_weights_isCancerous = total_samples / class_samples_isCancerous\n",
    "class_weight_dict_isCancerous = {int(k): v for k, v in class_weights_isCancerous.to_dict().items()}\n",
    "\n",
    "class_samples_cellType = train_data['cellType'].value_counts()\n",
    "total_samples = np.sum(class_samples_cellType)\n",
    "class_weights_cellType = total_samples / class_samples_cellType\n",
    "class_weight_dict_cellType = {int(k): v for k, v in class_weights_cellType.to_dict().items()}"
   ],
   "metadata": {
    "collapsed": false,
    "ExecuteTime": {
     "start_time": "2023-05-01T18:54:33.967617Z",
     "end_time": "2023-05-01T18:54:33.969642Z"
    }
   }
  },
  {
   "cell_type": "code",
   "execution_count": 6,
   "outputs": [],
   "source": [
    "class CustomImageDataGenerator(tf.keras.preprocessing.image.ImageDataGenerator):\n",
    "    def __init__(self, num_augmentations=3, *args, **kwargs):\n",
    "        super().__init__(*args, **kwargs)\n",
    "        self.num_augmentations = num_augmentations\n",
    "\n",
    "    def apply_transform(self, x, transform_parameters):\n",
    "        augmentations = [\n",
    "            \"theta\",\n",
    "            \"tx\",\n",
    "            \"ty\",\n",
    "            \"shear\",\n",
    "            \"zx\",\n",
    "            \"zy\",\n",
    "            \"flip_horizontal\",\n",
    "            \"flip_vertical\",\n",
    "            \"brightness\",\n",
    "        ]\n",
    "\n",
    "        selected_augmentations = random.sample(augmentations, self.num_augmentations)\n",
    "        filtered_transform_parameters = {\n",
    "            key: value for key, value in transform_parameters.items() if key in selected_augmentations\n",
    "        }\n",
    "\n",
    "        return super().apply_transform(x, filtered_transform_parameters)\n",
    "\n",
    "train_datagen = CustomImageDataGenerator(\n",
    "    num_augmentations=4,\n",
    "    rescale=1./255,\n",
    "    rotation_range=180,\n",
    "    width_shift_range=0.2,\n",
    "    height_shift_range=0.2,\n",
    "    shear_range=0.2,\n",
    "    zoom_range=0.2,\n",
    "    brightness_range=[0.2,1.0],\n",
    "    horizontal_flip=True,\n",
    "    vertical_flip=True,\n",
    "    fill_mode='nearest'\n",
    ")"
   ],
   "metadata": {
    "collapsed": false,
    "ExecuteTime": {
     "start_time": "2023-05-01T18:54:33.971371Z",
     "end_time": "2023-05-01T18:54:33.972951Z"
    }
   }
  },
  {
   "cell_type": "code",
   "execution_count": 7,
   "outputs": [
    {
     "name": "stdout",
     "output_type": "stream",
     "text": [
      "Found 6332 validated image filenames belonging to 2 classes.\n",
      "Found 1584 validated image filenames belonging to 2 classes.\n",
      "Found 1980 validated image filenames belonging to 2 classes.\n"
     ]
    }
   ],
   "source": [
    "batch_size = 32\n",
    "# train_datagen = tf.keras.preprocessing.image.ImageDataGenerator(\n",
    "#     rescale=1./255,\n",
    "#     rotation_range=40,\n",
    "#     width_shift_range=0.2,\n",
    "#     height_shift_range=0.2,\n",
    "#     shear_range=0.2,\n",
    "#     zoom_range=0.2,\n",
    "#     horizontal_flip=True,\n",
    "#     vertical_flip=True,\n",
    "#     fill_mode='nearest'\n",
    "# )\n",
    "\n",
    "val_datagen = tf.keras.preprocessing.image.ImageDataGenerator(\n",
    "    rescale=1./255\n",
    ")\n",
    "\n",
    "test_datagen = tf.keras.preprocessing.image.ImageDataGenerator(\n",
    "    rescale=1./255\n",
    ")\n",
    "\n",
    "train_isCancerous_generator = train_datagen.flow_from_dataframe(\n",
    "    train_data,\n",
    "    directory='./Image_classification_data/patch_images',\n",
    "    x_col='ImageName',\n",
    "    y_col='isCancerous',\n",
    "    target_size=(27, 27),\n",
    "    batch_size=batch_size,\n",
    "    class_mode='binary')\n",
    "\n",
    "val_isCancerous_generator = val_datagen.flow_from_dataframe(\n",
    "    val_data,\n",
    "    directory='./Image_classification_data/patch_images',\n",
    "    x_col='ImageName',\n",
    "    y_col='isCancerous',\n",
    "    target_size=(27, 27),\n",
    "    batch_size=batch_size,\n",
    "    class_mode='binary')\n",
    "\n",
    "test_isCancerous_generator = test_datagen.flow_from_dataframe(\n",
    "    test_data,\n",
    "    directory='./Image_classification_data/patch_images',\n",
    "    x_col='ImageName',\n",
    "    y_col='isCancerous',\n",
    "    target_size=(27, 27),\n",
    "    batch_size=batch_size,\n",
    "    class_mode='binary')"
   ],
   "metadata": {
    "collapsed": false,
    "ExecuteTime": {
     "start_time": "2023-05-01T18:54:33.974581Z",
     "end_time": "2023-05-01T18:54:34.074665Z"
    }
   }
  },
  {
   "cell_type": "code",
   "execution_count": 8,
   "outputs": [
    {
     "name": "stdout",
     "output_type": "stream",
     "text": [
      "Found 6332 validated image filenames belonging to 4 classes.\n",
      "Found 1584 validated image filenames belonging to 4 classes.\n",
      "Found 1980 validated image filenames belonging to 4 classes.\n"
     ]
    }
   ],
   "source": [
    "train_cellType_generator = train_datagen.flow_from_dataframe(\n",
    "    train_data,\n",
    "    directory='./Image_classification_data/patch_images',\n",
    "    x_col='ImageName',\n",
    "    y_col='cellType',\n",
    "    target_size=(27, 27),\n",
    "    batch_size=batch_size,\n",
    "    class_mode='categorical')\n",
    "\n",
    "val_cellType_generator = val_datagen.flow_from_dataframe(\n",
    "    val_data,\n",
    "    directory='./Image_classification_data/patch_images',\n",
    "    x_col='ImageName',\n",
    "    y_col='cellType',\n",
    "    target_size=(27, 27),\n",
    "    batch_size=batch_size,\n",
    "    class_mode='categorical')\n",
    "\n",
    "test_cellType_generator = test_datagen.flow_from_dataframe(\n",
    "    test_data,\n",
    "    directory='./Image_classification_data/patch_images',\n",
    "    x_col='ImageName',\n",
    "    y_col='cellType',\n",
    "    target_size=(27, 27),\n",
    "    batch_size=batch_size,\n",
    "    class_mode='categorical')"
   ],
   "metadata": {
    "collapsed": false,
    "ExecuteTime": {
     "start_time": "2023-05-01T18:54:34.079678Z",
     "end_time": "2023-05-01T18:54:34.163037Z"
    }
   }
  },
  {
   "cell_type": "markdown",
   "source": [
    "两层卷积一层池化，32，64。两层512感知器。"
   ],
   "metadata": {
    "collapsed": false
   }
  },
  {
   "cell_type": "code",
   "execution_count": 43,
   "outputs": [
    {
     "name": "stdout",
     "output_type": "stream",
     "text": [
      "Model: \"sequential_2\"\n",
      "_________________________________________________________________\n",
      " Layer (type)                Output Shape              Param #   \n",
      "=================================================================\n",
      " conv2d_8 (Conv2D)           (None, 27, 27, 32)        896       \n",
      "                                                                 \n",
      " batch_normalization_12 (Bat  (None, 27, 27, 32)       128       \n",
      " chNormalization)                                                \n",
      "                                                                 \n",
      " conv2d_9 (Conv2D)           (None, 25, 25, 32)        9248      \n",
      "                                                                 \n",
      " batch_normalization_13 (Bat  (None, 25, 25, 32)       128       \n",
      " chNormalization)                                                \n",
      "                                                                 \n",
      " max_pooling2d_4 (MaxPooling  (None, 12, 12, 32)       0         \n",
      " 2D)                                                             \n",
      "                                                                 \n",
      " conv2d_10 (Conv2D)          (None, 12, 12, 64)        18496     \n",
      "                                                                 \n",
      " batch_normalization_14 (Bat  (None, 12, 12, 64)       256       \n",
      " chNormalization)                                                \n",
      "                                                                 \n",
      " conv2d_11 (Conv2D)          (None, 10, 10, 64)        36928     \n",
      "                                                                 \n",
      " batch_normalization_15 (Bat  (None, 10, 10, 64)       256       \n",
      " chNormalization)                                                \n",
      "                                                                 \n",
      " max_pooling2d_5 (MaxPooling  (None, 5, 5, 64)         0         \n",
      " 2D)                                                             \n",
      "                                                                 \n",
      " flatten_2 (Flatten)         (None, 1600)              0         \n",
      "                                                                 \n",
      " dense_6 (Dense)             (None, 512)               819712    \n",
      "                                                                 \n",
      " batch_normalization_16 (Bat  (None, 512)              2048      \n",
      " chNormalization)                                                \n",
      "                                                                 \n",
      " dropout_4 (Dropout)         (None, 512)               0         \n",
      "                                                                 \n",
      " dense_7 (Dense)             (None, 512)               262656    \n",
      "                                                                 \n",
      " batch_normalization_17 (Bat  (None, 512)              2048      \n",
      " chNormalization)                                                \n",
      "                                                                 \n",
      " dropout_5 (Dropout)         (None, 512)               0         \n",
      "                                                                 \n",
      " dense_8 (Dense)             (None, 1)                 513       \n",
      "                                                                 \n",
      "=================================================================\n",
      "Total params: 1,153,313\n",
      "Trainable params: 1,150,881\n",
      "Non-trainable params: 2,432\n",
      "_________________________________________________________________\n"
     ]
    }
   ],
   "source": [
    "input_shape = (27, 27, 3)\n",
    "num_classes = 4\n",
    "l2_coeff = 0.01\n",
    "\n",
    "model_binary = tf.keras.models.Sequential([\n",
    "    tf.keras.layers.Conv2D(32, (3,3), activation='relu', input_shape=input_shape, padding='same', kernel_regularizer=tf.keras.regularizers.l2(l2_coeff)),\n",
    "    tf.keras.layers.BatchNormalization(),\n",
    "    tf.keras.layers.Conv2D(32, (3,3), activation='relu', kernel_regularizer=tf.keras.regularizers.l2(l2_coeff)),\n",
    "    tf.keras.layers.BatchNormalization(),\n",
    "    tf.keras.layers.MaxPooling2D(2, 2),\n",
    "    tf.keras.layers.Conv2D(64, (3,3), activation='relu', padding='same', kernel_regularizer=tf.keras.regularizers.l2(l2_coeff)),\n",
    "    tf.keras.layers.BatchNormalization(),\n",
    "    tf.keras.layers.Conv2D(64, (3,3), activation='relu', kernel_regularizer=tf.keras.regularizers.l2(l2_coeff)),\n",
    "    tf.keras.layers.BatchNormalization(),\n",
    "    tf.keras.layers.MaxPooling2D(2, 2),\n",
    "    tf.keras.layers.Flatten(),\n",
    "    tf.keras.layers.Dense(512, activation='relu', kernel_regularizer=tf.keras.regularizers.l2(l2_coeff)),\n",
    "    tf.keras.layers.BatchNormalization(),\n",
    "    tf.keras.layers.Dropout(0.2),\n",
    "    tf.keras.layers.Dense(512, activation='relu', kernel_regularizer=tf.keras.regularizers.l2(l2_coeff)),\n",
    "    tf.keras.layers.BatchNormalization(),\n",
    "    tf.keras.layers.Dropout(0.2),\n",
    "    tf.keras.layers.Dense(1, activation='sigmoid')\n",
    "])\n",
    "model_binary.summary()"
   ],
   "metadata": {
    "collapsed": false,
    "ExecuteTime": {
     "start_time": "2023-05-01T19:50:38.632863Z",
     "end_time": "2023-05-01T19:50:38.718560Z"
    }
   }
  },
  {
   "cell_type": "code",
   "execution_count": 55,
   "outputs": [
    {
     "name": "stdout",
     "output_type": "stream",
     "text": [
      "Model: \"sequential_3\"\n",
      "_________________________________________________________________\n",
      " Layer (type)                Output Shape              Param #   \n",
      "=================================================================\n",
      " conv2d_12 (Conv2D)          (None, 27, 27, 32)        896       \n",
      "                                                                 \n",
      " batch_normalization_18 (Bat  (None, 27, 27, 32)       128       \n",
      " chNormalization)                                                \n",
      "                                                                 \n",
      " conv2d_13 (Conv2D)          (None, 25, 25, 32)        9248      \n",
      "                                                                 \n",
      " batch_normalization_19 (Bat  (None, 25, 25, 32)       128       \n",
      " chNormalization)                                                \n",
      "                                                                 \n",
      " max_pooling2d_6 (MaxPooling  (None, 12, 12, 32)       0         \n",
      " 2D)                                                             \n",
      "                                                                 \n",
      " conv2d_14 (Conv2D)          (None, 12, 12, 64)        18496     \n",
      "                                                                 \n",
      " batch_normalization_20 (Bat  (None, 12, 12, 64)       256       \n",
      " chNormalization)                                                \n",
      "                                                                 \n",
      " conv2d_15 (Conv2D)          (None, 10, 10, 64)        36928     \n",
      "                                                                 \n",
      " batch_normalization_21 (Bat  (None, 10, 10, 64)       256       \n",
      " chNormalization)                                                \n",
      "                                                                 \n",
      " max_pooling2d_7 (MaxPooling  (None, 5, 5, 64)         0         \n",
      " 2D)                                                             \n",
      "                                                                 \n",
      " flatten_3 (Flatten)         (None, 1600)              0         \n",
      "                                                                 \n",
      " dense_9 (Dense)             (None, 512)               819712    \n",
      "                                                                 \n",
      " batch_normalization_22 (Bat  (None, 512)              2048      \n",
      " chNormalization)                                                \n",
      "                                                                 \n",
      " dropout_6 (Dropout)         (None, 512)               0         \n",
      "                                                                 \n",
      " dense_10 (Dense)            (None, 512)               262656    \n",
      "                                                                 \n",
      " batch_normalization_23 (Bat  (None, 512)              2048      \n",
      " chNormalization)                                                \n",
      "                                                                 \n",
      " dropout_7 (Dropout)         (None, 512)               0         \n",
      "                                                                 \n",
      " dense_11 (Dense)            (None, 4)                 2052      \n",
      "                                                                 \n",
      "=================================================================\n",
      "Total params: 1,154,852\n",
      "Trainable params: 1,152,420\n",
      "Non-trainable params: 2,432\n",
      "_________________________________________________________________\n"
     ]
    }
   ],
   "source": [
    "model_categorical = tf.keras.models.Sequential([\n",
    "    tf.keras.layers.Conv2D(32, (3,3), activation='relu', input_shape=input_shape, padding='same', kernel_regularizer=tf.keras.regularizers.l2(l2_coeff)),\n",
    "    tf.keras.layers.BatchNormalization(),\n",
    "    tf.keras.layers.Conv2D(32, (3,3), activation='relu', kernel_regularizer=tf.keras.regularizers.l2(l2_coeff)),\n",
    "    tf.keras.layers.BatchNormalization(),\n",
    "    tf.keras.layers.MaxPooling2D(2, 2),\n",
    "    tf.keras.layers.Conv2D(64, (3,3), activation='relu', padding='same', kernel_regularizer=tf.keras.regularizers.l2(l2_coeff)),\n",
    "    tf.keras.layers.BatchNormalization(),\n",
    "    tf.keras.layers.Conv2D(64, (3,3), activation='relu', kernel_regularizer=tf.keras.regularizers.l2(l2_coeff)),\n",
    "    tf.keras.layers.BatchNormalization(),\n",
    "    tf.keras.layers.MaxPooling2D(2, 2),\n",
    "    tf.keras.layers.Flatten(),\n",
    "    tf.keras.layers.Dense(512, activation='relu', kernel_regularizer=tf.keras.regularizers.l2(l2_coeff)),\n",
    "    tf.keras.layers.BatchNormalization(),\n",
    "    tf.keras.layers.Dropout(0.2),\n",
    "    tf.keras.layers.Dense(512, activation='relu', kernel_regularizer=tf.keras.regularizers.l2(l2_coeff)),\n",
    "    tf.keras.layers.BatchNormalization(),\n",
    "    tf.keras.layers.Dropout(0.2),\n",
    "    tf.keras.layers.Dense(num_classes, activation='softmax')\n",
    "])\n",
    "model_categorical.summary()"
   ],
   "metadata": {
    "collapsed": false,
    "ExecuteTime": {
     "start_time": "2023-05-01T20:08:13.381022Z",
     "end_time": "2023-05-01T20:08:13.471074Z"
    }
   }
  },
  {
   "cell_type": "code",
   "execution_count": 64,
   "outputs": [],
   "source": [
    "class F1Score(tf.keras.metrics.Metric):\n",
    "    def __init__(self, name='f1_score', **kwargs):\n",
    "        super().__init__(name=name, **kwargs)\n",
    "        self.precision = tf.keras.metrics.Precision()\n",
    "        self.recall = tf.keras.metrics.Recall()\n",
    "\n",
    "    def update_state(self, y_true, y_pred, sample_weight=None):\n",
    "        self.precision.update_state(y_true, y_pred, sample_weight)\n",
    "        self.recall.update_state(y_true, y_pred, sample_weight)\n",
    "\n",
    "    def result(self):\n",
    "        precision = self.precision.result()\n",
    "        recall = self.recall.result()\n",
    "        return 2 * ((precision * recall) / (precision + recall + tf.keras.backend.epsilon()))\n",
    "\n",
    "    def reset_state(self):\n",
    "        self.precision.reset_states()\n",
    "        self.recall.reset_states()\n",
    "\n",
    "    def get_config(self):\n",
    "        base_config = super().get_config()\n",
    "        return {**base_config}"
   ],
   "metadata": {
    "collapsed": false,
    "ExecuteTime": {
     "start_time": "2023-05-01T20:27:49.809235Z",
     "end_time": "2023-05-01T20:27:49.818736Z"
    }
   }
  },
  {
   "cell_type": "code",
   "execution_count": 65,
   "outputs": [],
   "source": [
    "model_binary.compile(loss='binary_crossentropy',\n",
    "                     optimizer=tf.keras.optimizers.legacy.Adam(learning_rate=0.0001),\n",
    "                     metrics=['accuracy',\n",
    "                       tf.keras.metrics.Precision(name='precision'),\n",
    "                       tf.keras.metrics.Recall(name='recall'),\n",
    "                       F1Score(name='f1_score')])\n",
    "\n",
    "model_categorical.compile(loss='categorical_crossentropy',\n",
    "                          optimizer=tf.keras.optimizers.legacy.Adam(learning_rate=0.0005),\n",
    "                          metrics=['accuracy',\n",
    "                                   tf.keras.metrics.Precision(name='precision'),\n",
    "                                   tf.keras.metrics.Recall(name='recall'),\n",
    "                                   F1Score(name='f1_score')])"
   ],
   "metadata": {
    "collapsed": false,
    "ExecuteTime": {
     "start_time": "2023-05-01T20:27:52.276975Z",
     "end_time": "2023-05-01T20:27:52.309685Z"
    }
   }
  },
  {
   "cell_type": "code",
   "execution_count": 46,
   "outputs": [
    {
     "name": "stdout",
     "output_type": "stream",
     "text": [
      "Epoch 1/100\n",
      "197/197 [==============================] - ETA: 0s - loss: 14.7228 - accuracy: 0.7825 - precision: 0.7098 - recall: 0.8093 - f1_score: 0.7563"
     ]
    },
    {
     "name": "stderr",
     "output_type": "stream",
     "text": [
      "/Users/hueybai/miniconda3/envs/DL/lib/python3.10/site-packages/keras/engine/training.py:2448: UserWarning: Metric F1Score implements a `reset_states()` method; rename it to `reset_state()` (without the final \"s\"). The name `reset_states()` has been deprecated to improve API consistency.\n",
      "  m.reset_state()\n"
     ]
    },
    {
     "name": "stdout",
     "output_type": "stream",
     "text": [
      "197/197 [==============================] - 10s 44ms/step - loss: 14.7228 - accuracy: 0.7825 - precision: 0.7098 - recall: 0.8093 - f1_score: 0.7563 - val_loss: 14.2416 - val_accuracy: 0.4107 - val_precision: 0.4107 - val_recall: 1.0000 - val_f1_score: 0.5823 - lr: 1.0000e-04\n",
      "Epoch 2/100\n",
      "197/197 [==============================] - 8s 42ms/step - loss: 13.4199 - accuracy: 0.8302 - precision: 0.7637 - recall: 0.8569 - f1_score: 0.8076 - val_loss: 12.4927 - val_accuracy: 0.8151 - val_precision: 0.7057 - val_recall: 0.9442 - val_f1_score: 0.8077 - lr: 1.0000e-04\n",
      "Epoch 3/100\n",
      "197/197 [==============================] - 8s 43ms/step - loss: 12.3227 - accuracy: 0.8395 - precision: 0.7823 - recall: 0.8528 - f1_score: 0.8160 - val_loss: 11.3814 - val_accuracy: 0.8603 - val_precision: 0.7670 - val_recall: 0.9471 - val_f1_score: 0.8476 - lr: 1.0000e-04\n",
      "Epoch 4/100\n",
      "197/197 [==============================] - 8s 41ms/step - loss: 11.3264 - accuracy: 0.8437 - precision: 0.7818 - recall: 0.8667 - f1_score: 0.8220 - val_loss: 10.4735 - val_accuracy: 0.8654 - val_precision: 0.7765 - val_recall: 0.9405 - val_f1_score: 0.8507 - lr: 1.0000e-04\n",
      "Epoch 5/100\n",
      "197/197 [==============================] - 8s 41ms/step - loss: 10.4306 - accuracy: 0.8479 - precision: 0.7949 - recall: 0.8555 - f1_score: 0.8241 - val_loss: 9.5914 - val_accuracy: 0.8909 - val_precision: 0.8819 - val_recall: 0.8476 - val_f1_score: 0.8644 - lr: 1.0000e-04\n",
      "Epoch 6/100\n",
      "197/197 [==============================] - 8s 42ms/step - loss: 9.6074 - accuracy: 0.8538 - precision: 0.7988 - recall: 0.8684 - f1_score: 0.8321 - val_loss: 8.8268 - val_accuracy: 0.8890 - val_precision: 0.8340 - val_recall: 0.9116 - val_f1_score: 0.8711 - lr: 1.0000e-04\n",
      "Epoch 7/100\n",
      "197/197 [==============================] - 9s 44ms/step - loss: 8.8820 - accuracy: 0.8511 - precision: 0.7997 - recall: 0.8581 - f1_score: 0.8279 - val_loss: 8.1127 - val_accuracy: 0.8909 - val_precision: 0.8512 - val_recall: 0.8896 - val_f1_score: 0.8700 - lr: 1.0000e-04\n",
      "Epoch 8/100\n",
      "197/197 [==============================] - 8s 43ms/step - loss: 8.1694 - accuracy: 0.8621 - precision: 0.8132 - recall: 0.8681 - f1_score: 0.8398 - val_loss: 7.4686 - val_accuracy: 0.8846 - val_precision: 0.8039 - val_recall: 0.9502 - val_f1_score: 0.8710 - lr: 1.0000e-04\n",
      "Epoch 9/100\n",
      "197/197 [==============================] - 9s 43ms/step - loss: 7.5322 - accuracy: 0.8641 - precision: 0.8123 - recall: 0.8761 - f1_score: 0.8430 - val_loss: 6.8268 - val_accuracy: 0.8935 - val_precision: 0.8630 - val_recall: 0.8804 - val_f1_score: 0.8716 - lr: 1.0000e-04\n",
      "Epoch 10/100\n",
      "197/197 [==============================] - 8s 43ms/step - loss: 6.9487 - accuracy: 0.8662 - precision: 0.8213 - recall: 0.8673 - f1_score: 0.8437 - val_loss: 6.3063 - val_accuracy: 0.8903 - val_precision: 0.8145 - val_recall: 0.9469 - val_f1_score: 0.8757 - lr: 1.0000e-04\n",
      "Epoch 11/100\n",
      "197/197 [==============================] - 8s 42ms/step - loss: 6.4126 - accuracy: 0.8637 - precision: 0.8141 - recall: 0.8726 - f1_score: 0.8423 - val_loss: 5.7652 - val_accuracy: 0.8897 - val_precision: 0.8716 - val_recall: 0.8567 - val_f1_score: 0.8641 - lr: 1.0000e-04\n",
      "Epoch 12/100\n",
      "197/197 [==============================] - 8s 43ms/step - loss: 5.9178 - accuracy: 0.8659 - precision: 0.8206 - recall: 0.8684 - f1_score: 0.8438 - val_loss: 5.4215 - val_accuracy: 0.8374 - val_precision: 0.9206 - val_recall: 0.6631 - val_f1_score: 0.7709 - lr: 1.0000e-04\n",
      "Epoch 13/100\n",
      "197/197 [==============================] - 8s 40ms/step - loss: 5.4634 - accuracy: 0.8649 - precision: 0.8169 - recall: 0.8708 - f1_score: 0.8430 - val_loss: 4.8580 - val_accuracy: 0.9075 - val_precision: 0.8943 - val_recall: 0.8791 - val_f1_score: 0.8866 - lr: 1.0000e-04\n",
      "Epoch 14/100\n",
      "197/197 [==============================] - 8s 40ms/step - loss: 5.0579 - accuracy: 0.8646 - precision: 0.8161 - recall: 0.8712 - f1_score: 0.8428 - val_loss: 4.4783 - val_accuracy: 0.8916 - val_precision: 0.9126 - val_recall: 0.8131 - val_f1_score: 0.8600 - lr: 1.0000e-04\n",
      "Epoch 15/100\n",
      "197/197 [==============================] - 8s 40ms/step - loss: 4.6536 - accuracy: 0.8716 - precision: 0.8298 - recall: 0.8705 - f1_score: 0.8497 - val_loss: 4.1593 - val_accuracy: 0.8750 - val_precision: 0.9170 - val_recall: 0.7618 - val_f1_score: 0.8322 - lr: 1.0000e-04\n",
      "Epoch 16/100\n",
      "197/197 [==============================] - 8s 40ms/step - loss: 4.3060 - accuracy: 0.8760 - precision: 0.8335 - recall: 0.8776 - f1_score: 0.8550 - val_loss: 3.7678 - val_accuracy: 0.9005 - val_precision: 0.8959 - val_recall: 0.8569 - val_f1_score: 0.8760 - lr: 1.0000e-04\n",
      "Epoch 17/100\n",
      "197/197 [==============================] - 8s 40ms/step - loss: 3.9771 - accuracy: 0.8754 - precision: 0.8311 - recall: 0.8801 - f1_score: 0.8549 - val_loss: 3.5320 - val_accuracy: 0.8661 - val_precision: 0.8805 - val_recall: 0.7792 - val_f1_score: 0.8267 - lr: 1.0000e-04\n",
      "Epoch 18/100\n",
      "197/197 [==============================] - 8s 40ms/step - loss: 3.6762 - accuracy: 0.8762 - precision: 0.8334 - recall: 0.8785 - f1_score: 0.8553 - val_loss: 3.2562 - val_accuracy: 0.8744 - val_precision: 0.7811 - val_recall: 0.9643 - val_f1_score: 0.8631 - lr: 1.0000e-04\n",
      "Epoch 19/100\n",
      "197/197 [==============================] - 8s 40ms/step - loss: 3.4002 - accuracy: 0.8806 - precision: 0.8378 - recall: 0.8850 - f1_score: 0.8608 - val_loss: 3.0443 - val_accuracy: 0.8750 - val_precision: 0.7891 - val_recall: 0.9487 - val_f1_score: 0.8616 - lr: 1.0000e-04\n",
      "Epoch 20/100\n",
      "197/197 [==============================] - 8s 40ms/step - loss: 3.1723 - accuracy: 0.8741 - precision: 0.8290 - recall: 0.8792 - f1_score: 0.8534 - val_loss: 2.6996 - val_accuracy: 0.9050 - val_precision: 0.8656 - val_recall: 0.9099 - val_f1_score: 0.8872 - lr: 1.0000e-04\n",
      "Epoch 21/100\n",
      "197/197 [==============================] - 8s 41ms/step - loss: 2.9618 - accuracy: 0.8775 - precision: 0.8345 - recall: 0.8809 - f1_score: 0.8571 - val_loss: 2.5078 - val_accuracy: 0.9082 - val_precision: 0.9085 - val_recall: 0.8634 - val_f1_score: 0.8854 - lr: 1.0000e-04\n",
      "Epoch 22/100\n",
      "197/197 [==============================] - 8s 41ms/step - loss: 2.7552 - accuracy: 0.8814 - precision: 0.8407 - recall: 0.8832 - f1_score: 0.8614 - val_loss: 2.3031 - val_accuracy: 0.9088 - val_precision: 0.8784 - val_recall: 0.9017 - val_f1_score: 0.8899 - lr: 1.0000e-04\n",
      "Epoch 23/100\n",
      "197/197 [==============================] - 8s 41ms/step - loss: 2.5666 - accuracy: 0.8797 - precision: 0.8415 - recall: 0.8761 - f1_score: 0.8585 - val_loss: 2.1355 - val_accuracy: 0.9037 - val_precision: 0.9109 - val_recall: 0.8469 - val_f1_score: 0.8777 - lr: 1.0000e-04\n",
      "Epoch 24/100\n",
      "197/197 [==============================] - 8s 41ms/step - loss: 2.4025 - accuracy: 0.8803 - precision: 0.8355 - recall: 0.8872 - f1_score: 0.8606 - val_loss: 2.3012 - val_accuracy: 0.7908 - val_precision: 0.6646 - val_recall: 0.9860 - val_f1_score: 0.7940 - lr: 1.0000e-04\n",
      "Epoch 25/100\n",
      "197/197 [==============================] - 8s 40ms/step - loss: 2.2771 - accuracy: 0.8771 - precision: 0.8378 - recall: 0.8748 - f1_score: 0.8559 - val_loss: 1.8629 - val_accuracy: 0.8999 - val_precision: 0.8313 - val_recall: 0.9488 - val_f1_score: 0.8861 - lr: 1.0000e-04\n",
      "Epoch 26/100\n",
      "197/197 [==============================] - 8s 40ms/step - loss: 2.0937 - accuracy: 0.8873 - precision: 0.8478 - recall: 0.8885 - f1_score: 0.8677 - val_loss: 1.7165 - val_accuracy: 0.9101 - val_precision: 0.8717 - val_recall: 0.9163 - val_f1_score: 0.8934 - lr: 1.0000e-04\n",
      "Epoch 27/100\n",
      "197/197 [==============================] - 8s 40ms/step - loss: 2.0094 - accuracy: 0.8805 - precision: 0.8387 - recall: 0.8825 - f1_score: 0.8601 - val_loss: 1.5979 - val_accuracy: 0.9139 - val_precision: 0.8969 - val_recall: 0.8927 - val_f1_score: 0.8948 - lr: 1.0000e-04\n",
      "Epoch 28/100\n",
      "197/197 [==============================] - 8s 40ms/step - loss: 1.8924 - accuracy: 0.8840 - precision: 0.8454 - recall: 0.8825 - f1_score: 0.8635 - val_loss: 1.4989 - val_accuracy: 0.9152 - val_precision: 0.9008 - val_recall: 0.8910 - val_f1_score: 0.8958 - lr: 1.0000e-04\n",
      "Epoch 29/100\n",
      "197/197 [==============================] - 8s 40ms/step - loss: 1.7899 - accuracy: 0.8821 - precision: 0.8416 - recall: 0.8830 - f1_score: 0.8618 - val_loss: 1.4350 - val_accuracy: 0.9114 - val_precision: 0.8659 - val_recall: 0.9267 - val_f1_score: 0.8953 - lr: 1.0000e-04\n",
      "Epoch 30/100\n",
      "197/197 [==============================] - 8s 40ms/step - loss: 1.7144 - accuracy: 0.8787 - precision: 0.8410 - recall: 0.8749 - f1_score: 0.8576 - val_loss: 1.3623 - val_accuracy: 0.8833 - val_precision: 0.9564 - val_recall: 0.7500 - val_f1_score: 0.8407 - lr: 1.0000e-04\n",
      "Epoch 31/100\n",
      "197/197 [==============================] - 8s 40ms/step - loss: 1.6342 - accuracy: 0.8852 - precision: 0.8451 - recall: 0.8873 - f1_score: 0.8657 - val_loss: 1.2425 - val_accuracy: 0.9056 - val_precision: 0.9059 - val_recall: 0.8578 - val_f1_score: 0.8812 - lr: 1.0000e-04\n",
      "Epoch 32/100\n",
      "197/197 [==============================] - 8s 41ms/step - loss: 1.5508 - accuracy: 0.8832 - precision: 0.8448 - recall: 0.8815 - f1_score: 0.8628 - val_loss: 1.1976 - val_accuracy: 0.9050 - val_precision: 0.8393 - val_recall: 0.9502 - val_f1_score: 0.8913 - lr: 1.0000e-04\n",
      "Epoch 33/100\n",
      "197/197 [==============================] - 8s 40ms/step - loss: 1.4817 - accuracy: 0.8843 - precision: 0.8445 - recall: 0.8854 - f1_score: 0.8645 - val_loss: 1.1286 - val_accuracy: 0.9101 - val_precision: 0.8490 - val_recall: 0.9504 - val_f1_score: 0.8969 - lr: 1.0000e-04\n",
      "Epoch 34/100\n",
      "197/197 [==============================] - 8s 40ms/step - loss: 1.4235 - accuracy: 0.8856 - precision: 0.8449 - recall: 0.8883 - f1_score: 0.8661 - val_loss: 1.0478 - val_accuracy: 0.9203 - val_precision: 0.8856 - val_recall: 0.9255 - val_f1_score: 0.9051 - lr: 1.0000e-04\n",
      "Epoch 35/100\n",
      "197/197 [==============================] - 8s 41ms/step - loss: 1.3405 - accuracy: 0.8913 - precision: 0.8507 - recall: 0.8970 - f1_score: 0.8732 - val_loss: 1.0010 - val_accuracy: 0.9158 - val_precision: 0.8995 - val_recall: 0.8939 - val_f1_score: 0.8967 - lr: 1.0000e-04\n",
      "Epoch 36/100\n",
      "197/197 [==============================] - 8s 41ms/step - loss: 1.3000 - accuracy: 0.8929 - precision: 0.8549 - recall: 0.8955 - f1_score: 0.8747 - val_loss: 0.9725 - val_accuracy: 0.9158 - val_precision: 0.9000 - val_recall: 0.8944 - val_f1_score: 0.8972 - lr: 1.0000e-04\n",
      "Epoch 37/100\n",
      "197/197 [==============================] - 8s 41ms/step - loss: 1.2773 - accuracy: 0.8887 - precision: 0.8498 - recall: 0.8903 - f1_score: 0.8696 - val_loss: 0.9468 - val_accuracy: 0.9145 - val_precision: 0.8600 - val_recall: 0.9456 - val_f1_score: 0.9007 - lr: 1.0000e-04\n",
      "Epoch 38/100\n",
      "197/197 [==============================] - 8s 41ms/step - loss: 1.2152 - accuracy: 0.8917 - precision: 0.8545 - recall: 0.8923 - f1_score: 0.8730 - val_loss: 0.8727 - val_accuracy: 0.9254 - val_precision: 0.9035 - val_recall: 0.9161 - val_f1_score: 0.9098 - lr: 1.0000e-04\n",
      "Epoch 39/100\n",
      "197/197 [==============================] - 8s 41ms/step - loss: 1.2082 - accuracy: 0.8905 - precision: 0.8520 - recall: 0.8928 - f1_score: 0.8719 - val_loss: 0.8924 - val_accuracy: 0.8967 - val_precision: 0.9364 - val_recall: 0.8022 - val_f1_score: 0.8641 - lr: 1.0000e-04\n",
      "Epoch 40/100\n",
      "197/197 [==============================] - 8s 41ms/step - loss: 1.1349 - accuracy: 0.8963 - precision: 0.8553 - recall: 0.9045 - f1_score: 0.8792 - val_loss: 0.8140 - val_accuracy: 0.9247 - val_precision: 0.9328 - val_recall: 0.8808 - val_f1_score: 0.9061 - lr: 1.0000e-04\n",
      "Epoch 41/100\n",
      "197/197 [==============================] - 8s 41ms/step - loss: 1.1135 - accuracy: 0.8929 - precision: 0.8572 - recall: 0.8909 - f1_score: 0.8738 - val_loss: 0.8057 - val_accuracy: 0.9222 - val_precision: 0.8844 - val_recall: 0.9314 - val_f1_score: 0.9073 - lr: 1.0000e-04\n",
      "Epoch 42/100\n",
      "197/197 [==============================] - 8s 40ms/step - loss: 1.1087 - accuracy: 0.8929 - precision: 0.8565 - recall: 0.8927 - f1_score: 0.8742 - val_loss: 0.7626 - val_accuracy: 0.9126 - val_precision: 0.8857 - val_recall: 0.9036 - val_f1_score: 0.8945 - lr: 1.0000e-04\n",
      "Epoch 43/100\n",
      "197/197 [==============================] - 8s 40ms/step - loss: 1.0864 - accuracy: 0.8910 - precision: 0.8532 - recall: 0.8919 - f1_score: 0.8721 - val_loss: 0.8394 - val_accuracy: 0.8699 - val_precision: 0.9042 - val_recall: 0.7636 - val_f1_score: 0.8280 - lr: 1.0000e-04\n",
      "Epoch 44/100\n",
      "197/197 [==============================] - 8s 40ms/step - loss: 1.0542 - accuracy: 0.8919 - precision: 0.8523 - recall: 0.8955 - f1_score: 0.8733 - val_loss: 0.7260 - val_accuracy: 0.9152 - val_precision: 0.8750 - val_recall: 0.9253 - val_f1_score: 0.8995 - lr: 1.0000e-04\n",
      "Epoch 45/100\n",
      "197/197 [==============================] - 8s 40ms/step - loss: 1.0295 - accuracy: 0.8965 - precision: 0.8620 - recall: 0.8948 - f1_score: 0.8781 - val_loss: 0.7069 - val_accuracy: 0.9126 - val_precision: 0.8571 - val_recall: 0.9439 - val_f1_score: 0.8984 - lr: 1.0000e-04\n",
      "Epoch 46/100\n",
      "197/197 [==============================] - 8s 40ms/step - loss: 1.0013 - accuracy: 0.8922 - precision: 0.8581 - recall: 0.8885 - f1_score: 0.8730 - val_loss: 0.6746 - val_accuracy: 0.9196 - val_precision: 0.8807 - val_recall: 0.9300 - val_f1_score: 0.9047 - lr: 1.0000e-04\n",
      "Epoch 47/100\n",
      "197/197 [==============================] - 8s 41ms/step - loss: 0.9748 - accuracy: 0.8957 - precision: 0.8586 - recall: 0.8975 - f1_score: 0.8776 - val_loss: 0.6687 - val_accuracy: 0.9145 - val_precision: 0.8585 - val_recall: 0.9489 - val_f1_score: 0.9015 - lr: 1.0000e-04\n",
      "Epoch 48/100\n",
      "197/197 [==============================] - 8s 41ms/step - loss: 0.9651 - accuracy: 0.8941 - precision: 0.8581 - recall: 0.8932 - f1_score: 0.8753 - val_loss: 0.7397 - val_accuracy: 0.8769 - val_precision: 0.9608 - val_recall: 0.7281 - val_f1_score: 0.8284 - lr: 1.0000e-04\n",
      "Epoch 49/100\n",
      "197/197 [==============================] - 8s 41ms/step - loss: 0.9423 - accuracy: 0.8975 - precision: 0.8686 - recall: 0.8884 - f1_score: 0.8784 - val_loss: 0.6343 - val_accuracy: 0.9171 - val_precision: 0.8827 - val_recall: 0.9186 - val_f1_score: 0.9003 - lr: 1.0000e-04\n",
      "Epoch 50/100\n",
      "197/197 [==============================] - 8s 41ms/step - loss: 0.9375 - accuracy: 0.8914 - precision: 0.8555 - recall: 0.8900 - f1_score: 0.8724 - val_loss: 0.6334 - val_accuracy: 0.9222 - val_precision: 0.8766 - val_recall: 0.9423 - val_f1_score: 0.9083 - lr: 1.0000e-04\n",
      "Epoch 51/100\n",
      "197/197 [==============================] - 8s 41ms/step - loss: 0.9070 - accuracy: 0.9006 - precision: 0.8660 - recall: 0.9015 - f1_score: 0.8834 - val_loss: 0.6232 - val_accuracy: 0.9165 - val_precision: 0.9228 - val_recall: 0.8700 - val_f1_score: 0.8956 - lr: 1.0000e-04\n",
      "Epoch 52/100\n",
      "197/197 [==============================] - 8s 41ms/step - loss: 0.9018 - accuracy: 0.8984 - precision: 0.8674 - recall: 0.8932 - f1_score: 0.8801 - val_loss: 0.5993 - val_accuracy: 0.9158 - val_precision: 0.8984 - val_recall: 0.8956 - val_f1_score: 0.8970 - lr: 1.0000e-04\n",
      "Epoch 53/100\n",
      "197/197 [==============================] - 8s 41ms/step - loss: 0.9170 - accuracy: 0.8921 - precision: 0.8528 - recall: 0.8962 - f1_score: 0.8740 - val_loss: 0.6769 - val_accuracy: 0.8814 - val_precision: 0.7863 - val_recall: 0.9734 - val_f1_score: 0.8699 - lr: 1.0000e-04\n",
      "Epoch 54/100\n",
      "197/197 [==============================] - 8s 41ms/step - loss: 0.8941 - accuracy: 0.8998 - precision: 0.8671 - recall: 0.8971 - f1_score: 0.8819 - val_loss: 0.5838 - val_accuracy: 0.9165 - val_precision: 0.9254 - val_recall: 0.8665 - val_f1_score: 0.8949 - lr: 1.0000e-04\n",
      "Epoch 55/100\n",
      "197/197 [==============================] - 8s 41ms/step - loss: 0.8546 - accuracy: 0.9057 - precision: 0.8757 - recall: 0.9017 - f1_score: 0.8885 - val_loss: 0.5652 - val_accuracy: 0.9305 - val_precision: 0.9123 - val_recall: 0.9194 - val_f1_score: 0.9158 - lr: 1.0000e-04\n",
      "Epoch 56/100\n",
      "197/197 [==============================] - 8s 41ms/step - loss: 0.8476 - accuracy: 0.9035 - precision: 0.8729 - recall: 0.8995 - f1_score: 0.8860 - val_loss: 0.5923 - val_accuracy: 0.9088 - val_precision: 0.9235 - val_recall: 0.8471 - val_f1_score: 0.8836 - lr: 1.0000e-04\n",
      "Epoch 57/100\n",
      "197/197 [==============================] - 8s 41ms/step - loss: 0.8537 - accuracy: 0.8997 - precision: 0.8650 - recall: 0.8999 - f1_score: 0.8821 - val_loss: 0.5429 - val_accuracy: 0.9267 - val_precision: 0.9179 - val_recall: 0.9022 - val_f1_score: 0.9099 - lr: 1.0000e-04\n",
      "Epoch 58/100\n",
      "197/197 [==============================] - 8s 41ms/step - loss: 0.8432 - accuracy: 0.9054 - precision: 0.8747 - recall: 0.9021 - f1_score: 0.8882 - val_loss: 0.5559 - val_accuracy: 0.9228 - val_precision: 0.8795 - val_recall: 0.9410 - val_f1_score: 0.9092 - lr: 1.0000e-04\n",
      "Epoch 59/100\n",
      "197/197 [==============================] - 8s 41ms/step - loss: 0.8420 - accuracy: 0.8970 - precision: 0.8636 - recall: 0.8936 - f1_score: 0.8783 - val_loss: 0.5275 - val_accuracy: 0.9279 - val_precision: 0.9231 - val_recall: 0.8986 - val_f1_score: 0.9107 - lr: 1.0000e-04\n",
      "Epoch 60/100\n",
      "197/197 [==============================] - 129s 659ms/step - loss: 0.8414 - accuracy: 0.8992 - precision: 0.8674 - recall: 0.8954 - f1_score: 0.8812 - val_loss: 0.7328 - val_accuracy: 0.8482 - val_precision: 0.8248 - val_recall: 0.7991 - val_f1_score: 0.8117 - lr: 1.0000e-04\n",
      "Epoch 61/100\n",
      "197/197 [==============================] - 8s 42ms/step - loss: 0.8286 - accuracy: 0.9017 - precision: 0.8692 - recall: 0.9000 - f1_score: 0.8843 - val_loss: 0.5543 - val_accuracy: 0.9216 - val_precision: 0.8787 - val_recall: 0.9376 - val_f1_score: 0.9072 - lr: 1.0000e-04\n",
      "Epoch 62/100\n",
      "197/197 [==============================] - 8s 42ms/step - loss: 0.8324 - accuracy: 0.8995 - precision: 0.8681 - recall: 0.8949 - f1_score: 0.8813 - val_loss: 0.5393 - val_accuracy: 0.9216 - val_precision: 0.8700 - val_recall: 0.9501 - val_f1_score: 0.9083 - lr: 1.0000e-04\n",
      "Epoch 63/100\n",
      "197/197 [==============================] - 8s 41ms/step - loss: 0.7772 - accuracy: 0.9063 - precision: 0.8759 - recall: 0.9027 - f1_score: 0.8891 - val_loss: 0.5020 - val_accuracy: 0.9318 - val_precision: 0.9098 - val_recall: 0.9253 - val_f1_score: 0.9175 - lr: 3.1623e-05\n",
      "Epoch 64/100\n",
      "197/197 [==============================] - 8s 43ms/step - loss: 0.7669 - accuracy: 0.9075 - precision: 0.8739 - recall: 0.9089 - f1_score: 0.8911 - val_loss: 0.4913 - val_accuracy: 0.9324 - val_precision: 0.9048 - val_recall: 0.9330 - val_f1_score: 0.9187 - lr: 3.1623e-05\n",
      "Epoch 65/100\n",
      "197/197 [==============================] - 8s 43ms/step - loss: 0.7554 - accuracy: 0.9146 - precision: 0.8837 - recall: 0.9154 - f1_score: 0.8993 - val_loss: 0.4895 - val_accuracy: 0.9356 - val_precision: 0.9085 - val_recall: 0.9381 - val_f1_score: 0.9231 - lr: 3.1623e-05\n",
      "Epoch 66/100\n",
      "197/197 [==============================] - 8s 40ms/step - loss: 0.7418 - accuracy: 0.9149 - precision: 0.8856 - recall: 0.9139 - f1_score: 0.8995 - val_loss: 0.4830 - val_accuracy: 0.9337 - val_precision: 0.8979 - val_recall: 0.9455 - val_f1_score: 0.9211 - lr: 3.1623e-05\n",
      "Epoch 67/100\n",
      "197/197 [==============================] - 8s 41ms/step - loss: 0.7287 - accuracy: 0.9171 - precision: 0.8912 - recall: 0.9123 - f1_score: 0.9016 - val_loss: 0.4863 - val_accuracy: 0.9311 - val_precision: 0.8985 - val_recall: 0.9377 - val_f1_score: 0.9177 - lr: 3.1623e-05\n",
      "Epoch 68/100\n",
      "197/197 [==============================] - 8s 41ms/step - loss: 0.7268 - accuracy: 0.9138 - precision: 0.8842 - recall: 0.9128 - f1_score: 0.8983 - val_loss: 0.4671 - val_accuracy: 0.9375 - val_precision: 0.9220 - val_recall: 0.9249 - val_f1_score: 0.9234 - lr: 3.1623e-05\n",
      "Epoch 69/100\n",
      "197/197 [==============================] - 8s 42ms/step - loss: 0.7144 - accuracy: 0.9167 - precision: 0.8906 - recall: 0.9120 - f1_score: 0.9012 - val_loss: 0.4794 - val_accuracy: 0.9324 - val_precision: 0.8987 - val_recall: 0.9407 - val_f1_score: 0.9192 - lr: 3.1623e-05\n",
      "Epoch 70/100\n",
      "197/197 [==============================] - 8s 42ms/step - loss: 0.7144 - accuracy: 0.9167 - precision: 0.8882 - recall: 0.9155 - f1_score: 0.9016 - val_loss: 0.4797 - val_accuracy: 0.9267 - val_precision: 0.8922 - val_recall: 0.9327 - val_f1_score: 0.9120 - lr: 3.1623e-05\n",
      "Epoch 71/100\n",
      "197/197 [==============================] - 8s 42ms/step - loss: 0.7063 - accuracy: 0.9168 - precision: 0.8883 - recall: 0.9154 - f1_score: 0.9017 - val_loss: 0.4533 - val_accuracy: 0.9343 - val_precision: 0.9246 - val_recall: 0.9146 - val_f1_score: 0.9196 - lr: 3.1623e-05\n",
      "Epoch 72/100\n",
      "197/197 [==============================] - 8s 43ms/step - loss: 0.6911 - accuracy: 0.9200 - precision: 0.8971 - recall: 0.9128 - f1_score: 0.9049 - val_loss: 0.4551 - val_accuracy: 0.9343 - val_precision: 0.9153 - val_recall: 0.9252 - val_f1_score: 0.9202 - lr: 3.1623e-05\n",
      "Epoch 73/100\n",
      "197/197 [==============================] - 8s 41ms/step - loss: 0.7010 - accuracy: 0.9186 - precision: 0.8881 - recall: 0.9209 - f1_score: 0.9042 - val_loss: 0.4579 - val_accuracy: 0.9337 - val_precision: 0.9127 - val_recall: 0.9269 - val_f1_score: 0.9198 - lr: 3.1623e-05\n",
      "Epoch 74/100\n",
      "197/197 [==============================] - 8s 42ms/step - loss: 0.7032 - accuracy: 0.9159 - precision: 0.8880 - recall: 0.9137 - f1_score: 0.9006 - val_loss: 0.4546 - val_accuracy: 0.9305 - val_precision: 0.9123 - val_recall: 0.9194 - val_f1_score: 0.9158 - lr: 3.1623e-05\n",
      "Epoch 75/100\n",
      "197/197 [==============================] - 8s 42ms/step - loss: 0.6887 - accuracy: 0.9225 - precision: 0.8943 - recall: 0.9235 - f1_score: 0.9087 - val_loss: 0.4500 - val_accuracy: 0.9362 - val_precision: 0.9158 - val_recall: 0.9300 - val_f1_score: 0.9228 - lr: 1.0000e-05\n",
      "Epoch 76/100\n",
      "197/197 [==============================] - 8s 42ms/step - loss: 0.7061 - accuracy: 0.9187 - precision: 0.8919 - recall: 0.9157 - f1_score: 0.9036 - val_loss: 0.4508 - val_accuracy: 0.9343 - val_precision: 0.9228 - val_recall: 0.9156 - val_f1_score: 0.9192 - lr: 1.0000e-05\n",
      "Epoch 77/100\n",
      "197/197 [==============================] - 8s 41ms/step - loss: 0.6917 - accuracy: 0.9192 - precision: 0.8931 - recall: 0.9153 - f1_score: 0.9041 - val_loss: 0.4445 - val_accuracy: 0.9401 - val_precision: 0.9228 - val_recall: 0.9315 - val_f1_score: 0.9271 - lr: 1.0000e-05\n",
      "Epoch 78/100\n",
      "197/197 [==============================] - 8s 41ms/step - loss: 0.6765 - accuracy: 0.9279 - precision: 0.9035 - recall: 0.9262 - f1_score: 0.9147 - val_loss: 0.4481 - val_accuracy: 0.9362 - val_precision: 0.9046 - val_recall: 0.9440 - val_f1_score: 0.9239 - lr: 1.0000e-05\n",
      "Epoch 79/100\n",
      "197/197 [==============================] - 8s 41ms/step - loss: 0.6674 - accuracy: 0.9224 - precision: 0.8958 - recall: 0.9207 - f1_score: 0.9081 - val_loss: 0.4428 - val_accuracy: 0.9375 - val_precision: 0.9106 - val_recall: 0.9391 - val_f1_score: 0.9246 - lr: 1.0000e-05\n",
      "Epoch 80/100\n",
      "197/197 [==============================] - 8s 41ms/step - loss: 0.6785 - accuracy: 0.9225 - precision: 0.8970 - recall: 0.9202 - f1_score: 0.9084 - val_loss: 0.4407 - val_accuracy: 0.9420 - val_precision: 0.9221 - val_recall: 0.9379 - val_f1_score: 0.9299 - lr: 1.0000e-05\n",
      "Epoch 81/100\n",
      "197/197 [==============================] - 8s 41ms/step - loss: 0.6694 - accuracy: 0.9240 - precision: 0.8979 - recall: 0.9228 - f1_score: 0.9101 - val_loss: 0.4368 - val_accuracy: 0.9401 - val_precision: 0.9163 - val_recall: 0.9392 - val_f1_score: 0.9276 - lr: 1.0000e-05\n",
      "Epoch 82/100\n",
      "197/197 [==============================] - 8s 42ms/step - loss: 0.6629 - accuracy: 0.9256 - precision: 0.9013 - recall: 0.9223 - f1_score: 0.9117 - val_loss: 0.4359 - val_accuracy: 0.9394 - val_precision: 0.9113 - val_recall: 0.9439 - val_f1_score: 0.9273 - lr: 1.0000e-05\n",
      "Epoch 83/100\n",
      "197/197 [==============================] - 8s 42ms/step - loss: 0.6577 - accuracy: 0.9238 - precision: 0.8981 - recall: 0.9220 - f1_score: 0.9099 - val_loss: 0.4395 - val_accuracy: 0.9381 - val_precision: 0.9243 - val_recall: 0.9257 - val_f1_score: 0.9250 - lr: 1.0000e-05\n",
      "Epoch 84/100\n",
      "197/197 [==============================] - 8s 41ms/step - loss: 0.6633 - accuracy: 0.9243 - precision: 0.8983 - recall: 0.9226 - f1_score: 0.9103 - val_loss: 0.4395 - val_accuracy: 0.9375 - val_precision: 0.9064 - val_recall: 0.9457 - val_f1_score: 0.9256 - lr: 1.0000e-05\n",
      "Epoch 85/100\n",
      "197/197 [==============================] - 8s 41ms/step - loss: 0.6731 - accuracy: 0.9229 - precision: 0.8979 - recall: 0.9198 - f1_score: 0.9087 - val_loss: 0.4326 - val_accuracy: 0.9413 - val_precision: 0.9177 - val_recall: 0.9406 - val_f1_score: 0.9290 - lr: 1.0000e-05\n",
      "Epoch 86/100\n",
      "197/197 [==============================] - 8s 41ms/step - loss: 0.6543 - accuracy: 0.9254 - precision: 0.9012 - recall: 0.9218 - f1_score: 0.9114 - val_loss: 0.4350 - val_accuracy: 0.9388 - val_precision: 0.9149 - val_recall: 0.9377 - val_f1_score: 0.9262 - lr: 1.0000e-05\n",
      "Epoch 87/100\n",
      "197/197 [==============================] - 8s 40ms/step - loss: 0.6524 - accuracy: 0.9256 - precision: 0.9037 - recall: 0.9198 - f1_score: 0.9117 - val_loss: 0.4371 - val_accuracy: 0.9375 - val_precision: 0.9150 - val_recall: 0.9349 - val_f1_score: 0.9248 - lr: 1.0000e-05\n",
      "Epoch 88/100\n",
      "197/197 [==============================] - 8s 40ms/step - loss: 0.6649 - accuracy: 0.9240 - precision: 0.8962 - recall: 0.9245 - f1_score: 0.9101 - val_loss: 0.4326 - val_accuracy: 0.9413 - val_precision: 0.9231 - val_recall: 0.9346 - val_f1_score: 0.9288 - lr: 1.0000e-05\n",
      "Epoch 89/100\n",
      "197/197 [==============================] - 8s 41ms/step - loss: 0.6549 - accuracy: 0.9246 - precision: 0.9033 - recall: 0.9174 - f1_score: 0.9103 - val_loss: 0.4303 - val_accuracy: 0.9394 - val_precision: 0.9191 - val_recall: 0.9348 - val_f1_score: 0.9269 - lr: 3.1623e-06\n",
      "Epoch 90/100\n",
      "197/197 [==============================] - 8s 42ms/step - loss: 0.6361 - accuracy: 0.9316 - precision: 0.9046 - recall: 0.9345 - f1_score: 0.9193 - val_loss: 0.4310 - val_accuracy: 0.9381 - val_precision: 0.9187 - val_recall: 0.9316 - val_f1_score: 0.9251 - lr: 3.1623e-06\n",
      "Epoch 91/100\n",
      "197/197 [==============================] - 8s 41ms/step - loss: 0.6639 - accuracy: 0.9230 - precision: 0.9018 - recall: 0.9152 - f1_score: 0.9084 - val_loss: 0.4302 - val_accuracy: 0.9375 - val_precision: 0.9150 - val_recall: 0.9349 - val_f1_score: 0.9248 - lr: 3.1623e-06\n",
      "Epoch 92/100\n",
      "197/197 [==============================] - 8s 40ms/step - loss: 0.6414 - accuracy: 0.9257 - precision: 0.8985 - recall: 0.9266 - f1_score: 0.9123 - val_loss: 0.4290 - val_accuracy: 0.9394 - val_precision: 0.9149 - val_recall: 0.9392 - val_f1_score: 0.9269 - lr: 3.1623e-06\n",
      "Epoch 93/100\n",
      "197/197 [==============================] - 8s 41ms/step - loss: 0.6366 - accuracy: 0.9298 - precision: 0.9043 - recall: 0.9299 - f1_score: 0.9169 - val_loss: 0.4291 - val_accuracy: 0.9407 - val_precision: 0.9170 - val_recall: 0.9412 - val_f1_score: 0.9290 - lr: 3.1623e-06\n",
      "Epoch 94/100\n",
      "197/197 [==============================] - 8s 40ms/step - loss: 0.6412 - accuracy: 0.9276 - precision: 0.9010 - recall: 0.9285 - f1_score: 0.9145 - val_loss: 0.4333 - val_accuracy: 0.9394 - val_precision: 0.9127 - val_recall: 0.9425 - val_f1_score: 0.9273 - lr: 3.1623e-06\n",
      "Epoch 95/100\n",
      "197/197 [==============================] - 8s 41ms/step - loss: 0.6493 - accuracy: 0.9265 - precision: 0.9028 - recall: 0.9231 - f1_score: 0.9129 - val_loss: 0.4301 - val_accuracy: 0.9375 - val_precision: 0.9163 - val_recall: 0.9333 - val_f1_score: 0.9247 - lr: 3.1623e-06\n",
      "Epoch 96/100\n",
      "197/197 [==============================] - 8s 41ms/step - loss: 0.6510 - accuracy: 0.9229 - precision: 0.8984 - recall: 0.9189 - f1_score: 0.9085 - val_loss: 0.4297 - val_accuracy: 0.9407 - val_precision: 0.9144 - val_recall: 0.9442 - val_f1_score: 0.9291 - lr: 1.0000e-06\n",
      "Epoch 97/100\n",
      "197/197 [==============================] - 8s 41ms/step - loss: 0.6451 - accuracy: 0.9246 - precision: 0.8994 - recall: 0.9223 - f1_score: 0.9107 - val_loss: 0.4285 - val_accuracy: 0.9407 - val_precision: 0.9183 - val_recall: 0.9396 - val_f1_score: 0.9288 - lr: 1.0000e-06\n",
      "Epoch 98/100\n",
      "197/197 [==============================] - 8s 41ms/step - loss: 0.6484 - accuracy: 0.9249 - precision: 0.9011 - recall: 0.9213 - f1_score: 0.9111 - val_loss: 0.4294 - val_accuracy: 0.9407 - val_precision: 0.9136 - val_recall: 0.9437 - val_f1_score: 0.9284 - lr: 1.0000e-06\n",
      "Epoch 99/100\n",
      "197/197 [==============================] - 8s 41ms/step - loss: 0.6518 - accuracy: 0.9241 - precision: 0.8970 - recall: 0.9243 - f1_score: 0.9104 - val_loss: 0.4295 - val_accuracy: 0.9407 - val_precision: 0.9138 - val_recall: 0.9438 - val_f1_score: 0.9285 - lr: 1.0000e-06\n",
      "Epoch 100/100\n",
      "197/197 [==============================] - 8s 41ms/step - loss: 0.6314 - accuracy: 0.9287 - precision: 0.9043 - recall: 0.9274 - f1_score: 0.9157 - val_loss: 0.4286 - val_accuracy: 0.9413 - val_precision: 0.9169 - val_recall: 0.9425 - val_f1_score: 0.9296 - lr: 1.0000e-06\n"
     ]
    }
   ],
   "source": [
    "epochs = 100\n",
    "lr_reducer = tf.keras.callbacks.ReduceLROnPlateau(monitor='val_loss', factor=np.sqrt(0.1), cooldown=0, patience=3, min_lr=0.5e-15)\n",
    "history_binary = model_binary.fit(\n",
    "    train_isCancerous_generator,\n",
    "    steps_per_epoch=len(train_data) // batch_size,\n",
    "    epochs=epochs,\n",
    "    validation_data=val_isCancerous_generator,\n",
    "    validation_steps=len(val_data) // batch_size,\n",
    "    class_weight=class_weight_dict_isCancerous\n",
    "    , callbacks=[lr_reducer]\n",
    ")"
   ],
   "metadata": {
    "collapsed": false,
    "ExecuteTime": {
     "start_time": "2023-05-01T19:50:48.528084Z",
     "end_time": "2023-05-01T20:06:20.945677Z"
    }
   }
  },
  {
   "cell_type": "code",
   "execution_count": 47,
   "outputs": [
    {
     "data": {
      "text/plain": "<Figure size 432x288 with 1 Axes>",
      "image/png": "[encoded data removed]"
     },
     "metadata": {
      "needs_background": "light"
     },
     "output_type": "display_data"
    }
   ],
   "source": [
    "train_loss = history_binary.history['loss']\n",
    "val_loss = history_binary.history['val_loss']\n",
    "\n",
    "epochs_range = range(1, epochs + 1)\n",
    "\n",
    "plt.plot(epochs_range, train_loss, label='Training Loss')\n",
    "plt.plot(epochs_range, val_loss, label='Validation Loss')\n",
    "\n",
    "plt.legend()\n",
    "plt.title('Training and Validation Loss in binary')\n",
    "plt.xlabel('Epoch')\n",
    "plt.ylabel('Loss')\n",
    "\n",
    "plt.show()"
   ],
   "metadata": {
    "collapsed": false,
    "ExecuteTime": {
     "start_time": "2023-05-01T20:06:25.654264Z",
     "end_time": "2023-05-01T20:06:25.707458Z"
    }
   }
  },
  {
   "cell_type": "code",
   "execution_count": 48,
   "outputs": [
    {
     "data": {
      "text/plain": "<Figure size 432x288 with 1 Axes>",
      "image/png": "[encoded data removed]"
     },
     "metadata": {
      "needs_background": "light"
     },
     "output_type": "display_data"
    }
   ],
   "source": [
    "train_accuracy = history_binary.history['accuracy']\n",
    "val_accuracy = history_binary.history['val_accuracy']\n",
    "\n",
    "epochs_range = range(1, epochs + 1)\n",
    "\n",
    "plt.plot(epochs_range, train_accuracy, label='Training Accuracy')\n",
    "plt.plot(epochs_range, val_accuracy, label='Validation Accuracy')\n",
    "\n",
    "plt.legend()\n",
    "plt.title('Training and Validation Accuracy in binary')\n",
    "plt.xlabel('Epoch')\n",
    "plt.ylabel('Accuracy')\n",
    "\n",
    "plt.show()"
   ],
   "metadata": {
    "collapsed": false,
    "ExecuteTime": {
     "start_time": "2023-05-01T20:06:27.218178Z",
     "end_time": "2023-05-01T20:06:27.268571Z"
    }
   }
  },
  {
   "cell_type": "markdown",
   "source": [
    "评估不可见数据集的表现"
   ],
   "metadata": {
    "collapsed": false
   }
  },
  {
   "cell_type": "code",
   "execution_count": 51,
   "outputs": [
    {
     "name": "stdout",
     "output_type": "stream",
     "text": [
      " 7/62 [==>...........................] - ETA: 1s - loss: 0.4862 - accuracy: 0.9241 - precision: 0.8889 - recall: 0.9195 - f1_score: 0.9040"
     ]
    },
    {
     "name": "stderr",
     "output_type": "stream",
     "text": [
      "/Users/hueybai/miniconda3/envs/DL/lib/python3.10/site-packages/keras/engine/training.py:2448: UserWarning: Metric F1Score implements a `reset_states()` method; rename it to `reset_state()` (without the final \"s\"). The name `reset_states()` has been deprecated to improve API consistency.\n",
      "  m.reset_state()\n"
     ]
    },
    {
     "name": "stdout",
     "output_type": "stream",
     "text": [
      "62/62 [==============================] - 2s 26ms/step - loss: 0.4433 - accuracy: 0.9374 - precision: 0.9153 - recall: 0.9292 - f1_score: 0.9222\n"
     ]
    },
    {
     "data": {
      "text/plain": "[0.44328078627586365,\n 0.9373737573623657,\n 0.9153175354003906,\n 0.9292035102844238,\n 0.9222081899642944]"
     },
     "execution_count": 51,
     "metadata": {},
     "output_type": "execute_result"
    }
   ],
   "source": [
    "model_binary.evaluate(test_isCancerous_generator)"
   ],
   "metadata": {
    "collapsed": false,
    "ExecuteTime": {
     "start_time": "2023-05-01T20:07:01.037176Z",
     "end_time": "2023-05-01T20:07:02.690624Z"
    }
   }
  },
  {
   "cell_type": "markdown",
   "source": [
    "# 训练多分类"
   ],
   "metadata": {
    "collapsed": false
   }
  },
  {
   "cell_type": "code",
   "execution_count": 57,
   "outputs": [
    {
     "name": "stdout",
     "output_type": "stream",
     "text": [
      "Epoch 1/100\n",
      "197/197 [==============================] - 12s 55ms/step - loss: 19.4907 - accuracy: 0.5316 - precision: 0.5677 - recall: 0.4678 - f1_score: 0.5129 - val_loss: 16.4428 - val_accuracy: 0.2538 - val_precision: 0.2543 - val_recall: 0.2538 - val_f1_score: 0.2541 - lr: 5.0000e-04\n",
      "Epoch 2/100\n",
      "197/197 [==============================] - 10s 49ms/step - loss: 17.0591 - accuracy: 0.6081 - precision: 0.6723 - recall: 0.5327 - f1_score: 0.5944 - val_loss: 13.6150 - val_accuracy: 0.3661 - val_precision: 0.3736 - val_recall: 0.3469 - val_f1_score: 0.3598 - lr: 5.0000e-04\n",
      "Epoch 3/100\n",
      "197/197 [==============================] - 10s 49ms/step - loss: 15.3576 - accuracy: 0.6214 - precision: 0.6829 - recall: 0.5414 - f1_score: 0.6040 - val_loss: 11.3852 - val_accuracy: 0.6480 - val_precision: 0.7400 - val_recall: 0.5210 - val_f1_score: 0.6115 - lr: 5.0000e-04\n",
      "Epoch 4/100\n",
      "197/197 [==============================] - 10s 51ms/step - loss: 13.7005 - accuracy: 0.6373 - precision: 0.7064 - recall: 0.5544 - f1_score: 0.6213 - val_loss: 9.9487 - val_accuracy: 0.6307 - val_precision: 0.6831 - val_recall: 0.5829 - val_f1_score: 0.6290 - lr: 5.0000e-04\n",
      "Epoch 5/100\n",
      "197/197 [==============================] - 10s 51ms/step - loss: 12.1099 - accuracy: 0.6548 - precision: 0.7210 - recall: 0.5725 - f1_score: 0.6382 - val_loss: 8.3731 - val_accuracy: 0.7557 - val_precision: 0.8019 - val_recall: 0.7073 - val_f1_score: 0.7516 - lr: 5.0000e-04\n",
      "Epoch 6/100\n",
      "197/197 [==============================] - 10s 51ms/step - loss: 10.7512 - accuracy: 0.6652 - precision: 0.7245 - recall: 0.5797 - f1_score: 0.6440 - val_loss: 7.9172 - val_accuracy: 0.4126 - val_precision: 0.4267 - val_recall: 0.3712 - val_f1_score: 0.3970 - lr: 5.0000e-04\n",
      "Epoch 7/100\n",
      "197/197 [==============================] - 10s 51ms/step - loss: 9.5091 - accuracy: 0.6697 - precision: 0.7474 - recall: 0.5822 - f1_score: 0.6545 - val_loss: 6.6322 - val_accuracy: 0.4585 - val_precision: 0.4803 - val_recall: 0.4273 - val_f1_score: 0.4522 - lr: 5.0000e-04\n",
      "Epoch 8/100\n",
      "197/197 [==============================] - 10s 49ms/step - loss: 8.5073 - accuracy: 0.6737 - precision: 0.7367 - recall: 0.5937 - f1_score: 0.6575 - val_loss: 6.2606 - val_accuracy: 0.4043 - val_precision: 0.4239 - val_recall: 0.3693 - val_f1_score: 0.3947 - lr: 5.0000e-04\n",
      "Epoch 9/100\n",
      "197/197 [==============================] - 10s 49ms/step - loss: 7.6132 - accuracy: 0.6790 - precision: 0.7454 - recall: 0.5944 - f1_score: 0.6614 - val_loss: 4.4670 - val_accuracy: 0.7372 - val_precision: 0.7734 - val_recall: 0.7009 - val_f1_score: 0.7354 - lr: 5.0000e-04\n",
      "Epoch 10/100\n",
      "197/197 [==============================] - 10s 49ms/step - loss: 6.9076 - accuracy: 0.6913 - precision: 0.7572 - recall: 0.6110 - f1_score: 0.6763 - val_loss: 3.8693 - val_accuracy: 0.7315 - val_precision: 0.7858 - val_recall: 0.6716 - val_f1_score: 0.7242 - lr: 5.0000e-04\n",
      "Epoch 11/100\n",
      "197/197 [==============================] - 10s 48ms/step - loss: 6.3904 - accuracy: 0.6900 - precision: 0.7522 - recall: 0.6043 - f1_score: 0.6702 - val_loss: 3.3584 - val_accuracy: 0.7474 - val_precision: 0.8019 - val_recall: 0.6971 - val_f1_score: 0.7458 - lr: 5.0000e-04\n",
      "Epoch 12/100\n",
      "197/197 [==============================] - 10s 49ms/step - loss: 5.8634 - accuracy: 0.6946 - precision: 0.7577 - recall: 0.6154 - f1_score: 0.6792 - val_loss: 3.1109 - val_accuracy: 0.7143 - val_precision: 0.7463 - val_recall: 0.6716 - val_f1_score: 0.7069 - lr: 5.0000e-04\n",
      "Epoch 13/100\n",
      "197/197 [==============================] - 10s 48ms/step - loss: 5.5051 - accuracy: 0.6970 - precision: 0.7541 - recall: 0.6200 - f1_score: 0.6805 - val_loss: 2.9398 - val_accuracy: 0.6454 - val_precision: 0.6746 - val_recall: 0.6148 - val_f1_score: 0.6433 - lr: 5.0000e-04\n",
      "Epoch 14/100\n",
      "197/197 [==============================] - 9s 48ms/step - loss: 5.1961 - accuracy: 0.6984 - precision: 0.7640 - recall: 0.6222 - f1_score: 0.6859 - val_loss: 2.4191 - val_accuracy: 0.7545 - val_precision: 0.8094 - val_recall: 0.6798 - val_f1_score: 0.7390 - lr: 5.0000e-04\n",
      "Epoch 15/100\n",
      "197/197 [==============================] - 10s 49ms/step - loss: 4.9380 - accuracy: 0.7097 - precision: 0.7681 - recall: 0.6321 - f1_score: 0.6935 - val_loss: 2.4273 - val_accuracy: 0.6346 - val_precision: 0.6876 - val_recall: 0.5714 - val_f1_score: 0.6242 - lr: 5.0000e-04\n",
      "Epoch 16/100\n",
      "197/197 [==============================] - 9s 47ms/step - loss: 4.7560 - accuracy: 0.7035 - precision: 0.7611 - recall: 0.6214 - f1_score: 0.6842 - val_loss: 2.2350 - val_accuracy: 0.6588 - val_precision: 0.6970 - val_recall: 0.6001 - val_f1_score: 0.6450 - lr: 5.0000e-04\n",
      "Epoch 17/100\n",
      "197/197 [==============================] - 9s 48ms/step - loss: 4.5850 - accuracy: 0.7106 - precision: 0.7695 - recall: 0.6440 - f1_score: 0.7012 - val_loss: 2.1500 - val_accuracy: 0.6977 - val_precision: 0.7489 - val_recall: 0.6524 - val_f1_score: 0.6973 - lr: 5.0000e-04\n",
      "Epoch 18/100\n",
      "197/197 [==============================] - 10s 49ms/step - loss: 4.5149 - accuracy: 0.7097 - precision: 0.7711 - recall: 0.6338 - f1_score: 0.6958 - val_loss: 2.2856 - val_accuracy: 0.5931 - val_precision: 0.6457 - val_recall: 0.5172 - val_f1_score: 0.5744 - lr: 5.0000e-04\n",
      "Epoch 19/100\n",
      "197/197 [==============================] - 10s 48ms/step - loss: 4.4452 - accuracy: 0.7133 - precision: 0.7709 - recall: 0.6403 - f1_score: 0.6996 - val_loss: 1.8280 - val_accuracy: 0.7730 - val_precision: 0.8032 - val_recall: 0.7290 - val_f1_score: 0.7643 - lr: 5.0000e-04\n",
      "Epoch 20/100\n",
      "197/197 [==============================] - 9s 47ms/step - loss: 4.2958 - accuracy: 0.7219 - precision: 0.7722 - recall: 0.6521 - f1_score: 0.7071 - val_loss: 1.7684 - val_accuracy: 0.7755 - val_precision: 0.8349 - val_recall: 0.6996 - val_f1_score: 0.7613 - lr: 5.0000e-04\n",
      "Epoch 21/100\n",
      "197/197 [==============================] - 9s 48ms/step - loss: 4.2872 - accuracy: 0.7198 - precision: 0.7799 - recall: 0.6508 - f1_score: 0.7095 - val_loss: 1.8247 - val_accuracy: 0.7207 - val_precision: 0.7693 - val_recall: 0.6531 - val_f1_score: 0.7065 - lr: 5.0000e-04\n",
      "Epoch 22/100\n",
      "197/197 [==============================] - 9s 48ms/step - loss: 4.1156 - accuracy: 0.7314 - precision: 0.7853 - recall: 0.6671 - f1_score: 0.7214 - val_loss: 1.8893 - val_accuracy: 0.7181 - val_precision: 0.7558 - val_recall: 0.6811 - val_f1_score: 0.7165 - lr: 5.0000e-04\n",
      "Epoch 23/100\n",
      "197/197 [==============================] - 10s 52ms/step - loss: 4.1162 - accuracy: 0.7294 - precision: 0.7851 - recall: 0.6586 - f1_score: 0.7163 - val_loss: 1.6145 - val_accuracy: 0.7825 - val_precision: 0.8266 - val_recall: 0.7296 - val_f1_score: 0.7751 - lr: 5.0000e-04\n",
      "Epoch 24/100\n",
      "197/197 [==============================] - 9s 47ms/step - loss: 4.0870 - accuracy: 0.7276 - precision: 0.7812 - recall: 0.6675 - f1_score: 0.7198 - val_loss: 1.7314 - val_accuracy: 0.7526 - val_precision: 0.7824 - val_recall: 0.7200 - val_f1_score: 0.7499 - lr: 5.0000e-04\n",
      "Epoch 25/100\n",
      "197/197 [==============================] - 9s 48ms/step - loss: 3.9150 - accuracy: 0.7383 - precision: 0.7856 - recall: 0.6748 - f1_score: 0.7260 - val_loss: 1.6025 - val_accuracy: 0.7691 - val_precision: 0.7979 - val_recall: 0.7430 - val_f1_score: 0.7695 - lr: 5.0000e-04\n",
      "Epoch 26/100\n",
      "197/197 [==============================] - 10s 48ms/step - loss: 3.9660 - accuracy: 0.7387 - precision: 0.7871 - recall: 0.6727 - f1_score: 0.7254 - val_loss: 1.5208 - val_accuracy: 0.8017 - val_precision: 0.8292 - val_recall: 0.7647 - val_f1_score: 0.7956 - lr: 5.0000e-04\n",
      "Epoch 27/100\n",
      "197/197 [==============================] - 10s 48ms/step - loss: 3.9181 - accuracy: 0.7410 - precision: 0.7893 - recall: 0.6771 - f1_score: 0.7289 - val_loss: 1.5488 - val_accuracy: 0.7838 - val_precision: 0.8356 - val_recall: 0.7328 - val_f1_score: 0.7808 - lr: 5.0000e-04\n",
      "Epoch 28/100\n",
      "197/197 [==============================] - 10s 49ms/step - loss: 3.9281 - accuracy: 0.7387 - precision: 0.7915 - recall: 0.6760 - f1_score: 0.7292 - val_loss: 1.7062 - val_accuracy: 0.7136 - val_precision: 0.7664 - val_recall: 0.6550 - val_f1_score: 0.7063 - lr: 5.0000e-04\n",
      "Epoch 29/100\n",
      "197/197 [==============================] - 10s 50ms/step - loss: 3.9508 - accuracy: 0.7286 - precision: 0.7822 - recall: 0.6652 - f1_score: 0.7190 - val_loss: 1.5521 - val_accuracy: 0.7596 - val_precision: 0.8206 - val_recall: 0.7028 - val_f1_score: 0.7571 - lr: 5.0000e-04\n",
      "Epoch 30/100\n",
      "197/197 [==============================] - 9s 48ms/step - loss: 3.5980 - accuracy: 0.7662 - precision: 0.8210 - recall: 0.7084 - f1_score: 0.7606 - val_loss: 1.4110 - val_accuracy: 0.7927 - val_precision: 0.8382 - val_recall: 0.7302 - val_f1_score: 0.7805 - lr: 1.5811e-04\n",
      "Epoch 31/100\n",
      "197/197 [==============================] - 9s 48ms/step - loss: 3.4675 - accuracy: 0.7689 - precision: 0.8163 - recall: 0.7157 - f1_score: 0.7627 - val_loss: 1.3222 - val_accuracy: 0.8125 - val_precision: 0.8522 - val_recall: 0.7685 - val_f1_score: 0.8082 - lr: 1.5811e-04\n",
      "Epoch 32/100\n",
      "197/197 [==============================] - 9s 48ms/step - loss: 3.3903 - accuracy: 0.7689 - precision: 0.8189 - recall: 0.7163 - f1_score: 0.7642 - val_loss: 1.2515 - val_accuracy: 0.8227 - val_precision: 0.8623 - val_recall: 0.7787 - val_f1_score: 0.8184 - lr: 1.5811e-04\n",
      "Epoch 33/100\n",
      "197/197 [==============================] - 10s 49ms/step - loss: 3.3072 - accuracy: 0.7773 - precision: 0.8257 - recall: 0.7243 - f1_score: 0.7717 - val_loss: 1.1986 - val_accuracy: 0.8144 - val_precision: 0.8563 - val_recall: 0.7793 - val_f1_score: 0.8160 - lr: 1.5811e-04\n",
      "Epoch 34/100\n",
      "197/197 [==============================] - 9s 48ms/step - loss: 3.2388 - accuracy: 0.7821 - precision: 0.8274 - recall: 0.7363 - f1_score: 0.7792 - val_loss: 1.1679 - val_accuracy: 0.8208 - val_precision: 0.8765 - val_recall: 0.7787 - val_f1_score: 0.8247 - lr: 1.5811e-04\n",
      "Epoch 35/100\n",
      "197/197 [==============================] - 9s 48ms/step - loss: 3.2133 - accuracy: 0.7859 - precision: 0.8259 - recall: 0.7351 - f1_score: 0.7779 - val_loss: 1.2037 - val_accuracy: 0.7959 - val_precision: 0.8322 - val_recall: 0.7526 - val_f1_score: 0.7904 - lr: 1.5811e-04\n",
      "Epoch 36/100\n",
      "197/197 [==============================] - 10s 49ms/step - loss: 3.2367 - accuracy: 0.7814 - precision: 0.8260 - recall: 0.7284 - f1_score: 0.7741 - val_loss: 1.3311 - val_accuracy: 0.7494 - val_precision: 0.7981 - val_recall: 0.7009 - val_f1_score: 0.7463 - lr: 1.5811e-04\n",
      "Epoch 37/100\n",
      "197/197 [==============================] - 10s 49ms/step - loss: 3.1801 - accuracy: 0.7832 - precision: 0.8258 - recall: 0.7357 - f1_score: 0.7781 - val_loss: 1.2202 - val_accuracy: 0.7972 - val_precision: 0.8320 - val_recall: 0.7519 - val_f1_score: 0.7899 - lr: 1.5811e-04\n",
      "Epoch 38/100\n",
      "197/197 [==============================] - 10s 48ms/step - loss: 3.0729 - accuracy: 0.7929 - precision: 0.8364 - recall: 0.7506 - f1_score: 0.7912 - val_loss: 1.0861 - val_accuracy: 0.8284 - val_precision: 0.8669 - val_recall: 0.7972 - val_f1_score: 0.8306 - lr: 5.0000e-05\n",
      "Epoch 39/100\n",
      "197/197 [==============================] - 9s 48ms/step - loss: 2.9625 - accuracy: 0.7959 - precision: 0.8374 - recall: 0.7511 - f1_score: 0.7919 - val_loss: 1.1148 - val_accuracy: 0.8265 - val_precision: 0.8570 - val_recall: 0.7876 - val_f1_score: 0.8209 - lr: 5.0000e-05\n",
      "Epoch 40/100\n",
      "197/197 [==============================] - 9s 48ms/step - loss: 2.9452 - accuracy: 0.8027 - precision: 0.8411 - recall: 0.7589 - f1_score: 0.7979 - val_loss: 1.0723 - val_accuracy: 0.8265 - val_precision: 0.8622 - val_recall: 0.7978 - val_f1_score: 0.8288 - lr: 5.0000e-05\n",
      "Epoch 41/100\n",
      "197/197 [==============================] - 9s 48ms/step - loss: 2.9684 - accuracy: 0.7960 - precision: 0.8339 - recall: 0.7557 - f1_score: 0.7929 - val_loss: 1.0614 - val_accuracy: 0.8329 - val_precision: 0.8684 - val_recall: 0.8080 - val_f1_score: 0.8371 - lr: 5.0000e-05\n",
      "Epoch 42/100\n",
      "197/197 [==============================] - 10s 48ms/step - loss: 2.8891 - accuracy: 0.7990 - precision: 0.8430 - recall: 0.7584 - f1_score: 0.7985 - val_loss: 1.0491 - val_accuracy: 0.8291 - val_precision: 0.8637 - val_recall: 0.8042 - val_f1_score: 0.8329 - lr: 5.0000e-05\n",
      "Epoch 43/100\n",
      "197/197 [==============================] - 10s 49ms/step - loss: 2.9084 - accuracy: 0.8005 - precision: 0.8380 - recall: 0.7576 - f1_score: 0.7958 - val_loss: 1.0325 - val_accuracy: 0.8316 - val_precision: 0.8688 - val_recall: 0.8068 - val_f1_score: 0.8366 - lr: 5.0000e-05\n",
      "Epoch 44/100\n",
      "197/197 [==============================] - 10s 49ms/step - loss: 2.9065 - accuracy: 0.8022 - precision: 0.8394 - recall: 0.7614 - f1_score: 0.7985 - val_loss: 1.0293 - val_accuracy: 0.8265 - val_precision: 0.8699 - val_recall: 0.8017 - val_f1_score: 0.8344 - lr: 5.0000e-05\n",
      "Epoch 45/100\n",
      "197/197 [==============================] - 10s 49ms/step - loss: 2.9123 - accuracy: 0.7975 - precision: 0.8342 - recall: 0.7532 - f1_score: 0.7916 - val_loss: 1.0567 - val_accuracy: 0.8131 - val_precision: 0.8504 - val_recall: 0.7685 - val_f1_score: 0.8074 - lr: 5.0000e-05\n",
      "Epoch 46/100\n",
      "197/197 [==============================] - 10s 48ms/step - loss: 2.8710 - accuracy: 0.8079 - precision: 0.8475 - recall: 0.7630 - f1_score: 0.8030 - val_loss: 1.0220 - val_accuracy: 0.8329 - val_precision: 0.8686 - val_recall: 0.8010 - val_f1_score: 0.8334 - lr: 5.0000e-05\n",
      "Epoch 47/100\n",
      "197/197 [==============================] - 10s 48ms/step - loss: 2.8432 - accuracy: 0.8056 - precision: 0.8462 - recall: 0.7635 - f1_score: 0.8027 - val_loss: 1.0077 - val_accuracy: 0.8310 - val_precision: 0.8654 - val_recall: 0.7953 - val_f1_score: 0.8288 - lr: 5.0000e-05\n",
      "Epoch 48/100\n",
      "197/197 [==============================] - 10s 48ms/step - loss: 2.8401 - accuracy: 0.8070 - precision: 0.8437 - recall: 0.7652 - f1_score: 0.8026 - val_loss: 1.0283 - val_accuracy: 0.8170 - val_precision: 0.8518 - val_recall: 0.7883 - val_f1_score: 0.8188 - lr: 5.0000e-05\n",
      "Epoch 49/100\n",
      "197/197 [==============================] - 10s 48ms/step - loss: 2.8569 - accuracy: 0.8017 - precision: 0.8362 - recall: 0.7603 - f1_score: 0.7965 - val_loss: 1.0179 - val_accuracy: 0.8157 - val_precision: 0.8478 - val_recall: 0.7851 - val_f1_score: 0.8152 - lr: 5.0000e-05\n",
      "Epoch 50/100\n",
      "197/197 [==============================] - 10s 49ms/step - loss: 2.7648 - accuracy: 0.8095 - precision: 0.8506 - recall: 0.7654 - f1_score: 0.8057 - val_loss: 0.9871 - val_accuracy: 0.8259 - val_precision: 0.8637 - val_recall: 0.7883 - val_f1_score: 0.8243 - lr: 5.0000e-05\n",
      "Epoch 51/100\n",
      "197/197 [==============================] - 10s 48ms/step - loss: 2.8186 - accuracy: 0.8065 - precision: 0.8419 - recall: 0.7648 - f1_score: 0.8015 - val_loss: 1.0154 - val_accuracy: 0.8202 - val_precision: 0.8539 - val_recall: 0.7864 - val_f1_score: 0.8187 - lr: 5.0000e-05\n",
      "Epoch 52/100\n",
      "197/197 [==============================] - 10s 48ms/step - loss: 2.7498 - accuracy: 0.8133 - precision: 0.8532 - recall: 0.7733 - f1_score: 0.8113 - val_loss: 0.9892 - val_accuracy: 0.8310 - val_precision: 0.8646 - val_recall: 0.7985 - val_f1_score: 0.8302 - lr: 5.0000e-05\n",
      "Epoch 53/100\n",
      "197/197 [==============================] - 9s 48ms/step - loss: 2.7625 - accuracy: 0.8111 - precision: 0.8459 - recall: 0.7713 - f1_score: 0.8069 - val_loss: 0.9713 - val_accuracy: 0.8335 - val_precision: 0.8606 - val_recall: 0.8029 - val_f1_score: 0.8307 - lr: 5.0000e-05\n",
      "Epoch 54/100\n",
      "197/197 [==============================] - 10s 49ms/step - loss: 2.7236 - accuracy: 0.8062 - precision: 0.8417 - recall: 0.7683 - f1_score: 0.8033 - val_loss: 0.9779 - val_accuracy: 0.8380 - val_precision: 0.8710 - val_recall: 0.8055 - val_f1_score: 0.8370 - lr: 5.0000e-05\n",
      "Epoch 55/100\n",
      "197/197 [==============================] - 10s 50ms/step - loss: 2.7563 - accuracy: 0.8098 - precision: 0.8455 - recall: 0.7724 - f1_score: 0.8073 - val_loss: 0.9705 - val_accuracy: 0.8329 - val_precision: 0.8652 - val_recall: 0.8023 - val_f1_score: 0.8326 - lr: 5.0000e-05\n",
      "Epoch 56/100\n",
      "197/197 [==============================] - 10s 48ms/step - loss: 2.6828 - accuracy: 0.8206 - precision: 0.8559 - recall: 0.7808 - f1_score: 0.8166 - val_loss: 0.9978 - val_accuracy: 0.8157 - val_precision: 0.8487 - val_recall: 0.7908 - val_f1_score: 0.8188 - lr: 5.0000e-05\n",
      "Epoch 57/100\n",
      "197/197 [==============================] - 9s 48ms/step - loss: 2.7441 - accuracy: 0.8087 - precision: 0.8442 - recall: 0.7689 - f1_score: 0.8048 - val_loss: 0.9926 - val_accuracy: 0.8233 - val_precision: 0.8494 - val_recall: 0.7946 - val_f1_score: 0.8211 - lr: 5.0000e-05\n",
      "Epoch 58/100\n",
      "197/197 [==============================] - 9s 47ms/step - loss: 2.7121 - accuracy: 0.8144 - precision: 0.8482 - recall: 0.7737 - f1_score: 0.8092 - val_loss: 0.9890 - val_accuracy: 0.8182 - val_precision: 0.8511 - val_recall: 0.7985 - val_f1_score: 0.8240 - lr: 5.0000e-05\n",
      "Epoch 59/100\n",
      "197/197 [==============================] - 9s 47ms/step - loss: 2.6332 - accuracy: 0.8159 - precision: 0.8503 - recall: 0.7779 - f1_score: 0.8125 - val_loss: 0.9762 - val_accuracy: 0.8265 - val_precision: 0.8563 - val_recall: 0.7978 - val_f1_score: 0.8260 - lr: 1.5811e-05\n",
      "Epoch 60/100\n",
      "197/197 [==============================] - 9s 47ms/step - loss: 2.5852 - accuracy: 0.8227 - precision: 0.8569 - recall: 0.7900 - f1_score: 0.8221 - val_loss: 0.9489 - val_accuracy: 0.8297 - val_precision: 0.8663 - val_recall: 0.8099 - val_f1_score: 0.8372 - lr: 1.5811e-05\n",
      "Epoch 61/100\n",
      "197/197 [==============================] - 9s 47ms/step - loss: 2.6309 - accuracy: 0.8175 - precision: 0.8554 - recall: 0.7860 - f1_score: 0.8193 - val_loss: 0.9717 - val_accuracy: 0.8246 - val_precision: 0.8576 - val_recall: 0.7991 - val_f1_score: 0.8273 - lr: 1.5811e-05\n",
      "Epoch 62/100\n",
      "197/197 [==============================] - 9s 48ms/step - loss: 2.6301 - accuracy: 0.8178 - precision: 0.8501 - recall: 0.7824 - f1_score: 0.8148 - val_loss: 0.9573 - val_accuracy: 0.8291 - val_precision: 0.8621 - val_recall: 0.8131 - val_f1_score: 0.8369 - lr: 1.5811e-05\n",
      "Epoch 63/100\n",
      "197/197 [==============================] - 9s 47ms/step - loss: 2.6034 - accuracy: 0.8216 - precision: 0.8569 - recall: 0.7825 - f1_score: 0.8181 - val_loss: 0.9494 - val_accuracy: 0.8355 - val_precision: 0.8621 - val_recall: 0.8093 - val_f1_score: 0.8349 - lr: 1.5811e-05\n",
      "Epoch 64/100\n",
      "197/197 [==============================] - 9s 46ms/step - loss: 2.6056 - accuracy: 0.8197 - precision: 0.8534 - recall: 0.7810 - f1_score: 0.8156 - val_loss: 0.9552 - val_accuracy: 0.8316 - val_precision: 0.8572 - val_recall: 0.8119 - val_f1_score: 0.8339 - lr: 5.0000e-06\n",
      "Epoch 65/100\n",
      "197/197 [==============================] - 9s 46ms/step - loss: 2.5808 - accuracy: 0.8194 - precision: 0.8585 - recall: 0.7884 - f1_score: 0.8219 - val_loss: 0.9561 - val_accuracy: 0.8348 - val_precision: 0.8617 - val_recall: 0.8106 - val_f1_score: 0.8354 - lr: 5.0000e-06\n",
      "Epoch 66/100\n",
      "197/197 [==============================] - 9s 47ms/step - loss: 2.5902 - accuracy: 0.8219 - precision: 0.8531 - recall: 0.7862 - f1_score: 0.8183 - val_loss: 0.9554 - val_accuracy: 0.8304 - val_precision: 0.8608 - val_recall: 0.8087 - val_f1_score: 0.8339 - lr: 5.0000e-06\n",
      "Epoch 67/100\n",
      "197/197 [==============================] - 9s 47ms/step - loss: 2.5688 - accuracy: 0.8183 - precision: 0.8537 - recall: 0.7844 - f1_score: 0.8176 - val_loss: 0.9513 - val_accuracy: 0.8323 - val_precision: 0.8635 - val_recall: 0.8112 - val_f1_score: 0.8366 - lr: 1.5811e-06\n",
      "Epoch 68/100\n",
      "197/197 [==============================] - 9s 47ms/step - loss: 2.6039 - accuracy: 0.8217 - precision: 0.8555 - recall: 0.7854 - f1_score: 0.8189 - val_loss: 0.9500 - val_accuracy: 0.8335 - val_precision: 0.8606 - val_recall: 0.8112 - val_f1_score: 0.8352 - lr: 1.5811e-06\n",
      "Epoch 69/100\n",
      "197/197 [==============================] - 9s 47ms/step - loss: 2.5331 - accuracy: 0.8329 - precision: 0.8623 - recall: 0.7960 - f1_score: 0.8278 - val_loss: 0.9475 - val_accuracy: 0.8329 - val_precision: 0.8670 - val_recall: 0.8106 - val_f1_score: 0.8378 - lr: 1.5811e-06\n",
      "Epoch 70/100\n",
      "197/197 [==============================] - 9s 48ms/step - loss: 2.5380 - accuracy: 0.8254 - precision: 0.8621 - recall: 0.7886 - f1_score: 0.8237 - val_loss: 0.9563 - val_accuracy: 0.8304 - val_precision: 0.8597 - val_recall: 0.8048 - val_f1_score: 0.8314 - lr: 1.5811e-06\n",
      "Epoch 71/100\n",
      "197/197 [==============================] - 9s 47ms/step - loss: 2.5337 - accuracy: 0.8294 - precision: 0.8621 - recall: 0.7938 - f1_score: 0.8265 - val_loss: 0.9533 - val_accuracy: 0.8284 - val_precision: 0.8602 - val_recall: 0.8087 - val_f1_score: 0.8337 - lr: 1.5811e-06\n",
      "Epoch 72/100\n",
      "197/197 [==============================] - 9s 46ms/step - loss: 2.5359 - accuracy: 0.8254 - precision: 0.8606 - recall: 0.7937 - f1_score: 0.8258 - val_loss: 0.9542 - val_accuracy: 0.8297 - val_precision: 0.8610 - val_recall: 0.8099 - val_f1_score: 0.8347 - lr: 1.5811e-06\n",
      "Epoch 73/100\n",
      "197/197 [==============================] - 10s 49ms/step - loss: 2.5599 - accuracy: 0.8262 - precision: 0.8574 - recall: 0.7930 - f1_score: 0.8239 - val_loss: 0.9544 - val_accuracy: 0.8297 - val_precision: 0.8612 - val_recall: 0.8112 - val_f1_score: 0.8355 - lr: 5.0000e-07\n",
      "Epoch 74/100\n",
      "197/197 [==============================] - 9s 47ms/step - loss: 2.5156 - accuracy: 0.8246 - precision: 0.8589 - recall: 0.7935 - f1_score: 0.8249 - val_loss: 0.9514 - val_accuracy: 0.8316 - val_precision: 0.8629 - val_recall: 0.8106 - val_f1_score: 0.8359 - lr: 5.0000e-07\n",
      "Epoch 75/100\n",
      "197/197 [==============================] - 9s 46ms/step - loss: 2.5638 - accuracy: 0.8205 - precision: 0.8558 - recall: 0.7873 - f1_score: 0.8201 - val_loss: 0.9540 - val_accuracy: 0.8310 - val_precision: 0.8616 - val_recall: 0.8099 - val_f1_score: 0.8350 - lr: 5.0000e-07\n",
      "Epoch 76/100\n",
      "197/197 [==============================] - 9s 48ms/step - loss: 2.5552 - accuracy: 0.8259 - precision: 0.8601 - recall: 0.7884 - f1_score: 0.8227 - val_loss: 0.9520 - val_accuracy: 0.8323 - val_precision: 0.8638 - val_recall: 0.8087 - val_f1_score: 0.8353 - lr: 1.5811e-07\n",
      "Epoch 77/100\n",
      "197/197 [==============================] - 9s 47ms/step - loss: 2.5717 - accuracy: 0.8281 - precision: 0.8629 - recall: 0.7933 - f1_score: 0.8267 - val_loss: 0.9541 - val_accuracy: 0.8297 - val_precision: 0.8611 - val_recall: 0.8068 - val_f1_score: 0.8331 - lr: 1.5811e-07\n",
      "Epoch 78/100\n",
      "197/197 [==============================] - 9s 47ms/step - loss: 2.5136 - accuracy: 0.8278 - precision: 0.8609 - recall: 0.7929 - f1_score: 0.8255 - val_loss: 0.9540 - val_accuracy: 0.8316 - val_precision: 0.8603 - val_recall: 0.8093 - val_f1_score: 0.8340 - lr: 1.5811e-07\n",
      "Epoch 79/100\n",
      "197/197 [==============================] - 9s 47ms/step - loss: 2.5893 - accuracy: 0.8192 - precision: 0.8523 - recall: 0.7862 - f1_score: 0.8179 - val_loss: 0.9486 - val_accuracy: 0.8316 - val_precision: 0.8611 - val_recall: 0.8106 - val_f1_score: 0.8351 - lr: 5.0000e-08\n",
      "Epoch 80/100\n",
      "197/197 [==============================] - 9s 47ms/step - loss: 2.4998 - accuracy: 0.8289 - precision: 0.8634 - recall: 0.7987 - f1_score: 0.8298 - val_loss: 0.9566 - val_accuracy: 0.8272 - val_precision: 0.8606 - val_recall: 0.8074 - val_f1_score: 0.8332 - lr: 5.0000e-08\n",
      "Epoch 81/100\n",
      "197/197 [==============================] - 9s 48ms/step - loss: 2.5513 - accuracy: 0.8267 - precision: 0.8586 - recall: 0.7922 - f1_score: 0.8241 - val_loss: 0.9513 - val_accuracy: 0.8304 - val_precision: 0.8628 - val_recall: 0.8099 - val_f1_score: 0.8355 - lr: 5.0000e-08\n",
      "Epoch 82/100\n",
      "197/197 [==============================] - 10s 49ms/step - loss: 2.5905 - accuracy: 0.8248 - precision: 0.8560 - recall: 0.7929 - f1_score: 0.8232 - val_loss: 0.9498 - val_accuracy: 0.8304 - val_precision: 0.8629 - val_recall: 0.8106 - val_f1_score: 0.8359 - lr: 1.5811e-08\n",
      "Epoch 83/100\n",
      "197/197 [==============================] - 10s 49ms/step - loss: 2.5171 - accuracy: 0.8238 - precision: 0.8608 - recall: 0.7913 - f1_score: 0.8246 - val_loss: 0.9497 - val_accuracy: 0.8304 - val_precision: 0.8627 - val_recall: 0.8093 - val_f1_score: 0.8351 - lr: 1.5811e-08\n",
      "Epoch 84/100\n",
      "197/197 [==============================] - 10s 49ms/step - loss: 2.5678 - accuracy: 0.8237 - precision: 0.8524 - recall: 0.7865 - f1_score: 0.8181 - val_loss: 0.9511 - val_accuracy: 0.8291 - val_precision: 0.8621 - val_recall: 0.8093 - val_f1_score: 0.8349 - lr: 1.5811e-08\n",
      "Epoch 85/100\n",
      "197/197 [==============================] - 10s 49ms/step - loss: 2.5969 - accuracy: 0.8217 - precision: 0.8534 - recall: 0.7892 - f1_score: 0.8201 - val_loss: 0.9502 - val_accuracy: 0.8310 - val_precision: 0.8628 - val_recall: 0.8099 - val_f1_score: 0.8355 - lr: 5.0000e-09\n",
      "Epoch 86/100\n",
      "197/197 [==============================] - 10s 49ms/step - loss: 2.5600 - accuracy: 0.8200 - precision: 0.8595 - recall: 0.7897 - f1_score: 0.8231 - val_loss: 0.9500 - val_accuracy: 0.8329 - val_precision: 0.8636 - val_recall: 0.8119 - val_f1_score: 0.8369 - lr: 5.0000e-09\n",
      "Epoch 87/100\n",
      "197/197 [==============================] - 10s 49ms/step - loss: 2.5419 - accuracy: 0.8252 - precision: 0.8593 - recall: 0.7890 - f1_score: 0.8227 - val_loss: 0.9481 - val_accuracy: 0.8291 - val_precision: 0.8623 - val_recall: 0.8106 - val_f1_score: 0.8356 - lr: 5.0000e-09\n",
      "Epoch 88/100\n",
      "197/197 [==============================] - 10s 49ms/step - loss: 2.5156 - accuracy: 0.8337 - precision: 0.8681 - recall: 0.7970 - f1_score: 0.8310 - val_loss: 0.9582 - val_accuracy: 0.8265 - val_precision: 0.8583 - val_recall: 0.8074 - val_f1_score: 0.8321 - lr: 1.5811e-09\n",
      "Epoch 89/100\n",
      "197/197 [==============================] - 10s 49ms/step - loss: 2.5250 - accuracy: 0.8254 - precision: 0.8592 - recall: 0.7905 - f1_score: 0.8234 - val_loss: 0.9496 - val_accuracy: 0.8329 - val_precision: 0.8628 - val_recall: 0.8099 - val_f1_score: 0.8355 - lr: 1.5811e-09\n",
      "Epoch 90/100\n",
      "197/197 [==============================] - 10s 48ms/step - loss: 2.5580 - accuracy: 0.8216 - precision: 0.8580 - recall: 0.7884 - f1_score: 0.8217 - val_loss: 0.9519 - val_accuracy: 0.8304 - val_precision: 0.8616 - val_recall: 0.8099 - val_f1_score: 0.8350 - lr: 1.5811e-09\n",
      "Epoch 91/100\n",
      "197/197 [==============================] - 10s 49ms/step - loss: 2.5173 - accuracy: 0.8310 - precision: 0.8617 - recall: 0.7943 - f1_score: 0.8266 - val_loss: 0.9498 - val_accuracy: 0.8316 - val_precision: 0.8609 - val_recall: 0.8093 - val_f1_score: 0.8343 - lr: 5.0000e-10\n",
      "Epoch 92/100\n",
      "197/197 [==============================] - 10s 48ms/step - loss: 2.5406 - accuracy: 0.8289 - precision: 0.8584 - recall: 0.7908 - f1_score: 0.8232 - val_loss: 0.9537 - val_accuracy: 0.8284 - val_precision: 0.8609 - val_recall: 0.8093 - val_f1_score: 0.8343 - lr: 5.0000e-10\n",
      "Epoch 93/100\n",
      "197/197 [==============================] - 10s 49ms/step - loss: 2.5580 - accuracy: 0.8225 - precision: 0.8607 - recall: 0.7892 - f1_score: 0.8234 - val_loss: 0.9521 - val_accuracy: 0.8304 - val_precision: 0.8605 - val_recall: 0.8106 - val_f1_score: 0.8348 - lr: 5.0000e-10\n",
      "Epoch 94/100\n",
      "197/197 [==============================] - 10s 49ms/step - loss: 2.4838 - accuracy: 0.8327 - precision: 0.8659 - recall: 0.7967 - f1_score: 0.8299 - val_loss: 0.9531 - val_accuracy: 0.8316 - val_precision: 0.8635 - val_recall: 0.8106 - val_f1_score: 0.8362 - lr: 1.5811e-10\n",
      "Epoch 95/100\n",
      "197/197 [==============================] - 10s 49ms/step - loss: 2.5747 - accuracy: 0.8225 - precision: 0.8564 - recall: 0.7868 - f1_score: 0.8202 - val_loss: 0.9522 - val_accuracy: 0.8310 - val_precision: 0.8617 - val_recall: 0.8106 - val_f1_score: 0.8354 - lr: 1.5811e-10\n",
      "Epoch 96/100\n",
      "197/197 [==============================] - 10s 49ms/step - loss: 2.5624 - accuracy: 0.8262 - precision: 0.8597 - recall: 0.7914 - f1_score: 0.8241 - val_loss: 0.9543 - val_accuracy: 0.8310 - val_precision: 0.8589 - val_recall: 0.8074 - val_f1_score: 0.8323 - lr: 1.5811e-10\n",
      "Epoch 97/100\n",
      "197/197 [==============================] - 10s 49ms/step - loss: 2.4990 - accuracy: 0.8348 - precision: 0.8656 - recall: 0.7997 - f1_score: 0.8314 - val_loss: 0.9559 - val_accuracy: 0.8278 - val_precision: 0.8593 - val_recall: 0.8061 - val_f1_score: 0.8319 - lr: 5.0000e-11\n",
      "Epoch 98/100\n",
      "197/197 [==============================] - 10s 49ms/step - loss: 2.5552 - accuracy: 0.8243 - precision: 0.8586 - recall: 0.7876 - f1_score: 0.8216 - val_loss: 0.9508 - val_accuracy: 0.8310 - val_precision: 0.8608 - val_recall: 0.8087 - val_f1_score: 0.8339 - lr: 5.0000e-11\n",
      "Epoch 99/100\n",
      "197/197 [==============================] - 10s 50ms/step - loss: 2.5253 - accuracy: 0.8303 - precision: 0.8642 - recall: 0.7952 - f1_score: 0.8283 - val_loss: 0.9475 - val_accuracy: 0.8323 - val_precision: 0.8623 - val_recall: 0.8106 - val_f1_score: 0.8356 - lr: 5.0000e-11\n",
      "Epoch 100/100\n",
      "197/197 [==============================] - 10s 49ms/step - loss: 2.5830 - accuracy: 0.8243 - precision: 0.8611 - recall: 0.7879 - f1_score: 0.8229 - val_loss: 0.9555 - val_accuracy: 0.8304 - val_precision: 0.8615 - val_recall: 0.8093 - val_f1_score: 0.8346 - lr: 1.5811e-11\n"
     ]
    }
   ],
   "source": [
    "epochs = 100\n",
    "history_categorical = model_categorical.fit(\n",
    "    train_cellType_generator,\n",
    "    steps_per_epoch=len(train_data) // batch_size,\n",
    "    epochs=epochs,\n",
    "    validation_data=val_cellType_generator,\n",
    "    validation_steps=len(val_data) // batch_size,\n",
    "    class_weight=class_weight_dict_cellType\n",
    "    , callbacks=[lr_reducer]\n",
    ")"
   ],
   "metadata": {
    "collapsed": false,
    "ExecuteTime": {
     "start_time": "2023-05-01T20:08:20.855017Z",
     "end_time": "2023-05-01T20:24:15.972077Z"
    }
   }
  },
  {
   "cell_type": "code",
   "execution_count": 58,
   "outputs": [
    {
     "data": {
      "text/plain": "<Figure size 432x288 with 1 Axes>",
      "image/png": "[encoded data removed]"
     },
     "metadata": {
      "needs_background": "light"
     },
     "output_type": "display_data"
    }
   ],
   "source": [
    "train_loss = history_categorical.history['loss']\n",
    "val_loss = history_categorical.history['val_loss']\n",
    "\n",
    "epochs_range = range(1, epochs + 1)\n",
    "\n",
    "plt.plot(epochs_range, train_loss, label='Training Loss')\n",
    "plt.plot(epochs_range, val_loss, label='Validation Loss')\n",
    "\n",
    "plt.legend()\n",
    "plt.title('Training and Validation Loss in multi-category')\n",
    "plt.xlabel('Epoch')\n",
    "plt.ylabel('Loss')\n",
    "\n",
    "plt.show()"
   ],
   "metadata": {
    "collapsed": false,
    "ExecuteTime": {
     "start_time": "2023-05-01T20:24:19.069731Z",
     "end_time": "2023-05-01T20:24:19.136031Z"
    }
   }
  },
  {
   "cell_type": "code",
   "execution_count": 59,
   "outputs": [
    {
     "data": {
      "text/plain": "<Figure size 432x288 with 1 Axes>",
      "image/png": "[encoded data removed]"
     },
     "metadata": {
      "needs_background": "light"
     },
     "output_type": "display_data"
    }
   ],
   "source": [
    "train_accuracy = history_categorical.history['accuracy']\n",
    "val_accuracy = history_categorical.history['val_accuracy']\n",
    "\n",
    "epochs_range = range(1, epochs + 1)\n",
    "\n",
    "plt.plot(epochs_range, train_accuracy, label='Training Accuracy')\n",
    "plt.plot(epochs_range, val_accuracy, label='Validation Accuracy')\n",
    "\n",
    "plt.legend()\n",
    "plt.title('Training and Validation Accuracy in multi-category')\n",
    "plt.xlabel('Epoch')\n",
    "plt.ylabel('Accuracy')\n",
    "\n",
    "plt.show()"
   ],
   "metadata": {
    "collapsed": false,
    "ExecuteTime": {
     "start_time": "2023-05-01T20:24:21.705060Z",
     "end_time": "2023-05-01T20:24:21.774254Z"
    }
   }
  },
  {
   "cell_type": "code",
   "execution_count": 66,
   "outputs": [
    {
     "name": "stdout",
     "output_type": "stream",
     "text": [
      "62/62 [==============================] - 3s 40ms/step - loss: 1.0018 - accuracy: 0.8293 - precision: 0.8481 - recall: 0.7949 - f1_score: 0.8206\n"
     ]
    },
    {
     "data": {
      "text/plain": "[1.0018296241760254,\n 0.8292929530143738,\n 0.8480603694915771,\n 0.794949471950531,\n 0.8206464052200317]"
     },
     "execution_count": 66,
     "metadata": {},
     "output_type": "execute_result"
    }
   ],
   "source": [
    "# # 预测\n",
    "# predictions = model_categorical.predict(test_cellType_generator)\n",
    "#\n",
    "# # 获取预测标签\n",
    "# predicted_labels = np.argmax(predictions, axis=-1)\n",
    "#\n",
    "# # 计算准确度\n",
    "# true_labels = test_cellType_generator.classes\n",
    "# accuracy = accuracy_score(true_labels, predicted_labels)\n",
    "# print(f\"Accuracy: {accuracy}\")\n",
    "#\n",
    "# # 计算损失\n",
    "# y_true = tf.keras.utils.to_categorical(true_labels, num_classes=4) # 根据您的类别数量更改 num_classes\n",
    "# loss = tf.reduce_mean(tf.keras.losses.categorical_crossentropy(y_true, predictions))\n",
    "# print(f\"Loss: {loss}\")\n",
    "\n",
    "model_categorical.evaluate(test_cellType_generator)"
   ],
   "metadata": {
    "collapsed": false,
    "ExecuteTime": {
     "start_time": "2023-05-01T20:28:06.614756Z",
     "end_time": "2023-05-01T20:28:09.692630Z"
    }
   }
  },
  {
   "cell_type": "code",
   "execution_count": 62,
   "outputs": [
    {
     "name": "stderr",
     "output_type": "stream",
     "text": [
      "WARNING:absl:Found untraced functions such as _jit_compiled_convolution_op, _jit_compiled_convolution_op, _jit_compiled_convolution_op, _jit_compiled_convolution_op while saving (showing 4 of 4). These functions will not be directly callable after loading.\n"
     ]
    },
    {
     "name": "stdout",
     "output_type": "stream",
     "text": [
      "INFO:tensorflow:Assets written to: saved_model/model_categorical/assets\n"
     ]
    },
    {
     "name": "stderr",
     "output_type": "stream",
     "text": [
      "INFO:tensorflow:Assets written to: saved_model/model_categorical/assets\n"
     ]
    }
   ],
   "source": [
    "model_categorical.save('saved_model/model_categorical')"
   ],
   "metadata": {
    "collapsed": false,
    "ExecuteTime": {
     "start_time": "2023-05-01T20:24:56.912687Z",
     "end_time": "2023-05-01T20:24:58.077516Z"
    }
   }
  },
  {
   "cell_type": "markdown",
   "source": [
    "# DI/HD 使用data_labels_extraData对多分类的模型进行增强\n",
    "通过半监督学习。我们将采用UDA。\n",
    "首先先获取额外的数据集并且进行相关处理。\n",
    "我们从数据集可以观察到，没有癌症在多分类中为2。所以我们可以将不是癌症的样本之间指定其多分类的类别为2."
   ],
   "metadata": {
    "collapsed": false
   }
  },
  {
   "cell_type": "code",
   "execution_count": 67,
   "outputs": [],
   "source": [
    "# model_categorical = tf.keras.models.load_model('saved_model/model_categorical')\n",
    "data_extra = pd.read_csv('./Image_classification_data/data_labels_extraData.csv')\n",
    "data_extra['isCancerous'] = data_extra['isCancerous'].astype(str)\n",
    "# data_extra['cellType'] = np.nan\n",
    "# data_extra.loc[data_extra['isCancerous'] == '1', 'cellType'] = 2\n",
    "# data_extra_unlabeled = data_extra[data_extra['cellType'].isna()]\n",
    "# data_extra_labeled = data_extra[data_extra['cellType'] == 2]\n",
    "# undivided_train_data = pd.concat([undivided_train_data, data_extra_labeled], axis=0).reset_index(drop=True)\n",
    "# undivided_train_data['cellType'] = undivided_train_data['cellType'].astype(int)\n",
    "# train_data, val_data = train_test_split(undivided_train_data, test_size=0.2, random_state=42)"
   ],
   "metadata": {
    "collapsed": false,
    "ExecuteTime": {
     "start_time": "2023-05-01T20:28:18.214021Z",
     "end_time": "2023-05-01T20:28:18.223702Z"
    }
   }
  },
  {
   "cell_type": "code",
   "execution_count": 22,
   "outputs": [],
   "source": [
    "# cellType(多分类)的比例\n",
    "# class_samples_cellType = train_data['cellType'].value_counts()\n",
    "# total_samples = np.sum(class_samples_cellType)\n",
    "# class_weights_cellType = total_samples / class_samples_cellType\n",
    "# class_weight_dict_cellType = {int(k): v for k, v in class_weights_cellType.to_dict().items()}\n",
    "#\n",
    "# data_extra_unlabeled['isCancerous'] = data_extra_unlabeled['isCancerous'].astype(str)\n",
    "# train_data['cellType'] = train_data['cellType'].astype(str)\n",
    "# val_data['cellType'] = val_data['cellType'].astype(str)"
   ],
   "metadata": {
    "collapsed": false,
    "ExecuteTime": {
     "start_time": "2023-05-01T19:18:53.373307Z",
     "end_time": "2023-05-01T19:18:53.375027Z"
    }
   }
  },
  {
   "cell_type": "markdown",
   "source": [
    "重新生成新的train_generator"
   ],
   "metadata": {
    "collapsed": false
   }
  },
  {
   "cell_type": "code",
   "execution_count": 68,
   "outputs": [
    {
     "name": "stdout",
     "output_type": "stream",
     "text": [
      "Found 6332 validated image filenames belonging to 4 classes.\n",
      "Found 10384 validated image filenames belonging to 2 classes.\n",
      "Found 1584 validated image filenames belonging to 4 classes.\n"
     ]
    }
   ],
   "source": [
    "batch_size = 32\n",
    "# train_datagen = tf.keras.preprocessing.image.ImageDataGenerator(\n",
    "#     rescale=1./255,\n",
    "#     rotation_range=40,\n",
    "#     width_shift_range=0.2,\n",
    "#     height_shift_range=0.2,\n",
    "#     shear_range=0.2,\n",
    "#     zoom_range=0.2,\n",
    "#     horizontal_flip=True,\n",
    "#     vertical_flip=True,\n",
    "#     fill_mode='nearest'\n",
    "# )\n",
    "train_datagen = CustomImageDataGenerator(\n",
    "    num_augmentations=4,\n",
    "    rescale=1./255,\n",
    "    rotation_range=180,\n",
    "    width_shift_range=0.2,\n",
    "    height_shift_range=0.2,\n",
    "    shear_range=0.2,\n",
    "    zoom_range=0.2,\n",
    "    brightness_range=[0.2,1.0],\n",
    "    horizontal_flip=True,\n",
    "    vertical_flip=True,\n",
    "    fill_mode='nearest'\n",
    ")\n",
    "\n",
    "train_generator = train_datagen.flow_from_dataframe(\n",
    "    train_data,\n",
    "    directory='./Image_classification_data/patch_images',\n",
    "    x_col='ImageName',\n",
    "    y_col='cellType',\n",
    "    target_size=(27, 27),\n",
    "    batch_size=batch_size,\n",
    "    class_mode='categorical')\n",
    "\n",
    "unlabeled_datagen = CustomImageDataGenerator(\n",
    "    rescale=1./255,\n",
    "    rotation_range=40,\n",
    "    width_shift_range=0.2,\n",
    "    height_shift_range=0.2,\n",
    "    shear_range=0.2,\n",
    "    zoom_range=0.2,\n",
    "    horizontal_flip=True,\n",
    "    vertical_flip=True,\n",
    "    fill_mode='nearest'\n",
    ")\n",
    "\n",
    "unlabeled_generator = unlabeled_datagen.flow_from_dataframe(\n",
    "    data_extra,\n",
    "    directory='./Image_classification_data/patch_images',\n",
    "    x_col='ImageName',\n",
    "    y_col='isCancerous', # 我们并不关心y_col。只是为了防止报错\n",
    "    target_size=(27, 27),\n",
    "    batch_size=batch_size,\n",
    "    class_mode='categorical')\n",
    "\n",
    "val_datagen = tf.keras.preprocessing.image.ImageDataGenerator(\n",
    "    rescale=1./255\n",
    ")\n",
    "\n",
    "test_data['cellType'] = test_data['cellType'].astype(str)\n",
    "validation_cellType_generator = val_datagen.flow_from_dataframe(\n",
    "    val_data,\n",
    "    directory='./Image_classification_data/patch_images',\n",
    "    x_col='ImageName',\n",
    "    y_col='cellType',\n",
    "    target_size=(27, 27),\n",
    "    batch_size=batch_size,\n",
    "    class_mode='categorical')"
   ],
   "metadata": {
    "collapsed": false,
    "ExecuteTime": {
     "start_time": "2023-05-01T20:28:20.264011Z",
     "end_time": "2023-05-01T20:28:20.431199Z"
    }
   }
  },
  {
   "cell_type": "markdown",
   "source": [
    "## UDA实现"
   ],
   "metadata": {
    "collapsed": false
   }
  },
  {
   "cell_type": "code",
   "execution_count": 24,
   "outputs": [],
   "source": [
    "# data_augmentation = tf.keras.Sequential([\n",
    "#     tf.keras.layers.RandomFlip(\"horizontal\"),\n",
    "#     tf.keras.layers.RandomFlip(\"vertical\"),\n",
    "#     tf.keras.layers.RandomRotation(0.1),\n",
    "#     tf.keras.layers.RandomTranslation(height_factor=(-0.1, 0.1), width_factor=(-0.1, 0.1)),\n",
    "#     tf.keras.layers.RandomZoom(height_factor=(-0.1, 0.1), width_factor=(-0.1, 0.1)),\n",
    "#     tf.keras.layers.RandomContrast(factor=(0.8, 1.2)),\n",
    "#     tf.keras.layers.RandomBrightness(factor=0.1),\n",
    "# ])"
   ],
   "metadata": {
    "collapsed": false,
    "ExecuteTime": {
     "start_time": "2023-05-01T19:18:53.541038Z",
     "end_time": "2023-05-01T19:18:53.542586Z"
    }
   }
  },
  {
   "cell_type": "code",
   "execution_count": 69,
   "outputs": [],
   "source": [
    "# 定义数据增强层\n",
    "class RandAugment(tf.keras.layers.Layer):\n",
    "    def __init__(self, num_layers, magnitude, **kwargs):\n",
    "        super().__init__(**kwargs)\n",
    "        self.num_layers = num_layers\n",
    "        self.magnitude = magnitude\n",
    "        self.operations = [\n",
    "            tf.keras.layers.experimental.preprocessing.RandomFlip(\"horizontal_and_vertical\"),\n",
    "            tf.keras.layers.experimental.preprocessing.RandomRotation(factor=(0.1 * magnitude, 0.1 * magnitude)),\n",
    "            tf.keras.layers.experimental.preprocessing.RandomTranslation(height_factor=(-0.1 * magnitude, 0.1 * magnitude), width_factor=(-0.1 * magnitude, 0.1 * magnitude)),\n",
    "            tf.keras.layers.experimental.preprocessing.RandomZoom(height_factor=(-0.1 * magnitude, 0.1 * magnitude), width_factor=(-0.1 * magnitude, 0.1 * magnitude)),\n",
    "            tf.keras.layers.experimental.preprocessing.RandomContrast(factor=(1 - 0.1 * magnitude, 1 + 0.1 * magnitude)),\n",
    "            tf.keras.layers.RandomBrightness(factor=(0.2 * magnitude)),\n",
    "        ]\n",
    "\n",
    "    def call(self, inputs, **kwargs):\n",
    "        if kwargs.get('training'):\n",
    "            for _ in range(self.num_layers):\n",
    "                operation = random.choice(self.operations)\n",
    "                inputs = operation(inputs, training=kwargs.get('training'))\n",
    "        return inputs"
   ],
   "metadata": {
    "collapsed": false,
    "ExecuteTime": {
     "start_time": "2023-05-01T20:28:22.597960Z",
     "end_time": "2023-05-01T20:28:22.602859Z"
    }
   }
  },
  {
   "cell_type": "code",
   "execution_count": 70,
   "outputs": [],
   "source": [
    "def apply_uda(x_batch, y_batch, x_unlabeled, model, optimizer, training=True, class_weight_dict=None, consistency_weight=1.5, confidence_threshold=0.5, temperature=0.5):\n",
    "    x_unlabeled_augmented = None\n",
    "    if x_unlabeled is not None:\n",
    "        # 对无标签数据进行数据增强\n",
    "        # x_unlabeled_augmented = data_augmentation(x_unlabeled)\n",
    "        rand_augment = RandAugment(num_layers=3, magnitude=0.9)\n",
    "        x_unlabeled_augmented = rand_augment(x_unlabeled, training=training)\n",
    "\n",
    "    # 计算模型在原始无标签数据和增强无标签数据上的输出\n",
    "    with tf.GradientTape() as tape:\n",
    "        y_pred_labeled = model(x_batch)\n",
    "        if x_unlabeled is not None:\n",
    "            y_pred_unlabeled = model(x_unlabeled)\n",
    "            y_pred_unlabeled_augmented = model(x_unlabeled_augmented)\n",
    "\n",
    "            # Sharpening Predictions\n",
    "            y_pred_unlabeled = tf.nn.softmax(y_pred_unlabeled / temperature, axis=-1)\n",
    "            y_pred_unlabeled_augmented = tf.nn.softmax(y_pred_unlabeled_augmented / temperature, axis=-1)\n",
    "\n",
    "            # Confidence-based masking\n",
    "            max_probs = tf.reduce_max(y_pred_unlabeled, axis=-1)\n",
    "            mask = max_probs > confidence_threshold\n",
    "            y_pred_unlabeled = tf.boolean_mask(y_pred_unlabeled, mask)\n",
    "            y_pred_unlabeled_augmented = tf.boolean_mask(y_pred_unlabeled_augmented, mask)\n",
    "\n",
    "        # 计算有监督损失\n",
    "        # 如果是训练并且给定了类别权重，则根据权重计算损失。\n",
    "        if class_weight_dict is not None and training:\n",
    "            sample_weights = tf.gather(class_weight_dict, tf.argmax(y_batch, axis=-1))\n",
    "            supervised_loss = tf.reduce_mean(tf.keras.losses.categorical_crossentropy(y_batch, y_pred_labeled) * sample_weights)\n",
    "        else:\n",
    "            supervised_loss = tf.reduce_mean(tf.keras.losses.categorical_crossentropy(y_batch, y_pred_labeled))\n",
    "\n",
    "        # 如果提供了无标签数据，则计算一致性损失，(半监督学习)\n",
    "        if x_unlabeled is not None:\n",
    "            consistency_loss = tf.reduce_mean(tf.keras.losses.mean_squared_error(y_pred_unlabeled, y_pred_unlabeled_augmented))\n",
    "            total_loss = supervised_loss + consistency_weight * consistency_loss\n",
    "        else:\n",
    "            total_loss = supervised_loss\n",
    "\n",
    "        # 计算Precision\n",
    "        precision = tf.keras.metrics.Precision()\n",
    "        precision.update_state(tf.argmax(y_batch, axis=-1), tf.argmax(y_pred_labeled, axis=-1))\n",
    "\n",
    "        # 计算Recall\n",
    "        recall = tf.keras.metrics.Recall()\n",
    "        recall.update_state(tf.argmax(y_batch, axis=-1), tf.argmax(y_pred_labeled, axis=-1))\n",
    "\n",
    "        # 计算F1分数\n",
    "        f1_score = 2 * ((precision.result() * recall.result()) / (precision.result() + recall.result() + tf.keras.backend.epsilon()))\n",
    "\n",
    "        if training:\n",
    "            # 反向传播和优化\n",
    "            grads = tape.gradient(total_loss, model_categorical.trainable_variables)\n",
    "            optimizer.apply_gradients(zip(grads, model_categorical.trainable_variables))\n",
    "    return total_loss, supervised_loss, consistency_loss if x_unlabeled is not None else None, accuracy, precision.result(), recall.result(), f1_score"
   ],
   "metadata": {
    "collapsed": false,
    "ExecuteTime": {
     "start_time": "2023-05-01T20:28:25.251114Z",
     "end_time": "2023-05-01T20:28:25.256991Z"
    }
   }
  },
  {
   "cell_type": "markdown",
   "source": [
    "### 训练半监督"
   ],
   "metadata": {
    "collapsed": false
   }
  },
  {
   "cell_type": "code",
   "execution_count": 71,
   "outputs": [
    {
     "name": "stdout",
     "output_type": "stream",
     "text": [
      "Epoch 1/5\n"
     ]
    },
    {
     "name": "stderr",
     "output_type": "stream",
     "text": [
      "Training:  43%|██████████████████████▌                             | 86/198 [00:10<00:13,  8.25it/s]\n"
     ]
    },
    {
     "ename": "KeyboardInterrupt",
     "evalue": "",
     "output_type": "error",
     "traceback": [
      "\u001B[0;31m---------------------------------------------------------------------------\u001B[0m",
      "\u001B[0;31mKeyboardInterrupt\u001B[0m                         Traceback (most recent call last)",
      "Input \u001B[0;32mIn [71]\u001B[0m, in \u001B[0;36m<cell line: 8>\u001B[0;34m()\u001B[0m\n\u001B[1;32m     19\u001B[0m \u001B[38;5;28;01mfor\u001B[39;00m (x_batch, y_batch), (x_unlabeled, _) \u001B[38;5;129;01min\u001B[39;00m \u001B[38;5;28mzip\u001B[39m(train_generator, unlabeled_generator):\n\u001B[1;32m     20\u001B[0m     progress_bar\u001B[38;5;241m.\u001B[39mupdate(\u001B[38;5;241m1\u001B[39m)\n\u001B[0;32m---> 21\u001B[0m     loss, supervised_loss, consistency_loss, accuracy \u001B[38;5;241m=\u001B[39m \u001B[43mapply_uda\u001B[49m\u001B[43m(\u001B[49m\u001B[43mx_batch\u001B[49m\u001B[43m,\u001B[49m\n\u001B[1;32m     22\u001B[0m \u001B[43m                                                                  \u001B[49m\u001B[43my_batch\u001B[49m\u001B[43m,\u001B[49m\n\u001B[1;32m     23\u001B[0m \u001B[43m                                                                  \u001B[49m\u001B[43mx_unlabeled\u001B[49m\u001B[43m,\u001B[49m\n\u001B[1;32m     24\u001B[0m \u001B[43m                                                                  \u001B[49m\u001B[43mmodel_categorical\u001B[49m\u001B[43m,\u001B[49m\n\u001B[1;32m     25\u001B[0m \u001B[43m                                                                  \u001B[49m\u001B[43moptimizer\u001B[49m\u001B[43m,\u001B[49m\n\u001B[1;32m     26\u001B[0m \u001B[43m                                                                  \u001B[49m\u001B[43mclass_weight_dict_cellType\u001B[49m\u001B[43m)\u001B[49m\n\u001B[1;32m     27\u001B[0m     total_loss \u001B[38;5;241m+\u001B[39m\u001B[38;5;241m=\u001B[39m loss\n\u001B[1;32m     28\u001B[0m     total_supervised_loss \u001B[38;5;241m+\u001B[39m\u001B[38;5;241m=\u001B[39m supervised_loss\n",
      "Input \u001B[0;32mIn [70]\u001B[0m, in \u001B[0;36mapply_uda\u001B[0;34m(x_batch, y_batch, x_unlabeled, model, optimizer, training, class_weight_dict, consistency_weight, confidence_threshold, temperature)\u001B[0m\n\u001B[1;32m      3\u001B[0m \u001B[38;5;28;01mif\u001B[39;00m x_unlabeled \u001B[38;5;129;01mis\u001B[39;00m \u001B[38;5;129;01mnot\u001B[39;00m \u001B[38;5;28;01mNone\u001B[39;00m:\n\u001B[1;32m      4\u001B[0m     \u001B[38;5;66;03m# 对无标签数据进行数据增强\u001B[39;00m\n\u001B[1;32m      5\u001B[0m     \u001B[38;5;66;03m# x_unlabeled_augmented = data_augmentation(x_unlabeled)\u001B[39;00m\n\u001B[1;32m      6\u001B[0m     rand_augment \u001B[38;5;241m=\u001B[39m RandAugment(num_layers\u001B[38;5;241m=\u001B[39m\u001B[38;5;241m3\u001B[39m, magnitude\u001B[38;5;241m=\u001B[39m\u001B[38;5;241m0.9\u001B[39m)\n\u001B[0;32m----> 7\u001B[0m     x_unlabeled_augmented \u001B[38;5;241m=\u001B[39m \u001B[43mrand_augment\u001B[49m\u001B[43m(\u001B[49m\u001B[43mx_unlabeled\u001B[49m\u001B[43m,\u001B[49m\u001B[43m \u001B[49m\u001B[43mtraining\u001B[49m\u001B[38;5;241;43m=\u001B[39;49m\u001B[43mtraining\u001B[49m\u001B[43m)\u001B[49m\n\u001B[1;32m      9\u001B[0m \u001B[38;5;66;03m# 计算模型在原始无标签数据和增强无标签数据上的输出\u001B[39;00m\n\u001B[1;32m     10\u001B[0m \u001B[38;5;28;01mwith\u001B[39;00m tf\u001B[38;5;241m.\u001B[39mGradientTape() \u001B[38;5;28;01mas\u001B[39;00m tape:\n",
      "File \u001B[0;32m~/miniconda3/envs/DL/lib/python3.10/site-packages/keras/utils/traceback_utils.py:65\u001B[0m, in \u001B[0;36mfilter_traceback.<locals>.error_handler\u001B[0;34m(*args, **kwargs)\u001B[0m\n\u001B[1;32m     63\u001B[0m filtered_tb \u001B[38;5;241m=\u001B[39m \u001B[38;5;28;01mNone\u001B[39;00m\n\u001B[1;32m     64\u001B[0m \u001B[38;5;28;01mtry\u001B[39;00m:\n\u001B[0;32m---> 65\u001B[0m     \u001B[38;5;28;01mreturn\u001B[39;00m \u001B[43mfn\u001B[49m\u001B[43m(\u001B[49m\u001B[38;5;241;43m*\u001B[39;49m\u001B[43margs\u001B[49m\u001B[43m,\u001B[49m\u001B[43m \u001B[49m\u001B[38;5;241;43m*\u001B[39;49m\u001B[38;5;241;43m*\u001B[39;49m\u001B[43mkwargs\u001B[49m\u001B[43m)\u001B[49m\n\u001B[1;32m     66\u001B[0m \u001B[38;5;28;01mexcept\u001B[39;00m \u001B[38;5;167;01mException\u001B[39;00m \u001B[38;5;28;01mas\u001B[39;00m e:\n\u001B[1;32m     67\u001B[0m     filtered_tb \u001B[38;5;241m=\u001B[39m _process_traceback_frames(e\u001B[38;5;241m.\u001B[39m__traceback__)\n",
      "File \u001B[0;32m~/miniconda3/envs/DL/lib/python3.10/site-packages/keras/engine/base_layer.py:1145\u001B[0m, in \u001B[0;36mLayer.__call__\u001B[0;34m(self, *args, **kwargs)\u001B[0m\n\u001B[1;32m   1140\u001B[0m     inputs \u001B[38;5;241m=\u001B[39m \u001B[38;5;28mself\u001B[39m\u001B[38;5;241m.\u001B[39m_maybe_cast_inputs(inputs, input_list)\n\u001B[1;32m   1142\u001B[0m \u001B[38;5;28;01mwith\u001B[39;00m autocast_variable\u001B[38;5;241m.\u001B[39menable_auto_cast_variables(\n\u001B[1;32m   1143\u001B[0m     \u001B[38;5;28mself\u001B[39m\u001B[38;5;241m.\u001B[39m_compute_dtype_object\n\u001B[1;32m   1144\u001B[0m ):\n\u001B[0;32m-> 1145\u001B[0m     outputs \u001B[38;5;241m=\u001B[39m \u001B[43mcall_fn\u001B[49m\u001B[43m(\u001B[49m\u001B[43minputs\u001B[49m\u001B[43m,\u001B[49m\u001B[43m \u001B[49m\u001B[38;5;241;43m*\u001B[39;49m\u001B[43margs\u001B[49m\u001B[43m,\u001B[49m\u001B[43m \u001B[49m\u001B[38;5;241;43m*\u001B[39;49m\u001B[38;5;241;43m*\u001B[39;49m\u001B[43mkwargs\u001B[49m\u001B[43m)\u001B[49m\n\u001B[1;32m   1147\u001B[0m \u001B[38;5;28;01mif\u001B[39;00m \u001B[38;5;28mself\u001B[39m\u001B[38;5;241m.\u001B[39m_activity_regularizer:\n\u001B[1;32m   1148\u001B[0m     \u001B[38;5;28mself\u001B[39m\u001B[38;5;241m.\u001B[39m_handle_activity_regularization(inputs, outputs)\n",
      "File \u001B[0;32m~/miniconda3/envs/DL/lib/python3.10/site-packages/keras/utils/traceback_utils.py:96\u001B[0m, in \u001B[0;36minject_argument_info_in_traceback.<locals>.error_handler\u001B[0;34m(*args, **kwargs)\u001B[0m\n\u001B[1;32m     94\u001B[0m bound_signature \u001B[38;5;241m=\u001B[39m \u001B[38;5;28;01mNone\u001B[39;00m\n\u001B[1;32m     95\u001B[0m \u001B[38;5;28;01mtry\u001B[39;00m:\n\u001B[0;32m---> 96\u001B[0m     \u001B[38;5;28;01mreturn\u001B[39;00m \u001B[43mfn\u001B[49m\u001B[43m(\u001B[49m\u001B[38;5;241;43m*\u001B[39;49m\u001B[43margs\u001B[49m\u001B[43m,\u001B[49m\u001B[43m \u001B[49m\u001B[38;5;241;43m*\u001B[39;49m\u001B[38;5;241;43m*\u001B[39;49m\u001B[43mkwargs\u001B[49m\u001B[43m)\u001B[49m\n\u001B[1;32m     97\u001B[0m \u001B[38;5;28;01mexcept\u001B[39;00m \u001B[38;5;167;01mException\u001B[39;00m \u001B[38;5;28;01mas\u001B[39;00m e:\n\u001B[1;32m     98\u001B[0m     \u001B[38;5;28;01mif\u001B[39;00m \u001B[38;5;28mhasattr\u001B[39m(e, \u001B[38;5;124m\"\u001B[39m\u001B[38;5;124m_keras_call_info_injected\u001B[39m\u001B[38;5;124m\"\u001B[39m):\n\u001B[1;32m     99\u001B[0m         \u001B[38;5;66;03m# Only inject info for the innermost failing call\u001B[39;00m\n",
      "Input \u001B[0;32mIn [69]\u001B[0m, in \u001B[0;36mRandAugment.call\u001B[0;34m(self, inputs, **kwargs)\u001B[0m\n\u001B[1;32m     18\u001B[0m     \u001B[38;5;28;01mfor\u001B[39;00m _ \u001B[38;5;129;01min\u001B[39;00m \u001B[38;5;28mrange\u001B[39m(\u001B[38;5;28mself\u001B[39m\u001B[38;5;241m.\u001B[39mnum_layers):\n\u001B[1;32m     19\u001B[0m         operation \u001B[38;5;241m=\u001B[39m random\u001B[38;5;241m.\u001B[39mchoice(\u001B[38;5;28mself\u001B[39m\u001B[38;5;241m.\u001B[39moperations)\n\u001B[0;32m---> 20\u001B[0m         inputs \u001B[38;5;241m=\u001B[39m \u001B[43moperation\u001B[49m\u001B[43m(\u001B[49m\u001B[43minputs\u001B[49m\u001B[43m,\u001B[49m\u001B[43m \u001B[49m\u001B[43mtraining\u001B[49m\u001B[38;5;241;43m=\u001B[39;49m\u001B[43mkwargs\u001B[49m\u001B[38;5;241;43m.\u001B[39;49m\u001B[43mget\u001B[49m\u001B[43m(\u001B[49m\u001B[38;5;124;43m'\u001B[39;49m\u001B[38;5;124;43mtraining\u001B[39;49m\u001B[38;5;124;43m'\u001B[39;49m\u001B[43m)\u001B[49m\u001B[43m)\u001B[49m\n\u001B[1;32m     21\u001B[0m \u001B[38;5;28;01mreturn\u001B[39;00m inputs\n",
      "File \u001B[0;32m~/miniconda3/envs/DL/lib/python3.10/site-packages/keras/utils/traceback_utils.py:65\u001B[0m, in \u001B[0;36mfilter_traceback.<locals>.error_handler\u001B[0;34m(*args, **kwargs)\u001B[0m\n\u001B[1;32m     63\u001B[0m filtered_tb \u001B[38;5;241m=\u001B[39m \u001B[38;5;28;01mNone\u001B[39;00m\n\u001B[1;32m     64\u001B[0m \u001B[38;5;28;01mtry\u001B[39;00m:\n\u001B[0;32m---> 65\u001B[0m     \u001B[38;5;28;01mreturn\u001B[39;00m \u001B[43mfn\u001B[49m\u001B[43m(\u001B[49m\u001B[38;5;241;43m*\u001B[39;49m\u001B[43margs\u001B[49m\u001B[43m,\u001B[49m\u001B[43m \u001B[49m\u001B[38;5;241;43m*\u001B[39;49m\u001B[38;5;241;43m*\u001B[39;49m\u001B[43mkwargs\u001B[49m\u001B[43m)\u001B[49m\n\u001B[1;32m     66\u001B[0m \u001B[38;5;28;01mexcept\u001B[39;00m \u001B[38;5;167;01mException\u001B[39;00m \u001B[38;5;28;01mas\u001B[39;00m e:\n\u001B[1;32m     67\u001B[0m     filtered_tb \u001B[38;5;241m=\u001B[39m _process_traceback_frames(e\u001B[38;5;241m.\u001B[39m__traceback__)\n",
      "File \u001B[0;32m~/miniconda3/envs/DL/lib/python3.10/site-packages/keras/engine/base_layer.py:1145\u001B[0m, in \u001B[0;36mLayer.__call__\u001B[0;34m(self, *args, **kwargs)\u001B[0m\n\u001B[1;32m   1140\u001B[0m     inputs \u001B[38;5;241m=\u001B[39m \u001B[38;5;28mself\u001B[39m\u001B[38;5;241m.\u001B[39m_maybe_cast_inputs(inputs, input_list)\n\u001B[1;32m   1142\u001B[0m \u001B[38;5;28;01mwith\u001B[39;00m autocast_variable\u001B[38;5;241m.\u001B[39menable_auto_cast_variables(\n\u001B[1;32m   1143\u001B[0m     \u001B[38;5;28mself\u001B[39m\u001B[38;5;241m.\u001B[39m_compute_dtype_object\n\u001B[1;32m   1144\u001B[0m ):\n\u001B[0;32m-> 1145\u001B[0m     outputs \u001B[38;5;241m=\u001B[39m \u001B[43mcall_fn\u001B[49m\u001B[43m(\u001B[49m\u001B[43minputs\u001B[49m\u001B[43m,\u001B[49m\u001B[43m \u001B[49m\u001B[38;5;241;43m*\u001B[39;49m\u001B[43margs\u001B[49m\u001B[43m,\u001B[49m\u001B[43m \u001B[49m\u001B[38;5;241;43m*\u001B[39;49m\u001B[38;5;241;43m*\u001B[39;49m\u001B[43mkwargs\u001B[49m\u001B[43m)\u001B[49m\n\u001B[1;32m   1147\u001B[0m \u001B[38;5;28;01mif\u001B[39;00m \u001B[38;5;28mself\u001B[39m\u001B[38;5;241m.\u001B[39m_activity_regularizer:\n\u001B[1;32m   1148\u001B[0m     \u001B[38;5;28mself\u001B[39m\u001B[38;5;241m.\u001B[39m_handle_activity_regularization(inputs, outputs)\n",
      "File \u001B[0;32m~/miniconda3/envs/DL/lib/python3.10/site-packages/keras/utils/traceback_utils.py:96\u001B[0m, in \u001B[0;36minject_argument_info_in_traceback.<locals>.error_handler\u001B[0;34m(*args, **kwargs)\u001B[0m\n\u001B[1;32m     94\u001B[0m bound_signature \u001B[38;5;241m=\u001B[39m \u001B[38;5;28;01mNone\u001B[39;00m\n\u001B[1;32m     95\u001B[0m \u001B[38;5;28;01mtry\u001B[39;00m:\n\u001B[0;32m---> 96\u001B[0m     \u001B[38;5;28;01mreturn\u001B[39;00m \u001B[43mfn\u001B[49m\u001B[43m(\u001B[49m\u001B[38;5;241;43m*\u001B[39;49m\u001B[43margs\u001B[49m\u001B[43m,\u001B[49m\u001B[43m \u001B[49m\u001B[38;5;241;43m*\u001B[39;49m\u001B[38;5;241;43m*\u001B[39;49m\u001B[43mkwargs\u001B[49m\u001B[43m)\u001B[49m\n\u001B[1;32m     97\u001B[0m \u001B[38;5;28;01mexcept\u001B[39;00m \u001B[38;5;167;01mException\u001B[39;00m \u001B[38;5;28;01mas\u001B[39;00m e:\n\u001B[1;32m     98\u001B[0m     \u001B[38;5;28;01mif\u001B[39;00m \u001B[38;5;28mhasattr\u001B[39m(e, \u001B[38;5;124m\"\u001B[39m\u001B[38;5;124m_keras_call_info_injected\u001B[39m\u001B[38;5;124m\"\u001B[39m):\n\u001B[1;32m     99\u001B[0m         \u001B[38;5;66;03m# Only inject info for the innermost failing call\u001B[39;00m\n",
      "File \u001B[0;32m~/miniconda3/envs/DL/lib/python3.10/site-packages/keras/layers/preprocessing/image_preprocessing.py:482\u001B[0m, in \u001B[0;36mRandomFlip.call\u001B[0;34m(self, inputs, training)\u001B[0m\n\u001B[1;32m    479\u001B[0m     \u001B[38;5;28;01mreturn\u001B[39;00m flipped_outputs\n\u001B[1;32m    481\u001B[0m \u001B[38;5;28;01mif\u001B[39;00m training:\n\u001B[0;32m--> 482\u001B[0m     \u001B[38;5;28;01mreturn\u001B[39;00m \u001B[43mrandom_flipped_inputs\u001B[49m\u001B[43m(\u001B[49m\u001B[43minputs\u001B[49m\u001B[43m)\u001B[49m\n\u001B[1;32m    483\u001B[0m \u001B[38;5;28;01melse\u001B[39;00m:\n\u001B[1;32m    484\u001B[0m     \u001B[38;5;28;01mreturn\u001B[39;00m inputs\n",
      "File \u001B[0;32m~/miniconda3/envs/DL/lib/python3.10/site-packages/keras/layers/preprocessing/image_preprocessing.py:457\u001B[0m, in \u001B[0;36mRandomFlip.call.<locals>.random_flipped_inputs\u001B[0;34m(inputs)\u001B[0m\n\u001B[1;32m    455\u001B[0m flipped_outputs \u001B[38;5;241m=\u001B[39m inputs\n\u001B[1;32m    456\u001B[0m \u001B[38;5;28;01mif\u001B[39;00m \u001B[38;5;28mself\u001B[39m\u001B[38;5;241m.\u001B[39mhorizontal:\n\u001B[0;32m--> 457\u001B[0m     seed \u001B[38;5;241m=\u001B[39m \u001B[38;5;28;43mself\u001B[39;49m\u001B[38;5;241;43m.\u001B[39;49m\u001B[43m_random_generator\u001B[49m\u001B[38;5;241;43m.\u001B[39;49m\u001B[43mmake_seed_for_stateless_op\u001B[49m\u001B[43m(\u001B[49m\u001B[43m)\u001B[49m\n\u001B[1;32m    458\u001B[0m     \u001B[38;5;28;01mif\u001B[39;00m seed \u001B[38;5;129;01mis\u001B[39;00m \u001B[38;5;129;01mnot\u001B[39;00m \u001B[38;5;28;01mNone\u001B[39;00m:\n\u001B[1;32m    459\u001B[0m         flipped_outputs \u001B[38;5;241m=\u001B[39m tf\u001B[38;5;241m.\u001B[39mimage\u001B[38;5;241m.\u001B[39mstateless_random_flip_left_right(\n\u001B[1;32m    460\u001B[0m             flipped_outputs, seed\u001B[38;5;241m=\u001B[39mseed\n\u001B[1;32m    461\u001B[0m         )\n",
      "File \u001B[0;32m~/miniconda3/envs/DL/lib/python3.10/site-packages/keras/backend.py:2004\u001B[0m, in \u001B[0;36mRandomGenerator.make_seed_for_stateless_op\u001B[0;34m(self)\u001B[0m\n\u001B[1;32m   2002\u001B[0m     \u001B[38;5;28;01mreturn\u001B[39;00m [\u001B[38;5;28mself\u001B[39m\u001B[38;5;241m.\u001B[39m_seed, \u001B[38;5;241m0\u001B[39m]\n\u001B[1;32m   2003\u001B[0m \u001B[38;5;28;01melif\u001B[39;00m \u001B[38;5;28mself\u001B[39m\u001B[38;5;241m.\u001B[39m_rng_type \u001B[38;5;241m==\u001B[39m \u001B[38;5;28mself\u001B[39m\u001B[38;5;241m.\u001B[39mRNG_STATEFUL:\n\u001B[0;32m-> 2004\u001B[0m     \u001B[38;5;28;01mreturn\u001B[39;00m \u001B[38;5;28;43mself\u001B[39;49m\u001B[38;5;241;43m.\u001B[39;49m\u001B[43m_generator\u001B[49m\u001B[38;5;241;43m.\u001B[39;49m\u001B[43mmake_seeds\u001B[49m\u001B[43m(\u001B[49m\u001B[43m)\u001B[49m[:, \u001B[38;5;241m0\u001B[39m]\n\u001B[1;32m   2005\u001B[0m \u001B[38;5;28;01mreturn\u001B[39;00m \u001B[38;5;28;01mNone\u001B[39;00m\n",
      "File \u001B[0;32m~/miniconda3/envs/DL/lib/python3.10/site-packages/tensorflow/python/ops/stateful_random_ops.py:912\u001B[0m, in \u001B[0;36mGenerator.make_seeds\u001B[0;34m(self, count)\u001B[0m\n\u001B[1;32m    909\u001B[0m   \u001B[38;5;66;03m# The two seeds for stateless random ops don't have individual semantics\u001B[39;00m\n\u001B[1;32m    910\u001B[0m   \u001B[38;5;66;03m# and are scrambled together, so setting one to zero is fine.\u001B[39;00m\n\u001B[1;32m    911\u001B[0m   zeros \u001B[38;5;241m=\u001B[39m array_ops\u001B[38;5;241m.\u001B[39mzeros_like(keys)\n\u001B[0;32m--> 912\u001B[0m   \u001B[38;5;28;01mreturn\u001B[39;00m \u001B[43marray_ops\u001B[49m\u001B[38;5;241;43m.\u001B[39;49m\u001B[43mstack\u001B[49m\u001B[43m(\u001B[49m\u001B[43m[\u001B[49m\u001B[43mkeys\u001B[49m\u001B[43m,\u001B[49m\u001B[43m \u001B[49m\u001B[43mzeros\u001B[49m\u001B[43m]\u001B[49m\u001B[43m)\u001B[49m\n\u001B[1;32m    913\u001B[0m \u001B[38;5;28;01melse\u001B[39;00m:\n\u001B[1;32m    914\u001B[0m   \u001B[38;5;28;01mraise\u001B[39;00m \u001B[38;5;167;01mValueError\u001B[39;00m(stateless_random_ops\u001B[38;5;241m.\u001B[39munsupported_alg_error_msg(alg))\n",
      "File \u001B[0;32m~/miniconda3/envs/DL/lib/python3.10/site-packages/tensorflow/python/util/traceback_utils.py:150\u001B[0m, in \u001B[0;36mfilter_traceback.<locals>.error_handler\u001B[0;34m(*args, **kwargs)\u001B[0m\n\u001B[1;32m    148\u001B[0m filtered_tb \u001B[38;5;241m=\u001B[39m \u001B[38;5;28;01mNone\u001B[39;00m\n\u001B[1;32m    149\u001B[0m \u001B[38;5;28;01mtry\u001B[39;00m:\n\u001B[0;32m--> 150\u001B[0m   \u001B[38;5;28;01mreturn\u001B[39;00m \u001B[43mfn\u001B[49m\u001B[43m(\u001B[49m\u001B[38;5;241;43m*\u001B[39;49m\u001B[43margs\u001B[49m\u001B[43m,\u001B[49m\u001B[43m \u001B[49m\u001B[38;5;241;43m*\u001B[39;49m\u001B[38;5;241;43m*\u001B[39;49m\u001B[43mkwargs\u001B[49m\u001B[43m)\u001B[49m\n\u001B[1;32m    151\u001B[0m \u001B[38;5;28;01mexcept\u001B[39;00m \u001B[38;5;167;01mException\u001B[39;00m \u001B[38;5;28;01mas\u001B[39;00m e:\n\u001B[1;32m    152\u001B[0m   filtered_tb \u001B[38;5;241m=\u001B[39m _process_traceback_frames(e\u001B[38;5;241m.\u001B[39m__traceback__)\n",
      "File \u001B[0;32m~/miniconda3/envs/DL/lib/python3.10/site-packages/tensorflow/python/util/dispatch.py:1176\u001B[0m, in \u001B[0;36madd_dispatch_support.<locals>.decorator.<locals>.op_dispatch_handler\u001B[0;34m(*args, **kwargs)\u001B[0m\n\u001B[1;32m   1174\u001B[0m \u001B[38;5;66;03m# Fallback dispatch system (dispatch v1):\u001B[39;00m\n\u001B[1;32m   1175\u001B[0m \u001B[38;5;28;01mtry\u001B[39;00m:\n\u001B[0;32m-> 1176\u001B[0m   \u001B[38;5;28;01mreturn\u001B[39;00m \u001B[43mdispatch_target\u001B[49m\u001B[43m(\u001B[49m\u001B[38;5;241;43m*\u001B[39;49m\u001B[43margs\u001B[49m\u001B[43m,\u001B[49m\u001B[43m \u001B[49m\u001B[38;5;241;43m*\u001B[39;49m\u001B[38;5;241;43m*\u001B[39;49m\u001B[43mkwargs\u001B[49m\u001B[43m)\u001B[49m\n\u001B[1;32m   1177\u001B[0m \u001B[38;5;28;01mexcept\u001B[39;00m (\u001B[38;5;167;01mTypeError\u001B[39;00m, \u001B[38;5;167;01mValueError\u001B[39;00m):\n\u001B[1;32m   1178\u001B[0m   \u001B[38;5;66;03m# Note: convert_to_eager_tensor currently raises a ValueError, not a\u001B[39;00m\n\u001B[1;32m   1179\u001B[0m   \u001B[38;5;66;03m# TypeError, when given unexpected types.  So we need to catch both.\u001B[39;00m\n\u001B[1;32m   1180\u001B[0m   result \u001B[38;5;241m=\u001B[39m dispatch(op_dispatch_handler, args, kwargs)\n",
      "File \u001B[0;32m~/miniconda3/envs/DL/lib/python3.10/site-packages/tensorflow/python/ops/array_ops.py:1484\u001B[0m, in \u001B[0;36mstack\u001B[0;34m(values, axis, name)\u001B[0m\n\u001B[1;32m   1481\u001B[0m \u001B[38;5;28;01mif\u001B[39;00m axis \u001B[38;5;241m==\u001B[39m \u001B[38;5;241m0\u001B[39m:\n\u001B[1;32m   1482\u001B[0m   \u001B[38;5;28;01mtry\u001B[39;00m:\n\u001B[1;32m   1483\u001B[0m     \u001B[38;5;66;03m# If the input is a constant list, it can be converted to a constant op\u001B[39;00m\n\u001B[0;32m-> 1484\u001B[0m     \u001B[38;5;28;01mreturn\u001B[39;00m \u001B[43mops\u001B[49m\u001B[38;5;241;43m.\u001B[39;49m\u001B[43mconvert_to_tensor\u001B[49m\u001B[43m(\u001B[49m\u001B[43mvalues\u001B[49m\u001B[43m,\u001B[49m\u001B[43m \u001B[49m\u001B[43mname\u001B[49m\u001B[38;5;241;43m=\u001B[39;49m\u001B[43mname\u001B[49m\u001B[43m)\u001B[49m\n\u001B[1;32m   1485\u001B[0m   \u001B[38;5;28;01mexcept\u001B[39;00m (\u001B[38;5;167;01mTypeError\u001B[39;00m, \u001B[38;5;167;01mValueError\u001B[39;00m, \u001B[38;5;167;01mNotImplementedError\u001B[39;00m):\n\u001B[1;32m   1486\u001B[0m     \u001B[38;5;28;01mpass\u001B[39;00m  \u001B[38;5;66;03m# Input list contains non-constant tensors\u001B[39;00m\n",
      "File \u001B[0;32m~/miniconda3/envs/DL/lib/python3.10/site-packages/tensorflow/python/profiler/trace.py:183\u001B[0m, in \u001B[0;36mtrace_wrapper.<locals>.inner_wrapper.<locals>.wrapped\u001B[0;34m(*args, **kwargs)\u001B[0m\n\u001B[1;32m    181\u001B[0m   \u001B[38;5;28;01mwith\u001B[39;00m Trace(trace_name, \u001B[38;5;241m*\u001B[39m\u001B[38;5;241m*\u001B[39mtrace_kwargs):\n\u001B[1;32m    182\u001B[0m     \u001B[38;5;28;01mreturn\u001B[39;00m func(\u001B[38;5;241m*\u001B[39margs, \u001B[38;5;241m*\u001B[39m\u001B[38;5;241m*\u001B[39mkwargs)\n\u001B[0;32m--> 183\u001B[0m \u001B[38;5;28;01mreturn\u001B[39;00m \u001B[43mfunc\u001B[49m\u001B[43m(\u001B[49m\u001B[38;5;241;43m*\u001B[39;49m\u001B[43margs\u001B[49m\u001B[43m,\u001B[49m\u001B[43m \u001B[49m\u001B[38;5;241;43m*\u001B[39;49m\u001B[38;5;241;43m*\u001B[39;49m\u001B[43mkwargs\u001B[49m\u001B[43m)\u001B[49m\n",
      "File \u001B[0;32m~/miniconda3/envs/DL/lib/python3.10/site-packages/tensorflow/python/framework/ops.py:1642\u001B[0m, in \u001B[0;36mconvert_to_tensor\u001B[0;34m(value, dtype, name, as_ref, preferred_dtype, dtype_hint, ctx, accepted_result_types)\u001B[0m\n\u001B[1;32m   1633\u001B[0m       \u001B[38;5;28;01mraise\u001B[39;00m \u001B[38;5;167;01mRuntimeError\u001B[39;00m(\n\u001B[1;32m   1634\u001B[0m           _add_error_prefix(\n\u001B[1;32m   1635\u001B[0m               \u001B[38;5;124mf\u001B[39m\u001B[38;5;124m\"\u001B[39m\u001B[38;5;124mConversion function \u001B[39m\u001B[38;5;132;01m{\u001B[39;00mconversion_func\u001B[38;5;132;01m!r}\u001B[39;00m\u001B[38;5;124m for type \u001B[39m\u001B[38;5;124m\"\u001B[39m\n\u001B[0;32m   (...)\u001B[0m\n\u001B[1;32m   1638\u001B[0m               \u001B[38;5;124mf\u001B[39m\u001B[38;5;124m\"\u001B[39m\u001B[38;5;124mactual = \u001B[39m\u001B[38;5;132;01m{\u001B[39;00mret\u001B[38;5;241m.\u001B[39mdtype\u001B[38;5;241m.\u001B[39mbase_dtype\u001B[38;5;241m.\u001B[39mname\u001B[38;5;132;01m}\u001B[39;00m\u001B[38;5;124m\"\u001B[39m,\n\u001B[1;32m   1639\u001B[0m               name\u001B[38;5;241m=\u001B[39mname))\n\u001B[1;32m   1641\u001B[0m \u001B[38;5;28;01mif\u001B[39;00m ret \u001B[38;5;129;01mis\u001B[39;00m \u001B[38;5;28;01mNone\u001B[39;00m:\n\u001B[0;32m-> 1642\u001B[0m   ret \u001B[38;5;241m=\u001B[39m \u001B[43mconversion_func\u001B[49m\u001B[43m(\u001B[49m\u001B[43mvalue\u001B[49m\u001B[43m,\u001B[49m\u001B[43m \u001B[49m\u001B[43mdtype\u001B[49m\u001B[38;5;241;43m=\u001B[39;49m\u001B[43mdtype\u001B[49m\u001B[43m,\u001B[49m\u001B[43m \u001B[49m\u001B[43mname\u001B[49m\u001B[38;5;241;43m=\u001B[39;49m\u001B[43mname\u001B[49m\u001B[43m,\u001B[49m\u001B[43m \u001B[49m\u001B[43mas_ref\u001B[49m\u001B[38;5;241;43m=\u001B[39;49m\u001B[43mas_ref\u001B[49m\u001B[43m)\u001B[49m\n\u001B[1;32m   1644\u001B[0m \u001B[38;5;28;01mif\u001B[39;00m ret \u001B[38;5;129;01mis\u001B[39;00m \u001B[38;5;28mNotImplemented\u001B[39m:\n\u001B[1;32m   1645\u001B[0m   \u001B[38;5;28;01mcontinue\u001B[39;00m\n",
      "File \u001B[0;32m~/miniconda3/envs/DL/lib/python3.10/site-packages/tensorflow/python/ops/array_ops.py:1607\u001B[0m, in \u001B[0;36m_autopacking_conversion_function\u001B[0;34m(v, dtype, name, as_ref)\u001B[0m\n\u001B[1;32m   1605\u001B[0m \u001B[38;5;28;01melif\u001B[39;00m dtype \u001B[38;5;241m!=\u001B[39m inferred_dtype:\n\u001B[1;32m   1606\u001B[0m   v \u001B[38;5;241m=\u001B[39m nest\u001B[38;5;241m.\u001B[39mmap_structure(_cast_nested_seqs_to_dtype(dtype), v)\n\u001B[0;32m-> 1607\u001B[0m \u001B[38;5;28;01mreturn\u001B[39;00m \u001B[43m_autopacking_helper\u001B[49m\u001B[43m(\u001B[49m\u001B[43mv\u001B[49m\u001B[43m,\u001B[49m\u001B[43m \u001B[49m\u001B[43mdtype\u001B[49m\u001B[43m,\u001B[49m\u001B[43m \u001B[49m\u001B[43mname\u001B[49m\u001B[43m \u001B[49m\u001B[38;5;129;43;01mor\u001B[39;49;00m\u001B[43m \u001B[49m\u001B[38;5;124;43m\"\u001B[39;49m\u001B[38;5;124;43mpacked\u001B[39;49m\u001B[38;5;124;43m\"\u001B[39;49m\u001B[43m)\u001B[49m\n",
      "File \u001B[0;32m~/miniconda3/envs/DL/lib/python3.10/site-packages/tensorflow/python/ops/array_ops.py:1514\u001B[0m, in \u001B[0;36m_autopacking_helper\u001B[0;34m(list_or_tuple, dtype, name)\u001B[0m\n\u001B[1;32m   1510\u001B[0m \u001B[38;5;28;01mif\u001B[39;00m context\u001B[38;5;241m.\u001B[39mexecuting_eagerly():\n\u001B[1;32m   1511\u001B[0m   \u001B[38;5;66;03m# NOTE: Fast path when all the items are tensors, this doesn't do any type\u001B[39;00m\n\u001B[1;32m   1512\u001B[0m   \u001B[38;5;66;03m# checking.\u001B[39;00m\n\u001B[1;32m   1513\u001B[0m   \u001B[38;5;28;01mif\u001B[39;00m \u001B[38;5;28mall\u001B[39m(\u001B[38;5;28misinstance\u001B[39m(elem, core\u001B[38;5;241m.\u001B[39mTensor) \u001B[38;5;28;01mfor\u001B[39;00m elem \u001B[38;5;129;01min\u001B[39;00m list_or_tuple):\n\u001B[0;32m-> 1514\u001B[0m     \u001B[38;5;28;01mreturn\u001B[39;00m \u001B[43mgen_array_ops\u001B[49m\u001B[38;5;241;43m.\u001B[39;49m\u001B[43mpack\u001B[49m\u001B[43m(\u001B[49m\u001B[43mlist_or_tuple\u001B[49m\u001B[43m,\u001B[49m\u001B[43m \u001B[49m\u001B[43mname\u001B[49m\u001B[38;5;241;43m=\u001B[39;49m\u001B[43mname\u001B[49m\u001B[43m)\u001B[49m\n\u001B[1;32m   1515\u001B[0m must_pack \u001B[38;5;241m=\u001B[39m \u001B[38;5;28;01mFalse\u001B[39;00m\n\u001B[1;32m   1516\u001B[0m converted_elems \u001B[38;5;241m=\u001B[39m []\n",
      "File \u001B[0;32m~/miniconda3/envs/DL/lib/python3.10/site-packages/tensorflow/python/ops/gen_array_ops.py:6573\u001B[0m, in \u001B[0;36mpack\u001B[0;34m(values, axis, name)\u001B[0m\n\u001B[1;32m   6571\u001B[0m \u001B[38;5;28;01mif\u001B[39;00m tld\u001B[38;5;241m.\u001B[39mis_eager:\n\u001B[1;32m   6572\u001B[0m   \u001B[38;5;28;01mtry\u001B[39;00m:\n\u001B[0;32m-> 6573\u001B[0m     _result \u001B[38;5;241m=\u001B[39m \u001B[43mpywrap_tfe\u001B[49m\u001B[38;5;241;43m.\u001B[39;49m\u001B[43mTFE_Py_FastPathExecute\u001B[49m\u001B[43m(\u001B[49m\n\u001B[1;32m   6574\u001B[0m \u001B[43m      \u001B[49m\u001B[43m_ctx\u001B[49m\u001B[43m,\u001B[49m\u001B[43m \u001B[49m\u001B[38;5;124;43m\"\u001B[39;49m\u001B[38;5;124;43mPack\u001B[39;49m\u001B[38;5;124;43m\"\u001B[39;49m\u001B[43m,\u001B[49m\u001B[43m \u001B[49m\u001B[43mname\u001B[49m\u001B[43m,\u001B[49m\u001B[43m \u001B[49m\u001B[43mvalues\u001B[49m\u001B[43m,\u001B[49m\u001B[43m \u001B[49m\u001B[38;5;124;43m\"\u001B[39;49m\u001B[38;5;124;43maxis\u001B[39;49m\u001B[38;5;124;43m\"\u001B[39;49m\u001B[43m,\u001B[49m\u001B[43m \u001B[49m\u001B[43maxis\u001B[49m\u001B[43m)\u001B[49m\n\u001B[1;32m   6575\u001B[0m     \u001B[38;5;28;01mreturn\u001B[39;00m _result\n\u001B[1;32m   6576\u001B[0m   \u001B[38;5;28;01mexcept\u001B[39;00m _core\u001B[38;5;241m.\u001B[39m_NotOkStatusException \u001B[38;5;28;01mas\u001B[39;00m e:\n",
      "\u001B[0;31mKeyboardInterrupt\u001B[0m: "
     ]
    }
   ],
   "source": [
    "optimizer = tf.keras.optimizers.legacy.Adam(learning_rate=0.1e-5)\n",
    "epochs = 5\n",
    "min_val_loss = float('inf')\n",
    "num_epochs_no_improvement = 0\n",
    "current_learning_rate = optimizer.learning_rate.numpy()\n",
    "history = {\"loss\": [], \"val_loss\": [], \"accuracy\": [], \"val_accuracy\": []}\n",
    "\n",
    "for epoch in range(epochs):\n",
    "    print(f\"Epoch {epoch + 1}/{epochs}\")\n",
    "\n",
    "    total_loss = 0\n",
    "    total_supervised_loss = 0\n",
    "    total_consistency_loss = 0\n",
    "    total_accuracy = 0\n",
    "    total_precision = 0\n",
    "    total_recall = 0\n",
    "    total_f1_score = 0\n",
    "    steps = 0\n",
    "\n",
    "    total_batches = math.ceil(len(train_data) / batch_size)\n",
    "    with tqdm(total=total_batches, desc=\"Training\", ncols=100) as progress_bar:\n",
    "        for (x_batch, y_batch), (x_unlabeled, _) in zip(train_generator, unlabeled_generator):\n",
    "            progress_bar.update(1)\n",
    "            loss, supervised_loss, consistency_loss, accuracy, precision, recall, f1_score = apply_uda(x_batch,\n",
    "                                                                                                       y_batch,\n",
    "                                                                                                       x_unlabeled,\n",
    "                                                                                                       model_categorical,\n",
    "                                                                                                       optimizer,\n",
    "                                                                                                       class_weight_dict_cellType)\n",
    "            total_loss += loss\n",
    "            total_supervised_loss += supervised_loss\n",
    "            total_consistency_loss += consistency_loss\n",
    "            total_precision += precision\n",
    "            total_recall += recall\n",
    "            total_f1_score += f1_score\n",
    "            total_accuracy += tf.reduce_mean(accuracy)\n",
    "            steps += 1\n",
    "            # 检查是否已经处理了所有批次\n",
    "            if steps * batch_size >= len(train_data):\n",
    "                break\n",
    "\n",
    "        # 计算并打印平均损失和准确率\n",
    "        avg_loss = total_loss / steps\n",
    "        avg_supervised_loss = total_supervised_loss / steps\n",
    "        avg_consistency_loss = total_consistency_loss / steps\n",
    "        avg_accuracy = total_accuracy / steps\n",
    "        avg_precision = total_precision / steps\n",
    "        avg_recall = total_recall / steps\n",
    "        avg_f1_score = total_f1_score / steps\n",
    "\n",
    "        history[\"loss\"].append(avg_loss.numpy())\n",
    "        history[\"accuracy\"].append(avg_accuracy.numpy())\n",
    "        history[\"precision\"].append(avg_precision.numpy())\n",
    "        print(f\" - loss: {avg_loss.numpy():.4f}, supervised_loss: {avg_supervised_loss.numpy():.4f}, consistency_loss: {avg_consistency_loss.numpy():.4f}, accuracy: {avg_accuracy.numpy():.4f}\")\n",
    "\n",
    "    total_loss = 0\n",
    "    total_accuracy = 0\n",
    "    steps = 0\n",
    "    for x_batch, y_batch in validation_cellType_generator:\n",
    "        loss, _, _, accuracy = apply_uda(x_batch, y_batch, None, model_categorical, optimizer, False)\n",
    "        total_loss += loss\n",
    "        total_accuracy += tf.reduce_mean(accuracy)\n",
    "        steps += 1\n",
    "\n",
    "        if steps * batch_size >= len(test_data):\n",
    "            break\n",
    "\n",
    "    avg_loss = total_loss / steps\n",
    "    avg_accuracy = total_accuracy / steps\n",
    "    history[\"val_loss\"].append(avg_loss.numpy())\n",
    "    history[\"val_accuracy\"].append(avg_accuracy.numpy())\n",
    "    print(f\"Validation set： - loss: {avg_loss.numpy():.4f}, accuracy: {avg_accuracy.numpy():.4f}, learning rate: {current_learning_rate}\")\n",
    "\n",
    "    # 检查是否需要更新学习率\n",
    "    if avg_loss < min_val_loss:\n",
    "        min_val_loss = loss\n",
    "        num_epochs_no_improvement = 0\n",
    "    else:\n",
    "        num_epochs_no_improvement += 1\n",
    "\n",
    "    if num_epochs_no_improvement >= 3:\n",
    "        current_learning_rate *= np.sqrt(0.1)\n",
    "        current_learning_rate = max(current_learning_rate, 0.5e-15)\n",
    "        optimizer.learning_rate.assign(current_learning_rate)\n",
    "        num_epochs_no_improvement = 0"
   ],
   "metadata": {
    "collapsed": false,
    "ExecuteTime": {
     "start_time": "2023-05-01T19:33:19.633516Z",
     "end_time": "2023-05-01T19:35:25.587869Z"
    }
   }
  },
  {
   "cell_type": "code",
   "execution_count": 39,
   "outputs": [
    {
     "data": {
      "text/plain": "<Figure size 432x288 with 1 Axes>",
      "image/png": "[encoded data removed]"
     },
     "metadata": {
      "needs_background": "light"
     },
     "output_type": "display_data"
    }
   ],
   "source": [
    "train_accuracy = history['accuracy']\n",
    "val_accuracy = history['val_accuracy']\n",
    "\n",
    "epochs_range = range(1, epochs + 1)\n",
    "\n",
    "plt.plot(epochs_range, train_accuracy, label='Training Accuracy')\n",
    "plt.plot(epochs_range, val_accuracy, label='Validation Accuracy')\n",
    "\n",
    "plt.legend()\n",
    "plt.title('Training and Validation Accuracy in binary')\n",
    "plt.xlabel('Epoch')\n",
    "plt.ylabel('Accuracy')\n",
    "\n",
    "plt.show()"
   ],
   "metadata": {
    "collapsed": false,
    "ExecuteTime": {
     "start_time": "2023-05-01T19:35:34.625788Z",
     "end_time": "2023-05-01T19:35:34.705306Z"
    }
   }
  },
  {
   "cell_type": "code",
   "execution_count": 40,
   "outputs": [
    {
     "name": "stdout",
     "output_type": "stream",
     "text": [
      "62/62 [==============================] - 2s 25ms/step - loss: 0.9703 - accuracy: 0.8288\n",
      "Loss: 0.9703, Accuracy: 0.8288\n"
     ]
    }
   ],
   "source": [
    "loss, accuracy = model_categorical.evaluate(test_cellType_generator)\n",
    "print(f\"Loss: {loss:.4f}, Accuracy: {accuracy:.4f}\")"
   ],
   "metadata": {
    "collapsed": false,
    "ExecuteTime": {
     "start_time": "2023-05-01T19:35:36.733118Z",
     "end_time": "2023-05-01T19:35:38.496172Z"
    }
   }
  }
 ],
 "metadata": {
  "kernelspec": {
   "display_name": "Python 3",
   "language": "python",
   "name": "python3"
  },
  "language_info": {
   "codemirror_mode": {
    "name": "ipython",
    "version": 2
   },
   "file_extension": ".py",
   "mimetype": "text/x-python",
   "name": "python",
   "nbconvert_exporter": "python",
   "pygments_lexer": "ipython2",
   "version": "2.7.6"
  }
 },
 "nbformat": 4,
 "nbformat_minor": 0
}
